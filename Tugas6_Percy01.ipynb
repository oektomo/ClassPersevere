{
  "nbformat": 4,
  "nbformat_minor": 0,
  "metadata": {
    "colab": {
      "name": "Tugas6_Percy01.ipynb",
      "provenance": []
    },
    "kernelspec": {
      "name": "python3",
      "display_name": "Python 3"
    },
    "language_info": {
      "name": "python"
    }
  },
  "cells": [
    {
      "cell_type": "markdown",
      "source": [
        "# **Eka Novita Sari (Percy01)**"
      ],
      "metadata": {
        "id": "foaSkxyB_D0D"
      }
    },
    {
      "cell_type": "markdown",
      "source": [
        "## **Import Library**"
      ],
      "metadata": {
        "id": "x3N0R49aCHhN"
      }
    },
    {
      "cell_type": "code",
      "source": [
        "import pandas as pd\n",
        "import numpy as np\n",
        "import matplotlib.pyplot as plt\n",
        "from sklearn import preprocessing\n",
        "from scipy import stats\n",
        "from sklearn.neighbors import KNeighborsClassifier\n",
        "from sklearn import metrics\n",
        "%matplotlib inline"
      ],
      "metadata": {
        "id": "j9GrFn6lCMtV"
      },
      "execution_count": 1,
      "outputs": []
    },
    {
      "cell_type": "code",
      "execution_count": 7,
      "metadata": {
        "colab": {
          "base_uri": "https://localhost:8080/",
          "height": 255
        },
        "id": "-7h03m7J-9c_",
        "outputId": "8f9fbd80-250b-4825-d33f-ee2887cc8f44"
      },
      "outputs": [
        {
          "output_type": "stream",
          "name": "stdout",
          "text": [
            "(150, 4)\n"
          ]
        },
        {
          "output_type": "execute_result",
          "data": {
            "text/plain": [
              "             SepalLengthCm  SepalWidthCm  PetalLengthCm  PetalWidthCm\n",
              "Label                                                                \n",
              "Iris-setosa            5.1           3.5            1.4           0.2\n",
              "Iris-setosa            4.9           3.0            1.4           0.2\n",
              "Iris-setosa            4.7           3.2            1.3           0.2\n",
              "Iris-setosa            4.6           3.1            1.5           0.2\n",
              "Iris-setosa            5.0           3.6            1.4           0.2"
            ],
            "text/html": [
              "\n",
              "  <div id=\"df-336a1648-10d9-4417-9e54-ed276d15d90c\">\n",
              "    <div class=\"colab-df-container\">\n",
              "      <div>\n",
              "<style scoped>\n",
              "    .dataframe tbody tr th:only-of-type {\n",
              "        vertical-align: middle;\n",
              "    }\n",
              "\n",
              "    .dataframe tbody tr th {\n",
              "        vertical-align: top;\n",
              "    }\n",
              "\n",
              "    .dataframe thead th {\n",
              "        text-align: right;\n",
              "    }\n",
              "</style>\n",
              "<table border=\"1\" class=\"dataframe\">\n",
              "  <thead>\n",
              "    <tr style=\"text-align: right;\">\n",
              "      <th></th>\n",
              "      <th>SepalLengthCm</th>\n",
              "      <th>SepalWidthCm</th>\n",
              "      <th>PetalLengthCm</th>\n",
              "      <th>PetalWidthCm</th>\n",
              "    </tr>\n",
              "    <tr>\n",
              "      <th>Label</th>\n",
              "      <th></th>\n",
              "      <th></th>\n",
              "      <th></th>\n",
              "      <th></th>\n",
              "    </tr>\n",
              "  </thead>\n",
              "  <tbody>\n",
              "    <tr>\n",
              "      <th>Iris-setosa</th>\n",
              "      <td>5.1</td>\n",
              "      <td>3.5</td>\n",
              "      <td>1.4</td>\n",
              "      <td>0.2</td>\n",
              "    </tr>\n",
              "    <tr>\n",
              "      <th>Iris-setosa</th>\n",
              "      <td>4.9</td>\n",
              "      <td>3.0</td>\n",
              "      <td>1.4</td>\n",
              "      <td>0.2</td>\n",
              "    </tr>\n",
              "    <tr>\n",
              "      <th>Iris-setosa</th>\n",
              "      <td>4.7</td>\n",
              "      <td>3.2</td>\n",
              "      <td>1.3</td>\n",
              "      <td>0.2</td>\n",
              "    </tr>\n",
              "    <tr>\n",
              "      <th>Iris-setosa</th>\n",
              "      <td>4.6</td>\n",
              "      <td>3.1</td>\n",
              "      <td>1.5</td>\n",
              "      <td>0.2</td>\n",
              "    </tr>\n",
              "    <tr>\n",
              "      <th>Iris-setosa</th>\n",
              "      <td>5.0</td>\n",
              "      <td>3.6</td>\n",
              "      <td>1.4</td>\n",
              "      <td>0.2</td>\n",
              "    </tr>\n",
              "  </tbody>\n",
              "</table>\n",
              "</div>\n",
              "      <button class=\"colab-df-convert\" onclick=\"convertToInteractive('df-336a1648-10d9-4417-9e54-ed276d15d90c')\"\n",
              "              title=\"Convert this dataframe to an interactive table.\"\n",
              "              style=\"display:none;\">\n",
              "        \n",
              "  <svg xmlns=\"http://www.w3.org/2000/svg\" height=\"24px\"viewBox=\"0 0 24 24\"\n",
              "       width=\"24px\">\n",
              "    <path d=\"M0 0h24v24H0V0z\" fill=\"none\"/>\n",
              "    <path d=\"M18.56 5.44l.94 2.06.94-2.06 2.06-.94-2.06-.94-.94-2.06-.94 2.06-2.06.94zm-11 1L8.5 8.5l.94-2.06 2.06-.94-2.06-.94L8.5 2.5l-.94 2.06-2.06.94zm10 10l.94 2.06.94-2.06 2.06-.94-2.06-.94-.94-2.06-.94 2.06-2.06.94z\"/><path d=\"M17.41 7.96l-1.37-1.37c-.4-.4-.92-.59-1.43-.59-.52 0-1.04.2-1.43.59L10.3 9.45l-7.72 7.72c-.78.78-.78 2.05 0 2.83L4 21.41c.39.39.9.59 1.41.59.51 0 1.02-.2 1.41-.59l7.78-7.78 2.81-2.81c.8-.78.8-2.07 0-2.86zM5.41 20L4 18.59l7.72-7.72 1.47 1.35L5.41 20z\"/>\n",
              "  </svg>\n",
              "      </button>\n",
              "      \n",
              "  <style>\n",
              "    .colab-df-container {\n",
              "      display:flex;\n",
              "      flex-wrap:wrap;\n",
              "      gap: 12px;\n",
              "    }\n",
              "\n",
              "    .colab-df-convert {\n",
              "      background-color: #E8F0FE;\n",
              "      border: none;\n",
              "      border-radius: 50%;\n",
              "      cursor: pointer;\n",
              "      display: none;\n",
              "      fill: #1967D2;\n",
              "      height: 32px;\n",
              "      padding: 0 0 0 0;\n",
              "      width: 32px;\n",
              "    }\n",
              "\n",
              "    .colab-df-convert:hover {\n",
              "      background-color: #E2EBFA;\n",
              "      box-shadow: 0px 1px 2px rgba(60, 64, 67, 0.3), 0px 1px 3px 1px rgba(60, 64, 67, 0.15);\n",
              "      fill: #174EA6;\n",
              "    }\n",
              "\n",
              "    [theme=dark] .colab-df-convert {\n",
              "      background-color: #3B4455;\n",
              "      fill: #D2E3FC;\n",
              "    }\n",
              "\n",
              "    [theme=dark] .colab-df-convert:hover {\n",
              "      background-color: #434B5C;\n",
              "      box-shadow: 0px 1px 3px 1px rgba(0, 0, 0, 0.15);\n",
              "      filter: drop-shadow(0px 1px 2px rgba(0, 0, 0, 0.3));\n",
              "      fill: #FFFFFF;\n",
              "    }\n",
              "  </style>\n",
              "\n",
              "      <script>\n",
              "        const buttonEl =\n",
              "          document.querySelector('#df-336a1648-10d9-4417-9e54-ed276d15d90c button.colab-df-convert');\n",
              "        buttonEl.style.display =\n",
              "          google.colab.kernel.accessAllowed ? 'block' : 'none';\n",
              "\n",
              "        async function convertToInteractive(key) {\n",
              "          const element = document.querySelector('#df-336a1648-10d9-4417-9e54-ed276d15d90c');\n",
              "          const dataTable =\n",
              "            await google.colab.kernel.invokeFunction('convertToInteractive',\n",
              "                                                     [key], {});\n",
              "          if (!dataTable) return;\n",
              "\n",
              "          const docLinkHtml = 'Like what you see? Visit the ' +\n",
              "            '<a target=\"_blank\" href=https://colab.research.google.com/notebooks/data_table.ipynb>data table notebook</a>'\n",
              "            + ' to learn more about interactive tables.';\n",
              "          element.innerHTML = '';\n",
              "          dataTable['output_type'] = 'display_data';\n",
              "          await google.colab.output.renderOutput(dataTable, element);\n",
              "          const docLink = document.createElement('div');\n",
              "          docLink.innerHTML = docLinkHtml;\n",
              "          element.appendChild(docLink);\n",
              "        }\n",
              "      </script>\n",
              "    </div>\n",
              "  </div>\n",
              "  "
            ]
          },
          "metadata": {},
          "execution_count": 7
        }
      ],
      "source": [
        "url = 'https://raw.githubusercontent.com/oektomo/ClassPersevere/minggu4/dataset/iris.csv'\n",
        "ds = pd.read_csv(url, index_col=['Label'])\n",
        "print(ds.shape)\n",
        "ds.head()"
      ]
    },
    {
      "cell_type": "code",
      "source": [
        "ds.keys()"
      ],
      "metadata": {
        "colab": {
          "base_uri": "https://localhost:8080/"
        },
        "id": "TKIkH0oGGdBS",
        "outputId": "26ae54ff-26aa-450a-f527-e042c4fdce4d"
      },
      "execution_count": 9,
      "outputs": [
        {
          "output_type": "execute_result",
          "data": {
            "text/plain": [
              "Index(['SepalLengthCm', 'SepalWidthCm', 'PetalLengthCm', 'PetalWidthCm'], dtype='object')"
            ]
          },
          "metadata": {},
          "execution_count": 9
        }
      ]
    },
    {
      "cell_type": "code",
      "source": [
        "x = ds[['SepalLengthCm', 'SepalWidthCm', 'PetalLengthCm', 'PetalWidthCm']]\n",
        "x.shape"
      ],
      "metadata": {
        "colab": {
          "base_uri": "https://localhost:8080/"
        },
        "id": "_WdmQipSIjX4",
        "outputId": "f04d7054-93e1-49ca-becf-0210169cf18c"
      },
      "execution_count": 44,
      "outputs": [
        {
          "output_type": "execute_result",
          "data": {
            "text/plain": [
              "(150, 4)"
            ]
          },
          "metadata": {},
          "execution_count": 44
        }
      ]
    },
    {
      "cell_type": "markdown",
      "source": [
        "## **Histogram Sebelum Normalisasi**"
      ],
      "metadata": {
        "id": "5Dj1I82ZHfuk"
      }
    },
    {
      "cell_type": "code",
      "source": [
        "for a in x.columns:\n",
        "  plt.figure()\n",
        "  plt.title(f\"{a}\")\n",
        "  plt.hist(x[a], 100, color=\"green\")"
      ],
      "metadata": {
        "colab": {
          "base_uri": "https://localhost:8080/",
          "height": 1000
        },
        "id": "Roe7j4E9Hk2s",
        "outputId": "33580c37-784a-4d50-b41e-fe7e6e5a0c9d"
      },
      "execution_count": 52,
      "outputs": [
        {
          "output_type": "display_data",
          "data": {
            "text/plain": [
              "<Figure size 432x288 with 1 Axes>"
            ],
            "image/png": "[encoded data removed]"
          },
          "metadata": {
            "needs_background": "light"
          }
        },
        {
          "output_type": "display_data",
          "data": {
            "text/plain": [
              "<Figure size 432x288 with 1 Axes>"
            ],
            "image/png": "[encoded data removed]"
          },
          "metadata": {
            "needs_background": "light"
          }
        },
        {
          "output_type": "display_data",
          "data": {
            "text/plain": [
              "<Figure size 432x288 with 1 Axes>"
            ],
            "image/png": "[encoded data removed]"
          },
          "metadata": {
            "needs_background": "light"
          }
        },
        {
          "output_type": "display_data",
          "data": {
            "text/plain": [
              "<Figure size 432x288 with 1 Axes>"
            ],
            "image/png": "[encoded data removed]"
          },
          "metadata": {
            "needs_background": "light"
          }
        }
      ]
    },
    {
      "cell_type": "markdown",
      "source": [
        "## **Range Sebelum Normalisasi**"
      ],
      "metadata": {
        "id": "rCP3UyDVLKRU"
      }
    },
    {
      "cell_type": "code",
      "source": [
        "range_seb_norm = []\n",
        "for a in x.columns:\n",
        "  range_seb_norm.append(x[a].max() - x[a].min())\n",
        "print(range_seb_norm)"
      ],
      "metadata": {
        "colab": {
          "base_uri": "https://localhost:8080/"
        },
        "id": "D8ffluqpLIue",
        "outputId": "763ad954-2575-42d5-d891-2cc7fb0a5d53"
      },
      "execution_count": 46,
      "outputs": [
        {
          "output_type": "stream",
          "name": "stdout",
          "text": [
            "[3.6000000000000005, 2.4000000000000004, 5.9, 2.4]\n"
          ]
        }
      ]
    },
    {
      "cell_type": "markdown",
      "source": [
        "## **Normalisasi**"
      ],
      "metadata": {
        "id": "crNQEmmJL4-3"
      }
    },
    {
      "cell_type": "code",
      "source": [
        "x_norm = preprocessing.StandardScaler().fit(x).transform(x.astype(int))\n",
        "x_norm"
      ],
      "metadata": {
        "colab": {
          "base_uri": "https://localhost:8080/"
        },
        "id": "Zetz2TTvL3-S",
        "outputId": "9e92ff53-a66b-458e-cb95-8b0dd49539e0"
      },
      "execution_count": 47,
      "outputs": [
        {
          "output_type": "execute_result",
          "data": {
            "text/plain": [
              "array([[-1.02184904, -0.1249576 , -1.56873522, -1.57592267],\n",
              "       [-2.23352775, -0.1249576 , -1.56873522, -1.57592267],\n",
              "       [-2.23352775, -0.1249576 , -1.56873522, -1.57592267],\n",
              "       [-2.23352775, -0.1249576 , -1.56873522, -1.57592267],\n",
              "       [-1.02184904, -0.1249576 , -1.56873522, -1.57592267],\n",
              "       [-1.02184904, -0.1249576 , -1.56873522, -1.57592267],\n",
              "       [-2.23352775, -0.1249576 , -1.56873522, -1.57592267],\n",
              "       [-1.02184904, -0.1249576 , -1.56873522, -1.57592267],\n",
              "       [-2.23352775, -2.43898725, -1.56873522, -1.57592267],\n",
              "       [-2.23352775, -0.1249576 , -1.56873522, -1.57592267],\n",
              "       [-1.02184904, -0.1249576 , -1.56873522, -1.57592267],\n",
              "       [-2.23352775, -0.1249576 , -1.56873522, -1.57592267],\n",
              "       [-2.23352775, -0.1249576 , -1.56873522, -1.57592267],\n",
              "       [-2.23352775, -0.1249576 , -1.56873522, -1.57592267],\n",
              "       [-1.02184904,  2.18907205, -1.56873522, -1.57592267],\n",
              "       [-1.02184904,  2.18907205, -1.56873522, -1.57592267],\n",
              "       [-1.02184904, -0.1249576 , -1.56873522, -1.57592267],\n",
              "       [-1.02184904, -0.1249576 , -1.56873522, -1.57592267],\n",
              "       [-1.02184904, -0.1249576 , -1.56873522, -1.57592267],\n",
              "       [-1.02184904, -0.1249576 , -1.56873522, -1.57592267],\n",
              "       [-1.02184904, -0.1249576 , -1.56873522, -1.57592267],\n",
              "       [-1.02184904, -0.1249576 , -1.56873522, -1.57592267],\n",
              "       [-2.23352775, -0.1249576 , -1.56873522, -1.57592267],\n",
              "       [-1.02184904, -0.1249576 , -1.56873522, -1.57592267],\n",
              "       [-2.23352775, -0.1249576 , -1.56873522, -1.57592267],\n",
              "       [-1.02184904, -0.1249576 , -1.56873522, -1.57592267],\n",
              "       [-1.02184904, -0.1249576 , -1.56873522, -1.57592267],\n",
              "       [-1.02184904, -0.1249576 , -1.56873522, -1.57592267],\n",
              "       [-1.02184904, -0.1249576 , -1.56873522, -1.57592267],\n",
              "       [-2.23352775, -0.1249576 , -1.56873522, -1.57592267],\n",
              "       [-2.23352775, -0.1249576 , -1.56873522, -1.57592267],\n",
              "       [-1.02184904, -0.1249576 , -1.56873522, -1.57592267],\n",
              "       [-1.02184904,  2.18907205, -1.56873522, -1.57592267],\n",
              "       [-1.02184904,  2.18907205, -1.56873522, -1.57592267],\n",
              "       [-2.23352775, -0.1249576 , -1.56873522, -1.57592267],\n",
              "       [-1.02184904, -0.1249576 , -1.56873522, -1.57592267],\n",
              "       [-1.02184904, -0.1249576 , -1.56873522, -1.57592267],\n",
              "       [-2.23352775, -0.1249576 , -1.56873522, -1.57592267],\n",
              "       [-2.23352775, -0.1249576 , -1.56873522, -1.57592267],\n",
              "       [-1.02184904, -0.1249576 , -1.56873522, -1.57592267],\n",
              "       [-1.02184904, -0.1249576 , -1.56873522, -1.57592267],\n",
              "       [-2.23352775, -2.43898725, -1.56873522, -1.57592267],\n",
              "       [-2.23352775, -0.1249576 , -1.56873522, -1.57592267],\n",
              "       [-1.02184904, -0.1249576 , -1.56873522, -1.57592267],\n",
              "       [-1.02184904, -0.1249576 , -1.56873522, -1.57592267],\n",
              "       [-2.23352775, -0.1249576 , -1.56873522, -1.57592267],\n",
              "       [-1.02184904, -0.1249576 , -1.56873522, -1.57592267],\n",
              "       [-2.23352775, -0.1249576 , -1.56873522, -1.57592267],\n",
              "       [-1.02184904, -0.1249576 , -1.56873522, -1.57592267],\n",
              "       [-1.02184904, -0.1249576 , -1.56873522, -1.57592267],\n",
              "       [ 1.40150837, -0.1249576 ,  0.1372359 , -0.26119297],\n",
              "       [ 0.18982966, -0.1249576 ,  0.1372359 , -0.26119297],\n",
              "       [ 0.18982966, -0.1249576 ,  0.1372359 , -0.26119297],\n",
              "       [-1.02184904, -2.43898725,  0.1372359 , -0.26119297],\n",
              "       [ 0.18982966, -2.43898725,  0.1372359 , -0.26119297],\n",
              "       [-1.02184904, -2.43898725,  0.1372359 , -0.26119297],\n",
              "       [ 0.18982966, -0.1249576 ,  0.1372359 , -0.26119297],\n",
              "       [-2.23352775, -2.43898725, -0.43142114, -0.26119297],\n",
              "       [ 0.18982966, -2.43898725,  0.1372359 , -0.26119297],\n",
              "       [-1.02184904, -2.43898725, -0.43142114, -0.26119297],\n",
              "       [-1.02184904, -2.43898725, -0.43142114, -0.26119297],\n",
              "       [-1.02184904, -0.1249576 ,  0.1372359 , -0.26119297],\n",
              "       [ 0.18982966, -2.43898725,  0.1372359 , -0.26119297],\n",
              "       [ 0.18982966, -2.43898725,  0.1372359 , -0.26119297],\n",
              "       [-1.02184904, -2.43898725, -0.43142114, -0.26119297],\n",
              "       [ 0.18982966, -0.1249576 ,  0.1372359 , -0.26119297],\n",
              "       [-1.02184904, -0.1249576 ,  0.1372359 , -0.26119297],\n",
              "       [-1.02184904, -2.43898725,  0.1372359 , -0.26119297],\n",
              "       [ 0.18982966, -2.43898725,  0.1372359 , -0.26119297],\n",
              "       [-1.02184904, -2.43898725, -0.43142114, -0.26119297],\n",
              "       [-1.02184904, -0.1249576 ,  0.1372359 , -0.26119297],\n",
              "       [ 0.18982966, -2.43898725,  0.1372359 , -0.26119297],\n",
              "       [ 0.18982966, -2.43898725,  0.1372359 , -0.26119297],\n",
              "       [ 0.18982966, -2.43898725,  0.1372359 , -0.26119297],\n",
              "       [ 0.18982966, -2.43898725,  0.1372359 , -0.26119297],\n",
              "       [ 0.18982966, -0.1249576 ,  0.1372359 , -0.26119297],\n",
              "       [ 0.18982966, -2.43898725,  0.1372359 , -0.26119297],\n",
              "       [ 0.18982966, -0.1249576 ,  0.70589294, -0.26119297],\n",
              "       [ 0.18982966, -2.43898725,  0.1372359 , -0.26119297],\n",
              "       [-1.02184904, -2.43898725, -0.43142114, -0.26119297],\n",
              "       [-1.02184904, -2.43898725, -0.43142114, -0.26119297],\n",
              "       [-1.02184904, -2.43898725, -0.43142114, -0.26119297],\n",
              "       [-1.02184904, -2.43898725, -0.43142114, -0.26119297],\n",
              "       [ 0.18982966, -2.43898725,  0.70589294, -0.26119297],\n",
              "       [-1.02184904, -0.1249576 ,  0.1372359 , -0.26119297],\n",
              "       [ 0.18982966, -0.1249576 ,  0.1372359 , -0.26119297],\n",
              "       [ 0.18982966, -0.1249576 ,  0.1372359 , -0.26119297],\n",
              "       [ 0.18982966, -2.43898725,  0.1372359 , -0.26119297],\n",
              "       [-1.02184904, -0.1249576 ,  0.1372359 , -0.26119297],\n",
              "       [-1.02184904, -2.43898725,  0.1372359 , -0.26119297],\n",
              "       [-1.02184904, -2.43898725,  0.1372359 , -0.26119297],\n",
              "       [ 0.18982966, -0.1249576 ,  0.1372359 , -0.26119297],\n",
              "       [-1.02184904, -2.43898725,  0.1372359 , -0.26119297],\n",
              "       [-1.02184904, -2.43898725, -0.43142114, -0.26119297],\n",
              "       [-1.02184904, -2.43898725,  0.1372359 , -0.26119297],\n",
              "       [-1.02184904, -0.1249576 ,  0.1372359 , -0.26119297],\n",
              "       [-1.02184904, -2.43898725,  0.1372359 , -0.26119297],\n",
              "       [ 0.18982966, -2.43898725,  0.1372359 , -0.26119297],\n",
              "       [-1.02184904, -2.43898725, -0.43142114, -0.26119297],\n",
              "       [-1.02184904, -2.43898725,  0.1372359 , -0.26119297],\n",
              "       [ 0.18982966, -0.1249576 ,  1.27454998,  1.05353673],\n",
              "       [-1.02184904, -2.43898725,  0.70589294, -0.26119297],\n",
              "       [ 1.40150837, -0.1249576 ,  0.70589294,  1.05353673],\n",
              "       [ 0.18982966, -2.43898725,  0.70589294, -0.26119297],\n",
              "       [ 0.18982966, -0.1249576 ,  0.70589294,  1.05353673],\n",
              "       [ 1.40150837, -0.1249576 ,  1.27454998,  1.05353673],\n",
              "       [-2.23352775, -2.43898725,  0.1372359 , -0.26119297],\n",
              "       [ 1.40150837, -2.43898725,  1.27454998, -0.26119297],\n",
              "       [ 0.18982966, -2.43898725,  0.70589294, -0.26119297],\n",
              "       [ 1.40150837, -0.1249576 ,  1.27454998,  1.05353673],\n",
              "       [ 0.18982966, -0.1249576 ,  0.70589294,  1.05353673],\n",
              "       [ 0.18982966, -2.43898725,  0.70589294, -0.26119297],\n",
              "       [ 0.18982966, -0.1249576 ,  0.70589294,  1.05353673],\n",
              "       [-1.02184904, -2.43898725,  0.70589294,  1.05353673],\n",
              "       [-1.02184904, -2.43898725,  0.70589294,  1.05353673],\n",
              "       [ 0.18982966, -0.1249576 ,  0.70589294,  1.05353673],\n",
              "       [ 0.18982966, -0.1249576 ,  0.70589294, -0.26119297],\n",
              "       [ 1.40150837, -0.1249576 ,  1.27454998,  1.05353673],\n",
              "       [ 1.40150837, -2.43898725,  1.27454998,  1.05353673],\n",
              "       [ 0.18982966, -2.43898725,  0.70589294, -0.26119297],\n",
              "       [ 0.18982966, -0.1249576 ,  0.70589294,  1.05353673],\n",
              "       [-1.02184904, -2.43898725,  0.1372359 ,  1.05353673],\n",
              "       [ 1.40150837, -2.43898725,  1.27454998,  1.05353673],\n",
              "       [ 0.18982966, -2.43898725,  0.1372359 , -0.26119297],\n",
              "       [ 0.18982966, -0.1249576 ,  0.70589294,  1.05353673],\n",
              "       [ 1.40150837, -0.1249576 ,  1.27454998, -0.26119297],\n",
              "       [ 0.18982966, -2.43898725,  0.1372359 , -0.26119297],\n",
              "       [ 0.18982966, -0.1249576 ,  0.1372359 , -0.26119297],\n",
              "       [ 0.18982966, -2.43898725,  0.70589294,  1.05353673],\n",
              "       [ 1.40150837, -0.1249576 ,  0.70589294, -0.26119297],\n",
              "       [ 1.40150837, -2.43898725,  1.27454998, -0.26119297],\n",
              "       [ 1.40150837, -0.1249576 ,  1.27454998,  1.05353673],\n",
              "       [ 0.18982966, -2.43898725,  0.70589294,  1.05353673],\n",
              "       [ 0.18982966, -2.43898725,  0.70589294, -0.26119297],\n",
              "       [ 0.18982966, -2.43898725,  0.70589294, -0.26119297],\n",
              "       [ 1.40150837, -0.1249576 ,  1.27454998,  1.05353673],\n",
              "       [ 0.18982966, -0.1249576 ,  0.70589294,  1.05353673],\n",
              "       [ 0.18982966, -0.1249576 ,  0.70589294, -0.26119297],\n",
              "       [ 0.18982966, -0.1249576 ,  0.1372359 , -0.26119297],\n",
              "       [ 0.18982966, -0.1249576 ,  0.70589294,  1.05353673],\n",
              "       [ 0.18982966, -0.1249576 ,  0.70589294,  1.05353673],\n",
              "       [ 0.18982966, -0.1249576 ,  0.70589294,  1.05353673],\n",
              "       [-1.02184904, -2.43898725,  0.70589294, -0.26119297],\n",
              "       [ 0.18982966, -0.1249576 ,  0.70589294,  1.05353673],\n",
              "       [ 0.18982966, -0.1249576 ,  0.70589294,  1.05353673],\n",
              "       [ 0.18982966, -0.1249576 ,  0.70589294,  1.05353673],\n",
              "       [ 0.18982966, -2.43898725,  0.70589294, -0.26119297],\n",
              "       [ 0.18982966, -0.1249576 ,  0.70589294,  1.05353673],\n",
              "       [ 0.18982966, -0.1249576 ,  0.70589294,  1.05353673],\n",
              "       [-1.02184904, -0.1249576 ,  0.70589294, -0.26119297]])"
            ]
          },
          "metadata": {},
          "execution_count": 47
        }
      ]
    },
    {
      "cell_type": "markdown",
      "source": [
        "## **Histogram Setelah Normalisasi**"
      ],
      "metadata": {
        "id": "JuvLfF_6MLGK"
      }
    },
    {
      "cell_type": "code",
      "source": [
        "a = 0\n",
        "while a < 4:\n",
        "  plt.figure()\n",
        "  plt.hist(x_norm[a], 100, color=\"blue\")\n",
        "  a+=1"
      ],
      "metadata": {
        "colab": {
          "base_uri": "https://localhost:8080/",
          "height": 1000
        },
        "id": "WR9uqUCvMKgQ",
        "outputId": "b7344f01-e095-479d-de26-cf6221fcd2e3"
      },
      "execution_count": 61,
      "outputs": [
        {
          "output_type": "display_data",
          "data": {
            "text/plain": [
              "<Figure size 432x288 with 1 Axes>"
            ],
            "image/png": "[encoded data removed]"
          },
          "metadata": {
            "needs_background": "light"
          }
        },
        {
          "output_type": "display_data",
          "data": {
            "text/plain": [
              "<Figure size 432x288 with 1 Axes>"
            ],
            "image/png": "[encoded data removed]"
          },
          "metadata": {
            "needs_background": "light"
          }
        },
        {
          "output_type": "display_data",
          "data": {
            "text/plain": [
              "<Figure size 432x288 with 1 Axes>"
            ],
            "image/png": "[encoded data removed]"
          },
          "metadata": {
            "needs_background": "light"
          }
        },
        {
          "output_type": "display_data",
          "data": {
            "text/plain": [
              "<Figure size 432x288 with 1 Axes>"
            ],
            "image/png": "[encoded data removed]"
          },
          "metadata": {
            "needs_background": "light"
          }
        }
      ]
    },
    {
      "cell_type": "code",
      "source": [
        "y = 0\n",
        "while y < 4:\n",
        "  print(f\"Range setelah normalisasi{x.columns[y]} = {x_norm[y].max() - x_norm[y].min()}\")\n",
        "  y+=1"
      ],
      "metadata": {
        "colab": {
          "base_uri": "https://localhost:8080/"
        },
        "id": "vOt3t4vzNkZj",
        "outputId": "f0621d2c-9d75-40e3-e595-bc798f74b14f"
      },
      "execution_count": 58,
      "outputs": [
        {
          "output_type": "stream",
          "name": "stdout",
          "text": [
            "Range setelah normalisasiSepalLengthCm = 1.4509650661275832\n",
            "Range setelah normalisasiSepalWidthCm = 2.1085701440066633\n",
            "Range setelah normalisasiPetalLengthCm = 2.1085701440066633\n",
            "Range setelah normalisasiPetalWidthCm = 2.1085701440066633\n"
          ]
        }
      ]
    },
    {
      "cell_type": "code",
      "source": [
        "index = 0\n",
        "for a in range_seb_norm:\n",
        "  print(f\"Range sebelum normalisasi{x.columns[index]} = {a}\")\n",
        "  index+=1"
      ],
      "metadata": {
        "colab": {
          "base_uri": "https://localhost:8080/"
        },
        "id": "T0Ivm4VbO0VU",
        "outputId": "f36184cb-29ce-4c8f-8a28-b2f77cf8f14d"
      },
      "execution_count": 60,
      "outputs": [
        {
          "output_type": "stream",
          "name": "stdout",
          "text": [
            "Range sebelum normalisasiSepalLengthCm = 3.6000000000000005\n",
            "Range sebelum normalisasiSepalWidthCm = 2.4000000000000004\n",
            "Range sebelum normalisasiPetalLengthCm = 5.9\n",
            "Range sebelum normalisasiPetalWidthCm = 2.4\n"
          ]
        }
      ]
    },
    {
      "cell_type": "markdown",
      "source": [
        "## **Kesimpulan**\n",
        "\n",
        "Terjadi perubahan pada barplot pada histogram dan jangkauan nilai pada range sebelum dan sesudah normalisasi."
      ],
      "metadata": {
        "id": "az-rxFikPG87"
      }
    }
  ]
}