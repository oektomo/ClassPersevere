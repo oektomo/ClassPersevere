{
 "cells": [
  {
   "cell_type": "markdown",
   "id": "a79d64fa",
   "metadata": {},
   "source": [
    "# Python OOP"
   ]
  },
  {
   "cell_type": "markdown",
   "id": "f47dcc72",
   "metadata": {},
   "source": [
    "### 1. Apa itu OOP dan cobalah buat 2 implementasi konsep OOP menggunakan python!\n",
    "Object Oriented Programming (OOP) adalah suatu paradigma pemrograman / pemrograman terstruktur yang berorientasi pada konsep class (kelas) dan object (objek). Konsep ini sering kali digunakan dalam menyusun aplikasi menjadi kode yang sederhana dan dapat digunakan kembali (reuseable)."
   ]
  },
  {
   "cell_type": "code",
   "execution_count": 7,
   "id": "a1828006",
   "metadata": {},
   "outputs": [],
   "source": [
    "#implementasi OOP menggunakan python\n",
    "#Encapsulation\n",
    "class Gaji:\n",
    "    def __init__(self, nama, posisi, gaji, jam):\n",
    "        try:\n",
    "            self.nama = nama\n",
    "            self.posisi = posisi\n",
    "            self.gaji = gaji\n",
    "            self.jam = jam\n",
    "            self.lembur = 300000\n",
    "            self.total_gaji = 0       \n",
    "        except Exception as eror:\n",
    "            print(eror)\n",
    "        \n",
    "    def pendapatan(self):\n",
    "        self.total_gaji = (self.gaji + (self.lembur*self.jam))\n",
    "        \n",
    "    def print_gaji(self):\n",
    "        print(f\" {self.nama} dengan posisi {self.posisi} memiliki gaji total {self.total_gaji} \")"
   ]
  },
  {
   "cell_type": "code",
   "execution_count": 12,
   "id": "0839a86d",
   "metadata": {},
   "outputs": [],
   "source": [
    "ilham = Gaji(\"Ilham\",\"Front End Developers\",4000000,4)"
   ]
  },
  {
   "cell_type": "code",
   "execution_count": 13,
   "id": "bdc21f42",
   "metadata": {},
   "outputs": [],
   "source": [
    "ilham.pendapatan()"
   ]
  },
  {
   "cell_type": "code",
   "execution_count": 14,
   "id": "1b67eb9e",
   "metadata": {},
   "outputs": [
    {
     "name": "stdout",
     "output_type": "stream",
     "text": [
      " Ilham dengan posisi Front End Developers memiliki gaji total 5200000 \n"
     ]
    }
   ],
   "source": [
    "ilham.print_gaji()"
   ]
  },
  {
   "cell_type": "code",
   "execution_count": 20,
   "id": "58c883ef",
   "metadata": {},
   "outputs": [
    {
     "name": "stdout",
     "output_type": "stream",
     "text": [
      "Nama: Fauzi, Usia: 20\n",
      "Gaji: 5200000\n"
     ]
    }
   ],
   "source": [
    "#Inheritence\n",
    "class Pekerja:\n",
    "    def __init__(self, nama, usia):\n",
    "        self.nama = nama\n",
    "        self.usia = usia\n",
    "    \n",
    "    def info(self):\n",
    "        print(f\"Nama: {self.nama}, Usia: {self.usia}\")\n",
    "        \n",
    "class front_end_developers(Pekerja):\n",
    "    def __init__(self, nama, usia, gaji):\n",
    "        super().__init__(nama, usia)\n",
    "        self.gaji = gaji\n",
    "        \n",
    "    def info_gaji(self):\n",
    "        print(f\"Gaji: {self.gaji}\")\n",
    "        \n",
    "fed1 = front_end_developers(\"Fauzi\", 20, 5200000)\n",
    "\n",
    "fed1.info()\n",
    "fed1.info_gaji()"
   ]
  },
  {
   "cell_type": "markdown",
   "id": "9938efe0",
   "metadata": {},
   "source": [
    "### 2. Sebut dan jelaskan 2 modul yang ada di python !\n",
    "a. Pandas adalah library kedua yang wajib dipelajari pemula dalam belajar Python. Dengan berdasarkan sistem dataframe, modul ini dapat memuat sebuah file ke dalam tabel virtual menyerupai spreadsheet. Pandas juga berfungsi mengolah suatu data seperti teknik join, distinct, group by, agregasi, dan teknik lainnya seperti pada SQL. Bedanya, ini dilakukan pada tabel. Kelebihan dari library ini juga dapat membaca file dari berbagai format seperti .txt, .csv, dan .tsv.\n",
    "\n",
    "b. Matplotlib adalah data yang telah diolah akan sebaiknya ditampilkan sejelas dan sebagus mungkin. Library Matplotlib ini akan membantu dalam menampilkan hasil analisis berupa grafik berwarna dengan lebih rapi dan menarik. Ada dua jenis plot dalam menampilkan data yaitu secara 2D dan 3D. Sehingga data bisa ditampilkan sesuai dengan kebutuhan. Matplotlib ini merupakan library yang paling sering digunakan oleh data science dalam menyajikan datanya ke dalam visual yang lebih menarik."
   ]
  },
  {
   "cell_type": "markdown",
   "id": "5306b1de",
   "metadata": {},
   "source": [
    "### 3. Hitunglah berapa hasil dari √175 + 4√7 + (1/3) + ³log 81 menggunakan module math!"
   ]
  },
  {
   "cell_type": "code",
   "execution_count": 2,
   "id": "b779079d",
   "metadata": {},
   "outputs": [],
   "source": [
    "import math as m"
   ]
  },
  {
   "cell_type": "code",
   "execution_count": 3,
   "id": "537675cd",
   "metadata": {},
   "outputs": [
    {
     "name": "stdout",
     "output_type": "stream",
     "text": [
      "28.145095132914648\n"
     ]
    }
   ],
   "source": [
    "print(m.sqrt(175)+(4*m.sqrt(7))+(1/3)+m.log(81,3))"
   ]
  },
  {
   "cell_type": "markdown",
   "id": "a8337951",
   "metadata": {},
   "source": [
    "### 4. Apa itu custom exception handling dan berikan 1 contoh implementasinya!\n",
    "\n",
    "Exception handling adalah ketika kesalahan terjadi, atau exception seperti yang biasa disebut, Python biasanya akan berhenti dan menghasilkan pesan kesalahan. Exception ini dapat ditangani menggunakan pernyataan try. Karena blok try menghasilkan kesalahan, blok except akan dieksekusi."
   ]
  },
  {
   "cell_type": "code",
   "execution_count": 1,
   "id": "e49d595d",
   "metadata": {},
   "outputs": [
    {
     "name": "stdout",
     "output_type": "stream",
     "text": [
      "masukkan nilai penyebut : 21\n",
      "21\n"
     ]
    }
   ],
   "source": [
    "try:\n",
    "  a = int(input(\"masukkan nilai penyebut : \"))\n",
    "  b = 21\n",
    "except Exception as error:\n",
    "  print(error)\n",
    "print(b)"
   ]
  },
  {
   "cell_type": "markdown",
   "id": "26d01ff0",
   "metadata": {},
   "source": [
    "# Artificial Intelligence \n"
   ]
  },
  {
   "cell_type": "markdown",
   "id": "09e8f5fa",
   "metadata": {},
   "source": [
    "### 1. Apa perbedaan dari structured dan unstructured data dan sebutkan 3 sumber data! \n",
    "\n",
    "#### Structured data \n",
    "Jenis data structured (data tradisional) dapat diproses, disimpan, dan diambil dalam format tetap. Jenis data ini disimpan dalam bentuk tabel, baris dan kolom yang normalnya disimpan dalam excel atau spreadsheet, dimana informasi pada data sangat terorganisir dan dapat dengan mudah diakses dari database dengan algoritma mesin pencari sederhana.\n",
    "\n",
    "Contoh data terstruktur adalah, data sensor, data penjualan pada suatu perusahaan, data karyawan dalam database perusahaan dengan detail yang terstruktur seperti detail data diri karyawan, posisi pekerjaan, gaji, dan lainnya ditampilkan secara terorganisir.\n",
    "\n",
    "#### Unstructured data\n",
    "Jenis data unstructured adalah data dengan bentuk yang tidak dikenal, harus disimpan dengan format khusus karena tidak memiliki struktur yang spesifik seperti jenis data structured. Raw data dari jenis data ini hanya dapat menghasilkan nilai setelah diproses dan dianalisa. Menyimpan data jenis ini pun memiliki kerumitan seperti memerlukan penggunaan sistem penyimpanan yang memadai, seperti database NoSQL (MongoDB dan CouchDB).\n",
    "\n",
    "Contoh jenis data tidak terstruktur seperti data teks, berformat foto atau gambar, video, atau suara. Selain itu, bisa juga dalam bentuk keluhan pelanggan, kontrak, ataupun email internal. Contoh dari data jenis ini dapat ditemukan dalam social media, seperti komentar, likes, followers, dan data click pada setiap aktivitas di akun media sosialmu.\n",
    "\n",
    "#### 3 Sumber data\n",
    "- PGD atau data yang dihasilkan dari manusia\n",
    "- MGD atau data yang dihasilkan mesin\n",
    "- OGD atau data yang dihasilkan dari sebuah organiasi"
   ]
  },
  {
   "cell_type": "markdown",
   "id": "c20564a2",
   "metadata": {},
   "source": [
    "### 2. Jelaskan perbedaan AI, Machine Learning dan Deep Learning!\n",
    "\n",
    "#### Artificial Intelligence\n",
    "Artificial Intelligence (kecerdasan buatan – AI) merupakan teknologi masa kini yang konsepnya “membawa kepintaran manusia ke dalam mesin.” Mungkin ini terdengar tidak masuk akal, mengingat kekompleksan cara berpikir manusia.\n",
    "\n",
    "#### Machine Learning\n",
    "Machine Learning adalah bagian dari implementasi Artificial Intelligence. Machine Learning merupakan metode pembelajaran AI yang memanfaatkan data untuk membuat prediksi layaknya manusia.\n",
    "\n",
    "#### Deep Learning\n",
    "Deep Learning merujuk pada salah satu algoritma yang digunakan oleh Machine Learning dalam Artificial Intelligence. Deep Learning memanfaatkan berbagai variable kompleks dalam analisisnya, sehingga mesin bisa memahami suatu pola atau kebiasaan yang timbul dari suatu kejadian.\n"
   ]
  },
  {
   "cell_type": "markdown",
   "id": "b3d56eb3",
   "metadata": {},
   "source": [
    "### 3. Apa perbedaan Machine Learning dengan Tradisional software?\n",
    "Machine learning dibuat dengan input yang diberikan yaitu data dan output yang akan menghasilkan sebuah program, sedangkan untuk traditional software dibuat dengan input yang diberikan berupa data dan program yang nantinya akan menghasilkan sebuah output.\n"
   ]
  },
  {
   "cell_type": "markdown",
   "id": "cb934960",
   "metadata": {},
   "source": [
    "### 4.  Sebutkan 3 contoh aplikasi Machine Learning di sektor smart city dan agriculture!\n",
    "\n",
    "#### Sektor smart city\n",
    "- mCity : Sebuah aplikasi City Directory yang bisa diakses melalui smartphone.\n",
    "- Qlue : Aplikasi yang digunakan di DKI Jakarta.\n",
    "- LAPOR! : Sarana aspirasi dan pengaduan berbasis media sosial pertama dengan lingkup Indonesia.\n",
    "\n",
    "#### Sektor agriculture\n",
    "- Traktor autonom : Traktor membajak kebuk dengan mandiri\n",
    "- E-fishery : Pemberian pakan ikan otomatis\n",
    "- Rice Transplanter : Penanaman padi secara autonom yang dilakukan di china\n"
   ]
  },
  {
   "cell_type": "markdown",
   "id": "651a37ff",
   "metadata": {},
   "source": [
    "# Math for AI"
   ]
  },
  {
   "cell_type": "markdown",
   "id": "a60e8910",
   "metadata": {},
   "source": [
    "### 1. Mengapa ilmu matematika penting ketika mempelajari AI?\n",
    "Karena untuk mempelajari machine learning algoritmanya sendiri berdasarkan ilmu matematika."
   ]
  },
  {
   "cell_type": "markdown",
   "id": "d78e7368",
   "metadata": {},
   "source": [
    "### 2. Jelaskan perbedaan vektor dan skalar!\n",
    "Vektor adalah besaran yang merepresentasikan dengan nilai dan arah, sedangkan skalar adalah besaran yang merepresentasikan nilai saja"
   ]
  },
  {
   "cell_type": "markdown",
   "id": "702f3e67",
   "metadata": {},
   "source": [
    "### 3. Apa perbedaan dari Jarak Euclidean dan Manhattan?\n",
    "#### Eucledian \n",
    "Metode perhitungan jarak yang paling sering digunakan untuk menghitung kesamaan dua buah vektor.\n",
    "#### Manhattan\n",
    "Metode perhitungan jumlah jarak dari semua attribute."
   ]
  },
  {
   "cell_type": "markdown",
   "id": "161f03a5",
   "metadata": {},
   "source": [
    "### 4. Apa kegunaan matriks dalam ilmu matematika ketika menerapkan AI?\n",
    "Karena matriks susunan bilangan-bilangan berbentuk persegi panjang yang diatur dalam baris atau kolom dengan dibatasi kurung. Bilangan yang tersusun dalam matriks disebut elemen/unsur matriks. Baris adalah susunan bilangan-bilangan yang mendatar (horizontal), sedangkan kolom adalah susunan bilangan-bilangan yang tegak (vertikal)."
   ]
  },
  {
   "cell_type": "markdown",
   "id": "07f8fc68",
   "metadata": {},
   "source": [
    "# Machine Learning"
   ]
  },
  {
   "cell_type": "markdown",
   "id": "0b9f1188",
   "metadata": {},
   "source": [
    "### 1. Jelaskan perbedaan supervised dan unsupervised learning dan sebutkan 2 contohnya!\n",
    "#### Supervised learning\n",
    "Machine Learning model yang mempelajari data dengan label atau target dimana evaluasi model tersebut akan berdasarkan target ini.\n",
    "\n",
    "Contoh : \n",
    "- Linear Regeression\n",
    "- Random Forest\n",
    "\n",
    "#### Unsupervised learning\n",
    "Machine Learning Model yang mempelajari pola data tanpa adanya target data.\n",
    "\n",
    "Contoh : \n",
    "- Autoencoder\n",
    "- Clustering \n"
   ]
  },
  {
   "cell_type": "markdown",
   "id": "5d782da1",
   "metadata": {},
   "source": [
    "### 2. Sebutkan setiap tahap yang ada di Machine Learning life cycle dan jelaskan!\n",
    "- Problem Scoping : Memahami/menentukan sebuah masalah\n",
    "- Data Acquistion : Proses mengumpulkan data yang akurat dan terpecaya\n",
    "- Data Exploration : Melakukan eksplorasi dari data yang sudah didapatkan\n",
    "- Modelling : Membuat/menentukan model yang akan digunakan untuk menyelesaikan masalah yang sudah ditentukan\n",
    "- Evaluation : Melakukan evaluasi dari beberapa step yang sudah dilakukan sebelumnya, untuk menghindari atau mengurangi kesalahan\n",
    "- Deployment : Mengembangkan aplikasi atau mengimplementasikan hal yang sudah dilakukan untuk menyelesaikan masalah tersebut"
   ]
  },
  {
   "cell_type": "markdown",
   "id": "36613d3e",
   "metadata": {},
   "source": [
    "### 3. Apa perbedaan regression dengan clustering?\n",
    "####  Regression\n",
    "Suatu teknik analisis untuk mengidentifikasi relasi atau hubungan diantara dua variabel atau lebih.\n",
    "#### Clustering\n",
    "Mengumpulkan suatu data atau objek yang memiliki kemiripan satu sama lain dalam satu kumpulan/kelompok"
   ]
  },
  {
   "cell_type": "markdown",
   "id": "d69a9be0",
   "metadata": {},
   "source": [
    "### 4. Apa itu algoritma Artificial Neural Network dan untuk apa fungsinya?\n",
    "Algoritma Artificial Neural Network (ANN) merupakan model penalaran yang didasarkan pada otak manusia. ANN terdiri dari sejumlah prosesor sangat sederhana dan saling berhubungan yang disebut neuron. Neuron yang terhubung dengan pembobotan (weight) melewatisinyal dari neuron satu ke neuron yang lain. ANN berfungsi menjadikan komputer memiliki kemampuan kognitif seperti otak manusia yaitu kemampuan problem solving dan dapat melakukan proses pembelajaran."
   ]
  }
 ],
 "metadata": {
  "kernelspec": {
   "display_name": "Python 3 (ipykernel)",
   "language": "python",
   "name": "python3"
  },
  "language_info": {
   "codemirror_mode": {
    "name": "ipython",
    "version": 3
   },
   "file_extension": ".py",
   "mimetype": "text/x-python",
   "name": "python",
   "nbconvert_exporter": "python",
   "pygments_lexer": "ipython3",
   "version": "3.10.2"
  }
 },
 "nbformat": 4,
 "nbformat_minor": 5
}
