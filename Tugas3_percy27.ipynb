{
 "cells": [
  {
   "cell_type": "markdown",
   "id": "b93b3a20",
   "metadata": {},
   "source": [
    "# Contoh konkret dari aplikasi 3 bidang keilmuan dalam AI :"
   ]
  },
  {
   "cell_type": "markdown",
   "id": "82d35891",
   "metadata": {},
   "source": [
    "# 1. Natural Language Processing\n",
    "Beberapa AI mengandalkan NLP agar bisa berfungsi. Contohnya seperti:\n",
    "\n",
    "1. Speech Recognition\n",
    "\n",
    "Teknologi speech recognition memungkinkan komputer untuk mengubah suara ke format yang dapat dibaca oleh mesin. Speech recognition banyak ditemukan di kehidupan sehari-hari seperti asisten virtual (Siri, Alexa), menerjemahkan ucapan, dan lain sebagainya. “Hey siri, tolong setel lagu hits 2020”. Personal Assistant Online seperti OK Google, Siri, Cortana, dan Alexa menggunakan NLP untuk merespon petunjuk-petunjuk vokal.\n",
    "\n",
    "2. Search engine\n",
    "\n",
    "NLP memiliki peran dalam mesin pencarian Google, Yahoo, dan lain sebagainya. Pada saat mencari sesuatu di google search engine, maka secara otomatis search engine akan menampilkan beberapa kalimat yang relevan sesuai dengan apa yang dicari.\n",
    "\n",
    "3. Penamaan lokasi. \n",
    "\n",
    "Aplikasi seperti Gojek dan Grab sudah menguasai NLP sehingga dapat memberi nama yang terdengar sangat natural di telinga manusia untuk sebuah lokasi. Misalnya saat kamu memesan Gojek di Menara Standard Chartered, akan muncul lagi pilihan titik jemput yang lebih mendetail, seperti lobby atas atau parkir motor.\n",
    "\n",
    "4. Mesin Penerjemah\n",
    "\n",
    "Aplikasi terjemahan bahasa seperti Google Translate juga menggunakan NLP untuk menerjemahkan bukan lagi kata per kata tetapi sesuai konteks dan grammar bahasa.Teknologi NLP memungkinkan komputer untuk bisa memahami bahasa dan menerjemahkannya ke dalam bahasa lain dalam bentuk bahasa alami. Saat ini Google Translate telah bisa memahami lebih dari 100 bahasa dan digunakan lebih dari 500 juta pengguna setiap hari. Google Translate bekerja dengan mengandalkan NLP untuk memahami frasa atau istilah yang coba diterjemahkan oleh penggunanya. Selain google translate, teknologi NLP juga digunakan untuk semua mesin terjemah alternatif lain yang ada di luar sana.\n",
    "\n",
    "5. Klasifikasi Dokumen Spam\n",
    "\n",
    "Aplikasi Email seperti Gmail, Hotmail, Ymail memfilter dan mengklasifikasikan email kamu dengan NLP sebelum ada email masuk ke dalam inbox sehingga bisa mendeteksi spam dan memindahkannya ke folder spam agar kamu tidak perlu membacanya.Filter spam ini menggunakan teknologi natural language processing untuk menganalisa subjek email dan konten isinya melalui tata bahasa yang telah ditentukan. Teknologi filter dokumen spam yang dimiliki oleh NLP ini pastinya juga sangat berguna dalam dunia bisnis. Anda bisa memanfaatkan teknologi NLP untuk mengklasifikasikan mana dokumen penting perusahaan dan mana dokumen spam. Dengan cara ini, perusahaan bisa mengelola dokumen dengan lebih efisien.\n",
    "\n",
    "6. Chatbot. \n",
    "\n",
    "Tentunya, perusahaan harus menyediakan sarana tempat pengaduan, seperti Chatbot. Chatbots memungkinkan perusahaan mendapatkan tujuan pengalaman pelanggan yang lancar.\n",
    "Chatbot bertujuan untuk membantu perusahaan untuk berinteraksi dengan pelanggan.Saat ini perusahaan bisa mengandalkan chatbot, di mana sebuah Chatbot dapat merespons setiap keluhan pelanggan dengan baik 24 jam di setiap harinya."
   ]
  },
  {
   "cell_type": "markdown",
   "id": "9f562354",
   "metadata": {},
   "source": [
    "# 2. Data Science\n",
    "1.  E-Commerce\n",
    "\n",
    "Saat ini orang-orang lebih banyak berbelanja secara digital atau biasa kita kenal dengan marketplace. Hampir semua orang menggunakan marketplace, penjual online secara otomatis akan menyesuaikan etalasenya berdasarkan profil data pembeli. Dengan mengubah tata letak halaman dan menyesuaikan produk jualannya secara otomatis dan real-time. Beberapa online shop juga menyesuaikan harga berdasarkan profil penghasilan konsumen, atau disebut dengan harga yang dipersonalisasi. Teknologi ini merupakan salah satu aplikasi penerapan ilmu Data Science.\n",
    "\n",
    "2. Fraud Detection\n",
    "\n",
    "Mendeteksi penipuan adalah bagian terpenting dari segala industri keuangan. Data Science dan AI adalah kedua ilmu yang sering digunakan disini. Bahkan kerusakan dan gangguan kecil akan dapat menyebabkan kerugian finansial. Analisis prediksi real-time membantu dalam peningkatan deteksi penipuan dan juga keamanan cyber. Dengan bantuan Data Science, perusahaan dapat menyediakan layanan keuangan yang lebih efektif. Teknologi ini membantu untuk mengidentifikasi potensi transaksi penipuan yang dilakukan di setiap aktivitas. Dan ini juga akan membantu untuk memblokir sesi atau akun jika terdeteksi ada aktivitas keuangan yang tidak biasa.\n",
    "\n",
    "3. Dynamic Pricing\n",
    "\n",
    "Penetapan dynamic pricing sangat berguna dalam industri travel. Penetapan harga dinamis ini digunakan oleh perusahaan dengan menggunakan data untuk mensegmentasikan pelanggan atau konsumen secara akurat. Setiap kelompok pelanggan kemudian dapat ditawari produk dengan harga berbeda. Penawaran ini didasari pada informasi yang dihasilkan oleh Data Science dan berbagai faktor lainnya.\n",
    "\n",
    "Salah satu contoh perusahaan yang menerapkannya adalah Airbnb. Airbnb menggunakan ilmu Data Science dan algoritma dynamic pricing yang berfokus pada harga. Algoritma ini memperhitungkan berbagai macam kategori. Seperti lead time, review properti dan fasilitas yang disediakan. Algoritma ini juga dapat digunakan oleh pemilik properti untuk menentukan biaya per malam secara otomatis.\n",
    "\n",
    "4. Bidang kesehatan\n",
    "\n",
    "Menurut laman Built In, ilmu data science pertama kali dikenalkan pada dunia lewat industri kesehatan pada tahun 2008. Pada tahun tersebut, Google menemukan bahwa mereka dapat memetakan wabah flu secara real time dengan melacak data lokasi pada pencarian terkait flu. Peta dari CDC (Centers for Disease Control and Prevention) yang ada dari kasus flu yang didokumentasikan, FluView, diperbarui hanya sekali seminggu. Hasilnya, Google dengan cepat meluncurkan alat pesaing dengan pembaruan berita yang lebih up-to-date, yakni Google Flu Trends."
   ]
  },
  {
   "cell_type": "markdown",
   "id": "d4c6ecae",
   "metadata": {},
   "source": [
    "# 3. Computer Vision\n",
    "1. Machine Vision \n",
    "\n",
    "Jenis computer vision ini membantu memajukan IoT industri dan otomatisasi dengan kemampuan pemantauan peralatan, pemeliharaan prediktif, juga banyak hal lainnya. Machine Vision adalah salah satu teknologi pendiri otomasi industri. Ini telah membantu meningkatkan kualitas produk, mempercepat produksi, dan mengoptimalkan manufaktur dan logistik selama beberapa dekade. Sekarang teknologi yang telah terbukti ini bergabung dengan kecerdasan buatan dan memimpin transisi ke Industri 4.0. Machine Vision dapat memberi mesin seperti robot tukang las, konveyor, dan penyortir kemampuan untuk melihat, menganalisis, dan bertindak sendiri. Pelajari bagaimana deep learning dan machine vision dapat membantu pabrik pintar Anda.\n",
    "\n",
    "2. Pencitraan Medis\n",
    "\n",
    "Teknologi computer vision terbaru mengubah pencitraan medis dengan menyederhanakan alur kerja, yang membantu memungkinkan diagnosis yang cepat dan akurat, serta meningkatkan perawatan pasien. \n",
    "\n",
    "3. Robotic –navigation and control·         \n",
    "4. Medical Image Analysis –measurement and interpretation of many types of images·         \n",
    "5. Industrial Inspection –measurement, fault checking, process control ·         \n",
    "6. Optical Character Recognition –text reading ·         \n",
    "7. Remote Sensing –land use and environmental monitoring·         \n",
    "8. Psychology, AI –exploring representation and computation in natural vision\n",
    "9. Mengontrol / pengendalian proses, misalnya : robot industri.\n",
    "10. Mendeteksi kejadian/peristiwa, misalnya : untuk pengawasan visual atau penghitungan orang.\n",
    "11. Mengatur informasi, misalnya : untuk mengindeks basis data gambar dan urutan gambar\n",
    "12. Memodel objek atau lingkungan, misalnya : analisis citra medis atau pemodelan topografi.\n",
    "13. Navigasi, misalnya : oleh kendaraan otonom atau robot seluler.\n",
    "14. penerapan pengenalan wajah dan pelabelan wajah seperti pada facebook.\n",
    "15. Membantu manusia dalam tugas identifikasi, misalnya : sistem identifikasi spesies.\n",
    "16. Interaksi, misalnya : sebagai masukan ke perangkat untuk interaksi komputer-manusia.\n",
    "17. Mendukung pembuatan efek visual untuk bioskop dan siaran, misal : pelacakan kamera (matchmoving).   "
   ]
  }
 ],
 "metadata": {
  "kernelspec": {
   "display_name": "Python 3",
   "language": "python",
   "name": "python3"
  },
  "language_info": {
   "codemirror_mode": {
    "name": "ipython",
    "version": 3
   },
   "file_extension": ".py",
   "mimetype": "text/x-python",
   "name": "python",
   "nbconvert_exporter": "python",
   "pygments_lexer": "ipython3",
   "version": "3.8.8"
  }
 },
 "nbformat": 4,
 "nbformat_minor": 5
}
