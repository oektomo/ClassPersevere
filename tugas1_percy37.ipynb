{
 "cells": [
  {
   "cell_type": "markdown",
   "id": "1ad3de69",
   "metadata": {},
   "source": [
    "# Python Syntax\n"
   ]
  },
  {
   "cell_type": "markdown",
   "id": "2f841fe2",
   "metadata": {},
   "source": [
    "# Python Indentation"
   ]
  },
  {
   "cell_type": "markdown",
   "id": "990fa718",
   "metadata": {},
   "source": [
    "Indentation adalah ruang atau spasi yang berada di awal kode. \n",
    " Jumlah spasi bebas, tidak ada batasan. tapi setidaknya harus ada 1 spasi. "
   ]
  },
  {
   "cell_type": "code",
   "execution_count": 1,
   "id": "ebcd97fc",
   "metadata": {},
   "outputs": [
    {
     "name": "stdout",
     "output_type": "stream",
     "text": [
      "6 lebih kecil daripada 2 \n"
     ]
    }
   ],
   "source": [
    "if 2 < 6:\n",
    "  print(\"6 lebih kecil daripada 2 \")"
   ]
  },
  {
   "cell_type": "markdown",
   "id": "1edccec2",
   "metadata": {},
   "source": [
    "Jika Indentation diabaikan, maka akan menampilkan eror"
   ]
  },
  {
   "cell_type": "code",
   "execution_count": 2,
   "id": "aa0bd6a0",
   "metadata": {},
   "outputs": [
    {
     "ename": "IndentationError",
     "evalue": "expected an indented block (<ipython-input-2-6e531016c1bb>, line 2)",
     "output_type": "error",
     "traceback": [
      "\u001b[1;36m  File \u001b[1;32m\"<ipython-input-2-6e531016c1bb>\"\u001b[1;36m, line \u001b[1;32m2\u001b[0m\n\u001b[1;33m    print(\"6 lebih kecil daripada 2 \")\u001b[0m\n\u001b[1;37m    ^\u001b[0m\n\u001b[1;31mIndentationError\u001b[0m\u001b[1;31m:\u001b[0m expected an indented block\n"
     ]
    }
   ],
   "source": [
    "if 2 < 6:\n",
    "print(\"6 lebih kecil daripada 2 \")"
   ]
  },
  {
   "cell_type": "markdown",
   "id": "91a7c0b0",
   "metadata": {},
   "source": [
    "# Python Variabels"
   ]
  },
  {
   "cell_type": "markdown",
   "id": "95c54e53",
   "metadata": {},
   "source": [
    "Dalam phyton, variabel dibuat disaat anda menetapkan nilainya."
   ]
  },
  {
   "cell_type": "code",
   "execution_count": 4,
   "id": "d15c6fe3",
   "metadata": {
    "scrolled": true
   },
   "outputs": [
    {
     "name": "stdout",
     "output_type": "stream",
     "text": [
      "Hello, World!\n"
     ]
    }
   ],
   "source": [
    "x = 5\n",
    "y = \"Hello, World!\"\n",
    "\n",
    "print(y)"
   ]
  },
  {
   "cell_type": "markdown",
   "id": "3eac9b59",
   "metadata": {},
   "source": [
    "# PythonComments"
   ]
  },
  {
   "cell_type": "markdown",
   "id": "3352239c",
   "metadata": {},
   "source": [
    "Komen dalam phyton dimulai dengan #"
   ]
  },
  {
   "cell_type": "code",
   "execution_count": 5,
   "id": "77fe8d6d",
   "metadata": {},
   "outputs": [
    {
     "name": "stdout",
     "output_type": "stream",
     "text": [
      "Hello, World!\n"
     ]
    }
   ],
   "source": [
    "#This is a comment.\n",
    "print(\"Hello, World!\")"
   ]
  },
  {
   "cell_type": "markdown",
   "id": "ad917326",
   "metadata": {},
   "source": [
    "Komentar dapat ditempatkan di baris akhir, dan Python akan mengabaikannya."
   ]
  },
  {
   "cell_type": "code",
   "execution_count": 6,
   "id": "6d409cc7",
   "metadata": {},
   "outputs": [
    {
     "name": "stdout",
     "output_type": "stream",
     "text": [
      "Hello, World!\n"
     ]
    }
   ],
   "source": [
    "print(\"Hello, World!\") #This is a comment"
   ]
  },
  {
   "cell_type": "markdown",
   "id": "d9505df8",
   "metadata": {},
   "source": [
    "Komentar tidak harus berupa teks yang menjelaskan kode, tetapi juga dapat digunakan untuk mencegah Python mengeksekusi kode:"
   ]
  },
  {
   "cell_type": "code",
   "execution_count": 7,
   "id": "771ca38f",
   "metadata": {},
   "outputs": [
    {
     "name": "stdout",
     "output_type": "stream",
     "text": [
      "Cheers, Mate!\n"
     ]
    }
   ],
   "source": [
    "#print(\"Hello, World!\")\n",
    "print(\"Cheers, Mate!\")"
   ]
  },
  {
   "cell_type": "markdown",
   "id": "bb871f96",
   "metadata": {},
   "source": [
    "# Multi Line Comments"
   ]
  },
  {
   "cell_type": "markdown",
   "id": "fa02f5a1",
   "metadata": {},
   "source": [
    "Untuk menambahkan komentar multiline, Anda dapat memasukkan # untuk setiap baris:"
   ]
  },
  {
   "cell_type": "code",
   "execution_count": 8,
   "id": "ed57e671",
   "metadata": {},
   "outputs": [
    {
     "name": "stdout",
     "output_type": "stream",
     "text": [
      "Hello, World!\n"
     ]
    }
   ],
   "source": [
    "#This is a comment\n",
    "#written in\n",
    "#more than just one line\n",
    "print(\"Hello, World!\")"
   ]
  },
  {
   "cell_type": "markdown",
   "id": "ea3882a5",
   "metadata": {},
   "source": [
    "# Python Variables"
   ]
  },
  {
   "cell_type": "markdown",
   "id": "6dfd4c74",
   "metadata": {},
   "source": [
    "Variabel adalah wadah untuk menyimpan nilai data."
   ]
  },
  {
   "cell_type": "markdown",
   "id": "b5eaccfc",
   "metadata": {},
   "source": [
    "# Python Numbers"
   ]
  },
  {
   "cell_type": "markdown",
   "id": "ddf9cd3f",
   "metadata": {},
   "source": [
    "Untuk memverifikasi jenis objek apa pun dengan Python, gunakan fungsi type() :"
   ]
  },
  {
   "cell_type": "code",
   "execution_count": null,
   "id": "5d4a28f9",
   "metadata": {},
   "outputs": [],
   "source": [
    "print(type(x))\n",
    "print(type(y))\n",
    "print(type(z))"
   ]
  },
  {
   "cell_type": "markdown",
   "id": "5025a1f1",
   "metadata": {},
   "source": [
    "# Int"
   ]
  },
  {
   "cell_type": "markdown",
   "id": "84573c99",
   "metadata": {},
   "source": [
    "Int, atau integer, adalah bilangan bulat, positif atau negatif, tanpa desimal, dengan panjang tak terbatas."
   ]
  },
  {
   "cell_type": "code",
   "execution_count": 11,
   "id": "9b123c54",
   "metadata": {},
   "outputs": [
    {
     "name": "stdout",
     "output_type": "stream",
     "text": [
      "<class 'int'>\n",
      "<class 'int'>\n",
      "<class 'int'>\n"
     ]
    }
   ],
   "source": [
    "x = 1\n",
    "y = 35656222554887711\n",
    "z = -3255522\n",
    "\n",
    "print(type(x))\n",
    "print(type(y))\n",
    "print(type(z))"
   ]
  },
  {
   "cell_type": "markdown",
   "id": "0020dc97",
   "metadata": {},
   "source": [
    "# Float"
   ]
  },
  {
   "cell_type": "markdown",
   "id": "236b8116",
   "metadata": {},
   "source": [
    "Float adalah angka, positif atau negatif, yang mengandung satu atau lebih desimal."
   ]
  },
  {
   "cell_type": "code",
   "execution_count": 12,
   "id": "628c239b",
   "metadata": {},
   "outputs": [
    {
     "name": "stdout",
     "output_type": "stream",
     "text": [
      "<class 'float'>\n",
      "<class 'float'>\n",
      "<class 'float'>\n"
     ]
    }
   ],
   "source": [
    "x = 1.10\n",
    "y = 1.0\n",
    "z = -35.59\n",
    "\n",
    "print(type(x))\n",
    "print(type(y))\n",
    "print(type(z))"
   ]
  },
  {
   "cell_type": "markdown",
   "id": "d5baa814",
   "metadata": {},
   "source": [
    "# Complex"
   ]
  },
  {
   "cell_type": "markdown",
   "id": "93fdd093",
   "metadata": {},
   "source": [
    "Bilangan kompleks ditulis dengan \"j\" sebagai bagian imajiner:"
   ]
  },
  {
   "cell_type": "code",
   "execution_count": 13,
   "id": "a97dc7c7",
   "metadata": {},
   "outputs": [
    {
     "name": "stdout",
     "output_type": "stream",
     "text": [
      "<class 'complex'>\n",
      "<class 'complex'>\n",
      "<class 'complex'>\n"
     ]
    }
   ],
   "source": [
    "x = 3+5j\n",
    "y = 5j\n",
    "z = -5j\n",
    "\n",
    "print(type(x))\n",
    "print(type(y))\n",
    "print(type(z))"
   ]
  },
  {
   "cell_type": "markdown",
   "id": "c226e625",
   "metadata": {},
   "source": [
    "# Type Conversion"
   ]
  },
  {
   "cell_type": "markdown",
   "id": "ea40c100",
   "metadata": {},
   "source": [
    "Anda dapat mengubah satu jenis ke jenis lainnya dengan metode int(), float(), dan complex():"
   ]
  },
  {
   "cell_type": "code",
   "execution_count": 15,
   "id": "1fd042a6",
   "metadata": {},
   "outputs": [
    {
     "name": "stdout",
     "output_type": "stream",
     "text": [
      "1.0\n",
      "2\n",
      "(1+0j)\n",
      "<class 'float'>\n",
      "<class 'int'>\n",
      "<class 'complex'>\n"
     ]
    }
   ],
   "source": [
    "x = 1    # int\n",
    "y = 2.8  # float\n",
    "z = 1j   # complex\n",
    "\n",
    "#mengubah int ke float:\n",
    "a = float(x)\n",
    "\n",
    "#mengubah float ke int:\n",
    "b = int(y)\n",
    "\n",
    "#mengubah int ke kompleks:\n",
    "c = complex(x)\n",
    "\n",
    "print(a)\n",
    "print(b)\n",
    "print(c)\n",
    "\n",
    "print(type(a))\n",
    "print(type(b))\n",
    "print(type(c))"
   ]
  },
  {
   "cell_type": "markdown",
   "id": "1037e20a",
   "metadata": {},
   "source": [
    "# Python Casting"
   ]
  },
  {
   "cell_type": "markdown",
   "id": "0070cec0",
   "metadata": {},
   "source": [
    "Ketika ingin menentukan tipe pada variabel, bisa dilakukan dengan casting. <br>\n",
    "Casting di python dilakukan dengan menggunakan fungsi konstruktor:\n",
    "<br>\n",
    "int() - membangun bilangan bulat dari literal bilangan bulat, literal float (dengan menghapus semua desimal), atau literal string (menyediakan string mewakili bilangan bulat)\n",
    "<br>\n",
    "float() - membuat bilangan float dari literal integer, literal float, atau literal string (menyediakan string mewakili float atau integer)\n",
    "<br>\n",
    "str() - membangun string dari berbagai tipe data, termasuk string, literal integer dan literal float"
   ]
  },
  {
   "cell_type": "code",
   "execution_count": 3,
   "id": "7b5cf129",
   "metadata": {},
   "outputs": [],
   "source": [
    "#Integer\n",
    "\n",
    "x = int(1)   # x will be 1\n",
    "y = int(2.8) # y will be 2\n",
    "z = int(\"3\") # z will be 3"
   ]
  },
  {
   "cell_type": "code",
   "execution_count": 13,
   "id": "b53235bb",
   "metadata": {},
   "outputs": [],
   "source": [
    "#float\n",
    "\n",
    "x = float(1)     # x will be 1.0\n",
    "y = float(2.8)   # y will be 2.8\n",
    "z = float(\"3\")   # z will be 3.0\n",
    "w = float(\"4.2\") # w will be 4.2"
   ]
  },
  {
   "cell_type": "code",
   "execution_count": 14,
   "id": "431edba4",
   "metadata": {},
   "outputs": [],
   "source": [
    "#strings\n",
    "\n",
    "x = str(\"s1\") # x will be 's1'\n",
    "y = str(2)    # y will be '2'\n",
    "z = str(3.0)  # z will be '3.0'"
   ]
  },
  {
   "cell_type": "markdown",
   "id": "32141583",
   "metadata": {},
   "source": [
    "# Python Strings"
   ]
  },
  {
   "cell_type": "markdown",
   "id": "789d0cfc",
   "metadata": {},
   "source": [
    "String dalam python diapit oleh tanda kutip 1 (' ') atau tanda kutip 2 (\" \") <br>\n",
    "'hello' sama dengan \"hello\"."
   ]
  },
  {
   "cell_type": "code",
   "execution_count": 6,
   "id": "0a70bb1b",
   "metadata": {},
   "outputs": [
    {
     "name": "stdout",
     "output_type": "stream",
     "text": [
      "Hello\n",
      "Hello\n"
     ]
    }
   ],
   "source": [
    "print(\"Hello\")\n",
    "print('Hello')"
   ]
  },
  {
   "cell_type": "markdown",
   "id": "1d4281b3",
   "metadata": {},
   "source": [
    "# Memasukkan string ke variabel"
   ]
  },
  {
   "cell_type": "markdown",
   "id": "e6192c64",
   "metadata": {},
   "source": [
    "Memasukkan string ke dalam variabel dilakukan dengan memasukkan nama variabel diikuti dengan tanda sama dengan kemudian masukkan string."
   ]
  },
  {
   "cell_type": "code",
   "execution_count": 7,
   "id": "ec54c58f",
   "metadata": {},
   "outputs": [
    {
     "name": "stdout",
     "output_type": "stream",
     "text": [
      "Hello\n"
     ]
    }
   ],
   "source": [
    "a = \"Hello\"\n",
    "print(a)"
   ]
  },
  {
   "cell_type": "markdown",
   "id": "93edc626",
   "metadata": {},
   "source": [
    "# Multiline String"
   ]
  },
  {
   "cell_type": "markdown",
   "id": "1df7a2d8",
   "metadata": {},
   "source": [
    "multiline dalam string dilakukan dengan menggunakan 3 tanda kutip"
   ]
  },
  {
   "cell_type": "code",
   "execution_count": 11,
   "id": "ba749298",
   "metadata": {},
   "outputs": [
    {
     "name": "stdout",
     "output_type": "stream",
     "text": [
      "Lorem ipsum dolor sit amet,\n",
      "consectetur adipiscing elit,\n",
      "sed do eiusmod tempor incididunt\n",
      "ut labore et dolore magna aliqua.\n"
     ]
    }
   ],
   "source": [
    "#menggunakan tiga double quotes\n",
    "a = \"\"\"Lorem ipsum dolor sit amet,\n",
    "consectetur adipiscing elit,\n",
    "sed do eiusmod tempor incididunt\n",
    "ut labore et dolore magna aliqua.\"\"\"\n",
    "print(a)"
   ]
  },
  {
   "cell_type": "code",
   "execution_count": 12,
   "id": "bc74dfd3",
   "metadata": {},
   "outputs": [
    {
     "name": "stdout",
     "output_type": "stream",
     "text": [
      "Lorem ipsum dolor sit amet,\n",
      "consectetur adipiscing elit,\n",
      "sed do eiusmod tempor incididunt\n",
      "ut labore et dolore magna aliqua.\n"
     ]
    }
   ],
   "source": [
    "#menggunakan tiga single quotes\n",
    "a = '''Lorem ipsum dolor sit amet,\n",
    "consectetur adipiscing elit,\n",
    "sed do eiusmod tempor incididunt\n",
    "ut labore et dolore magna aliqua.'''\n",
    "print(a)"
   ]
  },
  {
   "cell_type": "markdown",
   "id": "6b00bee8",
   "metadata": {},
   "source": [
    "# String dalam Array"
   ]
  },
  {
   "cell_type": "code",
   "execution_count": 10,
   "id": "fdd2a72b",
   "metadata": {},
   "outputs": [
    {
     "name": "stdout",
     "output_type": "stream",
     "text": [
      "e\n"
     ]
    }
   ],
   "source": [
    "#nemapilkan karakter pada posisi 1 \n",
    "\n",
    "a = \"Hello, World!\"\n",
    "print(a[1])"
   ]
  },
  {
   "cell_type": "markdown",
   "id": "5d56ef25",
   "metadata": {},
   "source": [
    "# String dalam Loop"
   ]
  },
  {
   "cell_type": "code",
   "execution_count": 16,
   "id": "513339bb",
   "metadata": {},
   "outputs": [
    {
     "name": "stdout",
     "output_type": "stream",
     "text": [
      "b\n",
      "a\n",
      "n\n",
      "a\n",
      "n\n",
      "a\n"
     ]
    }
   ],
   "source": [
    "#melalukan perulangan untuk kata banana\n",
    "\n",
    "for x in \"banana\":\n",
    "  print(x)"
   ]
  },
  {
   "cell_type": "markdown",
   "id": "e129bb5a",
   "metadata": {},
   "source": [
    "# String dalam Length"
   ]
  },
  {
   "cell_type": "code",
   "execution_count": 17,
   "id": "a8479ad2",
   "metadata": {},
   "outputs": [
    {
     "name": "stdout",
     "output_type": "stream",
     "text": [
      "13\n"
     ]
    }
   ],
   "source": [
    "#untuk mendapatkan panjang dari string, gunakan fungsi (len)\n",
    "a = \"Hello, World!\"\n",
    "print(len(a))"
   ]
  },
  {
   "cell_type": "markdown",
   "id": "5062665e",
   "metadata": {},
   "source": [
    "# String Check"
   ]
  },
  {
   "cell_type": "code",
   "execution_count": 18,
   "id": "3c984968",
   "metadata": {},
   "outputs": [
    {
     "name": "stdout",
     "output_type": "stream",
     "text": [
      "True\n"
     ]
    }
   ],
   "source": [
    "#untuk memeriksa apakah ada karakter tertentu dalam string, gunakan in.\n",
    "txt = \"The best things in life are free!\"\n",
    "print(\"free\" in txt)"
   ]
  },
  {
   "cell_type": "markdown",
   "id": "dcb2c614",
   "metadata": {},
   "source": [
    "dengan menggunakan statement if "
   ]
  },
  {
   "cell_type": "code",
   "execution_count": 19,
   "id": "d267b24f",
   "metadata": {},
   "outputs": [
    {
     "name": "stdout",
     "output_type": "stream",
     "text": [
      "Yes, 'free' is present.\n"
     ]
    }
   ],
   "source": [
    "txt = \"The best things in life are free!\"\n",
    "if \"free\" in txt:\n",
    "  print(\"Yes, 'free' is present.\")"
   ]
  },
  {
   "cell_type": "markdown",
   "id": "7a559cb5",
   "metadata": {},
   "source": [
    "# Check if NOT"
   ]
  },
  {
   "cell_type": "code",
   "execution_count": 20,
   "id": "67645492",
   "metadata": {},
   "outputs": [
    {
     "name": "stdout",
     "output_type": "stream",
     "text": [
      "True\n"
     ]
    }
   ],
   "source": [
    "#untuk memeriksa apakah suatu karakter tertentu dalam string tidak ada, gunakan not in.\n",
    "txt = \"The best things in life are free!\"\n",
    "print(\"expensive\" not in txt)"
   ]
  },
  {
   "cell_type": "markdown",
   "id": "750da942",
   "metadata": {},
   "source": [
    "dengan menggunakan statement if "
   ]
  },
  {
   "cell_type": "code",
   "execution_count": 21,
   "id": "f5d6f280",
   "metadata": {},
   "outputs": [
    {
     "name": "stdout",
     "output_type": "stream",
     "text": [
      "No, 'expensive' is NOT present.\n"
     ]
    }
   ],
   "source": [
    "txt = \"The best things in life are free!\"\n",
    "if \"expensive\" not in txt:\n",
    "  print(\"No, 'expensive' is NOT present.\")"
   ]
  },
  {
   "cell_type": "markdown",
   "id": "5a598b07",
   "metadata": {},
   "source": [
    "# Slicing String"
   ]
  },
  {
   "cell_type": "markdown",
   "id": "67bfcb56",
   "metadata": {},
   "source": [
    "Anda dapat mengembalikan rentang karakter dengan menggunakan sintaks irisan.\n",
    "\n",
    "Tentukan indeks awal dan indeks akhir, dipisahkan oleh titik dua, untuk mengembalikan bagian dari string."
   ]
  },
  {
   "cell_type": "code",
   "execution_count": 22,
   "id": "9d30b9e3",
   "metadata": {},
   "outputs": [
    {
     "name": "stdout",
     "output_type": "stream",
     "text": [
      "llo\n"
     ]
    }
   ],
   "source": [
    "#Get the characters from position 2 to position 5 (not included):\n",
    "\n",
    "b = \"Hello, World!\"\n",
    "print(b[2:5])"
   ]
  },
  {
   "cell_type": "markdown",
   "id": "0195cbb1",
   "metadata": {},
   "source": [
    "# Slice From the Start"
   ]
  },
  {
   "cell_type": "markdown",
   "id": "5e15e399",
   "metadata": {},
   "source": [
    "Dengan mengabaikan indeks awal, range akan dimulai pada karakter pertama"
   ]
  },
  {
   "cell_type": "code",
   "execution_count": 23,
   "id": "25787f6b",
   "metadata": {},
   "outputs": [
    {
     "name": "stdout",
     "output_type": "stream",
     "text": [
      "Hello\n"
     ]
    }
   ],
   "source": [
    "#Get the characters from the start to position 5 (not included):\n",
    "\n",
    "b = \"Hello, World!\"\n",
    "print(b[:5])"
   ]
  },
  {
   "cell_type": "markdown",
   "id": "fd1ebc08",
   "metadata": {},
   "source": [
    "# Slice To The End"
   ]
  },
  {
   "cell_type": "code",
   "execution_count": null,
   "id": "8063ec2a",
   "metadata": {},
   "outputs": [],
   "source": [
    "Dengan mengabaikan indeks akhir, range akan berakhhir pada karakter terakhir"
   ]
  },
  {
   "cell_type": "code",
   "execution_count": 24,
   "id": "61c2156e",
   "metadata": {},
   "outputs": [
    {
     "name": "stdout",
     "output_type": "stream",
     "text": [
      "llo, World!\n"
     ]
    }
   ],
   "source": [
    "#Get the characters from position 2, and all the way to the end:\n",
    "\n",
    "b = \"Hello, World!\"\n",
    "print(b[2:])\n"
   ]
  },
  {
   "cell_type": "markdown",
   "id": "7c6e815b",
   "metadata": {},
   "source": [
    "# Negative Indexing"
   ]
  },
  {
   "cell_type": "markdown",
   "id": "5f71c3f7",
   "metadata": {},
   "source": [
    "Gunakan indeks negatif untuk memulai irisan dari akhir string"
   ]
  },
  {
   "cell_type": "code",
   "execution_count": 25,
   "id": "cb765726",
   "metadata": {},
   "outputs": [
    {
     "name": "stdout",
     "output_type": "stream",
     "text": [
      "orl\n"
     ]
    }
   ],
   "source": [
    "#Get the characters:\n",
    "\n",
    "#From: \"o\" in \"World!\" (position -5)\n",
    "\n",
    "#To, but not included: \"d\" in \"World!\" (position -2):\n",
    "\n",
    "b = \"Hello, World!\"\n",
    "print(b[-5:-2])"
   ]
  },
  {
   "cell_type": "markdown",
   "id": "b617d420",
   "metadata": {},
   "source": [
    "# Modify String"
   ]
  },
  {
   "cell_type": "markdown",
   "id": "9b5be15e",
   "metadata": {},
   "source": [
    "## Upper Case"
   ]
  },
  {
   "cell_type": "code",
   "execution_count": 28,
   "id": "4440e1dc",
   "metadata": {},
   "outputs": [
    {
     "name": "stdout",
     "output_type": "stream",
     "text": [
      "HELLO, WORLD!\n"
     ]
    }
   ],
   "source": [
    "#The upper() method menghasilkan string ke dalam hutuf besar:\n",
    "\n",
    "a = \"Hello, World!\"\n",
    "print(a.upper())"
   ]
  },
  {
   "cell_type": "markdown",
   "id": "2cc49d12",
   "metadata": {},
   "source": [
    "## Lower Case"
   ]
  },
  {
   "cell_type": "code",
   "execution_count": 29,
   "id": "d2f65063",
   "metadata": {},
   "outputs": [
    {
     "name": "stdout",
     "output_type": "stream",
     "text": [
      "hello, world!\n"
     ]
    }
   ],
   "source": [
    "#The lower() method menghasilkan string ke dalam huruf kecil:\n",
    "\n",
    "a = \"Hello, World!\"\n",
    "print(a.lower())"
   ]
  },
  {
   "cell_type": "markdown",
   "id": "68357c15",
   "metadata": {},
   "source": [
    "# Remove Whitespace"
   ]
  },
  {
   "cell_type": "markdown",
   "id": "f931cfae",
   "metadata": {},
   "source": [
    "Spasi putih adalah spasi sebelum dan/atau setelah teks yang sebenarnya, dan sangat sering Anda ingin menghapus spasi ini."
   ]
  },
  {
   "cell_type": "code",
   "execution_count": 30,
   "id": "facc7516",
   "metadata": {},
   "outputs": [
    {
     "name": "stdout",
     "output_type": "stream",
     "text": [
      "Hello, World!\n"
     ]
    }
   ],
   "source": [
    "#The strip() method removes any whitespace from the beginning or the end:\n",
    "\n",
    "a = \" Hello, World! \"\n",
    "print(a.strip()) # returns \"Hello, World!\""
   ]
  },
  {
   "cell_type": "markdown",
   "id": "b8f88cfa",
   "metadata": {},
   "source": [
    "# Replace String"
   ]
  },
  {
   "cell_type": "code",
   "execution_count": 31,
   "id": "026953bd",
   "metadata": {},
   "outputs": [
    {
     "name": "stdout",
     "output_type": "stream",
     "text": [
      "Jello, World!\n"
     ]
    }
   ],
   "source": [
    "#The replace() method replaces a string with another string:\n",
    "\n",
    "a = \"Hello, World!\"\n",
    "print(a.replace(\"H\", \"J\"))"
   ]
  },
  {
   "cell_type": "markdown",
   "id": "acb7307a",
   "metadata": {},
   "source": [
    "# Split String"
   ]
  },
  {
   "cell_type": "code",
   "execution_count": 32,
   "id": "fada4220",
   "metadata": {},
   "outputs": [
    {
     "name": "stdout",
     "output_type": "stream",
     "text": [
      "['Hello', ' World!']\n"
     ]
    }
   ],
   "source": [
    "#The split() method splits the string into substrings if it finds instances of the separator:\n",
    "\n",
    "a = \"Hello, World!\"\n",
    "print(a.split(\",\")) # returns ['Hello', ' World!']"
   ]
  },
  {
   "cell_type": "markdown",
   "id": "24e1b892",
   "metadata": {},
   "source": [
    "# String Concatenation"
   ]
  },
  {
   "cell_type": "markdown",
   "id": "63c10668",
   "metadata": {},
   "source": [
    "Untuk menggabungkan dua string Anda dapat menggunakan operator +."
   ]
  },
  {
   "cell_type": "code",
   "execution_count": 33,
   "id": "52c0fe0f",
   "metadata": {},
   "outputs": [
    {
     "name": "stdout",
     "output_type": "stream",
     "text": [
      "HelloWorld\n"
     ]
    }
   ],
   "source": [
    "#Merge variable a with variable b into variable c:\n",
    "\n",
    "a = \"Hello\"\n",
    "b = \"World\"\n",
    "c = a + b\n",
    "print(c)"
   ]
  },
  {
   "cell_type": "code",
   "execution_count": 34,
   "id": "4eba01fb",
   "metadata": {},
   "outputs": [
    {
     "name": "stdout",
     "output_type": "stream",
     "text": [
      "Hello World\n"
     ]
    }
   ],
   "source": [
    "#To add a space between them, add a \" \":\n",
    "\n",
    "a = \"Hello\"\n",
    "b = \"World\"\n",
    "c = a + \" \" + b\n",
    "print(c)"
   ]
  },
  {
   "cell_type": "markdown",
   "id": "14336836",
   "metadata": {},
   "source": [
    "# String Format"
   ]
  },
  {
   "cell_type": "markdown",
   "id": "afc0a46c",
   "metadata": {},
   "source": [
    "The format() method takes the passed arguments, formats them, and places them in the string where the placeholders {} are:"
   ]
  },
  {
   "cell_type": "code",
   "execution_count": 35,
   "id": "94edb47b",
   "metadata": {},
   "outputs": [
    {
     "name": "stdout",
     "output_type": "stream",
     "text": [
      "My name is John, and I am 36\n"
     ]
    }
   ],
   "source": [
    "#Use the format() method to insert numbers into strings:\n",
    "\n",
    "age = 36\n",
    "txt = \"My name is John, and I am {}\"\n",
    "print(txt.format(age))"
   ]
  },
  {
   "cell_type": "code",
   "execution_count": 36,
   "id": "5f20d6f4",
   "metadata": {},
   "outputs": [
    {
     "name": "stdout",
     "output_type": "stream",
     "text": [
      "I want 3 pieces of item 567 for 49.95 dollars.\n"
     ]
    }
   ],
   "source": [
    "#The format() method takes unlimited number of arguments, and are placed into the respective placeholders:\n",
    "\n",
    "quantity = 3\n",
    "itemno = 567\n",
    "price = 49.95\n",
    "myorder = \"I want {} pieces of item {} for {} dollars.\"\n",
    "print(myorder.format(quantity, itemno, price))"
   ]
  },
  {
   "cell_type": "code",
   "execution_count": 37,
   "id": "2bd8565e",
   "metadata": {},
   "outputs": [
    {
     "name": "stdout",
     "output_type": "stream",
     "text": [
      "I want to pay 49.95 dollars for 3 pieces of item 567.\n"
     ]
    }
   ],
   "source": [
    "#You can use index numbers {0} to be sure the arguments are placed in the correct placeholders:\n",
    "\n",
    "quantity = 3\n",
    "itemno = 567\n",
    "price = 49.95\n",
    "myorder = \"I want to pay {2} dollars for {0} pieces of item {1}.\"\n",
    "print(myorder.format(quantity, itemno, price))"
   ]
  },
  {
   "cell_type": "markdown",
   "id": "75d6261b",
   "metadata": {},
   "source": [
    "# Escape Character"
   ]
  },
  {
   "cell_type": "markdown",
   "id": "849b7ae0",
   "metadata": {},
   "source": [
    "Untuk menyisipkan karakter yang ilegal dalam string, gunakan karakter escape.\n",
    "\n",
    "Karakter escape adalah garis miring terbalik \\ diikuti oleh karakter yang ingin Anda sisipkan."
   ]
  },
  {
   "cell_type": "code",
   "execution_count": 39,
   "id": "b57919e5",
   "metadata": {},
   "outputs": [
    {
     "name": "stdout",
     "output_type": "stream",
     "text": [
      "We are the so-called \"Vikings\" from the north.\n"
     ]
    }
   ],
   "source": [
    "#The escape character allows you to use double quotes when you normally would not be allowed:\n",
    "\n",
    "txt = \"We are the so-called \\\"Vikings\\\" from the north.\"\n",
    "print (txt)"
   ]
  },
  {
   "cell_type": "code",
   "execution_count": 44,
   "id": "065f1ad2",
   "metadata": {},
   "outputs": [
    {
     "name": "stdout",
     "output_type": "stream",
     "text": [
      "It's alright.\n",
      "This will insert one \\ (backslash).\n",
      "Hello\n",
      "World!\n"
     ]
    }
   ],
   "source": [
    "#\\'\tSingle Quote\n",
    "txt = 'It\\'s alright.'\n",
    "print(txt) \n",
    "\n",
    "#\\\\\tBackslash\n",
    "txt = \"This will insert one \\\\ (backslash).\"\n",
    "print(txt) \n",
    "\n",
    "#\\n\tNew Line\n",
    "txt = \"Hello\\nWorld!\"\n",
    "print(txt) "
   ]
  },
  {
   "cell_type": "markdown",
   "id": "5d265b72",
   "metadata": {},
   "source": [
    "# Python Booleans"
   ]
  },
  {
   "cell_type": "markdown",
   "id": "9054ad9d",
   "metadata": {},
   "source": [
    "Booleans represent one of two values: True or False."
   ]
  },
  {
   "cell_type": "code",
   "execution_count": 45,
   "id": "2f9ae830",
   "metadata": {},
   "outputs": [
    {
     "name": "stdout",
     "output_type": "stream",
     "text": [
      "True\n",
      "False\n",
      "False\n"
     ]
    }
   ],
   "source": [
    "print(10 > 9)\n",
    "print(10 == 9)\n",
    "print(10 < 9)"
   ]
  },
  {
   "cell_type": "code",
   "execution_count": 46,
   "id": "f5a6f7ae",
   "metadata": {},
   "outputs": [
    {
     "name": "stdout",
     "output_type": "stream",
     "text": [
      "b is not greater than a\n"
     ]
    }
   ],
   "source": [
    "#When you run a condition in an if statement, Python returns True or False:\n",
    "a = 200\n",
    "b = 33\n",
    "\n",
    "if b > a:\n",
    "  print(\"b is greater than a\")\n",
    "else:\n",
    "  print(\"b is not greater than a\")"
   ]
  },
  {
   "cell_type": "markdown",
   "id": "98b8547c",
   "metadata": {},
   "source": [
    "# Evaluate Values and Variables"
   ]
  },
  {
   "cell_type": "markdown",
   "id": "60a5532d",
   "metadata": {},
   "source": [
    "The bool() function allows you to evaluate any value, and give you True or False in return,"
   ]
  },
  {
   "cell_type": "code",
   "execution_count": 47,
   "id": "529bf019",
   "metadata": {},
   "outputs": [
    {
     "name": "stdout",
     "output_type": "stream",
     "text": [
      "True\n",
      "True\n"
     ]
    }
   ],
   "source": [
    "#Evaluate a string and a number:\n",
    "\n",
    "print(bool(\"Hello\"))\n",
    "print(bool(15))"
   ]
  },
  {
   "cell_type": "code",
   "execution_count": 48,
   "id": "4e74f34f",
   "metadata": {},
   "outputs": [
    {
     "name": "stdout",
     "output_type": "stream",
     "text": [
      "True\n",
      "True\n"
     ]
    }
   ],
   "source": [
    "#Evaluate two variables:\n",
    "\n",
    "x = \"Hello\"\n",
    "y = 15\n",
    "\n",
    "print(bool(x))\n",
    "print(bool(y))"
   ]
  },
  {
   "cell_type": "markdown",
   "id": "81bccf8b",
   "metadata": {},
   "source": [
    "# Most Values are True"
   ]
  },
  {
   "cell_type": "markdown",
   "id": "a2896ce1",
   "metadata": {},
   "source": [
    "Hampir semua nilai dievaluasi ke True jika memiliki semacam konten.\n",
    "\n",
    "Setiap string Benar, kecuali string kosong.\n",
    "\n",
    "Setiap nomor Benar, kecuali 0.\n",
    "\n",
    "Setiap daftar, tuple, set, dan kamus adalah True, kecuali yang kosong."
   ]
  },
  {
   "cell_type": "code",
   "execution_count": 49,
   "id": "d196498e",
   "metadata": {},
   "outputs": [
    {
     "data": {
      "text/plain": [
       "True"
      ]
     },
     "execution_count": 49,
     "metadata": {},
     "output_type": "execute_result"
    }
   ],
   "source": [
    "#The following will return True:\n",
    "\n",
    "bool(\"abc\")\n",
    "bool(123)\n",
    "bool([\"apple\", \"cherry\", \"banana\"])"
   ]
  },
  {
   "cell_type": "markdown",
   "id": "26f1a0f1",
   "metadata": {},
   "source": [
    "# Some Values are False"
   ]
  },
  {
   "cell_type": "markdown",
   "id": "0d86e630",
   "metadata": {},
   "source": [
    "Faktanya, tidak banyak nilai yang bernilai False, kecuali nilai kosong, seperti (), [], {}, \"\", angka 0, dan nilai None. Dan tentu saja nilai False dievaluasi menjadi False."
   ]
  },
  {
   "cell_type": "code",
   "execution_count": 50,
   "id": "2699d0d2",
   "metadata": {},
   "outputs": [
    {
     "data": {
      "text/plain": [
       "False"
      ]
     },
     "execution_count": 50,
     "metadata": {},
     "output_type": "execute_result"
    }
   ],
   "source": [
    "#The following will return False:\n",
    "\n",
    "bool(False)\n",
    "bool(None)\n",
    "bool(0)\n",
    "bool(\"\")\n",
    "bool(())\n",
    "bool([])\n",
    "bool({})"
   ]
  },
  {
   "cell_type": "markdown",
   "id": "c72bb587",
   "metadata": {},
   "source": [
    "# Functions can Return a Boolean"
   ]
  },
  {
   "cell_type": "markdown",
   "id": "592a4088",
   "metadata": {},
   "source": [
    "You can create functions that returns a Boolean Value:"
   ]
  },
  {
   "cell_type": "code",
   "execution_count": 51,
   "id": "bb8aa0ec",
   "metadata": {},
   "outputs": [
    {
     "name": "stdout",
     "output_type": "stream",
     "text": [
      "True\n"
     ]
    }
   ],
   "source": [
    "#Print the answer of a function:\n",
    "\n",
    "def myFunction() :\n",
    "  return True\n",
    "\n",
    "print(myFunction())"
   ]
  },
  {
   "cell_type": "markdown",
   "id": "af75d533",
   "metadata": {},
   "source": [
    "You can execute code based on the Boolean answer of a function:"
   ]
  },
  {
   "cell_type": "code",
   "execution_count": 52,
   "id": "9c204f35",
   "metadata": {},
   "outputs": [
    {
     "name": "stdout",
     "output_type": "stream",
     "text": [
      "YES!\n"
     ]
    }
   ],
   "source": [
    "#Print \"YES!\" if the function returns True, otherwise print \"NO!\":\n",
    "\n",
    "def myFunction() :\n",
    "  return True\n",
    "\n",
    "if myFunction():\n",
    "  print(\"YES!\")\n",
    "else:\n",
    "  print(\"NO!\")"
   ]
  },
  {
   "cell_type": "markdown",
   "id": "de628a9c",
   "metadata": {},
   "source": [
    "Python also has many built-in functions that return a boolean value, like the isinstance() function, which can be used to determine if an object is of a certain data type:"
   ]
  },
  {
   "cell_type": "code",
   "execution_count": 53,
   "id": "8f3410c6",
   "metadata": {},
   "outputs": [
    {
     "name": "stdout",
     "output_type": "stream",
     "text": [
      "True\n"
     ]
    }
   ],
   "source": [
    "#Check if an object is an integer or not:\n",
    "\n",
    "x = 200\n",
    "print(isinstance(x, int))"
   ]
  },
  {
   "cell_type": "markdown",
   "id": "94cbdaf1",
   "metadata": {},
   "source": [
    "# Python Operators"
   ]
  },
  {
   "cell_type": "markdown",
   "id": "846fcc7f",
   "metadata": {},
   "source": [
    "## Python Arithmetic Operators"
   ]
  },
  {
   "cell_type": "code",
   "execution_count": 60,
   "id": "688cfe26",
   "metadata": {},
   "outputs": [
    {
     "name": "stdout",
     "output_type": "stream",
     "text": [
      "8\n",
      "2\n",
      "15\n",
      "4.0\n",
      "1\n",
      "32\n",
      "7\n"
     ]
    }
   ],
   "source": [
    "#addition\n",
    "x = 5\n",
    "y = 3\n",
    "\n",
    "print (x+y)\n",
    "\n",
    "#substraction\n",
    "x = 5\n",
    "y = 3\n",
    "\n",
    "print(x - y)\n",
    "\n",
    "#multiplication\n",
    "x = 5\n",
    "y = 3\n",
    "\n",
    "print(x * y)\n",
    "\n",
    "#Division\n",
    "x = 12\n",
    "y = 3\n",
    "\n",
    "print(x / y)\n",
    "\n",
    "\n",
    "#Modulus\n",
    "x = 5\n",
    "y = 2\n",
    "\n",
    "print(x % y)\n",
    "\n",
    "#pangkat\n",
    "x = 2\n",
    "y = 5\n",
    "\n",
    "print(x ** y) #same as 2*2*2*2*2\n",
    "\n",
    "#Pembagian bilangan bulat\n",
    "x = 15\n",
    "y = 2\n",
    "\n",
    "print(x // y)\n",
    "\n",
    "#the floor division // rounds the result down to the nearest whole number"
   ]
  },
  {
   "cell_type": "markdown",
   "id": "7c457c56",
   "metadata": {},
   "source": [
    "## Python Assignment Operators"
   ]
  },
  {
   "cell_type": "markdown",
   "id": "a4847a92",
   "metadata": {},
   "source": [
    "Assignment operators are used to assign values to variables:"
   ]
  },
  {
   "cell_type": "code",
   "execution_count": 66,
   "id": "db05315e",
   "metadata": {},
   "outputs": [
    {
     "name": "stdout",
     "output_type": "stream",
     "text": [
      "5\n",
      "8\n",
      "2\n",
      "15\n",
      "1.6666666666666667\n"
     ]
    }
   ],
   "source": [
    "#operator =\n",
    "\n",
    "x = 5\n",
    "\n",
    "print(x)\n",
    "\n",
    "#operator +=\n",
    "x = 5\n",
    "\n",
    "x += 3\n",
    "\n",
    "print(x)\n",
    "\n",
    "#operator -=\n",
    "x = 5\n",
    "\n",
    "x -= 3\n",
    "\n",
    "print(x)\n",
    "\n",
    "#operator *=\n",
    "x = 5\n",
    "\n",
    "x *= 3\n",
    "\n",
    "print(x)\n",
    "\n",
    "#operator /=\n",
    "x = 5\n",
    "\n",
    "x /= 3\n",
    "\n",
    "print(x)\n"
   ]
  },
  {
   "cell_type": "markdown",
   "id": "d123c127",
   "metadata": {},
   "source": [
    "## Python Comparison Operators"
   ]
  },
  {
   "cell_type": "code",
   "execution_count": 67,
   "id": "b835123f",
   "metadata": {},
   "outputs": [
    {
     "name": "stdout",
     "output_type": "stream",
     "text": [
      "False\n",
      "True\n",
      "True\n",
      "False\n"
     ]
    }
   ],
   "source": [
    "#operator ==\n",
    "x = 5\n",
    "y = 3\n",
    "\n",
    "print(x == y)\n",
    "\n",
    "# returns False because 5 is not equal to 3\n",
    "\n",
    "\n",
    "#operator !=\n",
    "x = 5\n",
    "y = 3\n",
    "\n",
    "print(x != y)\n",
    "\n",
    "# returns True because 5 is not equal to 3\n",
    "\n",
    "#operator >\n",
    "x = 5\n",
    "y = 3\n",
    "\n",
    "print(x > y)\n",
    "\n",
    "# returns True because 5 is greater than 3\n",
    "\n",
    "#operator <\n",
    "x = 5\n",
    "y = 3\n",
    "\n",
    "print(x < y)\n",
    "\n",
    "# returns False because 5 is not less than 3\n"
   ]
  },
  {
   "cell_type": "markdown",
   "id": "35ff7b05",
   "metadata": {},
   "source": [
    "## Python Logical Operators"
   ]
  },
  {
   "cell_type": "markdown",
   "id": "3e30a6a3",
   "metadata": {},
   "source": [
    "Logical operators are used to combine conditional statements:"
   ]
  },
  {
   "cell_type": "code",
   "execution_count": 68,
   "id": "7ea9fa6b",
   "metadata": {},
   "outputs": [
    {
     "name": "stdout",
     "output_type": "stream",
     "text": [
      "True\n",
      "True\n",
      "False\n"
     ]
    }
   ],
   "source": [
    "#and\n",
    "x = 5\n",
    "\n",
    "print(x > 3 and x < 10)\n",
    "\n",
    "# returns True because 5 is greater than 3 AND 5 is less than 10\n",
    "\n",
    "#or\n",
    "x = 5\n",
    "\n",
    "print(x > 3 or x < 4)\n",
    "\n",
    "# returns True because one of the conditions are true (5 is greater than 3, but 5 is not less than 4)\n",
    "\n",
    "\n",
    "#not\n",
    "x = 5\n",
    "\n",
    "print(not(x > 3 and x < 10))\n",
    "\n",
    "# returns False because not is used to reverse the result\n"
   ]
  },
  {
   "cell_type": "markdown",
   "id": "559b596d",
   "metadata": {},
   "source": [
    "## Python Identity Operators"
   ]
  },
  {
   "cell_type": "markdown",
   "id": "87d7f377",
   "metadata": {},
   "source": [
    "Identity operators are used to compare the objects, not if they are equal, but if they are actually the same object, with the same memory location:"
   ]
  },
  {
   "cell_type": "code",
   "execution_count": 71,
   "id": "cec058b3",
   "metadata": {},
   "outputs": [
    {
     "name": "stdout",
     "output_type": "stream",
     "text": [
      "True\n",
      "False\n",
      "True\n"
     ]
    }
   ],
   "source": [
    "#is\n",
    "x = [\"apple\", \"banana\"]\n",
    "y = [\"apple\", \"banana\"]\n",
    "z = x\n",
    "\n",
    "print(x is z)\n",
    "\n",
    "# returns True because z is the same object as x\n",
    "\n",
    "print(x is y)\n",
    "\n",
    "# returns False because x is not the same object as y, even if they have the same content\n",
    "\n",
    "print(x == y)\n",
    "\n",
    "# to demonstrate the difference betweeen \"is\" and \"==\": this comparison returns True because x is equal to y\n"
   ]
  },
  {
   "cell_type": "code",
   "execution_count": 72,
   "id": "f213a498",
   "metadata": {},
   "outputs": [
    {
     "name": "stdout",
     "output_type": "stream",
     "text": [
      "False\n",
      "True\n",
      "False\n"
     ]
    }
   ],
   "source": [
    "#isnot\n",
    "\n",
    "x = [\"apple\", \"banana\"]\n",
    "y = [\"apple\", \"banana\"]\n",
    "z = x\n",
    "\n",
    "print(x is not z)\n",
    "\n",
    "# returns False because z is the same object as x\n",
    "\n",
    "print(x is not y)\n",
    "\n",
    "# returns True because x is not the same object as y, even if they have the same content\n",
    "\n",
    "print(x != y)\n",
    "\n",
    "# to demonstrate the difference betweeen \"is not\" and \"!=\": this comparison returns False because x is equal to y\n"
   ]
  },
  {
   "cell_type": "markdown",
   "id": "f915f0d6",
   "metadata": {},
   "source": [
    "# Python Lists\n"
   ]
  },
  {
   "cell_type": "code",
   "execution_count": 73,
   "id": "4a5fa3f1",
   "metadata": {},
   "outputs": [
    {
     "name": "stdout",
     "output_type": "stream",
     "text": [
      "['apple', 'banana', 'cherry']\n"
     ]
    }
   ],
   "source": [
    "#Create a List:\n",
    "\n",
    "thislist = [\"apple\", \"banana\", \"cherry\"]\n",
    "print(thislist)\n"
   ]
  },
  {
   "cell_type": "code",
   "execution_count": 74,
   "id": "2e774c77",
   "metadata": {},
   "outputs": [
    {
     "name": "stdout",
     "output_type": "stream",
     "text": [
      "['apple', 'banana', 'cherry', 'apple', 'cherry']\n"
     ]
    }
   ],
   "source": [
    "#Lists allow duplicate values:\n",
    "\n",
    "thislist = [\"apple\", \"banana\", \"cherry\", \"apple\", \"cherry\"]\n",
    "print(thislist)"
   ]
  },
  {
   "cell_type": "code",
   "execution_count": 75,
   "id": "50cc703c",
   "metadata": {},
   "outputs": [
    {
     "name": "stdout",
     "output_type": "stream",
     "text": [
      "3\n"
     ]
    }
   ],
   "source": [
    "#Print the number of items in the list:\n",
    "\n",
    "thislist = [\"apple\", \"banana\", \"cherry\"]\n",
    "print(len(thislist))"
   ]
  },
  {
   "cell_type": "markdown",
   "id": "0e5157db",
   "metadata": {},
   "source": [
    "## List Items - Data Types"
   ]
  },
  {
   "cell_type": "code",
   "execution_count": 77,
   "id": "5b5821a8",
   "metadata": {},
   "outputs": [],
   "source": [
    "#String, int and boolean data types:\n",
    "\n",
    "list1 = [\"apple\", \"banana\", \"cherry\"]\n",
    "list2 = [1, 5, 7, 9, 3]\n",
    "list3 = [True, False, False]\n",
    "\n",
    "#A list with strings, integers and boolean values:\n",
    "\n",
    "list1 = [\"abc\", 34, True, 40, \"male\"]"
   ]
  },
  {
   "cell_type": "markdown",
   "id": "51c0b3d0",
   "metadata": {},
   "source": [
    "## type()"
   ]
  },
  {
   "cell_type": "code",
   "execution_count": 78,
   "id": "cf106dc2",
   "metadata": {},
   "outputs": [
    {
     "name": "stdout",
     "output_type": "stream",
     "text": [
      "<class 'list'>\n"
     ]
    }
   ],
   "source": [
    "#What is the data type of a list?\n",
    "\n",
    "mylist = [\"apple\", \"banana\", \"cherry\"]\n",
    "print(type(mylist))\n"
   ]
  },
  {
   "cell_type": "markdown",
   "id": "4042d9b5",
   "metadata": {},
   "source": [
    "# Python Tuples\n"
   ]
  },
  {
   "cell_type": "code",
   "execution_count": 79,
   "id": "479fb8df",
   "metadata": {},
   "outputs": [
    {
     "name": "stdout",
     "output_type": "stream",
     "text": [
      "('apple', 'banana', 'cherry')\n"
     ]
    }
   ],
   "source": [
    "#Create a Tuple:\n",
    "\n",
    "thistuple = (\"apple\", \"banana\", \"cherry\")\n",
    "print(thistuple)"
   ]
  },
  {
   "cell_type": "code",
   "execution_count": 80,
   "id": "2d98d5e4",
   "metadata": {},
   "outputs": [
    {
     "name": "stdout",
     "output_type": "stream",
     "text": [
      "('apple', 'banana', 'cherry', 'apple', 'cherry')\n"
     ]
    }
   ],
   "source": [
    "#Tuples allow duplicate values:\n",
    "\n",
    "thistuple = (\"apple\", \"banana\", \"cherry\", \"apple\", \"cherry\")\n",
    "print(thistuple)"
   ]
  },
  {
   "cell_type": "code",
   "execution_count": 81,
   "id": "45ca02e8",
   "metadata": {},
   "outputs": [
    {
     "name": "stdout",
     "output_type": "stream",
     "text": [
      "3\n"
     ]
    }
   ],
   "source": [
    "#Print the number of items in the tuple:\n",
    "\n",
    "thistuple = (\"apple\", \"banana\", \"cherry\")\n",
    "print(len(thistuple))"
   ]
  },
  {
   "cell_type": "markdown",
   "id": "9209a72c",
   "metadata": {},
   "source": [
    "## Create Tuple With One Item"
   ]
  },
  {
   "cell_type": "code",
   "execution_count": 82,
   "id": "f9ccaf76",
   "metadata": {},
   "outputs": [
    {
     "name": "stdout",
     "output_type": "stream",
     "text": [
      "<class 'tuple'>\n",
      "<class 'str'>\n"
     ]
    }
   ],
   "source": [
    "#One item tuple, remember the comma:\n",
    "\n",
    "thistuple = (\"apple\",)\n",
    "print(type(thistuple))\n",
    "\n",
    "#NOT a tuple\n",
    "thistuple = (\"apple\")\n",
    "print(type(thistuple))"
   ]
  },
  {
   "cell_type": "markdown",
   "id": "ed7f4859",
   "metadata": {},
   "source": [
    "## Tuple Items - Data Types"
   ]
  },
  {
   "cell_type": "code",
   "execution_count": 84,
   "id": "44a24669",
   "metadata": {},
   "outputs": [],
   "source": [
    "#String, int and boolean data types:\n",
    "\n",
    "tuple1 = (\"apple\", \"banana\", \"cherry\")\n",
    "tuple2 = (1, 5, 7, 9, 3)\n",
    "tuple3 = (True, False, False)"
   ]
  },
  {
   "cell_type": "markdown",
   "id": "48c7eabd",
   "metadata": {},
   "source": [
    "# Python Sets"
   ]
  },
  {
   "cell_type": "code",
   "execution_count": 85,
   "id": "52c6ce49",
   "metadata": {},
   "outputs": [
    {
     "name": "stdout",
     "output_type": "stream",
     "text": [
      "{'apple', 'banana', 'cherry'}\n"
     ]
    }
   ],
   "source": [
    "#Create a Set:\n",
    "\n",
    "thisset = {\"apple\", \"banana\", \"cherry\"}\n",
    "print(thisset)"
   ]
  },
  {
   "cell_type": "code",
   "execution_count": 86,
   "id": "434800e6",
   "metadata": {},
   "outputs": [
    {
     "name": "stdout",
     "output_type": "stream",
     "text": [
      "{'apple', 'banana', 'cherry'}\n"
     ]
    }
   ],
   "source": [
    "#Duplicate not allowed \n",
    "\n",
    "thisset = {\"apple\", \"banana\", \"cherry\", \"apple\"}\n",
    "\n",
    "print(thisset)"
   ]
  },
  {
   "cell_type": "code",
   "execution_count": 87,
   "id": "8004f8c7",
   "metadata": {},
   "outputs": [
    {
     "name": "stdout",
     "output_type": "stream",
     "text": [
      "3\n"
     ]
    }
   ],
   "source": [
    "#Get the number of items in a set:\n",
    "\n",
    "thisset = {\"apple\", \"banana\", \"cherry\"}\n",
    "\n",
    "print(len(thisset))"
   ]
  },
  {
   "cell_type": "markdown",
   "id": "99a1a927",
   "metadata": {},
   "source": [
    "## Set items- data types"
   ]
  },
  {
   "cell_type": "code",
   "execution_count": 89,
   "id": "99073416",
   "metadata": {},
   "outputs": [],
   "source": [
    "#String, int and boolean data types:\n",
    "\n",
    "set1 = {\"apple\", \"banana\", \"cherry\"}\n",
    "set2 = {1, 5, 7, 9, 3}\n",
    "set3 = {True, False, False}\n",
    "\n",
    "#A set with strings, integers and boolean values:\n",
    "\n",
    "set1 = {\"abc\", 34, True, 40, \"male\"}\n"
   ]
  },
  {
   "cell_type": "markdown",
   "id": "1e644a5e",
   "metadata": {},
   "source": [
    "# Python Dictionaries"
   ]
  },
  {
   "cell_type": "code",
   "execution_count": 90,
   "id": "734dd3da",
   "metadata": {},
   "outputs": [
    {
     "name": "stdout",
     "output_type": "stream",
     "text": [
      "{'brand': 'Ford', 'model': 'Mustang', 'year': 1964}\n"
     ]
    }
   ],
   "source": [
    "#Create and print a dictionary:\n",
    "\n",
    "thisdict = {\n",
    "  \"brand\": \"Ford\",\n",
    "  \"model\": \"Mustang\",\n",
    "  \"year\": 1964\n",
    "}\n",
    "print(thisdict)"
   ]
  },
  {
   "cell_type": "code",
   "execution_count": 91,
   "id": "6a28111a",
   "metadata": {},
   "outputs": [
    {
     "name": "stdout",
     "output_type": "stream",
     "text": [
      "Ford\n"
     ]
    }
   ],
   "source": [
    "#Print the \"brand\" value of the dictionary:\n",
    "\n",
    "thisdict = {\n",
    "  \"brand\": \"Ford\",\n",
    "  \"model\": \"Mustang\",\n",
    "  \"year\": 1964\n",
    "}\n",
    "print(thisdict[\"brand\"])"
   ]
  },
  {
   "cell_type": "code",
   "execution_count": 93,
   "id": "7fb8dd82",
   "metadata": {},
   "outputs": [
    {
     "name": "stdout",
     "output_type": "stream",
     "text": [
      "{'brand': 'Ford', 'model': 'Mustang', 'year': 2020}\n"
     ]
    }
   ],
   "source": [
    "#Duplicates are not allowed \n",
    "\n",
    "thisdict = {\n",
    "  \"brand\": \"Ford\",\n",
    "  \"model\": \"Mustang\",\n",
    "  \"year\": 1964,\n",
    "  \"year\": 2020\n",
    "}\n",
    "print(thisdict)"
   ]
  },
  {
   "cell_type": "code",
   "execution_count": 94,
   "id": "6682b1a4",
   "metadata": {},
   "outputs": [
    {
     "name": "stdout",
     "output_type": "stream",
     "text": [
      "3\n"
     ]
    }
   ],
   "source": [
    "#Print the number of items in the dictionary:\n",
    "\n",
    "print(len(thisdict))"
   ]
  },
  {
   "cell_type": "code",
   "execution_count": null,
   "id": "a6f34949",
   "metadata": {},
   "outputs": [],
   "source": []
  }
 ],
 "metadata": {
  "kernelspec": {
   "display_name": "Python 3",
   "language": "python",
   "name": "python3"
  },
  "language_info": {
   "codemirror_mode": {
    "name": "ipython",
    "version": 3
   },
   "file_extension": ".py",
   "mimetype": "text/x-python",
   "name": "python",
   "nbconvert_exporter": "python",
   "pygments_lexer": "ipython3",
   "version": "3.8.8"
  }
 },
 "nbformat": 4,
 "nbformat_minor": 5
}
