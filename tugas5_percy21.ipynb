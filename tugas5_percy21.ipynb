{
 "cells": [
  {
   "cell_type": "markdown",
   "metadata": {},
   "source": [
    "# Python OOP"
   ]
  },
  {
   "cell_type": "markdown",
   "metadata": {},
   "source": [
    "### 1. Apa itu OOP dan cobalah buat 2 implementasi konsep OOP menggunakan Python!\n",
    "Jawaban :\n",
    "\n",
    "\n",
    "OOP adalah paradigma pemrograman yang menyediakan saran untuk menyusun program sehingga properti dan perilaku digabungkan ke dalam objek individual."
   ]
  },
  {
   "cell_type": "code",
   "execution_count": 1,
   "metadata": {},
   "outputs": [
    {
     "name": "stdout",
     "output_type": "stream",
     "text": [
      "Harga Jual Laptop: 900\n",
      "Harga Jual Laptop: 900\n",
      "Harga Jual Laptop: 1000\n"
     ]
    }
   ],
   "source": [
    "# contoh 1 \n",
    "class Laptop:\n",
    "    def __init__(self):\n",
    "        self.__hargamaksimum = 900\n",
    "    \n",
    "    def jual(self):\n",
    "        print(\"Harga Jual Laptop: {}\".format(self.__hargamaksimum))\n",
    "        \n",
    "    def HargaMax(self, Harga):\n",
    "        self.__hargamaksimum = Harga\n",
    "a = Laptop()\n",
    "a.jual()\n",
    "\n",
    "#ubah harga\n",
    "a.__hargamaksimum = 1000\n",
    "a.jual()\n",
    "\n",
    "#menggunakan fungsi setter\n",
    "a.HargaMax(1000)\n",
    "a.jual()"
   ]
  },
  {
   "cell_type": "code",
   "execution_count": 2,
   "metadata": {},
   "outputs": [
    {
     "name": "stdout",
     "output_type": "stream",
     "text": [
      "Buku: Rindu, penulis Tere Liye, harga 79000\n",
      "Buku: Mantappu Jiwa, penulis Jerome Polin, harga 95000\n",
      "Buku: THE 5 AM CLUB, penulis Robin Sharma, harga 190000\n"
     ]
    }
   ],
   "source": [
    "# Contoh 2 \n",
    "class Buku:\n",
    "    def __init__(self, judul, penulis, harga):\n",
    "        self.judul = judul\n",
    "        self.penulis = penulis\n",
    "        self.harga = harga\n",
    "\n",
    "    def __repr__(self):\n",
    "        return f\"Buku: {self.judul}, penulis {self.penulis}, harga {self.harga}\"\n",
    "\n",
    "\n",
    "buku1 = Buku('Rindu', 'Tere Liye', 79000)\n",
    "buku2 = Buku('Mantappu Jiwa', 'Jerome Polin', 95000)\n",
    "buku3 = Buku('THE 5 AM CLUB', 'Robin Sharma', 190000)\n",
    "\n",
    "print(buku1)\n",
    "print(buku2)\n",
    "print(buku3)"
   ]
  },
  {
   "cell_type": "markdown",
   "metadata": {},
   "source": [
    "### 2. Sebutkan dan jelaskan 2 jenis modules yang ada di Python! \n",
    "Jawaban :\n",
    "\n",
    "1. module sys\n",
    "\n",
    "Skrip utilitas umum seringkali perlu memproses argumen baris perintah. Argumen-argumen ini disimpan dalam atribut argv dari modul sys sebagai daftar. Sebagai contoh, hasil keluaran berikut dari menjalankan python demo.py one two three di baris perintah"
   ]
  },
  {
   "cell_type": "code",
   "execution_count": 9,
   "metadata": {},
   "outputs": [
    {
     "name": "stdout",
     "output_type": "stream",
     "text": [
      "['/opt/anaconda3/lib/python3.8/site-packages/ipykernel_launcher.py', '-f', '/Users/trifaramelinia/Library/Jupyter/runtime/kernel-ff1eb573-6868-4ad3-9543-82789c4cc642.json']\n"
     ]
    },
    {
     "data": {
      "text/plain": [
       "['demo.py', 'one', 'two', 'three']"
      ]
     },
     "execution_count": 9,
     "metadata": {},
     "output_type": "execute_result"
    }
   ],
   "source": [
    "import sys\n",
    "print(sys.argv)\n",
    "['demo.py', 'one', 'two', 'three']\n"
   ]
  },
  {
   "cell_type": "markdown",
   "metadata": {},
   "source": [
    "2. Modul re\n",
    "\n",
    "Modul re menyediakan alat ekspresi reguler untuk pemrosesan string lanjutan. Untuk pencocokan dan manipulasi yang kompleks, ekspresi reguler menawarkan solusi yang ringkas dan dioptimalkan:"
   ]
  },
  {
   "cell_type": "code",
   "execution_count": 11,
   "metadata": {},
   "outputs": [
    {
     "data": {
      "text/plain": [
       "'cat in the hat'"
      ]
     },
     "execution_count": 11,
     "metadata": {},
     "output_type": "execute_result"
    }
   ],
   "source": [
    "import re\n",
    "re.findall(r'\\bf[a-z]*', 'which foot or hand fell fastest')\n",
    "['foot', 'fell', 'fastest']\n",
    "re.sub(r'(\\b[a-z]+) \\1', r'\\1', 'cat in the the hat')\n",
    "'cat in the hat'"
   ]
  },
  {
   "cell_type": "markdown",
   "metadata": {},
   "source": [
    "### 3. Hitunglah berapa hasil dari √175 + 4√7 + (1/3) + ³log 81 menggunakan module math! \n",
    "Jawaban :\n"
   ]
  },
  {
   "cell_type": "code",
   "execution_count": 6,
   "metadata": {},
   "outputs": [
    {
     "name": "stdout",
     "output_type": "stream",
     "text": [
      "A1 = 13.228756555322953\n",
      "A2 = 10.583005244258363\n",
      "A3 = 1.0\n",
      "A4 = 1.3376291891386096\n",
      "Jadi hasilnya adalah 26.149390988719926\n"
     ]
    }
   ],
   "source": [
    "import math\n",
    "A1 = math.sqrt (175)\n",
    "A2 = 4*math.sqrt(7)\n",
    "A3 = math.pow(1 , 3)\n",
    "A4 = math.log (3.81)\n",
    "print(\"A1 =\" ,A1)\n",
    "print(\"A2 =\" ,A2)\n",
    "print(\"A3 =\" ,A3)\n",
    "print(\"A4 =\" ,A4)\n",
    "\n",
    "Hasil = A1 + A2 + A3 + A4\n",
    "\n",
    "print  (\"Jadi hasilnya adalah\" ,Hasil)"
   ]
  },
  {
   "cell_type": "markdown",
   "metadata": {},
   "source": [
    "### 4. Apa itu custom exception handling dan berikan 1 contoh implementasinya! \n",
    "Jawaban :\n",
    "\n",
    "Python Exception handling adalah suatu mekanisme penanganan flow normal program karena terjadi exception dengan melanjutkan flow ke code block lainnya."
   ]
  },
  {
   "cell_type": "code",
   "execution_count": 5,
   "metadata": {},
   "outputs": [],
   "source": [
    "#Contoh \n",
    "import sys\n",
    "def convert(s):\n",
    "    '''convert to integer'''\n",
    "    try:\n",
    "        return int(s)\n",
    "    except (ValueError, TypeError) as e:\n",
    "        print(\"Konversi error : {}\".format(str(e)), file=sys.stderr)\n",
    "        raise"
   ]
  },
  {
   "cell_type": "markdown",
   "metadata": {},
   "source": [
    "# Artificial Intelligence"
   ]
  },
  {
   "cell_type": "markdown",
   "metadata": {},
   "source": [
    "### 1. Apa perbedaan dari structured dan unstructured data dan sebutkan 3 sumber data! \n",
    "Jawaban: \n",
    "\n",
    "Data terstruktur adalah semua jenis data yang pemformatan, angka dan tata letaknya berada dalam bidang/tempat yang tetap dalam file atau rekaman biasanya berbentuk data tabular. Contohnya tabel excel. Sedangkan data tidak terstruktur adalah data kualitatif yang artinya tidak dapat diolah atau dianalisis dengan alat atau metode konvensional. Contohnya data gambar, video , audio dan teks.\n",
    "\n",
    "*Sumber data*\n",
    "Data Terstruktur : integer, string, \n",
    "Data Tidak Terstruktur : teks, gambar, suara\n"
   ]
  },
  {
   "cell_type": "markdown",
   "metadata": {},
   "source": [
    "### 2. Jelaskan perbedaan AI, Machine Learning dan Deep Learning! \n",
    "Jawaban :\n",
    "\n",
    "AI – Teknik apa pun yang memungkinkan computer meniru kecerdasan manusia.\n",
    "\n",
    "Mechine Learning – Bagian dari AI yang memungkinkan mesin untuk mengajarkan tugas dengan lebih baik, dengan pengalaman.\n",
    "\n",
    "Deep Learning – Bagian dari ML yang memungkinkan software melatih dirinya sendiri untuk melakukan tugas dengan data dalam jumlah besar.\n"
   ]
  },
  {
   "cell_type": "markdown",
   "metadata": {},
   "source": [
    "### 3. Apa perbedaan Machine Learning dengan Tradisional software? \n",
    "Jawaban :\n",
    "\n",
    "Mesin Tradisional menerima input berupa data dan rule/model, kemudian nantinya mesin tradisional menghasilkan jawaban. Sedangkan mechine learning akan menerima data dan jawaban, kemudian menghasilkan output ML berupa rule/model. Software tradisional tidak dapat melakukan prediksi karena hanya dapat menampilkan/memvisualisasikan data yang sudah diinputkan oleh user. Sedangkan Machine Learning dapat melakukan prediksi pada berbagai domain. \n"
   ]
  },
  {
   "cell_type": "markdown",
   "metadata": {},
   "source": [
    "### 4. Sebutkan 3 contoh aplikasi Machine Learning di sektor smart city dan agriculture! \n",
    "Jawaban :\n",
    "\n",
    "Contoh aplikasi Machine Learning di sektor smart city :\n",
    "\n",
    "a.\tLAPOR! (Layanan Aspirasi dan Pengaduan Online Rakyat) adalah sarana aspirasi dan pengaduan berbasis media sosial pertama dengan lingkup Indonesia.\n",
    "\n",
    "b.\tAmazon Go Grocery adalah supermarket milik amazon yang pertama kali dibuka di Seatle pada tahun 2020. Amazon menggunakan teknologi sensor di dalam rak produknya dan ada ratusan kamera yang terpasang di dalam toko yang bisa mendeteksi produk yang diambil dengan system penglihatan computer milik mereka sehingga Supermarket ini tidak memerlukan kasir, pelanggan hanya butuh aplikasi Amazon Go dan secara otomatis semua kegiatan yang dilakukan didalam supermarket akan terdeteksi, seperti barang apa aja yang dibeli, waktu belanja dan pembayaran. Semua produk yang dibeli secara otomatis terdaftar dan pembayaran dilakukan secara autodebit di Aplikasi Amazon Go.\n",
    "\n",
    "c.\tmCity adalah sebuah aplikasi City Directory yang bisa diakses melalui smartphone. Melalui aplikasi ini, wisatawan yang berkunjung ke kota-kota yang sudah didukung oleh mCity bisa lebih dimudahkan. Di dalamnya tersedia informasi lengkap tentang kuliner, objek-objek wisata, hingga informasi hotel.\n",
    "\n",
    "Contoh aplikasi Machine Learning di sektor smart farming :\n",
    "\n",
    "a.\tGeography Information System (GIS) adalah aplikasi untuk pemetaan lahan, rekomendasi varietas, menentukan lokasi mana yang sudah siap panen, dan juga penyebaran OTP. Fitur yang ada dalam aplikasi ini pun sangat lengkap, seperti Web Smart Farming, pengelolaan keuangan, web untuk kios, web untuk koprasi maupun bank. Aplikasi ini juga dilengkapi fitur mobile untuk pelaku pertanian seperti petani, account officer, Agronomis, dan juga Supir.\n",
    "\n",
    "b.\tAgri Drone Sprayer adalah drone penyemprot pestisida dan pupuk cair. Dengan menggunakan drone ini pemberian pupuk dan pestisida secara berlebih pun bisa dihindari. Tak hanya itu, didukung dengan penggunaan Drone Surveillance, pemetaan lahan juga bisa dilakukan. Dari hasil pemetaan, petani bisa mengetahui kondisi tanaman di lahan mereka.\n",
    "\n",
    "c.\tSoil and Weather sensor adalah Sensor tanah dan cuaca) yang terpasang di lahan pertanian, juga akan membantu petani dalam memantau kondisi tanaman. Data yang dapat diperoleh dari sensor ini diantaranya seperti kelembapan udara dan tanah, suhu, pH tanah, kadar air, hingga estimasi masa panen. Sensor ini terintegrasi dengan aplikasi berbasis android RiTx, peringatan dini akan diterima petani jika terjadi anomali terhadap kondisi lahan mereka. Tak hanya itu, petani juga akan mendapatkan rekomendasi, demi mencegah terjadinya kerusakan terhadap lahan dan tanaman.\n"
   ]
  },
  {
   "cell_type": "markdown",
   "metadata": {},
   "source": [
    "# Math for AI"
   ]
  },
  {
   "cell_type": "markdown",
   "metadata": {},
   "source": [
    "### 1. Mengapa ilmu matematika penting ketika mempelajari AI? \n",
    "Jawaban :\n",
    "\n",
    "Kecerdasan buatan atau artificial intelligence adalah cabang dari ilmu komputer yang melibatkan pengembangan mesin atau program komputer untuk menyelesaikan tugas-tugas yang pada dasarnya membutuhkan kecerdasan manusia. Hal yang menjadi dasar dari kecerdasan buatan yakni pembelajaran mesin atau machine learning yang memungkinkan mesin untuk mempelajari algoritma dari data dan membuat prediksi pada data tanpa memprogram mesin tersebut secara eksplisit. Selain itu, pembelajaran mesin juga berdasarkan suatu ilmu yang lain, yaitu matematika. Oleh karena itu, kecerdasan buatan seluruhnya berdasarkan ilmu matematika sehingga untuk mengembangkan teknologi kecerdasan buatan ini, pembelajaran matematika harus ikut berkembang juga. Pembelajaran mesin menggunakan alat dari berbagai bidang matematika. Terdapat setidaknya empat bidang matematika yang berperan dalam pembelajaran mesin, yakni statistika, kalkulus dan optimisasi, aljabar linier, dan probabilitas. Pada bidang statistika, ilmu ini digunakan untuk mencari tahu hubungan antara data dan variabel-variabel dalam data tersebut. Salah satu metode dalam statistika adalah metode regresi linier yang digunakan untuk menyimpulkan kecenderungan suatu data. Kalkulus dan optimalisasi digunakan dalam pembelajaran mesin dengan menggunakan suatu algoritma yaitu gradient descent yang digunakan untuk menemukan arah dari steepest descent yang dapat menentukan titik terdalam pada satu grafik data. Setelah ditemukannya titik terdalam tersebut, suatu garis regresi linier dapat ditentukan. Sementara itu, aljabar linier adalah ilmu yang mempelajari tentang vektor dan aturan-aturan untuk memanipulasi vektor yang menjadi dasar dari gradient descent dalam kalkulus. Terakhir, bidang matematika yang berperan penting dalam pembelajaran mesin adalah probabilitas, yakni ilmu yang dapat memberikan informasi tentang seberapa mungkin suatu kejadian dapat terjadi.\n"
   ]
  },
  {
   "cell_type": "markdown",
   "metadata": {},
   "source": [
    "### 2. Jelaskan perbedaan vektor dan skalar! \n",
    "Jawaban :\n",
    "\n",
    "Vektor adalah besaran yang memiliki nilai dan arah. Dalam ilmu data, vector adalah kumpulan nilai dari variabel tertentu. Sedangkan Skalar adalah konstanta atau besaran yang memiliki nilai. Vektor yang berdimensi sama dapat dioperasikan.\n"
   ]
  },
  {
   "cell_type": "markdown",
   "metadata": {},
   "source": [
    "### 3. Apa perbedaan dari Jarak Euclidean dan Manhattan? \n",
    "Jawaban :\n",
    "\n",
    "Euclidean metrik adalah jarak antara dua titik yang satu dengan yang lain yang dapat diukur dengna menggunakan penggaris, pada perhitungan jarak Euclidean digunakan formula Pythagoras. Sedangkan jarak manhattan merupakan bentuk geometri di mana fungsi jarak biasa atau metrik geometri Euclidean digantikan oleh metrik baru di mana jarak antara dua titik adalah jumlah dari perbedaan mutlak Cartesian koordinat. \n"
   ]
  },
  {
   "cell_type": "markdown",
   "metadata": {},
   "source": [
    "### 4. Apa kegunaan matriks dalam ilmu matematika ketika menerapkan AI?\n",
    "Jawaban :\n",
    "\n",
    "Ketika menerapkan AI kita membutuhkan matriks/array selain itu juga enkripsi data dapat dilakukan dengan menggunakan beragam operasi matriks.\n"
   ]
  },
  {
   "cell_type": "markdown",
   "metadata": {},
   "source": [
    "# Mechine Learning"
   ]
  },
  {
   "cell_type": "markdown",
   "metadata": {},
   "source": [
    "### 1. Jelaskan perbedaan supervised dan unsupervised learning dan sebutkan 2 contohnya! \n",
    "Jawaban :\n",
    "\n",
    "Supervised Learning adalah sebuah pendekatan dimana sudah terdapat data yang dilatih dan terdapat variabel yang ditargetkan sehingga tujuan dari pendekatan ini adalah mengelompokan suatu data yang sudah ada (Estimate, Prediksi, Klasifikasi). Sedangkan Unsupervised Learning tidak memiliki data latih sehingga dari data yang ada kita mengelompokan data tersebut menjadi 2 bagian atau 3 bagian atau seterusnya (Clustering, Asosiasi).\n"
   ]
  },
  {
   "cell_type": "markdown",
   "metadata": {},
   "source": [
    "### 2. Sebutkan setiap tahap yang ada di Machine Learning life cycle dan jelaskan! \n",
    "Jawaban :\n",
    "\n",
    "Langkah Langkah dalam ML\n",
    "1.\tGathering Data\n",
    "Seperti yang kita ketahui, sebuah mesin awalnya belajar dari input data yang diberikan. Sangat penting untuk mengunpulkan data sehingga model Mechine Learning dapat menemukan pola yang benar. Kualitas data yang dimasukkan ke mesin akan menentukan seberapa akurat model yang dibuat.\n",
    "2.\tMenyiapkan Data\n",
    "Setelah memiliki data, kemudian mengumpulkan semua data yang dimiliki dan mengacaknya. Hal ini membantu memastikan bahwa data terdistribusi secara merata dan urutannya tidak mempengaruhi proses pembelajaran. Setelah itu membersihkan data untuk menghapus data yang tidak diinginkan, nilai yang hilang, baris, kolom, nilai duplikat, konversi tipe data, dll. Kemudian memisahkan data yang dibersihkan menjadi dua set yaitu set pelatihan dan set pengujian.\n",
    "3.\tMemilih Model\n",
    "Model pembelajaran mesin menentukan output yang didapatkan setelah menjalankan algoritma pembelajaran mesin pada data yang dikumpulkan. Penting untuk memilih model yang relevan dengan tugas yang dihadapi. Selama bertahun-tahun, para ilmuwan dan insinyur mengembangkan berbagai model yang cocok untuk tugas yang berbeda seperti pengenalan suara, pengenala gambar, prediksi, dll.\n",
    "4.\tUji coba Model \n",
    "Uji coba adalah langkah terpeting dalam pembelajaran mesin. Dlam uji coba, kita meneruskan data yang telah disiapkan ke model pembelajaran mesin untuk menemukan pola dan membuat prediksi. Kemudian menghasilkan model pembelajaran dari data sehingga dapat menyelesaikan tugas.\n",
    "5.\tEvaluate Model \n",
    "Setelah melatih model, kita harus memeriksa untuk melihat bagaimana kinerjanya. Hal ini dilakukan dengan menguji kinerja model pada data yang sebelumnya tidak terlihat. Jika pengujian dilakukan pada data yang sama yang digunakan untuk pelatihan, kita tidak perlu mendapatkan ukuran yang akurat karena model sudah terbiasa dengan data dan menemukan pola yang sama didalamnya.\n",
    "6.\tTuning Hyperparameter\n",
    "Setelah melakukan evaluasi model, kemudian lihat apakah akurasinya dapat ditingkatkan dengan cara lain seperti mengubah parameter yang ada dalam model. \n",
    "7.\tPrediksi\n",
    "Pada akhirnya, model dapat digunakan untuk prediksi data secara akurat.\n"
   ]
  },
  {
   "cell_type": "markdown",
   "metadata": {},
   "source": [
    "### 3. Apa perbedaan regression dengan clustering? \n",
    "Jawaban :\n",
    "\n",
    "Regression adalah suatu teknik analisis untuk mengidentifikasi relasi atau hubungan diantara dua variabel atau lebih. Regresi bertujuan untuk menemukan suatu fungsi yang memodelkan data dengan meminimalkan error atau selisih antara nilai prediksi dengan nilai sebenarnya. Sedangkan Clustering digunakan untuk mengelompokkan data-data yang memiliki kemiripan menjadi satu wilayah yang sama. Sedangkan data dengan karakteristik berbeda akan ditambahkan ke dalam wilayah lainnya.\n"
   ]
  },
  {
   "cell_type": "markdown",
   "metadata": {},
   "source": [
    "### 4. Apa itu algoritma Artificial Neural Network dan untuk apa fungsinya? \n",
    "Jawaban :\n",
    "\n",
    "Artificial Neural Network (ANN) atau Jaringan Syaraf Tiruan (JST) adalah paradigma pemrosesan informasi yang terinspirasi dari cara kerja system syaraf (otak) manusia dalam memproses informasi. ANN terdiri dari sejumlah besar elemen pemrosesan (neuron) yang saling berhubungan dan bekerja secara bersama untuk memecahkan masalah tertentu. ANN berguna untuk robotika dan system pengenalan pola. JST memiliki potensi toleransi kesalahan yang tinggi. Keluaran ANN tidak sepenuhnya tidak sepenuhnya dibatasi oleh masukan dan hasil yang diberikan kepada mereka pada awalnya oleh system pakar. ANN mampu men-debug atau mendiagnosa jaringan sendiri. Sistem Nonlinier yang memiliki kemampuan untuk menemukan jalan pintas untuk mencapai solusi komputasi yang mahal. \n",
    "\n"
   ]
  }
 ],
 "metadata": {
  "kernelspec": {
   "display_name": "Python 3",
   "language": "python",
   "name": "python3"
  },
  "language_info": {
   "codemirror_mode": {
    "name": "ipython",
    "version": 3
   },
   "file_extension": ".py",
   "mimetype": "text/x-python",
   "name": "python",
   "nbconvert_exporter": "python",
   "pygments_lexer": "ipython3",
   "version": "3.8.5"
  }
 },
 "nbformat": 4,
 "nbformat_minor": 4
}
