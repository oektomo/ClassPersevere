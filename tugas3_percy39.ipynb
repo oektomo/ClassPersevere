{
 "cells": [
  {
   "cell_type": "markdown",
   "id": "5af7b966",
   "metadata": {},
   "source": [
    "# Tugas 3 Aplikasi AI"
   ]
  },
  {
   "cell_type": "markdown",
   "id": "19cdd7ed",
   "metadata": {},
   "source": [
    "## 1. Data Science\n",
    "\n",
    "### Penipuan dan Deteksi Risiko\n",
    "Keuangan dan data science memiliki hubungan erat karena keduanya berkaitan dengan data. Perusahaan dulu memiliki banyak dokumen untuk mulai mengotorisasi pinjaman, menjaganya agar tetap up-to-date, menderita kerugian, dan terlilit hutang. Jadi data science dianggap sebagai solusi. Mereka belajar membagi data berdasarkan profil konsumen, pengeluaran sebelumnya, dan variable lainnya untuk memperkirakan kemungkinan risiko. Hal ini juga membantu dalam promosi produk perbankan tergantung pada daya beli nasabah. data science juga membawa pelatihan algoritmik, yang mana organisasi keuangan dapat menggunakan analisis data yang ketat untuk membuat penilaian berdasarkan data.\n",
    "\n",
    "### Kesehatan : Penelitian Genetika dan Genomik\n",
    "Penelitian genetika dan genomik telah mengambil arah baru ke tingkat terapi canggih yang menggabungkan data science untuk analisis data yang lebih baik. Ahli bioinformatika dan ahli genetika menggunakan data science untuk mempelajari bagaimana gen bereaksi terhadap berbagai obat. hal ini untuk memahami dan menyelidiki pengaruh DNA pada kesehatan individu yang berusaha mengidentifikasi hubungan molekuler antara penyakit, gen, dan respons pengobatan. Teknologi big data seperti MapReduce telah terbukti secara drastis memangkas waktu pemrosesan untuk pengurutan genom."
   ]
  },
  {
   "cell_type": "markdown",
   "id": "e3202e06",
   "metadata": {},
   "source": [
    "## 2. Computer Vision\n",
    "\n",
    "### Olahraga : Real Tim Coaching\n",
    "Analisis video olahraga berdasarkan computer vision dapat membantu meningkatkan efisiensi sumber daya dan mempersingkat waktu feedback untuk pekerjaan yang dibatasi waktu. Pelatih dan atlet yang melakukan aktivitas notasi yang memakan waktu. Bidang penelitian computer vision yang baru-baru ini berkembang sebanding adalah sistem pelatihan mandiri untuk aktivitas olahraga. Berlatih seorang diri hanya dapat tumbuh ke tingkat tertentu jika tanpa bimbingan seorang pelatih.Software pelatihan mandiri yoga, misalnya, mencoba mengajari pengguna cara mempraktikkan pose yoga dengan benar, membantu memperbaiki postur tubuh yang buruk dan mencegah kerusakan. Sistem slef-study berbasis computer vision juga dapat digunakan untuk memberikan saran tentang cara memperbaiki postur tubuh.\n",
    "\n",
    "### Manufaktur : Inspeksi Visual Peralatan\n",
    "Dalam smart-manufacturing, computer vision untuk inspeksi visual adalah pendekatan utama. Inspeksi otomatis Alat Pelindung Diri (APD), seperti Deteksi Masker atau Deteksi Helm, juga menjadi lebih umum menggunakan sistem inspeksi berbasis computer vision. Di lokasi pembangunan atau di pabrik pintar, computer vision dapat membantu memantau kepatuhan terhadap prosedur keselamatan."
   ]
  },
  {
   "cell_type": "markdown",
   "id": "0a7e0f6c",
   "metadata": {},
   "source": [
    "## 3. Natural Languange Processing\n",
    "\n",
    "### Prediksi Text\n",
    "Autocorrect, predictive text, dan autocomplete adalah semua fitur umum di smarphone dan lingkungan online lainnya. predictive text mirip dengan search engine karena mereka menebak dan mengusulkan istilah tergantung pada apa yang kita masukkan dan sering cari. Autocorrect bahkan akan mengatur ulang kata-kata Anda untuk membuat keseluruhan pesan Anda lebih relevan dengan pengguna lain. Sementara itu, mesin belajar dari kita setiap kali ia memberikan saran. Semakin sering kita menggunakan fungsi predictive text berbasis AI-NLP, semakin ia akan belajar dan beradaptasi dengan preferensi kita.\n",
    "\n",
    "### Email Filter\n",
    "Email filter adalah salah satu implementasi paling awal dan paling mendasar dari teknologi NLP.Alat filter Email dimulai dengan filter spam yang mengidentifikasi frasa dan kata tertentu; tapi kini telah ditingkatkan menjadi aplikasi paling populer, kategorisasi Gmail. Berdasarkan konten, algoritma menentukan apakah email termasuk dalam salah satu dari tiga kategori (sosial, utama, atau promosi). Jika kita menggunakan Gmail, menjaga inbox tetap terkendali sangatlah penting. Filter email menjaga relevansi pesan kita, memungkinkan kita menjawab dengan cepat."
   ]
  }
 ],
 "metadata": {
  "kernelspec": {
   "display_name": "Python 3 (ipykernel)",
   "language": "python",
   "name": "python3"
  },
  "language_info": {
   "codemirror_mode": {
    "name": "ipython",
    "version": 3
   },
   "file_extension": ".py",
   "mimetype": "text/x-python",
   "name": "python",
   "nbconvert_exporter": "python",
   "pygments_lexer": "ipython3",
   "version": "3.9.7"
  }
 },
 "nbformat": 4,
 "nbformat_minor": 5
}
