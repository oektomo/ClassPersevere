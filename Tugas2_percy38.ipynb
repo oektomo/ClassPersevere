{
 "cells": [
  {
   "cell_type": "code",
   "execution_count": 9,
   "id": "d873257e",
   "metadata": {},
   "outputs": [],
   "source": [
    "# percabangan python ==> if else\n",
    "# if\n",
    "a = 2\n",
    "b = 3\n",
    "if a > b:\n",
    " print(\"a lebih besar dari b\")\n",
    "\n"
   ]
  },
  {
   "cell_type": "code",
   "execution_count": 8,
   "id": "75d01dfc",
   "metadata": {},
   "outputs": [
    {
     "name": "stdout",
     "output_type": "stream",
     "text": [
      "Hari ini Hujan \n"
     ]
    }
   ],
   "source": [
    "# elif\n",
    "a = \"Hujan\"\n",
    "b = \"Mendung\"\n",
    "if a == \"Hujan\":\n",
    "  print(\"Hari ini Hujan \")\n",
    "elif b == \"Mendung\":\n",
    "  print(\"Hari ini mendung\")"
   ]
  },
  {
   "cell_type": "code",
   "execution_count": 10,
   "id": "d17699cd",
   "metadata": {},
   "outputs": [
    {
     "name": "stdout",
     "output_type": "stream",
     "text": [
      "a is greater than b\n"
     ]
    }
   ],
   "source": [
    "# else\n",
    "a = 200\n",
    "b = 33\n",
    "if b > a:\n",
    "  print(\"b is greater than a\")\n",
    "else:\n",
    "  print(\"b is not greater than a\")"
   ]
  },
  {
   "cell_type": "code",
   "execution_count": 46,
   "id": "c55c694e",
   "metadata": {},
   "outputs": [],
   "source": [
    "#  AND\n",
    "# a = 1\n",
    "# b = 2\n",
    "# c = 3\n",
    "\n",
    "# if a < b and b < c:\n",
    "#  print(\"A lebih kecil dari B dan B lebih kecil dari C\")\n",
    "\n",
    "a = 5\n",
    "b = 3\n",
    "c = 2\n",
    "\n",
    "if a < b and b < c:\n",
    " print(\"Salah\")\n",
    "\n"
   ]
  },
  {
   "cell_type": "code",
   "execution_count": 48,
   "id": "e4596f17",
   "metadata": {},
   "outputs": [
    {
     "name": "stdout",
     "output_type": "stream",
     "text": [
      "Salah\n"
     ]
    }
   ],
   "source": [
    "# or\n",
    "a = 5\n",
    "b = 1\n",
    "c = 2\n",
    "\n",
    "if a < b or b < c:\n",
    " print(\"True == benar!\")\n",
    "\n"
   ]
  },
  {
   "cell_type": "code",
   "execution_count": 39,
   "id": "58c43827",
   "metadata": {},
   "outputs": [
    {
     "name": "stdout",
     "output_type": "stream",
     "text": [
      "0\n",
      "1\n",
      "2\n",
      "3\n",
      "4\n"
     ]
    }
   ],
   "source": [
    "# looping\n",
    "\n",
    "i = 0\n",
    "\n",
    "while i < 5:\n",
    " print(i)\n",
    " i+=1\n",
    "    \n",
    "    \n",
    "#  \n",
    "    "
   ]
  },
  {
   "cell_type": "code",
   "execution_count": 40,
   "id": "96797996",
   "metadata": {},
   "outputs": [
    {
     "name": "stdout",
     "output_type": "stream",
     "text": [
      "1\n",
      "2\n",
      "3\n"
     ]
    }
   ],
   "source": [
    "# while break\n",
    "a= 1\n",
    "while a < 6:\n",
    "  print(a)\n",
    "  if a == 3:\n",
    "    break\n",
    "  a += 1\n",
    "    "
   ]
  },
  {
   "cell_type": "code",
   "execution_count": 41,
   "id": "c56ee0f7",
   "metadata": {},
   "outputs": [
    {
     "name": "stdout",
     "output_type": "stream",
     "text": [
      "1\n",
      "2\n",
      "4\n",
      "5\n",
      "6\n"
     ]
    }
   ],
   "source": [
    "#  while continue\n",
    "i = 0\n",
    "while i < 6:\n",
    " i += 1\n",
    " if i == 3:\n",
    "    continue\n",
    " print(i)"
   ]
  },
  {
   "cell_type": "code",
   "execution_count": 42,
   "id": "b2557fa1",
   "metadata": {
    "scrolled": true
   },
   "outputs": [
    {
     "name": "stdout",
     "output_type": "stream",
     "text": [
      "O\n",
      "r\n",
      "b\n",
      "i\n",
      "t\n",
      " \n",
      "I\n",
      "n\n",
      "d\n",
      "o\n",
      "n\n",
      "e\n",
      "s\n",
      "i\n",
      "a\n"
     ]
    }
   ],
   "source": [
    "# for loop\n",
    "for a in \"Orbit Indonesia\":\n",
    " print(a)\n"
   ]
  },
  {
   "cell_type": "code",
   "execution_count": 34,
   "id": "c6126ba3",
   "metadata": {},
   "outputs": [
    {
     "name": "stdout",
     "output_type": "stream",
     "text": [
      "apple\n",
      "banana\n"
     ]
    }
   ],
   "source": [
    "# for break\n",
    "fruits = [\"apple\", \"banana\", \"cherry\"]\n",
    "for x in fruits:\n",
    "  print(x)\n",
    "  if x == \"banana\":\n",
    "    break"
   ]
  },
  {
   "cell_type": "code",
   "execution_count": null,
   "id": "2dde7524",
   "metadata": {},
   "outputs": [],
   "source": [
    "# for continue\n"
   ]
  }
 ],
 "metadata": {
  "kernelspec": {
   "display_name": "Python 3 (ipykernel)",
   "language": "python",
   "name": "python3"
  },
  "language_info": {
   "codemirror_mode": {
    "name": "ipython",
    "version": 3
   },
   "file_extension": ".py",
   "mimetype": "text/x-python",
   "name": "python",
   "nbconvert_exporter": "python",
   "pygments_lexer": "ipython3",
   "version": "3.9.7"
  }
 },
 "nbformat": 4,
 "nbformat_minor": 5
}
