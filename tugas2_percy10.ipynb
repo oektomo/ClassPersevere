{
 "cells": [
  {
   "cell_type": "markdown",
   "id": "27a4dd37",
   "metadata": {},
   "source": [
    "## Python Operators\n"
   ]
  },
  {
   "cell_type": "code",
   "execution_count": 1,
   "id": "77a1631c",
   "metadata": {},
   "outputs": [
    {
     "name": "stdout",
     "output_type": "stream",
     "text": [
      "21\n"
     ]
    }
   ],
   "source": [
    "print(17 + 4)"
   ]
  },
  {
   "cell_type": "markdown",
   "id": "1b352a80",
   "metadata": {},
   "source": [
    "Python membagi operator dalam grup berikut:\n",
    "\n",
    "1. Operator aritmatika\n",
    "2. Operator penugasan\n",
    "3. Operator perbandingan\n",
    "4. Operator logika\n",
    "5. Operator identitas\n",
    "6. Operator keanggotaan\n",
    "7. Operator bitwise"
   ]
  },
  {
   "cell_type": "markdown",
   "id": "18219271",
   "metadata": {},
   "source": [
    "### Operator aritmatika\n",
    "Operator aritmatika digunakan dengan nilai numerik untuk melakukan operasi matematika umum:"
   ]
  },
  {
   "cell_type": "code",
   "execution_count": 2,
   "id": "02058181",
   "metadata": {},
   "outputs": [
    {
     "name": "stdout",
     "output_type": "stream",
     "text": [
      "25\n"
     ]
    }
   ],
   "source": [
    "a = 12\n",
    "b = 13\n",
    "\n",
    "print(a + b)"
   ]
  },
  {
   "cell_type": "code",
   "execution_count": 3,
   "id": "9a54fc09",
   "metadata": {},
   "outputs": [
    {
     "name": "stdout",
     "output_type": "stream",
     "text": [
      "21\n"
     ]
    }
   ],
   "source": [
    "x = 50\n",
    "y = 29\n",
    "\n",
    "print(50 - 29)"
   ]
  },
  {
   "cell_type": "code",
   "execution_count": 4,
   "id": "5af21a6c",
   "metadata": {},
   "outputs": [
    {
     "name": "stdout",
     "output_type": "stream",
     "text": [
      "21\n"
     ]
    }
   ],
   "source": [
    "a = 3\n",
    "b = 7\n",
    "\n",
    "print (a * b)"
   ]
  },
  {
   "cell_type": "code",
   "execution_count": 7,
   "id": "93b2a550",
   "metadata": {},
   "outputs": [
    {
     "name": "stdout",
     "output_type": "stream",
     "text": [
      "9.0\n"
     ]
    }
   ],
   "source": [
    "x = 81\n",
    "y = 9\n",
    "\n",
    "print(x / y)"
   ]
  },
  {
   "cell_type": "code",
   "execution_count": 8,
   "id": "9e7b25ff",
   "metadata": {},
   "outputs": [
    {
     "name": "stdout",
     "output_type": "stream",
     "text": [
      "2\n"
     ]
    }
   ],
   "source": [
    "#modulus = sisa hasil\n",
    "a = 30\n",
    "b = 7\n",
    "\n",
    "print(a % b) "
   ]
  },
  {
   "cell_type": "code",
   "execution_count": 13,
   "id": "c76dc2ae",
   "metadata": {},
   "outputs": [
    {
     "name": "stdout",
     "output_type": "stream",
     "text": [
      "216\n"
     ]
    }
   ],
   "source": [
    "#operasi menaikkan satu kuantitas ke kekuatan yang lain (6*6*6)\n",
    "x = 6\n",
    "y = 3\n",
    "\n",
    "print(x ** y) "
   ]
  },
  {
   "cell_type": "code",
   "execution_count": 15,
   "id": "fd5a0429",
   "metadata": {},
   "outputs": [
    {
     "name": "stdout",
     "output_type": "stream",
     "text": [
      "10\n"
     ]
    }
   ],
   "source": [
    "#Floor division membulatkan hasilnya ke bilangan bulat terdekat\n",
    "a = 21\n",
    "b = 2\n",
    "\n",
    "print(a // b) "
   ]
  },
  {
   "cell_type": "markdown",
   "id": "45be9d49",
   "metadata": {},
   "source": [
    "### Operator penugasan\n",
    "Operator penugasan digunakan untuk menetapkan nilai ke variabel:"
   ]
  },
  {
   "cell_type": "code",
   "execution_count": 16,
   "id": "3b92d3db",
   "metadata": {},
   "outputs": [
    {
     "name": "stdout",
     "output_type": "stream",
     "text": [
      "17\n"
     ]
    }
   ],
   "source": [
    "x = 17\n",
    "\n",
    "print(x)"
   ]
  },
  {
   "cell_type": "code",
   "execution_count": 2,
   "id": "da9580ef",
   "metadata": {},
   "outputs": [
    {
     "name": "stdout",
     "output_type": "stream",
     "text": [
      "21\n"
     ]
    }
   ],
   "source": [
    "x = 19\n",
    "x += 2\n",
    "\n",
    "print(x)"
   ]
  },
  {
   "cell_type": "code",
   "execution_count": 3,
   "id": "28b8514b",
   "metadata": {},
   "outputs": [
    {
     "name": "stdout",
     "output_type": "stream",
     "text": [
      "21\n"
     ]
    }
   ],
   "source": [
    "x = 25\n",
    "x -= 4\n",
    "\n",
    "print(x)"
   ]
  },
  {
   "cell_type": "code",
   "execution_count": 4,
   "id": "79df07ec",
   "metadata": {},
   "outputs": [
    {
     "name": "stdout",
     "output_type": "stream",
     "text": [
      "21\n"
     ]
    }
   ],
   "source": [
    "x = 7\n",
    "x *= 3\n",
    "print(x)"
   ]
  },
  {
   "cell_type": "code",
   "execution_count": 5,
   "id": "744e8287",
   "metadata": {},
   "outputs": [
    {
     "name": "stdout",
     "output_type": "stream",
     "text": [
      "21.0\n"
     ]
    }
   ],
   "source": [
    "a = 63\n",
    "a /= 3\n",
    "\n",
    "print(a)"
   ]
  },
  {
   "cell_type": "code",
   "execution_count": 6,
   "id": "f0c6f8cd",
   "metadata": {},
   "outputs": [
    {
     "name": "stdout",
     "output_type": "stream",
     "text": [
      "2\n"
     ]
    }
   ],
   "source": [
    "x = 50\n",
    "x %= 12\n",
    "\n",
    "print(x)"
   ]
  },
  {
   "cell_type": "code",
   "execution_count": 7,
   "id": "70488840",
   "metadata": {},
   "outputs": [
    {
     "name": "stdout",
     "output_type": "stream",
     "text": [
      "3125\n"
     ]
    }
   ],
   "source": [
    "x = 5\n",
    "x **= 5\n",
    "\n",
    "print(x)"
   ]
  },
  {
   "cell_type": "code",
   "execution_count": 13,
   "id": "37acb436",
   "metadata": {},
   "outputs": [
    {
     "name": "stdout",
     "output_type": "stream",
     "text": [
      "11\n"
     ]
    }
   ],
   "source": [
    "a = 10\n",
    "a |=3\n",
    "\n",
    "print (a)"
   ]
  },
  {
   "cell_type": "code",
   "execution_count": 14,
   "id": "0e291de8",
   "metadata": {},
   "outputs": [
    {
     "name": "stdout",
     "output_type": "stream",
     "text": [
      "6\n"
     ]
    }
   ],
   "source": [
    "x = 5\n",
    "x ^= 3\n",
    "\n",
    "print(x)"
   ]
  },
  {
   "cell_type": "code",
   "execution_count": 16,
   "id": "a761354c",
   "metadata": {},
   "outputs": [
    {
     "name": "stdout",
     "output_type": "stream",
     "text": [
      "1\n"
     ]
    }
   ],
   "source": [
    "x = 8\n",
    "x >>= 3\n",
    "\n",
    "print(x)"
   ]
  },
  {
   "cell_type": "code",
   "execution_count": 17,
   "id": "8b80de81",
   "metadata": {},
   "outputs": [
    {
     "name": "stdout",
     "output_type": "stream",
     "text": [
      "64\n"
     ]
    }
   ],
   "source": [
    "x = 8\n",
    "x <<= 3\n",
    "\n",
    "print(x)"
   ]
  },
  {
   "cell_type": "markdown",
   "id": "9373fcba",
   "metadata": {},
   "source": [
    "### Operator Perbandingan\n",
    "Operator perbandingan digunakan untuk membandingkan dua nilai:"
   ]
  },
  {
   "cell_type": "code",
   "execution_count": 18,
   "id": "1db65a28",
   "metadata": {},
   "outputs": [
    {
     "name": "stdout",
     "output_type": "stream",
     "text": [
      "False\n"
     ]
    }
   ],
   "source": [
    "a = 8\n",
    "b = 5\n",
    "\n",
    "print ( a == b)"
   ]
  },
  {
   "cell_type": "code",
   "execution_count": 19,
   "id": "bf9b2895",
   "metadata": {},
   "outputs": [
    {
     "name": "stdout",
     "output_type": "stream",
     "text": [
      "True\n"
     ]
    }
   ],
   "source": [
    "x = 3\n",
    "y = 2\n",
    "\n",
    "print (x > y)"
   ]
  },
  {
   "cell_type": "code",
   "execution_count": 20,
   "id": "6489cff0",
   "metadata": {},
   "outputs": [
    {
     "name": "stdout",
     "output_type": "stream",
     "text": [
      "False\n"
     ]
    }
   ],
   "source": [
    "a = 5 \n",
    "b = 3\n",
    "\n",
    "print (a < b)"
   ]
  },
  {
   "cell_type": "code",
   "execution_count": 24,
   "id": "855a4709",
   "metadata": {},
   "outputs": [
    {
     "name": "stdout",
     "output_type": "stream",
     "text": [
      "True\n"
     ]
    }
   ],
   "source": [
    "a = 25\n",
    "b = 21\n",
    "\n",
    "print(a >= b)"
   ]
  },
  {
   "cell_type": "code",
   "execution_count": 25,
   "id": "d47ae175",
   "metadata": {},
   "outputs": [
    {
     "name": "stdout",
     "output_type": "stream",
     "text": [
      "True\n"
     ]
    }
   ],
   "source": [
    "x = 3\n",
    "y = 10\n",
    "\n",
    "print(x <= y)"
   ]
  },
  {
   "cell_type": "markdown",
   "id": "39307162",
   "metadata": {},
   "source": [
    "### Operator Logika\n",
    "Operator logika digunakan untuk menggabungkan pernyataan kondisional"
   ]
  },
  {
   "cell_type": "code",
   "execution_count": 27,
   "id": "03baa1e4",
   "metadata": {},
   "outputs": [
    {
     "name": "stdout",
     "output_type": "stream",
     "text": [
      "True\n"
     ]
    }
   ],
   "source": [
    "a = 12\n",
    "\n",
    "print(a > 8 and a < 15)"
   ]
  },
  {
   "cell_type": "code",
   "execution_count": 28,
   "id": "11961808",
   "metadata": {},
   "outputs": [
    {
     "name": "stdout",
     "output_type": "stream",
     "text": [
      "True\n"
     ]
    }
   ],
   "source": [
    "x = 12\n",
    "\n",
    "print (a > 8 or a < 10)"
   ]
  },
  {
   "cell_type": "code",
   "execution_count": 30,
   "id": "ca4b3643",
   "metadata": {},
   "outputs": [
    {
     "name": "stdout",
     "output_type": "stream",
     "text": [
      "False\n"
     ]
    }
   ],
   "source": [
    "a = 8\n",
    "\n",
    "print (not(a > 5 and a < 10))"
   ]
  },
  {
   "cell_type": "markdown",
   "id": "e0311fa1",
   "metadata": {},
   "source": [
    "### Operator Identitas\n",
    "Operator identitas digunakan untuk membandingkan objek, bukan jika mereka sama, tetapi jika mereka sebenarnya adalah objek yang sama, dengan lokasi memori yang sama:"
   ]
  },
  {
   "cell_type": "code",
   "execution_count": 31,
   "id": "a3d8f2f3",
   "metadata": {},
   "outputs": [
    {
     "name": "stdout",
     "output_type": "stream",
     "text": [
      "True\n",
      "False\n",
      "True\n"
     ]
    }
   ],
   "source": [
    "x = [\"Ayam goreng\", \"Jamur crispy\"]\n",
    "y = [\"Ayam goreng\", \"Jamur crispy\"]\n",
    "z = x\n",
    "\n",
    "print(x is z)\n",
    "\n",
    "print(x is y)\n",
    "\n",
    "print(x == y)"
   ]
  },
  {
   "cell_type": "code",
   "execution_count": 36,
   "id": "1efd3937",
   "metadata": {},
   "outputs": [
    {
     "name": "stdout",
     "output_type": "stream",
     "text": [
      "False\n",
      "True\n",
      "False\n"
     ]
    }
   ],
   "source": [
    "a = [\"Ayam goreng\", \"Jamur crispy\"]\n",
    "b = [\"Ayam goreng\", \"Jamur crispy\"]\n",
    "c = a\n",
    "\n",
    "print(a is not c)\n",
    "\n",
    "print(a is not b)\n",
    "\n",
    "print(a != b)"
   ]
  },
  {
   "cell_type": "markdown",
   "id": "d18557df",
   "metadata": {},
   "source": [
    "### Operator keanggotaan\n",
    "Operator keanggotaan digunakan untuk menguji apakah urutan disajikan dalam suatu objek:"
   ]
  },
  {
   "cell_type": "code",
   "execution_count": 37,
   "id": "579410d9",
   "metadata": {},
   "outputs": [
    {
     "name": "stdout",
     "output_type": "stream",
     "text": [
      "True\n"
     ]
    }
   ],
   "source": [
    "x = [\"Ayam goreng\", \"Jamur crispy\"]\n",
    "\n",
    "print(\"Ayam goreng\" in x) "
   ]
  },
  {
   "cell_type": "code",
   "execution_count": 38,
   "id": "2a4b6103",
   "metadata": {},
   "outputs": [
    {
     "name": "stdout",
     "output_type": "stream",
     "text": [
      "True\n"
     ]
    }
   ],
   "source": [
    "x = [\"Ayam goreng\", \"Jamur crispy\"]\n",
    "\n",
    "print(\"Tahu bacem\" not in x) "
   ]
  },
  {
   "cell_type": "markdown",
   "id": "906ecc43",
   "metadata": {},
   "source": [
    "### Operator Bitwise\n",
    "Operator bitwise digunakan untuk membandingkan angka (biner):"
   ]
  },
  {
   "cell_type": "code",
   "execution_count": 1,
   "id": "66d56e33",
   "metadata": {},
   "outputs": [
    {
     "name": "stdout",
     "output_type": "stream",
     "text": [
      "1010\n"
     ]
    }
   ],
   "source": [
    "x = 8\n",
    "y = 10\n",
    "z = x | y\n",
    "print(format(z, 'b'))"
   ]
  },
  {
   "cell_type": "code",
   "execution_count": 2,
   "id": "0bff9b35",
   "metadata": {},
   "outputs": [
    {
     "name": "stdout",
     "output_type": "stream",
     "text": [
      "1000\n"
     ]
    }
   ],
   "source": [
    "x = 8\n",
    "y = 10\n",
    "z = x & y\n",
    "print(format(z, 'b'))"
   ]
  },
  {
   "cell_type": "code",
   "execution_count": 3,
   "id": "52628de5",
   "metadata": {},
   "outputs": [
    {
     "name": "stdout",
     "output_type": "stream",
     "text": [
      "10\n"
     ]
    }
   ],
   "source": [
    "x = 8\n",
    "y = 10\n",
    "z = x ^ y\n",
    "print(format(z, 'b'))"
   ]
  },
  {
   "cell_type": "code",
   "execution_count": 4,
   "id": "09fa2b8f",
   "metadata": {},
   "outputs": [
    {
     "name": "stdout",
     "output_type": "stream",
     "text": [
      "10000000000000\n"
     ]
    }
   ],
   "source": [
    "x = 8\n",
    "y = 10\n",
    "z = x << y\n",
    "print(format(z, 'b'))"
   ]
  },
  {
   "cell_type": "code",
   "execution_count": 5,
   "id": "eaabd758",
   "metadata": {},
   "outputs": [
    {
     "name": "stdout",
     "output_type": "stream",
     "text": [
      "0\n"
     ]
    }
   ],
   "source": [
    "x = 8\n",
    "y = 10\n",
    "z = x >> y\n",
    "print(format(z, 'b'))"
   ]
  },
  {
   "cell_type": "code",
   "execution_count": 6,
   "id": "2d6b5d0f",
   "metadata": {},
   "outputs": [
    {
     "name": "stdout",
     "output_type": "stream",
     "text": [
      "-10110\n"
     ]
    }
   ],
   "source": [
    "x = 21\n",
    "z = ~x\n",
    "print(format(z, 'b'))"
   ]
  },
  {
   "cell_type": "markdown",
   "id": "cc214d25",
   "metadata": {},
   "source": [
    "## Python If ... Else\n",
    "Kondisi Python dan pernyataan If\n",
    "Python mendukung kondisi logis yang biasa dari matematika:\n",
    "\n",
    "1. Sama dengan: a == b\n",
    "2. Tidak Sama dengan: a != b\n",
    "3. Kurang dari: a < b\n",
    "4. Kurang dari atau sama dengan: a <= b\n",
    "5. Lebih besar dari: a > b\n",
    "6. Lebih besar dari atau sama dengan: a >= b\n",
    "\n",
    "Kondisi ini dapat digunakan dalam beberapa cara, paling umum dalam \"pernyataan if\" dan loop.\n",
    "\n",
    "Sebuah \"pernyataan if\" ditulis dengan menggunakan kata kunci if."
   ]
  },
  {
   "cell_type": "code",
   "execution_count": 8,
   "id": "93011c76",
   "metadata": {},
   "outputs": [
    {
     "name": "stdout",
     "output_type": "stream",
     "text": [
      "b is greater than a\n"
     ]
    }
   ],
   "source": [
    "x = 21\n",
    "y = 25\n",
    "if y > x:\n",
    "    print(\"b is greater than a\")\n"
   ]
  },
  {
   "cell_type": "markdown",
   "id": "4b2060ab",
   "metadata": {},
   "source": [
    "### Elif\n",
    "Kata kunci elif adalah cara piton untuk mengatakan \"jika kondisi sebelumnya tidak benar, maka coba kondisi ini\"."
   ]
  },
  {
   "cell_type": "code",
   "execution_count": 9,
   "id": "279fa064",
   "metadata": {},
   "outputs": [
    {
     "name": "stdout",
     "output_type": "stream",
     "text": [
      "y sama dengan x\n"
     ]
    }
   ],
   "source": [
    "x = 21\n",
    "y = 21\n",
    "if y > x:\n",
    "    print('y lebih besar x')\n",
    "elif y == x:\n",
    "    print('y sama dengan x')"
   ]
  },
  {
   "cell_type": "markdown",
   "id": "e64eb01c",
   "metadata": {},
   "source": [
    "### Else\n",
    "\n",
    "Kata kunci else menangkap apa pun yang tidak ditangkap oleh kondisi sebelumnya."
   ]
  },
  {
   "cell_type": "code",
   "execution_count": 11,
   "id": "39c4c90d",
   "metadata": {},
   "outputs": [
    {
     "name": "stdout",
     "output_type": "stream",
     "text": [
      "x lebih besar y\n"
     ]
    }
   ],
   "source": [
    "x = 25\n",
    "y = 21\n",
    "if y > x:\n",
    "    print('y lebih besar x')\n",
    "elif y == x:\n",
    "    print('y sama dengan x')\n",
    "else:\n",
    "    print('x lebih besar y')"
   ]
  },
  {
   "cell_type": "code",
   "execution_count": 12,
   "id": "b2990090",
   "metadata": {},
   "outputs": [
    {
     "name": "stdout",
     "output_type": "stream",
     "text": [
      "y lebih besar x\n"
     ]
    }
   ],
   "source": [
    "x = 17\n",
    "y = 21\n",
    "if x > y:\n",
    "    print('x lebih besar y')\n",
    "else:\n",
    "    print('y lebih besar x')"
   ]
  },
  {
   "cell_type": "markdown",
   "id": "f0e03922",
   "metadata": {},
   "source": [
    "### Short hand If & If ... Else"
   ]
  },
  {
   "cell_type": "code",
   "execution_count": 13,
   "id": "41b0a4c1",
   "metadata": {},
   "outputs": [
    {
     "name": "stdout",
     "output_type": "stream",
     "text": [
      "x lebih besar y\n"
     ]
    }
   ],
   "source": [
    "x = 17\n",
    "y = 8\n",
    "if x > y: print('x lebih besar y')\n",
    "    "
   ]
  },
  {
   "cell_type": "code",
   "execution_count": 15,
   "id": "839dca17",
   "metadata": {},
   "outputs": [
    {
     "name": "stdout",
     "output_type": "stream",
     "text": [
      "Y\n"
     ]
    }
   ],
   "source": [
    "x = 17\n",
    "y = 25\n",
    "print(\"X\") if x > y else print(\"Y\")"
   ]
  },
  {
   "cell_type": "code",
   "execution_count": 17,
   "id": "e89089e1",
   "metadata": {},
   "outputs": [
    {
     "name": "stdout",
     "output_type": "stream",
     "text": [
      "A\n"
     ]
    }
   ],
   "source": [
    "a = 250\n",
    "b = 210\n",
    "\n",
    "print(\"A\") if a > b else print(\"=\") if a == b else print(\"B\")"
   ]
  },
  {
   "cell_type": "code",
   "execution_count": 27,
   "id": "f657d09b",
   "metadata": {},
   "outputs": [
    {
     "name": "stdout",
     "output_type": "stream",
     "text": [
      "Both conditions are True\n"
     ]
    }
   ],
   "source": [
    "#and\n",
    "a = 21\n",
    "b = 8\n",
    "c = 25\n",
    "if a > b and c > a:\n",
    "  print(\"Both conditions are True\")"
   ]
  },
  {
   "cell_type": "code",
   "execution_count": 29,
   "id": "b62c25e0",
   "metadata": {},
   "outputs": [
    {
     "name": "stdout",
     "output_type": "stream",
     "text": [
      "At least one of the conditions is True\n"
     ]
    }
   ],
   "source": [
    "#or\n",
    "a = 21\n",
    "b = 8\n",
    "c = 25\n",
    "if a > b or a > c:\n",
    "  print(\"At least one of the conditions is True\")\n"
   ]
  },
  {
   "cell_type": "code",
   "execution_count": 31,
   "id": "85713cb3",
   "metadata": {},
   "outputs": [
    {
     "name": "stdout",
     "output_type": "stream",
     "text": [
      "Above ten,\n",
      "and also above 25!\n"
     ]
    }
   ],
   "source": [
    "#Nested If\n",
    "x = 50\n",
    "\n",
    "if x > 21:\n",
    "  print(\"Above ten,\")\n",
    "  if x > 25:\n",
    "    print(\"and also above 25!\")\n",
    "  else:\n",
    "    print(\"but not above 25.\")"
   ]
  },
  {
   "cell_type": "code",
   "execution_count": 36,
   "id": "9cdb6b78",
   "metadata": {},
   "outputs": [],
   "source": [
    "#pass statement\n",
    "x = 17\n",
    "y = 8\n",
    "\n",
    "if x > y:\n",
    "  pass"
   ]
  },
  {
   "cell_type": "markdown",
   "id": "c74d0272",
   "metadata": {},
   "source": [
    "## While loops\n",
    "Python memiliki dua perintah loop primitif:\n",
    "\n",
    "1. while loops\n",
    "2. for loops"
   ]
  },
  {
   "cell_type": "code",
   "execution_count": 39,
   "id": "0e4b152b",
   "metadata": {},
   "outputs": [
    {
     "name": "stdout",
     "output_type": "stream",
     "text": [
      "0\n",
      "1\n",
      "2\n",
      "3\n",
      "4\n",
      "5\n"
     ]
    }
   ],
   "source": [
    "i = 0\n",
    "while i < 6:\n",
    "  print(i)\n",
    "  i += 1"
   ]
  },
  {
   "cell_type": "code",
   "execution_count": 40,
   "id": "39bdda3b",
   "metadata": {},
   "outputs": [
    {
     "name": "stdout",
     "output_type": "stream",
     "text": [
      "0\n",
      "1\n",
      "2\n",
      "3\n"
     ]
    }
   ],
   "source": [
    "i = 0\n",
    "while i < 6:\n",
    "  print(i)\n",
    "  if i == 3:\n",
    "    break\n",
    "  i += 1"
   ]
  },
  {
   "cell_type": "code",
   "execution_count": 1,
   "id": "2a45712e",
   "metadata": {},
   "outputs": [
    {
     "name": "stdout",
     "output_type": "stream",
     "text": [
      "1\n",
      "2\n",
      "4\n",
      "5\n",
      "6\n"
     ]
    }
   ],
   "source": [
    "i = 0\n",
    "while i < 6:\n",
    "  i += 1\n",
    "  if i == 3:\n",
    "    continue\n",
    "  print(i)"
   ]
  },
  {
   "cell_type": "code",
   "execution_count": 3,
   "id": "42c4f013",
   "metadata": {},
   "outputs": [
    {
     "name": "stdout",
     "output_type": "stream",
     "text": [
      "1\n",
      "2\n",
      "3\n",
      "4\n",
      "5\n",
      "i is no longer less than 6\n"
     ]
    }
   ],
   "source": [
    "i = 1\n",
    "while i < 6:\n",
    "  print(i)\n",
    "  i += 1\n",
    "else:\n",
    "  print(\"i is no longer less than 6\")"
   ]
  },
  {
   "cell_type": "markdown",
   "id": "ad3824bd",
   "metadata": {},
   "source": [
    "### For loops"
   ]
  },
  {
   "cell_type": "code",
   "execution_count": 9,
   "id": "bdbd7289",
   "metadata": {},
   "outputs": [
    {
     "name": "stdout",
     "output_type": "stream",
     "text": [
      "apple\n",
      "banana\n",
      "peer\n"
     ]
    }
   ],
   "source": [
    "fruits = [\"apple\", \"banana\", \"peer\"]\n",
    "for x in fruits:\n",
    "  print(x)"
   ]
  },
  {
   "cell_type": "code",
   "execution_count": 11,
   "id": "7c14b610",
   "metadata": {},
   "outputs": [
    {
     "name": "stdout",
     "output_type": "stream",
     "text": [
      "a\n",
      "p\n",
      "p\n",
      "l\n",
      "e\n"
     ]
    }
   ],
   "source": [
    "for x in 'apple':\n",
    "    print(x)"
   ]
  },
  {
   "cell_type": "code",
   "execution_count": 14,
   "id": "67166d50",
   "metadata": {},
   "outputs": [
    {
     "name": "stdout",
     "output_type": "stream",
     "text": [
      "apple\n",
      "banana\n",
      "peer\n"
     ]
    }
   ],
   "source": [
    "#The break Statement\n",
    "fruits = [\"apple\", \"banana\", \"peer\", \"orange\"]\n",
    "for x in fruits:\n",
    "  print(x)\n",
    "  if x == \"peer\":\n",
    "    break"
   ]
  },
  {
   "cell_type": "code",
   "execution_count": 16,
   "id": "6a0014e6",
   "metadata": {},
   "outputs": [
    {
     "name": "stdout",
     "output_type": "stream",
     "text": [
      "apple\n",
      "banana\n"
     ]
    }
   ],
   "source": [
    "fruits = [\"apple\", \"banana\", \"peer\", \"orange\"]\n",
    "for x in fruits:\n",
    "  if x == \"peer\":\n",
    "    break\n",
    "  print(x)"
   ]
  },
  {
   "cell_type": "code",
   "execution_count": 17,
   "id": "105ca4d0",
   "metadata": {},
   "outputs": [
    {
     "name": "stdout",
     "output_type": "stream",
     "text": [
      "apple\n",
      "peer\n",
      "orange\n"
     ]
    }
   ],
   "source": [
    "#The continue Statement\n",
    "fruits = [\"apple\", \"banana\", \"peer\", \"orange\"]\n",
    "for x in fruits:\n",
    "  if x == \"banana\":\n",
    "    continue\n",
    "  print(x)"
   ]
  },
  {
   "cell_type": "code",
   "execution_count": 20,
   "id": "f46cc8d5",
   "metadata": {},
   "outputs": [
    {
     "name": "stdout",
     "output_type": "stream",
     "text": [
      "0\n",
      "1\n",
      "2\n",
      "3\n",
      "4\n",
      "5\n",
      "6\n",
      "7\n",
      "8\n",
      "9\n"
     ]
    }
   ],
   "source": [
    "#The range() Function\n",
    "for x in range(10):\n",
    "    print(x)"
   ]
  },
  {
   "cell_type": "code",
   "execution_count": 21,
   "id": "ab00e2ab",
   "metadata": {},
   "outputs": [
    {
     "name": "stdout",
     "output_type": "stream",
     "text": [
      "3\n",
      "4\n",
      "5\n",
      "6\n",
      "7\n"
     ]
    }
   ],
   "source": [
    "for x in range(3, 8):\n",
    "  print(x)"
   ]
  },
  {
   "cell_type": "code",
   "execution_count": 26,
   "id": "d8e1d1ba",
   "metadata": {},
   "outputs": [
    {
     "name": "stdout",
     "output_type": "stream",
     "text": [
      "2\n",
      "7\n",
      "12\n",
      "17\n",
      "22\n"
     ]
    }
   ],
   "source": [
    "for x in range(2, 25, 5):\n",
    "    print(x)"
   ]
  },
  {
   "cell_type": "code",
   "execution_count": 27,
   "id": "fc810e86",
   "metadata": {},
   "outputs": [
    {
     "name": "stdout",
     "output_type": "stream",
     "text": [
      "0\n",
      "1\n",
      "2\n",
      "3\n",
      "4\n",
      "5\n",
      "Finally finished!\n"
     ]
    }
   ],
   "source": [
    "#Else in For Loop\n",
    "for x in range(6):\n",
    "  print(x)\n",
    "else:\n",
    "  print(\"Finally finished!\")"
   ]
  },
  {
   "cell_type": "code",
   "execution_count": 28,
   "id": "dc3cf030",
   "metadata": {},
   "outputs": [
    {
     "name": "stdout",
     "output_type": "stream",
     "text": [
      "0\n",
      "1\n",
      "2\n"
     ]
    }
   ],
   "source": [
    "for x in range(6):\n",
    "  if x == 3: break\n",
    "  print(x)\n",
    "else:\n",
    "  print(\"Finally finished!\")"
   ]
  },
  {
   "cell_type": "code",
   "execution_count": 29,
   "id": "484d1908",
   "metadata": {},
   "outputs": [
    {
     "name": "stdout",
     "output_type": "stream",
     "text": [
      "red apple\n",
      "red banana\n",
      "red cherry\n",
      "big apple\n",
      "big banana\n",
      "big cherry\n",
      "tasty apple\n",
      "tasty banana\n",
      "tasty cherry\n"
     ]
    }
   ],
   "source": [
    "#Nested Loops\n",
    "adj = [\"red\", \"big\", \"tasty\"]\n",
    "fruits = [\"apple\", \"banana\", \"cherry\"]\n",
    "\n",
    "for x in adj:\n",
    "  for y in fruits:\n",
    "    print(x, y)"
   ]
  },
  {
   "cell_type": "code",
   "execution_count": 30,
   "id": "aaab0e77",
   "metadata": {},
   "outputs": [],
   "source": [
    "#pass statement\n",
    "for x in (1, 2, 3):\n",
    "    pass"
   ]
  },
  {
   "cell_type": "code",
   "execution_count": null,
   "id": "68e00490",
   "metadata": {},
   "outputs": [],
   "source": []
  }
 ],
 "metadata": {
  "kernelspec": {
   "display_name": "Python 3 (ipykernel)",
   "language": "python",
   "name": "python3"
  },
  "language_info": {
   "codemirror_mode": {
    "name": "ipython",
    "version": 3
   },
   "file_extension": ".py",
   "mimetype": "text/x-python",
   "name": "python",
   "nbconvert_exporter": "python",
   "pygments_lexer": "ipython3",
   "version": "3.10.2"
  }
 },
 "nbformat": 4,
 "nbformat_minor": 5
}
