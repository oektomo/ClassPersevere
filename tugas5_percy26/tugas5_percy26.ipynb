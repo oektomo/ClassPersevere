{
 "cells": [
  {
   "cell_type": "markdown",
   "id": "78d1820a",
   "metadata": {},
   "source": [
    "# Python OOP \n",
    "\n",
    "### 1. Apa itu OOP dan cobalah buat 2 implementasi konsep OOP menggunakan python!"
   ]
  },
  {
   "cell_type": "markdown",
   "id": "9ba646e5",
   "metadata": {},
   "source": [
    "Object-Oriented Programming atau biasa disebut OOP diartikan sebagai pemrograman yang berorientasi pada objek yang merupakan model dari sebuah pemrograman komputer dengan pengaturan desain perangkat lunak di sekitar data atau objek.\n",
    "\n",
    "Implementasi Konsep OOP ini saya akan menggunakan Class & Enkapsulasi, sebagai berikut :"
   ]
  },
  {
   "cell_type": "markdown",
   "id": "ece13d4b",
   "metadata": {},
   "source": [
    "a. Class : Class hanya sebagai kerangka dasar dari object. Sehingga nanti cetakan (class) tersebut dapat membuat berbagai macam objek untuk kebutuhan yang berbeda - beda.\n",
    "\n",
    "Class diibaratkan sebagai kategori yang umum, seperti yang dijelaskan diatas. Anggaplah kita membuat Class bernama \"Rumah\", didalam class tersebut terdapat karakteristik (attribute) dan perilaku (method) yang hanya dimiliki oleh Rumah."
   ]
  },
  {
   "cell_type": "code",
   "execution_count": 5,
   "id": "2703df97",
   "metadata": {},
   "outputs": [],
   "source": [
    "#Contoh Pemograman Class\n",
    "class Rumah():\n",
    "    #Instance attribute\n",
    "    def __init__(self,bahan,harga,lokasi): \n",
    "        # self adalah instance dari class\n",
    "        self.bahan = bahan \n",
    "        self.harga = harga\n",
    "        self.lokasi = lokasi\n",
    "         \n",
    "#membuat objek \n",
    "rumah1 = Rumah(\"Kayu\",700000000,\"desa\") \n",
    "rumah2 = Rumah(\"Beton\",1500000000,\"tengah kota\")"
   ]
  },
  {
   "cell_type": "markdown",
   "id": "e0d29304",
   "metadata": {},
   "source": [
    "b. Encapsulation : salah satu konsep fundamental pada pemrograman berorientasi objek. Encapsulation menggambarkan suatu ide untuk membungkus data dan metode yang bekerja pada suatu data di dalam satu unit.\n",
    "\n",
    "Python tidak memiliki kata kunci private seperti pada bahasa pemrograman yang lain. Sebagai gantinya, hal ini dapat dilakukan oleh encapsulation."
   ]
  },
  {
   "cell_type": "code",
   "execution_count": 7,
   "id": "1ff59131",
   "metadata": {},
   "outputs": [
    {
     "name": "stdout",
     "output_type": "stream",
     "text": [
      "1\n",
      "3\n"
     ]
    }
   ],
   "source": [
    "#Contoh Pemograman Encapsulation\n",
    "class Software():\n",
    "    #Instance attribute\n",
    "    def __init__(self):\n",
    "        self.__version = 1\n",
    "     \n",
    "    # Instance method\n",
    "    def getVersion(self):\n",
    "        print(self.__version)\n",
    " \n",
    "    def setVersion(self, version):\n",
    "        self.__version = version\n",
    " \n",
    "# instanstiate objek Software\n",
    "obj = Software()\n",
    "obj.getVersion()\n",
    "obj.setVersion(3)\n",
    "obj.getVersion()"
   ]
  },
  {
   "cell_type": "markdown",
   "id": "99bb90dc",
   "metadata": {},
   "source": [
    "### 2. Sebutkan dan jelaskan 2 jenis modules yang ada di Python!\n",
    "a. Tqdm --> Tqdm merupakan modul Python yang berguna untuk menampilkan progress bar dengan perulangan yang sederhana. Jika pembaca membutuhkan keindahan dalam proses pemrograman yang pembaca lakukan, tqdm bisa menjadi pilihan.\n",
    "\n",
    "b. Joblib --> Joblib merupakan modul Python yang berguna untuk menyediakan fungsionalitas pemrograman paralel. Ada tiga bagian penting dalam modul ini yaitu Caching, Paralellisation dan Persistence (untuk menyimpan dan memuat data)."
   ]
  },
  {
   "cell_type": "markdown",
   "id": "fd695659",
   "metadata": {},
   "source": [
    "### 3. Hitunglah berapa hasil dari √175 + 4√7 + (1/3) + ³log 81 menggunakan module math!"
   ]
  },
  {
   "cell_type": "code",
   "execution_count": 39,
   "id": "bc1d7dc0",
   "metadata": {},
   "outputs": [
    {
     "name": "stdout",
     "output_type": "stream",
     "text": [
      "Berarti √175 angkanya :  13.228756555322953\n",
      "Berarti 4√7 angkanya : 10.583005244258363\n",
      "Berarti 1/3 angkanya : 1.0\n",
      "Berarti ³log 81 angkanya : 1.3376291891386096\n",
      "===========================================\n",
      "Hasilnya :  26.149390988719926\n"
     ]
    }
   ],
   "source": [
    "import math\n",
    "a1 = math.sqrt(175)\n",
    "a2 = 4*math.sqrt(7)\n",
    "a3 = math.pow(1,3)\n",
    "a4 = math.log(3.81)\n",
    "print (\"Berarti √175 angkanya : \" ,a1)\n",
    "print (\"Berarti 4√7 angkanya :\" ,a2)\n",
    "print (\"Berarti 1/3 angkanya :\" ,a3)\n",
    "print (\"Berarti ³log 81 angkanya :\" ,a4)\n",
    "\n",
    "hasil = a1 + a2 + a3 + a4\n",
    "print(\"===========================================\")\n",
    "print (\"Hasilnya : \" ,hasil)"
   ]
  },
  {
   "cell_type": "markdown",
   "id": "41732043",
   "metadata": {},
   "source": [
    "### 4. Apa itu custom exception handling dan berikan 1 contoh implementasinya!"
   ]
  },
  {
   "cell_type": "markdown",
   "id": "70c474d2",
   "metadata": {},
   "source": [
    "Python Exception handling adalah suatu mekanisme penanganan flow normal program karena terjadi exception dengan melanjutkan flow ke code block lainnya."
   ]
  },
  {
   "cell_type": "code",
   "execution_count": 19,
   "id": "fa681e77",
   "metadata": {},
   "outputs": [],
   "source": [
    "#contoh implementasi pada exception handling \n",
    "import sys\n",
    "def convert(s):\n",
    "    '''convert to integer'''\n",
    "    try:\n",
    "        return int(s)\n",
    "    except (ValueError, TypeError) as e:\n",
    "        print(\"Konversi error : {}\".format(str(e)), file=sys.stderr)\n",
    "        raise"
   ]
  },
  {
   "cell_type": "markdown",
   "id": "d34f79a3",
   "metadata": {},
   "source": [
    "## ===============================================\n",
    "# Artificial Intelligence \n",
    "### 1. Apa perbedaan dari structured dan unstructured data dan sebutkan 3 sumber data! \n",
    "Perbedaanya adalah data terstruktur (Structured) dapat dinyatakan dalam baris dan kolom dan database relational. Sementara data tidak terstruktur (Unstructured) tidak dapat ditampilkan dalam baris dan kolom.\n",
    "\n",
    "a. Sumber Data Stuctured\n",
    "- Angka\n",
    "- String\n",
    "- Tanggal\n",
    "\n",
    "b. Sumber Data Unstructured\n",
    "- Image\n",
    "- Audio\n",
    "- Video"
   ]
  },
  {
   "cell_type": "markdown",
   "id": "46310539",
   "metadata": {},
   "source": [
    "### 2. Jelaskan perbedaan AI, Machine Learning dan Deep Learning! \n",
    "AI : Artificial Intelligence (kecerdasan buatan – AI) merupakan teknologi masa kini yang konsepnya “membawa kepintaran manusia ke dalam mesin.”. Mungkin ini terdengar tidak masuk akal, mengingat kekompleksan cara berpikir manusia.\n",
    "\n",
    "ML : Sedangkan Machine Learning adalah bagian dari implementasi Artificial Intelligence. Machine Learning merupakan metode pembelajaran AI yang memanfaatkan data untuk membuat prediksi layaknya manusia.\n",
    "\n",
    "DL : Terakhir, istilah Deep Learning merujuk pada salah satu algoritma yang digunakan oleh Machine Learning dalam Artificial Intelligence. Deep Learning memanfaatkan berbagai variable kompleks dalam analisisnya, sehingga mesin bisa memahami suatu pola atau kebiasaan yang timbul dari suatu kejadian."
   ]
  },
  {
   "cell_type": "markdown",
   "id": "caf7dd71",
   "metadata": {},
   "source": [
    "### 3. Apa perbedaan Machine Learning dengan Tradisional software?\n",
    "Meskipun keduanya sama sama menggunakan mesin komputer, namun keduanya berbeda. Jika sebelum ada Machine Learning, program yang dijalankan diharapkan dapat menghasilkan sebuah output berdasarkan data yang ada. Caranya, programmer akan memasukkan data dan programnya ke dalam komputer pada proses input, lalu komputer akan memprosesnya hingga didapatkan hasil berbentuk output. Sedangkan pada Machine Learning, data dan output merupakan hal yang telah ada dan dijadikan sebagai inputan ke dalam komputer, hasilnya adalah program yang dapat berjalan sendiri secara otomatis tanpa bantuan manusia untuk menghasilkan output baru."
   ]
  },
  {
   "cell_type": "markdown",
   "id": "4f4f63cd",
   "metadata": {},
   "source": [
    "### 4. Sebutkan 3 contoh aplikasi Machine Learning di sektor smart city dan agriculture!\n",
    "- mCity --> sebuah aplikasi City Directory yang bisa diakses melalui smartphone.\n",
    "- Qlue --> aplikasi yang digunakan di DKI Jakarta.\n",
    "- LAPOR! --> sarana aspirasi dan pengaduan berbasis media sosial pertama dengan lingkup Indonesia."
   ]
  },
  {
   "cell_type": "markdown",
   "id": "b22c797c",
   "metadata": {},
   "source": [
    "## ===============================================\n",
    "# Maths for AI\n",
    "### 1. Mengapa ilmu matematika penting ketika mempelajari AI?\n",
    "Sangat Penting, karena Kita tetap memerlukan pemahaman matematika dalam mempelajari Machine Learning. Jadi sejujurnya, kita memang perlu tahu dan memahami beberapa konsep matematika. Tetapi jumlahnya hanya tergantung pada yang kita minati. Faktanya, ada orang yang menggunakan model Machine Learning tanpa mengetahui algoritmanya. Mereka hanya memanggil fungsi built-in dan menyelesaikan pekerjaan mereka. kita akan mempelajari/menerapkan sebuah algoritma yang didalamnya mengandung matematika , yaitu :\n",
    "1. Kalkulus\n",
    "2. Linear Algebra\n",
    "3. Probabilitas"
   ]
  },
  {
   "cell_type": "markdown",
   "id": "015c9573",
   "metadata": {},
   "source": [
    "### 2. Jelaskan perbedaan vektor dan skalar! \n",
    "vektor merupakan Kuantitas matematis yang membutuhkan dua karakteristik independen untuk menggambarkannya besaran tersebut, yaitu nilai dan arahnya. Pada besaran veltor besarnya nilai mewakili ukuran kuantitas yang juga merupakan nilai absolutnya, sedangkan arah mewakili kuantitas vektor atau arahnya. contohnya kecepatan dan percepatan benda yang bergerak, Perpindahan antara dua titik, gaya, kuat medan listrik, impuls dan lain sebagainya.\n",
    "\n",
    "Skalar didefinisikan sebagai kuantitas besaran yang hanya memiliki satu elemen bidang angka, yang melekat pada unit pengukuran, seperti derajat atau meter yang hanya menunjukkan besaran atau ukuran. contohnya jarak, waktu, tekanan, suhu, masa jenis, volume, muatan listrik, dan potensial listrik."
   ]
  },
  {
   "cell_type": "markdown",
   "id": "f376fcc0",
   "metadata": {},
   "source": [
    "### 3. Apa perbedaan dari Jarak Euclidean dan Manhattan? \n",
    "Metode jarak Manhattan lebih tepat untuk diukur jarak suku kata dan fonetik bahkan jika dilihat pengukuran rata-rata jarak Manhattan dan Euclidean nilai jaraknya hampir sama. Namun, saat jaraknya dari suku kata dan panjang fonetik jauh, Euclidean pengukuran mengambil titik tengah dari akumulasi semua parameter."
   ]
  },
  {
   "cell_type": "markdown",
   "id": "3df413a0",
   "metadata": {},
   "source": [
    "### 4. Apa kegunaan matriks dalam ilmu matematika ketika menerapkan AI?\n",
    "bahwa matriks adalah susunan bilangan-bilangan berbentuk persegi panjang yang diatur dalam baris atau kolom dengan dibatasi kurung. Bilangan yang tersusun dalam matriks disebut elemen/unsur matriks. Baris adalah susunan bilangan-bilangan yang mendatar (horizontal), sedangkan kolom adalah susunan bilangan-bilangan yang tegak (vertikal)."
   ]
  },
  {
   "cell_type": "markdown",
   "id": "c765c287",
   "metadata": {},
   "source": [
    "## ===============================================\n",
    "# Machine Learning\n",
    "### 1. Jelaskan perbedaan supervised dan unsupervised learning dan sebutkan 2 contohnya! \n",
    "Supervised : algoritma supervised learning merupakan algoritma machine learning yang proses pembelajarannya di bawah pengawasan guru atau supervisor.\n",
    "Contoh nya :\n",
    "- Memprediksi Kondisi Cuaca di Lokasi Tertentu.\n",
    "- Mengklasifikasikan Suatu Benda\n",
    "\n",
    "Unsupervised : sedangkan dalam algoritma unsupervised learning, proses pembelajaran lebih bebas karena tidak ada pengawasan.\n",
    "Contoh nya :\n",
    "- Segmentasi Pelanggan\n",
    "- Mengurangi Kompleksitas Suatu Masalah"
   ]
  },
  {
   "cell_type": "markdown",
   "id": "967dd980",
   "metadata": {},
   "source": [
    "### 2. Sebutkan setiap tahap yang ada di Machine Learning life cycle dan jelaskan! \n",
    "Tahapan-Tahapan Life Cycle Machine Learning!\n",
    "1. Gathering data --> Menentukan Tujuan dari program yang ingin dibuat\n",
    "2. Data Preparation --> Mengumpulkan Data Asset\n",
    "3. Data Wrangling --> Menyiapkan Data Asset tersebut\n",
    "4. Analyse Data --> Memilih Program Algoritma yang dipakai\n",
    "5. Train Model --> Melatih Model Program\n",
    "6. Test Model --> Mengecek & Mengetes Model\n",
    "7. Deployment --> Integrasikan Model atau Menyelesaikan model dan siap dipakai"
   ]
  },
  {
   "cell_type": "markdown",
   "id": "70902223",
   "metadata": {},
   "source": [
    "### 3. Apa perbedaan regression dengan clustering?\n",
    "Regression (Regresi) : suatu teknik analisis untuk mengidentifikasi relasi atau hubungan diantara dua variabel atau lebih. Regresi bertujuan untuk menemukan suatu fungsi yang memodelkan data dengan meminimalkan error atau selisih antara nilai prediksi dengan nilai sebenarnya.\n",
    "\n",
    "Clustering (Klasterisasi) : sebuah kumpulan data atau objek yang memiliki kemiripan satu sama lain di dalam kumpulan atau kelompok tersebut, dan berbeda dengan objek di kelompok lain."
   ]
  },
  {
   "cell_type": "markdown",
   "id": "462a8608",
   "metadata": {},
   "source": [
    "### 4. Apa itu algoritma Artificial Neural Network dan untuk apa fungsinya?\n",
    "Artificial Neural Network (ANN) atau Jaringan Saraf Tiruan (JST) merupakan set algoritma yang berkerja seperti jaringan saraf otak manusia, dimana neuron saling terhubung satu dengan lainya, bekerja untuk memproses informasi. Tujuan utama dari ANN adalah menjadikan komputer memiliki kemampuan cognitif seperti otak manusia, memiliki kemampuan problem solving dan dapat melakukan proses pembelajaran.\n",
    "\n",
    "Fungsi dari Neural Network diantaranya adalah:\n",
    "1. Pengklasifikasian pola\n",
    "2. Memetakan pola yang didapat dari input ke dalam pola baru pada output\n",
    "3. Penyimpan pola yang akan dipanggil kembali\n",
    "4. Memetakan pola-pola yang sejenis\n",
    "5. Pengoptimasi permasalahan\n",
    "6. Prediksi"
   ]
  },
  {
   "cell_type": "code",
   "execution_count": null,
   "id": "551ab8c7",
   "metadata": {},
   "outputs": [],
   "source": []
  }
 ],
 "metadata": {
  "kernelspec": {
   "display_name": "Python 3",
   "language": "python",
   "name": "python3"
  },
  "language_info": {
   "codemirror_mode": {
    "name": "ipython",
    "version": 3
   },
   "file_extension": ".py",
   "mimetype": "text/x-python",
   "name": "python",
   "nbconvert_exporter": "python",
   "pygments_lexer": "ipython3",
   "version": "3.8.8"
  }
 },
 "nbformat": 4,
 "nbformat_minor": 5
}
