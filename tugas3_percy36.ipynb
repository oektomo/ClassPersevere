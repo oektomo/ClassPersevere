{
  "nbformat": 4,
  "nbformat_minor": 0,
  "metadata": {
    "colab": {
      "name": "tugas3_percy36.ipynb",
      "provenance": [],
      "collapsed_sections": [],
      "authorship_tag": "ABX9TyNK9D2V/Np2QCXqbtyM4FG0",
      "include_colab_link": true
    },
    "kernelspec": {
      "name": "python3",
      "display_name": "Python 3"
    },
    "language_info": {
      "name": "python"
    }
  },
  "cells": [
    {
      "cell_type": "markdown",
      "metadata": {
        "id": "view-in-github",
        "colab_type": "text"
      },
      "source": [
        "<a href=\"https://colab.research.google.com/github/TaysTyas/ClassPersevere/blob/percy36/tugas3_percy36.ipynb\" target=\"_parent\"><img src=\"https://colab.research.google.com/assets/colab-badge.svg\" alt=\"Open In Colab\"/></a>"
      ]
    },
    {
      "cell_type": "markdown",
      "source": [
        "##Data Science\n",
        "<ol>\n",
        " <li>Aplikasi Clue</li>\n",
        " <p>Aplikasi Clue menggunakan data science untuk memperkirakan siklus menstruasi dan kesehatan reproduksi user, dengan menggunakan variable-variable seperti tanggal mulai siklus menstruasi, suasana hati, jenis tinja, kondisi rambut, dan banyak metrik lainnya. Data - data tersebut diolah menggunakan alat-alat seperti jupyter notebook dan python  menggunakan algoritma tertentu yang akan menghasilkan keluaran  berupa notifikasi ke user saat mereka subur, di puncak periode, atau berisiko tinggi untuk kondisi seperti kehamilan ektopik.</p>  \n",
        " <li>Aplikasi Tinder</li>\n",
        " <p>Aplikasi Tinder menggunakan data science untuk menemukan pasangan yang cocok aplikasi ini menggunakan algoritma yang bisa meningkatkan kemungkinan kecocokan. Dulu, algoritma pada aplikasi ini mengandalkan skor Elo pengguna yang pada dasarnya merupakan peringkat daya tarik. Sekarang, aplikasi ini menentukan kecocokan antara pengguna aktif berdasarkan jarak user dan tipe user yang diprediksi menggunakan history swiping user.</p>\n",
        "</ol>\n",
        "\n",
        "sumber : https://builtin.com/data-science/data-science-applications-examples"
      ],
      "metadata": {
        "id": "vydVyTTDOxC9"
      }
    },
    {
      "cell_type": "markdown",
      "source": [
        "##Computer Vision\n",
        "<ol>\n",
        " <li> Autonomous vehicles/Self Driving Cars</li>\n",
        " <p>Aplikasi computer vision  diperlukan untuk mengaktifkan mobil self-driving. Manufaktur seperti Tesla, BMW, Volvo, dan Audi menggunakan beberapa kamera, lidar, radar, dan sensor ultrasonik untuk memperoleh gambar dari lingkungan sekitar mobil sehingga produk mobil self-driving mereka dapat mendeteksi objek, marka jalur, rambu, dan sinyal lalu lintas untuk mengemudi dengan aman.</p>\n",
        " <li>Aplikasi Google Translate</li>\n",
        " <p>Aplikasi google translate memungkinkan pengguna untuk menerjemahkan bahasa asing dengan mengarahkan kamera posel ke arah kata-kata bahasa asing tersebut dan aplikasi google translate pun akan menerjemahkan bahasa asing tersebut ke bahasa pilihan pengguna secara instan. Cara kerjanya sendiri, aplikasi google translate mengaplikasikan computer vision saat menggunakan pengenalan karakter optik untuk melihat gambar dan augmented reality untuk melapisi terjemahan yang akurat.</p>\n",
        "</ol>\n",
        "sumber : https://www.forbes.com/sites/bernardmarr/2019/04/08/7-amazing-examples-of-computer-and-machine-vision-in-practice/?sh=4fbbb4ad1018"
      ],
      "metadata": {
        "id": "qRXLUqofS9Ez"
      }
    },
    {
      "cell_type": "markdown",
      "source": [
        "##Natural Language Processing\n",
        "<ol>\n",
        " <li>Email filters</li>\n",
        " <p>Contoh pengaplikasian NLP salah satunya seperti klasifikasi email pada Gmail. Jika ada email masuk, sistem akan mengenali email tersebut termasuk dalam salah satu dari tiga kategori (utama, sosial, atau promosi) berdasarkan isinya. Sistem ini akan menjaga kotak masuk user ke ukuran yang dapat dikelola dengan email penting dan relevan yang ingin ditinjau dan ditanggapi dengan cepat. Selain ketigas kategori itu, email juga bisa memfilter spam, berdasarkan kata atau frasa tertentu yang menandakan pesan spam.</p>\n",
        " <li>Smart Assistant</li>\n",
        " <p>Asisten cerdas seperti Siri dari Apple dan Alexa dari Amazon mengenali pola ucapan berkat voice recognition(pengenalan suara), lalu menyimpulkan makna dan kemudian menggunakan generasi bahasa alami (subbidang NLP) untuk memberikan respons yang berguna. Asisten cerdas ini dilatih secara efektif oleh pemiliknya dan seperti aplikasi NLP lainnya, asisten cerdas ini belajar dari pengalaman untuk memberikan bantuan yang lebih baik dan lebih disesuaikan.</p>\n",
        "</ol>\n",
        "sumber : \n",
        "<ul>\n",
        " <li> https://www.tableau.com/learn/articles/natural-language-processing-examples#:~:text=8%20common%20examples%20of%20natural%20language%20processing%20and,using%20different%20linguistic%2C%20statistical%2C%20and%20machine%20learning%20techniques.</li>\n",
        " <li>https://monkeylearn.com/blog/natural-language-processing-examples/</li>\n",
        "</ul>\n",
        "\n"
      ],
      "metadata": {
        "id": "58FLvdMNS_0W"
      }
    }
  ]
}