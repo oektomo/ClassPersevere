{
 "cells": [
  {
   "cell_type": "code",
   "execution_count": 2,
   "id": "05292678",
   "metadata": {},
   "outputs": [
    {
     "data": {
      "text/plain": [
       "'Python Lists'"
      ]
     },
     "execution_count": 2,
     "metadata": {},
     "output_type": "execute_result"
    }
   ],
   "source": [
    "\"\"\"Python Lists\"\"\""
   ]
  },
  {
   "cell_type": "code",
   "execution_count": 1,
   "id": "34e6c257",
   "metadata": {},
   "outputs": [
    {
     "name": "stdout",
     "output_type": "stream",
     "text": [
      "['apple', 'banana', 'cherry']\n"
     ]
    }
   ],
   "source": [
    "#kita akan belajar Python Lists di bagian List\n",
    "thislist = [\"apple\", \"banana\", \"cherry\"]\n",
    "print(thislist)\n",
    "#Daftar dibuat menggunakan tanda kurung siku"
   ]
  },
  {
   "cell_type": "code",
   "execution_count": 2,
   "id": "38cde6f1",
   "metadata": {},
   "outputs": [
    {
     "name": "stdout",
     "output_type": "stream",
     "text": [
      "['apple', 'banana', 'cherry', 'apple', 'cherry']\n"
     ]
    }
   ],
   "source": [
    "#kita akan belajar Python Lists di bagian Allow Duplicates\n",
    "thislist = [\"apple\", \"banana\", \"cherry\", \"apple\", \"cherry\"]\n",
    "print(thislist)\n",
    "#Daftar memungkinkan nilai duplikat"
   ]
  },
  {
   "cell_type": "code",
   "execution_count": 3,
   "id": "63f17689",
   "metadata": {},
   "outputs": [
    {
     "name": "stdout",
     "output_type": "stream",
     "text": [
      "3\n"
     ]
    }
   ],
   "source": [
    "#kita akan belajar Python Lists di bagian List Length\n",
    "thislist = [\"apple\", \"banana\", \"cherry\"]\n",
    "print(len(thislist))\n",
    "#Untuk menentukan berapa banyak item yang dimiliki daftar, gunakan fungsi len()"
   ]
  },
  {
   "cell_type": "code",
   "execution_count": 4,
   "id": "9e476c0c",
   "metadata": {},
   "outputs": [],
   "source": [
    "#kita akan belajar Python Lists di bagian List Items - Data Types\n",
    "list1 = [\"apple\", \"banana\", \"cherry\"]\n",
    "list2 = [1, 5, 7, 9, 3]\n",
    "list3 = [True, False, False]\n",
    "#String, int and boolean tipe data"
   ]
  },
  {
   "cell_type": "code",
   "execution_count": 5,
   "id": "cd77066a",
   "metadata": {},
   "outputs": [],
   "source": [
    "#Sebuah daftar dapat berisi tipe data yang berbeda\n",
    "list1 = [\"abc\", 34, True, 40, \"male\"]"
   ]
  },
  {
   "cell_type": "code",
   "execution_count": 6,
   "id": "28734d43",
   "metadata": {},
   "outputs": [
    {
     "name": "stdout",
     "output_type": "stream",
     "text": [
      "<class 'list'>\n"
     ]
    }
   ],
   "source": [
    "#kita akan belajar Python Lists di bagian type()\n",
    "mylist = [\"apple\", \"banana\", \"cherry\"]\n",
    "print(type(mylist))"
   ]
  },
  {
   "cell_type": "code",
   "execution_count": 3,
   "id": "5a5f3e6a",
   "metadata": {},
   "outputs": [
    {
     "name": "stdout",
     "output_type": "stream",
     "text": [
      "['apple', 'banana', 'cherry']\n"
     ]
    }
   ],
   "source": [
    "#kita akan belajar Python Lists di bagian The list() Constructor\n",
    "thislist = list((\"apple\", \"banana\", \"cherry\")) # note the double round-brackets\n",
    "print(thislist)\n",
    "#Dimungkinkan juga untuk menggunakan konstruktor list() saat membuat daftar baru."
   ]
  },
  {
   "cell_type": "code",
   "execution_count": 7,
   "id": "5d09d557",
   "metadata": {},
   "outputs": [
    {
     "data": {
      "text/plain": [
       "'Access List Items'"
      ]
     },
     "execution_count": 7,
     "metadata": {},
     "output_type": "execute_result"
    }
   ],
   "source": [
    "\"\"\"Access List Items\"\"\""
   ]
  },
  {
   "cell_type": "code",
   "execution_count": 8,
   "id": "e8e4a332",
   "metadata": {},
   "outputs": [
    {
     "name": "stdout",
     "output_type": "stream",
     "text": [
      "banana\n"
     ]
    }
   ],
   "source": [
    "#kita akan belajar Access List Items pada bagian Access Items\n",
    "thislist = [\"apple\", \"banana\", \"cherry\"]\n",
    "print(thislist[1])\n",
    "#Daftar item diindeks dan kita dapat mengaksesnya dengan mengacu pada nomor indeks\n",
    "#Item pertama memiliki indeks 0."
   ]
  },
  {
   "cell_type": "code",
   "execution_count": 9,
   "id": "97f44242",
   "metadata": {},
   "outputs": [
    {
     "name": "stdout",
     "output_type": "stream",
     "text": [
      "cherry\n"
     ]
    }
   ],
   "source": [
    "#kita akan belajar Access List Items pada bagian Negative Indexing\n",
    "thislist = [\"apple\", \"banana\", \"cherry\"]\n",
    "print(thislist[-1])\n",
    "#Pengindeksan negatif berarti mulai dari akhir"
   ]
  },
  {
   "cell_type": "code",
   "execution_count": 11,
   "id": "01abb8bf",
   "metadata": {},
   "outputs": [
    {
     "name": "stdout",
     "output_type": "stream",
     "text": [
      "['cherry', 'orange', 'kiwi']\n"
     ]
    }
   ],
   "source": [
    "#kita akan belajar Access List Items pada bagian Range of Indexes\n",
    "thislist = [\"apple\", \"banana\", \"cherry\", \"orange\", \"kiwi\", \"melon\", \"mango\"]\n",
    "print(thislist[2:5])\n",
    "#kita dapat menentukan Range of Indexes dengan menentukan nilai dengan memulai Range dan di mana untuk mengakhiri Range\n",
    "#Pencarian akan dimulai pada indeks 2 (termasuk) dan berakhir pada indeks 5 (tidak termasuk).\n",
    "#Ingat bahwa item pertama memiliki indeks 0."
   ]
  },
  {
   "cell_type": "code",
   "execution_count": 13,
   "id": "fc4a9288",
   "metadata": {},
   "outputs": [
    {
     "name": "stdout",
     "output_type": "stream",
     "text": [
      "['apple', 'banana', 'cherry', 'orange']\n"
     ]
    }
   ],
   "source": [
    "#contoh lain, meninggalkan nilai awal, Range akan dimulai pada item pertama\n",
    "thislist = [\"apple\", \"banana\", \"cherry\", \"orange\", \"kiwi\", \"melon\", \"mango\"]\n",
    "print(thislist[:4])\n",
    "#Contoh ini mengambilkan item dari awal, tetapi \"kiwi, Melon, Mango\" TIDAK termasuk"
   ]
  },
  {
   "cell_type": "code",
   "execution_count": 14,
   "id": "74fd7d9b",
   "metadata": {},
   "outputs": [
    {
     "name": "stdout",
     "output_type": "stream",
     "text": [
      "['cherry', 'orange', 'kiwi', 'melon', 'mango']\n"
     ]
    }
   ],
   "source": [
    "#contoh lain, mengabaikan nilai akhir, rentang akan berlanjut ke akhir daftar\n",
    "thislist = [\"apple\", \"banana\", \"cherry\", \"orange\", \"kiwi\", \"melon\", \"mango\"]\n",
    "print(thislist[2:])\n",
    "#Contoh ini mengambilkan item dari \"cherry\" ke akhir"
   ]
  },
  {
   "cell_type": "code",
   "execution_count": 15,
   "id": "066d531f",
   "metadata": {},
   "outputs": [
    {
     "name": "stdout",
     "output_type": "stream",
     "text": [
      "['orange', 'kiwi', 'melon']\n"
     ]
    }
   ],
   "source": [
    "#kita akan belajar Access List Items pada bagian Range of Negative Indexes\n",
    "#Menentukan indeks negatif jika Anda ingin memulai pencarian dari akhir daftar\n",
    "thislist = [\"apple\", \"banana\", \"cherry\", \"orange\", \"kiwi\", \"melon\", \"mango\"]\n",
    "print(thislist[-4:-1])\n",
    "#Contoh ini mengambilkan item dari \"orange\" (-4) ke Melon, tetapi \"mango\" (-1) TIDAK termasuk "
   ]
  },
  {
   "cell_type": "code",
   "execution_count": 16,
   "id": "5f59abdb",
   "metadata": {},
   "outputs": [
    {
     "name": "stdout",
     "output_type": "stream",
     "text": [
      "Yes, 'apple' is in the fruits list\n"
     ]
    }
   ],
   "source": [
    "#kita akan belajar Access List Items pada bagian Check if Item Exists\n",
    "thislist = [\"apple\", \"banana\", \"cherry\"]\n",
    "if \"apple\" in thislist:\n",
    "  print(\"Yes, 'apple' is in the fruits list\")\n",
    "#Periksa apakah \"apel\" ada dalam daftar"
   ]
  },
  {
   "cell_type": "code",
   "execution_count": 1,
   "id": "e29f530e",
   "metadata": {},
   "outputs": [
    {
     "data": {
      "text/plain": [
       "'Change List Items'"
      ]
     },
     "execution_count": 1,
     "metadata": {},
     "output_type": "execute_result"
    }
   ],
   "source": [
    "\"\"\"Change List Items\"\"\""
   ]
  },
  {
   "cell_type": "code",
   "execution_count": 2,
   "id": "68375383",
   "metadata": {},
   "outputs": [
    {
     "name": "stdout",
     "output_type": "stream",
     "text": [
      "['apple', 'blackcurrant', 'cherry']\n"
     ]
    }
   ],
   "source": [
    "#kita akan belajar Change List Items pada bagian Change Item Value\n",
    "thislist = [\"apple\", \"banana\", \"cherry\"]\n",
    "thislist[1] = \"blackcurrant\"\n",
    "print(thislist)\n",
    "#Untuk mengubah nilai item tertentu, lihat nomor indeks"
   ]
  },
  {
   "cell_type": "code",
   "execution_count": 3,
   "id": "1746ea7f",
   "metadata": {},
   "outputs": [
    {
     "name": "stdout",
     "output_type": "stream",
     "text": [
      "['apple', 'blackcurrant', 'watermelon', 'orange', 'kiwi', 'mango']\n"
     ]
    }
   ],
   "source": [
    "#kita akan belajar Change List Items pada bagian Change a Range of Item Values\n",
    "thislist = [\"apple\", \"banana\", \"cherry\", \"orange\", \"kiwi\", \"mango\"]\n",
    "thislist[1:3] = [\"blackcurrant\", \"watermelon\"]\n",
    "print(thislist)\n",
    "#Untuk mengubah nilai item dalam Range tertentu, tentukan daftar dengan nilai baru, dan rujuk ke Range nomor indeks tempat Anda ingin menyisipkan nilai baru"
   ]
  },
  {
   "cell_type": "code",
   "execution_count": 4,
   "id": "bd06e193",
   "metadata": {},
   "outputs": [
    {
     "name": "stdout",
     "output_type": "stream",
     "text": [
      "['apple', 'blackcurrant', 'watermelon', 'cherry']\n"
     ]
    }
   ],
   "source": [
    "#Jika kita memasukkan lebih banyak item daripada yang diganti, item baru akan dimasukkan di tempat yang kita tentukan, dan item yang tersisa akan bergerak sesuai\n",
    "thislist = [\"apple\", \"banana\", \"cherry\"]\n",
    "thislist[1:2] = [\"blackcurrant\", \"watermelon\"]\n",
    "print(thislist)\n",
    "#mengubah nilai kedua dengan menggantinya dengan dua nilai baru\n",
    "#Panjang daftar akan berubah jika jumlah item yang dimasukkan tidak sesuai dengan jumlah item yang diganti."
   ]
  },
  {
   "cell_type": "code",
   "execution_count": 5,
   "id": "d27f03f8",
   "metadata": {},
   "outputs": [
    {
     "name": "stdout",
     "output_type": "stream",
     "text": [
      "['apple', 'watermelon']\n"
     ]
    }
   ],
   "source": [
    "#Jika kita memasukkan lebih sedikit item daripada yang diganti, item baru akan dimasukkan di tempat yang kita tentukan, dan item yang tersisa akan bergerak sesuai\n",
    "thislist = [\"apple\", \"banana\", \"cherry\"]\n",
    "thislist[1:3] = [\"watermelon\"]\n",
    "print(thislist)\n",
    "#Mengubah nilai kedua dan ketiga dengan menggantinya dengan satu nilai"
   ]
  },
  {
   "cell_type": "code",
   "execution_count": 7,
   "id": "f0dd7c65",
   "metadata": {},
   "outputs": [
    {
     "name": "stdout",
     "output_type": "stream",
     "text": [
      "['apple', 'banana', 'watermelon', 'cherry']\n"
     ]
    }
   ],
   "source": [
    "#kita akan belajar Change List Items pada bagian Insert Items\n",
    "#Untuk menyisipkan item daftar baru, tanpa mengganti nilai yang ada, kita akan menggunakan metode insert().\n",
    "thislist = [\"apple\", \"banana\", \"cherry\"]\n",
    "thislist.insert(2, \"watermelon\")\n",
    "print(thislist)\n",
    "#Sebagai hasil dari contoh di atas, daftar sekarang akan berisi 4 item."
   ]
  },
  {
   "cell_type": "code",
   "execution_count": 8,
   "id": "af2bb923",
   "metadata": {},
   "outputs": [
    {
     "data": {
      "text/plain": [
       "'Add List Items'"
      ]
     },
     "execution_count": 8,
     "metadata": {},
     "output_type": "execute_result"
    }
   ],
   "source": [
    "\"\"\"Add List Items\"\"\""
   ]
  },
  {
   "cell_type": "code",
   "execution_count": 9,
   "id": "f7c681f4",
   "metadata": {},
   "outputs": [
    {
     "name": "stdout",
     "output_type": "stream",
     "text": [
      "['apple', 'banana', 'cherry', 'orange']\n"
     ]
    }
   ],
   "source": [
    "#kita akan belajar Add List Items pada bagian Append Items\n",
    "#Untuk menambahkan item ke akhir daftar, gunakan metode append()\n",
    "thislist = [\"apple\", \"banana\", \"cherry\"]\n",
    "thislist.append(\"orange\")\n",
    "print(thislist)\n",
    "#Menggunakan metode append() untuk menambahkan item"
   ]
  },
  {
   "cell_type": "code",
   "execution_count": 10,
   "id": "02a3d9be",
   "metadata": {},
   "outputs": [
    {
     "name": "stdout",
     "output_type": "stream",
     "text": [
      "['apple', 'orange', 'banana', 'cherry']\n"
     ]
    }
   ],
   "source": [
    "#kita akan belajar Add List Items pada bagian Insert Items\n",
    "#Metode insert() akan menyisipkan item pada indeks yang ditentukan\n",
    "thislist = [\"apple\", \"banana\", \"cherry\"]\n",
    "thislist.insert(1, \"orange\")\n",
    "print(thislist)\n",
    "#Masukkan item sebagai posisi kedua\n",
    "#Sebagai hasil dari contoh di atas, daftar sekarang akan berisi 4 item."
   ]
  },
  {
   "cell_type": "code",
   "execution_count": 12,
   "id": "68bac91f",
   "metadata": {},
   "outputs": [
    {
     "name": "stdout",
     "output_type": "stream",
     "text": [
      "['apple', 'banana', 'cherry', 'mango', 'pineapple', 'papaya']\n"
     ]
    }
   ],
   "source": [
    "#kita akan belajar Add List Items pada bagian Extend List\n",
    "#Untuk menambahkan elemen dari daftar lain ke daftar saat ini, gunakan metode extend()\n",
    "thislist = [\"apple\", \"banana\", \"cherry\"]\n",
    "tropical = [\"mango\", \"pineapple\", \"papaya\"]\n",
    "thislist.extend(tropical)\n",
    "print(thislist)\n",
    "#Tambahkan elemen tropical ke thislist\n",
    "#Elemen akan ditambahkan ke End of the List."
   ]
  },
  {
   "cell_type": "code",
   "execution_count": 13,
   "id": "0a18dacf",
   "metadata": {},
   "outputs": [
    {
     "name": "stdout",
     "output_type": "stream",
     "text": [
      "['apple', 'banana', 'cherry', 'kiwi', 'orange']\n"
     ]
    }
   ],
   "source": [
    "#kita akan belajar Add List Items pada bagian Add Any Iterable\n",
    "#Metode extend() tidak harus menambahkan daftar, kita dapat menambahkan objek yang dapat diubah (tupel, set, kamus, dll.).\n",
    "thislist = [\"apple\", \"banana\", \"cherry\"]\n",
    "thistuple = (\"kiwi\", \"orange\")\n",
    "thislist.extend(thistuple)\n",
    "print(thislist)\n",
    "#Tambahkan elemen Tuple ke daftar"
   ]
  },
  {
   "cell_type": "code",
   "execution_count": 14,
   "id": "1496b08c",
   "metadata": {},
   "outputs": [
    {
     "data": {
      "text/plain": [
       "'Remove List Items'"
      ]
     },
     "execution_count": 14,
     "metadata": {},
     "output_type": "execute_result"
    }
   ],
   "source": [
    "\"\"\"Remove List Items\"\"\""
   ]
  },
  {
   "cell_type": "code",
   "execution_count": 15,
   "id": "faf922ee",
   "metadata": {},
   "outputs": [
    {
     "name": "stdout",
     "output_type": "stream",
     "text": [
      "['apple', 'cherry']\n"
     ]
    }
   ],
   "source": [
    "#kita akan belajar Remove List Items pada bagian Remove Specified Item\n",
    "#Metode remove() menghapus item yang ditentukan.\n",
    "thislist = [\"apple\", \"banana\", \"cherry\"]\n",
    "thislist.remove(\"banana\")\n",
    "print(thislist)\n",
    "#metode ini akan menghapus banana"
   ]
  },
  {
   "cell_type": "code",
   "execution_count": 16,
   "id": "6dcb3f7a",
   "metadata": {},
   "outputs": [
    {
     "name": "stdout",
     "output_type": "stream",
     "text": [
      "['apple', 'cherry']\n"
     ]
    }
   ],
   "source": [
    "#kita akan belajar Remove List Items pada bagian Remove Specified Index\n",
    "#Metode pop() akan menghapus indeks yang ditentukan.\n",
    "thislist = [\"apple\", \"banana\", \"cherry\"]\n",
    "thislist.pop(1)\n",
    "print(thislist)\n",
    "#Hapus item kedua"
   ]
  },
  {
   "cell_type": "code",
   "execution_count": 17,
   "id": "c4831e98",
   "metadata": {},
   "outputs": [
    {
     "name": "stdout",
     "output_type": "stream",
     "text": [
      "['apple', 'banana']\n"
     ]
    }
   ],
   "source": [
    "#Jika kita tidak menentukan indeks,maka metode pop() akan menghapus item terakhir.\n",
    "thislist = [\"apple\", \"banana\", \"cherry\"]\n",
    "thislist.pop()\n",
    "print(thislist)\n",
    "#Hapus item terakhir"
   ]
  },
  {
   "cell_type": "code",
   "execution_count": 18,
   "id": "92dce8f2",
   "metadata": {},
   "outputs": [
    {
     "name": "stdout",
     "output_type": "stream",
     "text": [
      "['banana', 'cherry']\n"
     ]
    }
   ],
   "source": [
    "#Kata kunci del juga menghapus indeks yang ditentukan\n",
    "thislist = [\"apple\", \"banana\", \"cherry\"]\n",
    "del thislist[0]\n",
    "print(thislist)\n",
    "#Hapus item pertama"
   ]
  },
  {
   "cell_type": "code",
   "execution_count": 19,
   "id": "73638b7d",
   "metadata": {},
   "outputs": [],
   "source": [
    "#Kata kunci del juga dapat menghapus daftar sepenuhnya.\n",
    "thislist = [\"apple\", \"banana\", \"cherry\"]\n",
    "del thislist\n",
    "#Hapus seluruh daftar"
   ]
  },
  {
   "cell_type": "code",
   "execution_count": 20,
   "id": "1932331c",
   "metadata": {},
   "outputs": [
    {
     "name": "stdout",
     "output_type": "stream",
     "text": [
      "[]\n"
     ]
    }
   ],
   "source": [
    "#kita akan belajar Remove List Items pada bagian Clear the List\n",
    "#Metode clear() mengosongkan daftar.\n",
    "thislist = [\"apple\", \"banana\", \"cherry\"]\n",
    "thislist.clear()\n",
    "print(thislist)\n",
    "#Daftar itu masih ada, tetapi tidak ada isinya."
   ]
  },
  {
   "cell_type": "code",
   "execution_count": 21,
   "id": "05dcb119",
   "metadata": {},
   "outputs": [
    {
     "data": {
      "text/plain": [
       "'Loop Lists'"
      ]
     },
     "execution_count": 21,
     "metadata": {},
     "output_type": "execute_result"
    }
   ],
   "source": [
    "\"\"\"Loop Lists\"\"\""
   ]
  },
  {
   "cell_type": "code",
   "execution_count": 22,
   "id": "ba0d3adb",
   "metadata": {},
   "outputs": [
    {
     "name": "stdout",
     "output_type": "stream",
     "text": [
      "apple\n",
      "banana\n",
      "cherry\n"
     ]
    }
   ],
   "source": [
    "#kita akan belajar Loop Lists pada bagian  Loop Through a List\n",
    "#kita dapat mengulang item daftar dengan menggunakan for loop\n",
    "thislist = [\"apple\", \"banana\", \"cherry\"]\n",
    "for x in thislist:\n",
    "  print(x)\n",
    "#Cetak semua item dalam daftar, satu per satu"
   ]
  },
  {
   "cell_type": "code",
   "execution_count": 23,
   "id": "78d4fb5c",
   "metadata": {},
   "outputs": [
    {
     "name": "stdout",
     "output_type": "stream",
     "text": [
      "apple\n",
      "banana\n",
      "cherry\n"
     ]
    }
   ],
   "source": [
    "#kita akan belajar Loop Lists pada bagian Loop Through the Index Numbers\n",
    "#Gunakan fungsi range() dan len() untuk membuat iterable yang sesuai.\n",
    "thislist = [\"apple\", \"banana\", \"cherry\"]\n",
    "for i in range(len(thislist)):\n",
    "  print(thislist[i])\n",
    "#Cetak semua item dengan mengacu pada nomor indeksnya\n",
    "#Iterable yang dibuat pada contoh di atas adalah [0, 1, 2]."
   ]
  },
  {
   "cell_type": "code",
   "execution_count": 24,
   "id": "0e30d0dd",
   "metadata": {},
   "outputs": [
    {
     "name": "stdout",
     "output_type": "stream",
     "text": [
      "apple\n",
      "banana\n",
      "cherry\n"
     ]
    }
   ],
   "source": [
    "#kita akan belajar Loop Lists pada bagian Using a While Loop\n",
    "#Gunakan fungsi len() untuk menentukan panjang daftar, lalu mulai dari 0 dan ulangi item daftar dengan mengacu pada indeksnya.\n",
    "#Ingatlah untuk meningkatkan indeks sebesar 1 setelah setiap iterasi.\n",
    "thislist = [\"apple\", \"banana\", \"cherry\"]\n",
    "i = 0\n",
    "while i < len(thislist):\n",
    "  print(thislist[i])\n",
    "  i = i + 1\n",
    "#Cetak semua item, menggunakan loop sementara untuk menelusuri semua nomor indeks"
   ]
  },
  {
   "cell_type": "code",
   "execution_count": 25,
   "id": "7ea0e0b4",
   "metadata": {},
   "outputs": [
    {
     "name": "stdout",
     "output_type": "stream",
     "text": [
      "apple\n",
      "banana\n",
      "cherry\n"
     ]
    },
    {
     "data": {
      "text/plain": [
       "[None, None, None]"
      ]
     },
     "execution_count": 25,
     "metadata": {},
     "output_type": "execute_result"
    }
   ],
   "source": [
    "#kita akan belajar Loop Lists pada bagian Looping Using List Comprehension\n",
    "#Daftar Pemahaman akan menawarkan sintaks terpendek untuk perulangan melalui daftar\n",
    "thislist = [\"apple\", \"banana\", \"cherry\"]\n",
    "[print(x) for x in thislist]\n",
    "#a Short hand untuk loop yang akan mencetak semua item dalam daftar"
   ]
  },
  {
   "cell_type": "code",
   "execution_count": 26,
   "id": "66143635",
   "metadata": {},
   "outputs": [
    {
     "data": {
      "text/plain": [
       "'List Comprehension'"
      ]
     },
     "execution_count": 26,
     "metadata": {},
     "output_type": "execute_result"
    }
   ],
   "source": [
    "\"\"\"List Comprehension\"\"\""
   ]
  },
  {
   "cell_type": "code",
   "execution_count": 27,
   "id": "0c951599",
   "metadata": {},
   "outputs": [
    {
     "name": "stdout",
     "output_type": "stream",
     "text": [
      "['apple', 'banana', 'mango']\n"
     ]
    }
   ],
   "source": [
    "#kita akan belajar List Comprehension\n",
    "#Pemahaman daftar yang menawarkan sintaks yang lebih pendek saat kita ingin membuat daftar baru berdasarkan nilai dari daftar yang sudah ada.\n",
    "fruits = [\"apple\", \"banana\", \"cherry\", \"kiwi\", \"mango\"]\n",
    "newlist = []\n",
    "\n",
    "for x in fruits:\n",
    "  if \"a\" in x:\n",
    "    newlist.append(x)\n",
    "\n",
    "print(newlist)\n",
    "#Berdasarkan daftar buah-buahan, kita menginginkan daftar baru, yang hanya berisi buah-buahan dengan huruf \"a\" pada namanya.\n",
    "#Tanpa pemahaman daftar, kita harus menulis pernyataan for dengan tes bersyarat di dalamnya"
   ]
  },
  {
   "cell_type": "code",
   "execution_count": 28,
   "id": "cf2c630b",
   "metadata": {},
   "outputs": [
    {
     "name": "stdout",
     "output_type": "stream",
     "text": [
      "['apple', 'banana', 'mango']\n"
     ]
    }
   ],
   "source": [
    "#Dengan pemahaman daftar, kita dapat melakukan semua itu hanya dengan satu baris kode\n",
    "fruits = [\"apple\", \"banana\", \"cherry\", \"kiwi\", \"mango\"]\n",
    "\n",
    "newlist = [x for x in fruits if \"a\" in x]\n",
    "\n",
    "print(newlist)"
   ]
  },
  {
   "cell_type": "code",
   "execution_count": 30,
   "id": "89837f86",
   "metadata": {},
   "outputs": [],
   "source": [
    "#kita akan belajar List Comprehension pada bagian The Syntax\n",
    "#Condition --> Kondisi seperti filter yang hanya menerima item yang bernilai True.\n",
    "newlist = [x for x in fruits if x != \"apple\"]\n",
    "#Hanya terima item yang bukan \"apple\""
   ]
  },
  {
   "cell_type": "code",
   "execution_count": 31,
   "id": "2e83e297",
   "metadata": {},
   "outputs": [],
   "source": [
    "#Kondisi if x != \"apple\" akan mengembalikan True untuk semua elemen selain \"apple\", membuat daftar baru berisi semua buah kecuali \"apple\".\n",
    "newlist = [x for x in fruits]\n",
    "#Tanpa pernyataan if"
   ]
  },
  {
   "cell_type": "code",
   "execution_count": 32,
   "id": "fc7e4db5",
   "metadata": {},
   "outputs": [],
   "source": [
    "#kita akan belajar List Comprehension pada bagian Iterable\n",
    "#Iterable dapat berupa objek apa pun yang dapat diubah, seperti daftar, Tuple, set, dll.\n",
    "newlist = [x for x in range(10)]\n",
    "#Kita dapat menggunakan fungsi range() untuk membuat iterable\n",
    "\n",
    "#Contoh yang sama, tetapi dengan syarat\n",
    "newlist = [x for x in range(10) if x < 5]\n",
    "#hanya menerima angka yang lebih rendah dari 5"
   ]
  },
  {
   "cell_type": "code",
   "execution_count": 33,
   "id": "3df43d8b",
   "metadata": {},
   "outputs": [],
   "source": [
    "#kita akan belajar List Comprehension pada bagian Expression\n",
    "#Ekspresi adalah item saat ini dalam iterasi, tetapi juga merupakan hasil, yang dapat kita manipulasi sebelum berakhir seperti item daftar dalam daftar baru\n",
    "newlist = [x.upper() for x in fruits]\n",
    "#Atur nilai dalam daftar baru ke huruf besar\n",
    "\n",
    "#kita dapat mengatur hasilnya untuk apa pun yang kita suka\n",
    "newlist = ['hello' for x in fruits]\n",
    "#Setel semua nilai dalam daftar baru ke 'hello'\n",
    "\n",
    "#Ekspresi juga dapat berisi kondisi, tidak seperti filter, tetapi sebagai cara untuk memanipulasi hasil\n",
    "newlist = [x if x != \"banana\" else \"orange\" for x in fruits]\n",
    "#Mengembalikan \"Orange\" dan beralih ke \"Banana\""
   ]
  },
  {
   "cell_type": "code",
   "execution_count": 72,
   "id": "be2941a3",
   "metadata": {},
   "outputs": [
    {
     "data": {
      "text/plain": [
       "'Sort Lists'"
      ]
     },
     "execution_count": 72,
     "metadata": {},
     "output_type": "execute_result"
    }
   ],
   "source": [
    "\"\"\"Sort Lists\"\"\""
   ]
  },
  {
   "cell_type": "code",
   "execution_count": 73,
   "id": "4a53ba83",
   "metadata": {},
   "outputs": [
    {
     "name": "stdout",
     "output_type": "stream",
     "text": [
      "['banana', 'kiwi', 'mango', 'orange', 'pineapple']\n"
     ]
    }
   ],
   "source": [
    "#kita akan belajar Sort Lists pada bagian Sort List Alphanumerically\n",
    "#Objek daftar memiliki metode sort () yang akan mengurutkan daftar secara alfanumerik, menaik, secara default\n",
    "thislist = [\"orange\", \"mango\", \"kiwi\", \"pineapple\", \"banana\"]\n",
    "thislist.sort()\n",
    "print(thislist)\n",
    "#Urutkan daftar menurut abjad"
   ]
  },
  {
   "cell_type": "code",
   "execution_count": 74,
   "id": "bba20a6e",
   "metadata": {},
   "outputs": [
    {
     "name": "stdout",
     "output_type": "stream",
     "text": [
      "[23, 50, 65, 82, 100]\n"
     ]
    }
   ],
   "source": [
    "thislist = [100, 50, 65, 82, 23]\n",
    "thislist.sort()\n",
    "print(thislist)\n",
    "#Urutkan daftar secara numerik"
   ]
  },
  {
   "cell_type": "code",
   "execution_count": 75,
   "id": "29378c77",
   "metadata": {},
   "outputs": [
    {
     "name": "stdout",
     "output_type": "stream",
     "text": [
      "['pineapple', 'orange', 'mango', 'kiwi', 'banana']\n"
     ]
    }
   ],
   "source": [
    "#kita akan belajar Sort Lists pada bagian Sort Descending\n",
    "#Untuk mengurutkan secara menurun, gunakan argumen kata kunci reverse = True\n",
    "thislist = [\"orange\", \"mango\", \"kiwi\", \"pineapple\", \"banana\"]\n",
    "thislist.sort(reverse = True)\n",
    "print(thislist)\n",
    "#Urutkan daftar secara turun"
   ]
  },
  {
   "cell_type": "code",
   "execution_count": 76,
   "id": "bcd81fe1",
   "metadata": {},
   "outputs": [
    {
     "name": "stdout",
     "output_type": "stream",
     "text": [
      "[100, 82, 65, 50, 23]\n"
     ]
    }
   ],
   "source": [
    "thislist = [100, 50, 65, 82, 23]\n",
    "thislist.sort(reverse = True)\n",
    "print(thislist)\n",
    "#Urutkan daftar secara turun"
   ]
  },
  {
   "cell_type": "code",
   "execution_count": 77,
   "id": "b9b9dab1",
   "metadata": {},
   "outputs": [
    {
     "name": "stdout",
     "output_type": "stream",
     "text": [
      "[50, 65, 23, 82, 100]\n"
     ]
    }
   ],
   "source": [
    "#kita akan belajar Sort Lists pada bagian Customize Sort Function\n",
    "#Kita juga dapat menyesuaikan fungsi sendiri dengan menggunakan kunci argumen kata kunci = fungsi.\n",
    "#Fungsi akan mengembalikan angka yang akan digunakan untuk mengurutkan daftar (angka terendah terlebih dahulu)\n",
    "def myfunc(n):\n",
    "  return abs(n - 50)\n",
    "\n",
    "thislist = [100, 50, 65, 82, 23]\n",
    "thislist.sort(key = myfunc)\n",
    "print(thislist)\n",
    "#Urutan daftar berdasarkan seberapa dekat angkanya dengan 50"
   ]
  },
  {
   "cell_type": "code",
   "execution_count": 78,
   "id": "4fb97dd0",
   "metadata": {},
   "outputs": [
    {
     "name": "stdout",
     "output_type": "stream",
     "text": [
      "['Kiwi', 'Orange', 'banana', 'cherry']\n"
     ]
    }
   ],
   "source": [
    "#kita akan belajar Sort Lists pada bagian Case Insensitive Sort\n",
    "#Secara default, metode sort () peka terhadap huruf besar-kecil, sehingga semua huruf kapital diurutkan sebelum huruf kecil\n",
    "thislist = [\"banana\", \"Orange\", \"Kiwi\", \"cherry\"]\n",
    "thislist.sort()\n",
    "print(thislist)\n",
    "#Penyortiran peka terhadap huruf besar/kecil dapat memberikan hasil yang tidak terduga"
   ]
  },
  {
   "cell_type": "code",
   "execution_count": 79,
   "id": "0fd7f8d1",
   "metadata": {},
   "outputs": [
    {
     "name": "stdout",
     "output_type": "stream",
     "text": [
      "['banana', 'cherry', 'Kiwi', 'Orange']\n"
     ]
    }
   ],
   "source": [
    "#Jadi jika kita menginginkan fungsi pengurutan case-insensitive, gunakan str.lower sebagai fungsi kunci\n",
    "thislist = [\"banana\", \"Orange\", \"Kiwi\", \"cherry\"]\n",
    "thislist.sort(key = str.lower)\n",
    "print(thislist)\n",
    "#Lakukan semacam daftar yang tidak peka huruf besar-kecil"
   ]
  },
  {
   "cell_type": "code",
   "execution_count": 80,
   "id": "70516ed5",
   "metadata": {},
   "outputs": [
    {
     "name": "stdout",
     "output_type": "stream",
     "text": [
      "['cherry', 'Kiwi', 'Orange', 'banana']\n"
     ]
    }
   ],
   "source": [
    "#kita akan belajar Sort Lists pada bagian Reverse Order\n",
    "#Metode reverse() membalikkan urutan pengurutan elemen saat ini.\n",
    "thislist = [\"banana\", \"Orange\", \"Kiwi\", \"cherry\"]\n",
    "thislist.reverse()\n",
    "print(thislist)\n",
    "#Membalikkan urutan item daftar"
   ]
  },
  {
   "cell_type": "code",
   "execution_count": 81,
   "id": "5958fb2d",
   "metadata": {},
   "outputs": [
    {
     "data": {
      "text/plain": [
       "'Copy Lists'"
      ]
     },
     "execution_count": 81,
     "metadata": {},
     "output_type": "execute_result"
    }
   ],
   "source": [
    "\"\"\"Copy Lists\"\"\""
   ]
  },
  {
   "cell_type": "code",
   "execution_count": 82,
   "id": "d23722dc",
   "metadata": {},
   "outputs": [
    {
     "name": "stdout",
     "output_type": "stream",
     "text": [
      "['apple', 'banana', 'cherry']\n"
     ]
    }
   ],
   "source": [
    "#kita akan belajar Copy Lists pada bagian Copy a List\n",
    "#kita tidak dapat menyalin daftar hanya dengan mengetikkan list2 = list1, karena: list2 hanya akan menjadi referensi ke list1, dan perubahan yang dibuat di list1 akan otomatis juga dilakukan di list2.\n",
    "#Ada cara untuk membuat salinan, salah satu caranya adalah dengan menggunakan metode Daftar bawaan copy()\n",
    "thislist = [\"apple\", \"banana\", \"cherry\"]\n",
    "mylist = thislist.copy()\n",
    "print(mylist)\n",
    "#Buat salinan daftar dengan metode salin ()"
   ]
  },
  {
   "cell_type": "code",
   "execution_count": 83,
   "id": "a4c488ca",
   "metadata": {},
   "outputs": [
    {
     "name": "stdout",
     "output_type": "stream",
     "text": [
      "['apple', 'banana', 'cherry']\n"
     ]
    }
   ],
   "source": [
    "#Cara lain untuk membuat salinan adalah dengan menggunakan daftar metode bawaan ()\n",
    "thislist = [\"apple\", \"banana\", \"cherry\"]\n",
    "mylist = list(thislist)\n",
    "print(mylist)\n",
    "#Buat salinan daftar dengan metode daftar ()"
   ]
  },
  {
   "cell_type": "code",
   "execution_count": 84,
   "id": "eceb91c6",
   "metadata": {},
   "outputs": [
    {
     "data": {
      "text/plain": [
       "'Join Lists'"
      ]
     },
     "execution_count": 84,
     "metadata": {},
     "output_type": "execute_result"
    }
   ],
   "source": [
    "\"\"\"Join Lists\"\"\""
   ]
  },
  {
   "cell_type": "code",
   "execution_count": 85,
   "id": "30bd2aff",
   "metadata": {},
   "outputs": [
    {
     "name": "stdout",
     "output_type": "stream",
     "text": [
      "['a', 'b', 'c', 1, 2, 3]\n"
     ]
    }
   ],
   "source": [
    "#kita akan belajar Join Lists di bagian Join Two Lists\n",
    "#Ada beberapa cara untuk menggabungkan, atau menggabungkan, dua atau lebih daftar dengan Python.\n",
    "#Salah satu cara termudah adalah dengan menggunakan operator +.\n",
    "list1 = [\"a\", \"b\", \"c\"]\n",
    "list2 = [1, 2, 3]\n",
    "\n",
    "list3 = list1 + list2\n",
    "print(list3)\n",
    "#Bergabunglah dengan dua daftar"
   ]
  },
  {
   "cell_type": "code",
   "execution_count": 86,
   "id": "6ad92f76",
   "metadata": {},
   "outputs": [
    {
     "name": "stdout",
     "output_type": "stream",
     "text": [
      "['a', 'b', 'c', 1, 2, 3]\n"
     ]
    }
   ],
   "source": [
    "#Cara lain untuk menggabungkan dua daftar adalah dengan menambahkan semua item dari daftar2 ke dalam daftar1, satu per satu\n",
    "list1 = [\"a\", \"b\" , \"c\"]\n",
    "list2 = [1, 2, 3]\n",
    "\n",
    "for x in list2:\n",
    "  list1.append(x)\n",
    "\n",
    "print(list1)\n",
    "#Tambahkan list2 ke dalam list1"
   ]
  },
  {
   "cell_type": "code",
   "execution_count": 87,
   "id": "7897c227",
   "metadata": {},
   "outputs": [
    {
     "name": "stdout",
     "output_type": "stream",
     "text": [
      "['a', 'b', 'c', 1, 2, 3]\n"
     ]
    }
   ],
   "source": [
    "#Atau kita dapat menggunakan metode extend (), yang tujuannya adalah untuk menambahkan elemen dari satu daftar ke daftar lainnya\n",
    "list1 = [\"a\", \"b\" , \"c\"]\n",
    "list2 = [1, 2, 3]\n",
    "\n",
    "list1.extend(list2)\n",
    "print(list1)\n",
    "#Gunakan metode extend () untuk menambahkan list2 di akhir list1"
   ]
  },
  {
   "cell_type": "code",
   "execution_count": 88,
   "id": "237de392",
   "metadata": {},
   "outputs": [
    {
     "data": {
      "text/plain": [
       "'List Methods'"
      ]
     },
     "execution_count": 88,
     "metadata": {},
     "output_type": "execute_result"
    }
   ],
   "source": [
    "\"\"\"List Methods\"\"\""
   ]
  },
  {
   "cell_type": "code",
   "execution_count": null,
   "id": "2a36f22e",
   "metadata": {},
   "outputs": [],
   "source": [
    "#kita akan belajar List Methods\n",
    "#Python memiliki seperangkat metode bawaan yang dapat Anda gunakan pada daftar.\n",
    "\n",
    "#append()\tAdds an element at the end of the list\n",
    "#clear()\tRemoves all the elements from the list\n",
    "#copy()\tReturns a copy of the list\n",
    "#count()\tReturns the number of elements with the specified value\n",
    "#extend()\tAdd the elements of a list (or any iterable), to the end of the current list\n",
    "#index()\tReturns the index of the first element with the specified value\n",
    "#insert()\tAdds an element at the specified position\n",
    "#pop()\tRemoves the element at the specified position\n",
    "#remove()\tRemoves the item with the specified value\n",
    "#reverse()\tReverses the order of the list\n",
    "#sort()\tSorts the list"
   ]
  }
 ],
 "metadata": {
  "kernelspec": {
   "display_name": "Python 3",
   "language": "python",
   "name": "python3"
  },
  "language_info": {
   "codemirror_mode": {
    "name": "ipython",
    "version": 3
   },
   "file_extension": ".py",
   "mimetype": "text/x-python",
   "name": "python",
   "nbconvert_exporter": "python",
   "pygments_lexer": "ipython3",
   "version": "3.8.8"
  }
 },
 "nbformat": 4,
 "nbformat_minor": 5
}
