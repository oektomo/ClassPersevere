{
 "cells": [
  {
   "cell_type": "markdown",
   "id": "727df269",
   "metadata": {},
   "source": [
    "# Tuple Python"
   ]
  },
  {
   "cell_type": "code",
   "execution_count": 4,
   "id": "c18a0eb4",
   "metadata": {},
   "outputs": [
    {
     "name": "stdout",
     "output_type": "stream",
     "text": [
      "('apple', 'banana', 'cherry')\n"
     ]
    }
   ],
   "source": [
    "#Tuple\n",
    "#Tuple digunakan untuk menyimpan beberapa item dalam satu variabel\n",
    "\n",
    "thistuple = (\"apple\", \"banana\", \"cherry\")\n",
    "print(thistuple)"
   ]
  },
  {
   "cell_type": "code",
   "execution_count": 5,
   "id": "a941ddf5",
   "metadata": {},
   "outputs": [
    {
     "name": "stdout",
     "output_type": "stream",
     "text": [
      "('apple', 'banana', 'cherry', 'apple', 'cherry')\n"
     ]
    }
   ],
   "source": [
    "#Tuple Items\n",
    "#Ketika kita mengatakan bahwa tupel dipesan, itu berarti item memiliki urutan yang ditentukan,\n",
    "#dan urutan itu tidak akan berubah.\n",
    "\n",
    "thistuple = (\"apple\", \"banana\", \"cherry\", \"apple\", \"cherry\")\n",
    "print(thistuple)"
   ]
  },
  {
   "cell_type": "code",
   "execution_count": 6,
   "id": "75c0535a",
   "metadata": {},
   "outputs": [
    {
     "name": "stdout",
     "output_type": "stream",
     "text": [
      "3\n"
     ]
    }
   ],
   "source": [
    "#Tuple Length\n",
    "#Untuk menentukan berapa banyak item yang dimiliki sebuah tuple, gunakan len()fungsi:\n",
    "\n",
    "thistuple = (\"apple\", \"banana\", \"cherry\")\n",
    "print(len(thistuple))"
   ]
  },
  {
   "cell_type": "code",
   "execution_count": 7,
   "id": "ca20172b",
   "metadata": {},
   "outputs": [
    {
     "name": "stdout",
     "output_type": "stream",
     "text": [
      "<class 'tuple'>\n",
      "<class 'str'>\n"
     ]
    }
   ],
   "source": [
    "#Create Tuple With One Item\n",
    "#Untuk membuat Tuple dengan hanya satu item, Kita harus menambahkan koma setelah item,\n",
    "#jika tidak Python tidak akan mengenalinya sebagai Tuple.\n",
    "\n",
    "thistuple = (\"apple\",)\n",
    "print(type(thistuple))\n",
    "\n",
    "#NOT a tuple\n",
    "thistuple = (\"apple\")\n",
    "print(type(thistuple))"
   ]
  },
  {
   "cell_type": "code",
   "execution_count": 21,
   "id": "87674cf0",
   "metadata": {},
   "outputs": [
    {
     "name": "stdout",
     "output_type": "stream",
     "text": [
      "===============================\n",
      "('apple', 'banana', 'cherry')\n",
      "(1, 5, 7, 9, 3)\n",
      "(True, False, False)\n",
      "===============================\n",
      "                               \n",
      "===============================\n",
      "('abc', 34, True, 40, 'male')\n",
      "===============================\n"
     ]
    }
   ],
   "source": [
    "#Tuple Items - Data Types\n",
    "#Item tuple dapat berupa tipe data apa pun:\n",
    "#String, int and boolean data types:\n",
    "\n",
    "tuple1 = (\"apple\", \"banana\", \"cherry\")\n",
    "tuple2 = (1, 5, 7, 9, 3)\n",
    "tuple3 = (True, False, False)\n",
    "print(\"===============================\")\n",
    "print(tuple1)\n",
    "print(tuple2)\n",
    "print(tuple3)\n",
    "print(\"===============================\")\n",
    "print(\"                               \")\n",
    "print(\"===============================\")\n",
    "\n",
    "#Tuple dapat berisi tipe data yang berbeda:\n",
    "#Tuple dengan string, integer, dan nilai boolean:\n",
    "\n",
    "tuple1 = (\"abc\", 34, True, 40, \"male\")\n",
    "\n",
    "print(tuple1)\n",
    "print(\"===============================\")\n"
   ]
  },
  {
   "cell_type": "code",
   "execution_count": 19,
   "id": "a3317321",
   "metadata": {},
   "outputs": [
    {
     "name": "stdout",
     "output_type": "stream",
     "text": [
      "<class 'tuple'>\n"
     ]
    }
   ],
   "source": [
    "#type()\n",
    "#Dari perspektif Python, tupel didefinisikan sebagai objek dengan tipe data 'tuple':\n",
    "\n",
    "mytuple = (\"apple\", \"banana\", \"cherry\")\n",
    "\n",
    "print(type(mytuple))"
   ]
  },
  {
   "cell_type": "code",
   "execution_count": 20,
   "id": "010849f7",
   "metadata": {},
   "outputs": [
    {
     "name": "stdout",
     "output_type": "stream",
     "text": [
      "('apple', 'banana', 'cherry')\n"
     ]
    }
   ],
   "source": [
    "#The tuple() Constructor\n",
    "#Dimungkinkan juga untuk menggunakan konstruktor Tuple() untuk membuat Tuple.\n",
    "\n",
    "thistuple = tuple((\"apple\", \"banana\", \"cherry\"))\n",
    "print(thistuple)"
   ]
  },
  {
   "cell_type": "markdown",
   "id": "c082e4d2",
   "metadata": {},
   "source": [
    "## Acces Tuple"
   ]
  },
  {
   "cell_type": "code",
   "execution_count": 2,
   "id": "2424483e",
   "metadata": {},
   "outputs": [
    {
     "name": "stdout",
     "output_type": "stream",
     "text": [
      "banana\n"
     ]
    }
   ],
   "source": [
    "#Access Tuple Items\n",
    "#kita dapat mengakses item Tuple dengan mengacu pada nomor indeks, di dalam tanda kurung siku:\n",
    "\n",
    "thistuple = (\"apple\", \"banana\", \"cherry\")\n",
    "print(thistuple[1])"
   ]
  },
  {
   "cell_type": "code",
   "execution_count": 3,
   "id": "699ca980",
   "metadata": {},
   "outputs": [
    {
     "name": "stdout",
     "output_type": "stream",
     "text": [
      "cherry\n"
     ]
    }
   ],
   "source": [
    "#Negative Indexing\n",
    "#Pengindeksan negatif berarti mulai dari akhir.\n",
    "#-1mengacu pada item terakhir, -2mengacu pada item terakhir kedua dll.\n",
    "\n",
    "thistuple = (\"apple\", \"banana\", \"cherry\")\n",
    "print(thistuple[-1])"
   ]
  },
  {
   "cell_type": "code",
   "execution_count": 11,
   "id": "5a34cc9c",
   "metadata": {},
   "outputs": [
    {
     "name": "stdout",
     "output_type": "stream",
     "text": [
      "===============================\n",
      "('cherry', 'orange', 'kiwi')\n",
      "===============================\n",
      "                               \n",
      "===============================\n",
      "('apple', 'banana', 'cherry', 'orange')\n",
      "===============================\n",
      "                               \n",
      "===============================\n",
      "('cherry', 'orange', 'kiwi', 'melon', 'mango')\n",
      "===============================\n"
     ]
    }
   ],
   "source": [
    "#Range of Indexes\n",
    "#Return the third, fourth, and fifth item:\n",
    "#kita dapat menentukan rentang indeks dengan menentukan di mana harus memulai dan di mana harus mengakhiri rentang.\n",
    "\n",
    "print(\"===============================\")\n",
    "thistuple = (\"apple\", \"banana\", \"cherry\", \"orange\", \"kiwi\", \"melon\", \"mango\")\n",
    "print(thistuple[2:5])\n",
    "print(\"===============================\")\n",
    "print(\"                               \")\n",
    "print(\"===============================\")\n",
    "\n",
    "#Dengan mengabaikan nilai awal, rentang akan dimulai pada item pertama:\n",
    "thistuple = (\"apple\", \"banana\", \"cherry\", \"orange\", \"kiwi\", \"melon\", \"mango\")\n",
    "print(thistuple[:4])\n",
    "print(\"===============================\")\n",
    "print(\"                               \")\n",
    "print(\"===============================\")\n",
    "\n",
    "#Dengan mengabaikan nilai akhir, rentang akan berlanjut ke akhir daftar:\n",
    "thistuple = (\"apple\", \"banana\", \"cherry\", \"orange\", \"kiwi\", \"melon\", \"mango\")\n",
    "print(thistuple[2:])\n",
    "print(\"===============================\")"
   ]
  },
  {
   "cell_type": "code",
   "execution_count": 6,
   "id": "7cf32f3a",
   "metadata": {},
   "outputs": [
    {
     "name": "stdout",
     "output_type": "stream",
     "text": [
      "('orange', 'kiwi', 'melon')\n"
     ]
    }
   ],
   "source": [
    "#Range of Negative Indexes\n",
    "#Menentukan indeks negatif jika kita ingin memulai pencarian dari akhir Tuple:\n",
    "\n",
    "thistuple = (\"apple\", \"banana\", \"cherry\", \"orange\", \"kiwi\", \"melon\", \"mango\")\n",
    "print(thistuple[-4:-1])"
   ]
  },
  {
   "cell_type": "code",
   "execution_count": 13,
   "id": "94ab59f3",
   "metadata": {},
   "outputs": [
    {
     "name": "stdout",
     "output_type": "stream",
     "text": [
      "Yes, 'apple' is in the fruits tuple\n"
     ]
    }
   ],
   "source": [
    "#Check if Item Exists\n",
    "#Untuk menentukan apakah item tertentu ada dalam tuple, gunakan inkata kunci:\n",
    "\n",
    "thistuple = (\"apple\", \"banana\", \"cherry\")\n",
    "if \"apple\" in thistuple:\n",
    "  print(\"Yes, 'apple' is in the fruits tuple\")"
   ]
  },
  {
   "cell_type": "markdown",
   "id": "7db74bb6",
   "metadata": {},
   "source": [
    "## Update Tuples"
   ]
  },
  {
   "cell_type": "code",
   "execution_count": 14,
   "id": "3e9e916b",
   "metadata": {},
   "outputs": [
    {
     "name": "stdout",
     "output_type": "stream",
     "text": [
      "('apple', 'kiwi', 'cherry')\n"
     ]
    }
   ],
   "source": [
    "#Change Tuple Values\n",
    "#Tuple tidak dapat diubah, artinya kita tidak dapat mengubah, menambah, atau menghapus item setelah tupel dibuat.\n",
    "#ada solusi untuk mengonversi Tuple menjadi daftar, mengubah daftar, dan mengonversi daftar kembali menjadi Tuple.\n",
    "\n",
    "x = (\"apple\", \"banana\", \"cherry\")\n",
    "y = list(x)\n",
    "y[1] = \"kiwi\"\n",
    "x = tuple(y)\n",
    "\n",
    "print(x)"
   ]
  },
  {
   "cell_type": "code",
   "execution_count": 17,
   "id": "89191e59",
   "metadata": {},
   "outputs": [
    {
     "name": "stdout",
     "output_type": "stream",
     "text": [
      "===============================\n",
      "('apple', 'banana', 'cherry', 'orange')\n",
      "===============================\n",
      "                               \n",
      "===============================\n",
      "('apple', 'banana', 'cherry', 'orange')\n",
      "===============================\n"
     ]
    }
   ],
   "source": [
    "#Add Items\n",
    "#Ada Solusi juga untuk menambahkan item. \n",
    "\n",
    "# 1 Sama seperti solusi untuk mengubah tuple, \n",
    "#Anda dapat mengubahnya menjadi daftar, menambahkan item Anda, dan mengubahnya kembali menjadi tuple.\n",
    "\n",
    "print(\"===============================\")\n",
    "thistuple = (\"apple\", \"banana\", \"cherry\")\n",
    "y = list(thistuple)\n",
    "y.append(\"orange\")\n",
    "thistuple = tuple(y)\n",
    "\n",
    "print(thistuple)\n",
    "print(\"===============================\")\n",
    "print(\"                               \")\n",
    "print(\"===============================\")\n",
    "\n",
    "# 2 buat tupel baru dengan item tersebut, dan tambahkan ke tupel yang ada:\n",
    "\n",
    "thistuple = (\"apple\", \"banana\", \"cherry\")\n",
    "y = (\"orange\",)\n",
    "thistuple += y\n",
    "\n",
    "print(thistuple)\n",
    "print(\"===============================\")"
   ]
  },
  {
   "cell_type": "code",
   "execution_count": 7,
   "id": "f5dfef73",
   "metadata": {},
   "outputs": [
    {
     "name": "stdout",
     "output_type": "stream",
     "text": [
      "===============================\n",
      "('banana', 'cherry')\n",
      "===============================\n",
      "                               \n",
      "===============================\n"
     ]
    },
    {
     "ename": "NameError",
     "evalue": "name 'thistuple' is not defined",
     "output_type": "error",
     "traceback": [
      "\u001b[1;31m---------------------------------------------------------------------------\u001b[0m",
      "\u001b[1;31mNameError\u001b[0m                                 Traceback (most recent call last)",
      "\u001b[1;32m~\\AppData\\Local\\Temp/ipykernel_7268/546319134.py\u001b[0m in \u001b[0;36m<module>\u001b[1;34m\u001b[0m\n\u001b[0;32m     20\u001b[0m \u001b[0mthistuple\u001b[0m \u001b[1;33m=\u001b[0m \u001b[1;33m(\u001b[0m\u001b[1;34m\"apple\"\u001b[0m\u001b[1;33m,\u001b[0m \u001b[1;34m\"banana\"\u001b[0m\u001b[1;33m,\u001b[0m \u001b[1;34m\"cherry\"\u001b[0m\u001b[1;33m)\u001b[0m\u001b[1;33m\u001b[0m\u001b[1;33m\u001b[0m\u001b[0m\n\u001b[0;32m     21\u001b[0m \u001b[1;32mdel\u001b[0m \u001b[0mthistuple\u001b[0m\u001b[1;33m\u001b[0m\u001b[1;33m\u001b[0m\u001b[0m\n\u001b[1;32m---> 22\u001b[1;33m \u001b[0mprint\u001b[0m\u001b[1;33m(\u001b[0m\u001b[0mthistuple\u001b[0m\u001b[1;33m)\u001b[0m \u001b[1;31m#this will raise an error because the tuple no longer exists\u001b[0m\u001b[1;33m\u001b[0m\u001b[1;33m\u001b[0m\u001b[0m\n\u001b[0m",
      "\u001b[1;31mNameError\u001b[0m: name 'thistuple' is not defined"
     ]
    }
   ],
   "source": [
    "#Remove Items\n",
    "#Ada 2 Cara untuk menghapus item di  tuple ini\n",
    "# 1 Ubah Tuple menjadi daftar, hapus \"apple\", dan ubah kembali menjadi Tuple:\n",
    "\n",
    "print(\"===============================\")\n",
    "thistuple = (\"apple\", \"banana\", \"cherry\")\n",
    "y = list(thistuple)\n",
    "y.remove(\"apple\")\n",
    "thistuple = tuple(y)\n",
    "\n",
    "print(thistuple)\n",
    "\n",
    "print(\"===============================\")\n",
    "print(\"                               \")\n",
    "print(\"===============================\")\n",
    "\n",
    "# 2 kita dapat menghapus Tuple sepenuhnya:\n",
    "#Kata delkunci dapat menghapus Tuple sepenuhnya:\n",
    "\n",
    "thistuple = (\"apple\", \"banana\", \"cherry\")\n",
    "del thistuple\n",
    "print(thistuple) #this will raise an error because the tuple no longer exists"
   ]
  },
  {
   "cell_type": "markdown",
   "id": "fa346fd7",
   "metadata": {},
   "source": [
    "## Unpack Tuples"
   ]
  },
  {
   "cell_type": "code",
   "execution_count": 8,
   "id": "76519f91",
   "metadata": {},
   "outputs": [
    {
     "name": "stdout",
     "output_type": "stream",
     "text": [
      "===============================\n",
      "('apple', 'banana', 'cherry')\n",
      "===============================\n",
      "                               \n",
      "===============================\n",
      "apple\n",
      "banana\n",
      "cherry\n",
      "===============================\n"
     ]
    }
   ],
   "source": [
    "#Unpacking a Tuple\n",
    "#kita membuat sebuah tuple, kita biasanya memberikan nilai padanya. Ini disebut \"mengemas\" sebuah tuple:\n",
    "\n",
    "print(\"===============================\")\n",
    "fruits = (\"apple\", \"banana\", \"cherry\")\n",
    "\n",
    "print(fruits)\n",
    "\n",
    "print(\"===============================\")\n",
    "print(\"                               \")\n",
    "print(\"===============================\")\n",
    "#Tapi dalam Python, kita juga diperbolehkan untuk mengekstrak nilai kembali ke dalam variabel. Ini disebut \"membongkar atau membuka ulang nilai\":\n",
    "\n",
    "fruits = (\"apple\", \"banana\", \"cherry\")\n",
    "\n",
    "(green, yellow, red) = fruits\n",
    "\n",
    "print(green)\n",
    "print(yellow)\n",
    "print(red)\n",
    "print(\"===============================\")"
   ]
  },
  {
   "cell_type": "code",
   "execution_count": 9,
   "id": "b1804964",
   "metadata": {},
   "outputs": [
    {
     "name": "stdout",
     "output_type": "stream",
     "text": [
      "===============================\n",
      "apple\n",
      "banana\n",
      "['cherry', 'strawberry', 'raspberry']\n",
      "===============================\n",
      "                               \n",
      "===============================\n",
      "apple\n",
      "['mango', 'papaya', 'pineapple']\n",
      "cherry\n",
      "===============================\n"
     ]
    }
   ],
   "source": [
    "#Using Asterisk\n",
    "#Kita dapat menambahkan *  ke nama variabel dan nilai akan ditetapkan ke variabel sebagai daftar:\n",
    "#Misal, Tetapkan sisa nilai sebagai daftar yang disebut \"merah\":\n",
    "\n",
    "print(\"===============================\")\n",
    "fruits = (\"apple\", \"banana\", \"cherry\", \"strawberry\", \"raspberry\")\n",
    "\n",
    "(green, yellow, *red) = fruits\n",
    "\n",
    "print(green)\n",
    "print(yellow)\n",
    "print(red)\n",
    "print(\"===============================\")\n",
    "print(\"                               \")\n",
    "print(\"===============================\")\n",
    "\n",
    "#Jika tanda bintang ditambahkan ke nama variabel lain selain yang terakhir, Python akan memberikan nilai \n",
    "#ke variabel hingga jumlah nilai yang tersisa cocok dengan jumlah variabel yang tersisa.\n",
    "\n",
    "fruits = (\"apple\", \"mango\", \"papaya\", \"pineapple\", \"cherry\")\n",
    "\n",
    "(green, *tropic, red) = fruits\n",
    "\n",
    "print(green)\n",
    "print(tropic)\n",
    "print(red)\n",
    "print(\"===============================\")"
   ]
  },
  {
   "cell_type": "markdown",
   "id": "43549843",
   "metadata": {},
   "source": [
    "# Loop Tuples"
   ]
  },
  {
   "cell_type": "code",
   "execution_count": 10,
   "id": "d2e6f77f",
   "metadata": {},
   "outputs": [
    {
     "name": "stdout",
     "output_type": "stream",
     "text": [
      "apple\n",
      "banana\n",
      "cherry\n"
     ]
    }
   ],
   "source": [
    "#Loop Through a Tuple\n",
    "#dapat mengulang item Tuple dengan menggunakan forloop.\n",
    "\n",
    "thistuple = (\"apple\", \"banana\", \"cherry\")\n",
    "for x in thistuple:\n",
    "  print(x)"
   ]
  },
  {
   "cell_type": "code",
   "execution_count": 11,
   "id": "1d83b899",
   "metadata": {},
   "outputs": [
    {
     "name": "stdout",
     "output_type": "stream",
     "text": [
      "apple\n",
      "banana\n",
      "cherry\n"
     ]
    }
   ],
   "source": [
    "#Loop Through the Index Numbers\n",
    "#Kita juga dapat mengulang item Tuple dengan mengacu pada nomor indeksnya.\n",
    "#Gunakan fungsi range()and len()untuk membuat iterable yang sesuai.\n",
    "\n",
    "thistuple = (\"apple\", \"banana\", \"cherry\")\n",
    "for i in range(len(thistuple)):\n",
    "  print(thistuple[i])"
   ]
  },
  {
   "cell_type": "code",
   "execution_count": 13,
   "id": "1160cd16",
   "metadata": {},
   "outputs": [
    {
     "name": "stdout",
     "output_type": "stream",
     "text": [
      "apple\n",
      "banana\n",
      "cherry\n"
     ]
    }
   ],
   "source": [
    "#Using a While Loop\n",
    "#Kita dapat mengulang item daftar dengan menggunakan whileloop.\n",
    "#Gunakan len()fungsi untuk menentukan panjang tupel, lalu mulai dari 0 dan ulangi item tupel dengan mengacu pada indeksnya.\n",
    "\n",
    "thistuple = (\"apple\", \"banana\", \"cherry\")\n",
    "i = 0\n",
    "while i < len(thistuple):\n",
    "  print(thistuple[i])\n",
    "  i = i + 1"
   ]
  },
  {
   "cell_type": "markdown",
   "id": "aff39704",
   "metadata": {},
   "source": [
    "# Join Tuples"
   ]
  },
  {
   "cell_type": "code",
   "execution_count": 14,
   "id": "5888643a",
   "metadata": {},
   "outputs": [
    {
     "name": "stdout",
     "output_type": "stream",
     "text": [
      "('a', 'b', 'c', 1, 2, 3)\n"
     ]
    }
   ],
   "source": [
    "#Join Two Tuples\n",
    "#Kita dapat menggunakan + operator untuk menggabungkan dua atau lebih tupel.\n",
    "\n",
    "tuple1 = (\"a\", \"b\" , \"c\")\n",
    "tuple2 = (1, 2, 3)\n",
    "\n",
    "tuple3 = tuple1 + tuple2\n",
    "print(tuple3)\n"
   ]
  },
  {
   "cell_type": "code",
   "execution_count": 15,
   "id": "ebb67103",
   "metadata": {},
   "outputs": [
    {
     "name": "stdout",
     "output_type": "stream",
     "text": [
      "('apple', 'banana', 'cherry', 'apple', 'banana', 'cherry')\n"
     ]
    }
   ],
   "source": [
    "#Multiply Tuples\n",
    "#Kita dapat menggunakan * operator Jika kita ingin mengalikan konten Tuple beberapa kali\n",
    "\n",
    "fruits = (\"apple\", \"banana\", \"cherry\")\n",
    "mytuple = fruits * 2\n",
    "\n",
    "print(mytuple)\n"
   ]
  },
  {
   "cell_type": "markdown",
   "id": "474a0142",
   "metadata": {},
   "source": [
    "# Tuple Methods"
   ]
  },
  {
   "cell_type": "markdown",
   "id": "9695e2f2",
   "metadata": {},
   "source": [
    "### count()"
   ]
  },
  {
   "cell_type": "code",
   "execution_count": 16,
   "id": "c0915543",
   "metadata": {},
   "outputs": [],
   "source": [
    "#Mengembalikan berapa kali nilai tertentu muncul dalam sebuah tuple"
   ]
  },
  {
   "cell_type": "markdown",
   "id": "6ce7ff27",
   "metadata": {},
   "source": [
    "### Index()"
   ]
  },
  {
   "cell_type": "code",
   "execution_count": null,
   "id": "14f41d92",
   "metadata": {},
   "outputs": [],
   "source": [
    "#Mencari tuple untuk nilai yang ditentukan dan mengembalikan posisi di mana ia ditemukan"
   ]
  }
 ],
 "metadata": {
  "kernelspec": {
   "display_name": "Python 3 (ipykernel)",
   "language": "python",
   "name": "python3"
  },
  "language_info": {
   "codemirror_mode": {
    "name": "ipython",
    "version": 3
   },
   "file_extension": ".py",
   "mimetype": "text/x-python",
   "name": "python",
   "nbconvert_exporter": "python",
   "pygments_lexer": "ipython3",
   "version": "3.9.7"
  }
 },
 "nbformat": 4,
 "nbformat_minor": 5
}
