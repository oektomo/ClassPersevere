{
 "cells": [
  {
   "cell_type": "code",
   "execution_count": 22,
   "id": "1b2cdb20",
   "metadata": {},
   "outputs": [
    {
     "data": {
      "text/plain": [
       "'variabel Python'"
      ]
     },
     "execution_count": 22,
     "metadata": {},
     "output_type": "execute_result"
    }
   ],
   "source": [
    "\"\"\"variabel Python\"\"\""
   ]
  },
  {
   "cell_type": "code",
   "execution_count": 21,
   "id": "e71422f3",
   "metadata": {},
   "outputs": [
    {
     "name": "stdout",
     "output_type": "stream",
     "text": [
      "5\n",
      "John\n"
     ]
    }
   ],
   "source": [
    "#disini kita akan belajar menggunakan variabel Python\n",
    "x = 5\n",
    "y = \"John\"\n",
    "print(x)\n",
    "print(y)"
   ]
  },
  {
   "cell_type": "code",
   "execution_count": 2,
   "id": "ec345082",
   "metadata": {},
   "outputs": [
    {
     "name": "stdout",
     "output_type": "stream",
     "text": [
      "Sally\n"
     ]
    }
   ],
   "source": [
    "x = 4       # x is of type int\n",
    "x = \"Sally\" # x is now of type str\n",
    "print(x)\n",
    "#contoh lainnya  dari variabel Python"
   ]
  },
  {
   "cell_type": "code",
   "execution_count": 4,
   "id": "74682819",
   "metadata": {},
   "outputs": [],
   "source": [
    "#masih di Variabel Python kita belajar memakai Casting\n",
    "x = str(3)    # x will be '3'\n",
    "y = int(3)    # y will be 3\n",
    "z = float(3)  # z will be 3.0\n",
    "#tidak terjadi apa-apa karena disini tidak ada perintah"
   ]
  },
  {
   "cell_type": "code",
   "execution_count": 6,
   "id": "cb94994d",
   "metadata": {},
   "outputs": [
    {
     "name": "stdout",
     "output_type": "stream",
     "text": [
      "<class 'int'>\n",
      "<class 'str'>\n"
     ]
    }
   ],
   "source": [
    "#masih di Variabel Python kita belajar memakai Get the Type\n",
    "x = 5\n",
    "y = \"John\"\n",
    "print(type(x))\n",
    "print(type(y))\n",
    "#yang kita ketahui disini kita bisa melihat bahwasannya type yang digunakan no 5 itu adalah class int dan nama John itu adalah class str\n",
    "#disini bisa dikatakan sebagai pemanggilan class"
   ]
  },
  {
   "cell_type": "code",
   "execution_count": 9,
   "id": "e2ea452a",
   "metadata": {},
   "outputs": [
    {
     "name": "stdout",
     "output_type": "stream",
     "text": [
      "John\n"
     ]
    }
   ],
   "source": [
    "#masih di Variabel Python kita belajar memakai Single or Double Quotes?\n",
    "x = \"John\"\n",
    "# is the same as\n",
    "x = 'John'\n",
    "#tidak terjadi apa-apa jika kita tidak melakukan perintah\n",
    "print(x)\n",
    "#jika kita ketik print x maka hasilnya akan sama"
   ]
  },
  {
   "cell_type": "code",
   "execution_count": 14,
   "id": "df1161c8",
   "metadata": {},
   "outputs": [
    {
     "name": "stdout",
     "output_type": "stream",
     "text": [
      "4 Sally\n"
     ]
    }
   ],
   "source": [
    "#masih di Variabel Python kita belajar memakai Case-Sensitive\n",
    "a = 4\n",
    "A = \"Sally\"\n",
    "#A will not overwrite a\n",
    "print(a, A)\n",
    "#jika kita menggunakan kalimat kedua ini maka keduanya bisa dibilang similar utuk sebuah variabel"
   ]
  },
  {
   "cell_type": "code",
   "execution_count": 16,
   "id": "6225e751",
   "metadata": {},
   "outputs": [
    {
     "data": {
      "text/plain": [
       "'Variabel Names'"
      ]
     },
     "execution_count": 16,
     "metadata": {},
     "output_type": "execute_result"
    }
   ],
   "source": [
    "\"\"\"Variabel Names\"\"\""
   ]
  },
  {
   "cell_type": "code",
   "execution_count": 19,
   "id": "d2736846",
   "metadata": {},
   "outputs": [],
   "source": [
    "#kita akan belajar variabel names\n",
    "myvar = \"John\"\n",
    "my_var = \"John\"\n",
    "_my_var = \"John\"\n",
    "myVar = \"John\"\n",
    "MYVAR = \"John\"\n",
    "myvar2 = \"John\"\n",
    "#jika seharusnya pada nama variabel 2myvar = \"John\", my-var = \"John\", my var = \"John\" akan terjadi error\n",
    "#Ingat bahwa nama variabel akan sensitif terhadap huruf besar-kecil"
   ]
  },
  {
   "cell_type": "code",
   "execution_count": 20,
   "id": "c23987f2",
   "metadata": {},
   "outputs": [
    {
     "data": {
      "text/plain": [
       "'Assign Multiple Values'"
      ]
     },
     "execution_count": 20,
     "metadata": {},
     "output_type": "execute_result"
    }
   ],
   "source": [
    "\"\"\"Assign Multiple Values\"\"\""
   ]
  },
  {
   "cell_type": "code",
   "execution_count": 24,
   "id": "adf5b79e",
   "metadata": {},
   "outputs": [
    {
     "name": "stdout",
     "output_type": "stream",
     "text": [
      "Orange\n",
      "Banana\n",
      "Cherry\n"
     ]
    }
   ],
   "source": [
    "#kita akan belajar Assign Multiple Values\n",
    "x, y, z = \"Orange\", \"Banana\", \"Cherry\"\n",
    "print(x)\n",
    "print(y)\n",
    "print(z)\n",
    "#Pastikan jumlah variabel sesuai dengan jumlah nilai, atau bisa terjadinya error."
   ]
  },
  {
   "cell_type": "code",
   "execution_count": 27,
   "id": "2930c205",
   "metadata": {},
   "outputs": [
    {
     "name": "stdout",
     "output_type": "stream",
     "text": [
      "apple\n",
      "banana\n",
      "cherry\n"
     ]
    }
   ],
   "source": [
    "#masih di Assign Multiple Values kita belajar memakai Unpack a Collection\n",
    "fruits = [\"apple\", \"banana\", \"cherry\"]\n",
    "x, y, z = fruits\n",
    "print(x)\n",
    "print(y)\n",
    "print(z)\n",
    "#Jika kita memiliki kumpulan nilai dalam daftar, tupel dll.\n",
    "#dapat memungkinkan untuk mengekstrak nilai ke dalam variabel. Ini juga bisa disebut membongkar."
   ]
  },
  {
   "cell_type": "code",
   "execution_count": 28,
   "id": "7c4836ea",
   "metadata": {},
   "outputs": [
    {
     "data": {
      "text/plain": [
       "'Output Variables'"
      ]
     },
     "execution_count": 28,
     "metadata": {},
     "output_type": "execute_result"
    }
   ],
   "source": [
    "\"\"\"Output Variables\"\"\""
   ]
  },
  {
   "cell_type": "code",
   "execution_count": 30,
   "id": "2d4e6b62",
   "metadata": {},
   "outputs": [
    {
     "name": "stdout",
     "output_type": "stream",
     "text": [
      "Python is awesome\n"
     ]
    }
   ],
   "source": [
    "#kita akan belajar Output Variables\n",
    "x = \"awesome\"\n",
    "print(\"Python is \" + x)\n",
    "#Jika kita menambahkan inputan di perintah maka itu dia akan terpanggil juga saat memanggil"
   ]
  },
  {
   "cell_type": "code",
   "execution_count": 32,
   "id": "6421f3ea",
   "metadata": {},
   "outputs": [
    {
     "name": "stdout",
     "output_type": "stream",
     "text": [
      "Python is awesome\n"
     ]
    }
   ],
   "source": [
    "#contoh lain, kita juga dapat menggunakan karakter + untuk menambahkan variabel ke variabel lain\n",
    "x = \"Python is \"\n",
    "y = \"awesome\"\n",
    "z =  x + y\n",
    "print(z)"
   ]
  },
  {
   "cell_type": "code",
   "execution_count": 33,
   "id": "f977e70c",
   "metadata": {},
   "outputs": [
    {
     "name": "stdout",
     "output_type": "stream",
     "text": [
      "15\n"
     ]
    }
   ],
   "source": [
    "#contoh lainnya, Untuk angka + karakter akan berfungsi sebagai operator matematika\n",
    "x = 5\n",
    "y = 10\n",
    "print(x + y)"
   ]
  },
  {
   "cell_type": "code",
   "execution_count": 35,
   "id": "3d36f0f3",
   "metadata": {},
   "outputs": [
    {
     "ename": "TypeError",
     "evalue": "unsupported operand type(s) for +: 'int' and 'str'",
     "output_type": "error",
     "traceback": [
      "\u001b[1;31m---------------------------------------------------------------------------\u001b[0m",
      "\u001b[1;31mTypeError\u001b[0m                                 Traceback (most recent call last)",
      "\u001b[1;32m<ipython-input-35-06563c8b3d6c>\u001b[0m in \u001b[0;36m<module>\u001b[1;34m\u001b[0m\n\u001b[0;32m      2\u001b[0m \u001b[0mx\u001b[0m \u001b[1;33m=\u001b[0m \u001b[1;36m5\u001b[0m\u001b[1;33m\u001b[0m\u001b[1;33m\u001b[0m\u001b[0m\n\u001b[0;32m      3\u001b[0m \u001b[0my\u001b[0m \u001b[1;33m=\u001b[0m \u001b[1;34m\"John\"\u001b[0m\u001b[1;33m\u001b[0m\u001b[1;33m\u001b[0m\u001b[0m\n\u001b[1;32m----> 4\u001b[1;33m \u001b[0mprint\u001b[0m\u001b[1;33m(\u001b[0m\u001b[0mx\u001b[0m \u001b[1;33m+\u001b[0m \u001b[0my\u001b[0m\u001b[1;33m)\u001b[0m\u001b[1;33m\u001b[0m\u001b[1;33m\u001b[0m\u001b[0m\n\u001b[0m\u001b[0;32m      5\u001b[0m \u001b[1;31m#Jika kita mencoba menggabungkan string dan angka, disini kita akan mendapatkan error tipedata\u001b[0m\u001b[1;33m\u001b[0m\u001b[1;33m\u001b[0m\u001b[1;33m\u001b[0m\u001b[0m\n",
      "\u001b[1;31mTypeError\u001b[0m: unsupported operand type(s) for +: 'int' and 'str'"
     ]
    }
   ],
   "source": [
    "#contoh jika terjadi error\n",
    "x = 5\n",
    "y = \"John\"\n",
    "print(x + y)\n",
    "#Jika kita mencoba menggabungkan string dan angka, disini kita akan mendapatkan error tipedata"
   ]
  },
  {
   "cell_type": "code",
   "execution_count": 36,
   "id": "1164d1d7",
   "metadata": {},
   "outputs": [
    {
     "data": {
      "text/plain": [
       "'Global Variables'"
      ]
     },
     "execution_count": 36,
     "metadata": {},
     "output_type": "execute_result"
    }
   ],
   "source": [
    "\"\"\"Global Variables\"\"\""
   ]
  },
  {
   "cell_type": "code",
   "execution_count": 38,
   "id": "052b6ca9",
   "metadata": {},
   "outputs": [
    {
     "name": "stdout",
     "output_type": "stream",
     "text": [
      "Python is awesome\n"
     ]
    }
   ],
   "source": [
    "#kita akan belajar Global Variables\n",
    "x = \"awesome\"\n",
    "\n",
    "def myfunc():\n",
    "  print(\"Python is \" + x)\n",
    "\n",
    "myfunc()\n",
    "#Variabel yang dibuat di luar fungsi (seperti contoh di atas) dikenal sebagai variabel global."
   ]
  },
  {
   "cell_type": "code",
   "execution_count": 40,
   "id": "bb3133df",
   "metadata": {},
   "outputs": [
    {
     "name": "stdout",
     "output_type": "stream",
     "text": [
      "Python is fantastic\n",
      "Python is awesome\n"
     ]
    }
   ],
   "source": [
    "#contoh lain, jika kita membuat variabel di dalam fungsi, dengan nama yang sama di variabel global\n",
    "x = \"awesome\"\n",
    "\n",
    "def myfunc():\n",
    "  x = \"fantastic\"\n",
    "  print(\"Python is \" + x)\n",
    "\n",
    "myfunc()\n",
    "\n",
    "print(\"Python is \" + x)"
   ]
  },
  {
   "cell_type": "code",
   "execution_count": 42,
   "id": "ed4ed26a",
   "metadata": {},
   "outputs": [
    {
     "name": "stdout",
     "output_type": "stream",
     "text": [
      "Python is fantastic\n"
     ]
    }
   ],
   "source": [
    "#masih di Global Variables kita belajar memakai The global Keyword\n",
    "def myfunc():\n",
    "  global x\n",
    "  x = \"fantastic\"\n",
    "\n",
    "myfunc()\n",
    "\n",
    "print(\"Python is \" + x)\n",
    "#Jika kita menggunakan kata kunci global, variabel tersebut termasuk dalam lingkup global"
   ]
  },
  {
   "cell_type": "code",
   "execution_count": 43,
   "id": "f9b95f21",
   "metadata": {},
   "outputs": [
    {
     "name": "stdout",
     "output_type": "stream",
     "text": [
      "Python is fantastic\n"
     ]
    }
   ],
   "source": [
    "#contoh lain, Untuk mengubah nilai variabel global di dalam suatu fungsi, kita bisa lihat variabel tersebut dengan menggunakan kata kunci global\n",
    "x = \"awesome\"\n",
    "\n",
    "def myfunc():\n",
    "  global x\n",
    "  x = \"fantastic\"\n",
    "\n",
    "myfunc()\n",
    "\n",
    "print(\"Python is \" + x)"
   ]
  },
  {
   "cell_type": "code",
   "execution_count": null,
   "id": "e100a492",
   "metadata": {},
   "outputs": [],
   "source": []
  },
  {
   "cell_type": "code",
   "execution_count": null,
   "id": "60a08339",
   "metadata": {},
   "outputs": [],
   "source": []
  }
 ],
 "metadata": {
  "kernelspec": {
   "display_name": "Python 3",
   "language": "python",
   "name": "python3"
  },
  "language_info": {
   "codemirror_mode": {
    "name": "ipython",
    "version": 3
   },
   "file_extension": ".py",
   "mimetype": "text/x-python",
   "name": "python",
   "nbconvert_exporter": "python",
   "pygments_lexer": "ipython3",
   "version": "3.8.8"
  }
 },
 "nbformat": 4,
 "nbformat_minor": 5
}
