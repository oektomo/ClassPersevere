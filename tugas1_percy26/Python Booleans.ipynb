{
 "cells": [
  {
   "cell_type": "code",
   "execution_count": 1,
   "id": "df924af6",
   "metadata": {},
   "outputs": [
    {
     "name": "stdout",
     "output_type": "stream",
     "text": [
      "True\n",
      "False\n",
      "False\n"
     ]
    }
   ],
   "source": [
    "#kita akan belajar String Booleans\n",
    "print(10 > 9)\n",
    "print(10 == 9)\n",
    "print(10 < 9)\n",
    "#Saat kita membandingkan dua nilai, ekspresi dievaluasi dan Python mengembalikan jawaban Boolean"
   ]
  },
  {
   "cell_type": "code",
   "execution_count": 2,
   "id": "5ee459b1",
   "metadata": {},
   "outputs": [
    {
     "name": "stdout",
     "output_type": "stream",
     "text": [
      "b is not greater than a\n"
     ]
    }
   ],
   "source": [
    "#Saat kita menjalankan kondisi dalam pernyataan if, Python mengembalikan True atau False\n",
    "a = 200\n",
    "b = 33\n",
    "\n",
    "if b > a:\n",
    "  print(\"b is greater than a\")\n",
    "else:\n",
    "  print(\"b is not greater than a\")\n",
    "#Cetak pesan berdasarkan kondisi True atau False"
   ]
  },
  {
   "cell_type": "code",
   "execution_count": 3,
   "id": "a0dbca44",
   "metadata": {},
   "outputs": [
    {
     "name": "stdout",
     "output_type": "stream",
     "text": [
      "True\n",
      "True\n"
     ]
    }
   ],
   "source": [
    "#kita akan belajar String Booleans di bagian Evaluate Values and Variables\n",
    "#Fungsi bool() memungkinkan kita untuk mengevaluasi nilai apa pun, dan memberi kita True atau False sebagai balasannya\n",
    "print(bool(\"Hello\"))\n",
    "print(bool(15))\n",
    "#Evaluasi string dan angka"
   ]
  },
  {
   "cell_type": "code",
   "execution_count": 4,
   "id": "70b67592",
   "metadata": {},
   "outputs": [
    {
     "name": "stdout",
     "output_type": "stream",
     "text": [
      "True\n",
      "True\n"
     ]
    }
   ],
   "source": [
    "#contoh Lain :\n",
    "x = \"Hello\"\n",
    "y = 15\n",
    "\n",
    "print(bool(x))\n",
    "print(bool(y))\n",
    "#Evaluasi dua variabel"
   ]
  },
  {
   "cell_type": "code",
   "execution_count": 5,
   "id": "6e931a60",
   "metadata": {},
   "outputs": [
    {
     "data": {
      "text/plain": [
       "True"
      ]
     },
     "execution_count": 5,
     "metadata": {},
     "output_type": "execute_result"
    }
   ],
   "source": [
    "#kita akan belajar String Booleans di bagian  Most Values are True\n",
    "#Setiap nomor Benar, kecuali 0.\n",
    "#Setiap daftar, tuple, set, dan kamus adalah True, kecuali yang kosong.\n",
    "bool(\"abc\")\n",
    "bool(123)\n",
    "bool([\"apple\", \"cherry\", \"banana\"])\n",
    "#Berikut ini akan mengembalikan True"
   ]
  },
  {
   "cell_type": "code",
   "execution_count": 6,
   "id": "c6b51910",
   "metadata": {},
   "outputs": [
    {
     "data": {
      "text/plain": [
       "False"
      ]
     },
     "execution_count": 6,
     "metadata": {},
     "output_type": "execute_result"
    }
   ],
   "source": [
    "#kita akan belajar String Booleans di bagian Some Values are False\n",
    "bool(False)\n",
    "bool(None)\n",
    "bool(0)\n",
    "bool(\"\")\n",
    "bool(())\n",
    "bool([])\n",
    "bool({})\n",
    "#Berikut ini akan mengembalikan False"
   ]
  },
  {
   "cell_type": "code",
   "execution_count": 7,
   "id": "28c378af",
   "metadata": {},
   "outputs": [
    {
     "name": "stdout",
     "output_type": "stream",
     "text": [
      "False\n"
     ]
    }
   ],
   "source": [
    "class myclass():\n",
    "  def __len__(self):\n",
    "    return 0\n",
    "\n",
    "myobj = myclass()\n",
    "print(bool(myobj))\n",
    "#Satu nilai lagi, atau objek dalam kasus ini, dievaluasi menjadi False.\n",
    "#dan itu jika Anda memiliki objek yang dibuat dari kelas dengan fungsi __len__ yang mengembalikan 0 atau False"
   ]
  },
  {
   "cell_type": "code",
   "execution_count": 8,
   "id": "21a45bec",
   "metadata": {},
   "outputs": [
    {
     "name": "stdout",
     "output_type": "stream",
     "text": [
      "True\n"
     ]
    }
   ],
   "source": [
    "#kita akan belajar String Booleans di bagian Functions can Return a Boolean\n",
    "def myFunction() :\n",
    "  return True\n",
    "\n",
    "print(myFunction())\n",
    "#Cetak jawaban dari suatu fungsi"
   ]
  },
  {
   "cell_type": "code",
   "execution_count": 9,
   "id": "6b466b6d",
   "metadata": {},
   "outputs": [
    {
     "name": "stdout",
     "output_type": "stream",
     "text": [
      "YES!\n"
     ]
    }
   ],
   "source": [
    "#Cetak \"YA!\" jika fungsi mengembalikan True, jika tidak, cetak \"NO!\"\n",
    "def myFunction() :\n",
    "  return True\n",
    "\n",
    "if myFunction():\n",
    "  print(\"YES!\")\n",
    "else:\n",
    "  print(\"NO!\")\n",
    "#kita dapat mengeksekusi kode berdasarkan jawaban Boolean dari suatu fungsi"
   ]
  },
  {
   "cell_type": "code",
   "execution_count": 11,
   "id": "69452f2b",
   "metadata": {},
   "outputs": [
    {
     "name": "stdout",
     "output_type": "stream",
     "text": [
      "True\n"
     ]
    }
   ],
   "source": [
    "#Periksa apakah suatu objek bilangan bulat atau tidak\n",
    "x = 200\n",
    "print(isinstance(x, int))\n",
    "#Python juga memiliki banyak fungsi bawaan yang mengembalikan nilai boolean, seperti fungsi isinstance(), yang dapat digunakan untuk menentukan apakah suatu objek bertipe data tertentu."
   ]
  },
  {
   "cell_type": "code",
   "execution_count": null,
   "id": "e92e08ab",
   "metadata": {},
   "outputs": [],
   "source": []
  }
 ],
 "metadata": {
  "kernelspec": {
   "display_name": "Python 3",
   "language": "python",
   "name": "python3"
  },
  "language_info": {
   "codemirror_mode": {
    "name": "ipython",
    "version": 3
   },
   "file_extension": ".py",
   "mimetype": "text/x-python",
   "name": "python",
   "nbconvert_exporter": "python",
   "pygments_lexer": "ipython3",
   "version": "3.8.8"
  }
 },
 "nbformat": 4,
 "nbformat_minor": 5
}
