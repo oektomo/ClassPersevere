{
 "cells": [
  {
   "cell_type": "code",
   "execution_count": 1,
   "id": "676dfa22",
   "metadata": {},
   "outputs": [
    {
     "name": "stdout",
     "output_type": "stream",
     "text": [
      "Hello, World!\n"
     ]
    }
   ],
   "source": [
    "#This is a comment\n",
    "print(\"Hello, World!\")\n",
    "#kita menambahkan komentar untuk kata-kata yang kita pelajari"
   ]
  },
  {
   "cell_type": "code",
   "execution_count": 2,
   "id": "cfd2e88a",
   "metadata": {},
   "outputs": [
    {
     "name": "stdout",
     "output_type": "stream",
     "text": [
      "Cheers, Mate!\n"
     ]
    }
   ],
   "source": [
    "#print(\"Hello, World!\")\n",
    "print(\"Cheers, Mate!\")\n",
    "#contoh lainnya menggunakan perintah di dalam komentar dan tidak terjadi error karena hanya sebuah komentar"
   ]
  },
  {
   "cell_type": "code",
   "execution_count": 3,
   "id": "26ad91e1",
   "metadata": {},
   "outputs": [
    {
     "name": "stdout",
     "output_type": "stream",
     "text": [
      "Hello, World!\n"
     ]
    }
   ],
   "source": [
    "#This is a comment\n",
    "#written in\n",
    "#more than just one line\n",
    "print(\"Hello, World!\")\n",
    "#disini juga kita bisa menambahkan beberapa komentar seperti hal berikut"
   ]
  },
  {
   "cell_type": "code",
   "execution_count": 5,
   "id": "08d9c0f1",
   "metadata": {},
   "outputs": [
    {
     "name": "stdout",
     "output_type": "stream",
     "text": [
      "Hello, World!\n"
     ]
    }
   ],
   "source": [
    "\"\"\"\n",
    "This is a comment\n",
    "written in\n",
    "more than just one line\n",
    "\"\"\"\n",
    "print(\"Hello, World!\")\n",
    "#sebagai contoh. disini juga kita bisa menambahkan komentar seperti berikut \"\"\""
   ]
  },
  {
   "cell_type": "code",
   "execution_count": null,
   "id": "78e0ec39",
   "metadata": {},
   "outputs": [],
   "source": []
  }
 ],
 "metadata": {
  "kernelspec": {
   "display_name": "Python 3",
   "language": "python",
   "name": "python3"
  },
  "language_info": {
   "codemirror_mode": {
    "name": "ipython",
    "version": 3
   },
   "file_extension": ".py",
   "mimetype": "text/x-python",
   "name": "python",
   "nbconvert_exporter": "python",
   "pygments_lexer": "ipython3",
   "version": "3.8.8"
  }
 },
 "nbformat": 4,
 "nbformat_minor": 5
}
