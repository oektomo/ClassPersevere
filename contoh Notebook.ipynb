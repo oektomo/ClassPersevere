{
 "cells": [
  {
   "cell_type": "markdown",
   "id": "769d6be9",
   "metadata": {},
   "source": [
    "# Heading1\n",
    "## Heading 2\n",
    "### Heading 3"
   ]
  },
  {
   "cell_type": "code",
   "execution_count": 3,
   "id": "052f6847",
   "metadata": {},
   "outputs": [],
   "source": [
    "# Ini adalah penjelasan"
   ]
  },
  {
   "cell_type": "code",
   "execution_count": 2,
   "id": "fe873cf4",
   "metadata": {},
   "outputs": [
    {
     "name": "stdout",
     "output_type": "stream",
     "text": [
      "Hello World\n"
     ]
    }
   ],
   "source": [
    "print('Hello World')"
   ]
  },
  {
   "cell_type": "code",
   "execution_count": 2,
   "id": "fe873cf4",
   "metadata": {},
   "outputs": [
    {
     "name": "stdout",
     "output_type": "stream",
     "text": [
      "Hai\n"
     ]
    }
   ],
   "source": [
    "print('Hai')"
   ]
  },
  {
   "cell_type": "code",
   "execution_count": 6,
   "id": "d705f7e6",
   "metadata": {},
   "outputs": [],
   "source": [
    "# operasi mencari luas persegi panjang\n",
    "panjang = 10\n",
    "lebar = 5\n",
    "luas = panjang * lebar"
   ]
  },
  {
   "cell_type": "code",
   "execution_count": 7,
   "id": "c06e246e",
   "metadata": {},
   "outputs": [
    {
     "name": "stdout",
     "output_type": "stream",
     "text": [
      "50\n"
     ]
    }
   ],
   "source": [
    "print (luas)"
   ]
  },
  {
   "cell_type": "code",
   "execution_count": 8,
   "id": "60d11313",
   "metadata": {},
   "outputs": [
    {
     "name": "stdout",
     "output_type": "stream",
     "text": [
      "50\n"
     ]
    }
   ],
   "source": [
    "a = 10 # panjang persegi panjang\n",
    "b = 5 # lebar persegi panjang\n",
    "c = a * b # luas persegi panjang\n",
    "print(c)"
   ]
  },
  {
   "cell_type": "markdown",
   "id": "e8f09296",
   "metadata": {},
   "source": [
    "Clean code \n",
    "\n",
    "Self documented."
   ]
  },
  {
   "cell_type": "code",
   "execution_count": 12,
   "id": "cc752923",
   "metadata": {},
   "outputs": [
    {
     "data": {
      "text/plain": [
       "str"
      ]
     },
     "execution_count": 12,
     "metadata": {},
     "output_type": "execute_result"
    }
   ],
   "source": [
    "dataFloat = \"10\"\n",
    "type(dataFloat)"
   ]
  },
  {
   "cell_type": "code",
   "execution_count": 13,
   "id": "8055fb8a",
   "metadata": {},
   "outputs": [],
   "source": [
    "listcontoh = [12, 34, 'element3', 56.3]"
   ]
  },
  {
   "cell_type": "code",
   "execution_count": 14,
   "id": "64affaed",
   "metadata": {},
   "outputs": [
    {
     "name": "stdout",
     "output_type": "stream",
     "text": [
      "[12, 34, 'element3', 56.3]\n"
     ]
    }
   ],
   "source": [
    "print(listcontoh)"
   ]
  },
  {
   "cell_type": "code",
   "execution_count": 15,
   "id": "88416569",
   "metadata": {},
   "outputs": [
    {
     "data": {
      "text/plain": [
       "34"
      ]
     },
     "execution_count": 15,
     "metadata": {},
     "output_type": "execute_result"
    }
   ],
   "source": [
    "listcontoh[1]"
   ]
  },
  {
   "cell_type": "code",
   "execution_count": 20,
   "id": "d9b1ed5c",
   "metadata": {},
   "outputs": [
    {
     "name": "stdout",
     "output_type": "stream",
     "text": [
      "[34, 56.3]\n"
     ]
    }
   ],
   "source": [
    "print(listcontoh[1:4:2])"
   ]
  },
  {
   "cell_type": "code",
   "execution_count": 21,
   "id": "76021022",
   "metadata": {},
   "outputs": [],
   "source": [
    "listcontoh.append(23)"
   ]
  },
  {
   "cell_type": "code",
   "execution_count": 22,
   "id": "97984e2c",
   "metadata": {},
   "outputs": [
    {
     "name": "stdout",
     "output_type": "stream",
     "text": [
      "[12, 34, 'element3', 56.3, 23]\n"
     ]
    }
   ],
   "source": [
    "print(listcontoh)"
   ]
  },
  {
   "cell_type": "code",
   "execution_count": 23,
   "id": "706ab914",
   "metadata": {},
   "outputs": [],
   "source": [
    "listcontoh.insert(4, 'element4')"
   ]
  },
  {
   "cell_type": "code",
   "execution_count": 24,
   "id": "5bd52ce6",
   "metadata": {},
   "outputs": [
    {
     "name": "stdout",
     "output_type": "stream",
     "text": [
      "[12, 34, 'element3', 56.3, 'element4', 23]\n"
     ]
    }
   ],
   "source": [
    "print(listcontoh)"
   ]
  },
  {
   "cell_type": "code",
   "execution_count": 27,
   "id": "e6f15c0a",
   "metadata": {},
   "outputs": [
    {
     "data": {
      "text/plain": [
       "12"
      ]
     },
     "execution_count": 27,
     "metadata": {},
     "output_type": "execute_result"
    }
   ],
   "source": [
    "listcontoh.pop(0)"
   ]
  },
  {
   "cell_type": "code",
   "execution_count": 28,
   "id": "8094fe8b",
   "metadata": {},
   "outputs": [
    {
     "name": "stdout",
     "output_type": "stream",
     "text": [
      "['element3', 56.3, 'element4', 23]\n"
     ]
    }
   ],
   "source": [
    "print(listcontoh)"
   ]
  },
  {
   "cell_type": "code",
   "execution_count": 29,
   "id": "3b264d37",
   "metadata": {},
   "outputs": [],
   "source": [
    "listtambah = [2, 9]"
   ]
  },
  {
   "cell_type": "code",
   "execution_count": 30,
   "id": "4fe79c92",
   "metadata": {},
   "outputs": [],
   "source": [
    "listcontoh.extend(listtambah)"
   ]
  },
  {
   "cell_type": "code",
   "execution_count": 31,
   "id": "259d06af",
   "metadata": {},
   "outputs": [
    {
     "name": "stdout",
     "output_type": "stream",
     "text": [
      "['element3', 56.3, 'element4', 23, 2, 9]\n"
     ]
    }
   ],
   "source": [
    "print(listcontoh)"
   ]
  },
  {
   "cell_type": "code",
   "execution_count": 32,
   "id": "2833197e",
   "metadata": {},
   "outputs": [],
   "source": [
    "stringsaya = \"Hari ini saya belajar tipe data di python\""
   ]
  },
  {
   "cell_type": "code",
   "execution_count": 33,
   "id": "11794124",
   "metadata": {},
   "outputs": [
    {
     "data": {
      "text/plain": [
       "str"
      ]
     },
     "execution_count": 33,
     "metadata": {},
     "output_type": "execute_result"
    }
   ],
   "source": [
    "type(stringsaya)"
   ]
  },
  {
   "cell_type": "code",
   "execution_count": 34,
   "id": "2dc729eb",
   "metadata": {},
   "outputs": [
    {
     "data": {
      "text/plain": [
       "'a'"
      ]
     },
     "execution_count": 34,
     "metadata": {},
     "output_type": "execute_result"
    }
   ],
   "source": [
    "stringsaya[1]"
   ]
  },
  {
   "cell_type": "code",
   "execution_count": 35,
   "id": "16ef462b",
   "metadata": {},
   "outputs": [],
   "source": [
    "tinydict = {'nama': 'budi', 'nomorpegawai': 45, 'departemen':'pertahanan'}"
   ]
  },
  {
   "cell_type": "code",
   "execution_count": 37,
   "id": "c2236145",
   "metadata": {},
   "outputs": [
    {
     "name": "stdout",
     "output_type": "stream",
     "text": [
      "45\n"
     ]
    }
   ],
   "source": [
    "print(tinydict['nomorpegawai'])"
   ]
  },
  {
   "cell_type": "code",
   "execution_count": 41,
   "id": "0a093b6f",
   "metadata": {},
   "outputs": [
    {
     "name": "stdout",
     "output_type": "stream",
     "text": [
      "2.5\n",
      "<class 'float'>\n",
      "2\n",
      "<class 'int'>\n"
     ]
    }
   ],
   "source": [
    "floatsaya=2.5\n",
    "intsaya = int(floatsaya)\n",
    "print(floatsaya)\n",
    "print(type(floatsaya))\n",
    "print(intsaya)\n",
    "print(type(intsaya))"
   ]
  },
  {
   "cell_type": "code",
   "execution_count": 47,
   "id": "6085a1ee",
   "metadata": {},
   "outputs": [
    {
     "name": "stdout",
     "output_type": "stream",
     "text": [
      "False\n"
     ]
    }
   ],
   "source": [
    "intsaya = 0\n",
    "boolsaya = bool(intsaya)\n",
    "print(boolsaya)"
   ]
  },
  {
   "cell_type": "code",
   "execution_count": null,
   "id": "bada638c",
   "metadata": {},
   "outputs": [],
   "source": []
  }
 ],
 "metadata": {
  "kernelspec": {
   "display_name": "Python 3 (ipykernel)",
   "language": "python",
   "name": "python3"
  },
  "language_info": {
   "codemirror_mode": {
    "name": "ipython",
    "version": 3
   },
   "file_extension": ".py",
   "mimetype": "text/x-python",
   "name": "python",
   "nbconvert_exporter": "python",
   "pygments_lexer": "ipython3",
   "version": "3.8.10"
  }
 },
 "nbformat": 4,
 "nbformat_minor": 5
}
