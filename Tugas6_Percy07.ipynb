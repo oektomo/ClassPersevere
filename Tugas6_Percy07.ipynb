{
 "cells": [
  {
   "cell_type": "markdown",
   "id": "da932eba",
   "metadata": {},
   "source": [
    "# TUGAS 6"
   ]
  },
  {
   "cell_type": "markdown",
   "id": "66646993",
   "metadata": {},
   "source": [
    "# **Farah Safira Afiyah (Percy 07)**\n",
    "    \n"
   ]
  },
  {
   "cell_type": "markdown",
   "id": "b1ce2cfb",
   "metadata": {},
   "source": [
    "**Import Library**"
   ]
  },
  {
   "cell_type": "code",
   "execution_count": 1,
   "id": "3830686a",
   "metadata": {},
   "outputs": [],
   "source": [
    "# import libraries\n",
    "import pandas as pd\n",
    "#import itertools\n",
    "import numpy as np\n",
    "import matplotlib.pyplot as plt\n",
    "from sklearn import preprocessing\n",
    "from scipy import stats\n",
    "from sklearn.neighbors import KNeighborsClassifier\n",
    "from sklearn import metrics\n",
    "\n",
    "%matplotlib inline"
   ]
  },
  {
   "cell_type": "markdown",
   "id": "c424c0e2",
   "metadata": {},
   "source": [
    "**Load Dataset**"
   ]
  },
  {
   "cell_type": "code",
   "execution_count": 2,
   "id": "63af8b41",
   "metadata": {},
   "outputs": [
    {
     "name": "stdout",
     "output_type": "stream",
     "text": [
      "(10000, 14)\n"
     ]
    },
    {
     "data": {
      "text/html": [
       "<div>\n",
       "<style scoped>\n",
       "    .dataframe tbody tr th:only-of-type {\n",
       "        vertical-align: middle;\n",
       "    }\n",
       "\n",
       "    .dataframe tbody tr th {\n",
       "        vertical-align: top;\n",
       "    }\n",
       "\n",
       "    .dataframe thead th {\n",
       "        text-align: right;\n",
       "    }\n",
       "</style>\n",
       "<table border=\"1\" class=\"dataframe\">\n",
       "  <thead>\n",
       "    <tr style=\"text-align: right;\">\n",
       "      <th></th>\n",
       "      <th>product</th>\n",
       "      <th>reload_1</th>\n",
       "      <th>reload_2</th>\n",
       "      <th>video</th>\n",
       "      <th>music</th>\n",
       "      <th>games</th>\n",
       "      <th>chat_1</th>\n",
       "      <th>chat_2</th>\n",
       "      <th>socmed_1</th>\n",
       "      <th>socmed_2</th>\n",
       "      <th>internet</th>\n",
       "      <th>days_active</th>\n",
       "      <th>tenure</th>\n",
       "      <th>churn</th>\n",
       "    </tr>\n",
       "    <tr>\n",
       "      <th>customer_id</th>\n",
       "      <th></th>\n",
       "      <th></th>\n",
       "      <th></th>\n",
       "      <th></th>\n",
       "      <th></th>\n",
       "      <th></th>\n",
       "      <th></th>\n",
       "      <th></th>\n",
       "      <th></th>\n",
       "      <th></th>\n",
       "      <th></th>\n",
       "      <th></th>\n",
       "      <th></th>\n",
       "      <th></th>\n",
       "    </tr>\n",
       "  </thead>\n",
       "  <tbody>\n",
       "    <tr>\n",
       "      <th>285fae8412c4720a0c79d95f98434422</th>\n",
       "      <td>Kartu A</td>\n",
       "      <td>27734.30</td>\n",
       "      <td>24381.32</td>\n",
       "      <td>22000.0</td>\n",
       "      <td>33009.9</td>\n",
       "      <td>25669.97</td>\n",
       "      <td>1716.0</td>\n",
       "      <td>2145.0</td>\n",
       "      <td>0.0</td>\n",
       "      <td>792.0</td>\n",
       "      <td>11000.0</td>\n",
       "      <td>15</td>\n",
       "      <td>776</td>\n",
       "      <td>0</td>\n",
       "    </tr>\n",
       "    <tr>\n",
       "      <th>f45bce87ca6bf100f222fcc0db06b624</th>\n",
       "      <td>Kartu A</td>\n",
       "      <td>26433.00</td>\n",
       "      <td>26515.50</td>\n",
       "      <td>0.0</td>\n",
       "      <td>0.0</td>\n",
       "      <td>0.00</td>\n",
       "      <td>0.0</td>\n",
       "      <td>15444.0</td>\n",
       "      <td>0.0</td>\n",
       "      <td>0.0</td>\n",
       "      <td>74151.0</td>\n",
       "      <td>13</td>\n",
       "      <td>352</td>\n",
       "      <td>0</td>\n",
       "    </tr>\n",
       "    <tr>\n",
       "      <th>09b54557b1e2a10d998e3473a9ccd2a0</th>\n",
       "      <td>Kartu A</td>\n",
       "      <td>93212.17</td>\n",
       "      <td>67101.83</td>\n",
       "      <td>0.0</td>\n",
       "      <td>0.0</td>\n",
       "      <td>0.00</td>\n",
       "      <td>86795.5</td>\n",
       "      <td>94649.5</td>\n",
       "      <td>330.0</td>\n",
       "      <td>1485.0</td>\n",
       "      <td>27467.0</td>\n",
       "      <td>15</td>\n",
       "      <td>1987</td>\n",
       "      <td>0</td>\n",
       "    </tr>\n",
       "    <tr>\n",
       "      <th>11f252f48be36f93dd429f2ec86cb2f5</th>\n",
       "      <td>Kartu A</td>\n",
       "      <td>183.33</td>\n",
       "      <td>1087.17</td>\n",
       "      <td>0.0</td>\n",
       "      <td>0.0</td>\n",
       "      <td>0.00</td>\n",
       "      <td>0.0</td>\n",
       "      <td>0.0</td>\n",
       "      <td>0.0</td>\n",
       "      <td>0.0</td>\n",
       "      <td>0.0</td>\n",
       "      <td>2</td>\n",
       "      <td>285</td>\n",
       "      <td>0</td>\n",
       "    </tr>\n",
       "    <tr>\n",
       "      <th>a8df29ae9195eea348d2f74c967b978d</th>\n",
       "      <td>Kartu A</td>\n",
       "      <td>95296.67</td>\n",
       "      <td>76246.50</td>\n",
       "      <td>0.0</td>\n",
       "      <td>0.0</td>\n",
       "      <td>11000.00</td>\n",
       "      <td>118800.0</td>\n",
       "      <td>104940.0</td>\n",
       "      <td>0.0</td>\n",
       "      <td>0.0</td>\n",
       "      <td>63855.0</td>\n",
       "      <td>15</td>\n",
       "      <td>1081</td>\n",
       "      <td>0</td>\n",
       "    </tr>\n",
       "  </tbody>\n",
       "</table>\n",
       "</div>"
      ],
      "text/plain": [
       "                                  product  reload_1  reload_2    video  \\\n",
       "customer_id                                                              \n",
       "285fae8412c4720a0c79d95f98434422  Kartu A  27734.30  24381.32  22000.0   \n",
       "f45bce87ca6bf100f222fcc0db06b624  Kartu A  26433.00  26515.50      0.0   \n",
       "09b54557b1e2a10d998e3473a9ccd2a0  Kartu A  93212.17  67101.83      0.0   \n",
       "11f252f48be36f93dd429f2ec86cb2f5  Kartu A    183.33   1087.17      0.0   \n",
       "a8df29ae9195eea348d2f74c967b978d  Kartu A  95296.67  76246.50      0.0   \n",
       "\n",
       "                                    music     games    chat_1    chat_2  \\\n",
       "customer_id                                                               \n",
       "285fae8412c4720a0c79d95f98434422  33009.9  25669.97    1716.0    2145.0   \n",
       "f45bce87ca6bf100f222fcc0db06b624      0.0      0.00       0.0   15444.0   \n",
       "09b54557b1e2a10d998e3473a9ccd2a0      0.0      0.00   86795.5   94649.5   \n",
       "11f252f48be36f93dd429f2ec86cb2f5      0.0      0.00       0.0       0.0   \n",
       "a8df29ae9195eea348d2f74c967b978d      0.0  11000.00  118800.0  104940.0   \n",
       "\n",
       "                                  socmed_1  socmed_2  internet  days_active  \\\n",
       "customer_id                                                                   \n",
       "285fae8412c4720a0c79d95f98434422       0.0     792.0   11000.0           15   \n",
       "f45bce87ca6bf100f222fcc0db06b624       0.0       0.0   74151.0           13   \n",
       "09b54557b1e2a10d998e3473a9ccd2a0     330.0    1485.0   27467.0           15   \n",
       "11f252f48be36f93dd429f2ec86cb2f5       0.0       0.0       0.0            2   \n",
       "a8df29ae9195eea348d2f74c967b978d       0.0       0.0   63855.0           15   \n",
       "\n",
       "                                  tenure  churn  \n",
       "customer_id                                      \n",
       "285fae8412c4720a0c79d95f98434422     776      0  \n",
       "f45bce87ca6bf100f222fcc0db06b624     352      0  \n",
       "09b54557b1e2a10d998e3473a9ccd2a0    1987      0  \n",
       "11f252f48be36f93dd429f2ec86cb2f5     285      0  \n",
       "a8df29ae9195eea348d2f74c967b978d    1081      0  "
      ]
     },
     "execution_count": 2,
     "metadata": {},
     "output_type": "execute_result"
    }
   ],
   "source": [
    "uri = 'https://raw.githubusercontent.com/oektomo/ClassPersevere/minggu4/dataset/churnprediction_ch9.csv'\n",
    "df = pd.read_csv(uri, index_col=['customer_id'])\n",
    "print(df.shape)\n",
    "df.head()"
   ]
  },
  {
   "cell_type": "markdown",
   "id": "543fcce7",
   "metadata": {},
   "source": [
    "**kategori Data**\n",
    "\n",
    "pada feature product, jadikan value product menjadi numerik kartu A = 0, kartu B = 1, kartu C = 3"
   ]
  },
  {
   "cell_type": "code",
   "execution_count": 3,
   "id": "02369294",
   "metadata": {},
   "outputs": [
    {
     "data": {
      "text/html": [
       "<div>\n",
       "<style scoped>\n",
       "    .dataframe tbody tr th:only-of-type {\n",
       "        vertical-align: middle;\n",
       "    }\n",
       "\n",
       "    .dataframe tbody tr th {\n",
       "        vertical-align: top;\n",
       "    }\n",
       "\n",
       "    .dataframe thead th {\n",
       "        text-align: right;\n",
       "    }\n",
       "</style>\n",
       "<table border=\"1\" class=\"dataframe\">\n",
       "  <thead>\n",
       "    <tr style=\"text-align: right;\">\n",
       "      <th></th>\n",
       "      <th>product</th>\n",
       "      <th>reload_1</th>\n",
       "      <th>reload_2</th>\n",
       "      <th>video</th>\n",
       "      <th>music</th>\n",
       "      <th>games</th>\n",
       "      <th>chat_1</th>\n",
       "      <th>chat_2</th>\n",
       "      <th>socmed_1</th>\n",
       "      <th>socmed_2</th>\n",
       "      <th>internet</th>\n",
       "      <th>days_active</th>\n",
       "      <th>tenure</th>\n",
       "      <th>churn</th>\n",
       "    </tr>\n",
       "    <tr>\n",
       "      <th>customer_id</th>\n",
       "      <th></th>\n",
       "      <th></th>\n",
       "      <th></th>\n",
       "      <th></th>\n",
       "      <th></th>\n",
       "      <th></th>\n",
       "      <th></th>\n",
       "      <th></th>\n",
       "      <th></th>\n",
       "      <th></th>\n",
       "      <th></th>\n",
       "      <th></th>\n",
       "      <th></th>\n",
       "      <th></th>\n",
       "    </tr>\n",
       "  </thead>\n",
       "  <tbody>\n",
       "    <tr>\n",
       "      <th>285fae8412c4720a0c79d95f98434422</th>\n",
       "      <td>0</td>\n",
       "      <td>27734.30</td>\n",
       "      <td>24381.32</td>\n",
       "      <td>22000.0</td>\n",
       "      <td>33009.9</td>\n",
       "      <td>25669.97</td>\n",
       "      <td>1716.0</td>\n",
       "      <td>2145.0</td>\n",
       "      <td>0.0</td>\n",
       "      <td>792.0</td>\n",
       "      <td>11000.0</td>\n",
       "      <td>15</td>\n",
       "      <td>776</td>\n",
       "      <td>0</td>\n",
       "    </tr>\n",
       "    <tr>\n",
       "      <th>f45bce87ca6bf100f222fcc0db06b624</th>\n",
       "      <td>0</td>\n",
       "      <td>26433.00</td>\n",
       "      <td>26515.50</td>\n",
       "      <td>0.0</td>\n",
       "      <td>0.0</td>\n",
       "      <td>0.00</td>\n",
       "      <td>0.0</td>\n",
       "      <td>15444.0</td>\n",
       "      <td>0.0</td>\n",
       "      <td>0.0</td>\n",
       "      <td>74151.0</td>\n",
       "      <td>13</td>\n",
       "      <td>352</td>\n",
       "      <td>0</td>\n",
       "    </tr>\n",
       "    <tr>\n",
       "      <th>09b54557b1e2a10d998e3473a9ccd2a0</th>\n",
       "      <td>0</td>\n",
       "      <td>93212.17</td>\n",
       "      <td>67101.83</td>\n",
       "      <td>0.0</td>\n",
       "      <td>0.0</td>\n",
       "      <td>0.00</td>\n",
       "      <td>86795.5</td>\n",
       "      <td>94649.5</td>\n",
       "      <td>330.0</td>\n",
       "      <td>1485.0</td>\n",
       "      <td>27467.0</td>\n",
       "      <td>15</td>\n",
       "      <td>1987</td>\n",
       "      <td>0</td>\n",
       "    </tr>\n",
       "    <tr>\n",
       "      <th>11f252f48be36f93dd429f2ec86cb2f5</th>\n",
       "      <td>0</td>\n",
       "      <td>183.33</td>\n",
       "      <td>1087.17</td>\n",
       "      <td>0.0</td>\n",
       "      <td>0.0</td>\n",
       "      <td>0.00</td>\n",
       "      <td>0.0</td>\n",
       "      <td>0.0</td>\n",
       "      <td>0.0</td>\n",
       "      <td>0.0</td>\n",
       "      <td>0.0</td>\n",
       "      <td>2</td>\n",
       "      <td>285</td>\n",
       "      <td>0</td>\n",
       "    </tr>\n",
       "    <tr>\n",
       "      <th>a8df29ae9195eea348d2f74c967b978d</th>\n",
       "      <td>0</td>\n",
       "      <td>95296.67</td>\n",
       "      <td>76246.50</td>\n",
       "      <td>0.0</td>\n",
       "      <td>0.0</td>\n",
       "      <td>11000.00</td>\n",
       "      <td>118800.0</td>\n",
       "      <td>104940.0</td>\n",
       "      <td>0.0</td>\n",
       "      <td>0.0</td>\n",
       "      <td>63855.0</td>\n",
       "      <td>15</td>\n",
       "      <td>1081</td>\n",
       "      <td>0</td>\n",
       "    </tr>\n",
       "    <tr>\n",
       "      <th>...</th>\n",
       "      <td>...</td>\n",
       "      <td>...</td>\n",
       "      <td>...</td>\n",
       "      <td>...</td>\n",
       "      <td>...</td>\n",
       "      <td>...</td>\n",
       "      <td>...</td>\n",
       "      <td>...</td>\n",
       "      <td>...</td>\n",
       "      <td>...</td>\n",
       "      <td>...</td>\n",
       "      <td>...</td>\n",
       "      <td>...</td>\n",
       "      <td>...</td>\n",
       "    </tr>\n",
       "    <tr>\n",
       "      <th>9e8b318d96caa9c0c4a50e8e59f5026c</th>\n",
       "      <td>1</td>\n",
       "      <td>1634.33</td>\n",
       "      <td>12085.33</td>\n",
       "      <td>0.0</td>\n",
       "      <td>0.0</td>\n",
       "      <td>0.00</td>\n",
       "      <td>0.0</td>\n",
       "      <td>0.0</td>\n",
       "      <td>0.0</td>\n",
       "      <td>0.0</td>\n",
       "      <td>0.0</td>\n",
       "      <td>1</td>\n",
       "      <td>490</td>\n",
       "      <td>1</td>\n",
       "    </tr>\n",
       "    <tr>\n",
       "      <th>a310627191bdbded3905ac73e77fe319</th>\n",
       "      <td>1</td>\n",
       "      <td>30000.33</td>\n",
       "      <td>45170.67</td>\n",
       "      <td>0.0</td>\n",
       "      <td>0.0</td>\n",
       "      <td>0.00</td>\n",
       "      <td>0.0</td>\n",
       "      <td>20001.0</td>\n",
       "      <td>0.0</td>\n",
       "      <td>0.0</td>\n",
       "      <td>0.0</td>\n",
       "      <td>1</td>\n",
       "      <td>3120</td>\n",
       "      <td>1</td>\n",
       "    </tr>\n",
       "    <tr>\n",
       "      <th>b6f11059e5c1df69b8c16d5c39af23dc</th>\n",
       "      <td>1</td>\n",
       "      <td>3333.33</td>\n",
       "      <td>13338.67</td>\n",
       "      <td>0.0</td>\n",
       "      <td>0.0</td>\n",
       "      <td>872.00</td>\n",
       "      <td>0.0</td>\n",
       "      <td>0.0</td>\n",
       "      <td>0.0</td>\n",
       "      <td>0.0</td>\n",
       "      <td>0.0</td>\n",
       "      <td>1</td>\n",
       "      <td>483</td>\n",
       "      <td>1</td>\n",
       "    </tr>\n",
       "    <tr>\n",
       "      <th>88709f1defd232243f729912be696f87</th>\n",
       "      <td>1</td>\n",
       "      <td>25000.00</td>\n",
       "      <td>33333.33</td>\n",
       "      <td>0.0</td>\n",
       "      <td>0.0</td>\n",
       "      <td>23497.33</td>\n",
       "      <td>0.0</td>\n",
       "      <td>0.0</td>\n",
       "      <td>0.0</td>\n",
       "      <td>0.0</td>\n",
       "      <td>0.0</td>\n",
       "      <td>15</td>\n",
       "      <td>786</td>\n",
       "      <td>1</td>\n",
       "    </tr>\n",
       "    <tr>\n",
       "      <th>2c5bc32bc9a9c393d393bfc11c409b0d</th>\n",
       "      <td>2</td>\n",
       "      <td>0.00</td>\n",
       "      <td>11084.00</td>\n",
       "      <td>0.0</td>\n",
       "      <td>0.0</td>\n",
       "      <td>0.00</td>\n",
       "      <td>0.0</td>\n",
       "      <td>0.0</td>\n",
       "      <td>0.0</td>\n",
       "      <td>0.0</td>\n",
       "      <td>0.0</td>\n",
       "      <td>1</td>\n",
       "      <td>222</td>\n",
       "      <td>1</td>\n",
       "    </tr>\n",
       "  </tbody>\n",
       "</table>\n",
       "<p>10000 rows × 14 columns</p>\n",
       "</div>"
      ],
      "text/plain": [
       "                                  product  reload_1  reload_2    video  \\\n",
       "customer_id                                                              \n",
       "285fae8412c4720a0c79d95f98434422        0  27734.30  24381.32  22000.0   \n",
       "f45bce87ca6bf100f222fcc0db06b624        0  26433.00  26515.50      0.0   \n",
       "09b54557b1e2a10d998e3473a9ccd2a0        0  93212.17  67101.83      0.0   \n",
       "11f252f48be36f93dd429f2ec86cb2f5        0    183.33   1087.17      0.0   \n",
       "a8df29ae9195eea348d2f74c967b978d        0  95296.67  76246.50      0.0   \n",
       "...                                   ...       ...       ...      ...   \n",
       "9e8b318d96caa9c0c4a50e8e59f5026c        1   1634.33  12085.33      0.0   \n",
       "a310627191bdbded3905ac73e77fe319        1  30000.33  45170.67      0.0   \n",
       "b6f11059e5c1df69b8c16d5c39af23dc        1   3333.33  13338.67      0.0   \n",
       "88709f1defd232243f729912be696f87        1  25000.00  33333.33      0.0   \n",
       "2c5bc32bc9a9c393d393bfc11c409b0d        2      0.00  11084.00      0.0   \n",
       "\n",
       "                                    music     games    chat_1    chat_2  \\\n",
       "customer_id                                                               \n",
       "285fae8412c4720a0c79d95f98434422  33009.9  25669.97    1716.0    2145.0   \n",
       "f45bce87ca6bf100f222fcc0db06b624      0.0      0.00       0.0   15444.0   \n",
       "09b54557b1e2a10d998e3473a9ccd2a0      0.0      0.00   86795.5   94649.5   \n",
       "11f252f48be36f93dd429f2ec86cb2f5      0.0      0.00       0.0       0.0   \n",
       "a8df29ae9195eea348d2f74c967b978d      0.0  11000.00  118800.0  104940.0   \n",
       "...                                   ...       ...       ...       ...   \n",
       "9e8b318d96caa9c0c4a50e8e59f5026c      0.0      0.00       0.0       0.0   \n",
       "a310627191bdbded3905ac73e77fe319      0.0      0.00       0.0   20001.0   \n",
       "b6f11059e5c1df69b8c16d5c39af23dc      0.0    872.00       0.0       0.0   \n",
       "88709f1defd232243f729912be696f87      0.0  23497.33       0.0       0.0   \n",
       "2c5bc32bc9a9c393d393bfc11c409b0d      0.0      0.00       0.0       0.0   \n",
       "\n",
       "                                  socmed_1  socmed_2  internet  days_active  \\\n",
       "customer_id                                                                   \n",
       "285fae8412c4720a0c79d95f98434422       0.0     792.0   11000.0           15   \n",
       "f45bce87ca6bf100f222fcc0db06b624       0.0       0.0   74151.0           13   \n",
       "09b54557b1e2a10d998e3473a9ccd2a0     330.0    1485.0   27467.0           15   \n",
       "11f252f48be36f93dd429f2ec86cb2f5       0.0       0.0       0.0            2   \n",
       "a8df29ae9195eea348d2f74c967b978d       0.0       0.0   63855.0           15   \n",
       "...                                    ...       ...       ...          ...   \n",
       "9e8b318d96caa9c0c4a50e8e59f5026c       0.0       0.0       0.0            1   \n",
       "a310627191bdbded3905ac73e77fe319       0.0       0.0       0.0            1   \n",
       "b6f11059e5c1df69b8c16d5c39af23dc       0.0       0.0       0.0            1   \n",
       "88709f1defd232243f729912be696f87       0.0       0.0       0.0           15   \n",
       "2c5bc32bc9a9c393d393bfc11c409b0d       0.0       0.0       0.0            1   \n",
       "\n",
       "                                  tenure  churn  \n",
       "customer_id                                      \n",
       "285fae8412c4720a0c79d95f98434422     776      0  \n",
       "f45bce87ca6bf100f222fcc0db06b624     352      0  \n",
       "09b54557b1e2a10d998e3473a9ccd2a0    1987      0  \n",
       "11f252f48be36f93dd429f2ec86cb2f5     285      0  \n",
       "a8df29ae9195eea348d2f74c967b978d    1081      0  \n",
       "...                                  ...    ...  \n",
       "9e8b318d96caa9c0c4a50e8e59f5026c     490      1  \n",
       "a310627191bdbded3905ac73e77fe319    3120      1  \n",
       "b6f11059e5c1df69b8c16d5c39af23dc     483      1  \n",
       "88709f1defd232243f729912be696f87     786      1  \n",
       "2c5bc32bc9a9c393d393bfc11c409b0d     222      1  \n",
       "\n",
       "[10000 rows x 14 columns]"
      ]
     },
     "execution_count": 3,
     "metadata": {},
     "output_type": "execute_result"
    }
   ],
   "source": [
    "'''\n",
    "merubah nilai dari string menjadi numerik pada dataset series (pandas) / masih belum bertipe ndarray\n",
    "cara ini hanya bisa diterapkan jika value featurenya berupa kategorial (terdapat class pada valuenya)\n",
    "'''\n",
    "df['product'] = df['product'].map({'Kartu A': 0,'Kartu B': 1, 'Kartu C':2})\n",
    "df['product'].value_counts()\n",
    "df"
   ]
  },
  {
   "cell_type": "markdown",
   "id": "fab66165",
   "metadata": {},
   "source": [
    "**Konversi Feture Value Ke Array**"
   ]
  },
  {
   "cell_type": "code",
   "execution_count": 4,
   "id": "5b0a78b8",
   "metadata": {},
   "outputs": [
    {
     "data": {
      "text/plain": [
       "Index(['product', 'reload_1', 'reload_2', 'video', 'music', 'games', 'chat_1',\n",
       "       'chat_2', 'socmed_1', 'socmed_2', 'internet', 'days_active', 'tenure',\n",
       "       'churn'],\n",
       "      dtype='object')"
      ]
     },
     "execution_count": 4,
     "metadata": {},
     "output_type": "execute_result"
    }
   ],
   "source": [
    "# lohat semua nama feturenya , (cek key dictionaty)\n",
    "df.keys()"
   ]
  },
  {
   "cell_type": "markdown",
   "id": "68d0e3b3",
   "metadata": {},
   "source": [
    "**Pisahkan Atribut Predict  dan Target**"
   ]
  },
  {
   "cell_type": "code",
   "execution_count": 5,
   "id": "712392a1",
   "metadata": {},
   "outputs": [
    {
     "data": {
      "text/plain": [
       "(10000, 13)"
      ]
     },
     "execution_count": 5,
     "metadata": {},
     "output_type": "execute_result"
    }
   ],
   "source": [
    "# buat menjadi matriks, untuk input\n",
    "X = df[['product', 'reload_1', 'reload_2', 'video', 'music', 'games', 'chat_1',\n",
    "       'chat_2', 'socmed_1', 'socmed_2', 'internet', 'days_active', 'tenure',]]\n",
    "X.shape"
   ]
  },
  {
   "cell_type": "code",
   "execution_count": 6,
   "id": "5c93a07e",
   "metadata": {},
   "outputs": [
    {
     "data": {
      "text/plain": [
       "array([0, 0, 0, ..., 1, 1, 1], dtype=int64)"
      ]
     },
     "execution_count": 6,
     "metadata": {},
     "output_type": "execute_result"
    }
   ],
   "source": [
    "# buat menjadi vektor untuk output\n",
    "Y = df['churn'].values\n",
    "Y"
   ]
  },
  {
   "cell_type": "markdown",
   "id": "6812be3c",
   "metadata": {},
   "source": [
    "**Histogram Sebelum Dinormalisasi**"
   ]
  },
  {
   "cell_type": "code",
   "execution_count": 7,
   "id": "d8a19447",
   "metadata": {},
   "outputs": [],
   "source": [
    "# dengan membuat list yg mengenumerate X, maka akan ada list (non-array), yang terdiri dari 2 kolom tuple\n",
    "# ambil indeks ke 0, untuk menslicing angka sebelah kiri\n",
    "# a = list(enumerate(X))\n",
    "# a\n"
   ]
  },
  {
   "cell_type": "code",
   "execution_count": 9,
   "id": "63e40b63",
   "metadata": {},
   "outputs": [
    {
     "data": {
      "image/png": "[encoded data removed]",
      "text/plain": [
       "<Figure size 432x288 with 1 Axes>"
      ]
     },
     "metadata": {
      "needs_background": "light"
     },
     "output_type": "display_data"
    },
    {
     "data": {
      "image/png": "[encoded data removed]",
      "text/plain": [
       "<Figure size 432x288 with 1 Axes>"
      ]
     },
     "metadata": {
      "needs_background": "light"
     },
     "output_type": "display_data"
    },
    {
     "data": {
      "image/png": "[encoded data removed]",
      "text/plain": [
       "<Figure size 432x288 with 1 Axes>"
      ]
     },
     "metadata": {
      "needs_background": "light"
     },
     "output_type": "display_data"
    },
    {
     "data": {
      "image/png": "[encoded data removed]",
      "text/plain": [
       "<Figure size 432x288 with 1 Axes>"
      ]
     },
     "metadata": {
      "needs_background": "light"
     },
     "output_type": "display_data"
    },
    {
     "data": {
      "image/png": "[encoded data removed]",
      "text/plain": [
       "<Figure size 432x288 with 1 Axes>"
      ]
     },
     "metadata": {
      "needs_background": "light"
     },
     "output_type": "display_data"
    },
    {
     "data": {
      "image/png": "[encoded data removed]",
      "text/plain": [
       "<Figure size 432x288 with 1 Axes>"
      ]
     },
     "metadata": {
      "needs_background": "light"
     },
     "output_type": "display_data"
    },
    {
     "data": {
      "image/png": "[encoded data removed]",
      "text/plain": [
       "<Figure size 432x288 with 1 Axes>"
      ]
     },
     "metadata": {
      "needs_background": "light"
     },
     "output_type": "display_data"
    },
    {
     "data": {
      "image/png": "[encoded data removed]",
      "text/plain": [
       "<Figure size 432x288 with 1 Axes>"
      ]
     },
     "metadata": {
      "needs_background": "light"
     },
     "output_type": "display_data"
    },
    {
     "data": {
      "image/png": "[encoded data removed]",
      "text/plain": [
       "<Figure size 432x288 with 1 Axes>"
      ]
     },
     "metadata": {
      "needs_background": "light"
     },
     "output_type": "display_data"
    },
    {
     "data": {
      "image/png": "[encoded data removed]",
      "text/plain": [
       "<Figure size 432x288 with 1 Axes>"
      ]
     },
     "metadata": {
      "needs_background": "light"
     },
     "output_type": "display_data"
    },
    {
     "data": {
      "image/png": "[encoded data removed]",
      "text/plain": [
       "<Figure size 432x288 with 1 Axes>"
      ]
     },
     "metadata": {
      "needs_background": "light"
     },
     "output_type": "display_data"
    },
    {
     "data": {
      "image/png": "[encoded data removed]",
      "text/plain": [
       "<Figure size 432x288 with 1 Axes>"
      ]
     },
     "metadata": {
      "needs_background": "light"
     },
     "output_type": "display_data"
    },
    {
     "data": {
      "image/png": "[encoded data removed]",
      "text/plain": [
       "<Figure size 432x288 with 1 Axes>"
      ]
     },
     "metadata": {
      "needs_background": "light"
     },
     "output_type": "display_data"
    }
   ],
   "source": [
    "for i in X.columns:\n",
    "  plt.figure()\n",
    "  plt.title(f\"{i}\")\n",
    "  plt.hist(X[i], 50, color=\"pink\" )"
   ]
  },
  {
   "cell_type": "markdown",
   "id": "1f2f4d5c",
   "metadata": {},
   "source": [
    "**Range Sebelum Data Dinormalisasi**"
   ]
  },
  {
   "cell_type": "code",
   "execution_count": 10,
   "id": "5814a8dc",
   "metadata": {},
   "outputs": [
    {
     "name": "stdout",
     "output_type": "stream",
     "text": [
      "[2, 24380882.53, 12457273.95, 693999.6, 768998.2, 674665.63, 3899875.1, 4565244.2, 301620.0, 294525.0, 5799988.7, 15, 8757]\n"
     ]
    }
   ],
   "source": [
    "range_praNorm = []\n",
    "for i in X.columns:\n",
    "\n",
    "  range_praNorm.append(X[i].max() - X[i].min())\n",
    "print(range_praNorm)"
   ]
  },
  {
   "cell_type": "markdown",
   "id": "bece2cea",
   "metadata": {},
   "source": [
    "**Normalisasi Data**\n",
    "\n",
    "K-NN merupakan metode yang didasarkan pada tingkat kedekatan antar-atribut. Oleh karena itu, sangat disarankan untuk melakukan normalisasi data agar perhitungan jarak menjadi lebih valid."
   ]
  },
  {
   "cell_type": "code",
   "execution_count": 11,
   "id": "d4b7e186",
   "metadata": {},
   "outputs": [],
   "source": [
    "X_normalisasi = preprocessing.StandardScaler().fit(X).transform(X.astype(int))"
   ]
  },
  {
   "cell_type": "code",
   "execution_count": 12,
   "id": "e28f3ea6",
   "metadata": {},
   "outputs": [
    {
     "data": {
      "text/plain": [
       "array([[-2.74633519, -0.06533664, -0.10929113, ..., -0.10382853,\n",
       "         1.09574842, -0.40182793],\n",
       "       [-2.74633519, -0.06910676, -0.10051857, ...,  0.41095635,\n",
       "         0.78711732, -0.64273207],\n",
       "       [-2.74633519,  0.12440944,  0.06632457, ...,  0.0304047 ,\n",
       "         1.09574842,  0.2862261 ],\n",
       "       ...,\n",
       "       [-1.10917561, -0.13604733, -0.1546873 , ..., -0.19349668,\n",
       "        -1.06466927, -0.56830178],\n",
       "       [-1.10917561, -0.07325939, -0.07249076, ..., -0.19349668,\n",
       "         1.09574842, -0.39614623],\n",
       "       [ 0.52798396, -0.1457059 , -0.16395316, ..., -0.19349668,\n",
       "        -1.06466927, -0.71659419]])"
      ]
     },
     "execution_count": 12,
     "metadata": {},
     "output_type": "execute_result"
    }
   ],
   "source": [
    "X_normalisasi"
   ]
  },
  {
   "cell_type": "markdown",
   "id": "e0664a5d",
   "metadata": {},
   "source": [
    "**Histogram Setelah Dinormalisasi**"
   ]
  },
  {
   "cell_type": "code",
   "execution_count": 18,
   "id": "b2a12fdc",
   "metadata": {},
   "outputs": [
    {
     "data": {
      "image/png": "[encoded data removed]",
      "text/plain": [
       "<Figure size 432x288 with 1 Axes>"
      ]
     },
     "metadata": {
      "needs_background": "light"
     },
     "output_type": "display_data"
    },
    {
     "data": {
      "image/png": "[encoded data removed]",
      "text/plain": [
       "<Figure size 432x288 with 1 Axes>"
      ]
     },
     "metadata": {
      "needs_background": "light"
     },
     "output_type": "display_data"
    },
    {
     "data": {
      "image/png": "[encoded data removed]",
      "text/plain": [
       "<Figure size 432x288 with 1 Axes>"
      ]
     },
     "metadata": {
      "needs_background": "light"
     },
     "output_type": "display_data"
    },
    {
     "data": {
      "image/png": "[encoded data removed]",
      "text/plain": [
       "<Figure size 432x288 with 1 Axes>"
      ]
     },
     "metadata": {
      "needs_background": "light"
     },
     "output_type": "display_data"
    },
    {
     "data": {
      "image/png": "[encoded data removed]",
      "text/plain": [
       "<Figure size 432x288 with 1 Axes>"
      ]
     },
     "metadata": {
      "needs_background": "light"
     },
     "output_type": "display_data"
    },
    {
     "data": {
      "image/png": "[encoded data removed]",
      "text/plain": [
       "<Figure size 432x288 with 1 Axes>"
      ]
     },
     "metadata": {
      "needs_background": "light"
     },
     "output_type": "display_data"
    },
    {
     "data": {
      "image/png": "[encoded data removed]",
      "text/plain": [
       "<Figure size 432x288 with 1 Axes>"
      ]
     },
     "metadata": {
      "needs_background": "light"
     },
     "output_type": "display_data"
    },
    {
     "data": {
      "image/png": "[encoded data removed]",
      "text/plain": [
       "<Figure size 432x288 with 1 Axes>"
      ]
     },
     "metadata": {
      "needs_background": "light"
     },
     "output_type": "display_data"
    },
    {
     "data": {
      "image/png": "[encoded data removed]",
      "text/plain": [
       "<Figure size 432x288 with 1 Axes>"
      ]
     },
     "metadata": {
      "needs_background": "light"
     },
     "output_type": "display_data"
    },
    {
     "data": {
      "image/png": "[encoded data removed]",
      "text/plain": [
       "<Figure size 432x288 with 1 Axes>"
      ]
     },
     "metadata": {
      "needs_background": "light"
     },
     "output_type": "display_data"
    },
    {
     "data": {
      "image/png": "[encoded data removed]",
      "text/plain": [
       "<Figure size 432x288 with 1 Axes>"
      ]
     },
     "metadata": {
      "needs_background": "light"
     },
     "output_type": "display_data"
    },
    {
     "data": {
      "image/png": "[encoded data removed]",
      "text/plain": [
       "<Figure size 432x288 with 1 Axes>"
      ]
     },
     "metadata": {
      "needs_background": "light"
     },
     "output_type": "display_data"
    },
    {
     "data": {
      "image/png": "[encoded data removed]",
      "text/plain": [
       "<Figure size 432x288 with 1 Axes>"
      ]
     },
     "metadata": {
      "needs_background": "light"
     },
     "output_type": "display_data"
    }
   ],
   "source": [
    "i = 0\n",
    "while i<13:\n",
    "  plt.figure()\n",
    "  plt.hist(X_normalisasi[:,i], 50, color=\"blue\")\n",
    "  i+=1"
   ]
  },
  {
   "cell_type": "code",
   "execution_count": 19,
   "id": "4df59608",
   "metadata": {},
   "outputs": [
    {
     "name": "stdout",
     "output_type": "stream",
     "text": [
      "range setelah normalisasi product    = 3.274319154693772\n",
      "range setelah normalisasi reload_1    = 70.65238614484097\n",
      "range setelah normalisasi reload_2    = 51.210036536712536\n",
      "range setelah normalisasi video    = 21.04525284082988\n",
      "range setelah normalisasi music    = 22.448584504136406\n",
      "range setelah normalisasi games    = 22.154988716309973\n",
      "range setelah normalisasi chat_1    = 36.071645435959724\n",
      "range setelah normalisasi chat_2    = 42.93072405052296\n",
      "range setelah normalisasi socmed_1    = 65.71908634868153\n",
      "range setelah normalisasi socmed_2    = 70.90173530881054\n",
      "range setelah normalisasi internet    = 47.279474509120334\n",
      "range setelah normalisasi days_active    = 2.3147332443191577\n",
      "range setelah normalisasi tenure    = 4.975465906321691\n"
     ]
    }
   ],
   "source": [
    "z = 0\n",
    "while z<13:\n",
    "  print(f\"range setelah normalisasi {X.columns[z]}    = {X_normalisasi[:,z].max() - X_normalisasi[:,z].min()}\")\n",
    "  z+=1"
   ]
  },
  {
   "cell_type": "code",
   "execution_count": 20,
   "id": "48a7cf92",
   "metadata": {},
   "outputs": [
    {
     "name": "stdout",
     "output_type": "stream",
     "text": [
      "range sebelum normalisasi product    = 2 \n",
      "range sebelum normalisasi reload_1    = 24380882.53 \n",
      "range sebelum normalisasi reload_2    = 12457273.95 \n",
      "range sebelum normalisasi video    = 693999.6 \n",
      "range sebelum normalisasi music    = 768998.2 \n",
      "range sebelum normalisasi games    = 674665.63 \n",
      "range sebelum normalisasi chat_1    = 3899875.1 \n",
      "range sebelum normalisasi chat_2    = 4565244.2 \n",
      "range sebelum normalisasi socmed_1    = 301620.0 \n",
      "range sebelum normalisasi socmed_2    = 294525.0 \n",
      "range sebelum normalisasi internet    = 5799988.7 \n",
      "range sebelum normalisasi days_active    = 15 \n",
      "range sebelum normalisasi tenure    = 8757 \n"
     ]
    }
   ],
   "source": [
    "index = 0\n",
    "for i in range_praNorm:\n",
    "  print(f\"range sebelum normalisasi {X.columns[index]}    = {i} \")\n",
    "  index+=1"
   ]
  },
  {
   "cell_type": "markdown",
   "id": "9c9192c1",
   "metadata": {},
   "source": [
    "**Kesimpulan**\n",
    "- Setelah proses normalisasi bagian histogram tidak ada perubahan dan karena funsgi perprocessing standarScaler() skala pada sumbu (X) menjadi lebih kecil.\n",
    "\n",
    "- Perubahan yang terjadi pada range mengubah jangkauan nilai dari puluhan juta menjadi puluhan. bagian range terkecil "
   ]
  }
 ],
 "metadata": {
  "kernelspec": {
   "display_name": "Python 3 (ipykernel)",
   "language": "python",
   "name": "python3"
  },
  "language_info": {
   "codemirror_mode": {
    "name": "ipython",
    "version": 3
   },
   "file_extension": ".py",
   "mimetype": "text/x-python",
   "name": "python",
   "nbconvert_exporter": "python",
   "pygments_lexer": "ipython3",
   "version": "3.9.7"
  }
 },
 "nbformat": 4,
 "nbformat_minor": 5
}
