{
 "cells": [
  {
   "cell_type": "code",
   "execution_count": 5,
   "id": "6ed297c2",
   "metadata": {},
   "outputs": [
    {
     "name": "stdout",
     "output_type": "stream",
     "text": [
      "380\n"
     ]
    }
   ],
   "source": [
    "#Penjumlahan\n",
    "Pisang = 135\n",
    "Mangga = 245\n",
    "print(135 + 245)"
   ]
  },
  {
   "cell_type": "code",
   "execution_count": 22,
   "id": "198f706e",
   "metadata": {},
   "outputs": [
    {
     "name": "stdout",
     "output_type": "stream",
     "text": [
      "kembalian Anda adalah  24500\n"
     ]
    }
   ],
   "source": [
    "#Pengurangan\n",
    "bayar = 100000\n",
    "harga = 75500\n",
    "kembalian = bayar - harga\n",
    "print(\"kembalian Anda adalah \", kembalian)"
   ]
  },
  {
   "cell_type": "code",
   "execution_count": 24,
   "id": "da8ec24a",
   "metadata": {},
   "outputs": [
    {
     "name": "stdout",
     "output_type": "stream",
     "text": [
      "92870\n"
     ]
    }
   ],
   "source": [
    "#Perkalian\n",
    "panjang = 1255\n",
    "lebar = 74\n",
    "luas = panjang * lebar\n",
    "print(luas)"
   ]
  },
  {
   "cell_type": "code",
   "execution_count": 10,
   "id": "5f71eccc",
   "metadata": {},
   "outputs": [
    {
     "name": "stdout",
     "output_type": "stream",
     "text": [
      "Setiap anak akan mendapatkan bagian kue sebanyak  4.0\n"
     ]
    }
   ],
   "source": [
    "#Pembagian\n",
    "kue = 16\n",
    "anak = 4\n",
    "kuePerAnak = kue / anak\n",
    "print(\"Setiap anak akan mendapatkan bagian kue sebanyak \", kuePerAnak)\n"
   ]
  },
  {
   "cell_type": "code",
   "execution_count": 11,
   "id": "3add4d64",
   "metadata": {},
   "outputs": [
    {
     "name": "stdout",
     "output_type": "stream",
     "text": [
      "Sisa bagi dari bilangan  14  dan  5  adalah  4\n"
     ]
    }
   ],
   "source": [
    "#Sisa Bagi / Modulus\n",
    "bilangan1 = 14\n",
    "bilangan2 = 5\n",
    "hasil = bilangan1 % bilangan2\n",
    "print(\"Sisa bagi dari bilangan \", bilangan1, \" dan \", bilangan2, \" adalah \", hasil)"
   ]
  },
  {
   "cell_type": "code",
   "execution_count": 28,
   "id": "0b56f11f",
   "metadata": {},
   "outputs": [
    {
     "name": "stdout",
     "output_type": "stream",
     "text": [
      "64\n"
     ]
    }
   ],
   "source": [
    "#Pangkat\n",
    "bilangan3 = 8\n",
    "bilangan4 = 2\n",
    "hasilPangkat = bilangan3 ** bilangan4\n",
    "print(hasilPangkat)"
   ]
  },
  {
   "cell_type": "code",
   "execution_count": 27,
   "id": "f2d3cc37",
   "metadata": {},
   "outputs": [
    {
     "name": "stdout",
     "output_type": "stream",
     "text": [
      "25\n"
     ]
    }
   ],
   "source": [
    "#fungsi tangga\n",
    "bilangan1 = 50\n",
    "bilangan2 = 2\n",
    "\n",
    "print(bilangan1 // bilangan2)"
   ]
  },
  {
   "cell_type": "code",
   "execution_count": 29,
   "id": "b5f61f3e",
   "metadata": {},
   "outputs": [
    {
     "name": "stdout",
     "output_type": "stream",
     "text": [
      "5\n"
     ]
    }
   ],
   "source": [
    "x = 5\n",
    "print(x)"
   ]
  },
  {
   "cell_type": "code",
   "execution_count": 33,
   "id": "96740556",
   "metadata": {},
   "outputs": [
    {
     "name": "stdout",
     "output_type": "stream",
     "text": [
      "25\n"
     ]
    }
   ],
   "source": [
    "x = 2\n",
    "x += 23\n",
    "print(x)"
   ]
  },
  {
   "cell_type": "code",
   "execution_count": 35,
   "id": "a26b7cb0",
   "metadata": {},
   "outputs": [
    {
     "name": "stdout",
     "output_type": "stream",
     "text": [
      "-9\n"
     ]
    }
   ],
   "source": [
    "x = 2\n",
    "x -= 11\n",
    "print(x)"
   ]
  },
  {
   "cell_type": "code",
   "execution_count": 37,
   "id": "7e9d8b2f",
   "metadata": {},
   "outputs": [
    {
     "name": "stdout",
     "output_type": "stream",
     "text": [
      "5589\n"
     ]
    }
   ],
   "source": [
    "x = 243\n",
    "x *= 23\n",
    "print(x)"
   ]
  },
  {
   "cell_type": "code",
   "execution_count": 40,
   "id": "56a5b517",
   "metadata": {},
   "outputs": [
    {
     "name": "stdout",
     "output_type": "stream",
     "text": [
      "12.5\n"
     ]
    }
   ],
   "source": [
    "x = 25\n",
    "x /= 2\n",
    "print(x)"
   ]
  },
  {
   "cell_type": "code",
   "execution_count": 46,
   "id": "e579b40a",
   "metadata": {},
   "outputs": [
    {
     "name": "stdout",
     "output_type": "stream",
     "text": [
      "2\n"
     ]
    }
   ],
   "source": [
    "x = 100\n",
    "x%=7\n",
    "print(x)"
   ]
  },
  {
   "cell_type": "code",
   "execution_count": 49,
   "id": "2275f988",
   "metadata": {},
   "outputs": [
    {
     "name": "stdout",
     "output_type": "stream",
     "text": [
      "9\n"
     ]
    }
   ],
   "source": [
    "x = 78\n",
    "x//=8\n",
    "print(x)"
   ]
  },
  {
   "cell_type": "code",
   "execution_count": 50,
   "id": "85657ac4",
   "metadata": {},
   "outputs": [
    {
     "name": "stdout",
     "output_type": "stream",
     "text": [
      "78125\n"
     ]
    }
   ],
   "source": [
    "x = 5\n",
    "x **= 7\n",
    "print(x)\n"
   ]
  },
  {
   "cell_type": "code",
   "execution_count": 52,
   "id": "b2ec6cb1",
   "metadata": {},
   "outputs": [
    {
     "name": "stdout",
     "output_type": "stream",
     "text": [
      "0\n"
     ]
    }
   ],
   "source": [
    "x = 5\n",
    "x &= 2\n",
    "print(x)"
   ]
  },
  {
   "cell_type": "code",
   "execution_count": 55,
   "id": "64604a77",
   "metadata": {},
   "outputs": [
    {
     "name": "stdout",
     "output_type": "stream",
     "text": [
      "7\n"
     ]
    }
   ],
   "source": [
    "x = 5\n",
    "x |= 2\n",
    "print(x)"
   ]
  },
  {
   "cell_type": "code",
   "execution_count": 57,
   "id": "c3bea6b4",
   "metadata": {},
   "outputs": [
    {
     "name": "stdout",
     "output_type": "stream",
     "text": [
      "7\n"
     ]
    }
   ],
   "source": [
    "x = 5\n",
    "x ^= 2\n",
    "print(x)"
   ]
  },
  {
   "cell_type": "code",
   "execution_count": 59,
   "id": "f9c6447f",
   "metadata": {},
   "outputs": [
    {
     "name": "stdout",
     "output_type": "stream",
     "text": [
      "4\n"
     ]
    }
   ],
   "source": [
    "x = 19\n",
    "x >>= 2\n",
    "print(x)"
   ]
  },
  {
   "cell_type": "code",
   "execution_count": 62,
   "id": "bb56c3aa",
   "metadata": {},
   "outputs": [
    {
     "name": "stdout",
     "output_type": "stream",
     "text": [
      "32\n"
     ]
    }
   ],
   "source": [
    "x = 1\n",
    "x <<= 5\n",
    "print(x)\n"
   ]
  },
  {
   "cell_type": "code",
   "execution_count": 70,
   "id": "0edaa43e",
   "metadata": {},
   "outputs": [
    {
     "name": "stdout",
     "output_type": "stream",
     "text": [
      "True\n",
      "x sama dengan y\n"
     ]
    }
   ],
   "source": [
    "x = 2\n",
    "y = 2\n",
    "print(x==y)\n",
    "print(\"x sama dengan y\")"
   ]
  },
  {
   "cell_type": "code",
   "execution_count": 71,
   "id": "21b873cd",
   "metadata": {},
   "outputs": [
    {
     "name": "stdout",
     "output_type": "stream",
     "text": [
      "True\n",
      "x tidak sama dengan y\n"
     ]
    }
   ],
   "source": [
    "x = 8\n",
    "y = 2\n",
    "print(x != y)\n",
    "print(\"x tidak sama dengan y\")"
   ]
  },
  {
   "cell_type": "code",
   "execution_count": 73,
   "id": "e208f716",
   "metadata": {},
   "outputs": [
    {
     "name": "stdout",
     "output_type": "stream",
     "text": [
      "True\n",
      "x lebih besar dari y\n"
     ]
    }
   ],
   "source": [
    "x = 7\n",
    "y = 4\n",
    "print(x > y)\n",
    "print(\"x lebih besar dari y\")"
   ]
  },
  {
   "cell_type": "code",
   "execution_count": 75,
   "id": "bcadefee",
   "metadata": {},
   "outputs": [
    {
     "name": "stdout",
     "output_type": "stream",
     "text": [
      "False\n",
      "x lebih besar dari y\n"
     ]
    }
   ],
   "source": [
    "x = 7\n",
    "y = 2\n",
    "print(x < y)\n",
    "print(\"x lebih besar dari y\")"
   ]
  },
  {
   "cell_type": "code",
   "execution_count": 76,
   "id": "bc629243",
   "metadata": {},
   "outputs": [
    {
     "name": "stdout",
     "output_type": "stream",
     "text": [
      "True\n"
     ]
    }
   ],
   "source": [
    "x = 5\n",
    "y = 2\n",
    "print(x >= y)\n",
    "print(\"x lebih besar sama dengan y\")"
   ]
  },
  {
   "cell_type": "code",
   "execution_count": 77,
   "id": "52fb345a",
   "metadata": {},
   "outputs": [
    {
     "name": "stdout",
     "output_type": "stream",
     "text": [
      "True\n",
      "x lebih kecil sama dengan y\n"
     ]
    }
   ],
   "source": [
    "x = 2\n",
    "y = 7\n",
    "print(x <= y)\n",
    "print(\"x lebih kecil sama dengan y\")"
   ]
  },
  {
   "cell_type": "code",
   "execution_count": 79,
   "id": "ee416c5b",
   "metadata": {},
   "outputs": [
    {
     "name": "stdout",
     "output_type": "stream",
     "text": [
      "True\n"
     ]
    }
   ],
   "source": [
    "x = 3\n",
    "print(x > 2 and x < 9)"
   ]
  },
  {
   "cell_type": "code",
   "execution_count": 81,
   "id": "17040ceb",
   "metadata": {},
   "outputs": [
    {
     "name": "stdout",
     "output_type": "stream",
     "text": [
      "True\n"
     ]
    }
   ],
   "source": [
    "x = 5\n",
    "print(x > 1 or x < 6)"
   ]
  },
  {
   "cell_type": "code",
   "execution_count": 82,
   "id": "58806b85",
   "metadata": {},
   "outputs": [
    {
     "name": "stdout",
     "output_type": "stream",
     "text": [
      "False\n"
     ]
    }
   ],
   "source": [
    "x = 5\n",
    "print(not(x > 3 and x < 10))"
   ]
  },
  {
   "cell_type": "code",
   "execution_count": 86,
   "id": "8cf6e7c2",
   "metadata": {},
   "outputs": [
    {
     "name": "stdout",
     "output_type": "stream",
     "text": [
      "luas lingkaran adalah 1384.74\n"
     ]
    }
   ],
   "source": [
    "phi  = 3.14\n",
    "r = 21\n",
    "L = phi * (r * r)\n",
    "\n",
    "print(\"luas lingkaran adalah\", L)"
   ]
  },
  {
   "cell_type": "code",
   "execution_count": 90,
   "id": "0b50c453",
   "metadata": {},
   "outputs": [
    {
     "name": "stdout",
     "output_type": "stream",
     "text": [
      "volume lingkaran adalah 1436.0266666666666\n"
     ]
    }
   ],
   "source": [
    "phi  = 3.14\n",
    "r = 3\n",
    "V = 4/3 * phi * (r * r * r)\n",
    "\n",
    "print(\"volume lingkaran adalah\", V)"
   ]
  },
  {
   "cell_type": "code",
   "execution_count": 106,
   "id": "70cd8898",
   "metadata": {},
   "outputs": [
    {
     "name": "stdout",
     "output_type": "stream",
     "text": [
      "Please enter an integer: 0\n",
      "Zero\n"
     ]
    }
   ],
   "source": [
    "#if statements\n",
    ">>> x = int(input(\"Please enter an integer: \"))\n",
    ">>> if x < 0:\n",
    "...     x = 0\n",
    "...     print('Negative changed to zero')\n",
    "... elif x == 0:\n",
    "...     print('Zero')\n",
    "... elif x == 1:\n",
    "...     print('Single')\n",
    "... else:\n",
    "...     print('More')"
   ]
  },
  {
   "cell_type": "code",
   "execution_count": 118,
   "id": "890da100",
   "metadata": {},
   "outputs": [
    {
     "name": "stdout",
     "output_type": "stream",
     "text": [
      "loop 1\n",
      "0\n",
      "1\n",
      "2\n",
      "3\n",
      "4\n",
      "\n",
      "loop 2\n",
      "10\n",
      "8\n",
      "6\n",
      "4\n"
     ]
    }
   ],
   "source": [
    "#for loop\n",
    "print(\"loop 1\")\n",
    "for i in range(5): # default - start at 0, increment by 1\n",
    "    print(i)\n",
    "\n",
    "print(\"\\nloop 2\")\n",
    "for i in range(10, 2, -2): # inputs are start, stop, step\n",
    "    print(i)"
   ]
  },
  {
   "cell_type": "code",
   "execution_count": 119,
   "id": "241f0641",
   "metadata": {},
   "outputs": [
    {
     "name": "stdout",
     "output_type": "stream",
     "text": [
      "1\n",
      "4\n",
      "36\n",
      "1764\n"
     ]
    }
   ],
   "source": [
    "#while\n",
    "i = 1\n",
    "while i < 100:\n",
    "    print(i**2)\n",
    "    i += i**2  # a += b is short for a = a + b"
   ]
  },
  {
   "cell_type": "code",
   "execution_count": null,
   "id": "f6b9c47c",
   "metadata": {},
   "outputs": [],
   "source": []
  },
  {
   "cell_type": "code",
   "execution_count": null,
   "id": "375faa78",
   "metadata": {},
   "outputs": [],
   "source": []
  },
  {
   "cell_type": "code",
   "execution_count": null,
   "id": "2a9cf8f8",
   "metadata": {},
   "outputs": [],
   "source": []
  },
  {
   "cell_type": "code",
   "execution_count": null,
   "id": "a4e6b708",
   "metadata": {},
   "outputs": [],
   "source": []
  },
  {
   "cell_type": "code",
   "execution_count": null,
   "id": "a0f03e73",
   "metadata": {},
   "outputs": [],
   "source": []
  },
  {
   "cell_type": "code",
   "execution_count": null,
   "id": "16c22e06",
   "metadata": {},
   "outputs": [],
   "source": []
  }
 ],
 "metadata": {
  "kernelspec": {
   "display_name": "Python 3 (ipykernel)",
   "language": "python",
   "name": "python3"
  },
  "language_info": {
   "codemirror_mode": {
    "name": "ipython",
    "version": 3
   },
   "file_extension": ".py",
   "mimetype": "text/x-python",
   "name": "python",
   "nbconvert_exporter": "python",
   "pygments_lexer": "ipython3",
   "version": "3.9.7"
  }
 },
 "nbformat": 4,
 "nbformat_minor": 5
}
