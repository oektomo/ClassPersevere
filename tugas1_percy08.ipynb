{
 "cells": [
  {
   "cell_type": "markdown",
   "id": "677a50cc",
   "metadata": {},
   "source": [
    "Pada Tugas 1 ini, telah dipraktekkan penggunaan code python sesuai web w3school yaitu : syntax, comment, variables, data types, numbers, casting, strings, dan boolean."
   ]
  },
  {
   "cell_type": "markdown",
   "id": "7fa8bfd2",
   "metadata": {},
   "source": [
    "## Python Introduction"
   ]
  },
  {
   "cell_type": "markdown",
   "id": "b470411a",
   "metadata": {},
   "source": [
    "Python is a popular programming language. It was created by Guido van Rossum, and released in 1991.\n",
    "\n",
    "It is used for; web development (server-side), software development, mathematics, and system scripting."
   ]
  },
  {
   "cell_type": "markdown",
   "id": "ff5bc3cc",
   "metadata": {},
   "source": [
    "## Python Syntax"
   ]
  },
  {
   "cell_type": "code",
   "execution_count": 1,
   "id": "df3eea36",
   "metadata": {},
   "outputs": [
    {
     "name": "stdout",
     "output_type": "stream",
     "text": [
      "Hello, World!\n"
     ]
    }
   ],
   "source": [
    "print(\"Hello, World!\")"
   ]
  },
  {
   "cell_type": "markdown",
   "id": "dfed2801",
   "metadata": {},
   "source": [
    "## Python Indentation"
   ]
  },
  {
   "cell_type": "code",
   "execution_count": 7,
   "id": "5dc70a8f",
   "metadata": {},
   "outputs": [
    {
     "name": "stdout",
     "output_type": "stream",
     "text": [
      "Five is greater than two\n",
      "Five is greater than one\n"
     ]
    }
   ],
   "source": [
    "if 5 > 2:\n",
    "    print(\"Five is greater than two\")\n",
    "if 5 > 1:\n",
    "                print(\"Five is greater than one\") #indentation bebas, but at least 1"
   ]
  },
  {
   "cell_type": "markdown",
   "id": "116b7b07",
   "metadata": {},
   "source": [
    "## Comments"
   ]
  },
  {
   "cell_type": "code",
   "execution_count": 14,
   "id": "b990fe9e",
   "metadata": {},
   "outputs": [
    {
     "name": "stdout",
     "output_type": "stream",
     "text": [
      "percy08\n"
     ]
    }
   ],
   "source": [
    "#komentar ditulis dengan tagar\n",
    "print('percy08')"
   ]
  },
  {
   "cell_type": "code",
   "execution_count": 13,
   "id": "7613fcc3",
   "metadata": {},
   "outputs": [
    {
     "name": "stdout",
     "output_type": "stream",
     "text": [
      "percy08\n"
     ]
    }
   ],
   "source": [
    "\"\"\" komentar dengan tiga tanda petik \"\"\"\n",
    "print('percy08')"
   ]
  },
  {
   "cell_type": "markdown",
   "id": "860f3573",
   "metadata": {},
   "source": [
    "## Python Variables"
   ]
  },
  {
   "cell_type": "markdown",
   "id": "2b591933",
   "metadata": {},
   "source": [
    "### Creating Variables"
   ]
  },
  {
   "cell_type": "code",
   "execution_count": 21,
   "id": "9cef3eda",
   "metadata": {},
   "outputs": [
    {
     "name": "stdout",
     "output_type": "stream",
     "text": [
      "percy 8\n"
     ]
    }
   ],
   "source": [
    "x=8\n",
    "y='percy'\n",
    "print(y,x)"
   ]
  },
  {
   "cell_type": "code",
   "execution_count": 19,
   "id": "c46f3b72",
   "metadata": {},
   "outputs": [
    {
     "name": "stdout",
     "output_type": "stream",
     "text": [
      "800\n"
     ]
    }
   ],
   "source": [
    "x=8\n",
    "x=800\n",
    "print(x)"
   ]
  },
  {
   "cell_type": "markdown",
   "id": "120bb9ce",
   "metadata": {},
   "source": [
    "### Casting"
   ]
  },
  {
   "cell_type": "code",
   "execution_count": 26,
   "id": "3131652b",
   "metadata": {},
   "outputs": [
    {
     "name": "stdout",
     "output_type": "stream",
     "text": [
      "8\n",
      "8 8.0\n"
     ]
    }
   ],
   "source": [
    "x = str(8)\n",
    "y = int(8)\n",
    "z = float(8)\n",
    "print (x)\n",
    "print(y, z)"
   ]
  },
  {
   "cell_type": "markdown",
   "id": "a4de7a71",
   "metadata": {},
   "source": [
    "### Get the Type"
   ]
  },
  {
   "cell_type": "code",
   "execution_count": 25,
   "id": "851a2d02",
   "metadata": {},
   "outputs": [
    {
     "name": "stdout",
     "output_type": "stream",
     "text": [
      "<class 'str'>\n",
      "<class 'int'>\n",
      "<class 'float'>\n"
     ]
    }
   ],
   "source": [
    "print(type(x))\n",
    "print(type(y))\n",
    "print(type(z))"
   ]
  },
  {
   "cell_type": "markdown",
   "id": "2d76ff32",
   "metadata": {},
   "source": [
    "### Case Sensitive"
   ]
  },
  {
   "cell_type": "code",
   "execution_count": 27,
   "id": "a881a69d",
   "metadata": {},
   "outputs": [
    {
     "name": "stdout",
     "output_type": "stream",
     "text": [
      "Mely\n",
      "Melyatul\n"
     ]
    }
   ],
   "source": [
    "a = 'Mely'\n",
    "A = \"Melyatul\"\n",
    "print(a)\n",
    "print(A)"
   ]
  },
  {
   "cell_type": "markdown",
   "id": "9844e9ad",
   "metadata": {},
   "source": [
    "## Variable Names"
   ]
  },
  {
   "cell_type": "code",
   "execution_count": 29,
   "id": "311a22ba",
   "metadata": {},
   "outputs": [
    {
     "name": "stdout",
     "output_type": "stream",
     "text": [
      "John\n",
      "John\n"
     ]
    }
   ],
   "source": [
    "#DO\n",
    "myvar = \"John\"\n",
    "my_var = \"John\" #Snake Case\n",
    "_my_var = \"John\"\n",
    "myVar = \"John\" #Camel Case\n",
    "MyVar = 'John' #Pascal Case\n",
    "MYVAR = \"John\"\n",
    "myvar2 = \"John\"\n",
    "print(my_var)\n",
    "print(_my_var)"
   ]
  },
  {
   "cell_type": "code",
   "execution_count": 30,
   "id": "02a436e2",
   "metadata": {},
   "outputs": [
    {
     "ename": "SyntaxError",
     "evalue": "invalid syntax (<ipython-input-30-016323a33b48>, line 1)",
     "output_type": "error",
     "traceback": [
      "\u001b[1;36m  File \u001b[1;32m\"<ipython-input-30-016323a33b48>\"\u001b[1;36m, line \u001b[1;32m1\u001b[0m\n\u001b[1;33m    2myvar = \"John\"\u001b[0m\n\u001b[1;37m     ^\u001b[0m\n\u001b[1;31mSyntaxError\u001b[0m\u001b[1;31m:\u001b[0m invalid syntax\n"
     ]
    }
   ],
   "source": [
    "#DONTS\n",
    "2myvar = \"John\"\n",
    "my-var = \"John\"\n",
    "my var = \"John\"\n",
    "print(my-var)"
   ]
  },
  {
   "cell_type": "markdown",
   "id": "0b21da12",
   "metadata": {},
   "source": [
    "## Assign Multiple Vaues"
   ]
  },
  {
   "cell_type": "markdown",
   "id": "1c3c7de7",
   "metadata": {},
   "source": [
    "### Many Values to Multiple Variables"
   ]
  },
  {
   "cell_type": "code",
   "execution_count": 31,
   "id": "01215b15",
   "metadata": {},
   "outputs": [
    {
     "name": "stdout",
     "output_type": "stream",
     "text": [
      "Jeruk\n",
      "Pisang\n",
      "Mangga\n"
     ]
    }
   ],
   "source": [
    "a, b, c = \"Jeruk\", \"Pisang\", \"Mangga\"\n",
    "print(a)\n",
    "print(b)\n",
    "print(c)"
   ]
  },
  {
   "cell_type": "markdown",
   "id": "a2a8c620",
   "metadata": {},
   "source": [
    "### One Value to Multiple Variables"
   ]
  },
  {
   "cell_type": "code",
   "execution_count": 32,
   "id": "b3aea7df",
   "metadata": {},
   "outputs": [
    {
     "name": "stdout",
     "output_type": "stream",
     "text": [
      "Jeruk\n",
      "Jeruk\n",
      "Jeruk\n"
     ]
    }
   ],
   "source": [
    "a = b = c = \"Jeruk\"\n",
    "print(a)\n",
    "print(b)\n",
    "print(c)"
   ]
  },
  {
   "cell_type": "markdown",
   "id": "95bf6785",
   "metadata": {},
   "source": [
    "### Unpack a Collection"
   ]
  },
  {
   "cell_type": "code",
   "execution_count": 38,
   "id": "962f7eae",
   "metadata": {},
   "outputs": [
    {
     "name": "stdout",
     "output_type": "stream",
     "text": [
      "apel\n",
      "pisang\n",
      "jambu\n"
     ]
    }
   ],
   "source": [
    "buah = [\"apel\", \"pisang\", \"jambu\"]\n",
    "a, b, c = buah\n",
    "print(a)\n",
    "print(b)\n",
    "print(c)\n",
    "#jumlah elemen pada list dan variabel harus sama"
   ]
  },
  {
   "cell_type": "markdown",
   "id": "0221e782",
   "metadata": {},
   "source": [
    "## Output Variables"
   ]
  },
  {
   "cell_type": "code",
   "execution_count": 39,
   "id": "86ffdb2d",
   "metadata": {},
   "outputs": [
    {
     "name": "stdout",
     "output_type": "stream",
     "text": [
      "My name is percy08\n"
     ]
    }
   ],
   "source": [
    "name = \"percy08\"\n",
    "print(\"My name is \" + name)"
   ]
  },
  {
   "cell_type": "code",
   "execution_count": 43,
   "id": "f4bf058f",
   "metadata": {},
   "outputs": [
    {
     "name": "stdout",
     "output_type": "stream",
     "text": [
      "My name ispercy08\n"
     ]
    }
   ],
   "source": [
    "opening = \"My name is\"\n",
    "name = \"percy08\"\n",
    "print(opening + name)"
   ]
  },
  {
   "cell_type": "code",
   "execution_count": 44,
   "id": "d957abe4",
   "metadata": {},
   "outputs": [
    {
     "ename": "TypeError",
     "evalue": "unsupported operand type(s) for +: 'int' and 'str'",
     "output_type": "error",
     "traceback": [
      "\u001b[1;31m---------------------------------------------------------------------------\u001b[0m",
      "\u001b[1;31mTypeError\u001b[0m                                 Traceback (most recent call last)",
      "\u001b[1;32m<ipython-input-44-6f2f7b1601e2>\u001b[0m in \u001b[0;36m<module>\u001b[1;34m\u001b[0m\n\u001b[0;32m      1\u001b[0m \u001b[0mnumber\u001b[0m \u001b[1;33m=\u001b[0m \u001b[1;36m8\u001b[0m\u001b[1;33m\u001b[0m\u001b[1;33m\u001b[0m\u001b[0m\n\u001b[0;32m      2\u001b[0m \u001b[0mname\u001b[0m \u001b[1;33m=\u001b[0m \u001b[1;34m\"percy08\"\u001b[0m\u001b[1;33m\u001b[0m\u001b[1;33m\u001b[0m\u001b[0m\n\u001b[1;32m----> 3\u001b[1;33m \u001b[0mprint\u001b[0m\u001b[1;33m(\u001b[0m\u001b[0mnumber\u001b[0m \u001b[1;33m+\u001b[0m \u001b[0mname\u001b[0m\u001b[1;33m)\u001b[0m\u001b[1;33m\u001b[0m\u001b[1;33m\u001b[0m\u001b[0m\n\u001b[0m",
      "\u001b[1;31mTypeError\u001b[0m: unsupported operand type(s) for +: 'int' and 'str'"
     ]
    }
   ],
   "source": [
    "#Tidak bisa menggabungkan int dan str\n",
    "number = 8\n",
    "name = \"percy08\"\n",
    "print(number + name)"
   ]
  },
  {
   "cell_type": "markdown",
   "id": "79ee18eb",
   "metadata": {},
   "source": [
    "## Global Variables"
   ]
  },
  {
   "cell_type": "code",
   "execution_count": 48,
   "id": "ddc7bd0d",
   "metadata": {},
   "outputs": [
    {
     "name": "stdout",
     "output_type": "stream",
     "text": [
      "Saya belajar di Orbit\n"
     ]
    }
   ],
   "source": [
    "x = \"Orbit\"\n",
    "\n",
    "def myfunc():\n",
    "  print(\"Saya belajar di \" + x)\n",
    "\n",
    "myfunc()"
   ]
  },
  {
   "cell_type": "code",
   "execution_count": 47,
   "id": "b448ad1c",
   "metadata": {},
   "outputs": [
    {
     "name": "stdout",
     "output_type": "stream",
     "text": [
      "Saya belajar di OFA\n",
      "Saya belajar di Orbit\n"
     ]
    }
   ],
   "source": [
    "x = \"Orbit\"\n",
    "\n",
    "def myfunc():\n",
    "  x = \"OFA\"\n",
    "  print(\"Saya belajar di \" + x)\n",
    "\n",
    "myfunc()\n",
    "\n",
    "print(\"Saya belajar di \" + x)"
   ]
  },
  {
   "cell_type": "markdown",
   "id": "79b90541",
   "metadata": {},
   "source": [
    "### The Global Keyword"
   ]
  },
  {
   "cell_type": "code",
   "execution_count": 49,
   "id": "45e3ee8c",
   "metadata": {},
   "outputs": [
    {
     "name": "stdout",
     "output_type": "stream",
     "text": [
      "Saya belajar di Orbit\n"
     ]
    }
   ],
   "source": [
    "def myfunc():\n",
    "  global x\n",
    "  x = \"Orbit\"\n",
    "\n",
    "myfunc()\n",
    "\n",
    "print(\"Saya belajar di \" + x)"
   ]
  },
  {
   "cell_type": "code",
   "execution_count": 50,
   "id": "594ae6a3",
   "metadata": {},
   "outputs": [
    {
     "name": "stdout",
     "output_type": "stream",
     "text": [
      "Saya belajar di Orbit\n"
     ]
    }
   ],
   "source": [
    "x = \"OFA\"\n",
    "\n",
    "def myfunc():\n",
    "  global x\n",
    "  x = \"Orbit\"\n",
    "\n",
    "myfunc()\n",
    "\n",
    "print(\"Saya belajar di \" + x)"
   ]
  },
  {
   "cell_type": "markdown",
   "id": "5e431c4f",
   "metadata": {},
   "source": [
    "## Python Data Types"
   ]
  },
  {
   "cell_type": "code",
   "execution_count": 55,
   "id": "cfcbe357",
   "metadata": {},
   "outputs": [
    {
     "name": "stdout",
     "output_type": "stream",
     "text": [
      "<class 'list'>\n",
      "<class 'tuple'>\n",
      "<class 'range'>\n",
      "<class 'dict'>\n",
      "<class 'set'>\n",
      "<class 'frozenset'>\n",
      "<class 'bool'>\n"
     ]
    }
   ],
   "source": [
    "a = [\"apel\", \"pisang\", \"delima\"]\n",
    "b = (\"apel\", \"pisang\", \"delima\")\n",
    "c = range(8)\n",
    "d = {\"name\" : \"percy08\", \"tugas\" : 1}\n",
    "e = {\"apel\", \"pisang\", \"delima\"}\n",
    "f = frozenset({\"apel\", \"pisang\", \"delima\"})\n",
    "g = True\n",
    "print(type(a))\n",
    "print(type(b))\n",
    "print(type(c))\n",
    "print(type(d))\n",
    "print(type(e))\n",
    "print(type(f))\n",
    "print(type(g))"
   ]
  },
  {
   "cell_type": "markdown",
   "id": "e10cc47b",
   "metadata": {},
   "source": [
    "## Python Numbers"
   ]
  },
  {
   "cell_type": "markdown",
   "id": "42c34ed4",
   "metadata": {},
   "source": [
    "There are three numeric types in Python: int, float, and complex"
   ]
  },
  {
   "cell_type": "code",
   "execution_count": 56,
   "id": "6516a575",
   "metadata": {},
   "outputs": [
    {
     "name": "stdout",
     "output_type": "stream",
     "text": [
      "<class 'int'>\n",
      "<class 'int'>\n",
      "<class 'int'>\n",
      "<class 'float'>\n",
      "<class 'float'>\n",
      "<class 'float'>\n",
      "<class 'complex'>\n",
      "<class 'complex'>\n",
      "<class 'complex'>\n"
     ]
    }
   ],
   "source": [
    "i1 = 8\n",
    "i2 = 90823912801210915\n",
    "i3 = -890332\n",
    "f1 = 8.80\n",
    "f2 = 8.0\n",
    "f3 = -89.6e100\n",
    "c1 = 3+5j\n",
    "c2 = 5j\n",
    "c3 = -5j\n",
    "print(type(i1))\n",
    "print(type(i2))\n",
    "print(type(i3))\n",
    "print(type(f1))\n",
    "print(type(f2))\n",
    "print(type(f3))\n",
    "print(type(c1))\n",
    "print(type(c2))\n",
    "print(type(c3))"
   ]
  },
  {
   "cell_type": "markdown",
   "id": "3b6413e1",
   "metadata": {},
   "source": [
    "### Type Conversion"
   ]
  },
  {
   "cell_type": "code",
   "execution_count": 58,
   "id": "02bb879a",
   "metadata": {},
   "outputs": [
    {
     "name": "stdout",
     "output_type": "stream",
     "text": [
      "8.0\n",
      "3\n",
      "(8+0j)\n",
      "<class 'float'>\n",
      "<class 'int'>\n",
      "<class 'complex'>\n"
     ]
    }
   ],
   "source": [
    "x = 8    # int\n",
    "y = 3.8  # float\n",
    "z = 8j   # complex\n",
    "\n",
    "#convert from int to float:\n",
    "a = float(x)\n",
    "\n",
    "#convert from float to int:\n",
    "b = int(y)\n",
    "\n",
    "#convert from int to complex:\n",
    "c = complex(x)\n",
    "\n",
    "print(a)\n",
    "print(b)\n",
    "print(c)\n",
    "\n",
    "print(type(a))\n",
    "print(type(b))\n",
    "print(type(c))"
   ]
  },
  {
   "cell_type": "markdown",
   "id": "3cf3f827",
   "metadata": {},
   "source": [
    "### Random Number"
   ]
  },
  {
   "cell_type": "code",
   "execution_count": 59,
   "id": "324ef677",
   "metadata": {},
   "outputs": [
    {
     "name": "stdout",
     "output_type": "stream",
     "text": [
      "2\n"
     ]
    }
   ],
   "source": [
    "import random\n",
    "\n",
    "print(random.randrange(1, 8))"
   ]
  },
  {
   "cell_type": "markdown",
   "id": "68a71c18",
   "metadata": {},
   "source": [
    "## Python Casting"
   ]
  },
  {
   "cell_type": "code",
   "execution_count": 60,
   "id": "86d1c109",
   "metadata": {},
   "outputs": [
    {
     "name": "stdout",
     "output_type": "stream",
     "text": [
      "2\n"
     ]
    }
   ],
   "source": [
    "x = int(2.8)\n",
    "print(x)"
   ]
  },
  {
   "cell_type": "code",
   "execution_count": 61,
   "id": "a867d323",
   "metadata": {},
   "outputs": [
    {
     "name": "stdout",
     "output_type": "stream",
     "text": [
      "8.0\n"
     ]
    }
   ],
   "source": [
    "x = float(8)\n",
    "print(x)"
   ]
  },
  {
   "cell_type": "code",
   "execution_count": 62,
   "id": "0bcaa947",
   "metadata": {},
   "outputs": [
    {
     "name": "stdout",
     "output_type": "stream",
     "text": [
      "3.0\n"
     ]
    }
   ],
   "source": [
    "z = str(3.0)\n",
    "print(z)"
   ]
  },
  {
   "cell_type": "markdown",
   "id": "434c8b53",
   "metadata": {},
   "source": [
    "## Python Strings"
   ]
  },
  {
   "cell_type": "markdown",
   "id": "95a97654",
   "metadata": {},
   "source": [
    "### Strings"
   ]
  },
  {
   "cell_type": "markdown",
   "id": "9fa29e0b",
   "metadata": {},
   "source": [
    "Strings in python are surrounded by either single quotation marks, or double quotation marks.\n",
    "\n",
    "'hello' is the same as \"hello\"."
   ]
  },
  {
   "cell_type": "markdown",
   "id": "fb0fa18b",
   "metadata": {},
   "source": [
    "### Assign String to a Variable"
   ]
  },
  {
   "cell_type": "code",
   "execution_count": 64,
   "id": "586ee1e2",
   "metadata": {},
   "outputs": [
    {
     "name": "stdout",
     "output_type": "stream",
     "text": [
      "Assalamualaikum\n"
     ]
    }
   ],
   "source": [
    "a = \"Assalamualaikum\"\n",
    "print(a)"
   ]
  },
  {
   "cell_type": "markdown",
   "id": "ffbfc066",
   "metadata": {},
   "source": [
    "### Multiline Strings"
   ]
  },
  {
   "cell_type": "code",
   "execution_count": 65,
   "id": "c9498bf6",
   "metadata": {},
   "outputs": [
    {
     "name": "stdout",
     "output_type": "stream",
     "text": [
      "String ini ditulis dalam multiline\n",
      "ada beberapa baris string\n",
      "jika multiline bisa memakai 3 buah tanda kutip\n"
     ]
    }
   ],
   "source": [
    "a = \"\"\"String ini ditulis dalam multiline\n",
    "ada beberapa baris string\n",
    "jika multiline bisa memakai 3 buah tanda kutip\"\"\"\n",
    "print(a)"
   ]
  },
  {
   "cell_type": "markdown",
   "id": "25a4b67a",
   "metadata": {},
   "source": [
    "### Strings are Arrays"
   ]
  },
  {
   "cell_type": "code",
   "execution_count": 67,
   "id": "1ca4f590",
   "metadata": {},
   "outputs": [
    {
     "name": "stdout",
     "output_type": "stream",
     "text": [
      ",\n",
      "H\n"
     ]
    }
   ],
   "source": [
    "a = \"Hello, Indonesia\"\n",
    "print(a[5])\n",
    "print(a[0])"
   ]
  },
  {
   "cell_type": "markdown",
   "id": "121b42bd",
   "metadata": {},
   "source": [
    "### Looping Through a String"
   ]
  },
  {
   "cell_type": "code",
   "execution_count": null,
   "id": "3e7827a9",
   "metadata": {},
   "outputs": [],
   "source": [
    "for x in \"banana\":\n",
    "  print(x)"
   ]
  },
  {
   "cell_type": "markdown",
   "id": "5b516386",
   "metadata": {},
   "source": [
    "### String Length"
   ]
  },
  {
   "cell_type": "code",
   "execution_count": null,
   "id": "5299f653",
   "metadata": {},
   "outputs": [],
   "source": [
    "a = \"Hello, World!\"\n",
    "print(len(a))"
   ]
  },
  {
   "cell_type": "markdown",
   "id": "4e2a47df",
   "metadata": {},
   "source": [
    "### Check String"
   ]
  },
  {
   "cell_type": "code",
   "execution_count": 70,
   "id": "53b44bcd",
   "metadata": {},
   "outputs": [
    {
     "name": "stdout",
     "output_type": "stream",
     "text": [
      "True\n"
     ]
    }
   ],
   "source": [
    "txt = \"Saya belajar di Orbit\"\n",
    "print(\"belajar\" in txt)"
   ]
  },
  {
   "cell_type": "code",
   "execution_count": 75,
   "id": "9a355909",
   "metadata": {},
   "outputs": [
    {
     "name": "stdout",
     "output_type": "stream",
     "text": [
      "Ya, saya belajar\n"
     ]
    }
   ],
   "source": [
    "txt = \"Saya belajar di Orbit\"\n",
    "if \"belajar\" in txt:\n",
    "  print(\"Ya, saya belajar\")"
   ]
  },
  {
   "cell_type": "markdown",
   "id": "4f63698d",
   "metadata": {},
   "source": [
    "### Check if NOT"
   ]
  },
  {
   "cell_type": "code",
   "execution_count": 73,
   "id": "519f7e26",
   "metadata": {},
   "outputs": [
    {
     "name": "stdout",
     "output_type": "stream",
     "text": [
      "True\n"
     ]
    }
   ],
   "source": [
    "txt = \"Saya belajar di Orbit\"\n",
    "print(\"Microsoft\" not in txt)"
   ]
  },
  {
   "cell_type": "code",
   "execution_count": 76,
   "id": "c559f6cd",
   "metadata": {},
   "outputs": [
    {
     "name": "stdout",
     "output_type": "stream",
     "text": [
      "Saya tidak belajar di Microsoft.\n"
     ]
    }
   ],
   "source": [
    "txt = \"Saya belajar di Orbit\"\n",
    "if \"Microsoft\" not in txt:\n",
    "  print(\"Saya tidak belajar di Microsoft.\")"
   ]
  },
  {
   "cell_type": "markdown",
   "id": "1b5543bd",
   "metadata": {},
   "source": [
    "## Slicing Strings"
   ]
  },
  {
   "cell_type": "markdown",
   "id": "6bf18576",
   "metadata": {},
   "source": [
    "### Slicing"
   ]
  },
  {
   "cell_type": "code",
   "execution_count": 78,
   "id": "44e27763",
   "metadata": {},
   "outputs": [
    {
     "name": "stdout",
     "output_type": "stream",
     "text": [
      ", Or\n"
     ]
    }
   ],
   "source": [
    "b = \"Hai, Orbit!\"\n",
    "print(b[3:7])"
   ]
  },
  {
   "cell_type": "markdown",
   "id": "0bc74a57",
   "metadata": {},
   "source": [
    "### Slice from the Start"
   ]
  },
  {
   "cell_type": "code",
   "execution_count": 80,
   "id": "7cb6354b",
   "metadata": {},
   "outputs": [
    {
     "name": "stdout",
     "output_type": "stream",
     "text": [
      "Hai, Or\n"
     ]
    }
   ],
   "source": [
    "b = \"Hai, Orbit!\"\n",
    "print(b[:7])"
   ]
  },
  {
   "cell_type": "markdown",
   "id": "948ebe14",
   "metadata": {},
   "source": [
    "### Slice To The End"
   ]
  },
  {
   "cell_type": "code",
   "execution_count": 81,
   "id": "411d0e31",
   "metadata": {},
   "outputs": [
    {
     "name": "stdout",
     "output_type": "stream",
     "text": [
      "i, Orbit!\n"
     ]
    }
   ],
   "source": [
    "b = \"Hai, Orbit!\"\n",
    "print(b[2:])"
   ]
  },
  {
   "cell_type": "markdown",
   "id": "bd4a945a",
   "metadata": {},
   "source": [
    "### Negative Indexing"
   ]
  },
  {
   "cell_type": "code",
   "execution_count": 84,
   "id": "29d003cc",
   "metadata": {},
   "outputs": [
    {
     "name": "stdout",
     "output_type": "stream",
     "text": [
      " Orbit\n"
     ]
    }
   ],
   "source": [
    "b = \"Hai, Orbit!\"\n",
    "print(b[-7:-1])"
   ]
  },
  {
   "cell_type": "markdown",
   "id": "8ee67eac",
   "metadata": {},
   "source": [
    "## Modify String"
   ]
  },
  {
   "cell_type": "markdown",
   "id": "a6222d51",
   "metadata": {},
   "source": [
    "### Upper Case"
   ]
  },
  {
   "cell_type": "code",
   "execution_count": 85,
   "id": "d73cc8fc",
   "metadata": {},
   "outputs": [
    {
     "name": "stdout",
     "output_type": "stream",
     "text": [
      "HAI, ORBIT!\n"
     ]
    }
   ],
   "source": [
    "a = \"Hai, Orbit!\"\n",
    "print(a.upper())"
   ]
  },
  {
   "cell_type": "markdown",
   "id": "f217a622",
   "metadata": {},
   "source": [
    "### Lower Case"
   ]
  },
  {
   "cell_type": "code",
   "execution_count": 87,
   "id": "b2e57f31",
   "metadata": {},
   "outputs": [
    {
     "name": "stdout",
     "output_type": "stream",
     "text": [
      "hai, orbit!\n"
     ]
    }
   ],
   "source": [
    "a = \"Hai, Orbit!\"\n",
    "print(a.lower())"
   ]
  },
  {
   "cell_type": "markdown",
   "id": "e96df9c8",
   "metadata": {},
   "source": [
    "### Remove Whitespace"
   ]
  },
  {
   "cell_type": "code",
   "execution_count": 88,
   "id": "bac1d736",
   "metadata": {},
   "outputs": [
    {
     "name": "stdout",
     "output_type": "stream",
     "text": [
      "Hai, Orbit!\n"
     ]
    }
   ],
   "source": [
    "a = \" Hai, Orbit! \"\n",
    "print(a.strip())"
   ]
  },
  {
   "cell_type": "markdown",
   "id": "1da11815",
   "metadata": {},
   "source": [
    "### Replace String"
   ]
  },
  {
   "cell_type": "code",
   "execution_count": 90,
   "id": "27bf2b30",
   "metadata": {},
   "outputs": [
    {
     "name": "stdout",
     "output_type": "stream",
     "text": [
      "Hai, OFA!\n"
     ]
    }
   ],
   "source": [
    "a = \"Hai, Orbit!\"\n",
    "print(a.replace(\"Orbit\", \"OFA\"))"
   ]
  },
  {
   "cell_type": "markdown",
   "id": "e1ec8707",
   "metadata": {},
   "source": [
    "### Split String"
   ]
  },
  {
   "cell_type": "code",
   "execution_count": 91,
   "id": "63b9beb6",
   "metadata": {},
   "outputs": [
    {
     "name": "stdout",
     "output_type": "stream",
     "text": [
      "['Hai', ' Orbit!']\n"
     ]
    }
   ],
   "source": [
    "a = \"Hai, Orbit!\"\n",
    "print(a.split(\",\"))"
   ]
  },
  {
   "cell_type": "markdown",
   "id": "f0a1e9e1",
   "metadata": {},
   "source": [
    "## String Concatenation\n"
   ]
  },
  {
   "cell_type": "code",
   "execution_count": 95,
   "id": "ae8a3fa8",
   "metadata": {},
   "outputs": [
    {
     "name": "stdout",
     "output_type": "stream",
     "text": [
      "HaiOrbit\n"
     ]
    }
   ],
   "source": [
    "a = \"Hai\"\n",
    "b = \"Orbit\"\n",
    "c = a + b\n",
    "print(c)"
   ]
  },
  {
   "cell_type": "code",
   "execution_count": 94,
   "id": "05f06bae",
   "metadata": {},
   "outputs": [
    {
     "name": "stdout",
     "output_type": "stream",
     "text": [
      "Hai Orbit\n"
     ]
    }
   ],
   "source": [
    "a = \"Hai\"\n",
    "b = \"Orbit\"\n",
    "c = a + \" \" + b\n",
    "print(c)"
   ]
  },
  {
   "cell_type": "markdown",
   "id": "5ca9a8cf",
   "metadata": {},
   "source": [
    "## Format Strings"
   ]
  },
  {
   "cell_type": "markdown",
   "id": "38cbdbdb",
   "metadata": {},
   "source": [
    "### String Format"
   ]
  },
  {
   "cell_type": "code",
   "execution_count": 96,
   "id": "bbe4da7f",
   "metadata": {},
   "outputs": [
    {
     "ename": "TypeError",
     "evalue": "can only concatenate str (not \"int\") to str",
     "output_type": "error",
     "traceback": [
      "\u001b[1;31m---------------------------------------------------------------------------\u001b[0m",
      "\u001b[1;31mTypeError\u001b[0m                                 Traceback (most recent call last)",
      "\u001b[1;32m<ipython-input-96-4637a15cb570>\u001b[0m in \u001b[0;36m<module>\u001b[1;34m\u001b[0m\n\u001b[0;32m      1\u001b[0m \u001b[0mtugas\u001b[0m \u001b[1;33m=\u001b[0m \u001b[1;36m1\u001b[0m\u001b[1;33m\u001b[0m\u001b[1;33m\u001b[0m\u001b[0m\n\u001b[1;32m----> 2\u001b[1;33m \u001b[0mtxt\u001b[0m \u001b[1;33m=\u001b[0m \u001b[1;34m\"Ini adalah tugas \"\u001b[0m \u001b[1;33m+\u001b[0m \u001b[0mtugas\u001b[0m\u001b[1;33m\u001b[0m\u001b[1;33m\u001b[0m\u001b[0m\n\u001b[0m\u001b[0;32m      3\u001b[0m \u001b[0mprint\u001b[0m\u001b[1;33m(\u001b[0m\u001b[0mtxt\u001b[0m\u001b[1;33m)\u001b[0m\u001b[1;33m\u001b[0m\u001b[1;33m\u001b[0m\u001b[0m\n",
      "\u001b[1;31mTypeError\u001b[0m: can only concatenate str (not \"int\") to str"
     ]
    }
   ],
   "source": [
    "tugas = 1\n",
    "txt = \"Ini adalah tugas \" + tugas\n",
    "print(txt)"
   ]
  },
  {
   "cell_type": "code",
   "execution_count": 97,
   "id": "b237765b",
   "metadata": {},
   "outputs": [
    {
     "name": "stdout",
     "output_type": "stream",
     "text": [
      "Ini adalah tugas 1\n"
     ]
    }
   ],
   "source": [
    "tugas = 1\n",
    "txt = \"Ini adalah tugas {}\"\n",
    "print(txt.format(tugas))"
   ]
  },
  {
   "cell_type": "code",
   "execution_count": 99,
   "id": "144bc863",
   "metadata": {},
   "outputs": [
    {
     "name": "stdout",
     "output_type": "stream",
     "text": [
      "Saya percy 8 mengumpulkan tugas 1 pada tanggal 04 Maret 2022 .\n"
     ]
    }
   ],
   "source": [
    "kode = 8\n",
    "tugas = 1\n",
    "tanggal = \"04 Maret 2022\"\n",
    "informasi = \"Saya percy {} mengumpulkan tugas {} pada tanggal {} .\"\n",
    "print(informasi.format(kode, tugas, tanggal))"
   ]
  },
  {
   "cell_type": "code",
   "execution_count": 102,
   "id": "17683fcf",
   "metadata": {},
   "outputs": [
    {
     "name": "stdout",
     "output_type": "stream",
     "text": [
      "Saya percy 04 Maret 2022 mengumpulkan tugas 8 pada tanggal 1 .\n"
     ]
    }
   ],
   "source": [
    "kode = 8\n",
    "tugas = 1\n",
    "tanggal = \"04 Maret 2022\"\n",
    "informasi = \"Saya percy {2} mengumpulkan tugas {0} pada tanggal {1} .\"\n",
    "print(informasi.format(kode, tugas, tanggal))"
   ]
  },
  {
   "cell_type": "markdown",
   "id": "39013592",
   "metadata": {},
   "source": [
    "## Escape Characters"
   ]
  },
  {
   "cell_type": "code",
   "execution_count": 98,
   "id": "c2d95917",
   "metadata": {},
   "outputs": [
    {
     "ename": "SyntaxError",
     "evalue": "invalid syntax (<ipython-input-98-7371c0f0f904>, line 2)",
     "output_type": "error",
     "traceback": [
      "\u001b[1;36m  File \u001b[1;32m\"<ipython-input-98-7371c0f0f904>\"\u001b[1;36m, line \u001b[1;32m2\u001b[0m\n\u001b[1;33m    txt = \"Saya belajar di \"Orbit\".\"\u001b[0m\n\u001b[1;37m                            ^\u001b[0m\n\u001b[1;31mSyntaxError\u001b[0m\u001b[1;31m:\u001b[0m invalid syntax\n"
     ]
    }
   ],
   "source": [
    "#tidak boleh ada tanda petik dalam tanda petik\n",
    "txt = \"Saya belajar di \"Orbit\".\"\n",
    "print(txt)"
   ]
  },
  {
   "cell_type": "code",
   "execution_count": 103,
   "id": "8109619c",
   "metadata": {},
   "outputs": [
    {
     "name": "stdout",
     "output_type": "stream",
     "text": [
      "Saya belajar di \"Orbit\".\n"
     ]
    }
   ],
   "source": [
    "txt = \"Saya belajar di \\\"Orbit\\\".\"\n",
    "print(txt)"
   ]
  },
  {
   "cell_type": "markdown",
   "id": "87e422a9",
   "metadata": {},
   "source": [
    "## String Methods"
   ]
  },
  {
   "cell_type": "markdown",
   "id": "cdd5b2a7",
   "metadata": {},
   "source": [
    "### String Methods"
   ]
  },
  {
   "cell_type": "markdown",
   "id": "f4bf1d60",
   "metadata": {},
   "source": [
    "Python has a set of built-in methods that you can use on strings.\n",
    "This is a example to Converts the first character to upper case"
   ]
  },
  {
   "cell_type": "code",
   "execution_count": 106,
   "id": "125cb6a4",
   "metadata": {},
   "outputs": [
    {
     "name": "stdout",
     "output_type": "stream",
     "text": [
      "Saya belajar di orbit\n"
     ]
    }
   ],
   "source": [
    "informasi = \"saya belajar di Orbit\"\n",
    "print(informasi.capitalize())"
   ]
  },
  {
   "cell_type": "markdown",
   "id": "d51ca235",
   "metadata": {},
   "source": [
    "## Python Booleans"
   ]
  },
  {
   "cell_type": "markdown",
   "id": "60024577",
   "metadata": {},
   "source": [
    "### Boolean Values"
   ]
  },
  {
   "cell_type": "code",
   "execution_count": 107,
   "id": "328af3dc",
   "metadata": {},
   "outputs": [
    {
     "name": "stdout",
     "output_type": "stream",
     "text": [
      "False\n",
      "False\n",
      "True\n"
     ]
    }
   ],
   "source": [
    "print(8 > 900)\n",
    "print(8 == 900)\n",
    "print(8 < 900)"
   ]
  },
  {
   "cell_type": "code",
   "execution_count": 113,
   "id": "0bcfcc02",
   "metadata": {},
   "outputs": [
    {
     "name": "stdout",
     "output_type": "stream",
     "text": [
      "b lebih besar dari a\n"
     ]
    }
   ],
   "source": [
    "a = 8\n",
    "b = 900\n",
    "\n",
    "if b > a:\n",
    "  print(\"b lebih besar dari a\")\n",
    "else:\n",
    "  print(\"b tidak lebih besar dari a\")"
   ]
  },
  {
   "cell_type": "markdown",
   "id": "45403c46",
   "metadata": {},
   "source": [
    "### Evaluate Values and Variables"
   ]
  },
  {
   "cell_type": "code",
   "execution_count": 114,
   "id": "933521cd",
   "metadata": {},
   "outputs": [
    {
     "name": "stdout",
     "output_type": "stream",
     "text": [
      "True\n",
      "True\n"
     ]
    }
   ],
   "source": [
    "print(bool(\"Orbit\"))\n",
    "print(bool(8))"
   ]
  },
  {
   "cell_type": "markdown",
   "id": "e252926e",
   "metadata": {},
   "source": [
    "### Most Values are True"
   ]
  },
  {
   "cell_type": "code",
   "execution_count": 115,
   "id": "c689a6eb",
   "metadata": {},
   "outputs": [
    {
     "data": {
      "text/plain": [
       "True"
      ]
     },
     "execution_count": 115,
     "metadata": {},
     "output_type": "execute_result"
    }
   ],
   "source": [
    "bool(\"Orbit\")\n",
    "bool(800)\n",
    "bool([\"orbit\", \"future\", \"academy\"])"
   ]
  },
  {
   "cell_type": "markdown",
   "id": "f84a4d2e",
   "metadata": {},
   "source": [
    "### Some Values are False"
   ]
  },
  {
   "cell_type": "code",
   "execution_count": 116,
   "id": "dcb9ee31",
   "metadata": {},
   "outputs": [
    {
     "data": {
      "text/plain": [
       "False"
      ]
     },
     "execution_count": 116,
     "metadata": {},
     "output_type": "execute_result"
    }
   ],
   "source": [
    "bool(False)\n",
    "bool(None)\n",
    "bool(0)\n",
    "bool(\"\")\n",
    "bool(())\n",
    "bool([])\n",
    "bool({})"
   ]
  },
  {
   "cell_type": "code",
   "execution_count": 117,
   "id": "bb8f106d",
   "metadata": {},
   "outputs": [
    {
     "name": "stdout",
     "output_type": "stream",
     "text": [
      "False\n"
     ]
    }
   ],
   "source": [
    "class myclass():\n",
    "  def __len__(self):\n",
    "    return 0\n",
    "\n",
    "myobj = myclass()\n",
    "print(bool(myobj))"
   ]
  },
  {
   "cell_type": "markdown",
   "id": "b8366178",
   "metadata": {},
   "source": [
    "### Functions can Return a Boolean"
   ]
  },
  {
   "cell_type": "code",
   "execution_count": 118,
   "id": "475d68a9",
   "metadata": {},
   "outputs": [
    {
     "name": "stdout",
     "output_type": "stream",
     "text": [
      "True\n"
     ]
    }
   ],
   "source": [
    "def myFunction() :\n",
    "  return True\n",
    "\n",
    "print(myFunction())"
   ]
  },
  {
   "cell_type": "code",
   "execution_count": 119,
   "id": "c57a4e83",
   "metadata": {},
   "outputs": [
    {
     "name": "stdout",
     "output_type": "stream",
     "text": [
      "YA!\n"
     ]
    }
   ],
   "source": [
    "def myFunction() :\n",
    "  return True\n",
    "\n",
    "\n",
    "if myFunction():\n",
    "  print(\"YA!\")\n",
    "else:\n",
    "  print(\"TIDAK!\")"
   ]
  },
  {
   "cell_type": "code",
   "execution_count": 120,
   "id": "2c371b1c",
   "metadata": {},
   "outputs": [
    {
     "name": "stdout",
     "output_type": "stream",
     "text": [
      "True\n"
     ]
    }
   ],
   "source": [
    "x = 8\n",
    "print(isinstance(x, int))"
   ]
  },
  {
   "cell_type": "code",
   "execution_count": null,
   "id": "0f03c57f",
   "metadata": {},
   "outputs": [],
   "source": []
  }
 ],
 "metadata": {
  "kernelspec": {
   "display_name": "Python 3",
   "language": "python",
   "name": "python3"
  },
  "language_info": {
   "codemirror_mode": {
    "name": "ipython",
    "version": 3
   },
   "file_extension": ".py",
   "mimetype": "text/x-python",
   "name": "python",
   "nbconvert_exporter": "python",
   "pygments_lexer": "ipython3",
   "version": "3.8.8"
  }
 },
 "nbformat": 4,
 "nbformat_minor": 5
}
