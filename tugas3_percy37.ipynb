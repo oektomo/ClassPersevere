{
 "cells": [
  {
   "cell_type": "markdown",
   "id": "229f4067",
   "metadata": {},
   "source": [
    "\n",
    "# Artificial Intelligence Application"
   ]
  },
  {
   "cell_type": "markdown",
   "id": "9cb6ae24",
   "metadata": {},
   "source": [
    "### Data Science Application"
   ]
  },
  {
   "cell_type": "markdown",
   "id": "38a601ee",
   "metadata": {},
   "source": [
    "<div class=\"alert alert-block alert-info\">\n",
    "<b>1. Search Engine</b> <br>\n",
    "    \n",
    "Ketika kita ingin mencari sesuatu di internet, biasanya kita menggunakan mesin pencari seperti Google, Safari, Yahoo, Opera, dan lain-lain. <br>\n",
    "    \n",
    "Penerapan data science dalam search engine adalah ketika kita ingin mencari seperti \" *Object Oriented Programming C++* \" maka pada saat kita klik ikon search maka google akan menemukan link website Petani Kode sebagai hasil pencarian paling atas untuk topik yang kita cari. <br>\n",
    "    \n",
    "Hal ini terjadi dikarenakan website Petani Kode merupakan website yang paling sering dikunjungi berdasarkan topik yang kita cari.\n",
    "<br> Jadi hasil ini didapatkan berdasarkan ilmu data science sehingga kita mendapatkan laman yang paling sering dikunjungi.\n",
    "</div>"
   ]
  },
  {
   "cell_type": "markdown",
   "id": "179bcea0",
   "metadata": {},
   "source": [
    "<div class=\"alert alert-block alert-info\">\n",
    "<b>2. Auto Complete</b> <br>\n",
    "    \n",
    "Fitur Auto Complete merupakan salah satu bagian penting dari Data Science. Dalam hal ini, pengguna mendapatkan kemudahan dimana pengguna hanya perlu mengetik beberapa kata atau kalimat, kemudian ia akan mendapatkan fitur untuk melengkapi baris kelimat secara otomatis.Auto complete digunakan dalam beberapa aplikasi, seperti Google Mail, dan beberapa mesin pencari di sosial media.\n",
    "</div>"
   ]
  },
  {
   "cell_type": "markdown",
   "id": "dd6e63bb",
   "metadata": {},
   "source": [
    "### Computer Vision Application"
   ]
  },
  {
   "cell_type": "markdown",
   "id": "46b964c7",
   "metadata": {},
   "source": [
    "<div class=\"alert alert-block alert-info\">\n",
    "<b>1. Pendeteksi Pejalan Kaki</b> <br>\n",
    "    \n",
    "Deteksi pejalan kaki sangat penting untuk sistem transporasi pintar. Deteksi pejalan kaki melibatkan banyak sensor, seperti kamera CCTV atau IP tradisional, perangkat pencitraan termal, perangkat pencitraan inframerah-dekat, dan kamera RGB onboard. <br>\n",
    "    \n",
    "Algoritme pendeteksian orang berdasarkan pada tanda tangan inframerah, fitur bentuk, fitur gradien, pembelajaran mesin, atau fitur gerak. <br>\n",
    "    \n",
    "Deteksi pejalan kaki yang mengandalkan jaringan saraf konvolusi dalam telah membuat kemajuan yang signifikan, bahkan dengan deteksi pejalan kaki yang sangat tertutup.\n",
    "</div>"
   ]
  },
  {
   "cell_type": "markdown",
   "id": "d663cd2a",
   "metadata": {},
   "source": [
    "<div class=\"alert alert-block alert-info\">\n",
    "<b>2. Pelacakan Customer</b> <br>\n",
    "    \n",
    "Algoritma Deep Learning dapat memproses aliran video secara real-time untuk menganalisis langkah pelanggan di toko ritel. <br>\n",
    "    \n",
    "Algoritme pembelajaran mesin mendeteksi orang secara anonim dan tanpa kontak untuk menganalisis waktu yang dihabiskan di berbagai area, waktu tunggu, waktu antrean, dan menilai kualitas layanan.<br>\n",
    "\n",
    "Analisis perilaku pelanggan dapat membantu meningkatkan tata letak toko ritel, meningkatkan kepuasan pelanggan, dan mengukur metrik utama secara objektif di berbagai lokasi. <br>\n",
    "</div>"
   ]
  },
  {
   "cell_type": "markdown",
   "id": "f5fbb05b",
   "metadata": {},
   "source": [
    "### Natural Languange Processing Application"
   ]
  },
  {
   "cell_type": "markdown",
   "id": "7b221e56",
   "metadata": {},
   "source": [
    "<div class=\"alert alert-block alert-info\">\n",
    "<b>1. Penerjemah Bahasa</b> <br>\n",
    "    \n",
    "Salah satu tanda Anda menyontek pada saat mengerjakan soal bahasa adalah bahwa secara tata bahasa, itu berantakan. <br>\n",
    "Dengan NLP, penerjemah online dapat menerjemahkan bahasa dengan lebih akurat dan menyajikan hasil yang benar secara tata bahasa. <br>\n",
    "Ini sangat membantu ketika mencoba berkomunikasi dengan seseorang dalam bahasa lain. Tidak hanya itu, saat menerjemahkan dari bahasa lain ke bahasa Anda sendiri, alat sekarang mengenali bahasa berdasarkan teks yang dimasukkan dan menerjemahkannya.\n",
    "</div>"
   ]
  },
  {
   "cell_type": "markdown",
   "id": "bcf5b336",
   "metadata": {},
   "source": [
    "<div class=\"alert alert-block alert-info\">\n",
    "<b>2.Analisis Sentimen</b> <br>\n",
    "    \n",
    "Ucapan manusia bisa sangat sulit untuk ditafsirkan karena melibatkan ekspresi dan sentimen di luar makna literal. Ungkapan seperti sarkasme, ancaman, seruan dll seringkali sangat sulit dikenali oleh komputer.\n",
    "\n",
    "Namun, dengan bantuan Natural Language Understanding (NLU) yang merupakan subbidang dari Natural Language Processing, mesin ini mampu menangkap berbagai sentimen yang mungkin dipaksakan melalui perintah pengguna.\n",
    "\n",
    "Melalui analisis sentimen, seseorang dapat menganalisis reaksi pelanggan, menangani perselisihan media sosial dengan menghapus komentar negatif dan mendapatkan wawasan dari basis pelanggan bisnis apa pun.\n",
    "</div>"
   ]
  },
  {
   "cell_type": "code",
   "execution_count": null,
   "id": "42b8c806",
   "metadata": {},
   "outputs": [],
   "source": []
  }
 ],
 "metadata": {
  "kernelspec": {
   "display_name": "Python 3",
   "language": "python",
   "name": "python3"
  },
  "language_info": {
   "codemirror_mode": {
    "name": "ipython",
    "version": 3
   },
   "file_extension": ".py",
   "mimetype": "text/x-python",
   "name": "python",
   "nbconvert_exporter": "python",
   "pygments_lexer": "ipython3",
   "version": "3.8.8"
  }
 },
 "nbformat": 4,
 "nbformat_minor": 5
}
