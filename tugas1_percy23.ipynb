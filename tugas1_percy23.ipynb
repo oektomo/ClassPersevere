{
 "cells": [
  {
   "cell_type": "markdown",
   "metadata": {},
   "source": [
    "# Tugas 1 Data Type"
   ]
  },
  {
   "cell_type": "markdown",
   "id": "6a1febb9",
   "metadata": {},
   "source": [
    "# Python Data Types"
   ]
  },
  {
   "cell_type": "code",
   "execution_count": null,
   "id": "eaeedb34",
   "metadata": {},
   "outputs": [
    {
     "name": "stdout",
     "output_type": "stream",
     "text": [
      "1\n",
      "2.8\n",
      "1j\n",
      "1.0\n",
      "2\n",
      "(1+0j)\n"
     ]
    }
   ],
   "source": [
    "# complex data type adalah tipe data untuk bilangan imajiner, harus menggunakan j sebagai lambang bilangan imajiner\n",
    "varComplex = 1j\n",
    "\n",
    "# tuple data type adalah tipe data untuk array berisi campuran data type\n",
    "varTuple = [1, \"Banana\", 2.5]\n",
    "\n",
    "# Type conversion\n",
    "varInt = 1\n",
    "varFloat = 2.8\n",
    "\n",
    "# convert int to float\n",
    "a = float(varInt)\n",
    "\n",
    "# convert float to int\n",
    "b = int(varFloat)\n",
    "\n",
    "# convert int to complex\n",
    "c = complex(varInt)\n",
    "\n",
    "print(varInt)\n",
    "print(varFloat)\n",
    "print(varComplex)\n",
    "\n",
    "print(a)\n",
    "print(b)\n",
    "print(c)"
   ]
  },
  {
   "cell_type": "code",
   "execution_count": null,
   "id": "f789682b",
   "metadata": {},
   "outputs": [
    {
     "name": "stdout",
     "output_type": "stream",
     "text": [
      "7\n"
     ]
    }
   ],
   "source": [
    "# Random number harus diimport dulu karena bukan modul bawaan\n",
    "import random\n",
    "\n",
    "print(random.randrange(1,10))"
   ]
  },
  {
   "cell_type": "code",
   "execution_count": null,
   "id": "a478faad",
   "metadata": {},
   "outputs": [],
   "source": [
    "# Menspesifikan data type\n",
    "x = int(1.98)\n",
    "y = float (3)\n",
    "z = str(\"2.09\")"
   ]
  },
  {
   "cell_type": "code",
   "execution_count": null,
   "id": "f45fea23",
   "metadata": {},
   "outputs": [
    {
     "name": "stdout",
     "output_type": "stream",
     "text": [
      "Lorem, ipsum dolor sit amet consectetur adipisicing elit. \n",
      "Sunt dolor reprehenderit modi dolores aliquam, voluptas nemo? \n",
      "Sed, amet accusantium debitis ipsa asperiores odio totam! \n",
      "Hic debitis a architecto repellendus molestiae?\n",
      "\n"
     ]
    }
   ],
   "source": [
    "# Multiline string menggunakan 3 tanda petik\n",
    "a = \"\"\"Lorem, ipsum dolor sit amet consectetur adipisicing elit. \n",
    "Sunt dolor reprehenderit modi dolores aliquam, voluptas nemo? \n",
    "Sed, amet accusantium debitis ipsa asperiores odio totam! \n",
    "Hic debitis a architecto repellendus molestiae?\n",
    "\"\"\"\n",
    "\n",
    "print(a)\n",
    "\n"
   ]
  },
  {
   "cell_type": "code",
   "execution_count": null,
   "id": "4faf8182",
   "metadata": {},
   "outputs": [
    {
     "name": "stdout",
     "output_type": "stream",
     "text": [
      "e\n",
      "b\n",
      "a\n",
      "n\n",
      "a\n",
      "n\n",
      "a\n"
     ]
    }
   ],
   "source": [
    "# String di Python adalah sebuah array!\n",
    "a = \"Hello World!\"\n",
    "print(a[1])\n",
    "\n",
    "# Karena String adalah sebuah array, maka dapat di-loop\n",
    "for x in \"banana\":\n",
    "    print(x)"
   ]
  },
  {
   "cell_type": "code",
   "execution_count": null,
   "id": "4b0a3320",
   "metadata": {},
   "outputs": [
    {
     "name": "stdout",
     "output_type": "stream",
     "text": [
      "12\n"
     ]
    }
   ],
   "source": [
    "# command len() akan me-return panjang String\n",
    "a = \"Hello World!\"\n",
    "print(len(a))"
   ]
  },
  {
   "cell_type": "code",
   "execution_count": null,
   "id": "988ca0d2",
   "metadata": {},
   "outputs": [
    {
     "name": "stdout",
     "output_type": "stream",
     "text": [
      "True\n",
      "False\n",
      "Yes, 'free' is present.\n"
     ]
    }
   ],
   "source": [
    "# Untuk mengecek apakah sebuah kata/frase ada dalam String dapat menggunakan in\n",
    "txt = \"The best things in life are free!\"\n",
    "print(\"free\" in txt)\n",
    "print(\"expensive\" in txt)\n",
    "\n",
    "# Menggunakan if\n",
    "if \"free\" in txt:\n",
    "    print(\"Yes, 'free' is present.\")"
   ]
  },
  {
   "cell_type": "code",
   "execution_count": null,
   "id": "78722b9b",
   "metadata": {},
   "outputs": [
    {
     "name": "stdout",
     "output_type": "stream",
     "text": [
      "llo\n",
      "Hello\n",
      "llo World!\n",
      "Worl\n"
     ]
    }
   ],
   "source": [
    "# Slicing\n",
    "a = \"Hello World!\"\n",
    "print(a[2:5])\n",
    "\n",
    "# Kalo mau dari awal kasih string kosong\n",
    "print(a[:5])\n",
    "\n",
    "# Kalo mau sampai akhir kasih string kosong\n",
    "print(a[2:])\n",
    "\n",
    "# Negative indexing akan running dari akhir ke awal\n",
    "\n",
    "# Get the characters:\n",
    "# From: \"W\" in \"World!\" (position -6)\n",
    "# To, but not included: \"d\" in \"World!\" (position -2):\n",
    "print(a[-6:-2])"
   ]
  }
 ],
 "metadata": {
  "language_info": {
   "name": "python"
  },
  "orig_nbformat": 4
 },
 "nbformat": 4,
 "nbformat_minor": 2
}
