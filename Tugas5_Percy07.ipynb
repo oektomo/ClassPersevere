{
 "cells": [
  {
   "cell_type": "markdown",
   "id": "c68a412c",
   "metadata": {},
   "source": [
    "# SESI PAGI"
   ]
  },
  {
   "cell_type": "markdown",
   "id": "0ea0697b",
   "metadata": {},
   "source": [
    "# Python OOP"
   ]
  },
  {
   "cell_type": "markdown",
   "id": "671e5bd3",
   "metadata": {},
   "source": [
    "**1) Apa itu OOP dan cobalah buat 2 implementasi konsep OOP menggunakan python!**\n",
    "\n",
    "Jawab : Onject Oriented Programming (OOP) adalah paradigma pemrograman yang menyediakan sarana untuk menyusun program sehingga properti dan perilaku digabungkan ke dalam objek individual.\n",
    "\n",
    "Contoh Implementasi OOP:"
   ]
  },
  {
   "cell_type": "code",
   "execution_count": 2,
   "id": "02e97ee4",
   "metadata": {},
   "outputs": [
    {
     "name": "stdout",
     "output_type": "stream",
     "text": [
      "luas segitiga1: 25.0\n",
      "luas segitiga2: 50.0\n"
     ]
    }
   ],
   "source": [
    "class Segitiga:\n",
    "  def __init__(self, alas, tinggi):\n",
    "    self.alas = alas\n",
    "    self.tinggi = tinggi\n",
    "\n",
    "  def get_luas(self):\n",
    "    return 0.5 * self.alas * self.tinggi\n",
    "\n",
    "segitiga1 = Segitiga(5, 10)\n",
    "segitiga2 = Segitiga(10, 10)\n",
    "\n",
    "print('luas segitiga1:', segitiga1.get_luas())\n",
    "print('luas segitiga2:', segitiga2.get_luas())  "
   ]
  },
  {
   "cell_type": "code",
   "execution_count": 3,
   "id": "1aa87653",
   "metadata": {},
   "outputs": [
    {
     "name": "stdout",
     "output_type": "stream",
     "text": [
      "Farah\n",
      "20\n"
     ]
    }
   ],
   "source": [
    "class Person:\n",
    "  def __init__(self, name, age):\n",
    "    self.name = name\n",
    "    self.age = age\n",
    "\n",
    "p1 = Person(\"Farah\", 20)\n",
    "\n",
    "print(p1.name)\n",
    "print(p1.age)\n"
   ]
  },
  {
   "cell_type": "markdown",
   "id": "b69bd939",
   "metadata": {},
   "source": [
    "**2) Sebutkan dan jelaskan 2 jenis modules yang ada di Python!**\n",
    "\n",
    "Jawab:\n",
    "- modul pandas merupakan modul yang digunakan untuk handling data, dan membuat dataframe dari data dictionary / matriks\n",
    "- modul numpy merupakan modul yang berfungsi untuk operasi matematika terutama matriks dan linear aljabar"
   ]
  },
  {
   "cell_type": "markdown",
   "id": "6a8ef821",
   "metadata": {},
   "source": [
    "**3)Hitunglah berapa hasil dari √175 + 4√7 + (1/3) + ³log 81 menggunakan module math!**\n",
    "\n",
    "Jawab :"
   ]
  },
  {
   "cell_type": "code",
   "execution_count": 1,
   "id": "68d13433",
   "metadata": {
    "scrolled": true
   },
   "outputs": [
    {
     "name": "stdout",
     "output_type": "stream",
     "text": [
      "28.145095132914648\n"
     ]
    }
   ],
   "source": [
    "import math\n",
    "hasil = math.sqrt(175) + (math.sqrt(7)*4) + (1/3) + math.log(81, 3)\n",
    "\n",
    "print(hasil)"
   ]
  },
  {
   "cell_type": "markdown",
   "id": "169236a7",
   "metadata": {},
   "source": [
    "**4)Apa itu custom exception handling dan berikan 1 contoh implementasinya!**\n",
    "\n",
    "Jawab :\n",
    "Exception Handling merupakan mekanisme yang paling diperlukan dalam menangani error yang terjadi pada saat runtime (program berjalan) atau yang lebih dikenal dengan sebutan runtime error."
   ]
  },
  {
   "cell_type": "code",
   "execution_count": 2,
   "id": "2ded41d2",
   "metadata": {},
   "outputs": [
    {
     "name": "stdout",
     "output_type": "stream",
     "text": [
      "Itu bukan tipe integer atau angka\n"
     ]
    }
   ],
   "source": [
    "#Contoh exception handling\n",
    "try:\n",
    "    J = int(raw_input(\"Tolong isi angka disini: \"))\n",
    "    print(J)\n",
    "except:\n",
    "    print(\"Itu bukan tipe integer atau angka\")"
   ]
  },
  {
   "cell_type": "markdown",
   "id": "929f56a3",
   "metadata": {},
   "source": [
    "# Artificial Intelligence \n"
   ]
  },
  {
   "cell_type": "markdown",
   "id": "0c806ca4",
   "metadata": {},
   "source": [
    "**1)Apa perbedaan dari structured dan unstructured data dan sebutkan 3 sumber data!**\n",
    "\n",
    "Jawab :\n",
    "    \n",
    "Data Terstrukttur :\n",
    "- Sangat terorganisir dan mudah dicari dengan kueri atau algoritme.\n",
    "- Dapat dengan cepat dikonsolidasikan menjadi fakta.\n",
    "- Mengikuti skema yang telah ditentukan sebelumnya.\n",
    "- Biasanya berada di bidang tetap.\n",
    "- Contoh tipikal adalah Relational Database Management System (RDBMS).\n",
    "- Skema ditentukan sebelum konten dibuat dan data diisi.\n",
    "\n",
    "Yang termasuk Data Terstruktur :\n",
    "- Kontrol Inventaris\n",
    "- Transaksi penjualan\n",
    "- Aktivitas ATM\n",
    "\n",
    "\n",
    "Data Tidak Terstruktur :\n",
    "- Tidak ada struktur yang dapat diidentifikasi untuk jenis data ini.\n",
    "- Memiliki struktur internal, tetapi tidak memiliki skema yang telah ditentukan sebelumnya.\n",
    "- Tidak dapat disimpan dalam baris dan kolom seperti database relasional.\n",
    "- Tidak ada model data tetap, tidak teorganisir.\n",
    "- Memerlukan lebih banyak ruang penyimpanan daripada data terstruktur.\n",
    "\n",
    "Yang termasuk Tidak Terstruktur :\n",
    "- Media sosial\n",
    "- Situs web\n",
    "- Email\n",
    "    "
   ]
  },
  {
   "cell_type": "markdown",
   "id": "42d61d6a",
   "metadata": {},
   "source": [
    "**2)Jelaskan perbedaan AI, Machine Learning dan Deep Learning!**\n",
    "\n",
    "Jawab :\n",
    "Deep Learning adalah bagian dari Machine Learning, dan Machine Learning adalah bagian dari Artificial Intelligence yang merupakan istilah umum untuk setiap program komputer yang melakukan sesuatu yang cerdas. Dengan kata lain, semua Machine Learning adalah Artificial Intelligence, tetapi tidak semua Artificial Intelligence adalah Machine Learning dan sebagainya.\n",
    "- Artificial Intelligence berarti membuat komputer meniru perilaku manusia dalam beberapa cara dengan konsep konsepnya “membawa kepintaran manusia ke dalam mesin.”\n",
    "- Machine learning adalah bagian dari Artificial Intelligence dan terdiri dari teknik yang memungkinkan komputer untuk mengetahui berbagai hal dari data dan mengirimkan aplikasi Artificial Intelligence.\n",
    "- Deep Learning adalah bagian dari machine learning yang memungkinkan komputer untuk memecahkan masalah yang lebih kompleks.\n",
    "\n",
    "\n"
   ]
  },
  {
   "cell_type": "markdown",
   "id": "21cf258c",
   "metadata": {},
   "source": [
    "**3)Apa perbedaan Machine Learning dengan Tradisional software?**\n",
    "\n",
    "Jawab : \n",
    "- Machine Learning hanya perlu memasukkan data dan jawaban pada algoritma dengan tujuan mendapatkan pola dari hubungan antara input dengan output. sehingga dapat mempridiksi suatu output dari input yg ada.\n",
    "- Tradisional Software hanya perlu memasukkan aturan dan data (input) sehingga komputer bekerja sesuai yang diperintahkan saja."
   ]
  },
  {
   "cell_type": "markdown",
   "id": "fce11c72",
   "metadata": {},
   "source": [
    "**4)Sebutkan 3 contoh aplikasi Machine Learning di sektor smart city dan agriculture!**\n",
    "\n",
    "Jawab : \n",
    "\n",
    "Smart City:\n",
    "- Autonom Car => autonom car atau mobil otonom yang bisa berkendara secara otomatis. Mobil otonom sendiri terbentuk dari pengembangan machine learning yaitu machine vision. Dengan menerapkan machine learning pada mobil otonom, mobil dirancang tidak hanya dapat berkendara sendiri namun juga mampu membaca rambu-rambu lalu lintas serta mengetahui arah dan tujuan yang harus dilalui.\n",
    "- Videos Surveillance => Videos surveillance atau pengawasan video merupakan teknologi baru yang merupakan penerapan dari machine learning yang disematkan pada CCTV untuk mendeteksi suatu tindak kejahatan atau kecelakaan.\n",
    "- Covid-19 Likelihood Meter 2.0 for Healthhcare Provider (CLM2.0HP) => enter for Indonesia's Strategic Development Initiatives (CISDI) dan Nalagenetics saat ini mengembangkan machine learning yang membantu memetakan profil risiko petugas kesehatan.\n",
    "\n",
    "Agriculture:\n",
    "- Pengelompokan Status Ketahanan Pangan Suatu Daerah => Aplikasi algoritma unsupervised learning dalam bidang pertanian adalah pengelompokan status ketahanan pangan di suatu daerah.\n",
    "- Pengelompokan Tanaman Gandum dengan Karakteristik Perbedaan Benih =>  penggunaan algoritma unsupervised learning digunakan untuk mengklasifikasikan tanaman gandum di India.Penelitian ini menggunakan algoritma jenis K-Means, Fuzzy C-Means, dan pengelompokan berbasis hierarki. Penentuan klasifikasi ini menggunakan Software R-Studio. \n",
    "- Klasterisasi dan Pemetaan Lahan Pertanian Jagung => algoritma unsupervised learning juga diterapkan pada klasterisasi dan pemetaan lahan pertanian. Hal ini sangat bermanfaat bagi petani untuk mengetahui kesuburan tanah dan unggulnya potensi suatu wilayah yang cocok untuk komoditas apa yang nantinya akan ditanam."
   ]
  },
  {
   "cell_type": "markdown",
   "id": "d1dfc47e",
   "metadata": {},
   "source": [
    "# Maths for AI"
   ]
  },
  {
   "cell_type": "markdown",
   "id": "7ed7d492",
   "metadata": {},
   "source": [
    "**1)Mengapa ilmu matematika penting ketika mempelajari AI?**\n",
    "\n",
    "Jawab :\n",
    "\n",
    "Alasan kenapa matematika penting dalam AI : \n",
    "- Sebagian besar pembaca menulis makalah penelitian mereka menggunakan persamaan, rumus, teknik, hasil, dll., dan bagaimana subjek yang diperlukan terlibat untuk menyelesaikan tugas dalam perspektif matematika murni. Anda harus memahami Matematika untuk memahami Notasi, Mata Pelajaran, dan teknik terapan.\n",
    "- Dalam beberapa Proyek AI Kompleks seperti SDC, Robotika, NLP, Anda perlu menentukan kerangka kerja sendiri berdasarkan kerangka kerja yang sudah ada seperti PyTorch, Tensorflow, Keras, dll., Untuk mengembangkan proyek yang kompleks, Anda harus jeli dalam cara kerja internal Algoritma AI.\n",
    "- Terkadang harus menyempurnakan algoritme dengan mengubah nilai parameter, jika tidak tertarik pada perspektif algoritme dan memahami kerja internal matematika, tidak akan mencapai penyetelan yang tepat.\n",
    "- Sebagai seorang arsitek atau peneliti AI, tidak dapat menyampaikan hasil eksperimen dengan cara biasa, Anda harus menjelaskannya secara matematis."
   ]
  },
  {
   "cell_type": "markdown",
   "id": "904c12e7",
   "metadata": {},
   "source": [
    "**2)Jelaskan perbedaan vektor dan skalar!**\n",
    "\n",
    "Jawab :\n",
    "- Vektor merupakan besaran yang memiliki nilai dan arah.\n",
    "- Skalar merupakan konstanta atau besaran yang memiliki nilai.\n"
   ]
  },
  {
   "cell_type": "markdown",
   "id": "0e74f0eb",
   "metadata": {},
   "source": [
    "**3)Apa perbedaan dari Jarak Euclidean dan Manhattan?**\n",
    "\n",
    "Jawab :\n",
    "- Euclidean Distance merupakan jarak terpendek antara dua titik.Jarak euclidean umumnya digunakan saat menghitung jarak antara dua baris data yang memiliki nilai numerik, seperti floating point atau nilai integer.\n",
    "- Jarak Manhattan adalah jumlah perbedaan mutlak antara titik-titik di semua dimensi.\n",
    "\n",
    "Penggunaan jarak Manhattan sangat tergantung pada jenis sistem koordinat yang digunakan dataset Anda. Sementara jarak Euclidean memberikan jarak terpendek atau minimum antara dua titik, Manhattan memiliki implementasi spesifik."
   ]
  },
  {
   "cell_type": "markdown",
   "id": "2d3d72a2",
   "metadata": {},
   "source": [
    "**4) Apa kegunaan matriks dalam ilmu matematika ketika menerapkan AI?**\n",
    "\n",
    "Jawab :\n",
    "\n",
    "Dalam kecerdasan buatan ada yang namanya proses pembelajaran atau pelatihan dengan diinputkan sejumlah data yang berupa matriks. Proses belajar ini sangat penting bagi AI, karena sangat menentukan seberapa akurat dalam memprediksi hingga mampu mengambil sebuah keputusan secara akurat dimasa depan. Semakin akurat sebuah AI mampu memprediksi sebuah masalah, semakin besar pula jumlah matriks yang harus diinputkan pada saat pelatihan.Semakin banyak jumlah elemen yang dilimiliki matriks, semakin meningkat pula langkah kalkulasi pada komputer, karena setiap kali penggandaan jumlah elemen matriks dapat memperpanjang proses kalkulasi hingga 8x lipat.Kecepatan dalam kalkulasi pelatihan data matriks yang besar untuk kecerdasan buatan menjadi sangat penting, mengingat kita membutuhkan waktu yang cepat dan dengan sumber daya yang efisien. "
   ]
  },
  {
   "cell_type": "markdown",
   "id": "f10bf9e9",
   "metadata": {},
   "source": [
    "# Machine Learning \n"
   ]
  },
  {
   "cell_type": "markdown",
   "id": "eecd32e4",
   "metadata": {},
   "source": [
    "**1)Jelaskan perbedaan supervised dan unsupervised learning dan sebutkan 2 contohnya!**\n",
    "\n",
    "Jawab :\n",
    "\n",
    "**Supervised Learning**\n",
    "\n",
    "Supervised Learning umumnya digunakan untuk menemukan pola dalam data masukan yang diberi label sehingga memungkinkan kita menghasilkan data keluaran yang benar secara efektif.\n",
    "\n",
    "Ciri-ciri:\n",
    "- Data training telah diberi label\n",
    "- Algoritma memprediksi output dari input\n",
    "\n",
    "contoh algoritma:\n",
    "- Klasifikasi (memetakan masukan ke label keluaran)\n",
    "- Regresi (memetakan masukan ke keluaran berkelanjutan)\n",
    "\n",
    "**Unsupervised Learning**\n",
    "\n",
    "Unsupervised Learning umumnya digunakan untuk mempelajari struktur karakteristik data kita tanpa menggunakan label yang disediakan secara eksplit.\n",
    "\n",
    "Ciri-ciri:\n",
    "- Data training tidak berlabel\n",
    "- Algoritma mempelajari struktur karakteristik dari data masukan.\n",
    "\n",
    "Contoh algoritma:\n",
    "- Clustering (mempelajari hubungan antara fitur individu)\n",
    "- Dimensional Reduction (metode untuk mengurangi fitur)\n",
    "\n",
    "                          "
   ]
  },
  {
   "cell_type": "markdown",
   "id": "41c68c05",
   "metadata": {},
   "source": [
    "**2)Sebutkan setiap tahap yang ada di Machine Learning life cycle dan jelaskan!**\n",
    "\n",
    "Jawab :\n",
    "\n",
    "Problem Scoping => Data Acquisition => Data Exploration => Modelling => Evaluation => Deployment"
   ]
  },
  {
   "cell_type": "markdown",
   "id": "a09cd73b",
   "metadata": {},
   "source": [
    "**3)Apa perbedaan regression dengan clustering?**\n",
    "\n",
    "Jawab :\n",
    "- Redression adalah tipe lain dari metode supervised learning yang menggunakan algoritma untuk memahami hubungan antara variabel dependen dan independen, dan melakukan prediksi nilai numerik variabel dependen berdasarkan variabel independent.\n",
    "- Clustering adalah teknik machine learning untuk mengelompokkan data tidak berlabel (unlabelled data) berdasarkan persamaan atau perbedaannya."
   ]
  },
  {
   "cell_type": "markdown",
   "id": "23997711",
   "metadata": {},
   "source": [
    "**4)pa itu algoritma Artificial Neural Network dan untuk apa fungsinya?**\n",
    "\n",
    "Jawab :\n",
    "\n",
    "Artificial Neural Networks (ANN) atau Jaringan Syaraf Tiruan (JST) adalah paradigma pemrosesan informasi yang terinspirasi dari cara kerja sistem saraf (otak) manusia dalam memproses informasi.\n",
    "\n",
    "Fungsinya:\n",
    "- Kemampuannya berguna untuk robotika dan sistem pengenalan pola\n",
    "- JST memilki potensi toleransi yang tinggi\n",
    "- Keluaran ANN tidak sepenuhnya dibatasi oleh masukan dan hasil yang diberikan kepada mereka pada awalnya oleh sistem pakar.\n",
    "- ANN mampu men-debug atau mendiagnosis jaringan sendiri.\n",
    "- Sistem non-linear yang memiliki kemampuan untuk menemukan jalan pintas untuk mencapai solusi komputasi yang mahal."
   ]
  },
  {
   "cell_type": "code",
   "execution_count": null,
   "id": "bc36cb5a",
   "metadata": {},
   "outputs": [],
   "source": []
  }
 ],
 "metadata": {
  "kernelspec": {
   "display_name": "Python 3 (ipykernel)",
   "language": "python",
   "name": "python3"
  },
  "language_info": {
   "codemirror_mode": {
    "name": "ipython",
    "version": 3
   },
   "file_extension": ".py",
   "mimetype": "text/x-python",
   "name": "python",
   "nbconvert_exporter": "python",
   "pygments_lexer": "ipython3",
   "version": "3.9.7"
  }
 },
 "nbformat": 4,
 "nbformat_minor": 5
}
