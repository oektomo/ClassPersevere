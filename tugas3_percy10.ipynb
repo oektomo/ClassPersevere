{
 "cells": [
  {
   "cell_type": "markdown",
   "id": "80916a92",
   "metadata": {},
   "source": [
    "# Macam macam bidang keilmuan dalam AI"
   ]
  },
  {
   "cell_type": "markdown",
   "id": "cd6e0bfc",
   "metadata": {},
   "source": [
    "## 1. Data Science\n",
    "### a. Chatbot kesehatan\n",
    "Di Inggris, ada sebuah penerapan Data Science adalah chatbot kesehatan yang bernama Babylon Health yang dapat digunakan untuk mendiagnosa penyakit. Tidak hanya dapat memberikan jawaban dalam bentuk chat, namun chatbot ini juga bisa berinteraksi dengan suara karena telah dilengkapi dengan fitur speech recognition. Ini tentunya akan sangat mempermudah kita karena hasil diagnosa yang diberikan dapat memberikan gambaran tentang penyakit yang kita miliki meskipun kita tetap harus mengunjungi dokter untuk lebih jelasnya.\n",
    "\n",
    "### b. Filter pesan spam\n",
    "Merupakan salah satu contoh dari pengaplikasian Data Science. Algoritma Decision Tree merupakan cikal bakal dari algoritma yang digunakan untuk spam filtering, dimana mesin akan menentukan apakah pesan tersebut termasuk sebagai pesan spam atau bukan."
   ]
  },
  {
   "cell_type": "markdown",
   "id": "d196efd5",
   "metadata": {},
   "source": [
    "## 2. Computer vision\n",
    "### a. Machine vision\n",
    "Pada bidang ini, informasi diekstraksi untuk tujuan mendukung proses manufaktur. Salah satu contohnya adalah kontrol kualitas di mana detail atau produk akhir secara otomatis diperiksa untuk menemukan cacat. Contoh lain adalah pengukuran posisi dan orientasi detail untuk dijemput oleh lengan robot. Machine vision juga banyak digunakan dalam proses pertanian untuk menghilangkan bahan makanan yang tidak diinginkan dari bahan curah, sebuah proses yang disebut pemilahan optik.\n",
    "\n",
    "### b. Kendaraan otonom\n",
    "Kendaraan otonom sepenuhnya biasanya menggunakan visi komputer untuk navigasi, yaitu untuk mengetahui di mana itu, atau untuk menghasilkan peta lingkungannya (SLAM) dan untuk mendeteksi hambatan. Ini juga dapat digunakan untuk mendeteksi peristiwa spesifik tugas tertentu, misalnya, UAV yang mencari kebakaran hutan. Contoh sistem pendukung adalah sistem peringatan hambatan di mobil, dan sistem untuk pendaratan pesawat secara otonom. "
   ]
  },
  {
   "cell_type": "markdown",
   "id": "340b0ef9",
   "metadata": {},
   "source": [
    "## 3. Natural Language Processing\n",
    "### a. Bixby (Samsung)\n",
    "Samsung mengembangkan sendiri aplikasi kecerdasan buatan mereka sendiri yang disebut Bixby. Bixby mampu mempelajari pola dan merekomendasikan rutinitas tugas otomatis sehingga pengguna perangkat Samsung tidak lagi harus menghabiskan waktu untuk mengulangi tugas dan tugas yang sama. Fitur ini disebut dengan Bixby Routine. Lalu ada fitur Quick Commands, yang dengannya Bixby dapat melakukan banyak tugas dalam urutan tertentu setelah mendengar pemicu yang telah dipersiapkan.\n",
    "\n",
    "### b. Google assistant \n",
    "Ingin mengakses semua aplikasi di HP tanpa harus menyentuh layar ataupun mengetik? Anda bisa menyuruh Google Assistant. Ya, dengan aplikasi ini, Anda bisa merasakan seperti memiliki asisten pribadi. Anda hanya perlu mengeluarkan perintah dan Google akan melakukannya untuk Anda. Misalnya, Anda ingin menelpon seseorang hanya perlu mengatakan \"calling Mom\". "
   ]
  }
 ],
 "metadata": {
  "kernelspec": {
   "display_name": "Python 3 (ipykernel)",
   "language": "python",
   "name": "python3"
  },
  "language_info": {
   "codemirror_mode": {
    "name": "ipython",
    "version": 3
   },
   "file_extension": ".py",
   "mimetype": "text/x-python",
   "name": "python",
   "nbconvert_exporter": "python",
   "pygments_lexer": "ipython3",
   "version": "3.10.2"
  }
 },
 "nbformat": 4,
 "nbformat_minor": 5
}
