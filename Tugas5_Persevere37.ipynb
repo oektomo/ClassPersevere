{
  "nbformat": 4,
  "nbformat_minor": 0,
  "metadata": {
    "colab": {
      "name": "Tugas5_Persevere37.ipynb",
      "provenance": [],
      "collapsed_sections": []
    },
    "kernelspec": {
      "name": "python3",
      "display_name": "Python 3"
    },
    "language_info": {
      "name": "python"
    }
  },
  "cells": [
    {
      "cell_type": "markdown",
      "source": [
        "##Python OOP"
      ],
      "metadata": {
        "id": "0P2Q-iZiwv26"
      }
    },
    {
      "cell_type": "markdown",
      "source": [
        "**1.Apa itu OOP dan cobalah buat 2 implementasi konsep OOP menggunakan python!**"
      ],
      "metadata": {
        "id": "vgbCExUsw72l"
      }
    },
    {
      "cell_type": "markdown",
      "source": [
        "Object oriented programming (OOP) atau Pemrograman berbasis objek adalah paradigma pemrograman yang menyediakan sarana untuk menyusun program sehingga properti dan perilaku digabungkan ke dalam objek individual"
      ],
      "metadata": {
        "id": "J3DiVnQzBIVE"
      }
    },
    {
      "cell_type": "code",
      "execution_count": null,
      "metadata": {
        "colab": {
          "base_uri": "https://localhost:8080/"
        },
        "id": "vC5vwX8wvUhd",
        "outputId": "56a3dcdb-75b7-4605-9947-bb9adf2cf87b"
      },
      "outputs": [
        {
          "output_type": "stream",
          "name": "stdout",
          "text": [
            "Room: 12, Rating: 4.5,Price: 120\n",
            "Room: 12, Rating: 4.3,Price: 220\n",
            "Room: 14, Rating: 4.7,Price: 320\n"
          ]
        }
      ],
      "source": [
        "#Implementasi OOP\n",
        "\n",
        "class Room:\n",
        "    def __init__(self, number, rating,price):\n",
        "        self.number = number\n",
        "        self.rating = rating\n",
        "        self.price = price\n",
        "\n",
        "    def __repr__(self):\n",
        "        return f\"Room: {self.number}, Rating: {self.rating},Price: {self.price}\"\n",
        "\n",
        "\n",
        "room1 = Room(12, 4.5, 120)\n",
        "room2 = Room(12, 4.3, 220)\n",
        "room3 = Room(14, 4.7, 320)\n",
        "\n",
        "print(room1)\n",
        "print(room2)\n",
        "print(room3)"
      ]
    },
    {
      "cell_type": "code",
      "source": [
        "class Person(object):\n",
        "    def __init__(self, name, idnumber):\n",
        "        self.name = name\n",
        "        self.idnumber = idnumber\n",
        "  \n",
        "    def display(self):\n",
        "        print(self.name)\n",
        "        print(self.idnumber)\n",
        "          \n",
        "    def details(self):\n",
        "        print(\"My name is {}\".format(self.name))\n",
        "        print(\"IdNumber: {}\".format(self.idnumber))\n",
        "    \n",
        "class Employee(Person):\n",
        "    def __init__(self, name, idnumber, salary):\n",
        "        self.salary = salary\n",
        "\n",
        "        Person.__init__(self, name, idnumber)\n",
        "          \n",
        "    def details(self):\n",
        "        print(\"My name is {}\".format(self.name))\n",
        "        print(\"IdNumber: {}\".format(self.idnumber))\n",
        "       \n",
        "a = Employee('Olivia', 748827, 120000)\n",
        "  \n",
        "\n",
        "a.display()\n",
        "a.details()"
      ],
      "metadata": {
        "id": "SpAKlTS9IX0p",
        "colab": {
          "base_uri": "https://localhost:8080/"
        },
        "outputId": "1b280483-0ecd-42a4-88f1-f618834824be"
      },
      "execution_count": 24,
      "outputs": [
        {
          "output_type": "stream",
          "name": "stdout",
          "text": [
            "Olivia\n",
            "748827\n",
            "My name is Olivia\n",
            "IdNumber: 748827\n"
          ]
        }
      ]
    },
    {
      "cell_type": "markdown",
      "source": [
        "**2. Sebut dan jelaskan 2 modul yang ada di python !**"
      ],
      "metadata": {
        "id": "7jP0nveRxH57"
      }
    },
    {
      "cell_type": "markdown",
      "source": [
        "1.  Numpy merupakan modul yang berfungsi untuk operasi matematika terutama matriks dan linear aljabar\n",
        "2.   Joblib merupakan modul Python yang berguna untuk menyediakan fungsionalitas pemrograman paralel.\n",
        "\n"
      ],
      "metadata": {
        "id": "sFamq3yFxLmA"
      }
    },
    {
      "cell_type": "markdown",
      "source": [
        "**3. Hitunglah berapa hasil dari √175 + 4√7 + (1/3) + ³log 81 menggunakan module math**"
      ],
      "metadata": {
        "id": "llR18gSjzDDr"
      }
    },
    {
      "cell_type": "code",
      "source": [
        "import math as m"
      ],
      "metadata": {
        "id": "8cDZ1YTozHW1"
      },
      "execution_count": null,
      "outputs": []
    },
    {
      "cell_type": "code",
      "source": [
        "x = m.sqrt(175) + (4*m.sqrt(7)) + (1/3) + m.log(81,3)\n",
        "\n",
        "print(x)"
      ],
      "metadata": {
        "colab": {
          "base_uri": "https://localhost:8080/"
        },
        "id": "uRLgFVHdzLsm",
        "outputId": "bd1e4633-575e-42c3-933d-f1397a574053"
      },
      "execution_count": null,
      "outputs": [
        {
          "output_type": "stream",
          "name": "stdout",
          "text": [
            "28.145095132914648\n"
          ]
        }
      ]
    },
    {
      "cell_type": "markdown",
      "source": [
        "**4. Apa itu custom exception handling dan berikan 1 contoh implementasinya!**"
      ],
      "metadata": {
        "id": "tHuF8-5Ozk2j"
      }
    },
    {
      "cell_type": "markdown",
      "source": [
        "exception handling , adalah penanganan error pada python, yaitu apabila error terjadi, maka seluruh program tidak akan berhenti, dan program akan menampilkan error tersebut"
      ],
      "metadata": {
        "id": "0R0pfl6-zpNQ"
      }
    },
    {
      "cell_type": "code",
      "source": [
        "try:  \n",
        "    a = int(input(\"Enter a:\"))    \n",
        "    b = int(input(\"Enter b:\"))    \n",
        "    c = a/b  \n",
        "except:  \n",
        "    print(\"Can't divide with zero\")  "
      ],
      "metadata": {
        "colab": {
          "base_uri": "https://localhost:8080/"
        },
        "id": "7HFvd2L4K2tC",
        "outputId": "7ced44f9-bfb0-43fb-dc0c-0234933a01ee"
      },
      "execution_count": 30,
      "outputs": [
        {
          "output_type": "stream",
          "name": "stdout",
          "text": [
            "Enter a:5\n",
            "Enter b:0\n",
            "Can't divide with zero\n"
          ]
        }
      ]
    },
    {
      "cell_type": "markdown",
      "source": [
        "##Artificial Intelligence"
      ],
      "metadata": {
        "id": "dLVs8TFizw4W"
      }
    },
    {
      "cell_type": "markdown",
      "source": [
        "**1. Apa perbedaan dari structured dan unstructured data dan sebutkan 3 sumber data!**"
      ],
      "metadata": {
        "id": "eD_DRSvaz01p"
      }
    },
    {
      "cell_type": "markdown",
      "source": [
        "*   Structured data adalah data yang direpresentasikan dengan jelas sehingga mudah untuk dibaca. \n",
        "*  Unstructured data adalah data yang direpresentasikan dalam berbagai bentuk sehingga menyulitkan untuk membaca. \n",
        "\n",
        "Sumber data :\n",
        "\n",
        "*   Structured data : Excel, Csv, data sensor\n",
        "*   Unstructured data : Text, Image, video "
      ],
      "metadata": {
        "id": "YAhcuzrS0B52"
      }
    },
    {
      "cell_type": "markdown",
      "source": [
        "**2. Jelaskan perbedaan AI, Machine Learning dan Deep Learning!**"
      ],
      "metadata": {
        "id": "QzzEFcUe1f0M"
      }
    },
    {
      "cell_type": "markdown",
      "source": [
        "*   AI : Teknik apapun yang memungkinkan komputer meniru kecerdasan manusia.\n",
        "*   Kecerdasan Buatan: kumpulan algoritme yang digunakan untuk membangun\n",
        "*   Machine Learning : Bagian dari AI yang memungkinkan mesin untuk mengerjakan tugas dengan lebih baik, dengan pengalaman"
      ],
      "metadata": {
        "id": "NRGC3jdO1lES"
      }
    },
    {
      "cell_type": "markdown",
      "source": [
        "**3. Apa perbedaan Machine Learning dengan Tradisional software?**"
      ],
      "metadata": {
        "id": "PGn2KAyb17Ik"
      }
    },
    {
      "cell_type": "markdown",
      "source": [
        "Traditional Programming : ada penjelas, biasanya menggunakan logika seperti if else, datanya dimasukkan ke dalam alur aturan dan menghasilkan jawaban\n",
        "*Traditional Approach : Experiment -> Data + Role -> Process -> Answer*\n",
        "\n",
        "Machine Learning Approach : memasukkan data dan jawaban untuk mengetahui aturannya seperti apa, dan ambil kesimpulan\n",
        "*Machine Learning Approach : Experiment -> Data + Answer -> Process -> Role*"
      ],
      "metadata": {
        "id": "Pbbb8edi2L5S"
      }
    },
    {
      "cell_type": "markdown",
      "source": [
        "**4. Sebutkan 3 contoh aplikasi Machine Learning di sektor smart city dan agriculture**"
      ],
      "metadata": {
        "id": "4oci74vo2q3l"
      }
    },
    {
      "cell_type": "markdown",
      "source": [
        "Smart City\n",
        "\n",
        "*   Dalam sisi keamanan, terdapat kamera keamanan yang memiliki kemampuan untuk menganalisis rekaman secara real time dan mendeteksi perilaku kriminal yang kemudian dapat langsung dilaporkan dan ditangani.\n",
        "*   Dalam sisi maintenance, Sebuah perusahaan bernama RoadBotics telah mengembangkan teknologi yang memiliki kemampuan untuk menganalisis citra jalan untuk kemudian menilai masalah dan menghasilkan solusi hemat biaya.\n",
        "* AI juga dapat digunakan di seluruh sistem kamera lalu lintas untuk mendeteksi kejahatan di jalan secara real time, membuatnya lebih mudah untuk ditangani.\n",
        "\n",
        "Agriculture \n",
        "\n",
        "* Pengelompokan status ketahan pangan suatu daerah dengan menggunakan fuzzy c-means\n",
        "*   Penerapan Machine learning berbasis DATA GEOSPASIAL untuk optimalisasi lahan pertanian pada masa pandemi dengan menggunakan algoritma klasifikasi random forest\n",
        "*   Smart farming memanfaatkan teknologi seperti big data, machine learning, dan Internet of Things (IoT) demi meningkatkan kualitas maupun kuantitas produksi dalam industri agrikultur. Hal seperti ini seharusnya bisa dimanfaatkan oleh tech startup di tanah air yang kebanyakan hanya menjadi penyalur barang dan jasa dengan ‘menggelar lapak’ di dunia digital.\n",
        "\n"
      ],
      "metadata": {
        "id": "VNHtgINq2tbv"
      }
    },
    {
      "cell_type": "markdown",
      "source": [
        "##Math for AI"
      ],
      "metadata": {
        "id": "_9Gm0a1d4Zkj"
      }
    },
    {
      "cell_type": "markdown",
      "source": [
        "**1. Mengapa ilmu matematika penting ketika mempelajari AI?**"
      ],
      "metadata": {
        "id": "UkhF7Ntr53_S"
      }
    },
    {
      "cell_type": "markdown",
      "source": [
        "Karena dengan matematika kita dapat memodelkan AI untuk melaksanakan tugas-tugas tertentu, dan juga komunikasi dengan menggunakan mesin komputer pun membutuhkan matematika. "
      ],
      "metadata": {
        "id": "Na5fOt4E55q2"
      }
    },
    {
      "cell_type": "markdown",
      "source": [
        "**2. Jelaskan perbedaan vektor dan skalar!**"
      ],
      "metadata": {
        "id": "UdtJ_Gmw6gYR"
      }
    },
    {
      "cell_type": "markdown",
      "source": [
        "* vektor adalah besaran yang memiliki nilai dan arah\n",
        "* skalar adalah besarran yang hanya memiliki nilai"
      ],
      "metadata": {
        "id": "ZDJA4n_H6iXA"
      }
    },
    {
      "cell_type": "markdown",
      "source": [
        "**3. Apa perbedaan dari Jarak Euclidean dan Manhattan?**"
      ],
      "metadata": {
        "id": "AqIddOgh6pY9"
      }
    },
    {
      "cell_type": "markdown",
      "source": [
        "* jarak euclidean adalah jarak yang langsung menghubungkan antara titik a dan titik b pada sistem koordinat secara linier, atau secara pythagoras\n",
        "*  jarak manhattan adalah jarak yang mengubungkan titik a dengan titik b, secara tegak lurus, dari titik a ke titik 0, dan dari titik 0 ketitik b"
      ],
      "metadata": {
        "id": "FEQZz0LF6rHn"
      }
    },
    {
      "cell_type": "markdown",
      "source": [
        "**4. Apa kegunaan matriks dalam ilmu matematika ketika menerapkan AI?**"
      ],
      "metadata": {
        "id": "WrJSGlbW6w96"
      }
    },
    {
      "cell_type": "markdown",
      "source": [
        "Kegunaan matrik dapat digunakan untuk komputasi data pada AI, berupa data gambar ataupun data numerik. Di dalam AI menggunakan matriks, karena matriks dapat lebih cepat dalam mengoperasikan matematika pada komputer."
      ],
      "metadata": {
        "id": "z--FqCDQ6y-K"
      }
    },
    {
      "cell_type": "markdown",
      "source": [
        "##Machine Learning"
      ],
      "metadata": {
        "id": "ek26MZB_7EKy"
      }
    },
    {
      "cell_type": "markdown",
      "source": [
        "**1. Jelaskan perbedaan supervised dan unsupervised learning dan sebutkan 2 contohnya!**"
      ],
      "metadata": {
        "id": "kJm6Z3tY7IjX"
      }
    },
    {
      "cell_type": "markdown",
      "source": [
        "supervised learning adalah pendekatan yang dilakukan algoritma komputer dalam mengenali pola pada data dengan memberikan training dataset pada mesin.\n",
        "Contoh:\n",
        "* Naive Bayes\n",
        "* regresi linear\n",
        "\n",
        "unsupervised learning adalah pendekatan yang dilakukan algoritma komputer dalam mengenali pola pada data dengan cara mengenali data secara real-time begitu data disajikan.\n",
        "Contoh :\n",
        "* Fuzzy\n",
        "* k-means"
      ],
      "metadata": {
        "id": "1TW0Y8iD-AWn"
      }
    },
    {
      "cell_type": "markdown",
      "source": [
        "**2. Sebutkan setiap tahap yang ada di Machine Learning life cycle dan jelaskan!**"
      ],
      "metadata": {
        "id": "hXIhT1-S_Dt1"
      }
    },
    {
      "cell_type": "markdown",
      "source": [
        "* Gathering Data\n",
        "* Data preparation\n",
        "* Data Wrangling\n",
        "* Analyse Data\n",
        "* Train the model\n",
        "* Test the model\n",
        "* Deployment"
      ],
      "metadata": {
        "id": "d7GQU5bA_F21"
      }
    },
    {
      "cell_type": "markdown",
      "source": [
        "**3. Apa perbedaan regression dengan clustering?**"
      ],
      "metadata": {
        "id": "i8p7xqBMAcW7"
      }
    },
    {
      "cell_type": "markdown",
      "source": [
        "* Regresi adalah suatu teknik analisis untuk mengidentifikasi relasi atau hubungan diantara dua variabel atau lebih. Regresi termasuk ke dalam supervised learning \n",
        "\n",
        "* Clustering adalah mengelompokkan data berdasarkan dengan kelas - kelas yang memiliki kemiripan hampir sama dan memisahkan antar kelas dengan meminimkan kemiripan. Clustering termasuk ke dalam Unsupervised Learning"
      ],
      "metadata": {
        "id": "YfJ7Pv4NAeap"
      }
    },
    {
      "cell_type": "markdown",
      "source": [
        "**Apa itu algoritma Artificial Neural Network dan untuk apa fungsinya?**"
      ],
      "metadata": {
        "id": "DCWS1-u_A2iV"
      }
    },
    {
      "cell_type": "markdown",
      "source": [
        "Algoritma Artificial Neural Network adalah teknologi AI yang meniru dan terinspirasi dari cara kerja neuron pada otak manusia, yang dapat mengolah data tak terstruktur dengan jumlah yang banyak, serta data yang tidak berlabel seperti gambar, video, dan juga suara."
      ],
      "metadata": {
        "id": "lAbzK5YHA4Mm"
      }
    }
  ]
}