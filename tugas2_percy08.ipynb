{
 "cells": [
  {
   "cell_type": "markdown",
   "id": "e1534d64",
   "metadata": {},
   "source": [
    "Pada tugas 2 ini telah dipraktekkan materi lanjutan tugas 1 dari website w3school yaitu ; python operators, lists, tuples, sets, dictionaries, if..else, while loops, dan for loops"
   ]
  },
  {
   "cell_type": "markdown",
   "id": "b5d58077",
   "metadata": {},
   "source": [
    "## Python Operators"
   ]
  },
  {
   "cell_type": "code",
   "execution_count": 1,
   "id": "08eb3a63",
   "metadata": {},
   "outputs": [
    {
     "name": "stdout",
     "output_type": "stream",
     "text": [
      "125.0\n"
     ]
    }
   ],
   "source": [
    "alas = 10\n",
    "tinggi = 25\n",
    "luas_segitiga = (alas*tinggi)/2\n",
    "print(luas_segitiga)"
   ]
  },
  {
   "cell_type": "markdown",
   "id": "e2d3d02c",
   "metadata": {},
   "source": [
    "## Pyhton Lists"
   ]
  },
  {
   "cell_type": "markdown",
   "id": "996d6ea8",
   "metadata": {},
   "source": [
    "### List"
   ]
  },
  {
   "cell_type": "code",
   "execution_count": 4,
   "id": "97457c68",
   "metadata": {},
   "outputs": [
    {
     "name": "stdout",
     "output_type": "stream",
     "text": [
      "['nasi goreng', 'ayam bakar', 'siomay']\n"
     ]
    }
   ],
   "source": [
    "Menu = [\"nasi goreng\", \"ayam bakar\", \"siomay\"]\n",
    "print(Menu)"
   ]
  },
  {
   "cell_type": "markdown",
   "id": "3e4b225d",
   "metadata": {},
   "source": [
    "### List Allow Duplicates"
   ]
  },
  {
   "cell_type": "code",
   "execution_count": 5,
   "id": "9e0a4398",
   "metadata": {},
   "outputs": [
    {
     "name": "stdout",
     "output_type": "stream",
     "text": [
      "['nasi goreng', 'ayam bakar', 'siomay', 'nasi goreng']\n"
     ]
    }
   ],
   "source": [
    "Menu = [\"nasi goreng\", \"ayam bakar\", \"siomay\", \"nasi goreng\"]\n",
    "print(Menu)"
   ]
  },
  {
   "cell_type": "markdown",
   "id": "f7b7fc01",
   "metadata": {},
   "source": [
    "### List Length"
   ]
  },
  {
   "cell_type": "code",
   "execution_count": 8,
   "id": "87e77561",
   "metadata": {},
   "outputs": [
    {
     "name": "stdout",
     "output_type": "stream",
     "text": [
      "3\n"
     ]
    }
   ],
   "source": [
    "Menu = [\"nasi goreng\", \"ayam bakar\", \"siomay\"]\n",
    "print(len(Menu))"
   ]
  },
  {
   "cell_type": "markdown",
   "id": "f4a4ea73",
   "metadata": {},
   "source": [
    "### List Items - Data Types"
   ]
  },
  {
   "cell_type": "code",
   "execution_count": 12,
   "id": "5ec3f139",
   "metadata": {},
   "outputs": [
    {
     "name": "stdout",
     "output_type": "stream",
     "text": [
      "['nasi goreng', 'ayam bakar', 'siomay'] [1, 5, 7, 9, 3] [True, False, False]\n",
      "['nasi goreng', 3, True]\n"
     ]
    }
   ],
   "source": [
    "Menu = [\"nasi goreng\", \"ayam bakar\", \"siomay\"]\n",
    "Nomor_urut = [1, 5, 7, 9, 3]\n",
    "Boolean = [True, False, False]\n",
    "Campuran = [\"nasi goreng\", 3, True]\n",
    "print(Menu, Nomor_urut, Boolean)\n",
    "print(Campuran)"
   ]
  },
  {
   "cell_type": "markdown",
   "id": "404fe88d",
   "metadata": {},
   "source": [
    "### type ()"
   ]
  },
  {
   "cell_type": "code",
   "execution_count": 13,
   "id": "fc0ef3eb",
   "metadata": {},
   "outputs": [
    {
     "name": "stdout",
     "output_type": "stream",
     "text": [
      "<class 'list'>\n"
     ]
    }
   ],
   "source": [
    "Menu = [\"nasi goreng\", \"ayam bakar\", \"siomay\"]\n",
    "print(type(Menu))"
   ]
  },
  {
   "cell_type": "markdown",
   "id": "d395074c",
   "metadata": {},
   "source": [
    "### The list() Constructor"
   ]
  },
  {
   "cell_type": "code",
   "execution_count": 16,
   "id": "a58691d3",
   "metadata": {},
   "outputs": [
    {
     "name": "stdout",
     "output_type": "stream",
     "text": [
      "['nasi goreng', 'ayam bakar', 'siomay']\n",
      "<class 'list'>\n"
     ]
    }
   ],
   "source": [
    "Menu = list((\"nasi goreng\", \"ayam bakar\", \"siomay\"))\n",
    "print(Menu)\n",
    "print(type(Menu))"
   ]
  },
  {
   "cell_type": "markdown",
   "id": "7bbccb90",
   "metadata": {},
   "source": [
    "## Python - Access List Items"
   ]
  },
  {
   "cell_type": "markdown",
   "id": "86b17c80",
   "metadata": {},
   "source": [
    "### Access Items"
   ]
  },
  {
   "cell_type": "code",
   "execution_count": 17,
   "id": "f6490012",
   "metadata": {},
   "outputs": [
    {
     "name": "stdout",
     "output_type": "stream",
     "text": [
      "ayam bakar\n"
     ]
    }
   ],
   "source": [
    "Menu = [\"nasi goreng\", \"ayam bakar\", \"siomay\"]\n",
    "print(Menu[1])"
   ]
  },
  {
   "cell_type": "markdown",
   "id": "df87299b",
   "metadata": {},
   "source": [
    "### Negative Indexing"
   ]
  },
  {
   "cell_type": "code",
   "execution_count": 18,
   "id": "8c71ee0c",
   "metadata": {},
   "outputs": [
    {
     "name": "stdout",
     "output_type": "stream",
     "text": [
      "siomay\n"
     ]
    }
   ],
   "source": [
    "Menu = [\"nasi goreng\", \"ayam bakar\", \"siomay\"]\n",
    "print(Menu[-1])"
   ]
  },
  {
   "cell_type": "markdown",
   "id": "445fd621",
   "metadata": {},
   "source": [
    "### Range of Index"
   ]
  },
  {
   "cell_type": "code",
   "execution_count": 20,
   "id": "57e8fcdd",
   "metadata": {},
   "outputs": [
    {
     "name": "stdout",
     "output_type": "stream",
     "text": [
      "['ayam bakar', 'siomay']\n"
     ]
    }
   ],
   "source": [
    "Menu = [\"nasi goreng\", \"ayam bakar\", \"siomay\"]\n",
    "print(Menu[1:3])"
   ]
  },
  {
   "cell_type": "code",
   "execution_count": 22,
   "id": "b248d6e3",
   "metadata": {},
   "outputs": [
    {
     "name": "stdout",
     "output_type": "stream",
     "text": [
      "['nasi goreng', 'ayam bakar', 'siomay']\n"
     ]
    }
   ],
   "source": [
    "Menu = [\"nasi goreng\", \"ayam bakar\", \"siomay\"]\n",
    "print(Menu[:3])"
   ]
  },
  {
   "cell_type": "code",
   "execution_count": 23,
   "id": "f83adb56",
   "metadata": {},
   "outputs": [
    {
     "name": "stdout",
     "output_type": "stream",
     "text": [
      "['ayam bakar', 'siomay']\n"
     ]
    }
   ],
   "source": [
    "Menu = [\"nasi goreng\", \"ayam bakar\", \"siomay\"]\n",
    "print(Menu[1:])"
   ]
  },
  {
   "cell_type": "markdown",
   "id": "6504ccb0",
   "metadata": {},
   "source": [
    "## Change list Items"
   ]
  },
  {
   "cell_type": "markdown",
   "id": "cc0af4c9",
   "metadata": {},
   "source": [
    "### Change Item Value"
   ]
  },
  {
   "cell_type": "code",
   "execution_count": 24,
   "id": "7f7c6048",
   "metadata": {},
   "outputs": [
    {
     "name": "stdout",
     "output_type": "stream",
     "text": [
      "['nasi goreng', 'gorengan', 'siomay']\n"
     ]
    }
   ],
   "source": [
    "Menu = [\"nasi goreng\", \"ayam bakar\", \"siomay\"]\n",
    "Menu[1] = \"gorengan\"\n",
    "print(Menu)"
   ]
  },
  {
   "cell_type": "markdown",
   "id": "75777348",
   "metadata": {},
   "source": [
    "### Change a Range of Item Values"
   ]
  },
  {
   "cell_type": "code",
   "execution_count": 25,
   "id": "3a60121f",
   "metadata": {},
   "outputs": [
    {
     "name": "stdout",
     "output_type": "stream",
     "text": [
      "['nasi goreng', 'sambal terong', 'sop buntut', 'gorengan', 'pisang rebus', 'pecak lele']\n"
     ]
    }
   ],
   "source": [
    "Menu = [\"nasi goreng\", \"ayam bakar\", \"siomay\", \"gorengan\", \"pisang rebus\", \"pecak lele\"]\n",
    "Menu[1:3] = [\"sambal terong\", \"sop buntut\"]\n",
    "print(Menu)"
   ]
  },
  {
   "cell_type": "code",
   "execution_count": 26,
   "id": "64b4da00",
   "metadata": {},
   "outputs": [
    {
     "name": "stdout",
     "output_type": "stream",
     "text": [
      "['nasi goreng', 'iga bakar', 'gorengan', 'pisang rebus', 'pecak lele']\n"
     ]
    }
   ],
   "source": [
    "Menu = [\"nasi goreng\", \"ayam bakar\", \"siomay\", \"gorengan\", \"pisang rebus\", \"pecak lele\"]\n",
    "Menu[1:3] = [\"iga bakar\"]\n",
    "print(Menu)"
   ]
  },
  {
   "cell_type": "markdown",
   "id": "a6e0c0ed",
   "metadata": {},
   "source": [
    "### Insert Items"
   ]
  },
  {
   "cell_type": "code",
   "execution_count": 28,
   "id": "fff83a4d",
   "metadata": {},
   "outputs": [
    {
     "name": "stdout",
     "output_type": "stream",
     "text": [
      "['nasi goreng', 'ayam bakar', 'iga bakar', 'siomay', 'gorengan', 'pisang rebus', 'pecak lele']\n"
     ]
    }
   ],
   "source": [
    "Menu = [\"nasi goreng\", \"ayam bakar\", \"siomay\", \"gorengan\", \"pisang rebus\", \"pecak lele\"]\n",
    "Menu.insert(2, \"iga bakar\")\n",
    "print(Menu)"
   ]
  },
  {
   "cell_type": "markdown",
   "id": "6c479055",
   "metadata": {},
   "source": [
    "### Add List Items"
   ]
  },
  {
   "cell_type": "markdown",
   "id": "7a9fddf9",
   "metadata": {},
   "source": [
    "### Append Items"
   ]
  },
  {
   "cell_type": "code",
   "execution_count": 29,
   "id": "19741134",
   "metadata": {},
   "outputs": [
    {
     "name": "stdout",
     "output_type": "stream",
     "text": [
      "['nasi goreng', 'ayam bakar', 'siomay', 'gorengan', 'pisang rebus', 'pecak lele', 'iga bakar']\n"
     ]
    }
   ],
   "source": [
    "Menu = [\"nasi goreng\", \"ayam bakar\", \"siomay\", \"gorengan\", \"pisang rebus\", \"pecak lele\"]\n",
    "Menu.append(\"iga bakar\")\n",
    "print(Menu)"
   ]
  },
  {
   "cell_type": "markdown",
   "id": "9f768ea0",
   "metadata": {},
   "source": [
    "### Insert Items"
   ]
  },
  {
   "cell_type": "code",
   "execution_count": 31,
   "id": "4d7cadf2",
   "metadata": {},
   "outputs": [
    {
     "name": "stdout",
     "output_type": "stream",
     "text": [
      "['nasi goreng', 'iga bakar', 'ayam bakar', 'siomay', 'gorengan', 'pisang rebus', 'pecak lele']\n"
     ]
    }
   ],
   "source": [
    "Menu = [\"nasi goreng\", \"ayam bakar\", \"siomay\", \"gorengan\", \"pisang rebus\", \"pecak lele\"]\n",
    "Menu.insert(1, \"iga bakar\")\n",
    "print(Menu)"
   ]
  },
  {
   "cell_type": "markdown",
   "id": "c2b598a4",
   "metadata": {},
   "source": [
    "### Extend List"
   ]
  },
  {
   "cell_type": "code",
   "execution_count": 32,
   "id": "ae54b96a",
   "metadata": {},
   "outputs": [
    {
     "name": "stdout",
     "output_type": "stream",
     "text": [
      "['nasi goreng', 'ayam bakar', 'siomay', 'gorengan', 'pisang rebus', 'pecak lele', 'es jeruk', 'teh hangat', 'es teh']\n"
     ]
    }
   ],
   "source": [
    "Menu = [\"nasi goreng\", \"ayam bakar\", \"siomay\", \"gorengan\", \"pisang rebus\", \"pecak lele\"]\n",
    "Minuman = [\"es jeruk\", \"teh hangat\", \"es teh\"]\n",
    "Menu.extend(Minuman)\n",
    "print(Menu)"
   ]
  },
  {
   "cell_type": "markdown",
   "id": "34ea25f6",
   "metadata": {},
   "source": [
    "### Add Any Iterable"
   ]
  },
  {
   "cell_type": "code",
   "execution_count": 33,
   "id": "9985c6cb",
   "metadata": {},
   "outputs": [
    {
     "name": "stdout",
     "output_type": "stream",
     "text": [
      "['nasi goreng', 'ayam bakar', 'siomay', 'gorengan', 'pisang rebus', 'pecak lele', 'es teh', 'teh hangat']\n"
     ]
    }
   ],
   "source": [
    "Menu = [\"nasi goreng\", \"ayam bakar\", \"siomay\", \"gorengan\", \"pisang rebus\", \"pecak lele\"]\n",
    "Minuman_tuple = (\"es teh\", \"teh hangat\")\n",
    "Menu.extend(Minuman_tuple)\n",
    "print(Menu)"
   ]
  },
  {
   "cell_type": "markdown",
   "id": "8b8bc562",
   "metadata": {},
   "source": [
    "## Python - Remove List Items"
   ]
  },
  {
   "cell_type": "markdown",
   "id": "5405802f",
   "metadata": {},
   "source": [
    "### Remove Specified Item"
   ]
  },
  {
   "cell_type": "code",
   "execution_count": 34,
   "id": "2fa2904c",
   "metadata": {},
   "outputs": [
    {
     "name": "stdout",
     "output_type": "stream",
     "text": [
      "['nasi goreng', 'siomay', 'gorengan', 'pisang rebus', 'pecak lele']\n"
     ]
    }
   ],
   "source": [
    "Menu = [\"nasi goreng\", \"ayam bakar\", \"siomay\", \"gorengan\", \"pisang rebus\", \"pecak lele\"]\n",
    "Menu.remove(\"ayam bakar\")\n",
    "print(Menu)"
   ]
  },
  {
   "cell_type": "markdown",
   "id": "a0a79b0c",
   "metadata": {},
   "source": [
    "### Remove Specified Index"
   ]
  },
  {
   "cell_type": "code",
   "execution_count": 35,
   "id": "2c9cf3d0",
   "metadata": {},
   "outputs": [
    {
     "name": "stdout",
     "output_type": "stream",
     "text": [
      "['nasi goreng', 'siomay', 'gorengan', 'pisang rebus', 'pecak lele']\n"
     ]
    }
   ],
   "source": [
    "Menu = [\"nasi goreng\", \"ayam bakar\", \"siomay\", \"gorengan\", \"pisang rebus\", \"pecak lele\"]\n",
    "Menu.pop(1)\n",
    "print(Menu)"
   ]
  },
  {
   "cell_type": "code",
   "execution_count": 36,
   "id": "705f1f7e",
   "metadata": {},
   "outputs": [
    {
     "name": "stdout",
     "output_type": "stream",
     "text": [
      "['nasi goreng', 'ayam bakar', 'siomay', 'gorengan', 'pisang rebus']\n"
     ]
    }
   ],
   "source": [
    "Menu = [\"nasi goreng\", \"ayam bakar\", \"siomay\", \"gorengan\", \"pisang rebus\", \"pecak lele\"]\n",
    "Menu.pop()\n",
    "print(Menu)"
   ]
  },
  {
   "cell_type": "code",
   "execution_count": 37,
   "id": "caa9af42",
   "metadata": {},
   "outputs": [
    {
     "name": "stdout",
     "output_type": "stream",
     "text": [
      "['ayam bakar', 'siomay', 'gorengan', 'pisang rebus', 'pecak lele']\n"
     ]
    }
   ],
   "source": [
    "Menu = [\"nasi goreng\", \"ayam bakar\", \"siomay\", \"gorengan\", \"pisang rebus\", \"pecak lele\"]\n",
    "del Menu[0]\n",
    "print(Menu)"
   ]
  },
  {
   "cell_type": "markdown",
   "id": "df8989f6",
   "metadata": {},
   "source": [
    "### Clear the List"
   ]
  },
  {
   "cell_type": "code",
   "execution_count": 40,
   "id": "f9713c05",
   "metadata": {},
   "outputs": [
    {
     "name": "stdout",
     "output_type": "stream",
     "text": [
      "[]\n"
     ]
    }
   ],
   "source": [
    "Menu = [\"nasi goreng\", \"ayam bakar\", \"siomay\", \"gorengan\", \"pisang rebus\", \"pecak lele\"]\n",
    "Menu.clear()\n",
    "print(Menu)"
   ]
  },
  {
   "cell_type": "markdown",
   "id": "0b01bba7",
   "metadata": {},
   "source": [
    "## Python - Loop Lists"
   ]
  },
  {
   "cell_type": "markdown",
   "id": "f7118cb5",
   "metadata": {},
   "source": [
    "### Loop Through a List"
   ]
  },
  {
   "cell_type": "code",
   "execution_count": 1,
   "id": "de546154",
   "metadata": {},
   "outputs": [
    {
     "name": "stdout",
     "output_type": "stream",
     "text": [
      "nasi goreng\n",
      "ayam bakar\n",
      "siomay\n",
      "gorengan\n",
      "pisang rebus\n",
      "pecak lele\n"
     ]
    }
   ],
   "source": [
    "Menu = [\"nasi goreng\", \"ayam bakar\", \"siomay\", \"gorengan\", \"pisang rebus\", \"pecak lele\"]\n",
    "for x in Menu :\n",
    "    print(x)"
   ]
  },
  {
   "cell_type": "markdown",
   "id": "ba5d2ab4",
   "metadata": {},
   "source": [
    "### Loop Through the Index Numbers"
   ]
  },
  {
   "cell_type": "code",
   "execution_count": 44,
   "id": "7f585245",
   "metadata": {},
   "outputs": [
    {
     "name": "stdout",
     "output_type": "stream",
     "text": [
      "nasi goreng\n",
      "ayam bakar\n",
      "siomay\n",
      "gorengan\n",
      "pisang rebus\n",
      "pecak lele\n"
     ]
    }
   ],
   "source": [
    "Menu = [\"nasi goreng\", \"ayam bakar\", \"siomay\", \"gorengan\", \"pisang rebus\", \"pecak lele\"]\n",
    "for i in range (len(Menu)):\n",
    "    print(Menu[i])"
   ]
  },
  {
   "cell_type": "markdown",
   "id": "e3574f74",
   "metadata": {},
   "source": [
    "### Using a While Loop"
   ]
  },
  {
   "cell_type": "code",
   "execution_count": 45,
   "id": "50f4f832",
   "metadata": {},
   "outputs": [
    {
     "name": "stdout",
     "output_type": "stream",
     "text": [
      "nasi goreng\n",
      "ayam bakar\n",
      "siomay\n",
      "gorengan\n",
      "pisang rebus\n",
      "pecak lele\n"
     ]
    }
   ],
   "source": [
    "Menu = [\"nasi goreng\", \"ayam bakar\", \"siomay\", \"gorengan\", \"pisang rebus\", \"pecak lele\"]\n",
    "i = 0\n",
    "while i < len(Menu):\n",
    "    print(Menu[i])\n",
    "    i = i+1"
   ]
  },
  {
   "cell_type": "markdown",
   "id": "f6b7d551",
   "metadata": {},
   "source": [
    "### Looping Using List Comprehension"
   ]
  },
  {
   "cell_type": "code",
   "execution_count": 46,
   "id": "4873e2ad",
   "metadata": {},
   "outputs": [
    {
     "name": "stdout",
     "output_type": "stream",
     "text": [
      "nasi goreng\n",
      "ayam bakar\n",
      "siomay\n",
      "gorengan\n",
      "pisang rebus\n",
      "pecak lele\n"
     ]
    },
    {
     "data": {
      "text/plain": [
       "[None, None, None, None, None, None]"
      ]
     },
     "execution_count": 46,
     "metadata": {},
     "output_type": "execute_result"
    }
   ],
   "source": [
    "Menu = [\"nasi goreng\", \"ayam bakar\", \"siomay\", \"gorengan\", \"pisang rebus\", \"pecak lele\"]\n",
    "[print(x) for x in Menu]"
   ]
  },
  {
   "cell_type": "markdown",
   "id": "3605acd6",
   "metadata": {},
   "source": [
    "## Python - List Comprehension"
   ]
  },
  {
   "cell_type": "markdown",
   "id": "aa5de796",
   "metadata": {},
   "source": [
    "### List Comprehension"
   ]
  },
  {
   "cell_type": "code",
   "execution_count": null,
   "id": "fdcce199",
   "metadata": {},
   "outputs": [],
   "source": [
    "Menu = [\"nasi goreng\", \"ayam bakar\", \"siomay\", \"gorengan\", \"pisang rebus\", \"pecak lele\"]\n",
    "newlist = []\n",
    "\n",
    "for x in Menu:\n",
    "    if \"a\" in x:\n",
    "        Menu.append(x)\n",
    "        \n",
    "print(Menu)"
   ]
  },
  {
   "cell_type": "code",
   "execution_count": 4,
   "id": "4c49e8a5",
   "metadata": {},
   "outputs": [
    {
     "name": "stdout",
     "output_type": "stream",
     "text": [
      "['nasi goreng', 'ayam bakar', 'siomay', 'gorengan', 'pisang rebus', 'pecak lele']\n"
     ]
    }
   ],
   "source": [
    "Menu = [\"nasi goreng\", \"ayam bakar\", \"siomay\", \"gorengan\", \"pisang rebus\", \"pecak lele\"]\n",
    "newlist = [x for x in Menu if \"a\" in x]\n",
    "print(Menu)"
   ]
  },
  {
   "cell_type": "markdown",
   "id": "fb15bde2",
   "metadata": {},
   "source": [
    "### The Syntax"
   ]
  },
  {
   "cell_type": "code",
   "execution_count": 3,
   "id": "65abed79",
   "metadata": {},
   "outputs": [
    {
     "name": "stdout",
     "output_type": "stream",
     "text": [
      "['ayam bakar', 'gorengan', 'nasi goreng', 'pecak lele', 'pisang rebus', 'siomay']\n"
     ]
    }
   ],
   "source": [
    "newlist = [x for x in Menu if x != \"siomay\"]\n",
    "print(Menu)"
   ]
  },
  {
   "cell_type": "markdown",
   "id": "94421a18",
   "metadata": {},
   "source": [
    "## Sort List"
   ]
  },
  {
   "cell_type": "code",
   "execution_count": 2,
   "id": "9709173e",
   "metadata": {},
   "outputs": [
    {
     "name": "stdout",
     "output_type": "stream",
     "text": [
      "['ayam bakar', 'gorengan', 'nasi goreng', 'pecak lele', 'pisang rebus', 'siomay']\n"
     ]
    }
   ],
   "source": [
    "Menu = [\"nasi goreng\", \"ayam bakar\", \"siomay\", \"gorengan\", \"pisang rebus\", \"pecak lele\"]\n",
    "Menu.sort()\n",
    "print(Menu)"
   ]
  },
  {
   "cell_type": "code",
   "execution_count": 1,
   "id": "a81b0f22",
   "metadata": {},
   "outputs": [
    {
     "name": "stdout",
     "output_type": "stream",
     "text": [
      "[1, 2, 3, 4, 5]\n"
     ]
    }
   ],
   "source": [
    "Nomor = [5, 4, 3, 2, 1]\n",
    "Nomor.sort()\n",
    "print(Nomor)"
   ]
  },
  {
   "cell_type": "markdown",
   "id": "17f97bf8",
   "metadata": {},
   "source": [
    "## Tuple"
   ]
  },
  {
   "cell_type": "code",
   "execution_count": 9,
   "id": "ec38d9e9",
   "metadata": {},
   "outputs": [
    {
     "name": "stdout",
     "output_type": "stream",
     "text": [
      "('kaos', 'celana', 'baju', 'rok', 'sarung')\n"
     ]
    }
   ],
   "source": [
    "mytuple = (\"kaos\", \"celana\", \"baju\", \"rok\", \"sarung\")\n",
    "print(mytuple)"
   ]
  },
  {
   "cell_type": "code",
   "execution_count": 10,
   "id": "e4856cd7",
   "metadata": {},
   "outputs": [
    {
     "name": "stdout",
     "output_type": "stream",
     "text": [
      "baju\n",
      "('kaos', 'celana', 'baju')\n",
      "('baju', 'rok', 'sarung')\n"
     ]
    }
   ],
   "source": [
    "mytuple = (\"kaos\", \"celana\", \"baju\", \"rok\", \"sarung\")\n",
    "print(mytuple[2])\n",
    "print(mytuple[:3])\n",
    "print(mytuple[2:])"
   ]
  },
  {
   "cell_type": "markdown",
   "id": "e550e97c",
   "metadata": {},
   "source": [
    "### Update Tuples"
   ]
  },
  {
   "cell_type": "code",
   "execution_count": 5,
   "id": "21d11079",
   "metadata": {},
   "outputs": [
    {
     "name": "stdout",
     "output_type": "stream",
     "text": [
      "('kaos', 'celana', 'baju', 'rok', 'sarung', 'kerudung')\n"
     ]
    }
   ],
   "source": [
    "thistuple = (\"kaos\", \"celana\", \"baju\", \"rok\", \"sarung\")\n",
    "y = (\"kerudung\",)\n",
    "thistuple += y\n",
    "\n",
    "print(thistuple)"
   ]
  },
  {
   "cell_type": "markdown",
   "id": "8a80e735",
   "metadata": {},
   "source": [
    "### Unpacking Tuples"
   ]
  },
  {
   "cell_type": "code",
   "execution_count": 14,
   "id": "5a199cdb",
   "metadata": {},
   "outputs": [
    {
     "name": "stdout",
     "output_type": "stream",
     "text": [
      "apple\n",
      "banana\n",
      "cherry\n"
     ]
    }
   ],
   "source": [
    "fruits = (\"apple\", \"banana\", \"cherry\")\n",
    "\n",
    "(green, yellow, red) = fruits\n",
    "\n",
    "print(green)\n",
    "print(yellow)\n",
    "print(red)"
   ]
  },
  {
   "cell_type": "code",
   "execution_count": 15,
   "id": "74ec1a56",
   "metadata": {},
   "outputs": [
    {
     "name": "stdout",
     "output_type": "stream",
     "text": [
      "apple\n",
      "banana\n",
      "['cherry', 'strawberry', 'raspberry']\n"
     ]
    }
   ],
   "source": [
    "fruits = (\"apple\", \"banana\", \"cherry\", \"strawberry\", \"raspberry\")\n",
    "\n",
    "(green, yellow, *red) = fruits\n",
    "\n",
    "print(green)\n",
    "print(yellow)\n",
    "print(red)"
   ]
  },
  {
   "cell_type": "code",
   "execution_count": 16,
   "id": "af1a32ca",
   "metadata": {},
   "outputs": [
    {
     "name": "stdout",
     "output_type": "stream",
     "text": [
      "apple\n",
      "['mango', 'papaya', 'pineapple']\n",
      "cherry\n"
     ]
    }
   ],
   "source": [
    "fruits = (\"apple\", \"mango\", \"papaya\", \"pineapple\", \"cherry\")\n",
    "\n",
    "(green, *tropic, red) = fruits\n",
    "\n",
    "print(green)\n",
    "print(tropic)\n",
    "print(red)"
   ]
  },
  {
   "cell_type": "markdown",
   "id": "b6690b2a",
   "metadata": {},
   "source": [
    "## Loop Tuples"
   ]
  },
  {
   "cell_type": "markdown",
   "id": "a383cbd0",
   "metadata": {},
   "source": [
    "### Loop Through a Tuple"
   ]
  },
  {
   "cell_type": "code",
   "execution_count": 17,
   "id": "e6a5a126",
   "metadata": {},
   "outputs": [
    {
     "name": "stdout",
     "output_type": "stream",
     "text": [
      "kaos\n",
      "celana\n",
      "baju\n",
      "rok\n",
      "sarung\n"
     ]
    }
   ],
   "source": [
    "thistuple = (\"kaos\", \"celana\", \"baju\", \"rok\", \"sarung\")\n",
    "for x in thistuple:\n",
    "  print(x)"
   ]
  },
  {
   "cell_type": "markdown",
   "id": "26f45e8f",
   "metadata": {},
   "source": [
    "### Loop Through the Index Number"
   ]
  },
  {
   "cell_type": "code",
   "execution_count": 18,
   "id": "19ff1dbd",
   "metadata": {},
   "outputs": [
    {
     "name": "stdout",
     "output_type": "stream",
     "text": [
      "kaos\n",
      "celana\n",
      "baju\n",
      "rok\n",
      "sarung\n"
     ]
    }
   ],
   "source": [
    "thistuple = (\"kaos\", \"celana\", \"baju\", \"rok\", \"sarung\")\n",
    "for i in range(len(thistuple)):\n",
    "  print(thistuple[i])"
   ]
  },
  {
   "cell_type": "markdown",
   "id": "90c564d1",
   "metadata": {},
   "source": [
    "### Using a While loop"
   ]
  },
  {
   "cell_type": "code",
   "execution_count": 19,
   "id": "b895cc7f",
   "metadata": {},
   "outputs": [
    {
     "name": "stdout",
     "output_type": "stream",
     "text": [
      "kaos\n",
      "celana\n",
      "baju\n",
      "rok\n",
      "sarung\n"
     ]
    }
   ],
   "source": [
    "thistuple = (\"kaos\", \"celana\", \"baju\", \"rok\", \"sarung\")\n",
    "i = 0\n",
    "while i < len(thistuple):\n",
    "  print(thistuple[i])\n",
    "  i = i + 1"
   ]
  },
  {
   "cell_type": "markdown",
   "id": "08c3ddbb",
   "metadata": {},
   "source": [
    "## Python - Join Tuples"
   ]
  },
  {
   "cell_type": "markdown",
   "id": "b23b7954",
   "metadata": {},
   "source": [
    "### Join Two Tuples"
   ]
  },
  {
   "cell_type": "code",
   "execution_count": 21,
   "id": "678e70ed",
   "metadata": {},
   "outputs": [
    {
     "name": "stdout",
     "output_type": "stream",
     "text": [
      "('kaos', 'celana', 'baju', 'rok', 'sarung', 1, 2, 3)\n"
     ]
    }
   ],
   "source": [
    "tuple1 = (\"kaos\", \"celana\", \"baju\", \"rok\", \"sarung\")\n",
    "tuple2 = (1, 2, 3)\n",
    "\n",
    "tuple3 = tuple1 + tuple2\n",
    "print(tuple3)\n"
   ]
  },
  {
   "cell_type": "markdown",
   "id": "f57a5162",
   "metadata": {},
   "source": [
    "### Multiple Tuples"
   ]
  },
  {
   "cell_type": "code",
   "execution_count": 23,
   "id": "97423652",
   "metadata": {},
   "outputs": [
    {
     "name": "stdout",
     "output_type": "stream",
     "text": [
      "('kaos', 'celana', 'baju', 'rok', 'sarung', 'kaos', 'celana', 'baju', 'rok', 'sarung')\n"
     ]
    }
   ],
   "source": [
    "pilihan = (\"kaos\", \"celana\", \"baju\", \"rok\", \"sarung\")\n",
    "mytuple = pilihan * 2\n",
    "\n",
    "print(mytuple)"
   ]
  },
  {
   "cell_type": "markdown",
   "id": "45a273d2",
   "metadata": {},
   "source": [
    "### Tuple Methods"
   ]
  },
  {
   "cell_type": "code",
   "execution_count": 26,
   "id": "a503984b",
   "metadata": {},
   "outputs": [
    {
     "name": "stdout",
     "output_type": "stream",
     "text": [
      "1\n"
     ]
    }
   ],
   "source": [
    "pilihan = (\"kaos\", \"celana\", \"baju\", \"rok\", \"sarung\")\n",
    "print(pilihan.count(\"kaos\"))"
   ]
  },
  {
   "cell_type": "markdown",
   "id": "7c053c3c",
   "metadata": {},
   "source": [
    "## Python Sets"
   ]
  },
  {
   "cell_type": "code",
   "execution_count": 27,
   "id": "87c0c855",
   "metadata": {},
   "outputs": [
    {
     "name": "stdout",
     "output_type": "stream",
     "text": [
      "{'baju', 'sarung', 'kaos', 'celana', 'rok'}\n"
     ]
    }
   ],
   "source": [
    "thisset = {\"kaos\", \"celana\", \"baju\", \"rok\", \"sarung\"}\n",
    "print(thisset)"
   ]
  },
  {
   "cell_type": "code",
   "execution_count": 28,
   "id": "0dab55f8",
   "metadata": {},
   "outputs": [
    {
     "name": "stdout",
     "output_type": "stream",
     "text": [
      "baju\n",
      "sarung\n",
      "kaos\n",
      "celana\n",
      "rok\n"
     ]
    }
   ],
   "source": [
    "thisset = {\"kaos\", \"celana\", \"baju\", \"rok\", \"sarung\"}\n",
    "\n",
    "for x in thisset:\n",
    "  print(x)\n"
   ]
  },
  {
   "cell_type": "code",
   "execution_count": 29,
   "id": "0129dd3d",
   "metadata": {},
   "outputs": [
    {
     "name": "stdout",
     "output_type": "stream",
     "text": [
      "{'baju', 'sarung', 'kaos', 'celana', 'kerudung', 'rok'}\n"
     ]
    }
   ],
   "source": [
    "thisset = {\"kaos\", \"celana\", \"baju\", \"rok\", \"sarung\"}\n",
    "\n",
    "thisset.add(\"kerudung\")\n",
    "\n",
    "print(thisset)"
   ]
  },
  {
   "cell_type": "code",
   "execution_count": 30,
   "id": "2a4d0551",
   "metadata": {},
   "outputs": [
    {
     "name": "stdout",
     "output_type": "stream",
     "text": [
      "{'baju', 'sarung', 'kaos', 'celana', 'kerudung', 'rok', 'peci'}\n"
     ]
    }
   ],
   "source": [
    "thisset = {\"kaos\", \"celana\", \"baju\", \"rok\", \"sarung\"}\n",
    "new = {\"kerudung\", \"peci\"}\n",
    "\n",
    "thisset.update(new)\n",
    "\n",
    "print(thisset)"
   ]
  },
  {
   "cell_type": "code",
   "execution_count": 31,
   "id": "e81fa030",
   "metadata": {},
   "outputs": [
    {
     "name": "stdout",
     "output_type": "stream",
     "text": [
      "{'sepatu', 'baju', 'sarung', 'kaos', 'celana', 'sandal', 'rok'}\n"
     ]
    }
   ],
   "source": [
    "thisset = {\"kaos\", \"celana\", \"baju\", \"rok\", \"sarung\"}\n",
    "mylist = [\"sandal\", \"sepatu\"]\n",
    "\n",
    "thisset.update(mylist)\n",
    "\n",
    "print(thisset)"
   ]
  },
  {
   "cell_type": "markdown",
   "id": "9185750a",
   "metadata": {},
   "source": [
    "## Python - Remove Set Items"
   ]
  },
  {
   "cell_type": "code",
   "execution_count": 32,
   "id": "1c814f6e",
   "metadata": {},
   "outputs": [
    {
     "name": "stdout",
     "output_type": "stream",
     "text": [
      "{'baju', 'sarung', 'kaos', 'celana'}\n"
     ]
    }
   ],
   "source": [
    "thisset = {\"kaos\", \"celana\", \"baju\", \"rok\", \"sarung\"}\n",
    "\n",
    "thisset.remove(\"rok\")\n",
    "\n",
    "print(thisset)\n"
   ]
  },
  {
   "cell_type": "code",
   "execution_count": 33,
   "id": "8ec00432",
   "metadata": {},
   "outputs": [
    {
     "name": "stdout",
     "output_type": "stream",
     "text": [
      "{'baju', 'sarung', 'kaos', 'celana'}\n"
     ]
    }
   ],
   "source": [
    "thisset = {\"kaos\", \"celana\", \"baju\", \"rok\", \"sarung\"}\n",
    "\n",
    "thisset.discard(\"rok\")\n",
    "\n",
    "print(thisset)"
   ]
  },
  {
   "cell_type": "code",
   "execution_count": 34,
   "id": "e760d29b",
   "metadata": {},
   "outputs": [
    {
     "ename": "SyntaxError",
     "evalue": "invalid syntax (<ipython-input-34-d3f9be2016b6>, line 1)",
     "output_type": "error",
     "traceback": [
      "\u001b[1;36m  File \u001b[1;32m\"<ipython-input-34-d3f9be2016b6>\"\u001b[1;36m, line \u001b[1;32m1\u001b[0m\n\u001b[1;33m    thisset = {\"\"kaos\", \"celana\", \"baju\", \"rok\", \"sarung\"}\u001b[0m\n\u001b[1;37m                 ^\u001b[0m\n\u001b[1;31mSyntaxError\u001b[0m\u001b[1;31m:\u001b[0m invalid syntax\n"
     ]
    }
   ],
   "source": [
    "thisset = {\"\"kaos\", \"celana\", \"baju\", \"rok\", \"sarung\"}\n",
    "\n",
    "x = thisset.pop()\n",
    "\n",
    "print(x)\n",
    "\n",
    "print(thisset)\n"
   ]
  },
  {
   "cell_type": "code",
   "execution_count": 58,
   "id": "d70287da",
   "metadata": {},
   "outputs": [
    {
     "name": "stdout",
     "output_type": "stream",
     "text": [
      "set()\n"
     ]
    }
   ],
   "source": [
    "thisset = {\"apple\", \"banana\", \"cherry\"}\n",
    "\n",
    "thisset.clear()\n",
    "\n",
    "print(thisset)"
   ]
  },
  {
   "cell_type": "code",
   "execution_count": 35,
   "id": "8843a792",
   "metadata": {},
   "outputs": [
    {
     "ename": "NameError",
     "evalue": "name 'thisset' is not defined",
     "output_type": "error",
     "traceback": [
      "\u001b[1;31m---------------------------------------------------------------------------\u001b[0m",
      "\u001b[1;31mNameError\u001b[0m                                 Traceback (most recent call last)",
      "\u001b[1;32m<ipython-input-35-9a7b8521d0df>\u001b[0m in \u001b[0;36m<module>\u001b[1;34m\u001b[0m\n\u001b[0;32m      3\u001b[0m \u001b[1;32mdel\u001b[0m \u001b[0mthisset\u001b[0m\u001b[1;33m\u001b[0m\u001b[1;33m\u001b[0m\u001b[0m\n\u001b[0;32m      4\u001b[0m \u001b[1;33m\u001b[0m\u001b[0m\n\u001b[1;32m----> 5\u001b[1;33m \u001b[0mprint\u001b[0m\u001b[1;33m(\u001b[0m\u001b[0mthisset\u001b[0m\u001b[1;33m)\u001b[0m\u001b[1;33m\u001b[0m\u001b[1;33m\u001b[0m\u001b[0m\n\u001b[0m",
      "\u001b[1;31mNameError\u001b[0m: name 'thisset' is not defined"
     ]
    }
   ],
   "source": [
    "thisset = {\"kaos\", \"celana\", \"baju\", \"rok\", \"sarung\"}\n",
    "\n",
    "del thisset\n",
    "\n",
    "print(thisset)"
   ]
  },
  {
   "cell_type": "markdown",
   "id": "1993bbb9",
   "metadata": {},
   "source": [
    "## Python - Loop Sets"
   ]
  },
  {
   "cell_type": "code",
   "execution_count": 36,
   "id": "6ebe8eed",
   "metadata": {},
   "outputs": [
    {
     "name": "stdout",
     "output_type": "stream",
     "text": [
      "baju\n",
      "sarung\n",
      "kaos\n",
      "celana\n",
      "rok\n"
     ]
    }
   ],
   "source": [
    "thisset = {\"kaos\", \"celana\", \"baju\", \"rok\", \"sarung\"}\n",
    "\n",
    "for x in thisset:\n",
    "  print(x)"
   ]
  },
  {
   "cell_type": "markdown",
   "id": "0c3af072",
   "metadata": {},
   "source": [
    "## Python - Join Sets"
   ]
  },
  {
   "cell_type": "code",
   "execution_count": 37,
   "id": "71ce608e",
   "metadata": {},
   "outputs": [
    {
     "name": "stdout",
     "output_type": "stream",
     "text": [
      "{'baju', 1, 2, 'sarung', 'kaos', 3, 'celana', 'rok'}\n"
     ]
    }
   ],
   "source": [
    "set1 = {\"kaos\", \"celana\", \"baju\", \"rok\", \"sarung\"}\n",
    "set2 = {1, 2, 3}\n",
    "\n",
    "set3 = set1.union(set2)\n",
    "print(set3)"
   ]
  },
  {
   "cell_type": "code",
   "execution_count": 38,
   "id": "128a9af5",
   "metadata": {},
   "outputs": [
    {
     "name": "stdout",
     "output_type": "stream",
     "text": [
      "{'baju', 1, 2, 'sarung', 'kaos', 3, 'celana', 'rok'}\n"
     ]
    }
   ],
   "source": [
    "set1 = {\"kaos\", \"celana\", \"baju\", \"rok\", \"sarung\"}\n",
    "set2 = {1, 2, 3}\n",
    "\n",
    "set1.update(set2)\n",
    "print(set1)\n"
   ]
  },
  {
   "cell_type": "code",
   "execution_count": 40,
   "id": "91e6ed12",
   "metadata": {},
   "outputs": [
    {
     "name": "stdout",
     "output_type": "stream",
     "text": [
      "{'celana'}\n"
     ]
    }
   ],
   "source": [
    "x = {\"kaos\", \"celana\", \"baju\", \"rok\", \"sarung\"}\n",
    "y = {\"kerudung\", \"peci\", \"celana\"}\n",
    "\n",
    "x.intersection_update(y)\n",
    "\n",
    "print(x)\n"
   ]
  },
  {
   "cell_type": "code",
   "execution_count": 41,
   "id": "67de547e",
   "metadata": {},
   "outputs": [
    {
     "name": "stdout",
     "output_type": "stream",
     "text": [
      "{'celana'}\n"
     ]
    }
   ],
   "source": [
    "x = {\"kaos\", \"celana\", \"baju\", \"rok\", \"sarung\"}\n",
    "y = {\"kerudung\", \"peci\", \"celana\"}\n",
    "\n",
    "z = x.intersection(y)\n",
    "\n",
    "print(z)"
   ]
  },
  {
   "cell_type": "code",
   "execution_count": 42,
   "id": "1b004899",
   "metadata": {},
   "outputs": [
    {
     "name": "stdout",
     "output_type": "stream",
     "text": [
      "{'baju', 'sarung', 'kaos', 'kerudung', 'rok', 'peci'}\n"
     ]
    }
   ],
   "source": [
    "x = {\"kaos\", \"celana\", \"baju\", \"rok\", \"sarung\"}\n",
    "y = {\"kerudung\", \"peci\", \"celana\"}\n",
    "\n",
    "x.symmetric_difference_update(y)\n",
    "\n",
    "print(x)"
   ]
  },
  {
   "cell_type": "code",
   "execution_count": 43,
   "id": "3b094543",
   "metadata": {},
   "outputs": [
    {
     "name": "stdout",
     "output_type": "stream",
     "text": [
      "{'baju', 'sarung', 'kaos', 'kerudung', 'rok', 'peci'}\n"
     ]
    }
   ],
   "source": [
    "x = {\"kaos\", \"celana\", \"baju\", \"rok\", \"sarung\"}\n",
    "y = {\"kerudung\", \"peci\", \"celana\"}\n",
    "\n",
    "z = x.symmetric_difference(y)\n",
    "\n",
    "print(z)"
   ]
  },
  {
   "cell_type": "markdown",
   "id": "70425e2b",
   "metadata": {},
   "source": [
    "## Python Dictionaries"
   ]
  },
  {
   "cell_type": "code",
   "execution_count": 46,
   "id": "df5a6db0",
   "metadata": {},
   "outputs": [
    {
     "name": "stdout",
     "output_type": "stream",
     "text": [
      "{'nama': 'Mely', 'kode': 8, 'tahun': 2021}\n"
     ]
    }
   ],
   "source": [
    "thisdict = {\n",
    "  \"nama\": \"Mely\",\n",
    "  \"kode\": 8,\n",
    "  \"tahun\": 2021\n",
    "}\n",
    "print(thisdict)"
   ]
  },
  {
   "cell_type": "code",
   "execution_count": 47,
   "id": "8e2df593",
   "metadata": {},
   "outputs": [
    {
     "name": "stdout",
     "output_type": "stream",
     "text": [
      "Mely\n"
     ]
    }
   ],
   "source": [
    "thisdict = {\n",
    "  \"nama\": \"Mely\",\n",
    "  \"kode\": 8,\n",
    "  \"tahun\": 2021\n",
    "}\n",
    "print(thisdict[\"nama\"])\n"
   ]
  },
  {
   "cell_type": "code",
   "execution_count": 48,
   "id": "6152ee38",
   "metadata": {},
   "outputs": [
    {
     "ename": "SyntaxError",
     "evalue": "invalid syntax (<ipython-input-48-a955025a8f82>, line 5)",
     "output_type": "error",
     "traceback": [
      "\u001b[1;36m  File \u001b[1;32m\"<ipython-input-48-a955025a8f82>\"\u001b[1;36m, line \u001b[1;32m5\u001b[0m\n\u001b[1;33m    \"tahun\": 1945\u001b[0m\n\u001b[1;37m    ^\u001b[0m\n\u001b[1;31mSyntaxError\u001b[0m\u001b[1;31m:\u001b[0m invalid syntax\n"
     ]
    }
   ],
   "source": [
    "thisdict = {\n",
    "  \"nama\": \"Mely\",\n",
    "  \"kode\": 8,\n",
    "  \"tahun\": 2021\n",
    "  \"tahun\": 1945\n",
    "}\n",
    "print(thisdict)\n"
   ]
  },
  {
   "cell_type": "code",
   "execution_count": 1,
   "id": "046b1135",
   "metadata": {},
   "outputs": [
    {
     "name": "stdout",
     "output_type": "stream",
     "text": [
      "3\n"
     ]
    }
   ],
   "source": [
    "thisdict = {\n",
    "  \"nama\": \"Mely\",\n",
    "  \"kode\": 8,\n",
    "  \"tahun\": 2021\n",
    "}\n",
    "print(len(thisdict))"
   ]
  },
  {
   "cell_type": "code",
   "execution_count": 2,
   "id": "b2073cf3",
   "metadata": {},
   "outputs": [
    {
     "name": "stdout",
     "output_type": "stream",
     "text": [
      "{'nama': 'Mely', 'kode': 8, 'tahun': 2021, 'hobi': ['membaca', 'terbang', 'tidur']}\n"
     ]
    }
   ],
   "source": [
    "thisdict = {\n",
    "  \"nama\": \"Mely\",\n",
    "  \"kode\": 8,\n",
    "  \"tahun\": 2021,\n",
    "  \"hobi\": [\"membaca\", \"terbang\", \"tidur\"]\n",
    "}\n",
    "print(thisdict)"
   ]
  },
  {
   "cell_type": "markdown",
   "id": "1b0c5663",
   "metadata": {},
   "source": [
    "### Accessing Items"
   ]
  },
  {
   "cell_type": "code",
   "execution_count": 6,
   "id": "3642aff9",
   "metadata": {},
   "outputs": [
    {
     "name": "stdout",
     "output_type": "stream",
     "text": [
      "8\n"
     ]
    }
   ],
   "source": [
    "thisdict = {\n",
    "  \"nama\": \"Mely\",\n",
    "  \"kode\": 8,\n",
    "  \"tahun\": 2021,\n",
    "  \"hobi\": [\"membaca\", \"terbang\", \"tidur\"]\n",
    "}\n",
    "x = thisdict[\"kode\"]\n",
    "print(x)"
   ]
  },
  {
   "cell_type": "code",
   "execution_count": 7,
   "id": "57aa8eed",
   "metadata": {},
   "outputs": [
    {
     "name": "stdout",
     "output_type": "stream",
     "text": [
      "8\n"
     ]
    }
   ],
   "source": [
    "x = thisdict.get(\"kode\")\n",
    "print(x)"
   ]
  },
  {
   "cell_type": "code",
   "execution_count": 8,
   "id": "68e32b06",
   "metadata": {},
   "outputs": [
    {
     "name": "stdout",
     "output_type": "stream",
     "text": [
      "dict_keys(['nama', 'kode', 'tahun', 'hobi'])\n",
      "dict_keys(['nama', 'kode', 'tahun', 'hobi', 'idola'])\n"
     ]
    }
   ],
   "source": [
    "thisdict = {\n",
    "  \"nama\": \"Mely\",\n",
    "  \"kode\": 8,\n",
    "  \"tahun\": 2021,\n",
    "  \"hobi\": [\"membaca\", \"terbang\", \"tidur\"]\n",
    "}\n",
    "\n",
    "x = thisdict.keys()\n",
    "print(x)\n",
    "thisdict[\"idola\"] = \"jung hae in\"\n",
    "print(x)"
   ]
  },
  {
   "cell_type": "code",
   "execution_count": 11,
   "id": "62362e47",
   "metadata": {},
   "outputs": [
    {
     "name": "stdout",
     "output_type": "stream",
     "text": [
      "dict_values(['Mely', 8, 2021, ['membaca', 'terbang', 'tidur']])\n",
      "dict_values(['Mely', 8, 2022, ['membaca', 'terbang', 'tidur']])\n"
     ]
    }
   ],
   "source": [
    "thisdict = {\n",
    "  \"nama\": \"Mely\",\n",
    "  \"kode\": 8,\n",
    "  \"tahun\": 2021,\n",
    "  \"hobi\": [\"membaca\", \"terbang\", \"tidur\"]\n",
    "}\n",
    "x = thisdict.values()\n",
    "\n",
    "print(x)\n",
    "\n",
    "thisdict[\"tahun\"] = 2022\n",
    "print(x)"
   ]
  },
  {
   "cell_type": "code",
   "execution_count": 12,
   "id": "470e4373",
   "metadata": {},
   "outputs": [
    {
     "name": "stdout",
     "output_type": "stream",
     "text": [
      "dict_items([('nama', 'Mely'), ('kode', 8), ('tahun', 2021), ('hobi', ['membaca', 'terbang', 'tidur'])])\n",
      "dict_items([('nama', 'Mely'), ('kode', 8), ('tahun', 2022), ('hobi', ['membaca', 'terbang', 'tidur'])])\n"
     ]
    }
   ],
   "source": [
    "thisdict = {\n",
    "  \"nama\": \"Mely\",\n",
    "  \"kode\": 8,\n",
    "  \"tahun\": 2021,\n",
    "  \"hobi\": [\"membaca\", \"terbang\", \"tidur\"]\n",
    "}\n",
    "x = thisdict.items()\n",
    "\n",
    "print(x)\n",
    "thisdict[\"tahun\"] = 2022\n",
    "print(x)"
   ]
  },
  {
   "cell_type": "code",
   "execution_count": 13,
   "id": "1d203067",
   "metadata": {},
   "outputs": [
    {
     "name": "stdout",
     "output_type": "stream",
     "text": [
      "Ya\n"
     ]
    }
   ],
   "source": [
    "thisdict = {\n",
    "  \"nama\": \"Mely\",\n",
    "  \"kode\": 8,\n",
    "  \"tahun\": 2021,\n",
    "  \"hobi\": [\"membaca\", \"terbang\", \"tidur\"]\n",
    "}\n",
    "if \"kode\" in thisdict:\n",
    "    print(\"Ya\")"
   ]
  },
  {
   "cell_type": "markdown",
   "id": "32c165fe",
   "metadata": {},
   "source": [
    "## Change Items"
   ]
  },
  {
   "cell_type": "code",
   "execution_count": 15,
   "id": "ecd6d564",
   "metadata": {},
   "outputs": [
    {
     "name": "stdout",
     "output_type": "stream",
     "text": [
      "{'nama': 'Mely', 'kode': 8, 'tahun': 2022, 'hobi': ['membaca', 'terbang', 'tidur']}\n"
     ]
    }
   ],
   "source": [
    "thisdict = {\n",
    "  \"nama\": \"Mely\",\n",
    "  \"kode\": 8,\n",
    "  \"tahun\": 2021,\n",
    "  \"hobi\": [\"membaca\", \"terbang\", \"tidur\"]\n",
    "}\n",
    "thisdict[\"tahun\"] = 2022\n",
    "print(thisdict)"
   ]
  },
  {
   "cell_type": "code",
   "execution_count": 18,
   "id": "8141bc71",
   "metadata": {},
   "outputs": [
    {
     "name": "stdout",
     "output_type": "stream",
     "text": [
      "{'nama': 'Mely', 'kode': 8, 'tahun': 2020, 'hobi': ['membaca', 'terbang', 'tidur']}\n"
     ]
    }
   ],
   "source": [
    "thisdict = {\n",
    "  \"nama\": \"Mely\",\n",
    "  \"kode\": 8,\n",
    "  \"tahun\": 2021,\n",
    "  \"hobi\": [\"membaca\", \"terbang\", \"tidur\"]\n",
    "}\n",
    "thisdict.update({\"tahun\": 2020})\n",
    "print(thisdict)"
   ]
  },
  {
   "cell_type": "markdown",
   "id": "ceb69c1e",
   "metadata": {},
   "source": [
    "## Add Items"
   ]
  },
  {
   "cell_type": "code",
   "execution_count": 19,
   "id": "3414cb9b",
   "metadata": {},
   "outputs": [
    {
     "name": "stdout",
     "output_type": "stream",
     "text": [
      "{'nama': 'Mely', 'kode': 8, 'tahun': 2021, 'hobi': ['membaca', 'terbang', 'tidur'], 'idola': 'Jung Hae In'}\n"
     ]
    }
   ],
   "source": [
    "thisdict = {\n",
    "  \"nama\": \"Mely\",\n",
    "  \"kode\": 8,\n",
    "  \"tahun\": 2021,\n",
    "  \"hobi\": [\"membaca\", \"terbang\", \"tidur\"]\n",
    "}\n",
    "thisdict[\"idola\"] = \"Jung Hae In\"\n",
    "print(thisdict)"
   ]
  },
  {
   "cell_type": "markdown",
   "id": "6d5223a9",
   "metadata": {},
   "source": [
    "## Removing Items"
   ]
  },
  {
   "cell_type": "code",
   "execution_count": 20,
   "id": "09589eb1",
   "metadata": {},
   "outputs": [
    {
     "name": "stdout",
     "output_type": "stream",
     "text": [
      "{'nama': 'Mely', 'tahun': 2021, 'hobi': ['membaca', 'terbang', 'tidur']}\n"
     ]
    }
   ],
   "source": [
    "thisdict = {\n",
    "  \"nama\": \"Mely\",\n",
    "  \"kode\": 8,\n",
    "  \"tahun\": 2021,\n",
    "  \"hobi\": [\"membaca\", \"terbang\", \"tidur\"]\n",
    "}\n",
    "thisdict.pop(\"kode\")\n",
    "print(thisdict)"
   ]
  },
  {
   "cell_type": "code",
   "execution_count": 21,
   "id": "6c09917c",
   "metadata": {},
   "outputs": [
    {
     "name": "stdout",
     "output_type": "stream",
     "text": [
      "{}\n"
     ]
    }
   ],
   "source": [
    "thisdict = {\n",
    "  \"nama\": \"Mely\",\n",
    "  \"kode\": 8,\n",
    "  \"tahun\": 2021,\n",
    "  \"hobi\": [\"membaca\", \"terbang\", \"tidur\"]\n",
    "}\n",
    "thisdict.clear()\n",
    "print(thisdict)"
   ]
  },
  {
   "cell_type": "markdown",
   "id": "f3685b55",
   "metadata": {},
   "source": [
    "## Loop Dictionaries"
   ]
  },
  {
   "cell_type": "code",
   "execution_count": 24,
   "id": "c3c192c2",
   "metadata": {},
   "outputs": [
    {
     "name": "stdout",
     "output_type": "stream",
     "text": [
      "{'nama': 'Mely', 'kode': 8, 'tahun': 2021, 'hobi': ['membaca', 'terbang', 'tidur']}\n",
      "{'nama': 'Mely', 'kode': 8, 'tahun': 2021, 'hobi': ['membaca', 'terbang', 'tidur']}\n",
      "{'nama': 'Mely', 'kode': 8, 'tahun': 2021, 'hobi': ['membaca', 'terbang', 'tidur']}\n",
      "{'nama': 'Mely', 'kode': 8, 'tahun': 2021, 'hobi': ['membaca', 'terbang', 'tidur']}\n"
     ]
    }
   ],
   "source": [
    "thisdict = {\n",
    "  \"nama\": \"Mely\",\n",
    "  \"kode\": 8,\n",
    "  \"tahun\": 2021,\n",
    "  \"hobi\": [\"membaca\", \"terbang\", \"tidur\"]\n",
    "}\n",
    "for x in thisdict:\n",
    "    print(thisdict)"
   ]
  },
  {
   "cell_type": "code",
   "execution_count": 26,
   "id": "45bf871d",
   "metadata": {},
   "outputs": [
    {
     "name": "stdout",
     "output_type": "stream",
     "text": [
      "Mely\n",
      "8\n",
      "2021\n",
      "['membaca', 'terbang', 'tidur']\n"
     ]
    }
   ],
   "source": [
    "thisdict = {\n",
    "  \"nama\": \"Mely\",\n",
    "  \"kode\": 8,\n",
    "  \"tahun\": 2021,\n",
    "  \"hobi\": [\"membaca\", \"terbang\", \"tidur\"]\n",
    "}\n",
    "for x in thisdict:\n",
    "    print(thisdict[x])"
   ]
  },
  {
   "cell_type": "code",
   "execution_count": 27,
   "id": "1b203246",
   "metadata": {},
   "outputs": [
    {
     "name": "stdout",
     "output_type": "stream",
     "text": [
      "nama\n",
      "kode\n",
      "tahun\n",
      "hobi\n"
     ]
    }
   ],
   "source": [
    "thisdict = {\n",
    "  \"nama\": \"Mely\",\n",
    "  \"kode\": 8,\n",
    "  \"tahun\": 2021,\n",
    "  \"hobi\": [\"membaca\", \"terbang\", \"tidur\"]\n",
    "}\n",
    "for x in thisdict.keys():\n",
    "    print(x)"
   ]
  },
  {
   "cell_type": "code",
   "execution_count": 28,
   "id": "bdec0c0f",
   "metadata": {},
   "outputs": [
    {
     "name": "stdout",
     "output_type": "stream",
     "text": [
      "Mely\n",
      "8\n",
      "2021\n",
      "['membaca', 'terbang', 'tidur']\n"
     ]
    }
   ],
   "source": [
    "thisdict = {\n",
    "  \"nama\": \"Mely\",\n",
    "  \"kode\": 8,\n",
    "  \"tahun\": 2021,\n",
    "  \"hobi\": [\"membaca\", \"terbang\", \"tidur\"]\n",
    "}\n",
    "for x in thisdict.values():\n",
    "    print(x)"
   ]
  },
  {
   "cell_type": "code",
   "execution_count": 29,
   "id": "05a36041",
   "metadata": {},
   "outputs": [
    {
     "name": "stdout",
     "output_type": "stream",
     "text": [
      "nama Mely\n",
      "kode 8\n",
      "tahun 2021\n",
      "hobi ['membaca', 'terbang', 'tidur']\n"
     ]
    }
   ],
   "source": [
    "for x, y in thisdict.items():\n",
    "    print(x, y)"
   ]
  },
  {
   "cell_type": "markdown",
   "id": "0a45b10f",
   "metadata": {},
   "source": [
    "## Copy Dictionaries"
   ]
  },
  {
   "cell_type": "code",
   "execution_count": 31,
   "id": "c451c049",
   "metadata": {},
   "outputs": [
    {
     "name": "stdout",
     "output_type": "stream",
     "text": [
      "{'nama': 'Mely', 'kode': 8, 'tahun': 2021, 'hobi': ['membaca', 'terbang', 'tidur']}\n"
     ]
    }
   ],
   "source": [
    "thisdict = {\n",
    "  \"nama\": \"Mely\",\n",
    "  \"kode\": 8,\n",
    "  \"tahun\": 2021,\n",
    "  \"hobi\": [\"membaca\", \"terbang\", \"tidur\"]\n",
    "}\n",
    "mydict = thisdict.copy()\n",
    "print(mydict)"
   ]
  },
  {
   "cell_type": "code",
   "execution_count": 32,
   "id": "b3237b12",
   "metadata": {},
   "outputs": [
    {
     "name": "stdout",
     "output_type": "stream",
     "text": [
      "{'nama': 'Mely', 'kode': 8, 'tahun': 2021, 'hobi': ['membaca', 'terbang', 'tidur']}\n"
     ]
    }
   ],
   "source": [
    "thisdict = {\n",
    "  \"nama\": \"Mely\",\n",
    "  \"kode\": 8,\n",
    "  \"tahun\": 2021,\n",
    "  \"hobi\": [\"membaca\", \"terbang\", \"tidur\"]\n",
    "}\n",
    "mydict = dict(thisdict)\n",
    "print(mydict)"
   ]
  },
  {
   "cell_type": "markdown",
   "id": "51574d7e",
   "metadata": {},
   "source": [
    "## Nested Dictionaries"
   ]
  },
  {
   "cell_type": "code",
   "execution_count": 33,
   "id": "24aa0cf2",
   "metadata": {},
   "outputs": [
    {
     "name": "stdout",
     "output_type": "stream",
     "text": [
      "{'anak1': {'nama': 'Upin', 'tahun': 2015}, 'anak2': {'nama': 'Ipin', 'tahun': 2015}, 'anak3': {'nama': 'Ros', 'tahun': 2001}}\n"
     ]
    }
   ],
   "source": [
    "Data_anak = {\n",
    "  \"anak1\" : {\n",
    "    \"nama\" : \"Upin\",\n",
    "    \"tahun\" : 2015\n",
    "  },\n",
    "  \"anak2\" : {\n",
    "    \"nama\" : \"Ipin\",\n",
    "    \"tahun\" : 2015\n",
    "  },\n",
    "  \"anak3\" : {\n",
    "    \"nama\" : \"Ros\",\n",
    "    \"tahun\" : 2001\n",
    "  }\n",
    "}\n",
    "print(Data_anak)"
   ]
  },
  {
   "cell_type": "markdown",
   "id": "bd6204bb",
   "metadata": {},
   "source": [
    "## Python If.. Else"
   ]
  },
  {
   "cell_type": "code",
   "execution_count": 35,
   "id": "93987b95",
   "metadata": {},
   "outputs": [
    {
     "name": "stdout",
     "output_type": "stream",
     "text": [
      "b lebih besar dari a\n"
     ]
    }
   ],
   "source": [
    "a = 8\n",
    "b = 800\n",
    "if b > a:\n",
    "  print(\"b lebih besar dari a\")"
   ]
  },
  {
   "cell_type": "code",
   "execution_count": 36,
   "id": "9a3b3c77",
   "metadata": {},
   "outputs": [
    {
     "name": "stdout",
     "output_type": "stream",
     "text": [
      "a lebih besar dari b\n"
     ]
    }
   ],
   "source": [
    "a = 1000\n",
    "b = 90\n",
    "if b > a:\n",
    "  print(\"b lebih besar dari a\")\n",
    "elif a == b:\n",
    "  print(\"a sama besar dengan b\")\n",
    "else:\n",
    "  print(\"a lebih besar dari b\")"
   ]
  },
  {
   "cell_type": "code",
   "execution_count": 37,
   "id": "d1a6d243",
   "metadata": {},
   "outputs": [
    {
     "name": "stdout",
     "output_type": "stream",
     "text": [
      "B\n"
     ]
    }
   ],
   "source": [
    "a = 698\n",
    "b = 987\n",
    "print(\"A\") if a > b else print(\"B\")"
   ]
  },
  {
   "cell_type": "code",
   "execution_count": 38,
   "id": "5729df8a",
   "metadata": {},
   "outputs": [
    {
     "name": "stdout",
     "output_type": "stream",
     "text": [
      "Both conditions are True\n"
     ]
    }
   ],
   "source": [
    "a = 769\n",
    "b = 450\n",
    "c = 877\n",
    "if a > b and c > a:\n",
    "  print(\"Both conditions are True\")"
   ]
  },
  {
   "cell_type": "code",
   "execution_count": 39,
   "id": "3c3b649d",
   "metadata": {},
   "outputs": [
    {
     "name": "stdout",
     "output_type": "stream",
     "text": [
      "At least one of the conditions is True\n"
     ]
    }
   ],
   "source": [
    "a = 769\n",
    "b = 450\n",
    "c = 877\n",
    "if a > b or a > c:\n",
    "  print(\"At least one of the conditions is True\")"
   ]
  },
  {
   "cell_type": "code",
   "execution_count": 40,
   "id": "6773517c",
   "metadata": {},
   "outputs": [
    {
     "name": "stdout",
     "output_type": "stream",
     "text": [
      "Lebih dari 10,\n",
      "Lebih dari 50\n"
     ]
    }
   ],
   "source": [
    "x = 85\n",
    "\n",
    "if x > 10:\n",
    "  print(\"Lebih dari 10,\")\n",
    "  if x > 20:\n",
    "    print(\"Lebih dari 50\")\n",
    "  else:\n",
    "    print(\"Tidak lebih dari 50\")"
   ]
  },
  {
   "cell_type": "markdown",
   "id": "1e501c63",
   "metadata": {},
   "source": [
    "## Python While Loops"
   ]
  },
  {
   "cell_type": "code",
   "execution_count": 41,
   "id": "4cac1706",
   "metadata": {},
   "outputs": [
    {
     "name": "stdout",
     "output_type": "stream",
     "text": [
      "1\n",
      "2\n",
      "3\n",
      "4\n",
      "5\n",
      "6\n",
      "7\n"
     ]
    }
   ],
   "source": [
    "i = 1\n",
    "while i < 8:\n",
    "  print(i)\n",
    "  i += 1"
   ]
  },
  {
   "cell_type": "code",
   "execution_count": 42,
   "id": "e797427d",
   "metadata": {},
   "outputs": [
    {
     "name": "stdout",
     "output_type": "stream",
     "text": [
      "2\n",
      "3\n"
     ]
    }
   ],
   "source": [
    "i = 2\n",
    "while i < 8:\n",
    "  print(i)\n",
    "  if i == 3:\n",
    "    break\n",
    "  i += 1"
   ]
  },
  {
   "cell_type": "code",
   "execution_count": 43,
   "id": "bc4866c1",
   "metadata": {},
   "outputs": [
    {
     "name": "stdout",
     "output_type": "stream",
     "text": [
      "1\n",
      "2\n",
      "3\n",
      "5\n",
      "6\n",
      "7\n",
      "8\n"
     ]
    }
   ],
   "source": [
    "i = 0\n",
    "while i < 8:\n",
    "  i += 1\n",
    "  if i == 4:\n",
    "    continue\n",
    "  print(i)"
   ]
  },
  {
   "cell_type": "code",
   "execution_count": 45,
   "id": "40c1fec0",
   "metadata": {},
   "outputs": [
    {
     "name": "stdout",
     "output_type": "stream",
     "text": [
      "1\n",
      "2\n",
      "3\n",
      "4\n",
      "5\n",
      "6\n",
      "7\n",
      "i tidak lagi lebih dari 8\n"
     ]
    }
   ],
   "source": [
    "i = 1\n",
    "while i < 8:\n",
    "  print(i)\n",
    "  i += 1\n",
    "else:\n",
    "  print(\"i tidak lagi lebih dari 8\")"
   ]
  },
  {
   "cell_type": "markdown",
   "id": "960f64f1",
   "metadata": {},
   "source": [
    "## For Loops"
   ]
  },
  {
   "cell_type": "code",
   "execution_count": 46,
   "id": "c28de100",
   "metadata": {},
   "outputs": [
    {
     "name": "stdout",
     "output_type": "stream",
     "text": [
      "baju\n",
      "kemeja\n",
      "kaos\n"
     ]
    }
   ],
   "source": [
    "pilihan = [\"baju\", \"kemeja\", \"kaos\"]\n",
    "for x in pilihan:\n",
    "  print(x)\n"
   ]
  },
  {
   "cell_type": "code",
   "execution_count": 47,
   "id": "260bf74a",
   "metadata": {},
   "outputs": [
    {
     "name": "stdout",
     "output_type": "stream",
     "text": [
      "k\n",
      "e\n",
      "m\n",
      "e\n",
      "j\n",
      "a\n"
     ]
    }
   ],
   "source": [
    "for x in \"kemeja\":\n",
    "  print(x)"
   ]
  },
  {
   "cell_type": "code",
   "execution_count": 48,
   "id": "37244b93",
   "metadata": {},
   "outputs": [
    {
     "name": "stdout",
     "output_type": "stream",
     "text": [
      "baju\n",
      "kemeja\n",
      "kaos\n"
     ]
    }
   ],
   "source": [
    "pilihan = [\"baju\", \"kemeja\", \"kaos\", \"sarung\"]\n",
    "for x in pilihan:\n",
    "  print(x)\n",
    "  if x == \"kaos\":\n",
    "    break"
   ]
  },
  {
   "cell_type": "code",
   "execution_count": 49,
   "id": "4d719cd1",
   "metadata": {},
   "outputs": [
    {
     "name": "stdout",
     "output_type": "stream",
     "text": [
      "baju\n"
     ]
    }
   ],
   "source": [
    "pilihan = [\"baju\", \"kemeja\", \"kaos\", \"sarung\"]\n",
    "for x in pilihan:\n",
    "  if x == \"kemeja\":\n",
    "    break\n",
    "  print(x)"
   ]
  },
  {
   "cell_type": "code",
   "execution_count": 50,
   "id": "ab338c19",
   "metadata": {},
   "outputs": [
    {
     "name": "stdout",
     "output_type": "stream",
     "text": [
      "baju\n",
      "kemeja\n",
      "sarung\n"
     ]
    }
   ],
   "source": [
    "pilihan = [\"baju\", \"kemeja\", \"kaos\", \"sarung\"]\n",
    "for x in pilihan:\n",
    "  if x == \"kaos\":\n",
    "    continue\n",
    "  print(x)"
   ]
  },
  {
   "cell_type": "code",
   "execution_count": 51,
   "id": "7e5aacdb",
   "metadata": {},
   "outputs": [
    {
     "name": "stdout",
     "output_type": "stream",
     "text": [
      "0\n",
      "1\n",
      "2\n",
      "3\n",
      "4\n",
      "5\n",
      "6\n",
      "7\n"
     ]
    }
   ],
   "source": [
    "for x in range(8):\n",
    "  print(x)"
   ]
  },
  {
   "cell_type": "code",
   "execution_count": 52,
   "id": "c2ab9b99",
   "metadata": {},
   "outputs": [
    {
     "name": "stdout",
     "output_type": "stream",
     "text": [
      "0\n",
      "1\n",
      "2\n",
      "3\n",
      "4\n",
      "5\n",
      "6\n",
      "7\n"
     ]
    }
   ],
   "source": [
    "for x in range(0, 8):\n",
    "  print(x)"
   ]
  },
  {
   "cell_type": "code",
   "execution_count": 53,
   "id": "8c034110",
   "metadata": {},
   "outputs": [
    {
     "name": "stdout",
     "output_type": "stream",
     "text": [
      "2\n",
      "6\n"
     ]
    }
   ],
   "source": [
    "for x in range(2, 10, 4):\n",
    "  print(x)"
   ]
  },
  {
   "cell_type": "code",
   "execution_count": 54,
   "id": "5c83fbab",
   "metadata": {},
   "outputs": [
    {
     "name": "stdout",
     "output_type": "stream",
     "text": [
      "0\n",
      "1\n",
      "2\n",
      "3\n",
      "4\n",
      "5\n",
      "6\n",
      "7\n",
      "Selesai!\n"
     ]
    }
   ],
   "source": [
    "for x in range(8):\n",
    "  print(x)\n",
    "else:\n",
    "  print(\"Selesai!\")"
   ]
  },
  {
   "cell_type": "code",
   "execution_count": 55,
   "id": "01b9e851",
   "metadata": {},
   "outputs": [
    {
     "name": "stdout",
     "output_type": "stream",
     "text": [
      "0\n",
      "1\n"
     ]
    }
   ],
   "source": [
    "for x in range(8):\n",
    "  if x == 2: break\n",
    "  print(x)\n",
    "else:\n",
    "  print(\"Selesai!\")"
   ]
  },
  {
   "cell_type": "code",
   "execution_count": 57,
   "id": "eb83beee",
   "metadata": {},
   "outputs": [
    {
     "name": "stdout",
     "output_type": "stream",
     "text": [
      "baju merah\n",
      "baju hitam\n",
      "baju kuning\n",
      "kemeja merah\n",
      "kemeja hitam\n",
      "kemeja kuning\n",
      "kaos merah\n",
      "kaos hitam\n",
      "kaos kuning\n",
      "sarung merah\n",
      "sarung hitam\n",
      "sarung kuning\n"
     ]
    }
   ],
   "source": [
    "pilihan = [\"baju\", \"kemeja\", \"kaos\", \"sarung\"]\n",
    "warna = [\"merah\", \"hitam\", \"kuning\"]\n",
    "\n",
    "for x in pilihan:\n",
    "  for y in warna:\n",
    "    print(x, y)"
   ]
  }
 ],
 "metadata": {
  "kernelspec": {
   "display_name": "Python 3",
   "language": "python",
   "name": "python3"
  },
  "language_info": {
   "codemirror_mode": {
    "name": "ipython",
    "version": 3
   },
   "file_extension": ".py",
   "mimetype": "text/x-python",
   "name": "python",
   "nbconvert_exporter": "python",
   "pygments_lexer": "ipython3",
   "version": "3.8.8"
  }
 },
 "nbformat": 4,
 "nbformat_minor": 5
}
