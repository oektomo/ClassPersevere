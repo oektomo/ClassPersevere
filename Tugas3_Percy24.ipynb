{
 "cells": [
  {
   "cell_type": "markdown",
   "metadata": {},
   "source": [
    "# Computer Vision"
   ]
  },
  {
   "cell_type": "markdown",
   "metadata": {},
   "source": [
    "Pengertian : ilmu yang dapat memungkinkan suatu komputer untuk melihat benda atau objek yang berada di sekitarnya.\n",
    "\n",
    "dengan kemampuan tersebut komputer dapat menganalisis sendiri benda atau gambar yang berada du depan sehingga informasi tersebut dapat menghasilkan suatu perintah tertentu."
   ]
  },
  {
   "cell_type": "markdown",
   "metadata": {},
   "source": [
    "Contoh Produk : Intel dan Health GE Healthcare memperkenalkan Algoritma AI pada sinar X yang berfungsi mendeteksi kondisi yang mengancam jiwa dalam hitungan detik,mengoptimalkan alur kerja, Serta memprioritaskan kasus krisis dengan meningkatkan akurasi dan kecepatan pencitraan medis.\n",
    "\n",
    "Perangkat keras seperti Fingerprint,scan foto dan mengrecognisi suatu pelat kendaraan melalui kamera cctv (image labelling)\n",
    "\n",
    "Sumber : https://www.intel.co.id/content/www/id/id/customer-spotlight/stories/ge-healthcare-medical-imaging.html"
   ]
  },
  {
   "cell_type": "markdown",
   "metadata": {},
   "source": [
    "# Natural Language Processing ( NLP)"
   ]
  },
  {
   "cell_type": "markdown",
   "metadata": {},
   "source": [
    "Pengertian : cabang dari Kecerdasan buatan yang berhubungan dalam interaksi antara manusia dan komputer dengan menggunakan bahasa alami.\n",
    "\n",
    "terdapat berbagai pendekatan yang digunakan komputer agar memahami bahasa manusia contohnya :\n",
    "\n",
    "- pendekatan simbolik (pendekatan yang didasarkan pada aturan manusia)\n",
    "- pendekatan statistik (pendekatan yang didasarkan fenomena yang berulang)"
   ]
  },
  {
   "cell_type": "markdown",
   "metadata": {},
   "source": [
    "Contoh Produk : \n",
    " - Penggunaan aplikasi terjemahan seperti google translate\n",
    " - aplikasi pengolah kata seperti microsoft word yang menggunakan NLP untuk  memeriksa keakuratan tata bahasa teks.\n",
    " - aplikasi personal assistant seperti Ok google,siri,cortana,alexa\n",
    " \n",
    "sumber : https://glints.com/id/lowongan/natural-language-processing-adalah/#.YiWJcnpBy3A"
   ]
  },
  {
   "cell_type": "markdown",
   "metadata": {},
   "source": [
    "# Data Science"
   ]
  },
  {
   "cell_type": "markdown",
   "metadata": {},
   "source": [
    "pengertian : kemampuan untuk melakukan pengolahan data dengan tujuan mengumpulkan,menafsirkan dan menganilisis kumpulan data terstruktur.\n",
    "\n",
    "https://blog.skillacademy.com/apa-itu-data-scientist"
   ]
  },
  {
   "cell_type": "markdown",
   "metadata": {},
   "source": [
    "Contoh Produk : Pada aplikasi bibit,terdapat machine yang bernama robo advisor yang memberi kita rekomendasi portofolio saham,obligasi serta pasar uang yang sesuai dengan tingkatan resiko yang kita pilih\n",
    "\n",
    "contoh Produk ke-2 : E- Commerse,Mengambil data dari pelanggan untuk dipelajari apa saja yang pelanggan suka searching untuk ditempatkan pada halaman utama contoh app nya seperti tokopedia,Shopee"
   ]
  }
 ],
 "metadata": {
  "kernelspec": {
   "display_name": "Python 3",
   "language": "python",
   "name": "python3"
  },
  "language_info": {
   "codemirror_mode": {
    "name": "ipython",
    "version": 3
   },
   "file_extension": ".py",
   "mimetype": "text/x-python",
   "name": "python",
   "nbconvert_exporter": "python",
   "pygments_lexer": "ipython3",
   "version": "3.8.5"
  }
 },
 "nbformat": 4,
 "nbformat_minor": 4
}
