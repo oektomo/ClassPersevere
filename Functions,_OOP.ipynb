{
  "nbformat": 4,
  "nbformat_minor": 0,
  "metadata": {
    "colab": {
      "name": "Functions, OOP.ipynb",
      "provenance": [],
      "collapsed_sections": [],
      "include_colab_link": true
    },
    "kernelspec": {
      "display_name": "Python 3",
      "language": "python",
      "name": "python3"
    },
    "language_info": {
      "codemirror_mode": {
        "name": "ipython",
        "version": 3
      },
      "file_extension": ".py",
      "mimetype": "text/x-python",
      "name": "python",
      "nbconvert_exporter": "python",
      "pygments_lexer": "ipython3",
      "version": "3.7.6"
    }
  },
  "cells": [
    {
      "cell_type": "markdown",
      "metadata": {
        "id": "view-in-github",
        "colab_type": "text"
      },
      "source": [
        "<a href=\"https://colab.research.google.com/github/ervinanh/ClassPersevere-1/blob/percy02/Functions%2C_OOP.ipynb\" target=\"_parent\"><img src=\"https://colab.research.google.com/assets/colab-badge.svg\" alt=\"Open In Colab\"/></a>"
      ]
    },
    {
      "cell_type": "markdown",
      "metadata": {
        "id": "Le8N3SLcbiAd"
      },
      "source": [
        "# **Fungsi**"
      ]
    },
    {
      "cell_type": "code",
      "metadata": {
        "colab": {
          "base_uri": "https://localhost:8080/"
        },
        "id": "ywDbPVukTDYd",
        "outputId": "5d8285a9-e431-4193-9d0d-c70b32bc7379"
      },
      "source": [
        "# Deklarasi Fungsi\n",
        "def cetak(x):\n",
        "  print(x)\n",
        "\n",
        "# Memanggil Fungsi\n",
        "cetak(\"wokee\")"
      ],
      "execution_count": null,
      "outputs": [
        {
          "output_type": "stream",
          "name": "stdout",
          "text": [
            "wokee\n"
          ]
        }
      ]
    },
    {
      "cell_type": "code",
      "metadata": {
        "colab": {
          "base_uri": "https://localhost:8080/"
        },
        "id": "RipUgd0NTdjo",
        "outputId": "14063209-3c09-4552-a6f0-2e36e3a12891"
      },
      "source": [
        "# Deklarasi Fungsi dengan pengembalian\n",
        "def tambah(a, b):\n",
        "  return a + b;\n",
        "\n",
        "# Memanggil Fungsi\n",
        "print(tambah(2, 3))"
      ],
      "execution_count": null,
      "outputs": [
        {
          "output_type": "stream",
          "name": "stdout",
          "text": [
            "5\n"
          ]
        }
      ]
    },
    {
      "cell_type": "code",
      "metadata": {
        "id": "9r0oXaTxVRvi",
        "colab": {
          "base_uri": "https://localhost:8080/",
          "height": 129
        },
        "outputId": "c80a5ce6-12d1-42e6-e35b-7d986eeb2d31"
      },
      "source": [
        "def nama_fungsi(arg1, arg2, ...):\n",
        "  # isi fungsi\n",
        "\n",
        "def fungsi_dengan_pengembalian(arg1, arg2, ...):\n",
        "  # isi fungsi\n",
        "  return 'sesuatu'"
      ],
      "execution_count": null,
      "outputs": [
        {
          "output_type": "error",
          "ename": "SyntaxError",
          "evalue": "ignored",
          "traceback": [
            "\u001b[0;36m  File \u001b[0;32m\"<ipython-input-3-ef2e3d650e13>\"\u001b[0;36m, line \u001b[0;32m1\u001b[0m\n\u001b[0;31m    def nama_fungsi(arg1, arg2, ...):\u001b[0m\n\u001b[0m                                  ^\u001b[0m\n\u001b[0;31mSyntaxError\u001b[0m\u001b[0;31m:\u001b[0m invalid syntax\n"
          ]
        }
      ]
    },
    {
      "cell_type": "markdown",
      "metadata": {
        "id": "3WbfqdEWbtsl"
      },
      "source": [
        "# **Lambda Expression**"
      ]
    },
    {
      "cell_type": "code",
      "metadata": {
        "colab": {
          "base_uri": "https://localhost:8080/"
        },
        "id": "wmZuN2s7ZzAZ",
        "outputId": "98cd1563-3516-4839-f532-baa60dbe6272"
      },
      "source": [
        "# Lambda expression\n",
        "tambah = lambda a, b: (a + b)\n",
        "print(tambah(2, 3))"
      ],
      "execution_count": null,
      "outputs": [
        {
          "output_type": "stream",
          "name": "stdout",
          "text": [
            "5\n"
          ]
        }
      ]
    },
    {
      "cell_type": "markdown",
      "source": [
        "# **Error Handling**"
      ],
      "metadata": {
        "id": "EsIHPIFUasQx"
      }
    },
    {
      "cell_type": "code",
      "source": [
        "try:\n",
        "    x = 1 / 0\n",
        "except ZeroDivisionError:\n",
        "    print('divided by zero')\n",
        "    print('executed when exception occurs')\n",
        "else:\n",
        "    print('executed only when exception does not occur')\n",
        "finally:\n",
        "    print('finally block, always executed')"
      ],
      "metadata": {
        "colab": {
          "base_uri": "https://localhost:8080/"
        },
        "id": "0kucfUh7bNWh",
        "outputId": "abb2a975-b670-498c-ca65-2248332ba277"
      },
      "execution_count": null,
      "outputs": [
        {
          "output_type": "stream",
          "name": "stdout",
          "text": [
            "divided by zero\n",
            "executed when exception occurs\n",
            "finally block, always executed\n"
          ]
        }
      ]
    },
    {
      "cell_type": "code",
      "source": [
        "orang = {'nama':'budi', 'umur':20}\n",
        "\n",
        "try:\n",
        "    print(orang['no_hp'])\n",
        "except LookupError:\n",
        "    print('Key Tidak Ditemukan')\n",
        "else:\n",
        "    print('executed only when exception does not occur')\n",
        "finally:\n",
        "    print('finally block, always executed')"
      ],
      "metadata": {
        "colab": {
          "base_uri": "https://localhost:8080/"
        },
        "id": "u5Sc_MHZbX22",
        "outputId": "eea1f254-7e4c-441b-8799-ac17495a9520"
      },
      "execution_count": null,
      "outputs": [
        {
          "output_type": "stream",
          "name": "stdout",
          "text": [
            "Key Tidak Ditemukan\n",
            "finally block, always executed\n"
          ]
        }
      ]
    },
    {
      "cell_type": "code",
      "source": [
        "orang = {'nama':'budi', 'umur':20}\n",
        "\n",
        "try:\n",
        "    x=1/0\n",
        "except LookupError:\n",
        "    print('Key Tidak Ditemukan')\n",
        "else:\n",
        "    print('executed only when exception does not occur')\n",
        "finally:\n",
        "    print('finally block, always executed')"
      ],
      "metadata": {
        "id": "RcNCmIccbwcL"
      },
      "execution_count": null,
      "outputs": []
    },
    {
      "cell_type": "markdown",
      "metadata": {
        "id": "jxicmjLxkXCa"
      },
      "source": [
        "# **Object Oriented Programming**"
      ]
    },
    {
      "cell_type": "markdown",
      "metadata": {
        "id": "SLOP8yGkbpLO"
      },
      "source": [
        "# **Method**"
      ]
    },
    {
      "cell_type": "code",
      "metadata": {
        "id": "P_Z6c_AYWi71"
      },
      "source": [
        "class NamaClass:\n",
        "  def nama_method(arg1, arg2, ...):\n",
        "    # isi method"
      ],
      "execution_count": null,
      "outputs": []
    },
    {
      "cell_type": "code",
      "metadata": {
        "colab": {
          "base_uri": "https://localhost:8080/"
        },
        "id": "uh927B9_W0N1",
        "outputId": "45144c9f-46e9-4d05-c74b-c7eceb5e820e"
      },
      "source": [
        "# Deklarasi Object (Class)\n",
        "class Kucing(object):\n",
        "  def meong(self):\n",
        "    print(\"meeooong\")\n",
        "\n",
        "# Memanggil method\n",
        "cat = Kucing()\n",
        "cat.meong()"
      ],
      "execution_count": null,
      "outputs": [
        {
          "output_type": "stream",
          "name": "stdout",
          "text": [
            "meeooong\n"
          ]
        }
      ]
    },
    {
      "cell_type": "markdown",
      "metadata": {
        "id": "K_u-Dtb6kcBm"
      },
      "source": [
        "## **Encapsulation**"
      ]
    },
    {
      "cell_type": "code",
      "metadata": {
        "colab": {
          "base_uri": "https://localhost:8080/"
        },
        "id": "9-CEKFKYm2AA",
        "outputId": "2de8dfb7-1355-4bff-8fea-eeed46562f8a"
      },
      "source": [
        "nama = \"cemong\"\n",
        "usia = 1\n",
        "warna = \"putih coklat muda\"\n",
        "jenis = \"anggora\"\n",
        "\n",
        "def meongg():\n",
        "  print(\"meeeoonnggg... \")\n",
        "\n",
        "def info_kucing(nama, usia, warna, jenis):\n",
        "  print(f\"nama: {nama}, usia: {usia}, warna: {warna}, jenis: {jenis}\")\n",
        "\n",
        "info_kucing(nama, usia, warna, jenis)\n",
        "\n",
        "\n",
        "class Kucing:\n",
        "  def __init__(self, input_nama, input_usia, input_warna, input_jenis):\n",
        "    self.nama = input_nama\n",
        "    self.usia = input_usia\n",
        "    self.warna = input_warna\n",
        "    self.jenis = input_jenis\n",
        "  \n",
        "  def meong(self):\n",
        "    print(\"meeeoonnggg... \")\n",
        "\n",
        "  def info(self):\n",
        "    print(f\"nama: {self.nama}, usia: {self.usia}, warna: {self.warna}, jenis: {self.jenis}\")\n",
        "\n",
        "\n",
        "kucing1 = Kucing(\"cemong\", 1, \"putih coklat muda\", \"anggora\")\n",
        "\n",
        "kucing1.info()\n",
        "kucing1.meong()"
      ],
      "execution_count": null,
      "outputs": [
        {
          "output_type": "stream",
          "name": "stdout",
          "text": [
            "nama: cemong, usia: 1, warna: putih coklat muda, jenis: anggora\n",
            "nama: cemong, usia: 1, warna: putih coklat muda, jenis: anggora\n",
            "meeeoonnggg... \n"
          ]
        }
      ]
    },
    {
      "cell_type": "markdown",
      "metadata": {
        "id": "wBoEkCxewdrg"
      },
      "source": [
        "## **Inheritence**"
      ]
    },
    {
      "cell_type": "code",
      "metadata": {
        "colab": {
          "base_uri": "https://localhost:8080/"
        },
        "id": "HsVgKNgowiRP",
        "outputId": "a8143bcf-8d90-4e68-ceb9-4c08d162fcfb"
      },
      "source": [
        "class Binatang(object):\n",
        "  def __init__(self, nama, usia, jenis, mamalia):\n",
        "    self.nama = nama\n",
        "    self.usia = usia\n",
        "    self.jenis = jenis\n",
        "    self.mamalia = mamalia\n",
        "\n",
        "  def tidur(self, durasi):\n",
        "    for x in range(durasi):\n",
        "      print(\"ddrrr... ddrrr... \")\n",
        "\n",
        "  def info(self):\n",
        "    print(f\"nama: {self.nama}, usia: {self.usia}, jenis: {self.jenis}, mamalia: {self.mamalia}\")\n",
        "\n",
        "\n",
        "animal1 = Binatang(\"cemong\", 1, \"omnivora\", True)\n",
        "\n",
        "animal1.info()\n",
        "\n",
        "class Kucing(Binatang):\n",
        "  def __init__(self,  nama, usia, jenis, mamalia, warna, jenis_kucing):\n",
        "    super().__init__(nama, usia, jenis, mamalia)\n",
        "    self.warna = warna\n",
        "    self.jenis_kucing = jenis_kucing\n",
        "  \n",
        "  def meong(self):\n",
        "    print(\"meeeonnggg\")\n",
        "\n",
        "  def info_kucing(self):\n",
        "    print(f\"warna: {self.warna}, jenis kucing: {self.jenis_kucing}\")\n",
        "\n",
        "cat1 = Kucing(\"cemong\", 1, \"omnivora\", True, \"putih coklat muda\", \"anggora\")\n",
        "\n",
        "cat1.info()\n",
        "cat1.info_kucing()\n",
        "cat1.tidur(5)"
      ],
      "execution_count": null,
      "outputs": [
        {
          "output_type": "stream",
          "name": "stdout",
          "text": [
            "nama: cemong, usia: 1, jenis: omnivora, mamalia: True\n",
            "nama: cemong, usia: 1, jenis: omnivora, mamalia: True\n",
            "warna: putih coklat muda, jenis kucing: anggora\n",
            "ddrrr... ddrrr... \n",
            "ddrrr... ddrrr... \n",
            "ddrrr... ddrrr... \n",
            "ddrrr... ddrrr... \n",
            "ddrrr... ddrrr... \n"
          ]
        }
      ]
    },
    {
      "cell_type": "markdown",
      "metadata": {
        "id": "Xpt9Lz6vqN-z"
      },
      "source": [
        "## **Abstraction**"
      ]
    },
    {
      "cell_type": "code",
      "metadata": {
        "id": "-i66C4QcPS4N"
      },
      "source": [
        "from abc import abstractmethod, ABC"
      ],
      "execution_count": null,
      "outputs": []
    },
    {
      "cell_type": "code",
      "metadata": {
        "colab": {
          "base_uri": "https://localhost:8080/"
        },
        "id": "fwa_TEf-v_8f",
        "outputId": "836cbcfd-c599-460c-e7a4-28b7c1e7b776"
      },
      "source": [
        "class Absclass(ABC):\n",
        "    def cetak(self,x):\n",
        "        print(\"Passed value: \", x)\n",
        "    \n",
        "    @abstractmethod\n",
        "    def task(self):\n",
        "        pass\n",
        "\n",
        "        \n",
        "class test_class(Absclass):\n",
        "    def task(self):\n",
        "        print(\"We are inside test_class task\")\n",
        "\n",
        "    def cetak2(self):\n",
        "        print('a')\n",
        "        \n",
        "        \n",
        "class example_class(Absclass):\n",
        "    def task(self):\n",
        "        print(\"We are inside example_class task\")\n",
        "\n",
        "\n",
        "#object of test_class created\n",
        "test_obj = test_class()\n",
        "test_obj.task()\n",
        "test_obj.cetak(100)\n",
        "test_obj.cetak2()\n",
        "\n",
        "\n",
        "#object of example_class created\n",
        "example_obj = example_class()\n",
        "example_obj.task()\n",
        "example_obj.cetak(200)\n",
        " \n",
        "print(\"test_obj is instance of Absclass? \", isinstance(test_obj, Absclass))\n",
        "print(\"example_obj is instance of Absclass? \", isinstance(example_obj, Absclass))"
      ],
      "execution_count": null,
      "outputs": [
        {
          "output_type": "stream",
          "name": "stdout",
          "text": [
            "We are inside test_class task\n",
            "Passed value:  100\n",
            "a\n",
            "We are inside example_class task\n",
            "Passed value:  200\n",
            "test_obj is instance of Absclass?  True\n",
            "example_obj is instance of Absclass?  True\n"
          ]
        }
      ]
    },
    {
      "cell_type": "markdown",
      "metadata": {
        "id": "lLLHjBNp1HDe"
      },
      "source": [
        "## **Polymorphism**"
      ]
    },
    {
      "cell_type": "markdown",
      "source": [
        "pada contoh dibawah kita bisa lihat contoh polymorphism, dimana kita bisa melihat kalau kelas binatang dapat diturunkan menjadi beberapa class seperti ikan dan panda"
      ],
      "metadata": {
        "id": "sNHSk46pmTD4"
      }
    },
    {
      "cell_type": "code",
      "metadata": {
        "colab": {
          "base_uri": "https://localhost:8080/"
        },
        "id": "BZLA6LDrxDHr",
        "outputId": "8dda5f4a-c845-40af-a40b-e81b588dfe5a"
      },
      "source": [
        "class Binatang(object):\n",
        "  def __init__(self, nama, usia, jenis, mamalia):\n",
        "    self.nama = nama\n",
        "    self.usia = usia\n",
        "    self.jenis = jenis\n",
        "    self.mamalia = mamalia\n",
        "\n",
        "  def tidur(self, durasi):\n",
        "    for x in range(durasi):\n",
        "      print(\"ddrrr... ddrrr... \")\n",
        "\n",
        "  def info(self):\n",
        "    print(f\"nama: {self.nama}, usia: {self.usia}, jenis: {self.jenis}, mamalia: {self.mamalia}\")\n",
        "\n",
        "\n",
        "class Ikan(Binatang):\n",
        "  def __init__(self,  nama, usia, jenis, mamalia, warna, jenis_air, jenis_ikan):\n",
        "    super().__init__(nama, usia, jenis, mamalia)\n",
        "    self.warna = warna\n",
        "    self.jenis_air = jenis_air\n",
        "    self.jenis_ikan = jenis_ikan\n",
        "  \n",
        "  def berenang(self, durasi):\n",
        "    print(\"wushh... wush... \")\n",
        "\n",
        "  def info_ikan(self):\n",
        "    print(f\"warna: {self.warna}, jenis ikan: {self.jenis_ikan}, jenis air: {self.jenis_air}\")\n",
        "\n",
        "class Panda(Binatang):\n",
        "  def __init__(self, nama, usia, jenis, mamalia, warna):\n",
        "    super().__init__(nama, usia, jenis, mamalia)\n",
        "    self.warna = warna\n",
        "  \n",
        "  def makan_bambu(self, tangkai):\n",
        "    if tangkai >=5 :\n",
        "      print(\"kenyaang\")\n",
        "    else:\n",
        "      print(\"lapaar\")\n",
        "\n",
        "fish1 = Ikan(\"Jago\", 2, \"omnivora\", False, \"Merah Putih\", \"Tawar\", \"Cupang\")\n",
        "\n",
        "fish1.info()\n",
        "fish1.info_ikan()\n",
        "fish1.tidur(5)\n",
        "\n",
        "\n",
        "panda1 = Panda(\"Poo\", 4, \"herbivora\", True, \"Putih Hitam\")\n",
        "\n",
        "panda1.info()\n",
        "panda1.tidur(2)\n",
        "panda1.makan_bambu(5)"
      ],
      "execution_count": null,
      "outputs": [
        {
          "output_type": "stream",
          "name": "stdout",
          "text": [
            "nama: Jago, usia: 2, jenis: omnivora, mamalia: False\n",
            "warna: Merah Putih, jenis ikan: Cupang, jenis air: Tawar\n",
            "ddrrr... ddrrr... \n",
            "ddrrr... ddrrr... \n",
            "ddrrr... ddrrr... \n",
            "ddrrr... ddrrr... \n",
            "ddrrr... ddrrr... \n",
            "nama: Poo, usia: 4, jenis: herbivora, mamalia: True\n",
            "ddrrr... ddrrr... \n",
            "ddrrr... ddrrr... \n",
            "kenyaang\n"
          ]
        }
      ]
    },
    {
      "cell_type": "markdown",
      "metadata": {
        "id": "bse6mJ62GOR1"
      },
      "source": [
        "## **Activity OOP**\n",
        "\n",
        "Buatlah 3 OOP beserta turunannya dari objek sekitar, buat ulang seperti yang diatas (encapsulation, abstaction, inheritance, polymorphism)"
      ]
    }
  ]
}