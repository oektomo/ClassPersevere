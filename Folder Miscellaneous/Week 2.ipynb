{
 "cells": [
  {
   "cell_type": "markdown",
   "id": "e75e62b5",
   "metadata": {},
   "source": [
    "# Python Home"
   ]
  },
  {
   "cell_type": "code",
   "execution_count": null,
   "id": "5ece97f1",
   "metadata": {},
   "outputs": [],
   "source": [
    "# Fungsi cetak\n",
    "\n",
    "print(\"Hello World!\")"
   ]
  },
  {
   "cell_type": "code",
   "execution_count": null,
   "id": "ec1bdda3",
   "metadata": {},
   "outputs": [],
   "source": [
    "# Indentasi pada Python penting karena mengindikasikan blok kode\n",
    "\n",
    "if 5 > 2:\n",
    "  print(\"Five is greater than two!\") \n",
    "\n",
    "# Pada satu blok kode yang sama, jumlah spasi pada incentasi haruslah sama agar tidak error\n",
    "\n",
    "# if 5 > 2:\n",
    "        # print(\"Five is greater than two!\") \n",
    "\n",
    "# Akan terjadi error apabila komen dihapus"
   ]
  },
  {
   "cell_type": "code",
   "execution_count": null,
   "id": "57130a42",
   "metadata": {},
   "outputs": [],
   "source": [
    "# Mendifinisikan variabel\n",
    "\n",
    "x = 5\n",
    "y = \"Hello World!\"\n",
    "\n",
    "print(x)\n",
    "print(y)"
   ]
  },
  {
   "cell_type": "code",
   "execution_count": null,
   "id": "be8748da",
   "metadata": {},
   "outputs": [],
   "source": [
    "# Ini komen\n",
    "\"\"\"\n",
    "Ini juga komen\n",
    "karena Python mengabaikan String yang tidak dimasukan dalam variabel\n",
    "\"\"\""
   ]
  },
  {
   "cell_type": "code",
   "execution_count": null,
   "id": "35f44ea8",
   "metadata": {},
   "outputs": [],
   "source": [
    "# Ini namanya casting - yaitu menspesifikan tipe data dari variabel\n",
    "x = str(3)\n",
    "y = int(3)\n",
    "z = float(3)"
   ]
  },
  {
   "cell_type": "code",
   "execution_count": 1,
   "id": "220fe38d",
   "metadata": {},
   "outputs": [
    {
     "name": "stdout",
     "output_type": "stream",
     "text": [
      "<class 'int'>\n",
      "<class 'str'>\n"
     ]
    }
   ],
   "source": [
    "# Mencetak tipe data dari variabel\n",
    "x = 5\n",
    "y = \"Kilkul\"\n",
    "print(type(x))\n",
    "print(type(y))"
   ]
  },
  {
   "cell_type": "code",
   "execution_count": null,
   "id": "34e5b5dc",
   "metadata": {},
   "outputs": [],
   "source": [
    "# Python tidak membedakan petik 2 \"\" dan petik 1 ''\n",
    "# Python juga case sensitive\n",
    "# Variabel dapat dimulai dengan huruf atau underscore _\n",
    "# Variabel dapat mengandung alpha-numeric character (A-z, 0-9) dan underscore _"
   ]
  },
  {
   "cell_type": "code",
   "execution_count": 2,
   "id": "dcb8af02",
   "metadata": {},
   "outputs": [
    {
     "name": "stdout",
     "output_type": "stream",
     "text": [
      "Orange\n",
      "Banana\n",
      "Apple\n"
     ]
    }
   ],
   "source": [
    "# Deklarasi banyak nilai pada banyak variabel dalam satu baris\n",
    "x, y, z = \"Orange\", \"Banana\", \"Apple\"\n",
    "print(x)\n",
    "print(y)\n",
    "print(z)"
   ]
  },
  {
   "cell_type": "code",
   "execution_count": 4,
   "id": "9d141750",
   "metadata": {},
   "outputs": [
    {
     "name": "stdout",
     "output_type": "stream",
     "text": [
      "Orange\n",
      "Orange\n",
      "Orange\n"
     ]
    }
   ],
   "source": [
    "# Deklarasi banyak nilai pada satu variabel\n",
    "x = y = z = \"Orange\"\n",
    "print(x)\n",
    "print(y)\n",
    "print(z)"
   ]
  },
  {
   "cell_type": "code",
   "execution_count": 5,
   "id": "4500324e",
   "metadata": {},
   "outputs": [
    {
     "name": "stdout",
     "output_type": "stream",
     "text": [
      "apple\n",
      "banana\n",
      "cherry\n"
     ]
    }
   ],
   "source": [
    "# Unpacking Collection seperti list atau tuple\n",
    "fruits = [\"apple\", \"banana\", \"cherry\"]\n",
    "x, y, z = fruits\n",
    "print(x)\n",
    "print(y)\n",
    "print(z)"
   ]
  },
  {
   "cell_type": "code",
   "execution_count": 8,
   "id": "aeb2df97",
   "metadata": {},
   "outputs": [
    {
     "name": "stdout",
     "output_type": "stream",
     "text": [
      "Python is awesome\n",
      "Python is awesome\n"
     ]
    }
   ],
   "source": [
    "# Output variabel\n",
    "x = \"awesome\"\n",
    "print(\"Python is \" + x)\n",
    "\n",
    "# Atau dapat seperti ini\n",
    "y = \"Python is \"\n",
    "z = \"awesome\"\n",
    "a = y + z\n",
    "print(a)"
   ]
  },
  {
   "cell_type": "code",
   "execution_count": 9,
   "id": "a3e3cee8",
   "metadata": {},
   "outputs": [
    {
     "ename": "TypeError",
     "evalue": "unsupported operand type(s) for +: 'int' and 'str'",
     "output_type": "error",
     "traceback": [
      "\u001b[1;31m---------------------------------------------------------------------------\u001b[0m",
      "\u001b[1;31mTypeError\u001b[0m                                 Traceback (most recent call last)",
      "\u001b[1;32md:\\Kilkul Projects\\Python\\Orbit\\Week 2.ipynb Cell 13'\u001b[0m in \u001b[0;36m<module>\u001b[1;34m\u001b[0m\n\u001b[0;32m      <a href='vscode-notebook-cell:/d%3A/Kilkul%20Projects/Python/Orbit/Week%202.ipynb#ch0000012?line=1'>2</a>\u001b[0m x \u001b[39m=\u001b[39m \u001b[39m5\u001b[39m\n\u001b[0;32m      <a href='vscode-notebook-cell:/d%3A/Kilkul%20Projects/Python/Orbit/Week%202.ipynb#ch0000012?line=2'>3</a>\u001b[0m y \u001b[39m=\u001b[39m \u001b[39m\"\u001b[39m\u001b[39mKilkul\u001b[39m\u001b[39m\"\u001b[39m\n\u001b[1;32m----> <a href='vscode-notebook-cell:/d%3A/Kilkul%20Projects/Python/Orbit/Week%202.ipynb#ch0000012?line=3'>4</a>\u001b[0m z \u001b[39m=\u001b[39m x \u001b[39m+\u001b[39;49m y\n\u001b[0;32m      <a href='vscode-notebook-cell:/d%3A/Kilkul%20Projects/Python/Orbit/Week%202.ipynb#ch0000012?line=4'>5</a>\u001b[0m \u001b[39mprint\u001b[39m(z)\n",
      "\u001b[1;31mTypeError\u001b[0m: unsupported operand type(s) for +: 'int' and 'str'"
     ]
    }
   ],
   "source": [
    "# Kalo string + number bakal error\n",
    "x = 5\n",
    "y = \"Kilkul\"\n",
    "z = x + y\n",
    "print(z)"
   ]
  },
  {
   "cell_type": "code",
   "execution_count": 11,
   "id": "41ee77f6",
   "metadata": {},
   "outputs": [
    {
     "name": "stdout",
     "output_type": "stream",
     "text": [
      "Python is awesome\n",
      "Python is cool\n"
     ]
    }
   ],
   "source": [
    "# Global variabel adalah variabel yang didefinisikan diluar sebuah function\n",
    "x = \"awesome\"\n",
    "\n",
    "def fun():\n",
    "    print(\"Python is \" + x)\n",
    "\n",
    "fun()\n",
    "\n",
    "# Kalo nama variabelnya sama maka yg dieksekusi adalah variabel lokal (yg di dalem function)\n",
    "x = \"awesome\"\n",
    "\n",
    "def fun2():\n",
    "    x = \"cool\"\n",
    "    print(\"Python is \" + x)\n",
    "\n",
    "fun2()\n"
   ]
  },
  {
   "cell_type": "code",
   "execution_count": 12,
   "id": "f724e8a8",
   "metadata": {},
   "outputs": [
    {
     "name": "stdout",
     "output_type": "stream",
     "text": [
      "Python is fantastic\n"
     ]
    }
   ],
   "source": [
    "# Bikin variabel lokal jadi global\n",
    "def fun():\n",
    "    global x\n",
    "    x = \"fantastic\"\n",
    "\n",
    "fun()\n",
    "\n",
    "print(\"Python is \" + x)"
   ]
  },
  {
   "cell_type": "code",
   "execution_count": 13,
   "id": "7cec5072",
   "metadata": {},
   "outputs": [
    {
     "name": "stdout",
     "output_type": "stream",
     "text": [
      "Python is fantastic\n"
     ]
    }
   ],
   "source": [
    "# Mengubah variabel global khusus menjadi variabel lokal\n",
    "x=\"awesome\"\n",
    "def fun():\n",
    "    global x\n",
    "    x = \"fantastic\"\n",
    "\n",
    "fun()\n",
    "\n",
    "print(\"Python is \" + x)"
   ]
  },
  {
   "cell_type": "markdown",
   "id": "6a1febb9",
   "metadata": {},
   "source": [
    "# Python Data Types"
   ]
  },
  {
   "cell_type": "code",
   "execution_count": 14,
   "id": "eaeedb34",
   "metadata": {},
   "outputs": [
    {
     "name": "stdout",
     "output_type": "stream",
     "text": [
      "1\n",
      "2.8\n",
      "1j\n",
      "1.0\n",
      "2\n",
      "(1+0j)\n"
     ]
    }
   ],
   "source": [
    "# complex data type adalah tipe data untuk bilangan imajiner, harus menggunakan j sebagai lambang bilangan imajiner\n",
    "varComplex = 1j\n",
    "\n",
    "# tuple data type adalah tipe data untuk array berisi campuran data type\n",
    "varTuple = [1, \"Banana\", 2.5]\n",
    "\n",
    "# Type conversion\n",
    "varInt = 1\n",
    "varFloat = 2.8\n",
    "\n",
    "# convert int to float\n",
    "a = float(varInt)\n",
    "\n",
    "# convert float to int\n",
    "b = int(varFloat)\n",
    "\n",
    "# convert int to complex\n",
    "c = complex(varInt)\n",
    "\n",
    "print(varInt)\n",
    "print(varFloat)\n",
    "print(varComplex)\n",
    "\n",
    "print(a)\n",
    "print(b)\n",
    "print(c)"
   ]
  },
  {
   "cell_type": "code",
   "execution_count": 17,
   "id": "f789682b",
   "metadata": {},
   "outputs": [
    {
     "name": "stdout",
     "output_type": "stream",
     "text": [
      "7\n"
     ]
    }
   ],
   "source": [
    "# Random number harus diimport dulu karena bukan modul bawaan\n",
    "import random\n",
    "\n",
    "print(random.randrange(1,10))"
   ]
  },
  {
   "cell_type": "code",
   "execution_count": 20,
   "id": "a478faad",
   "metadata": {},
   "outputs": [],
   "source": [
    "# Menspesifikan data type\n",
    "x = int(1.98)\n",
    "y = float (3)\n",
    "z = str(\"2.09\")"
   ]
  },
  {
   "cell_type": "code",
   "execution_count": 21,
   "id": "f45fea23",
   "metadata": {},
   "outputs": [
    {
     "name": "stdout",
     "output_type": "stream",
     "text": [
      "Lorem, ipsum dolor sit amet consectetur adipisicing elit. \n",
      "Sunt dolor reprehenderit modi dolores aliquam, voluptas nemo? \n",
      "Sed, amet accusantium debitis ipsa asperiores odio totam! \n",
      "Hic debitis a architecto repellendus molestiae?\n",
      "\n"
     ]
    }
   ],
   "source": [
    "# Multiline string menggunakan 3 tanda petik\n",
    "a = \"\"\"Lorem, ipsum dolor sit amet consectetur adipisicing elit. \n",
    "Sunt dolor reprehenderit modi dolores aliquam, voluptas nemo? \n",
    "Sed, amet accusantium debitis ipsa asperiores odio totam! \n",
    "Hic debitis a architecto repellendus molestiae?\n",
    "\"\"\"\n",
    "\n",
    "print(a)\n",
    "\n"
   ]
  },
  {
   "cell_type": "code",
   "execution_count": 23,
   "id": "4faf8182",
   "metadata": {},
   "outputs": [
    {
     "name": "stdout",
     "output_type": "stream",
     "text": [
      "e\n",
      "b\n",
      "a\n",
      "n\n",
      "a\n",
      "n\n",
      "a\n"
     ]
    }
   ],
   "source": [
    "# String di Python adalah sebuah array!\n",
    "a = \"Hello World!\"\n",
    "print(a[1])\n",
    "\n",
    "# Karena String adalah sebuah array, maka dapat di-loop\n",
    "for x in \"banana\":\n",
    "    print(x)"
   ]
  },
  {
   "cell_type": "code",
   "execution_count": 24,
   "id": "4b0a3320",
   "metadata": {},
   "outputs": [
    {
     "name": "stdout",
     "output_type": "stream",
     "text": [
      "12\n"
     ]
    }
   ],
   "source": [
    "# command len() akan me-return panjang String\n",
    "a = \"Hello World!\"\n",
    "print(len(a))"
   ]
  },
  {
   "cell_type": "code",
   "execution_count": 30,
   "id": "988ca0d2",
   "metadata": {},
   "outputs": [
    {
     "name": "stdout",
     "output_type": "stream",
     "text": [
      "True\n",
      "False\n",
      "Yes, 'free' is present.\n"
     ]
    }
   ],
   "source": [
    "# Untuk mengecek apakah sebuah kata/frase ada dalam String dapat menggunakan in\n",
    "txt = \"The best things in life are free!\"\n",
    "print(\"free\" in txt)\n",
    "print(\"expensive\" in txt)\n",
    "\n",
    "# Menggunakan if\n",
    "if \"free\" in txt:\n",
    "    print(\"Yes, 'free' is present.\")"
   ]
  },
  {
   "cell_type": "code",
   "execution_count": 36,
   "id": "78722b9b",
   "metadata": {},
   "outputs": [
    {
     "name": "stdout",
     "output_type": "stream",
     "text": [
      "llo\n",
      "Hello\n",
      "llo World!\n",
      "Worl\n"
     ]
    }
   ],
   "source": [
    "# Slicing\n",
    "a = \"Hello World!\"\n",
    "print(a[2:5])\n",
    "\n",
    "# Kalo mau dari awal kasih string kosong\n",
    "print(a[:5])\n",
    "\n",
    "# Kalo mau sampai akhir kasih string kosong\n",
    "print(a[2:])\n",
    "\n",
    "# Negative indexing akan running dari akhir ke awal\n",
    "\n",
    "# Get the characters:\n",
    "# From: \"W\" in \"World!\" (position -6)\n",
    "# To, but not included: \"d\" in \"World!\" (position -2):\n",
    "print(a[-6:-2])"
   ]
  },
  {
   "cell_type": "markdown",
   "id": "611c469a",
   "metadata": {},
   "source": [
    "# Modifikasi String"
   ]
  },
  {
   "cell_type": "code",
   "execution_count": 39,
   "id": "e4476502",
   "metadata": {},
   "outputs": [
    {
     "name": "stdout",
     "output_type": "stream",
     "text": [
      "HELLO, WORLD!\n",
      "hello, world!\n",
      "Hello, World!\n",
      "Hello, World!\n",
      "Hello, World!\n"
     ]
    }
   ],
   "source": [
    "a = \"Hello, World!\"\n",
    "\n",
    "# upper() akan return upper case\n",
    "print(a.upper())\n",
    "\n",
    "# lower() akan return lower case\n",
    "print(a.lower())\n",
    "\n",
    "# strip() akan menghapus spasi di awal dan akhir string apabila ada\n",
    "b = \" Hello, World!\"\n",
    "c = \" Hello, World! \"\n",
    "d = \"Hello, World! \"\n",
    "\n",
    "print(b.strip())\n",
    "print(c.strip())\n",
    "print(d.strip())\n",
    "\n"
   ]
  },
  {
   "cell_type": "code",
   "execution_count": 41,
   "id": "db8aaca2",
   "metadata": {},
   "outputs": [
    {
     "name": "stdout",
     "output_type": "stream",
     "text": [
      "MeLLow Mord!\n",
      "['Mellow', 'Mord!']\n"
     ]
    }
   ],
   "source": [
    "# replace() akan menggantikan sebuah string dengan string lainnya\n",
    "a = \"Mellow Mord!\"\n",
    "print(a.replace(\"l\", \"L\"))\n",
    "\n",
    "# split() akan memisahkan string menjadi substring apabila ditemukan instance dari seperatornya\n",
    "a = \"Mellow Mord!\"\n",
    "print(a.split(\" \"))"
   ]
  },
  {
   "cell_type": "code",
   "execution_count": 44,
   "id": "987e431e",
   "metadata": {},
   "outputs": [
    {
     "name": "stdout",
     "output_type": "stream",
     "text": [
      "My name is Kilkul, and I am {}\n",
      "My name is Kilkul, and I am 35\n",
      "I want 2 pieces of item number 543 for 90.43\n",
      "I want to pay 90.43 dollars for 2 pieces of item number 543\n"
     ]
    }
   ],
   "source": [
    "# format() mengambil argument, kemudian diformat, dan dijadikan string dimana placeholdernya adalah bracket {}\n",
    "age = 35\n",
    "txt = \"My name is Kilkul, and I am {}\"\n",
    "print(txt)\n",
    "print(txt.format(age))\n",
    "\n",
    "# format() tidak terbatas kuantitas argumen yang diambilnya\n",
    "quantity = 2\n",
    "item_no = 543\n",
    "harga = 90.43\n",
    "myOrder = \"I want {} pieces of item number {} for {}\"\n",
    "print(myOrder.format(quantity, item_no, harga))\n",
    "\n",
    "# Bisa menggunakan index {0} ==>no index menandakan urutan variabel dalam bracket format<== untuk memastikan argumen ditempatkan di tempat yang benar\n",
    "myOrder2 = \"I want to pay {2} dollars for {0} pieces of item number {1}\"\n",
    "print(myOrder2.format(quantity, item_no, harga))"
   ]
  },
  {
   "cell_type": "code",
   "execution_count": 46,
   "id": "af48d984",
   "metadata": {},
   "outputs": [
    {
     "name": "stdout",
     "output_type": "stream",
     "text": [
      "We are the so-called \"Vikings\" from the north.\n"
     ]
    }
   ],
   "source": [
    "# Escape character adalah backslash \\ yang dapat dimasukan untuk mengisi karakter ilegal pasa string\n",
    "txt = \"We are the so-called \\\"Vikings\\\" from the north.\"\n",
    "print(txt)\n",
    "\n",
    "# \\'\tSingle Quote\t\n",
    "# \\\\\tBackslash\t\n",
    "# \\n\tNew Line\t\n",
    "# \\r\tCarriage Return\t\n",
    "# \\t\tTab\t\n",
    "# \\b\tBackspace\t\n",
    "# \\f\tForm Feed\t\n",
    "# \\ooo\tOctal value\t\n",
    "# \\xhh\tHex value"
   ]
  },
  {
   "cell_type": "markdown",
   "id": "efb2c29d",
   "metadata": {},
   "source": [
    "# Python Boolean"
   ]
  },
  {
   "cell_type": "code",
   "execution_count": 48,
   "id": "af2171d0",
   "metadata": {},
   "outputs": [
    {
     "name": "stdout",
     "output_type": "stream",
     "text": [
      "False\n",
      "b tidak lebih besar dari a\n"
     ]
    }
   ],
   "source": [
    "print(10 == 9)\n",
    "\n",
    "a = 200\n",
    "b = 33\n",
    "\n",
    "if b > a:\n",
    "    print(\"b lebih dari a\")\n",
    "else:\n",
    "    print(\"b tidak lebih besar dari a\")"
   ]
  },
  {
   "cell_type": "code",
   "execution_count": 50,
   "id": "71b38fdf",
   "metadata": {},
   "outputs": [
    {
     "name": "stdout",
     "output_type": "stream",
     "text": [
      "True\n",
      "True\n"
     ]
    }
   ],
   "source": [
    "# Mengevaluasi string dan angka\n",
    "print(bool(\"Hello\"))\n",
    "print(bool(15))\n",
    "\n",
    "# Hampir setiap nilai memiliki nilai True\n",
    "# Setiap String adalah True kecuali empty String\n",
    "# Setiap bilangan adalah True kecuali 0\n",
    "# Setiap list, tuple, dan dictionary adalah True kecualo yang empty"
   ]
  },
  {
   "cell_type": "code",
   "execution_count": 51,
   "id": "979dd4ef",
   "metadata": {},
   "outputs": [
    {
     "name": "stdout",
     "output_type": "stream",
     "text": [
      "False\n"
     ]
    }
   ],
   "source": [
    "class myClass():\n",
    "    def __len__(self):\n",
    "        return 0\n",
    "\n",
    "myObj = myClass()\n",
    "print(bool(myObj))\n",
    "\n",
    "\"\"\"\n",
    "__len__ magic method is used to find the length of the instance attributes. \n",
    "When we use len(instance), it returns the length of the instance attribute which is usually containers. \n",
    "When we invoke the len() method the length of the list named item is returned that is defined inside the __len__ method\n",
    "\"\"\"\n",
    "\n",
    "\"\"\"\n",
    "One more value, or object in this case, evaluates to False, and that is if you have an object that is made from a class with a __len__ function that returns 0 or False\n",
    "\"\"\""
   ]
  },
  {
   "cell_type": "code",
   "execution_count": 52,
   "id": "d53e89d1",
   "metadata": {},
   "outputs": [
    {
     "name": "stdout",
     "output_type": "stream",
     "text": [
      "True\n"
     ]
    }
   ],
   "source": [
    "# Function bisa return boolean\n",
    "def fun():\n",
    "    return True\n",
    "\n",
    "print(fun())"
   ]
  },
  {
   "cell_type": "code",
   "execution_count": 55,
   "id": "e98cfa1b",
   "metadata": {},
   "outputs": [
    {
     "name": "stdout",
     "output_type": "stream",
     "text": [
      "Yahh :(\n"
     ]
    }
   ],
   "source": [
    "# Bisa eksekusi kode berdasarkan kondisi return function boolean\n",
    "def fun():\n",
    "    return False\n",
    "\n",
    "if fun():\n",
    "    print(\"Hooray!\")\n",
    "else:\n",
    "    print(\"Yahh :(\")"
   ]
  },
  {
   "cell_type": "code",
   "execution_count": 56,
   "id": "0fcea7b4",
   "metadata": {},
   "outputs": [
    {
     "name": "stdout",
     "output_type": "stream",
     "text": [
      "True\n"
     ]
    }
   ],
   "source": [
    "# Python memiliki banyak function bawaan yang return boolean, misalnya isinstance()\n",
    "x = 200\n",
    "print(isinstance(x, int))"
   ]
  },
  {
   "cell_type": "markdown",
   "id": "c84a1622",
   "metadata": {},
   "source": [
    "# List"
   ]
  },
  {
   "cell_type": "code",
   "execution_count": 57,
   "id": "a870ab0c",
   "metadata": {},
   "outputs": [
    {
     "name": "stdout",
     "output_type": "stream",
     "text": [
      "3\n"
     ]
    }
   ],
   "source": [
    "iniList = [\"apple\", \"banana\", \"cherry\"]\n",
    "\n",
    "# Mencetak panjang list\n",
    "print(len(iniList))"
   ]
  },
  {
   "cell_type": "code",
   "execution_count": 58,
   "id": "78127772",
   "metadata": {},
   "outputs": [
    {
     "name": "stdout",
     "output_type": "stream",
     "text": [
      "<class 'list'>\n"
     ]
    }
   ],
   "source": [
    "# List dapat berisi tipe data yang berbeda-beda\n",
    "iniList = [\"abc\", 34, True, \"Male\"]\n",
    "\n",
    "print(type(iniList))"
   ]
  },
  {
   "cell_type": "code",
   "execution_count": 59,
   "id": "023792a1",
   "metadata": {},
   "outputs": [
    {
     "name": "stdout",
     "output_type": "stream",
     "text": [
      "['apple', 'banana', 'cherry']\n"
     ]
    }
   ],
   "source": [
    "# Constructor untuk membuat list dengan list()\n",
    "iniList = list((\"apple\", \"banana\", \"cherry\"))\n",
    "print(iniList)"
   ]
  },
  {
   "cell_type": "code",
   "execution_count": 60,
   "id": "5785ba68",
   "metadata": {},
   "outputs": [],
   "source": [
    "# List is a collection which is ordered and changeable. Allows duplicate members.\n",
    "# Tuple is a collection which is ordered and unchangeable. Allows duplicate members.\n",
    "# Set is a collection which is unordered, unchangeable*, and unindexed. No duplicate members.\n",
    "# Dictionary is a collection which is ordered** and changeable. No duplicate members."
   ]
  },
  {
   "cell_type": "markdown",
   "id": "73aa4c8c",
   "metadata": {},
   "source": [
    "# Access List Items"
   ]
  },
  {
   "cell_type": "code",
   "execution_count": 61,
   "id": "90b1d8cc",
   "metadata": {},
   "outputs": [
    {
     "name": "stdout",
     "output_type": "stream",
     "text": [
      "34\n"
     ]
    }
   ],
   "source": [
    "iniList = [\"abc\", 34, True, \"Male\"]\n",
    "print(iniList[1])"
   ]
  },
  {
   "cell_type": "code",
   "execution_count": 63,
   "id": "0531f1e7",
   "metadata": {},
   "outputs": [
    {
     "name": "stdout",
     "output_type": "stream",
     "text": [
      "Male\n"
     ]
    }
   ],
   "source": [
    "# Negative Indexing\n",
    "# Berbeda dengan index normal, negative index dimulai dari -1 bukan dari 0\n",
    "iniList = [\"abc\", 34, True, \"Male\"]\n",
    "print(iniList[-1])"
   ]
  },
  {
   "cell_type": "code",
   "execution_count": 64,
   "id": "f453a381",
   "metadata": {},
   "outputs": [
    {
     "name": "stdout",
     "output_type": "stream",
     "text": [
      "['cherry', 'orange', 'kiwi']\n"
     ]
    }
   ],
   "source": [
    "# List Range\n",
    "iniList = [\"apple\", \"banana\", \"cherry\", \"orange\", \"kiwi\", \"melon\", \"mango\"]\n",
    "print(iniList[2:5])"
   ]
  },
  {
   "cell_type": "code",
   "execution_count": 67,
   "id": "6631f5ea",
   "metadata": {},
   "outputs": [
    {
     "name": "stdout",
     "output_type": "stream",
     "text": [
      "['orange', 'kiwi', 'melon']\n"
     ]
    }
   ],
   "source": [
    "# List Range Negative\n",
    "# Orange = -4\n",
    "# Mango = -1, tapi Mango ga diikutkan\n",
    "iniList = [\"apple\", \"banana\", \"cherry\", \"orange\", \"kiwi\", \"melon\", \"mango\"]\n",
    "print(iniList[-4:-1])"
   ]
  },
  {
   "cell_type": "code",
   "execution_count": 1,
   "id": "b2152d04",
   "metadata": {},
   "outputs": [
    {
     "name": "stdout",
     "output_type": "stream",
     "text": [
      "Benar bestie ada \"apple\" diini\n"
     ]
    }
   ],
   "source": [
    "# Cek apakah item ada dalam array atau tidak\n",
    "iniList = [\"apple\", \"banana\", \"cherry\"]\n",
    "\n",
    "if \"apple\" in iniList:\n",
    "    print(\"Benar bestie ada \\\"apple\\\" diini\")"
   ]
  },
  {
   "cell_type": "markdown",
   "id": "0d743cee",
   "metadata": {},
   "source": [
    "# Python Change List Items"
   ]
  },
  {
   "cell_type": "code",
   "execution_count": 2,
   "id": "c331a868",
   "metadata": {},
   "outputs": [
    {
     "name": "stdout",
     "output_type": "stream",
     "text": [
      "['apple', 'grape', 'cherry']\n"
     ]
    }
   ],
   "source": [
    "# Mengganti isi dari array\n",
    "iniList = [\"apple\", \"banana\", \"cherry\"]\n",
    "\n",
    "iniList[1] = \"grape\"\n",
    "print(iniList)"
   ]
  },
  {
   "cell_type": "code",
   "execution_count": 9,
   "id": "f8237ba8",
   "metadata": {},
   "outputs": [
    {
     "name": "stdout",
     "output_type": "stream",
     "text": [
      "['apple', 'grape', 'melon', 'orange', 'kiwi', 'mango']\n",
      "['apple', 'grape2', 'melon2', 'kiwi2', 'orange', 'kiwi', 'mango']\n",
      "['apple', 'grape3', 'melon3', 'kiwi3', 'value lebih 1', 'kiwi2', 'orange', 'kiwi', 'mango']\n",
      "['apel', 'melon']\n"
     ]
    }
   ],
   "source": [
    "# Mengganti isi array dengan range\n",
    "iniList = [\"apple\", \"banana\", \"cherry\", \"orange\", \"kiwi\", \"mango\"]\n",
    "\n",
    "iniList[1:3] = [\"grape\", \"melon\"]\n",
    "print(iniList)\n",
    "\n",
    "# Karena range yang akan diganti hanya mengandung 2 value maka yang terganti hanya 2 value walaupun rangenya ada 3\n",
    "# Sekarang misal ada 4 value\n",
    "\n",
    "iniList[1:3] = [\"grape2\", \"melon2\", \"kiwi2\"]\n",
    "print(iniList)\n",
    "\n",
    "# Sekarang tes jika value melebihi range\n",
    "iniList[1:3] = [\"grape3\", \"melon3\", \"kiwi3\", \"value lebih 1\"]\n",
    "print(iniList)\n",
    "\n",
    "# Jika melebihi value maka item yang ditambahkan tetap akan masuk namum menggeser posisi item yang telah ada sebelumnya\n",
    "# Sekarang misal ada 2 value dalam 3 range\n",
    "\n",
    "iniList2 = [\"apel\", \"pisang\", \"ceri\"]\n",
    "iniList2[1:3] = [\"melon\"]\n",
    "print(iniList2)\n",
    "\n",
    "# Value pisang dan ceri akan diisi oleh value yang sama yaitu melon mengakibatkan length array mengecil\n"
   ]
  },
  {
   "cell_type": "code",
   "execution_count": 10,
   "id": "547f7c67",
   "metadata": {},
   "outputs": [
    {
     "name": "stdout",
     "output_type": "stream",
     "text": [
      "['apel', 'pisang', 'melon', 'ceri']\n"
     ]
    }
   ],
   "source": [
    "# insert() method\n",
    "iniList = [\"apel\", \"pisang\", \"ceri\"]\n",
    "iniList.insert(2, \"melon\")\n",
    "print(iniList)"
   ]
  },
  {
   "cell_type": "code",
   "execution_count": 11,
   "id": "2ba7f4f7",
   "metadata": {},
   "outputs": [
    {
     "name": "stdout",
     "output_type": "stream",
     "text": [
      "['apel', 'pisang', 'ceri', 'jeruk']\n"
     ]
    }
   ],
   "source": [
    "# append() akan menambahkan item pada akhir array\n",
    "iniList = [\"apel\", \"pisang\", \"ceri\"]\n",
    "iniList.append(\"jeruk\")\n",
    "print(iniList)"
   ]
  },
  {
   "cell_type": "code",
   "execution_count": 15,
   "id": "eb5c3ac9",
   "metadata": {},
   "outputs": [
    {
     "name": "stdout",
     "output_type": "stream",
     "text": [
      "['apel', 'pisang', 'ceri', 'apel2', 'pisang2', 'ceri2']\n",
      "['apel', 'pisang', 'ceri', 'nah', 'kan', 'beda']\n"
     ]
    }
   ],
   "source": [
    "# extend() akan menggabungkan array\n",
    "iniList = [\"apel\", \"pisang\", \"ceri\"]\n",
    "iniList2 = [\"apel2\", \"pisang2\", \"ceri2\"]\n",
    "iniList.extend(iniList2)\n",
    "print(iniList)\n",
    "\n",
    "# extend() juga dapat digunakan pada tipe array berbeda\n",
    "iniList = [\"apel\", \"pisang\", \"ceri\"]\n",
    "iniTuple = (\"nah\", \"kan\", \"beda\")\n",
    "iniList.extend(iniTuple)\n",
    "print(iniList)"
   ]
  },
  {
   "cell_type": "code",
   "execution_count": 19,
   "id": "3b2fcc7b",
   "metadata": {},
   "outputs": [
    {
     "name": "stdout",
     "output_type": "stream",
     "text": [
      "['pisang', 'ceri']\n",
      "['apel2', 'pisang2']\n",
      "['apel2']\n"
     ]
    }
   ],
   "source": [
    "# remove() menghapus item spesifik\n",
    "iniList = [\"apel\", \"pisang\", \"ceri\"]\n",
    "iniList.remove(\"apel\")\n",
    "print(iniList)\n",
    "\n",
    "# menghapus spesifik item dengan index dengan pop()\n",
    "iniList2 = [\"apel2\", \"pisang2\", \"ceri2\"]\n",
    "iniList2.pop(2)\n",
    "print(iniList2)\n",
    "\n",
    "# Kalo ga dispesifikin indexnya, pop() menghapus yg paling akhir\n",
    "iniList2.pop()\n",
    "print(iniList2)"
   ]
  },
  {
   "cell_type": "code",
   "execution_count": 25,
   "id": "48c07048",
   "metadata": {},
   "outputs": [
    {
     "name": "stdout",
     "output_type": "stream",
     "text": [
      "['pisang', 'ceri']\n",
      "Wah sudah hilang arraynya\n"
     ]
    }
   ],
   "source": [
    "# Pake del juga bisa\n",
    "iniList = [\"apel\", \"pisang\", \"ceri\"]\n",
    "del iniList[0]\n",
    "print(iniList)\n",
    "\n",
    "# del juga bisa ngehapus array sepenuhnya\n",
    "del iniList\n",
    "\n",
    "def fun():\n",
    "    if \"iniList\" in locals():\n",
    "        print(\"Wah ternyata masih ada\")\n",
    "    else:\n",
    "        print(\"Wah sudah hilang arraynya\")\n",
    "\n",
    "fun()"
   ]
  },
  {
   "cell_type": "code",
   "execution_count": 26,
   "id": "b2b42642",
   "metadata": {},
   "outputs": [
    {
     "name": "stdout",
     "output_type": "stream",
     "text": [
      "[]\n"
     ]
    }
   ],
   "source": [
    "# Clear akan mengosongkan array\n",
    "iniList = [\"apel\", \"pisang\", \"ceri\"]\n",
    "iniList.clear()\n",
    "print(iniList)"
   ]
  },
  {
   "cell_type": "code",
   "execution_count": null,
   "id": "b573e4c8",
   "metadata": {},
   "outputs": [],
   "source": []
  }
 ],
 "metadata": {
  "kernelspec": {
   "display_name": "Python 3 (ipykernel)",
   "language": "python",
   "name": "python3"
  },
  "language_info": {
   "codemirror_mode": {
    "name": "ipython",
    "version": 3
   },
   "file_extension": ".py",
   "mimetype": "text/x-python",
   "name": "python",
   "nbconvert_exporter": "python",
   "pygments_lexer": "ipython3",
   "version": "3.10.0"
  }
 },
 "nbformat": 4,
 "nbformat_minor": 5
}
