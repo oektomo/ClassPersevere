{
  "nbformat": 4,
  "nbformat_minor": 0,
  "metadata": {
    "colab": {
      "name": "tugas5_percy03.ipynb",
      "provenance": [],
      "collapsed_sections": [
        "QtXrlVUTW_q0",
        "OL3I4fd3W9cU",
        "R9sgKwoYpHnK"
      ],
      "authorship_tag": "ABX9TyP1U1W/uRJPM/oARm97bxaz",
      "include_colab_link": true
    },
    "kernelspec": {
      "name": "python3",
      "display_name": "Python 3"
    },
    "language_info": {
      "name": "python"
    }
  },
  "cells": [
    {
      "cell_type": "markdown",
      "metadata": {
        "id": "view-in-github",
        "colab_type": "text"
      },
      "source": [
        "<a href=\"https://colab.research.google.com/github/faridatunnisa10/ClassPersevere/blob/percy03/tugas5_percy03.ipynb\" target=\"_parent\"><img src=\"https://colab.research.google.com/assets/colab-badge.svg\" alt=\"Open In Colab\"/></a>"
      ]
    },
    {
      "cell_type": "markdown",
      "source": [
        "# OOP"
      ],
      "metadata": {
        "id": "QtXrlVUTW_q0"
      }
    },
    {
      "cell_type": "markdown",
      "source": [
        "1. Apa itu OOP dan cobalah buat 2 implementasi konsep OOP menggunakan Python!\n",
        "\n",
        "  **Jawab**:\n",
        "\n",
        "> Object-Oriented Programming (OOP) adalah suatu metode pemrograman yang berorientesi objek. Sederhananya, OOP adalah paradigma pemrograman yang merepresentasikan objek seperti objek di sekitar kita dalam bentuk kode program. Tujuan dari OOP adalah untuk mepermudah pemngembanagn program dengan cara mengikuti model yang telah ada di kehidupan sehari-hari. Setiap bagian dari suatu permasalahan adalah objek, dan objek itu sendiri merupakan gabungan dari beberapa objek yang lebih kecil lagi.\n",
        "\n"
      ],
      "metadata": {
        "id": "plmef3rzMyKf"
      }
    },
    {
      "cell_type": "code",
      "source": [
        "class Segitiga:\n",
        "  def __init__(self, alas, tinggi):\n",
        "    self.alas = alas\n",
        "    self.tinggi = tinggi\n",
        "\n",
        "  def get_luas(self):\n",
        "    return 0.5 * self.alas * self.tinggi\n",
        "\n",
        "segitiga1 = Segitiga(5, 10)\n",
        "segitiga2 = Segitiga(10, 10)\n",
        "\n",
        "print('luas segitiga1:', segitiga1.get_luas())\n",
        "print('luas segitiga2:', segitiga2.get_luas())  "
      ],
      "metadata": {
        "id": "vtNA0oKLXB04",
        "colab": {
          "base_uri": "https://localhost:8080/"
        },
        "outputId": "ab5f2b28-d85f-4e61-d05b-77cba95c23de"
      },
      "execution_count": 1,
      "outputs": [
        {
          "output_type": "stream",
          "name": "stdout",
          "text": [
            "luas segitiga1: 25.0\n",
            "luas segitiga2: 50.0\n"
          ]
        }
      ]
    },
    {
      "cell_type": "code",
      "source": [
        "class Mahasiswa:\n",
        "  '''Dasar kelas untuk semua Mahasiswa'''\n",
        "  jumlah_mahasiswa = 0\n",
        "\n",
        "  def __init__(self, nama, nim):\n",
        "    self.nama = nama\n",
        "    self.nim = nim\n",
        "    Mahasiswa.jumlah_mahasiswa += 1\n",
        "  \n",
        "  def tampilkan_jumlah(self):\n",
        "    print(\"Total Mahasiswa:\", Mahasiswa.jumlah_mahasiswa)\n",
        "  \n",
        "  def tampilkan_profil(self):\n",
        "    print(\"Nama :\", self.nama)\n",
        "    print(\"NIM : \", self.nim)\n",
        "\n",
        "#Membuat objek dari kelas Mahasiswa\n",
        "mahasiswa1 = Mahasiswa(\"Zahra\", 614190072)\n",
        "mahasiswa2 = Mahasiswa(\"Galuh\", 614190010)\n",
        "\n",
        "mahasiswa1.tampilkan_profil()\n",
        "mahasiswa2.tampilkan_profil()\n",
        "print(\"Total Mahasiswa :\", Mahasiswa.jumlah_mahasiswa)"
      ],
      "metadata": {
        "colab": {
          "base_uri": "https://localhost:8080/"
        },
        "id": "Pv2_gKtM7ewk",
        "outputId": "68c875aa-af5a-4a52-d790-649259291ce9"
      },
      "execution_count": 4,
      "outputs": [
        {
          "output_type": "stream",
          "name": "stdout",
          "text": [
            "Nama : Zahra\n",
            "NIM :  614190072\n",
            "Nama : Galuh\n",
            "NIM :  614190010\n",
            "Total Mahasiswa : 2\n"
          ]
        }
      ]
    },
    {
      "cell_type": "markdown",
      "source": [
        "2. Sebutkan dan jelaskan 2 jenis modules yang ada di Python!\n",
        "\n",
        "\n",
        "> **Jawab**\n",
        "\n",
        "\n",
        "> Python modules adalah file dengan ekstensi .py yang berisi kode python yang dapat diimpor ke dalam program python lain.\n",
        "\n",
        "\n",
        "> **Jenis modules dalam Python**\n",
        "\n",
        "    *   Math Module\n",
        "\n",
        "> Math module merupakan salah satu module matematika yang sangat populer. Fungsi-fungsi dalam math module diantaranya meliputi fungsi trigonometri, fungsi representasi, fungsi logaritma, dan masih banyak lagi.\n",
        "\n",
        "\n",
        "    *   Statistics Module\n",
        "\n",
        "\n",
        "> Statistics module menyediakan fungsi untuk statistika. Beberapa fungsi yang populer diantaranya mean, median, mode,dan standar deviasi."
      ],
      "metadata": {
        "id": "sisDWDWANX_t"
      }
    },
    {
      "cell_type": "markdown",
      "source": [
        "3. Hitunglah berapa hasil dari √175 + 4√7+ 1/3 + 3log81 menggunakan module math!"
      ],
      "metadata": {
        "id": "DrqQd9AjNr4-"
      }
    },
    {
      "cell_type": "code",
      "execution_count": null,
      "metadata": {
        "id": "yK25MaBqH8wj",
        "colab": {
          "base_uri": "https://localhost:8080/"
        },
        "outputId": "23a91d16-41fe-45c1-f745-782dc4932eee"
      },
      "outputs": [
        {
          "output_type": "stream",
          "name": "stdout",
          "text": [
            "28.145095132914648\n"
          ]
        }
      ],
      "source": [
        "# import math library\n",
        "import math\n",
        "\n",
        "a = math.sqrt(175) + 4*math.sqrt(7) + (1/3) + math.log(81, 3)\n",
        "print(a)"
      ]
    },
    {
      "cell_type": "markdown",
      "source": [
        "4. Apa itu custom exception handling dan berikan 1 contoh implementasinya!\n",
        "\n",
        "> **Jawab**\n",
        "\n",
        "\n",
        "> Terkadang seseorang dalam mengerjakan suatu project perlu membuat exception (pengecualian) sendiri sesuai dengan skenario yang sesuai. Jenis pengecualian inilah yang disebut dengan custom exception handling dan bisa digunakan menggunakan keyword \"raise\"\n",
        "\n",
        "\n",
        "\n"
      ],
      "metadata": {
        "id": "gvj-s24eTsiJ"
      }
    },
    {
      "cell_type": "code",
      "source": [
        "# Creating Custom Exceptions in Python\n",
        "\n",
        "class TooYoungException(Exception):\n",
        "  def __init__(self, arg):\n",
        "    self.msg = arg\n",
        "\n",
        "class TooOldException(Exception):\n",
        "  def __init__(self, arg):\n",
        "    self.msg = arg\n",
        "\n",
        "age = int(input(\"Enter Age: \"))\n",
        "if age > 50:\n",
        "  raise TooOldException(\"Your age already crossed marriage age...no chances of getting marriage\")\n",
        "elif age < 18:\n",
        "  raise TooYoungException(\"Please wait some more time you will get best match soon!\")\n",
        "else:\n",
        "  print(\"You will get match details soon by email!\")"
      ],
      "metadata": {
        "colab": {
          "base_uri": "https://localhost:8080/"
        },
        "id": "xu1TJYOHVe24",
        "outputId": "8e027b4d-4d99-4692-f45f-80234c180a1f"
      },
      "execution_count": null,
      "outputs": [
        {
          "output_type": "stream",
          "name": "stdout",
          "text": [
            "Enter Age: 20\n",
            "You will get match details soon by email!\n"
          ]
        }
      ]
    },
    {
      "cell_type": "markdown",
      "source": [
        "# Artificial Intelligence"
      ],
      "metadata": {
        "id": "OL3I4fd3W9cU"
      }
    },
    {
      "cell_type": "markdown",
      "source": [
        "1. Apa perbedaan dari structured dan unstructured data dan sebutkan 3 sumber data!\n",
        "\n",
        "> **Jawab**\n",
        "\n",
        "> **Structured Data**\n",
        "\n",
        "> Structured data -biasanya  dikategorikan sebagai data kuantitatif- merupakan data yang sangat terorganisir dan mudah diuraikan oleh algoritma Machine Learning (ML). Stuctured Query Language (SQL) yang dikembangkan oleh IBM pada tahun 1974 merupakan bahasa pemrograman yang digunakan untuk mengelola structured data. Contohnya business data, excel, dan csv.\n",
        "\n",
        "\n",
        "> **Unstructured Data**\n",
        "\n",
        "> Unstructured Data -biasanya dikategorikan sebagai data kualitati- tidak dapat diproses dan dianalisis  menggunakan alat dan metode data konvensional karena unstructured data tidak memiliki model data yang telah ditentukan sebelumnya. Unstructured data paling baik dikelola menggunakan NoSQL atau menggunakan data lakes. Contohnya text, images, and specch.\n",
        "\n",
        "\n",
        "> Saat ini proyeksi terbaru menunjukkan bahwa unstructured data lebih dari 80% dari semua data perusahaan.\n",
        "\n",
        "\n",
        "> **Common Source of Data**\n",
        "*   Sensors/meters and activity records from electronic devices\n",
        "*   Social interactions\n",
        "*   Business transactions\n",
        "*   Electronic files\n",
        "*   Broadcastings"
      ],
      "metadata": {
        "id": "HNZftQfMXMPS"
      }
    },
    {
      "cell_type": "markdown",
      "source": [
        "2. Jelakan perbedaan AI, Machine Learning, dan Deep Learning!\n",
        "\n",
        "> **Artificial Intelligence (AI)**\n",
        "\n",
        "> AI adalah disiplin ilmu yang mencakup segala sesuatu yang berkaitan dengan membuat mesin lebih pintar. AI memungkinkan mesin untuk berpikir tanpa campur tangan manusia. Sistem AI terbagi menjadi 3 jenis: ANI (Artificial Narrow Intelligence, yang berorientasi pada tujuan dan diprogram untuk melakukan satu tugas. AGI (Artificial General Intellligence) yang memungkinkan mesin untuk belajar, memahami, dan bertindak dengan cara yang tidak dapat dibedakan dari manusia dalam situasi tertentu. ASI (Astificial Super Intelligence) adalah AI hipotesis dimana mesin mampu menunjukkan kecerdasan yang melampaui manusia paling cerdas.\n",
        "\n",
        "\n",
        "> **Machine Learning (ML)**\n",
        "\n",
        "> ML adalah subset AI yang menggunakan algoritme pembelajaran statistik untuk membangun sistem cerdas. Sistem ML dapat dipelajari dan ditingkatkan secara otomatis tanpa diprogram secara eksplisit. Sistem rekomendasi pada layanan streaming musik dan video adalah contoh dari ML. Algoritme ML diklasifikasikan menjadi 3 kategori: unsupervised learning, supervised learning, dan reinforcement learning.\n",
        "\n",
        "\n",
        "> **Deep Learning**\n",
        "\n",
        "\n",
        "> DL merupakan ML yang diterakan pada sekumpulan data yang sangat besar. DL terinspirasi dari cara otak manusia menyaring informasi. Hal ini terkait dengan belajar dari contoh. Sistem DL membantu model komputer untuk menyaring data input melalui lapisan untuk memprediksi dan mengklasifikasikan informasi. Deep Learning memproses informasi dengan cara yang sama seperti otak manusia. Ini digunakan dalam teknologi seperti mobil tanpa pengemudi. Arsitektur jaringan DL diklasifikasikan menjadi Convolutional Neural Networks, Recurrent Neural Networks, dan Recursive Neural Networks."
      ],
      "metadata": {
        "id": "cFhCOBbSXOZ5"
      }
    },
    {
      "cell_type": "markdown",
      "source": [
        "3. Apa perbedaan Machine Learning dengan Traditional Software?\n",
        "\n",
        "\n",
        "> **Traditional software**\n",
        "\n",
        "> Traditional software menggunakan proses manual, artinya seorang programmer membuat program. Tetapi tanpa ada yang memprogram logikanya, seseorang harus merumuskan atau mengkodekan aturan secara manual.\n",
        "\n",
        "\n",
        "> Input + Program = Output\n",
        "\n",
        "\n",
        "> **Machine Learning**\n",
        "\n",
        "> Tidak seperti tradisional software, machine learning adalah proses otomatis. Ini dapat meningkatkan nilai analitik di banyak area, termasuk data preparation, natural language interfaces, deteksi outlier otomatis, rekomendasi, dan deteksi kausalitas dan signifikansi. Semua fitur ini membantu mempercepat wawasan pengguna dan mengurangi bias keputusan.\n",
        "\n",
        "\n",
        "> Input + Output = Program\n",
        "\n"
      ],
      "metadata": {
        "id": "TVzu4lfiXOn8"
      }
    },
    {
      "cell_type": "markdown",
      "source": [
        "4. Sebutkan 3 contoh aplikasi Machine Learning di sektor smart city dan agriculture!\n",
        "\n",
        "**Jawab**\n",
        "\n",
        "\n",
        "\n",
        "> **Smart City**\n",
        "\n",
        "*   mCity\n",
        "\n",
        "> mCity adalah sebuah aplikasi City Directory yang bisa diakses melalui smartphone. Melalui aplikasi ini, wisatawan yang berkunjung ke kota-kota yang sudah didukung oleh mCity bisa lebih dimudahkan. Di dalamnya tersedia informasi lengkap tentang kuliner, objek-objek wisata, hingga informasi hotel. mCity yang bisa menjadi contoh di sini salah satunya adalah Solo melalui Solo Destination.\n",
        "\n",
        "*   Qlue\n",
        "\n",
        "> Aplikasi ini mendukung fitur yang memudahkan masyarakat untuk melayangkan komplain, kerusakan fasilitas, dan sebagainya. Melalui aplikasi ini juga, setiap pengguna bisa mengunggah foto tentang masalah yang terjadi di lingkungan tempat tinggalnya.\n",
        "\n",
        "*   LAPOR!\n",
        "\n",
        "> Lapor merupakan kependekan dari Layanan Aspirasi dan Pengaduan Online Rakyat (LAPOR!). Ini adalah sarana aspirasi dan pengaduan berbasis media sosial pertama dengan lingkup Indonesia. Berbeda dengan sarana pengaduan lainnya, ketuntasan setiap laporan dapat diawasi oleh publik. Hal ini didukung oleh indikator yang ditampilkan di mana publik bisa melihat bagaimana progres penyelesaian masalah yang diadukan. Fitur ini juga memungkinkan adanya dialog virtual antara pemerintah dan masyarakat.\n",
        "\n",
        "> **Agriculture**\n",
        "\n",
        "*   Agromaret\n",
        "\n",
        "> Agromaret memiliki tujuan khusus untuk mengurangi dominasi pasar, ciptakan peluang pasar lebih luas, dan menjadi sentra informasi terlengkap di bidang pertanian. Aplikasi tersebut bahkan menjadi bukti bahwa pemasaran online tidak hanya bisa dilakukan perusahaan-perusahaan besar saja, tetapi petani kecil pun juga bisa memasarkan hasil taninya ke masyarakat luas di dunia maya.\n",
        "\n",
        "*   Ci-Agriculture\n",
        "\n",
        "> Aplikasi ini berguna sebagai media untuk membantu para petani pada saat melakukan proses penanam benih, pemberian pupuk, penggunaan obat, dan kegiatan bertani yang lainnya. Aplikasi Ci-Agriculture pada dasarnya dibuat secara khusus utuk menghubungkan para petani dengan distributor, pasar, konsumen, hingga crop insurance asuransi terbaik bagi para petani..\n",
        "\n",
        "*   Agree\n",
        "\n",
        "> Agree adalah aplikasi yang mempunyai beragam fitur bermanfaat seperti Informasi Cara Budidaya, Cuaca, Harga Bahan serta artikel pertanian, perikanan dan peternakan akan membantu bisnis Anda bersaing di pasar digital!.\n",
        "\n",
        "Source:\n",
        "\n",
        "[Aplikasi Smart Farming](https://blog.gamatechno.com/contoh-aplikasi-smartcity/)\n",
        "\n",
        "[Aplikasi Pertanian](https://petanidigital.id/aplikasi-pertanian/)\n",
        "\n",
        "[Agree](https://agreeculture.id/)\n",
        "\n"
      ],
      "metadata": {
        "id": "77UUzhsRXO2A"
      }
    },
    {
      "cell_type": "markdown",
      "source": [
        "# Math for AI"
      ],
      "metadata": {
        "id": "R9sgKwoYpHnK"
      }
    },
    {
      "cell_type": "markdown",
      "source": [
        "1. Mengapa ilmu matematika penting ketika mempelajari AI?\n",
        "\n",
        "> **Jawab**\n",
        "\n",
        "*   Anda tidak bisa mendapatkan gambaran yang jelas atau cara kerja internal dari algoritma apapun \n",
        "*   Sebagian besar pembaca menulis makalah penelitian mereka menggunakan persamaan, rumus, teknik, hasil, dll., dan bagaimana subjek yang diperlukan terlibat untuk menyelesaikan tugas dalam perspektif matematika murni. Anda harus memahami Matematika untuk memahami Notasi, Mata Pelajaran, dan teknik terapan.\n",
        "*   Dalam beberapa Proyek AI Kompleks seperti SDC, Robotika, NLP, Anda perlu menentukan kerangka kerja sendiri berdasarkan kerangka kerja yang sudah ada seperti PyTorch, Tensorflow, Keras, dll., Untuk mengembangkan proyek yang kompleks, Anda harus jeli dalam cara kerja internal Algoritma AI.\n",
        "*  Terkadang Anda harus menyempurnakan algoritme dengan mengubah nilai parameter, jika Anda tidak tertarik pada perspektif algoritme dan memahami kerja internal matematika, Anda tidak akan mencapai penyetelan yang tepat.\n",
        "*   Sebagai seorang arsitek atau peneliti AI, Anda tidak dapat menyampaikan hasil eksperimen dengan cara biasa, Anda harus menjelaskannya secara matematis.\n",
        "\n",
        "> [Mengapa ilmu matematika penting ketika mempelajari AI](https://ichi.pro/id/ai-matematika-116112807338198)"
      ],
      "metadata": {
        "id": "NC7q_UXJpQWe"
      }
    },
    {
      "cell_type": "markdown",
      "source": [
        "2. Jelaskan perbedaan vektor dan skalar\n",
        "\n",
        "\n",
        "> **Jawab**\n",
        "\n",
        "> **Skalar** adalah sebuah besaran yang hanya memiliki nilai\n",
        "\n",
        "\n",
        "\n",
        "> **Vektor** adalah besaran yang memiliki nilai dan arah. Dalam ilmu data, vektor adalah kumpulan nilai dari variabel tertentu"
      ],
      "metadata": {
        "id": "uWBMlrsglHen"
      }
    },
    {
      "cell_type": "markdown",
      "source": [
        "3. Apa perbedaan dari jarak Euclidean dan Manhattan?\n",
        "\n",
        "\n",
        "> **Jawab**\n",
        "\n",
        "> **Jarak Euclidean** adalah jarak antar titik dalam garis lurus. Metode\n",
        "jarak ini menggunakan teorema Pythagoras dan merupakan perhitungan jarak\n",
        "yang paling sering digunakan dalam proses machine learning. Rumus Euclidean Distance adalah hasil dari akar kuadrat perbedaan dua buah vektor.\n",
        "\n",
        "> ![euclidean.jpeg](data:image/jpeg;base64,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)\n",
        "\n",
        "\n",
        "> Keterangan :\n",
        "\n",
        "> dij = jarak perhitungan kemiripan\n",
        "\n",
        "> n = jumlah vektor\n",
        "\n",
        "> ai = vektor citra input\n",
        "\n",
        "> bi = vektor citra pembanding\n",
        "\n",
        "> **Jarak Manhattan** merupakan jumlah jarak dari semua attribute. Untuk dua data titik x dan y dalam d-ruang dimensi, jarak Manhattan antara titik tersebut didefinisikan sebagai berikut: \n",
        "\n",
        "> ![manhattan.jpeg](data:image/jpeg;base64,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)\n",
        "\n",
        "> [(Mughnyanti, 2020)](https://repositori.usu.ac.id/bitstream/handle/123456789/27535/177038005.pdf?sequence=1&isAllowed=y)\n",
        "\n"
      ],
      "metadata": {
        "id": "gllDxtKIlHp5"
      }
    },
    {
      "cell_type": "markdown",
      "source": [
        "4. Apa kegunaan matriks dalam ilmu matematika ketika menerapkan AI?\n",
        "\n",
        "> **Jawab**\n",
        "\n",
        "> Matriks dapat digunakan untuk merepresentasikan bilangan kompleks"
      ],
      "metadata": {
        "id": "WulZYrSwlH_h"
      }
    },
    {
      "cell_type": "markdown",
      "source": [
        "# Machine Learning"
      ],
      "metadata": {
        "id": "c8FQ9V5VpMdy"
      }
    },
    {
      "cell_type": "markdown",
      "source": [
        "1. Jelaskan perbedaan supervised dan unsupervised learning dan sebutkan 2 contohnya!\n",
        "\n",
        "> **Supervised learning** adalah pendekatan machine learning yang ditentukan oleh penggunaan dataset berlabel. Kumpulan data ini dirancang untuk melatih atau \"mengawasi\" algoritme untuk mengklasifikasikan data atau memprediksi hasil secara akurat. Menggunakan input dan output berlabel, model dapat mengukur akurasinya dan belajar dari waktu ke waktu. Supervised learning dibedakan menjadi dua, yaitu regression (linear regression, logistic regression) dan classification (support vector machines, decision trees and random forest)\n",
        "\n",
        ">**Unsupervised learning** menggunakan algoritme machine learning untuk menganalisis dan mengelompokkan kumpulan data yang tidak berlabel. Algoritme ini menemukan pola tersembunyi dalam data tanpa perlu campur tangan manusia. COntoh unsupervised learning diantaranya K-Means untuk clustering dan PCA untuk dimensionality reduction.\n",
        "\n",
        "> [Supervised vs Unsupervised Learning](https://www.ibm.com/cloud/blog/supervised-vs-unsupervised-learning)"
      ],
      "metadata": {
        "id": "-F5xBBUNpRW5"
      }
    },
    {
      "cell_type": "markdown",
      "source": [
        "2. Sebutkan setiap tahap yang ada di Machine Learning life cycle dan jelaskan!\n",
        "\n",
        "> **Problem Scoping** mengacu pada identifikasi\n",
        "masalah dan visi untuk menyelesaikannya.\n",
        "\n",
        "> **Data Acquisition** adalah serangkaian proses pengukuran, pengumpulan, dan validasi data yang dibutuhkan dalam suatu proyek AI.\n",
        "\n",
        "> **Data Exploration** digunakan untuk memahami tren, hubungan, dan pola yang terkandung dalam data. Data Exploration membantu kita menentukan strategi model mana yang akan digunakan pada stage selanjutnya\n",
        "\n",
        "> **Modelling** dalam istilah teknologi adalah representasi suatu masalah dalam bentuk yang lebih sederhana sehingga lebih jelas dan mudah dikerjakan. Model yang baik cukup mengandung bagian bagian yang perlu saja.\n",
        "\n",
        "> **Evaluation** adalah tahap untuk mengevaluasi atau memilih model terbaik\n",
        "\n",
        "> **Deployment**"
      ],
      "metadata": {
        "id": "CEO0GT7wtqwf"
      }
    },
    {
      "cell_type": "markdown",
      "source": [
        "3. Apa perbedaan regression dan clustering?\n",
        "\n",
        "> **Jawab**\n",
        "\n",
        "> **Regression** adalah jenis lain dari metode supervised learning yang menggunakan algoritma untuk memahami hubungan antara variabel dependen dan independen. Model regresi berguna untuk memprediksi nilai numerik berdasarkan titik data yang berbeda, seperti proyeksi pendapatan penjualan untuk bisnis tertentu. Beberapa algoritma regresi yang populer adalah regresi linier, regresi logistik dan regresi polinomial.\n",
        "\n",
        "> **clustering** adalah teknik data mining untuk mengelompokkan data yang tidak berlabel berdasarkan persamaan atau perbedaannya. Misalnya, algoritme pengelompokan K-means menetapkan titik data serupa ke dalam grup, di mana nilai K mewakili ukuran pengelompokan dan granularitas. Teknik ini berguna untuk segmentasi pasar, kompresi gambar, dll.\n",
        "\n",
        "> [Regression vs Clustering](https://www.ibm.com/cloud/blog/supervised-vs-unsupervised-learning)"
      ],
      "metadata": {
        "id": "oeW9dj1atq4U"
      }
    },
    {
      "cell_type": "markdown",
      "source": [
        "4. Apa itu algoritma Artificial Neural Network dan untuk apa fungsinya?\n",
        "\n",
        "> **Jawab**\n",
        "\n",
        "> Artificial Neural Networks (ANN) adalah jenis Machine Learning yang sering digabungkan dengan Depp Learning. ANN terinspirasi dan mencoba meniru cara kerja biological neuron dalam otak manusia yang dapat mengirim sinyal satu sama lain. ANN merupakan gabungan dari bebrapa artificial neuron, disebut sebagai perceptron, yang disusun dalam lapisan (layer)\n",
        "\n",
        "> Fungsi ANN diantaranya:\n",
        "\n",
        "> a. Pengklasifikasian pola\n",
        "\n",
        "> b. Memetakan pola yang didapat dari input ke dalam pola baru pada output\n",
        "\n",
        "> c. Penyimpan pola yang akan dipanggil kembali\n",
        "\n",
        "> d. Memetakan pola-pola yang sejenis\n",
        "\n",
        "> e. Pengoptimasi permasalahan\n",
        "\n",
        "> f. Prediksi\n",
        "\n",
        ">[Fungsi Artificial Neural Network](https://socs.binus.ac.id/2012/07/26/konsep-neural-network/#:~:text=Fungsi%20dari%20Neural%20Network%20diantaranya,pola%20yang%20akan%20dipanggil%20kembali)"
      ],
      "metadata": {
        "id": "rfWSjkp1tq9I"
      }
    }
  ]
}