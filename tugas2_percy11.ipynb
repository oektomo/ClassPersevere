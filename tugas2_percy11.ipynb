{
 "cells": [
  {
   "cell_type": "markdown",
   "metadata": {},
   "source": [
    "## Python Operators\n",
    "Python divides the operators in the following groups:\n",
    "\n",
    "    Arithmetic operators\n",
    "    Assignment operators\n",
    "    Comparison operators\n",
    "    Logical operators\n",
    "    Identity operators\n",
    "    Membership operators\n",
    "    Bitwise operators\n"
   ]
  },
  {
   "cell_type": "code",
   "execution_count": 1,
   "metadata": {},
   "outputs": [
    {
     "name": "stdout",
     "output_type": "stream",
     "text": [
      "35\n",
      "5\n",
      "300\n",
      "1.3333333333333333\n",
      "5\n",
      "1\n",
      "32768000000000000000\n"
     ]
    }
   ],
   "source": [
    "# Contoh operator Aritmatik\n",
    "a = 20\n",
    "b = 15\n",
    "print(a + b) #tambah\n",
    "print(a - b) #kurang\n",
    "print(a * b) #kali\n",
    "print(a / b) #bagi\n",
    "print(a % b) #modulus\n",
    "print(a // b) #Floor Division\n",
    "print(a ** b) #pangkat"
   ]
  },
  {
   "cell_type": "code",
   "execution_count": 2,
   "metadata": {},
   "outputs": [
    {
     "name": "stdout",
     "output_type": "stream",
     "text": [
      "5\n",
      "8\n",
      "5\n",
      "15\n",
      "5.0\n",
      "2.0\n",
      "0.0\n",
      "0.0\n",
      "5\n",
      "1\n",
      "3\n",
      "0\n",
      "0\n",
      "0\n"
     ]
    }
   ],
   "source": [
    "# Contoh operator Assignment\n",
    "x = 5\n",
    "print(x)\n",
    "x += 3\n",
    "print(x)\n",
    "x -= 3\n",
    "print(x)\n",
    "x *= 3\n",
    "print(x)\n",
    "x /= 3\n",
    "print(x)\n",
    "x %= 3\n",
    "print(x)\n",
    "x //= 3\n",
    "print(x)\n",
    "x **= 3\n",
    "print(x)\n",
    "\n",
    "x = 5\n",
    "print(x)\n",
    "x &= 3\n",
    "print(x)\n",
    "\n",
    "x |= 3\n",
    "print(x)\n",
    "x ^= 3\n",
    "print(x)\n",
    "x >>= 3\n",
    "print(x)\n",
    "x <<= 3\n",
    "print(x)"
   ]
  },
  {
   "cell_type": "code",
   "execution_count": 3,
   "metadata": {},
   "outputs": [
    {
     "name": "stdout",
     "output_type": "stream",
     "text": [
      "False\n",
      "True\n",
      "False\n",
      "True\n",
      "False\n",
      "True\n"
     ]
    }
   ],
   "source": [
    "# Contoh operator comparison\n",
    "x = 21\n",
    "y = 31\n",
    "print(x == y)\n",
    "print(x != y)\n",
    "print(x > y)\n",
    "print(x < y)\n",
    "print(x >= y)\n",
    "print(x <= y)"
   ]
  },
  {
   "cell_type": "code",
   "execution_count": 4,
   "metadata": {},
   "outputs": [
    {
     "name": "stdout",
     "output_type": "stream",
     "text": [
      "False\n",
      "False\n",
      "True\n"
     ]
    }
   ],
   "source": [
    "# Contoh Operator Logical\n",
    "print(x < 5 and  x < 10) # Returns True if both statements are true\n",
    "print(x < 5 or x < 4) #Returns True if one of the statements is true\n",
    "print(not(x < 5 and x < 10)) #Reverse the result, returns False if the result is true"
   ]
  },
  {
   "cell_type": "code",
   "execution_count": 5,
   "metadata": {},
   "outputs": [
    {
     "name": "stdout",
     "output_type": "stream",
     "text": [
      "False\n",
      "True\n"
     ]
    }
   ],
   "source": [
    "# Contoh Operator Identity\n",
    "x = 5\n",
    "x = 9\n",
    "print(x is y)\n",
    "print(x is not y)"
   ]
  },
  {
   "cell_type": "code",
   "execution_count": 6,
   "metadata": {},
   "outputs": [
    {
     "name": "stdout",
     "output_type": "stream",
     "text": [
      "True\n",
      "False\n"
     ]
    }
   ],
   "source": [
    "# Contoh Operator Membership\n",
    "x = 3\n",
    "y = [12,12,3,42,8,1,9,6]\n",
    "print(x in y)\n",
    "print(x not in y)"
   ]
  },
  {
   "cell_type": "code",
   "execution_count": 7,
   "metadata": {},
   "outputs": [
    {
     "name": "stdout",
     "output_type": "stream",
     "text": [
      "0\n",
      "11\n",
      "11\n",
      "-4\n",
      "64\n",
      "1\n"
     ]
    }
   ],
   "source": [
    "# Contoh Operator Bitwise (Pada Operator ini nilai yang diberikan akan dikonversi kedalam bentuk biner)\n",
    "x = 8 # nilai 8 merupakan nilai desimal yang ketika dikonversi ke biner akan menjadi 1000\n",
    "y = 3 # nilai 3 merupakan nilai desimal yang ketika dikonversi ke biner akan menjadi 0011\n",
    "print(x&y)\n",
    "print(x|y)\n",
    "print(x^y)\n",
    "print(~y)\n",
    "print(x<<y)\n",
    "print(x>>y)"
   ]
  },
  {
   "cell_type": "code",
   "execution_count": null,
   "metadata": {},
   "outputs": [],
   "source": []
  }
 ],
 "metadata": {
  "kernelspec": {
   "display_name": "Python 3",
   "language": "python",
   "name": "python3"
  },
  "language_info": {
   "codemirror_mode": {
    "name": "ipython",
    "version": 3
   },
   "file_extension": ".py",
   "mimetype": "text/x-python",
   "name": "python",
   "nbconvert_exporter": "python",
   "pygments_lexer": "ipython3",
   "version": "3.6.4"
  }
 },
 "nbformat": 4,
 "nbformat_minor": 2
}
