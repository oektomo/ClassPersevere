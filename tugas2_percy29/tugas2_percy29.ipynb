{
 "cells": [
  {
   "cell_type": "markdown",
   "id": "18478de8",
   "metadata": {},
   "source": [
    "# PYTHON OPERATORS\n",
    "oleh :<br>\n",
    "Muhammad Alfan Irsyadi Hutagalung <br>\n",
    "190803102 <br>\n",
    "Universitas Sumatera Utara <br>"
   ]
  },
  {
   "cell_type": "markdown",
   "id": "cee1398d",
   "metadata": {},
   "source": [
    "## A. PYTHON ARITHMETIC OPERATORS"
   ]
  },
  {
   "cell_type": "markdown",
   "id": "f22d6c96",
   "metadata": {},
   "source": [
    "- <h3><span style=\"color:blue\">ADDITION</span>.</h3>"
   ]
  },
  {
   "cell_type": "code",
   "execution_count": 1,
   "id": "6791d44d",
   "metadata": {},
   "outputs": [
    {
     "name": "stdout",
     "output_type": "stream",
     "text": [
      "8\n"
     ]
    }
   ],
   "source": [
    "x = 5\n",
    "y = 3\n",
    "print(x + y)"
   ]
  },
  {
   "cell_type": "markdown",
   "id": "89e5799d",
   "metadata": {},
   "source": [
    "- <h3><span style=\"color:blue\">SUBTRACTION</span>.</h3>"
   ]
  },
  {
   "cell_type": "code",
   "execution_count": 3,
   "id": "906b008a",
   "metadata": {},
   "outputs": [
    {
     "name": "stdout",
     "output_type": "stream",
     "text": [
      "2\n"
     ]
    }
   ],
   "source": [
    "print(x - y)"
   ]
  },
  {
   "cell_type": "markdown",
   "id": "1d4de359",
   "metadata": {},
   "source": [
    "- <h3><span style=\"color:blue\">MULTIPLICATION</span>.</h3>"
   ]
  },
  {
   "cell_type": "code",
   "execution_count": 4,
   "id": "4feef119",
   "metadata": {},
   "outputs": [
    {
     "name": "stdout",
     "output_type": "stream",
     "text": [
      "15\n"
     ]
    }
   ],
   "source": [
    "print(x * y)"
   ]
  },
  {
   "cell_type": "markdown",
   "id": "d51a87a2",
   "metadata": {},
   "source": [
    "- <h3><span style=\"color:blue\">DIVISION</span>.</h3>"
   ]
  },
  {
   "cell_type": "code",
   "execution_count": 5,
   "id": "736d1262",
   "metadata": {},
   "outputs": [
    {
     "name": "stdout",
     "output_type": "stream",
     "text": [
      "1.6666666666666667\n"
     ]
    }
   ],
   "source": [
    "print(x / y)"
   ]
  },
  {
   "cell_type": "markdown",
   "id": "b5435041",
   "metadata": {},
   "source": [
    "- <h3><span style=\"color:blue\">MODULUS</span>.</h3>"
   ]
  },
  {
   "cell_type": "code",
   "execution_count": 6,
   "id": "fce5f0ca",
   "metadata": {},
   "outputs": [
    {
     "name": "stdout",
     "output_type": "stream",
     "text": [
      "2\n"
     ]
    }
   ],
   "source": [
    "print(x % y)"
   ]
  },
  {
   "cell_type": "markdown",
   "id": "c571db03",
   "metadata": {},
   "source": [
    "- <h3><span style=\"color:blue\">EXPONENTIATION</span>.</h3>"
   ]
  },
  {
   "cell_type": "code",
   "execution_count": 7,
   "id": "e99082fa",
   "metadata": {},
   "outputs": [
    {
     "name": "stdout",
     "output_type": "stream",
     "text": [
      "125\n"
     ]
    }
   ],
   "source": [
    "print(x ** y)"
   ]
  },
  {
   "cell_type": "markdown",
   "id": "cc43664a",
   "metadata": {},
   "source": [
    "- <h3><span style=\"color:blue\">FLOOR DIVISION</span>.</h3>"
   ]
  },
  {
   "cell_type": "code",
   "execution_count": 8,
   "id": "acd8a69f",
   "metadata": {},
   "outputs": [
    {
     "name": "stdout",
     "output_type": "stream",
     "text": [
      "1\n"
     ]
    }
   ],
   "source": [
    "print(x // y)"
   ]
  },
  {
   "cell_type": "markdown",
   "id": "0442b23f",
   "metadata": {},
   "source": [
    "## B. PYTHON ASSIGNMENT OPERATOR"
   ]
  },
  {
   "cell_type": "code",
   "execution_count": 9,
   "id": "0a3e8606",
   "metadata": {},
   "outputs": [
    {
     "name": "stdout",
     "output_type": "stream",
     "text": [
      "5\n"
     ]
    }
   ],
   "source": [
    "x = 5\n",
    "print(x)"
   ]
  },
  {
   "cell_type": "code",
   "execution_count": 11,
   "id": "1e23ee15",
   "metadata": {},
   "outputs": [
    {
     "name": "stdout",
     "output_type": "stream",
     "text": [
      "8\n"
     ]
    }
   ],
   "source": [
    "x = 5\n",
    "x += 3\n",
    "print(x)"
   ]
  },
  {
   "cell_type": "code",
   "execution_count": 12,
   "id": "0f696285",
   "metadata": {},
   "outputs": [
    {
     "name": "stdout",
     "output_type": "stream",
     "text": [
      "2\n"
     ]
    }
   ],
   "source": [
    "x = 5\n",
    "x -= 3\n",
    "print(x)"
   ]
  },
  {
   "cell_type": "code",
   "execution_count": 13,
   "id": "765b7d7f",
   "metadata": {},
   "outputs": [
    {
     "name": "stdout",
     "output_type": "stream",
     "text": [
      "15\n"
     ]
    }
   ],
   "source": [
    "x = 5\n",
    "x *= 3\n",
    "print(x)"
   ]
  },
  {
   "cell_type": "code",
   "execution_count": 15,
   "id": "dd01cd20",
   "metadata": {},
   "outputs": [
    {
     "name": "stdout",
     "output_type": "stream",
     "text": [
      "1.6666666666666667\n"
     ]
    }
   ],
   "source": [
    "x = 5\n",
    "x /= 3\n",
    "print(x)"
   ]
  },
  {
   "cell_type": "code",
   "execution_count": 16,
   "id": "9fb3247d",
   "metadata": {},
   "outputs": [
    {
     "name": "stdout",
     "output_type": "stream",
     "text": [
      "2\n"
     ]
    }
   ],
   "source": [
    "x = 5\n",
    "x %= 3\n",
    "print(x)"
   ]
  },
  {
   "cell_type": "code",
   "execution_count": 17,
   "id": "951369c3",
   "metadata": {},
   "outputs": [
    {
     "name": "stdout",
     "output_type": "stream",
     "text": [
      "125\n"
     ]
    }
   ],
   "source": [
    "x = 5\n",
    "x **= 3\n",
    "print(x)"
   ]
  },
  {
   "cell_type": "code",
   "execution_count": 18,
   "id": "80045623",
   "metadata": {},
   "outputs": [
    {
     "name": "stdout",
     "output_type": "stream",
     "text": [
      "1\n"
     ]
    }
   ],
   "source": [
    "x = 5\n",
    "x //= 3\n",
    "print(x)"
   ]
  },
  {
   "cell_type": "code",
   "execution_count": 21,
   "id": "c4a7eade",
   "metadata": {},
   "outputs": [
    {
     "name": "stdout",
     "output_type": "stream",
     "text": [
      "1\n"
     ]
    }
   ],
   "source": [
    "x = 5\n",
    "x &= 3\n",
    "print(x)"
   ]
  },
  {
   "cell_type": "code",
   "execution_count": 22,
   "id": "bbc1bd0e",
   "metadata": {},
   "outputs": [
    {
     "name": "stdout",
     "output_type": "stream",
     "text": [
      "7\n"
     ]
    }
   ],
   "source": [
    "x = 5\n",
    "x |= 3\n",
    "print(x)"
   ]
  },
  {
   "cell_type": "code",
   "execution_count": 23,
   "id": "e17482ef",
   "metadata": {},
   "outputs": [
    {
     "name": "stdout",
     "output_type": "stream",
     "text": [
      "6\n"
     ]
    }
   ],
   "source": [
    "x = 5\n",
    "x ^= 3\n",
    "print(x)"
   ]
  },
  {
   "cell_type": "code",
   "execution_count": 24,
   "id": "544e46ae",
   "metadata": {},
   "outputs": [
    {
     "name": "stdout",
     "output_type": "stream",
     "text": [
      "0\n"
     ]
    }
   ],
   "source": [
    "x = 5\n",
    "x >>= 3\n",
    "print(x)"
   ]
  },
  {
   "cell_type": "code",
   "execution_count": 25,
   "id": "216b3584",
   "metadata": {},
   "outputs": [
    {
     "name": "stdout",
     "output_type": "stream",
     "text": [
      "40\n"
     ]
    }
   ],
   "source": [
    "x = 5\n",
    "x <<= 3\n",
    "print(x)"
   ]
  },
  {
   "cell_type": "markdown",
   "id": "47f7d4a1",
   "metadata": {},
   "source": [
    "## C. PYTHON COMPARISON OPERATORS"
   ]
  },
  {
   "cell_type": "markdown",
   "id": "8c1752ee",
   "metadata": {},
   "source": [
    "- <h3><span style=\"color:blue\">EQUAL</span>.</h3>"
   ]
  },
  {
   "cell_type": "code",
   "execution_count": 27,
   "id": "68ca616a",
   "metadata": {},
   "outputs": [
    {
     "name": "stdout",
     "output_type": "stream",
     "text": [
      "False\n"
     ]
    }
   ],
   "source": [
    "x = 5\n",
    "y = 3\n",
    "print(x == y) #karena x tidak sama dengan y"
   ]
  },
  {
   "cell_type": "markdown",
   "id": "e37395fe",
   "metadata": {},
   "source": [
    "- <h3><span style=\"color:blue\">NOT EQUAL</span>.</h3>"
   ]
  },
  {
   "cell_type": "code",
   "execution_count": 28,
   "id": "a74a1061",
   "metadata": {},
   "outputs": [
    {
     "name": "stdout",
     "output_type": "stream",
     "text": [
      "True\n"
     ]
    }
   ],
   "source": [
    "print( x!=y)"
   ]
  },
  {
   "cell_type": "markdown",
   "id": "3cfb1757",
   "metadata": {},
   "source": [
    "- <h3><span style=\"color:blue\">Greater than</span>.</h3>"
   ]
  },
  {
   "cell_type": "code",
   "execution_count": 30,
   "id": "efa0c2a9",
   "metadata": {},
   "outputs": [
    {
     "name": "stdout",
     "output_type": "stream",
     "text": [
      "True\n"
     ]
    }
   ],
   "source": [
    "print(x > y)"
   ]
  },
  {
   "cell_type": "markdown",
   "id": "55ec31e1",
   "metadata": {},
   "source": [
    "- <h3><span style=\"color:blue\">Less than</span>.</h3>"
   ]
  },
  {
   "cell_type": "code",
   "execution_count": 31,
   "id": "bba0e654",
   "metadata": {},
   "outputs": [
    {
     "name": "stdout",
     "output_type": "stream",
     "text": [
      "False\n"
     ]
    }
   ],
   "source": [
    "print(x < y)"
   ]
  },
  {
   "cell_type": "markdown",
   "id": "ae7c3357",
   "metadata": {},
   "source": [
    "- <h3><span style=\"color:blue\">Greater than or equal to</span>.</h3>"
   ]
  },
  {
   "cell_type": "code",
   "execution_count": 32,
   "id": "68ca6a11",
   "metadata": {},
   "outputs": [
    {
     "name": "stdout",
     "output_type": "stream",
     "text": [
      "True\n"
     ]
    }
   ],
   "source": [
    "print(x >= y)"
   ]
  },
  {
   "cell_type": "markdown",
   "id": "eb1cdbec",
   "metadata": {},
   "source": [
    "- <h3><span style=\"color:blue\">Less than or equal to</span>.</h3>"
   ]
  },
  {
   "cell_type": "code",
   "execution_count": 34,
   "id": "1a8ed9dc",
   "metadata": {},
   "outputs": [
    {
     "name": "stdout",
     "output_type": "stream",
     "text": [
      "False\n"
     ]
    }
   ],
   "source": [
    "print(x <= y)"
   ]
  },
  {
   "cell_type": "markdown",
   "id": "932617d1",
   "metadata": {},
   "source": [
    "## D. PYTHON LOGICAL OPERATORS"
   ]
  },
  {
   "cell_type": "markdown",
   "id": "13929721",
   "metadata": {},
   "source": [
    "- <h3><span style=\"color:blue\">AND</span>.</h3>"
   ]
  },
  {
   "cell_type": "code",
   "execution_count": 36,
   "id": "b4327607",
   "metadata": {},
   "outputs": [
    {
     "name": "stdout",
     "output_type": "stream",
     "text": [
      "True\n"
     ]
    }
   ],
   "source": [
    "x = 5\n",
    "print(x > 3 and x < 10)"
   ]
  },
  {
   "cell_type": "markdown",
   "id": "9f12c80d",
   "metadata": {},
   "source": [
    "Bernilai benar, apabila semua kondisinya benar"
   ]
  },
  {
   "cell_type": "markdown",
   "id": "13c85890",
   "metadata": {},
   "source": [
    "- <h3><span style=\"color:blue\">OR</span>.</h3>"
   ]
  },
  {
   "cell_type": "code",
   "execution_count": 37,
   "id": "2e0bd955",
   "metadata": {},
   "outputs": [
    {
     "name": "stdout",
     "output_type": "stream",
     "text": [
      "True\n"
     ]
    }
   ],
   "source": [
    "x = 5\n",
    "print(x>3 or x<4)"
   ]
  },
  {
   "cell_type": "markdown",
   "id": "8fe02084",
   "metadata": {},
   "source": [
    "bernilai benar, jika ada salah satu kondisi yang benar"
   ]
  },
  {
   "cell_type": "markdown",
   "id": "36dd2f5c",
   "metadata": {},
   "source": [
    "- <h3><span style=\"color:blue\">NOT</span>.</h3>"
   ]
  },
  {
   "cell_type": "code",
   "execution_count": 38,
   "id": "50c2a9d5",
   "metadata": {},
   "outputs": [
    {
     "name": "stdout",
     "output_type": "stream",
     "text": [
      "False\n"
     ]
    }
   ],
   "source": [
    "x = 5\n",
    "print(not(x>3 and x<10))"
   ]
  },
  {
   "cell_type": "markdown",
   "id": "ca2b1866",
   "metadata": {},
   "source": [
    "## E. PYTHON IDENTITY OPERATORS"
   ]
  },
  {
   "cell_type": "markdown",
   "id": "1f8ccd2b",
   "metadata": {},
   "source": [
    "- <h3><span style=\"color:blue\">IS</span>.</h3>"
   ]
  },
  {
   "cell_type": "code",
   "execution_count": 40,
   "id": "2fb3a71c",
   "metadata": {},
   "outputs": [
    {
     "name": "stdout",
     "output_type": "stream",
     "text": [
      "True\n",
      "False\n",
      "True\n"
     ]
    }
   ],
   "source": [
    "x = [\"apple\", \"banana\"]\n",
    "y = [\"apple\", \"banana\"]\n",
    "z = x\n",
    "\n",
    "print(x is z)\n",
    "\n",
    "# returns True because z is the same object as x\n",
    "\n",
    "print(x is y)\n",
    "\n",
    "# returns False because x is not the same object as y, even if they have the same content\n",
    "\n",
    "print(x == y)\n",
    "\n",
    "# to demonstrate the difference betweeen \"is\" and \"==\": this comparison returns True because x is equal to y"
   ]
  },
  {
   "cell_type": "markdown",
   "id": "f9c25dfb",
   "metadata": {},
   "source": [
    "Returns True if a sequence with the specified value is present in the object"
   ]
  },
  {
   "cell_type": "markdown",
   "id": "87a9556c",
   "metadata": {},
   "source": [
    "- <h3><span style=\"color:blue\">IS NOT</span>.</h3>"
   ]
  },
  {
   "cell_type": "code",
   "execution_count": 42,
   "id": "ea62d34c",
   "metadata": {},
   "outputs": [
    {
     "name": "stdout",
     "output_type": "stream",
     "text": [
      "False\n",
      "True\n",
      "False\n"
     ]
    }
   ],
   "source": [
    "x = [\"apple\", \"banana\"]\n",
    "y = [\"apple\", \"banana\"]\n",
    "z = x\n",
    "\n",
    "print(x is not z)\n",
    "\n",
    "# returns False because z is the same object as x\n",
    "\n",
    "print(x is not y)\n",
    "\n",
    "# returns True because x is not the same object as y, even if they have the same content\n",
    "\n",
    "print(x != y)\n",
    "\n",
    "# to demonstrate the difference betweeen \"is not\" and \"!=\": this comparison returns False because x is equal to y\n"
   ]
  },
  {
   "cell_type": "markdown",
   "id": "8ce2654f",
   "metadata": {},
   "source": [
    "Returns True if both variables are not the same object"
   ]
  },
  {
   "cell_type": "markdown",
   "id": "cfaa307d",
   "metadata": {},
   "source": [
    "## F. PYTHON MEMBERSHIP OPERATORS"
   ]
  },
  {
   "cell_type": "markdown",
   "id": "0c1b88f0",
   "metadata": {},
   "source": [
    "- ### IN"
   ]
  },
  {
   "cell_type": "code",
   "execution_count": 43,
   "id": "5eadb275",
   "metadata": {},
   "outputs": [
    {
     "name": "stdout",
     "output_type": "stream",
     "text": [
      "True\n"
     ]
    }
   ],
   "source": [
    "x = [\"apple\", \"banana\"]\n",
    "\n",
    "print(\"banana\" in x)\n",
    "\n",
    "# returns True because a sequence with the value \"banana\" is in the list\n"
   ]
  },
  {
   "cell_type": "markdown",
   "id": "a8aae5b1",
   "metadata": {},
   "source": [
    "Returns True if a sequence with the specified value is present in the object"
   ]
  },
  {
   "cell_type": "markdown",
   "id": "bee21304",
   "metadata": {},
   "source": [
    "- ### NOT IN"
   ]
  },
  {
   "cell_type": "code",
   "execution_count": 44,
   "id": "bf66fb88",
   "metadata": {},
   "outputs": [
    {
     "name": "stdout",
     "output_type": "stream",
     "text": [
      "True\n"
     ]
    }
   ],
   "source": [
    "x = [\"apple\", \"banana\"]\n",
    "\n",
    "print(\"pineapple\" not in x)\n",
    "\n",
    "# returns True because a sequence with the value \"pineapple\" is not in the list\n"
   ]
  },
  {
   "cell_type": "markdown",
   "id": "319ef29a",
   "metadata": {},
   "source": [
    "Returns True if a sequence with the specified value is not present in the object"
   ]
  },
  {
   "cell_type": "markdown",
   "id": "ddcc83db",
   "metadata": {},
   "source": [
    "## G. PYTHON BITWISE OPERATORS"
   ]
  },
  {
   "cell_type": "code",
   "execution_count": 46,
   "id": "7dd6d662",
   "metadata": {},
   "outputs": [
    {
     "name": "stdout",
     "output_type": "stream",
     "text": [
      "1\n"
     ]
    }
   ],
   "source": [
    "print(5 & 3)"
   ]
  },
  {
   "cell_type": "code",
   "execution_count": 47,
   "id": "22286ed8",
   "metadata": {},
   "outputs": [
    {
     "name": "stdout",
     "output_type": "stream",
     "text": [
      "7\n"
     ]
    }
   ],
   "source": [
    "print(5 | 3)"
   ]
  },
  {
   "cell_type": "code",
   "execution_count": 48,
   "id": "f79b1fd4",
   "metadata": {},
   "outputs": [
    {
     "name": "stdout",
     "output_type": "stream",
     "text": [
      "6\n"
     ]
    }
   ],
   "source": [
    "print(5 ^ 3)"
   ]
  },
  {
   "cell_type": "code",
   "execution_count": 49,
   "id": "7ba7bc47",
   "metadata": {},
   "outputs": [
    {
     "name": "stdout",
     "output_type": "stream",
     "text": [
      "0\n"
     ]
    }
   ],
   "source": [
    "print(5 >> 3)"
   ]
  },
  {
   "cell_type": "code",
   "execution_count": 50,
   "id": "7d2bd7be",
   "metadata": {},
   "outputs": [
    {
     "name": "stdout",
     "output_type": "stream",
     "text": [
      "40\n"
     ]
    }
   ],
   "source": [
    "print(5 << 3)"
   ]
  },
  {
   "cell_type": "code",
   "execution_count": 51,
   "id": "c14f9f28",
   "metadata": {},
   "outputs": [
    {
     "name": "stdout",
     "output_type": "stream",
     "text": [
      "-6\n"
     ]
    }
   ],
   "source": [
    "print(~5)"
   ]
  }
 ],
 "metadata": {
  "kernelspec": {
   "display_name": "Python 3",
   "language": "python",
   "name": "python3"
  },
  "language_info": {
   "codemirror_mode": {
    "name": "ipython",
    "version": 3
   },
   "file_extension": ".py",
   "mimetype": "text/x-python",
   "name": "python",
   "nbconvert_exporter": "python",
   "pygments_lexer": "ipython3",
   "version": "3.8.8"
  }
 },
 "nbformat": 4,
 "nbformat_minor": 5
}
