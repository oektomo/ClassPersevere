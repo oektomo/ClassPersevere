{
 "cells": [
  {
   "cell_type": "markdown",
   "id": "8556a9e8",
   "metadata": {},
   "source": [
    "# Python For Loops"
   ]
  },
  {
   "cell_type": "code",
   "execution_count": 2,
   "id": "d9bf232e",
   "metadata": {},
   "outputs": [
    {
     "name": "stdout",
     "output_type": "stream",
     "text": [
      "apple\n",
      "banana\n",
      "cherry\n"
     ]
    }
   ],
   "source": [
    "#Perulangan for digunakan untuk mengulangi urutan \n",
    "#(yaitu daftar, tuple, kamus, set, atau string).\n",
    "\n",
    "fruits = [\"apple\", \"banana\", \"cherry\"]\n",
    "for x in fruits:\n",
    "  print(x) \n",
    "\n",
    "#Perulangan for tidak memerlukan variabel pengindeksan untuk disetel sebelumnya."
   ]
  },
  {
   "cell_type": "markdown",
   "id": "68354b1c",
   "metadata": {},
   "source": [
    "# Looping Through a String"
   ]
  },
  {
   "cell_type": "code",
   "execution_count": 3,
   "id": "fada680d",
   "metadata": {},
   "outputs": [
    {
     "name": "stdout",
     "output_type": "stream",
     "text": [
      "b\n",
      "a\n",
      "n\n",
      "a\n",
      "n\n",
      "a\n"
     ]
    }
   ],
   "source": [
    "#Bahkan string adalah objek yang dapat diubah, mereka berisi urutan karakter:\n",
    "\n",
    "for x in \"banana\":\n",
    "  print(x) "
   ]
  },
  {
   "cell_type": "markdown",
   "id": "a10b0acd",
   "metadata": {},
   "source": [
    "# The break Statement"
   ]
  },
  {
   "cell_type": "code",
   "execution_count": 4,
   "id": "6f938723",
   "metadata": {},
   "outputs": [
    {
     "name": "stdout",
     "output_type": "stream",
     "text": [
      "apple\n",
      "banana\n"
     ]
    }
   ],
   "source": [
    "#Dengan pernyataan break , \n",
    "#kita dapat menghentikan loop sebelum loop melewati semua item:\n",
    "#Keluar dari loop ketika x\"pisang\":\n",
    "\n",
    "fruits = [\"apple\", \"banana\", \"cherry\"]\n",
    "for x in fruits:\n",
    "  print(x)\n",
    "  if x == \"banana\":\n",
    "    break"
   ]
  },
  {
   "cell_type": "code",
   "execution_count": 5,
   "id": "2d4f5baa",
   "metadata": {},
   "outputs": [
    {
     "name": "stdout",
     "output_type": "stream",
     "text": [
      "apple\n"
     ]
    }
   ],
   "source": [
    "#Keluar dari loop ketika x\"pisang\", tetapi kali ini jeda datang sebelum cetakan:\n",
    "\n",
    "fruits = [\"apple\", \"banana\", \"cherry\"]\n",
    "for x in fruits:\n",
    "  if x == \"banana\":\n",
    "    break\n",
    "  print(x) \n"
   ]
  },
  {
   "cell_type": "markdown",
   "id": "a9de2c06",
   "metadata": {},
   "source": [
    "# The continue Statement"
   ]
  },
  {
   "cell_type": "code",
   "execution_count": 8,
   "id": "ba38704a",
   "metadata": {},
   "outputs": [
    {
     "name": "stdout",
     "output_type": "stream",
     "text": [
      "apple\n",
      "watermelon\n"
     ]
    }
   ],
   "source": [
    "#Dengan pernyataan continue kita dapat menghentikan iterasi loop saat ini, \n",
    "#dan melanjutkan dengan yang berikutnya:\n",
    "\n",
    "fruits = [\"apple\", \"berry\", \"watermelon\"]\n",
    "for x in fruits:\n",
    "  if x == \"berry\":\n",
    "    continue\n",
    "  print(x)"
   ]
  },
  {
   "cell_type": "markdown",
   "id": "93e3610d",
   "metadata": {},
   "source": [
    "# The range() Function"
   ]
  },
  {
   "cell_type": "code",
   "execution_count": 9,
   "id": "815ad949",
   "metadata": {},
   "outputs": [
    {
     "name": "stdout",
     "output_type": "stream",
     "text": [
      "0\n",
      "1\n",
      "2\n",
      "3\n",
      "4\n",
      "5\n"
     ]
    }
   ],
   "source": [
    "#Untuk mengulang satu set kode beberapa kali, \n",
    "#kita dapat menggunakan fungsi range()\n",
    "#Fungsi range() mengembalikan urutan angka\n",
    "\n",
    "for x in range(6):\n",
    "  print(x) \n",
    "\n",
    "#Perhatikan bahwa rentang(6) bukanlah nilai 0 hingga 6, tetapi nilai 0 hingga 5.\n",
    "#artinya, angka 0 juga memiliki nilai"
   ]
  },
  {
   "cell_type": "code",
   "execution_count": 10,
   "id": "b6d78cf3",
   "metadata": {},
   "outputs": [
    {
     "name": "stdout",
     "output_type": "stream",
     "text": [
      "2\n",
      "3\n",
      "4\n",
      "5\n"
     ]
    }
   ],
   "source": [
    "#Fungsi range() default ke 0 sebagai nilai awal, \n",
    "#namun dimungkinkan untuk menentukan nilai awal dengan menambahkan parameter: range(2, 6) , \n",
    "#yang berarti nilai dari 2 hingga 6 (tetapi tidak termasuk 6):\n",
    "\n",
    "for x in range(2, 6):\n",
    "  print(x)"
   ]
  },
  {
   "cell_type": "markdown",
   "id": "d231d060",
   "metadata": {},
   "source": [
    "# Else in For Loop"
   ]
  },
  {
   "cell_type": "code",
   "execution_count": 11,
   "id": "8c7137c6",
   "metadata": {},
   "outputs": [
    {
     "name": "stdout",
     "output_type": "stream",
     "text": [
      "0\n",
      "1\n",
      "2\n",
      "3\n",
      "4\n",
      "5\n",
      "Finally finished!\n"
     ]
    }
   ],
   "source": [
    "#Kata (else) kunci dalam (for) loop menentukan blok kode yang akan dieksekusi ketika loop selesai:\n",
    "\n",
    "for x in range(6):\n",
    "  print(x)\n",
    "else:\n",
    "  print(\"Finally finished!\")\n",
    "\n",
    "#Blok (else) TIDAK akan dieksekusi jika loop dihentikan oleh sebuah breakpernyataan."
   ]
  },
  {
   "cell_type": "markdown",
   "id": "4d95b66e",
   "metadata": {},
   "source": [
    "# Nested Loops"
   ]
  },
  {
   "cell_type": "code",
   "execution_count": 12,
   "id": "ec05ef63",
   "metadata": {},
   "outputs": [
    {
     "name": "stdout",
     "output_type": "stream",
     "text": [
      "red apple\n",
      "red banana\n",
      "red cherry\n",
      "big apple\n",
      "big banana\n",
      "big cherry\n",
      "tasty apple\n",
      "tasty banana\n",
      "tasty cherry\n"
     ]
    }
   ],
   "source": [
    "#Loop bersarang adalah loop di dalam loop.\n",
    "\n",
    "adj = [\"red\", \"big\", \"tasty\"]\n",
    "fruits = [\"apple\", \"banana\", \"cherry\"]\n",
    "\n",
    "for x in adj:\n",
    "  for y in fruits:\n",
    "    print(x, y)"
   ]
  },
  {
   "cell_type": "markdown",
   "id": "16462617",
   "metadata": {},
   "source": [
    "# The pass Statement"
   ]
  },
  {
   "cell_type": "code",
   "execution_count": 13,
   "id": "d6ee9189",
   "metadata": {},
   "outputs": [],
   "source": [
    "#(for) loop tidak boleh kosong, tetapi jika kita karena alasan tertentu memiliki (for) loop tanpa konten, \n",
    "#masukkan passpernyataan untuk menghindari kesalahan.\n",
    "\n",
    "for x in [0, 1, 2]:\n",
    "  pass"
   ]
  }
 ],
 "metadata": {
  "kernelspec": {
   "display_name": "Python 3 (ipykernel)",
   "language": "python",
   "name": "python3"
  },
  "language_info": {
   "codemirror_mode": {
    "name": "ipython",
    "version": 3
   },
   "file_extension": ".py",
   "mimetype": "text/x-python",
   "name": "python",
   "nbconvert_exporter": "python",
   "pygments_lexer": "ipython3",
   "version": "3.9.7"
  }
 },
 "nbformat": 4,
 "nbformat_minor": 5
}
