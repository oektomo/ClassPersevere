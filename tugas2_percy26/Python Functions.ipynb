{
 "cells": [
  {
   "cell_type": "markdown",
   "id": "c5e83072",
   "metadata": {},
   "source": [
    "###### Fungsi adalah blok kode yang hanya berjalan ketika dipanggil."
   ]
  },
  {
   "cell_type": "markdown",
   "id": "d3985c11",
   "metadata": {},
   "source": [
    "# Creating a Function"
   ]
  },
  {
   "cell_type": "code",
   "execution_count": 1,
   "id": "498195f0",
   "metadata": {},
   "outputs": [],
   "source": [
    "#Dalam Python, sebuah fungsi didefinisikan menggunakan kata kunci def :\n",
    "\n",
    "def my_function():\n",
    "  print(\"Hello from a function\")"
   ]
  },
  {
   "cell_type": "markdown",
   "id": "86a84098",
   "metadata": {},
   "source": [
    "# Calling a Function"
   ]
  },
  {
   "cell_type": "code",
   "execution_count": 2,
   "id": "150c2d08",
   "metadata": {},
   "outputs": [
    {
     "name": "stdout",
     "output_type": "stream",
     "text": [
      "Hello from a function\n"
     ]
    }
   ],
   "source": [
    "#Untuk memanggil fungsi, gunakan nama fungsi diikuti dengan tanda kurung:\n",
    "\n",
    "def my_function():\n",
    "  print(\"Hello from a function\")\n",
    "\n",
    "my_function()"
   ]
  },
  {
   "cell_type": "markdown",
   "id": "16f3c0e5",
   "metadata": {},
   "source": [
    "# Arguments"
   ]
  },
  {
   "cell_type": "code",
   "execution_count": 3,
   "id": "e05a53f5",
   "metadata": {},
   "outputs": [
    {
     "name": "stdout",
     "output_type": "stream",
     "text": [
      "Emil Refsnes\n",
      "Tobias Refsnes\n",
      "Linus Refsnes\n"
     ]
    }
   ],
   "source": [
    "#Argumen ditentukan setelah nama fungsi, di dalam tanda kurung. \n",
    "#Kita dapat menambahkan argumen sebanyak yang Kita inginkan, \n",
    "#cukup pisahkan dengan koma.\n",
    "\n",
    "def my_function(fname):\n",
    "  print(fname + \" Refsnes\")\n",
    "\n",
    "my_function(\"Emil\")\n",
    "my_function(\"Tobias\")\n",
    "my_function(\"Linus\")"
   ]
  },
  {
   "cell_type": "markdown",
   "id": "1eec2675",
   "metadata": {},
   "source": [
    "# Parameters or Arguments?"
   ]
  },
  {
   "cell_type": "code",
   "execution_count": 4,
   "id": "c5194a8b",
   "metadata": {},
   "outputs": [],
   "source": [
    "#Istilah parameter dan argumen dapat digunakan untuk hal yang sama: \n",
    "#informasi yang diteruskan ke suatu fungsi."
   ]
  },
  {
   "cell_type": "markdown",
   "id": "396c05e0",
   "metadata": {},
   "source": [
    "# Number of Arguments"
   ]
  },
  {
   "cell_type": "code",
   "execution_count": 5,
   "id": "67a30bee",
   "metadata": {},
   "outputs": [
    {
     "name": "stdout",
     "output_type": "stream",
     "text": [
      "Emil Refsnes\n"
     ]
    }
   ],
   "source": [
    "#Secara default, suatu fungsi harus dipanggil dengan jumlah argumen yang benar. Artinya jika fungsi Anda mengharapkan 2 argumen, \n",
    "#kita harus memanggil fungsi dengan 2 argumen, tidak lebih, dan tidak kurang.\n",
    "\n",
    "#Fungsi ini mengharapkan 2 argumen, dan mendapat 2 argumen:\n",
    "\n",
    "def my_function(fname, lname):\n",
    "  print(fname + \" \" + lname)\n",
    "\n",
    "my_function(\"Emil\", \"Refsnes\")"
   ]
  },
  {
   "cell_type": "markdown",
   "id": "fb400244",
   "metadata": {},
   "source": [
    "###### Jika kita mencoba memanggil fungsi dengan 1 atau 3 argumen, Kita akan mendapatkan kesalahan:"
   ]
  },
  {
   "cell_type": "code",
   "execution_count": 8,
   "id": "605b9e70",
   "metadata": {},
   "outputs": [
    {
     "ename": "TypeError",
     "evalue": "my_function() missing 1 required positional argument: 'lname'",
     "output_type": "error",
     "traceback": [
      "\u001b[1;31m---------------------------------------------------------------------------\u001b[0m",
      "\u001b[1;31mTypeError\u001b[0m                                 Traceback (most recent call last)",
      "\u001b[1;32m~\\AppData\\Local\\Temp/ipykernel_6356/454220934.py\u001b[0m in \u001b[0;36m<module>\u001b[1;34m\u001b[0m\n\u001b[0;32m      4\u001b[0m   \u001b[0mprint\u001b[0m\u001b[1;33m(\u001b[0m\u001b[0mfname\u001b[0m \u001b[1;33m+\u001b[0m \u001b[1;34m\" \"\u001b[0m \u001b[1;33m+\u001b[0m \u001b[0mlname\u001b[0m\u001b[1;33m)\u001b[0m\u001b[1;33m\u001b[0m\u001b[1;33m\u001b[0m\u001b[0m\n\u001b[0;32m      5\u001b[0m \u001b[1;33m\u001b[0m\u001b[0m\n\u001b[1;32m----> 6\u001b[1;33m \u001b[0mmy_function\u001b[0m\u001b[1;33m(\u001b[0m\u001b[1;34m\"Emil\"\u001b[0m\u001b[1;33m)\u001b[0m\u001b[1;33m\u001b[0m\u001b[1;33m\u001b[0m\u001b[0m\n\u001b[0m",
      "\u001b[1;31mTypeError\u001b[0m: my_function() missing 1 required positional argument: 'lname'"
     ]
    }
   ],
   "source": [
    "#Fungsi ini mengharapkan 2 argumen, tetapi hanya mendapatkan 1:\n",
    "\n",
    "def my_function(fname, lname):\n",
    "  print(fname + \" \" + lname)\n",
    "\n",
    "my_function(\"Emil\")"
   ]
  },
  {
   "cell_type": "markdown",
   "id": "a00b0c6d",
   "metadata": {},
   "source": [
    "# Arbitrary Arguments, *args"
   ]
  },
  {
   "cell_type": "code",
   "execution_count": 9,
   "id": "328ede55",
   "metadata": {},
   "outputs": [
    {
     "name": "stdout",
     "output_type": "stream",
     "text": [
      "The youngest child is Linus\n"
     ]
    }
   ],
   "source": [
    "#Jika kita tidak tahu berapa banyak argumen yang akan diteruskan ke fungsi kita, \n",
    "#tambahkan a *sebelum nama parameter dalam definisi fungsi.\n",
    "\n",
    "#Jika jumlah argumen tidak diketahui, tambahkan a *sebelum nama parameter:\n",
    "\n",
    "def my_function(*kids):\n",
    "  print(\"The youngest child is \" + kids[2])\n",
    "\n",
    "my_function(\"Emil\", \"Tobias\", \"Linus\")\n",
    "\n",
    "#Argumen Sewenang -wenang sering disingkat menjadi *args dalam dokumentasi Python."
   ]
  },
  {
   "cell_type": "markdown",
   "id": "9220b5ef",
   "metadata": {},
   "source": [
    "# Keyword Arguments"
   ]
  },
  {
   "cell_type": "code",
   "execution_count": 11,
   "id": "a7860600",
   "metadata": {},
   "outputs": [
    {
     "name": "stdout",
     "output_type": "stream",
     "text": [
      "The youngest child is Linus\n"
     ]
    }
   ],
   "source": [
    "#Kita juga dapat mengirim argumen dengan sintaks kunci = nilai .\n",
    "\n",
    "def my_function(child3, child2, child1):\n",
    "  print(\"The youngest child is \" + child3)\n",
    "\n",
    "my_function(child1 = \"Emil\", child2 = \"Tobias\", child3 = \"Linus\")\n",
    "\n",
    "#Frase Argumen Kata Kunci sering disingkat menjadi kwargs dalam dokumentasi Python."
   ]
  },
  {
   "cell_type": "markdown",
   "id": "2925bb86",
   "metadata": {},
   "source": [
    "# Arbitrary Keyword Arguments, **kwargs"
   ]
  },
  {
   "cell_type": "code",
   "execution_count": 12,
   "id": "3ce4b516",
   "metadata": {},
   "outputs": [
    {
     "name": "stdout",
     "output_type": "stream",
     "text": [
      "His last name is Refsnes\n"
     ]
    }
   ],
   "source": [
    "#Jika kita tidak tahu berapa banyak argumen kata kunci yang akan diteruskan ke fungsi kita, \n",
    "#tambahkan dua tanda bintang: **sebelum nama parameter dalam definisi fungsi.\n",
    "\n",
    "def my_function(**kid):\n",
    "  print(\"His last name is \" + kid[\"lname\"])\n",
    "\n",
    "my_function(fname = \"Tobias\", lname = \"Refsnes\")\n",
    "\n",
    "#Argumen Kword Sewenang-wenang sering disingkat menjadi **kwargs dalam dokumentasi Python."
   ]
  },
  {
   "cell_type": "markdown",
   "id": "31231be9",
   "metadata": {},
   "source": [
    "# Default Parameter Value"
   ]
  },
  {
   "cell_type": "code",
   "execution_count": 13,
   "id": "6706d8e9",
   "metadata": {},
   "outputs": [
    {
     "name": "stdout",
     "output_type": "stream",
     "text": [
      "I am from Sweden\n",
      "I am from India\n",
      "I am from Norway\n",
      "I am from Brazil\n"
     ]
    }
   ],
   "source": [
    "#Contoh berikut menunjukkan cara menggunakan nilai parameter default.\n",
    "\n",
    "def my_function(country = \"Norway\"):\n",
    "  print(\"I am from \" + country)\n",
    "\n",
    "my_function(\"Sweden\")\n",
    "my_function(\"India\")\n",
    "my_function()\n",
    "my_function(\"Brazil\")"
   ]
  },
  {
   "cell_type": "markdown",
   "id": "9870f4ef",
   "metadata": {},
   "source": [
    "# Passing a List as an Argument"
   ]
  },
  {
   "cell_type": "code",
   "execution_count": 14,
   "id": "cbc37977",
   "metadata": {},
   "outputs": [
    {
     "name": "stdout",
     "output_type": "stream",
     "text": [
      "apple\n",
      "banana\n",
      "cherry\n"
     ]
    }
   ],
   "source": [
    "#Kita dapat mengirim argumen tipe data apa pun ke suatu fungsi (string, angka, daftar, kamus, dll.), \n",
    "#dan itu akan diperlakukan sebagai tipe data yang sama di dalam fungsi.\n",
    "\n",
    "def my_function(food):\n",
    "  for x in food:\n",
    "    print(x)\n",
    "\n",
    "fruits = [\"apple\", \"banana\", \"cherry\"]\n",
    "\n",
    "my_function(fruits)"
   ]
  },
  {
   "cell_type": "markdown",
   "id": "970a1f29",
   "metadata": {},
   "source": [
    "# Return Values"
   ]
  },
  {
   "cell_type": "code",
   "execution_count": 15,
   "id": "63ab8f98",
   "metadata": {},
   "outputs": [
    {
     "name": "stdout",
     "output_type": "stream",
     "text": [
      "15\n",
      "25\n",
      "45\n"
     ]
    }
   ],
   "source": [
    "#Untuk membiarkan suatu fungsi mengembalikan nilai, gunakan return pernyataan:\n",
    "\n",
    "def my_function(x):\n",
    "  return 5 * x\n",
    "\n",
    "print(my_function(3))\n",
    "print(my_function(5))\n",
    "print(my_function(9))"
   ]
  },
  {
   "cell_type": "markdown",
   "id": "edcee3f3",
   "metadata": {},
   "source": [
    "# The pass Statement"
   ]
  },
  {
   "cell_type": "code",
   "execution_count": 16,
   "id": "6cb3b658",
   "metadata": {},
   "outputs": [],
   "source": [
    "#functiondefinisi tidak boleh kosong, tetapi jika Anda karena alasan tertentu memiliki functiondefinisi tanpa konten, \n",
    "#masukkan passpernyataan untuk menghindari kesalahan.\n",
    "\n",
    "def myfunction():\n",
    "  pass\n",
    "\n",
    "#memiliki definisi fungsi kosong seperti ini, akan menimbulkan kesalahan tanpa pernyataan lulus"
   ]
  },
  {
   "cell_type": "markdown",
   "id": "776adf51",
   "metadata": {},
   "source": [
    "# Recursion"
   ]
  },
  {
   "cell_type": "code",
   "execution_count": 18,
   "id": "70d596d7",
   "metadata": {},
   "outputs": [
    {
     "name": "stdout",
     "output_type": "stream",
     "text": [
      "\n",
      "\n",
      "Recursion Example Results\n",
      "1\n",
      "3\n",
      "6\n",
      "10\n",
      "15\n",
      "21\n"
     ]
    },
    {
     "data": {
      "text/plain": [
       "21"
      ]
     },
     "execution_count": 18,
     "metadata": {},
     "output_type": "execute_result"
    }
   ],
   "source": [
    "#Python juga menerima rekursi fungsi, yang berarti fungsi yang ditentukan dapat memanggil dirinya sendiri.\n",
    "#Rekursi adalah konsep matematika dan pemrograman yang umum. Ini berarti bahwa suatu fungsi memanggil dirinya sendiri. \n",
    "#Ini memiliki manfaat yang berarti bahwa Anda dapat mengulang data untuk mencapai hasil.\n",
    "\n",
    "def tri_recursion(k):\n",
    "  if(k > 0):\n",
    "    result = k + tri_recursion(k - 1)\n",
    "    print(result)\n",
    "  else:\n",
    "    result = 0\n",
    "  return result\n",
    "\n",
    "print(\"\\n\\nRecursion Example Results\")\n",
    "tri_recursion(6)\n",
    "\n",
    "#Dalam kasus ini, tri_recursion() adalah fungsi yang telah kita definisikan untuk memanggil dirinya sendiri (\"recurse\"). \n",
    "#Kami menggunakan variabel k sebagai data, yang mengurangi ( -1 ) setiap kali kami melakukan pengulangan. \n",
    "#Rekursi berakhir ketika kondisinya tidak lebih besar dari 0 (yaitu ketika 0)."
   ]
  }
 ],
 "metadata": {
  "kernelspec": {
   "display_name": "Python 3 (ipykernel)",
   "language": "python",
   "name": "python3"
  },
  "language_info": {
   "codemirror_mode": {
    "name": "ipython",
    "version": 3
   },
   "file_extension": ".py",
   "mimetype": "text/x-python",
   "name": "python",
   "nbconvert_exporter": "python",
   "pygments_lexer": "ipython3",
   "version": "3.9.7"
  }
 },
 "nbformat": 4,
 "nbformat_minor": 5
}
