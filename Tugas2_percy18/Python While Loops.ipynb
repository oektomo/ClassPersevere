{
 "cells": [
  {
   "cell_type": "markdown",
   "id": "b46e9921",
   "metadata": {},
   "source": [
    "# The while Loop"
   ]
  },
  {
   "cell_type": "code",
   "execution_count": 2,
   "id": "ebd1bbd2",
   "metadata": {},
   "outputs": [
    {
     "name": "stdout",
     "output_type": "stream",
     "text": [
      "1\n",
      "2\n",
      "3\n",
      "4\n",
      "5\n"
     ]
    }
   ],
   "source": [
    "#Dengan perulangan while kita dapat mengeksekusi satu set pernyataan selama kondisinya benar.\n",
    "\n",
    "i = 1\n",
    "while i < 6:\n",
    "  print(i)\n",
    "  i += 1\n",
    "    \n",
    "#Loop while membutuhkan variabel yang relevan untuk siap, \n",
    "#dalam contoh ini kita perlu mendefinisikan variabel pengindeksan, i , yang kita setel ke 1."
   ]
  },
  {
   "cell_type": "markdown",
   "id": "e9f32f2d",
   "metadata": {},
   "source": [
    "# The break Statement"
   ]
  },
  {
   "cell_type": "code",
   "execution_count": 3,
   "id": "917683f0",
   "metadata": {},
   "outputs": [
    {
     "name": "stdout",
     "output_type": "stream",
     "text": [
      "1\n",
      "2\n",
      "3\n"
     ]
    }
   ],
   "source": [
    "#Dengan pernyataan break kita dapat menghentikan perulangan meskipun kondisi while benar:\n",
    "\n",
    "i = 1\n",
    "while i < 6:\n",
    "  print(i)\n",
    "  if i == 3:\n",
    "    break\n",
    "  i += 1"
   ]
  },
  {
   "cell_type": "markdown",
   "id": "38c0caa4",
   "metadata": {},
   "source": [
    "# The continue Statement"
   ]
  },
  {
   "cell_type": "code",
   "execution_count": 4,
   "id": "e24cc7d8",
   "metadata": {},
   "outputs": [
    {
     "name": "stdout",
     "output_type": "stream",
     "text": [
      "1\n",
      "2\n",
      "4\n",
      "5\n",
      "6\n"
     ]
    }
   ],
   "source": [
    "#Dengan pernyataan continue kita dapat menghentikan iterasi saat ini, \n",
    "#dan melanjutkan dengan yang berikutnya:\n",
    "\n",
    "i = 0\n",
    "while i < 6:\n",
    "  i += 1\n",
    "  if i == 3:\n",
    "    continue\n",
    "  print(i)"
   ]
  },
  {
   "cell_type": "markdown",
   "id": "90dddae7",
   "metadata": {},
   "source": [
    "# The else Statement"
   ]
  },
  {
   "cell_type": "code",
   "execution_count": 5,
   "id": "886a3450",
   "metadata": {},
   "outputs": [
    {
     "name": "stdout",
     "output_type": "stream",
     "text": [
      "1\n",
      "2\n",
      "3\n",
      "4\n",
      "5\n",
      "i is no longer less than 6\n"
     ]
    }
   ],
   "source": [
    "##Dengan pernyataan else kita dapat menjalankan blok kode satu kali \n",
    "#ketika kondisinya tidak lagi benar:\n",
    "\n",
    "i = 1\n",
    "while i < 6:\n",
    "  print(i)\n",
    "  i += 1\n",
    "else:\n",
    "  print(\"i is no longer less than 6\")"
   ]
  }
 ],
 "metadata": {
  "kernelspec": {
   "display_name": "Python 3 (ipykernel)",
   "language": "python",
   "name": "python3"
  },
  "language_info": {
   "codemirror_mode": {
    "name": "ipython",
    "version": 3
   },
   "file_extension": ".py",
   "mimetype": "text/x-python",
   "name": "python",
   "nbconvert_exporter": "python",
   "pygments_lexer": "ipython3",
   "version": "3.9.7"
  }
 },
 "nbformat": 4,
 "nbformat_minor": 5
}
