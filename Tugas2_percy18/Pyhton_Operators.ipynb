{
 "cells": [
  {
   "cell_type": "markdown",
   "id": "c220250d",
   "metadata": {},
   "source": [
    "# Python Arithmetic Operators\n",
    "\n",
    "Operator aritmatika digunakan dengan nilai numerik untuk melakukan operasi matematika umum"
   ]
  },
  {
   "cell_type": "code",
   "execution_count": 1,
   "id": "857e8a1a",
   "metadata": {},
   "outputs": [
    {
     "name": "stdout",
     "output_type": "stream",
     "text": [
      "8\n"
     ]
    }
   ],
   "source": [
    "#Python Arithmetic Operators menggunakan Operator + (Addition)\n",
    "x = 5\n",
    "y = 3\n",
    "\n",
    "print(x + y)"
   ]
  },
  {
   "cell_type": "code",
   "execution_count": 2,
   "id": "54e70de6",
   "metadata": {},
   "outputs": [
    {
     "name": "stdout",
     "output_type": "stream",
     "text": [
      "2\n"
     ]
    }
   ],
   "source": [
    "#Python Arithmetic Operators menggunakan Operator - (Subtraction)\n",
    "x = 5\n",
    "y = 3\n",
    "\n",
    "print(x - y)"
   ]
  },
  {
   "cell_type": "code",
   "execution_count": 3,
   "id": "1040aca9",
   "metadata": {},
   "outputs": [
    {
     "name": "stdout",
     "output_type": "stream",
     "text": [
      "15\n"
     ]
    }
   ],
   "source": [
    "#Python Arithmetic Operators menggunakan Operator * (Multiplication)\n",
    "x = 5\n",
    "y = 3\n",
    "\n",
    "print(x * y)"
   ]
  },
  {
   "cell_type": "code",
   "execution_count": 4,
   "id": "129ad75a",
   "metadata": {},
   "outputs": [
    {
     "name": "stdout",
     "output_type": "stream",
     "text": [
      "4.0\n"
     ]
    }
   ],
   "source": [
    "#Python Arithmetic Operators menggunakan Operator / (Division)\n",
    "x = 12\n",
    "y = 3\n",
    "\n",
    "print(x / y)"
   ]
  },
  {
   "cell_type": "code",
   "execution_count": 5,
   "id": "5672fca0",
   "metadata": {},
   "outputs": [
    {
     "name": "stdout",
     "output_type": "stream",
     "text": [
      "1\n"
     ]
    }
   ],
   "source": [
    "#Python Arithmetic Operators menggunakan Operator % (Modulus)\n",
    "x = 5\n",
    "y = 2\n",
    "\n",
    "print(x % y)"
   ]
  },
  {
   "cell_type": "code",
   "execution_count": 6,
   "id": "bc577c8d",
   "metadata": {},
   "outputs": [
    {
     "name": "stdout",
     "output_type": "stream",
     "text": [
      "32\n"
     ]
    }
   ],
   "source": [
    "#Python Arithmetic Operators menggunakan Operator ** (Exponentiation)\n",
    "x = 2\n",
    "y = 5\n",
    "\n",
    "print(x ** y) \n",
    "#sama seperti 2*2*2*2*2"
   ]
  },
  {
   "cell_type": "code",
   "execution_count": 7,
   "id": "3d93f7f0",
   "metadata": {},
   "outputs": [
    {
     "name": "stdout",
     "output_type": "stream",
     "text": [
      "7\n"
     ]
    }
   ],
   "source": [
    "#Python Arithmetic Operators menggunakan Operator // (Floor division)\n",
    "x = 15\n",
    "y = 2\n",
    "\n",
    "print(x // y)\n",
    "#Membulatkan hasilnya ke bilangan bulat terdekat"
   ]
  },
  {
   "cell_type": "markdown",
   "id": "33dd43bb",
   "metadata": {},
   "source": [
    "# Python Assignment Operators\n",
    "Operator penugasan digunakan untuk menetapkan nilai ke variabel"
   ]
  },
  {
   "cell_type": "code",
   "execution_count": 8,
   "id": "73cf8228",
   "metadata": {},
   "outputs": [
    {
     "name": "stdout",
     "output_type": "stream",
     "text": [
      "5\n"
     ]
    }
   ],
   "source": [
    "#Python Assignment Operators menggunakan Operator =\n",
    "x = 5\n",
    "\n",
    "print(x)"
   ]
  },
  {
   "cell_type": "code",
   "execution_count": 9,
   "id": "83bd25bb",
   "metadata": {},
   "outputs": [
    {
     "name": "stdout",
     "output_type": "stream",
     "text": [
      "8\n"
     ]
    }
   ],
   "source": [
    "#Python Assignment Operators menggunakan Operator +=\n",
    "x = 5\n",
    "\n",
    "x += 3\n",
    "\n",
    "print(x)"
   ]
  },
  {
   "cell_type": "code",
   "execution_count": 10,
   "id": "b3b0d288",
   "metadata": {},
   "outputs": [
    {
     "name": "stdout",
     "output_type": "stream",
     "text": [
      "2\n"
     ]
    }
   ],
   "source": [
    "#Python Assignment Operators menggunakan Operator -=\n",
    "x = 5\n",
    "\n",
    "x -= 3\n",
    "\n",
    "print(x)"
   ]
  },
  {
   "cell_type": "code",
   "execution_count": 11,
   "id": "2bec3bed",
   "metadata": {},
   "outputs": [
    {
     "name": "stdout",
     "output_type": "stream",
     "text": [
      "15\n"
     ]
    }
   ],
   "source": [
    "#Python Assignment Operators menggunakan Operator *=\n",
    "x = 5\n",
    "\n",
    "x *= 3\n",
    "\n",
    "print(x)"
   ]
  },
  {
   "cell_type": "code",
   "execution_count": 12,
   "id": "e6c0ce28",
   "metadata": {},
   "outputs": [
    {
     "name": "stdout",
     "output_type": "stream",
     "text": [
      "1.6666666666666667\n"
     ]
    }
   ],
   "source": [
    "#Python Assignment Operators menggunakan Operator /=\n",
    "x = 5\n",
    "\n",
    "x /= 3\n",
    "\n",
    "print(x)"
   ]
  },
  {
   "cell_type": "code",
   "execution_count": 13,
   "id": "e5c08e1c",
   "metadata": {},
   "outputs": [
    {
     "name": "stdout",
     "output_type": "stream",
     "text": [
      "2\n"
     ]
    }
   ],
   "source": [
    "#Python Assignment Operators menggunakan Operator %=\n",
    "x = 5\n",
    "\n",
    "x%=3\n",
    "\n",
    "print(x)"
   ]
  },
  {
   "cell_type": "code",
   "execution_count": 14,
   "id": "9e226c47",
   "metadata": {},
   "outputs": [
    {
     "name": "stdout",
     "output_type": "stream",
     "text": [
      "1\n"
     ]
    }
   ],
   "source": [
    "#Python Assignment Operators menggunakan Operator //=\n",
    "x = 5\n",
    "\n",
    "x//=3\n",
    "\n",
    "print(x)"
   ]
  },
  {
   "cell_type": "code",
   "execution_count": 15,
   "id": "25f12b64",
   "metadata": {},
   "outputs": [
    {
     "name": "stdout",
     "output_type": "stream",
     "text": [
      "125\n"
     ]
    }
   ],
   "source": [
    "#Python Assignment Operators menggunakan Operator **=\n",
    "x = 5\n",
    "\n",
    "x **= 3\n",
    "\n",
    "print(x)"
   ]
  },
  {
   "cell_type": "code",
   "execution_count": 16,
   "id": "203e516b",
   "metadata": {},
   "outputs": [
    {
     "name": "stdout",
     "output_type": "stream",
     "text": [
      "1\n"
     ]
    }
   ],
   "source": [
    "#Python Assignment Operators menggunakan Operator &=\n",
    "x = 5\n",
    "\n",
    "x &= 3\n",
    "\n",
    "print(x)"
   ]
  },
  {
   "cell_type": "code",
   "execution_count": 17,
   "id": "6361bb18",
   "metadata": {},
   "outputs": [
    {
     "name": "stdout",
     "output_type": "stream",
     "text": [
      "7\n"
     ]
    }
   ],
   "source": [
    "#Python Assignment Operators menggunakan Operator |=\n",
    "x = 5\n",
    "\n",
    "x |= 3\n",
    "\n",
    "print(x)"
   ]
  },
  {
   "cell_type": "code",
   "execution_count": 18,
   "id": "61c25962",
   "metadata": {},
   "outputs": [
    {
     "name": "stdout",
     "output_type": "stream",
     "text": [
      "6\n"
     ]
    }
   ],
   "source": [
    "#Python Assignment Operators menggunakan Operator ^=\n",
    "x = 5\n",
    "\n",
    "x ^= 3\n",
    "\n",
    "print(x)"
   ]
  },
  {
   "cell_type": "code",
   "execution_count": 19,
   "id": "0fe95346",
   "metadata": {},
   "outputs": [
    {
     "name": "stdout",
     "output_type": "stream",
     "text": [
      "0\n"
     ]
    }
   ],
   "source": [
    "#Python Assignment Operators menggunakan Operator >>=\n",
    "x = 5\n",
    "\n",
    "x >>= 3\n",
    "\n",
    "print(x)"
   ]
  },
  {
   "cell_type": "code",
   "execution_count": 20,
   "id": "9641adc6",
   "metadata": {},
   "outputs": [
    {
     "name": "stdout",
     "output_type": "stream",
     "text": [
      "40\n"
     ]
    }
   ],
   "source": [
    "#Python Assignment Operators menggunakan Operator <<=\n",
    "x = 5\n",
    "\n",
    "x <<= 3\n",
    "\n",
    "print(x)"
   ]
  },
  {
   "cell_type": "markdown",
   "id": "4de96d09",
   "metadata": {},
   "source": [
    "# Python Comparison Operators\n",
    "Operator perbandingan yang digunakan untuk membandingkan dua nilai"
   ]
  },
  {
   "cell_type": "code",
   "execution_count": 21,
   "id": "07d24944",
   "metadata": {},
   "outputs": [
    {
     "name": "stdout",
     "output_type": "stream",
     "text": [
      "False\n"
     ]
    }
   ],
   "source": [
    "#Python Comparison Operators menggunakan Operator == (Equal)\n",
    "x = 5\n",
    "y = 3\n",
    "\n",
    "print(x == y)\n",
    "# mengembalikan False karena 5 tidak sama dengan 3"
   ]
  },
  {
   "cell_type": "code",
   "execution_count": 22,
   "id": "a842cbdf",
   "metadata": {},
   "outputs": [
    {
     "name": "stdout",
     "output_type": "stream",
     "text": [
      "True\n"
     ]
    }
   ],
   "source": [
    "#Python Comparison Operators menggunakan Operator != (Not equal)\n",
    "x = 5\n",
    "y = 3\n",
    "\n",
    "print(x != y)\n",
    "# mengembalikan True karena 5 tidak sama dengan 3"
   ]
  },
  {
   "cell_type": "code",
   "execution_count": 23,
   "id": "4079a0b1",
   "metadata": {},
   "outputs": [
    {
     "name": "stdout",
     "output_type": "stream",
     "text": [
      "True\n"
     ]
    }
   ],
   "source": [
    "#Python Comparison Operators menggunakan Operator > (Greater than)\n",
    "x = 5\n",
    "y = 3\n",
    "\n",
    "print(x > y)\n",
    "# mengembalikan True karena 5 lebih besar dari 3"
   ]
  },
  {
   "cell_type": "code",
   "execution_count": 24,
   "id": "88c7950f",
   "metadata": {},
   "outputs": [
    {
     "name": "stdout",
     "output_type": "stream",
     "text": [
      "False\n"
     ]
    }
   ],
   "source": [
    "#Python Comparison Operators menggunakan Operator < (Less than)\n",
    "x = 5\n",
    "y = 3\n",
    "\n",
    "print(x < y)\n",
    "# mengembalikan False karena 5 tidak kurang dari 3"
   ]
  },
  {
   "cell_type": "code",
   "execution_count": 25,
   "id": "57fdb1f2",
   "metadata": {},
   "outputs": [
    {
     "name": "stdout",
     "output_type": "stream",
     "text": [
      "True\n"
     ]
    }
   ],
   "source": [
    "#Python Comparison Operators menggunakan Operator >= (Greater than or equal to)\n",
    "x = 5\n",
    "y = 3\n",
    "\n",
    "print(x >= y)\n",
    "# mengembalikan True karena 5 lebih besar, atau sama, dengan 3"
   ]
  },
  {
   "cell_type": "code",
   "execution_count": 26,
   "id": "d5a76d6b",
   "metadata": {},
   "outputs": [
    {
     "name": "stdout",
     "output_type": "stream",
     "text": [
      "False\n"
     ]
    }
   ],
   "source": [
    "#Python Comparison Operators menggunakan Operator <= (Less than or equal to)\n",
    "x = 5\n",
    "y = 3\n",
    "\n",
    "print(x <= y)\n",
    "# mengembalikan False karena 5 tidak kurang dari atau sama dengan 3"
   ]
  },
  {
   "cell_type": "markdown",
   "id": "ccb829ee",
   "metadata": {},
   "source": [
    "# Python Logical Operators\n",
    "Operator logika digunakan untuk menggabungkan pernyataan kondisional"
   ]
  },
  {
   "cell_type": "code",
   "execution_count": 27,
   "id": "b55aa2b0",
   "metadata": {},
   "outputs": [
    {
     "name": "stdout",
     "output_type": "stream",
     "text": [
      "True\n"
     ]
    }
   ],
   "source": [
    "#Python Logical Operators menggunakan Operator and (Returns True if both statements are true)\n",
    "x = 5\n",
    "\n",
    "print(x > 3 and x < 10)\n",
    "# mengembalikan True karena 5 lebih besar dari 3 DAN 5 kurang dari 10"
   ]
  },
  {
   "cell_type": "code",
   "execution_count": 28,
   "id": "5cc2171a",
   "metadata": {},
   "outputs": [
    {
     "name": "stdout",
     "output_type": "stream",
     "text": [
      "True\n"
     ]
    }
   ],
   "source": [
    "#Python Logical Operators menggunakan Operator or (Returns True if one of the statements is true)\n",
    "x = 5\n",
    "\n",
    "print(x > 3 or x < 4)\n",
    "# mengembalikan True karena salah satu kondisinya benar (5 lebih besar dari 3, tetapi 5 tidak kurang dari 4)"
   ]
  },
  {
   "cell_type": "code",
   "execution_count": 29,
   "id": "a77d25ee",
   "metadata": {},
   "outputs": [
    {
     "name": "stdout",
     "output_type": "stream",
     "text": [
      "False\n"
     ]
    }
   ],
   "source": [
    "#Python Logical Operators menggunakan Operator not (Reverse the result, returns False if the result is true)\n",
    "x = 5\n",
    "\n",
    "print(not(x > 3 and x < 10))\n",
    "# mengembalikan False karena tidak digunakan untuk membalikkan hasil"
   ]
  },
  {
   "cell_type": "markdown",
   "id": "b9d61bbc",
   "metadata": {},
   "source": [
    "# Python Identity Operators\n",
    "Operator identitas digunakan untuk membandingkan objek, bukan jika mereka sama, tetapi jika mereka sebenarnya adalah objek yang sama, dengan lokasi memori yang sama"
   ]
  },
  {
   "cell_type": "code",
   "execution_count": 30,
   "id": "2790a1a5",
   "metadata": {},
   "outputs": [
    {
     "name": "stdout",
     "output_type": "stream",
     "text": [
      "True\n",
      "False\n",
      "True\n"
     ]
    }
   ],
   "source": [
    "#Python Identity Operators menggunakan Operator is (Returns True if both variables are the same object)\n",
    "x = [\"apple\", \"banana\"]\n",
    "y = [\"apple\", \"banana\"]\n",
    "z = x\n",
    "\n",
    "print(x is z)\n",
    "# mengembalikan True karena z adalah objek yang sama dengan x\n",
    "\n",
    "print(x is y)\n",
    "# mengembalikan False karena x bukan objek yang sama dengan y, meskipun mereka memiliki konten yang sama\n",
    "\n",
    "print(x == y)\n",
    "# untuk menunjukkan perbedaan antara \"adalah\" dan \"==\": perbandingan ini mengembalikan Benar karena x sama dengan y"
   ]
  },
  {
   "cell_type": "code",
   "execution_count": 31,
   "id": "1c45870e",
   "metadata": {},
   "outputs": [
    {
     "name": "stdout",
     "output_type": "stream",
     "text": [
      "False\n",
      "True\n",
      "False\n"
     ]
    }
   ],
   "source": [
    "#Python Identity Operators menggunakan Operator is not (Returns True if both variables are not the same object)\n",
    "x = [\"apple\", \"banana\"]\n",
    "y = [\"apple\", \"banana\"]\n",
    "z = x\n",
    "\n",
    "print(x is not z)\n",
    "# mengembalikan False karena z adalah objek yang sama dengan x\n",
    "\n",
    "print(x is not y)\n",
    "# mengembalikan True karena x bukan objek yang sama dengan y, bahkan jika mereka memiliki konten yang sama\n",
    "\n",
    "print(x != y)\n",
    "# untuk menunjukkan perbedaan antara \"bukan\" dan \"!=\": perbandingan ini mengembalikan False karena x sama dengan y"
   ]
  },
  {
   "cell_type": "markdown",
   "id": "46b47e9b",
   "metadata": {},
   "source": [
    "# Python Membership Operators\n",
    "Operator keanggotaan digunakan untuk menguji apakah urutan disajikan dalam suatu objek"
   ]
  },
  {
   "cell_type": "code",
   "execution_count": 32,
   "id": "1b81992c",
   "metadata": {},
   "outputs": [
    {
     "name": "stdout",
     "output_type": "stream",
     "text": [
      "True\n"
     ]
    }
   ],
   "source": [
    "#Python Identity Operators menggunakan Operator in (Returns True if a sequence with the specified value is present in the object)\n",
    "x = [\"apple\", \"banana\"]\n",
    "\n",
    "print(\"banana\" in x)\n",
    "# mengembalikan True karena urutan dengan nilai \"pisang\" ada dalam daftar"
   ]
  },
  {
   "cell_type": "code",
   "execution_count": 33,
   "id": "1b73edde",
   "metadata": {},
   "outputs": [
    {
     "name": "stdout",
     "output_type": "stream",
     "text": [
      "True\n"
     ]
    }
   ],
   "source": [
    "#Python Identity Operators menggunakan Operator not in (Returns True if a sequence with the specified value is not present in the object)\n",
    "x = [\"apple\", \"banana\"]\n",
    "\n",
    "print(\"pineapple\" not in x)\n",
    "# mengembalikan True karena urutan dengan nilai \"nanas\" tidak ada dalam daftar"
   ]
  },
  {
   "cell_type": "markdown",
   "id": "c51f663e",
   "metadata": {},
   "source": [
    "# Python Bitwise Operators\n",
    "Operator bitwise digunakan untuk membandingkan angka (biner)"
   ]
  },
  {
   "cell_type": "code",
   "execution_count": 44,
   "id": "effb4d0d",
   "metadata": {},
   "outputs": [
    {
     "name": "stdout",
     "output_type": "stream",
     "text": [
      "8\n",
      "0b1000\n"
     ]
    }
   ],
   "source": [
    "#Python Identity Operators menggunakan Operator & (AND)\n",
    "\n",
    "x = 9   # biner nya 0b1001\n",
    "y = 10  # biner nya 0b1010\n",
    "\n",
    "print(x & y)\n",
    "print(bin(x & y))\n",
    "# hasilnya 8\n",
    "# dengan biner 0b1000"
   ]
  },
  {
   "cell_type": "code",
   "execution_count": 45,
   "id": "481bfd54",
   "metadata": {},
   "outputs": [
    {
     "name": "stdout",
     "output_type": "stream",
     "text": [
      "11\n",
      "0b1011\n"
     ]
    }
   ],
   "source": [
    "#Python Identity Operators menggunakan Operator | (OR)\n",
    "\n",
    "x = 9   # biner nya 0b1001\n",
    "y = 10  # biner nya 0b1010\n",
    "\n",
    "print(x | y)\n",
    "print(bin(x | y))\n",
    "# hasilnya 11\n",
    "# dengan biner 0b1011"
   ]
  },
  {
   "cell_type": "code",
   "execution_count": 46,
   "id": "e8000124",
   "metadata": {},
   "outputs": [
    {
     "name": "stdout",
     "output_type": "stream",
     "text": [
      "3\n",
      "0b11\n"
     ]
    }
   ],
   "source": [
    "#Python Identity Operators menggunakan Operator ^ (XOR)\n",
    "\n",
    "x = 9   # biner nya 0b1001\n",
    "y = 10  # biner nya 0b1010\n",
    "\n",
    "print(x ^ y)\n",
    "print(bin(x ^ y))\n",
    "# hasilnya 3\n",
    "# dengan biner 0b11"
   ]
  },
  {
   "cell_type": "code",
   "execution_count": 48,
   "id": "5e8a7693",
   "metadata": {},
   "outputs": [
    {
     "name": "stdout",
     "output_type": "stream",
     "text": [
      "-10\n",
      "-0b1010\n",
      "0b11110110\n",
      "0110\n"
     ]
    }
   ],
   "source": [
    "#Python Identity Operators menggunakan Operator ~ (NOT)\n",
    "\n",
    "x = 9  # biner nya 0b1001\n",
    "\n",
    "print(~x)\n",
    "print(bin(~x))\n",
    "# hasilnya -10\n",
    "# dengan biner -0b1010\n",
    "\n",
    "#Jika menggunakan .format\n",
    "print(bin(~x & 0xff))\n",
    "print(format(~x & 0b1111, '04b'))\n",
    "# biner nya 0b11110110\n",
    "# binary nya 0110"
   ]
  },
  {
   "cell_type": "code",
   "execution_count": 49,
   "id": "3808eb67",
   "metadata": {},
   "outputs": [
    {
     "name": "stdout",
     "output_type": "stream",
     "text": [
      "18\n",
      "0b10010\n",
      "4\n",
      "0b100\n"
     ]
    }
   ],
   "source": [
    "#Python Identity Operators menggunakan Operator << dan >> (\tZero fill left shift and Signed right shift)\n",
    "\n",
    "x = 9  # biner nya 0b1001\n",
    "\n",
    "print(x << 1)\n",
    "print(bin(x << 1))\n",
    "# hasilnya 18\n",
    "# biner nya 0b10010\n",
    "\n",
    "print(x >> 1)\n",
    "print(bin(x >> 1))\n",
    "# hasilnya 4\n",
    "# biner nya 0b100"
   ]
  },
  {
   "cell_type": "markdown",
   "id": "37bd1c27",
   "metadata": {},
   "source": [
    "# Contoh Semua Python Bitwise Operators\n",
    "Untuk nilai negatif, bit tanda diperluas dan digeser, dan tanda positif dan negatif tidak berubah. \n",
    "Nilai negatif dianggap memiliki 1 tak terbatas di sisi kiri."
   ]
  },
  {
   "cell_type": "code",
   "execution_count": 50,
   "id": "eb320498",
   "metadata": {},
   "outputs": [
    {
     "name": "stdout",
     "output_type": "stream",
     "text": [
      "-0b1001\n",
      "0b11110111\n",
      "-18\n",
      "-0b10010\n",
      "0b11101110\n",
      "-5\n",
      "-0b101\n",
      "0b11111011\n"
     ]
    }
   ],
   "source": [
    "x = -9\n",
    "print(bin(x))\n",
    "print(bin(x & 0xff))\n",
    "# -0b1001\n",
    "# 0b11110111\n",
    "\n",
    "print(x << 1)\n",
    "print(bin(x << 1))\n",
    "print(bin((x << 1) & 0xff))\n",
    "# -18\n",
    "# -0b10010\n",
    "# 0b11101110\n",
    "\n",
    "print(x >> 1)\n",
    "print(bin(x >> 1))\n",
    "print(bin((x >> 1) & 0xff))\n",
    "# -5\n",
    "# -0b101\n",
    "# 0b11111011"
   ]
  },
  {
   "cell_type": "code",
   "execution_count": null,
   "id": "2e9b1fe3",
   "metadata": {},
   "outputs": [],
   "source": []
  }
 ],
 "metadata": {
  "kernelspec": {
   "display_name": "Python 3",
   "language": "python",
   "name": "python3"
  },
  "language_info": {
   "codemirror_mode": {
    "name": "ipython",
    "version": 3
   },
   "file_extension": ".py",
   "mimetype": "text/x-python",
   "name": "python",
   "nbconvert_exporter": "python",
   "pygments_lexer": "ipython3",
   "version": "3.8.8"
  }
 },
 "nbformat": 4,
 "nbformat_minor": 5
}
