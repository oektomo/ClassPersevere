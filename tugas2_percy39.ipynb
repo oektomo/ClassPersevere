{
 "cells": [
  {
   "cell_type": "markdown",
   "id": "80700b70",
   "metadata": {},
   "source": [
    "# Python Operators & Control Flow\n",
    "Daulat Rais Sejati. Institut Teknologi Indonesia, Teknik Informatika"
   ]
  },
  {
   "cell_type": "markdown",
   "id": "27b887c7",
   "metadata": {},
   "source": [
    "## Python Operators\n",
    "Operator digunakan untuk melakukan suatu operasi pada variable dan juga nilainya."
   ]
  },
  {
   "cell_type": "markdown",
   "id": "4e689b60",
   "metadata": {},
   "source": [
    "### Python Aritmetic Operators\n",
    "Operasi aritmatematika digunakan pada nilai numerik untuk melakukan operasi perhitungan biasa"
   ]
  },
  {
   "cell_type": "code",
   "execution_count": 2,
   "id": "63cad795",
   "metadata": {},
   "outputs": [
    {
     "name": "stdout",
     "output_type": "stream",
     "text": [
      "69\n"
     ]
    }
   ],
   "source": [
    "# penjumlahan\n",
    "x = 23\n",
    "y = 46\n",
    "print(x + y)"
   ]
  },
  {
   "cell_type": "code",
   "execution_count": 3,
   "id": "70b094af",
   "metadata": {},
   "outputs": [
    {
     "name": "stdout",
     "output_type": "stream",
     "text": [
      "19\n"
     ]
    }
   ],
   "source": [
    "# pengurangan\n",
    "x = 21\n",
    "y = 2\n",
    "print(x - y)"
   ]
  },
  {
   "cell_type": "code",
   "execution_count": 4,
   "id": "7808f8a7",
   "metadata": {},
   "outputs": [
    {
     "name": "stdout",
     "output_type": "stream",
     "text": [
      "80\n"
     ]
    }
   ],
   "source": [
    "# perkalian\n",
    "x = 4\n",
    "y = 20\n",
    "print(x * y)"
   ]
  },
  {
   "cell_type": "code",
   "execution_count": 6,
   "id": "7d02f569",
   "metadata": {},
   "outputs": [
    {
     "name": "stdout",
     "output_type": "stream",
     "text": [
      "2.0\n"
     ]
    }
   ],
   "source": [
    "# pembagian\n",
    "x = 20\n",
    "y = 10\n",
    "print(x / y) # float merupakan tipe data default untuk pembagian"
   ]
  },
  {
   "cell_type": "code",
   "execution_count": 8,
   "id": "845d4ce9",
   "metadata": {},
   "outputs": [
    {
     "name": "stdout",
     "output_type": "stream",
     "text": [
      "0\n"
     ]
    }
   ],
   "source": [
    "# modulus\n",
    "x = 8\n",
    "y = 2\n",
    "print(x % y) # modulus merupakan sisa hasil bagi"
   ]
  },
  {
   "cell_type": "code",
   "execution_count": 9,
   "id": "a6badd64",
   "metadata": {},
   "outputs": [
    {
     "name": "stdout",
     "output_type": "stream",
     "text": [
      "64\n"
     ]
    }
   ],
   "source": [
    "# pangkat\n",
    "x = 8\n",
    "y = 2\n",
    "print(x ** y)"
   ]
  },
  {
   "cell_type": "code",
   "execution_count": 12,
   "id": "d930e7cf",
   "metadata": {},
   "outputs": [
    {
     "name": "stdout",
     "output_type": "stream",
     "text": [
      "14.0\n"
     ]
    }
   ],
   "source": [
    "# pembagian dibulatkan kebawah\n",
    "x = 29.8\n",
    "y = 2\n",
    "print(x // y)"
   ]
  },
  {
   "cell_type": "markdown",
   "id": "a2e56faa",
   "metadata": {},
   "source": [
    "### Python Assigment Operators\n",
    "Assigment operator digunakan untuk menetapkan nilai pada sebuah variable"
   ]
  },
  {
   "cell_type": "code",
   "execution_count": 14,
   "id": "c27a303f",
   "metadata": {},
   "outputs": [
    {
     "name": "stdout",
     "output_type": "stream",
     "text": [
      "5\n"
     ]
    }
   ],
   "source": [
    "# =\n",
    "x = 5\n",
    "print(x)"
   ]
  },
  {
   "cell_type": "code",
   "execution_count": 15,
   "id": "af3e436d",
   "metadata": {},
   "outputs": [
    {
     "name": "stdout",
     "output_type": "stream",
     "text": [
      "9\n"
     ]
    }
   ],
   "source": [
    "# +=\n",
    "x = 7\n",
    "x += 2 # sama dengan x = x + 2\n",
    "print(x)"
   ]
  },
  {
   "cell_type": "code",
   "execution_count": 18,
   "id": "023510bc",
   "metadata": {},
   "outputs": [
    {
     "name": "stdout",
     "output_type": "stream",
     "text": [
      "-4\n"
     ]
    }
   ],
   "source": [
    "# -=\n",
    "x = 4\n",
    "x -= 8\n",
    "print(x)"
   ]
  },
  {
   "cell_type": "code",
   "execution_count": 17,
   "id": "0a358296",
   "metadata": {},
   "outputs": [
    {
     "name": "stdout",
     "output_type": "stream",
     "text": [
      "56\n"
     ]
    }
   ],
   "source": [
    "# *\n",
    "x = 7\n",
    "x *= 8\n",
    "print(x)"
   ]
  },
  {
   "cell_type": "code",
   "execution_count": 19,
   "id": "fe66e3b6",
   "metadata": {},
   "outputs": [
    {
     "name": "stdout",
     "output_type": "stream",
     "text": [
      "3.0\n"
     ]
    }
   ],
   "source": [
    "# /=\n",
    "x = 9\n",
    "x /= 3\n",
    "print(x)"
   ]
  },
  {
   "cell_type": "code",
   "execution_count": 20,
   "id": "5b06cccb",
   "metadata": {},
   "outputs": [
    {
     "name": "stdout",
     "output_type": "stream",
     "text": [
      "1\n"
     ]
    }
   ],
   "source": [
    "# %=\n",
    "x = 7\n",
    "x %= 2\n",
    "print(x)"
   ]
  },
  {
   "cell_type": "code",
   "execution_count": 21,
   "id": "d8c4200e",
   "metadata": {},
   "outputs": [
    {
     "name": "stdout",
     "output_type": "stream",
     "text": [
      "52.0\n"
     ]
    }
   ],
   "source": [
    "# //=\n",
    "x = 105.8\n",
    "x //= 2\n",
    "print(x)"
   ]
  },
  {
   "cell_type": "code",
   "execution_count": 22,
   "id": "627f34c1",
   "metadata": {},
   "outputs": [
    {
     "name": "stdout",
     "output_type": "stream",
     "text": [
      "64\n"
     ]
    }
   ],
   "source": [
    "# **=\n",
    "x = 4\n",
    "x **= 3\n",
    "print(x)"
   ]
  },
  {
   "cell_type": "code",
   "execution_count": 37,
   "id": "085765dd",
   "metadata": {},
   "outputs": [
    {
     "name": "stdout",
     "output_type": "stream",
     "text": [
      "4\n"
     ]
    }
   ],
   "source": [
    "# &=\n",
    "x = 5 # 5 = 0101\n",
    "x &= 6 # 6 = 0110\n",
    "print(x) # 0101 AND 0110 = 0100\n",
    "# 0100 = 4"
   ]
  },
  {
   "cell_type": "code",
   "execution_count": 38,
   "id": "179ec39d",
   "metadata": {},
   "outputs": [
    {
     "name": "stdout",
     "output_type": "stream",
     "text": [
      "7\n"
     ]
    }
   ],
   "source": [
    "# |=\n",
    "x = 7\n",
    "x |= 3\n",
    "print(x)"
   ]
  },
  {
   "cell_type": "code",
   "execution_count": 39,
   "id": "eef2aa72",
   "metadata": {},
   "outputs": [
    {
     "name": "stdout",
     "output_type": "stream",
     "text": [
      "5\n"
     ]
    }
   ],
   "source": [
    "# ^=\n",
    "x = 6\n",
    "x ^= 3\n",
    "print(x)"
   ]
  },
  {
   "cell_type": "code",
   "execution_count": 40,
   "id": "1f3f70fd",
   "metadata": {},
   "outputs": [
    {
     "name": "stdout",
     "output_type": "stream",
     "text": [
      "1\n"
     ]
    }
   ],
   "source": [
    "# >>= (menggeser angka biner)\n",
    "x = 7 # 7 = 0111\n",
    "x >>= 2 # digeser 2 angka ke kanan menjadi 01\n",
    "print(x)"
   ]
  },
  {
   "cell_type": "code",
   "execution_count": 41,
   "id": "f2e2ef68",
   "metadata": {},
   "outputs": [
    {
     "name": "stdout",
     "output_type": "stream",
     "text": [
      "8\n"
     ]
    }
   ],
   "source": [
    "# <<=\n",
    "x = 1 # 1 = 01\n",
    "x <<= 3 # digeser 3 angka ke kiri menjadi 01000\n",
    "print(x)"
   ]
  },
  {
   "cell_type": "markdown",
   "id": "1e2dfeff",
   "metadata": {},
   "source": [
    "### Python Comparison Operators\n",
    "Digunakan untuk membandingkan 2 nilai"
   ]
  },
  {
   "cell_type": "code",
   "execution_count": 47,
   "id": "97594076",
   "metadata": {},
   "outputs": [
    {
     "name": "stdout",
     "output_type": "stream",
     "text": [
      "False\n"
     ]
    }
   ],
   "source": [
    "# == (sama dengan)\n",
    "x = 2\n",
    "y = 4\n",
    "print(x == y) # False karena x tidak sama dengan y"
   ]
  },
  {
   "cell_type": "code",
   "execution_count": 48,
   "id": "828c29bc",
   "metadata": {},
   "outputs": [
    {
     "name": "stdout",
     "output_type": "stream",
     "text": [
      "True\n"
     ]
    }
   ],
   "source": [
    "# != (tidak sama dengan)\n",
    "x = 2\n",
    "y = 4\n",
    "print(x != y) # True karena x tidak sama dengan y"
   ]
  },
  {
   "cell_type": "code",
   "execution_count": 51,
   "id": "4d890b98",
   "metadata": {},
   "outputs": [
    {
     "name": "stdout",
     "output_type": "stream",
     "text": [
      "True\n"
     ]
    }
   ],
   "source": [
    "# > (lebih besar)\n",
    "x = 5\n",
    "y = 3\n",
    "print(x > y) # True karena x lebih besar daripada y"
   ]
  },
  {
   "cell_type": "code",
   "execution_count": 52,
   "id": "0a9f0650",
   "metadata": {},
   "outputs": [
    {
     "name": "stdout",
     "output_type": "stream",
     "text": [
      "False\n"
     ]
    }
   ],
   "source": [
    "# > (lebih besar)\n",
    "x = 5\n",
    "y = 3\n",
    "print(x < y) # False karena x tidak lebih besar daripada y"
   ]
  },
  {
   "cell_type": "code",
   "execution_count": 54,
   "id": "c1ae8456",
   "metadata": {},
   "outputs": [
    {
     "name": "stdout",
     "output_type": "stream",
     "text": [
      "True\n"
     ]
    }
   ],
   "source": [
    "# >= (lebih besar sama dengan)\n",
    "x = 5\n",
    "y = 5\n",
    "print(x >= y)"
   ]
  },
  {
   "cell_type": "code",
   "execution_count": 55,
   "id": "4be386ae",
   "metadata": {},
   "outputs": [
    {
     "name": "stdout",
     "output_type": "stream",
     "text": [
      "True\n"
     ]
    }
   ],
   "source": [
    "# >= (lebih besar sama dengan)\n",
    "x = 5\n",
    "y = 5\n",
    "print(x <= y)"
   ]
  },
  {
   "cell_type": "markdown",
   "id": "498f3317",
   "metadata": {},
   "source": [
    "### Python Logical Operators\n",
    "Digunakan untuk menggabungkan pernyataan kondisi"
   ]
  },
  {
   "cell_type": "code",
   "execution_count": 56,
   "id": "743548d5",
   "metadata": {},
   "outputs": [
    {
     "name": "stdout",
     "output_type": "stream",
     "text": [
      "True\n"
     ]
    }
   ],
   "source": [
    "# and\n",
    "x = 8\n",
    "print(x < 10 and x > 4)"
   ]
  },
  {
   "cell_type": "code",
   "execution_count": 58,
   "id": "edb80799",
   "metadata": {},
   "outputs": [
    {
     "name": "stdout",
     "output_type": "stream",
     "text": [
      "True\n"
     ]
    }
   ],
   "source": [
    "# or\n",
    "x = 4\n",
    "print (x < 10 or x > 4)"
   ]
  },
  {
   "cell_type": "code",
   "execution_count": 59,
   "id": "4d6e7f9c",
   "metadata": {},
   "outputs": [
    {
     "name": "stdout",
     "output_type": "stream",
     "text": [
      "False\n"
     ]
    }
   ],
   "source": [
    "# not\n",
    "x = 4\n",
    "print (not(x < 10 or x > 4)) "
   ]
  },
  {
   "cell_type": "markdown",
   "id": "1be6588a",
   "metadata": {},
   "source": [
    "### Python Membership Operators\n",
    "Digunakan untuk menguji apakah sebuah urutan terdapat didalam suatu objek"
   ]
  },
  {
   "cell_type": "code",
   "execution_count": 61,
   "id": "d9e3bb1b",
   "metadata": {},
   "outputs": [
    {
     "name": "stdout",
     "output_type": "stream",
     "text": [
      "True\n"
     ]
    }
   ],
   "source": [
    "# in\n",
    "aimastery = ['git dan github', 'python', 'ai']\n",
    "print('ai' in aimastery) # True karena sebuah sequence yang bernama 'ai' ada di dalam list"
   ]
  },
  {
   "cell_type": "code",
   "execution_count": 63,
   "id": "5bf4aed9",
   "metadata": {},
   "outputs": [
    {
     "name": "stdout",
     "output_type": "stream",
     "text": [
      "False\n"
     ]
    }
   ],
   "source": [
    "# not in\n",
    "aimastery = ['git dan github', 'python', 'ai']\n",
    "print('ai' not in aimastery) # False karena sebuah sequence yang bernama 'ai' ada di dalam list"
   ]
  },
  {
   "cell_type": "markdown",
   "id": "72c6f727",
   "metadata": {},
   "source": [
    "## Python Control Flow"
   ]
  },
  {
   "cell_type": "markdown",
   "id": "49f82a0a",
   "metadata": {},
   "source": [
    "### If... Else\n",
    "digunakan untuk menjalankan perintah jika suatu kondisi terpenuhi atau bernilai 'True'. Contoh :"
   ]
  },
  {
   "cell_type": "code",
   "execution_count": 69,
   "id": "2e5c63c9",
   "metadata": {
    "scrolled": true
   },
   "outputs": [
    {
     "name": "stdout",
     "output_type": "stream",
     "text": [
      "banjir\n"
     ]
    }
   ],
   "source": [
    "a = \"buang sampah sembarangan\"\n",
    "b = \"hujan lebat\"\n",
    "if a == \"buang sampah sembarangan\" and b == \"hujan lebat\":\n",
    "    print(\"banjir\")\n",
    "# jika kondisi yang ditulis pada 'if' bernilai True, maka perintah yang ada di dalam 'if' akan dijalankan"
   ]
  },
  {
   "cell_type": "markdown",
   "id": "62fe4285",
   "metadata": {},
   "source": [
    "### Elif\n",
    "'elif' digunakan pada saat kondisi sebelumnya bernilai 'False'"
   ]
  },
  {
   "cell_type": "code",
   "execution_count": 73,
   "id": "eb933ea1",
   "metadata": {},
   "outputs": [
    {
     "name": "stdout",
     "output_type": "stream",
     "text": [
      "x lebih besar dari y\n"
     ]
    }
   ],
   "source": [
    "x = 100\n",
    "y = 50\n",
    "if x < y:\n",
    "    print(\"x lebih kecil dari y\")\n",
    "elif x > y:\n",
    "    print(\"x lebih besar dari y\")\n",
    "# karena kondisi sebelumnya tidak terpenuhi atau 'False' maka python akan menjalankan kondisi selanjutnya (elif)"
   ]
  },
  {
   "cell_type": "markdown",
   "id": "62bf3de8",
   "metadata": {},
   "source": [
    "### Else\n",
    "'else' akan dijalankan oleh Python, jika semua kondisi yang sudah dijalankan sebelumnya bernilai 'False'"
   ]
  },
  {
   "cell_type": "code",
   "execution_count": 76,
   "id": "12f5089b",
   "metadata": {},
   "outputs": [
    {
     "name": "stdout",
     "output_type": "stream",
     "text": [
      "x sama dengan y\n"
     ]
    }
   ],
   "source": [
    "x = 100\n",
    "y = 100\n",
    "if x < y:\n",
    "    print(\"x lebih kecil dari y\")\n",
    "elif x > y:\n",
    "    print(\"x lebih besar dari y\")\n",
    "else:\n",
    "    print(\"x sama dengan y\")\n",
    "# 2 kondisi sebelum else tidak ada yang terpenuhi"
   ]
  },
  {
   "cell_type": "markdown",
   "id": "ec20fe4d",
   "metadata": {},
   "source": [
    "### Nested if\n",
    "merupakan penggunaan 'if' didalam 'if'"
   ]
  },
  {
   "cell_type": "code",
   "execution_count": 83,
   "id": "30ce4282",
   "metadata": {},
   "outputs": [
    {
     "name": "stdout",
     "output_type": "stream",
     "text": [
      "nilai x diatas 10\n",
      "nilai x diatas 30\n",
      "nilai x tidak diatas 50\n"
     ]
    }
   ],
   "source": [
    "x = 49\n",
    "if x > 10:\n",
    "    print(\"nilai x diatas 10\")\n",
    "    if x > 30:\n",
    "        print(\"nilai x diatas 30\")\n",
    "        if x > 50:\n",
    "            print(\"nilai x diatas 50\")\n",
    "        else:\n",
    "            print(\"nilai x tidak diatas 50\")\n",
    "    else:\n",
    "        print(\"nilai x tidak diatas 30\")\n",
    "else:\n",
    "    print(\"nilai x tidak diatas 10\")"
   ]
  },
  {
   "cell_type": "markdown",
   "id": "a970ac25",
   "metadata": {},
   "source": [
    "### The pass Statement\n",
    "'if' statement boleh kosong. tapi jika karena suatu alasan 'if' tidak mempunyai konten, maka gunakan 'pass' statement agar tidak terjadi error"
   ]
  },
  {
   "cell_type": "code",
   "execution_count": 85,
   "id": "18e03148",
   "metadata": {},
   "outputs": [],
   "source": [
    "a = 55\n",
    "b = 200\n",
    "if b > a:\n",
    "  pass"
   ]
  },
  {
   "cell_type": "markdown",
   "id": "7a519723",
   "metadata": {},
   "source": [
    "## While Loops\n",
    "Dengan menggunakan perulangan 'while', perintah akan terus dijalankan selama kondisi yang ditulis pada 'while' bernilai 'True. Contoh :"
   ]
  },
  {
   "cell_type": "code",
   "execution_count": 87,
   "id": "62da9823",
   "metadata": {},
   "outputs": [
    {
     "name": "stdout",
     "output_type": "stream",
     "text": [
      "1\n",
      "2\n",
      "3\n",
      "4\n",
      "5\n",
      "6\n",
      "7\n",
      "8\n",
      "9\n",
      "10\n"
     ]
    }
   ],
   "source": [
    "i = 1\n",
    "while i < 11:\n",
    "    print(i)\n",
    "    i += 1\n",
    "# jika 'i' tidak di increment, maka program tidak akan berhenti melakukan perintah 'print(i)' karena kondisinya selalu bernilai 'True'"
   ]
  },
  {
   "cell_type": "markdown",
   "id": "8da75665",
   "metadata": {},
   "source": [
    "### The break Statement\n",
    "'break' digunakan untuk menghentikan perulangan, bahkan jika kondisinya bernilai 'True'"
   ]
  },
  {
   "cell_type": "code",
   "execution_count": 91,
   "id": "85a7ca6d",
   "metadata": {},
   "outputs": [
    {
     "name": "stdout",
     "output_type": "stream",
     "text": [
      "1\n",
      "2\n",
      "3\n",
      "4\n",
      "5\n"
     ]
    }
   ],
   "source": [
    "i = 1\n",
    "while i < 11:\n",
    "    print(i)\n",
    "    i += 1\n",
    "    if i == 6:\n",
    "        break"
   ]
  },
  {
   "cell_type": "markdown",
   "id": "db0ad0b9",
   "metadata": {},
   "source": [
    "### The continue Statement\n",
    "'continue' digunakan untuk menghentikan perulangan iterasi yang sedang berjalan, lalu melanjutkan ke iterasi selanjutnya."
   ]
  },
  {
   "cell_type": "code",
   "execution_count": 95,
   "id": "d8705a0d",
   "metadata": {},
   "outputs": [
    {
     "name": "stdout",
     "output_type": "stream",
     "text": [
      "2\n",
      "3\n",
      "4\n",
      "5\n",
      "7\n",
      "8\n",
      "9\n",
      "10\n",
      "11\n"
     ]
    }
   ],
   "source": [
    "i = 1\n",
    "while i < 11:\n",
    "    i += 1\n",
    "    if i == 6: # perulangan akan berhenti pada i = 6, lalu program akan melanjutkan iterasi berikutnya\n",
    "        continue\n",
    "    print(i)"
   ]
  },
  {
   "cell_type": "markdown",
   "id": "d61441c7",
   "metadata": {},
   "source": [
    "### The else Statement"
   ]
  },
  {
   "cell_type": "code",
   "execution_count": 98,
   "id": "ef97c3cd",
   "metadata": {},
   "outputs": [
    {
     "name": "stdout",
     "output_type": "stream",
     "text": [
      "1\n",
      "2\n",
      "3\n",
      "4\n",
      "5\n",
      "6\n",
      "7\n",
      "8\n",
      "9\n",
      "10\n",
      "i tidak sudah tidak lebih besar dari 11\n"
     ]
    }
   ],
   "source": [
    "i = 1\n",
    "while i < 11:\n",
    "    print(i)\n",
    "    i += 1\n",
    "else:\n",
    "    print(\"i tidak sudah tidak lebih besar dari 11\")\n",
    "# program akan menjalankan perintah lain jika kondisi 'while' bernilai 'False'"
   ]
  },
  {
   "cell_type": "markdown",
   "id": "117b34a0",
   "metadata": {},
   "source": [
    "## Python For Loops\n",
    "Perulangan 'for' digunakan untuk melakukan pengulangan pada sebuah sequence. 'for' dapat digunakan untuk mengeksekusi perintah satu kali pada setiap item list, tuple, set, dictionary, string dan tipe data lainnya. Contoh :"
   ]
  },
  {
   "cell_type": "code",
   "execution_count": 103,
   "id": "a8f080f6",
   "metadata": {},
   "outputs": [
    {
     "name": "stdout",
     "output_type": "stream",
     "text": [
      "ai mastery\n",
      "ai gen z\n"
     ]
    }
   ],
   "source": [
    "# melakukan perintah print pada setiap item list \n",
    "orbitacademyorbitacademy = ['ai mastery', 'ai gen z']\n",
    "for i in orbitacademy:\n",
    "    print(i)"
   ]
  },
  {
   "cell_type": "code",
   "execution_count": 102,
   "id": "a6b7ef55",
   "metadata": {},
   "outputs": [
    {
     "name": "stdout",
     "output_type": "stream",
     "text": [
      "a\n",
      "i\n",
      " \n",
      "m\n",
      "a\n",
      "s\n",
      "t\n",
      "e\n",
      "r\n",
      "y\n"
     ]
    }
   ],
   "source": [
    "# melakukan perulangan melalui karakter pada kata 'aimastery'\n",
    "for i in 'ai mastery':\n",
    "    print(i)"
   ]
  },
  {
   "cell_type": "markdown",
   "id": "e36a45ca",
   "metadata": {},
   "source": [
    "### The break Statement"
   ]
  },
  {
   "cell_type": "code",
   "execution_count": 104,
   "id": "730ef895",
   "metadata": {},
   "outputs": [
    {
     "name": "stdout",
     "output_type": "stream",
     "text": [
      "ai mastery\n",
      "ai gen z\n"
     ]
    }
   ],
   "source": [
    "orbitacademyorbitacademy = ['ai mastery', 'ai gen z', 'ai gen y']\n",
    "for i in orbitacademy:\n",
    "    print(i)\n",
    "    if i == 'ai gen z':\n",
    "        break"
   ]
  },
  {
   "cell_type": "code",
   "execution_count": 105,
   "id": "616804f5",
   "metadata": {},
   "outputs": [
    {
     "name": "stdout",
     "output_type": "stream",
     "text": [
      "ai mastery\n"
     ]
    }
   ],
   "source": [
    "orbitacademyorbitacademy = ['ai mastery', 'ai gen z', 'ai gen y']\n",
    "for i in orbitacademy:\n",
    "    if i == 'ai gen z':\n",
    "        break\n",
    "    print(i)"
   ]
  },
  {
   "cell_type": "markdown",
   "id": "55fc18e4",
   "metadata": {},
   "source": [
    "### The continue Statement"
   ]
  },
  {
   "cell_type": "code",
   "execution_count": null,
   "id": "130fd118",
   "metadata": {},
   "outputs": [],
   "source": [
    "orbitacademyorbitacademy = ['ai mastery', 'ai gen z', 'ai gen y']\n",
    "for i in orbitacademy:\n",
    "    if i == 'ai gen z':\n",
    "        continue\n",
    "    print(i)"
   ]
  },
  {
   "cell_type": "markdown",
   "id": "48d06a46",
   "metadata": {},
   "source": [
    "### The range() Function\n",
    "Melakukan perulangan sebanyak jumlah yang sudah ditentukan."
   ]
  },
  {
   "cell_type": "code",
   "execution_count": 113,
   "id": "21de2815",
   "metadata": {},
   "outputs": [
    {
     "name": "stdout",
     "output_type": "stream",
     "text": [
      "0\n",
      "1\n",
      "2\n",
      "3\n",
      "4\n"
     ]
    }
   ],
   "source": [
    "for i in range(5): # default perulangan 'range' dimulai dari 0\n",
    "    print(i)"
   ]
  },
  {
   "cell_type": "code",
   "execution_count": 115,
   "id": "dedc6398",
   "metadata": {},
   "outputs": [
    {
     "name": "stdout",
     "output_type": "stream",
     "text": [
      "2\n",
      "3\n",
      "4\n",
      "5\n"
     ]
    }
   ],
   "source": [
    "for i in range(2, 6): # menetapkan nilai awal perulangan dipisahkan dengan koma\n",
    "    print(i)"
   ]
  },
  {
   "cell_type": "code",
   "execution_count": 118,
   "id": "3652e23c",
   "metadata": {},
   "outputs": [
    {
     "name": "stdout",
     "output_type": "stream",
     "text": [
      "2\n",
      "4\n",
      "6\n",
      "8\n",
      "10\n",
      "12\n",
      "14\n",
      "16\n",
      "18\n"
     ]
    }
   ],
   "source": [
    "for i in range (2, 20, 2): # menetapkan increment pada akhir didalam nilai range, dipisahkan dengan koma\n",
    "    print(i)"
   ]
  },
  {
   "cell_type": "markdown",
   "id": "cedfa89e",
   "metadata": {},
   "source": [
    "### Else di Dalam for Loop"
   ]
  },
  {
   "cell_type": "code",
   "execution_count": 121,
   "id": "3c080919",
   "metadata": {},
   "outputs": [
    {
     "name": "stdout",
     "output_type": "stream",
     "text": [
      "1\n",
      "2\n",
      "3\n",
      "4\n",
      "5\n",
      "Perulangan selesai!\n"
     ]
    }
   ],
   "source": [
    "for i in range (1, 6):\n",
    "    print(i)\n",
    "else:\n",
    "    print(\"Perulangan selesai!\")\n",
    "# catatan: 'else' tidak akan dijalankan jika perulangan dihentikan menggunakan 'break'"
   ]
  },
  {
   "cell_type": "code",
   "execution_count": 123,
   "id": "08e14023",
   "metadata": {},
   "outputs": [
    {
     "name": "stdout",
     "output_type": "stream",
     "text": [
      "0\n",
      "1\n",
      "2\n"
     ]
    }
   ],
   "source": [
    "for i in range(6):\n",
    "    if i == 3:\n",
    "        break\n",
    "    print(i)\n",
    "else:\n",
    "    print(\"Perulangan selesai!\")"
   ]
  },
  {
   "cell_type": "markdown",
   "id": "ebac1b06",
   "metadata": {},
   "source": [
    "### Nested Loops\n",
    "Merupakan loop didalam loop"
   ]
  },
  {
   "cell_type": "code",
   "execution_count": 134,
   "id": "41f053ef",
   "metadata": {},
   "outputs": [
    {
     "name": "stdout",
     "output_type": "stream",
     "text": [
      "mewah bmw\n",
      "mewah porsche\n",
      "mewah lamborghini\n",
      "terkenal bmw\n",
      "terkenal porsche\n",
      "terkenal lamborghini\n",
      "kencang bmw\n",
      "kencang porsche\n",
      "kencang lamborghini\n"
     ]
    }
   ],
   "source": [
    "adj = [\"mewah\", \"terkenal\", \"kencang\"]\n",
    "mobil = [\"bmw\", \"porsche\", \"lamborghini\"]\n",
    "\n",
    "for i in adj:\n",
    "    for j in mobil:\n",
    "        print(i, j)\n"
   ]
  },
  {
   "cell_type": "markdown",
   "id": "e4800cae",
   "metadata": {},
   "source": [
    "### The pass Statement\n",
    "loop tidak boleh kosong. tapi jika karena suatu alasan loop tidak mempunyai konten, maka gunakan 'pass' agar tidak terjadi error"
   ]
  },
  {
   "cell_type": "code",
   "execution_count": 136,
   "id": "57709296",
   "metadata": {},
   "outputs": [],
   "source": [
    "for x in [0, 1, 2]:\n",
    "    pass"
   ]
  }
 ],
 "metadata": {
  "kernelspec": {
   "display_name": "Python 3 (ipykernel)",
   "language": "python",
   "name": "python3"
  },
  "language_info": {
   "codemirror_mode": {
    "name": "ipython",
    "version": 3
   },
   "file_extension": ".py",
   "mimetype": "text/x-python",
   "name": "python",
   "nbconvert_exporter": "python",
   "pygments_lexer": "ipython3",
   "version": "3.9.7"
  }
 },
 "nbformat": 4,
 "nbformat_minor": 5
}
