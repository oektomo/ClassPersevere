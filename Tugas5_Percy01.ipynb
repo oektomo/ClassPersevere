{
  "nbformat": 4,
  "nbformat_minor": 0,
  "metadata": {
    "colab": {
      "name": "Tugas5_Percy01.ipynb",
      "provenance": []
    },
    "kernelspec": {
      "name": "python3",
      "display_name": "Python 3"
    },
    "language_info": {
      "name": "python"
    }
  },
  "cells": [
    {
      "cell_type": "markdown",
      "source": [
        "# **Eka Novita Sari (Percy01)**"
      ],
      "metadata": {
        "id": "H6Wax9abWh2c"
      }
    },
    {
      "cell_type": "markdown",
      "source": [
        "## **Python OOP**"
      ],
      "metadata": {
        "id": "70aI-qabWrAk"
      }
    },
    {
      "cell_type": "markdown",
      "source": [
        "### **1. Apa itu OOP dan cobalah buat 2 implementasi konsep OOP menggunakan python!**\n",
        "\n",
        "OOP atau object oriented programming diartikan sebagai pemrograman yang berorientasi pada objek yang merupakan model pemrograman komputer dengan pengaturan desain perangkat lunak di sekitar data atau objek.\n"
      ],
      "metadata": {
        "id": "VEGRoSlCW9cJ"
      }
    },
    {
      "cell_type": "code",
      "source": [
        "# 1.1 Implementasi OOP menggunakan python\n",
        "\n",
        "class Segitiga:\n",
        "  def __init__(self, alas, tinggi):\n",
        "    self.alas = alas\n",
        "    self.tinggi = tinggi\n",
        "\n",
        "  def get_luas(self):\n",
        "    return 0.5 * self.alas * self.tinggi\n",
        "\n",
        "segitiga1 = Segitiga(5, 10)\n",
        "segitiga2 = Segitiga(10, 10)\n",
        "\n",
        "print('luas segitiga1:', segitiga1.get_luas())\n",
        "print('luas segitiga2:', segitiga2.get_luas())   "
      ],
      "metadata": {
        "colab": {
          "base_uri": "https://localhost:8080/"
        },
        "id": "XIlHr6G2XnF-",
        "outputId": "5a53b6b2-bdfc-43e7-cf67-a55fae1b658e"
      },
      "execution_count": 12,
      "outputs": [
        {
          "output_type": "stream",
          "name": "stdout",
          "text": [
            "luas segitiga1: 25.0\n",
            "luas segitiga2: 50.0\n"
          ]
        }
      ]
    },
    {
      "cell_type": "code",
      "source": [
        "# 1.2 Implementasi OOP menggunakan python\n",
        "\n",
        "class Karyawan:\n",
        "    jumlah_karyawan = 0\n",
        "\n",
        "    def __init__(self, nama, gaji):\n",
        "        self.nama = nama\n",
        "        self.gaji = gaji\n",
        "        Karyawan.jumlah_karyawan += 1\n",
        "\n",
        "    def tampilkan_jumlah(self):\n",
        "        print(\"Total karyawan:\", Karyawan.jumlah_karyawan)\n",
        "\n",
        "    def tampilkan_profil(self):\n",
        "        print(\"Nama :\", self.nama)\n",
        "        print(\"Gaji :\", self.gaji)\n",
        "\n",
        "# Membuat objek pertama dari kelas Karyawan\n",
        "karyawan1 = Karyawan(\"Seffia\", 1000000)\n",
        "\n",
        "# Membuat objek kedua dari kelas Karyawan\n",
        "karyawan2 = Karyawan(\"Tama\", 2000000)\n",
        "\n",
        "karyawan1.tampilkan_profil()\n",
        "karyawan2.tampilkan_profil()\n",
        "print(\"Total karyawan :\", Karyawan.jumlah_karyawan)"
      ],
      "metadata": {
        "colab": {
          "base_uri": "https://localhost:8080/"
        },
        "id": "x6ybMlDIY6cY",
        "outputId": "515c5051-c50c-41b9-8316-e7e99faace52"
      },
      "execution_count": 13,
      "outputs": [
        {
          "output_type": "stream",
          "name": "stdout",
          "text": [
            "Nama : Seffia\n",
            "Gaji : 1000000\n",
            "Nama : Tama\n",
            "Gaji : 2000000\n",
            "Total karyawan : 2\n"
          ]
        }
      ]
    },
    {
      "cell_type": "markdown",
      "source": [
        "### **2. Sebutkan dan jelaskan 2 jenis modules yang ada di Python!**\n",
        "\n",
        "1. Modul numpy, berfungsi untuk operasi matematika matriks dan linear aljabar.\n",
        "2. Modul pandas, berfungsi untuk handling data dan membuat dataframe dari data dictionary atau matriks."
      ],
      "metadata": {
        "id": "7PXV4mFIY5XC"
      }
    },
    {
      "cell_type": "markdown",
      "source": [
        "### **3. Hitunglah berapa hasil dari √175 + 4√7 + (1/3) + ³log 81 menggunakan module math!**"
      ],
      "metadata": {
        "id": "Y9j-NjijZwx0"
      }
    },
    {
      "cell_type": "code",
      "source": [
        "import math as m\n",
        "\n",
        "hasil = m.sqrt(175) + (4*m.sqrt(7)) + (1/3) + m.log(81,3)\n",
        "print(hasil)"
      ],
      "metadata": {
        "colab": {
          "base_uri": "https://localhost:8080/"
        },
        "id": "qoL26Q3Ebr-N",
        "outputId": "ea7b22a1-4f19-405a-83bb-c051584a493f"
      },
      "execution_count": 14,
      "outputs": [
        {
          "output_type": "stream",
          "name": "stdout",
          "text": [
            "28.145095132914648\n"
          ]
        }
      ]
    },
    {
      "cell_type": "markdown",
      "source": [
        "### **4. Apa itu custom exception handling dan berikan 1 contoh implementasinya!**\n",
        "\n",
        "Exception handling merupakan mekanisme yang paling diperlukan dalam menangani error yang terjadi pada saat runtime atau yang lebih dikenal dengan sebutan runtime error."
      ],
      "metadata": {
        "id": "v7wKX1g1Z030"
      }
    },
    {
      "cell_type": "code",
      "source": [
        "#Contoh implementasinya\n",
        "try:\n",
        "  x = int(input(\"Masukkan value = \"))\n",
        "  y = 2\n",
        "except Exception as error:\n",
        "  print(error)\n",
        "print(\"Nilai y adalah\", y)"
      ],
      "metadata": {
        "colab": {
          "base_uri": "https://localhost:8080/"
        },
        "id": "ivQjKiO5efro",
        "outputId": "2af80165-b311-4f90-cd41-13d07fe841f5"
      },
      "execution_count": 15,
      "outputs": [
        {
          "output_type": "stream",
          "name": "stdout",
          "text": [
            "Masukkan value = kamu\n",
            "invalid literal for int() with base 10: 'kamu'\n",
            "Nilai y adalah 2\n"
          ]
        }
      ]
    },
    {
      "cell_type": "markdown",
      "source": [
        "## **Artificial Intelligence**"
      ],
      "metadata": {
        "id": "wk-G8It_Z5Zd"
      }
    },
    {
      "cell_type": "markdown",
      "source": [
        "### **1. Apa perbedaan dari structured dan unstructured data dan sebutkan 3 sumber data!**\n",
        "\n",
        "Structured data adalah jenis data yang dapat diproses, disimpan, dan diambil dalam format tetap. Jenis data ini disimpan dalam bentuk tabel, baris, dan kolom yang normalnya disimpan dalam excel atau spreadsheet, dimana infromasi pada data sangat terorganisir dan dapat dengan mudah diakses dari database dengan algoritma mesin pencari sederhana. Sedangkan unstructured data adalah data dengan bentuk yang tidak dikenal, harus disimpan dengan format khusus karena tidak memiliki struktur yang spesifik, raw data dari jenis data ini hanya dapat menghasilkan nilai setelah diproses dan dianalisis.\n",
        "\n",
        "Sumber data: data sensor, gaji, likes."
      ],
      "metadata": {
        "id": "a9ZqqszfZ8C8"
      }
    },
    {
      "cell_type": "markdown",
      "source": [
        "### **2. Jelaskan perbedaan AI, Machine Learning dan Deep Learning!**\n",
        "\n",
        "\n",
        "\n",
        "*   AI merupakan teknologi masa kini yang konsepnya membawa kepintaran manusia ke dalam mesin.\n",
        "*   Machine Learning merupakan metode pembelajaran AI yang memanfaatkan data untuk membuat prediksi layaknya manusia.\n",
        "*   Deep Learning memanfaatkan berbagai variabel kompleks dalam analisisnya sehingga mesin bisa memahami suatu pola atau kebiasaan yang timbul dari suatu kejadian.\n",
        "\n",
        "\n",
        "\n"
      ],
      "metadata": {
        "id": "VswLbODAZ-7V"
      }
    },
    {
      "cell_type": "markdown",
      "source": [
        "### **3. Apa perbedaan Machine Learning dengan Tradisional software?**\n",
        "\n",
        "Pada machine learning data dan output dibutuhkan untuk menghasilkan program. Sedangkan pada tradisional software komputer memerlukan data dan program untuk menghasilkan output."
      ],
      "metadata": {
        "id": "paS1_HcRaC0E"
      }
    },
    {
      "cell_type": "markdown",
      "source": [
        "### **4. Sebutkan 3 contoh aplikasi Machine Learning di sektor smart city dan agriculture!**\n",
        "\n",
        "**Aplikasi machine learning di sektor smart city**\n",
        "* CLM\n",
        "* Face recognition\n",
        "* E-Tilang\n",
        "\n",
        "**Aplikasi machine learning di sektor agriculture**\n",
        "* Pengelompokkan status pertahanan pangan suatu daerah tertentu\n",
        "* Mentransformasikan pertanian tradisional dengan kekuatan data\n",
        "* Optimalisasi lahan pertanian berbasis data geospasial"
      ],
      "metadata": {
        "id": "SUnGzcSJaF16"
      }
    },
    {
      "cell_type": "markdown",
      "source": [
        "## **Maths for AI**"
      ],
      "metadata": {
        "id": "dFq1djHEaIzs"
      }
    },
    {
      "cell_type": "markdown",
      "source": [
        "### **1. Mengapa ilmu matematika penting ketika mempelajari AI?**\n",
        "\n",
        "Karena dapat memodelkan AI agar dapat melaksanakan tugas tertentu."
      ],
      "metadata": {
        "id": "oXCZ7whVaLva"
      }
    },
    {
      "cell_type": "markdown",
      "source": [
        "### **2. Jelaskan perbedaan vektor dan skalar!**\n",
        "\n",
        "Vektor adalah besaran yang mempunyai nilai dan arah. Sedangkan skalar adalah besaran yang mempunyai nilai saja (tidak mempunyai arah)."
      ],
      "metadata": {
        "id": "JpV4yzXSaPrq"
      }
    },
    {
      "cell_type": "markdown",
      "source": [
        "### **3. Apa perbedaan dari Jarak Euclidean dan Manhattan?**\n",
        "\n",
        "Jarak euclidean digunakan untuk mengukur jarak dari dua buah titik dalam euclidean space (meliputi bidang euclidean dua dimensi, tiga dimensi, atau bahkan lebih). Sedangkan jarak manhattan digunakan untuk menghitung perbedaan absolut (mutlak) antara koordinat sepasang objek."
      ],
      "metadata": {
        "id": "MTLw0dTAaTOj"
      }
    },
    {
      "cell_type": "markdown",
      "source": [
        "### **4. Apa kegunaan matriks dalam ilmu matematika ketika menerapkan AI?**\n",
        "\n",
        "Kegunaannya yaitu dapat melakukan komputasi data pada AI, seperti data gambar dan data numerik, selain itu matriks juga termasuk kedalam kategori cepat dalam melakukan pengoperasian pada komputer."
      ],
      "metadata": {
        "id": "pVdQqYiWaWGy"
      }
    },
    {
      "cell_type": "markdown",
      "source": [
        "## **Machine Learning**"
      ],
      "metadata": {
        "id": "Fcs3BvnOaY36"
      }
    },
    {
      "cell_type": "markdown",
      "source": [
        "### **1. Jelaskan perbedaan supervised dan unsupervised learning dan sebutkan 2 contohnya!**\n",
        "\n",
        "Supervised learning adalah machine learning model yang membutuhkan data target. Contohnya:\n",
        "* Decision tree\n",
        "* Linear regression\n",
        "\n",
        "Sedangkan unsupervised learning tidak memerlukan data target. Contohnya:\n",
        "* K-Means clustering\n",
        "* Autoencoder"
      ],
      "metadata": {
        "id": "kpb3KRpxaf3a"
      }
    },
    {
      "cell_type": "markdown",
      "source": [
        "### **2. Sebutkan setiap tahap yang ada di Machine Learning life cycle dan jelaskan!**\n",
        "\n",
        "\n",
        "\n",
        "* Identitiy the data, mengidentifikasi masalah yang ingin dipecahkan dengan cara pendekatan logis dan matematis.\n",
        "* Prepare data, dalam pengumpulan data semakin banyak data yang disiapkan, semakin valid output yang dihasilkan oleh machine learning.\n",
        "* Select ML algoritm, memilih algoritma yang cocok untuk menangani problem yang muncul.\n",
        "* Split data, proses ini terjadi saat pembagian data agar memudahkan dalam proses selanjutnya, dengan data yang dibagi ini model ML mudah untuk diidentifikasi.\n",
        "* Train, digunakan untuk melatih tubuh ML dengan mengisikan data yang sudah diproses. Mesin dilatih agar dapat menentukan data yang masuk sesuai dengan klasifikasinya.\n",
        "* Evaluate, mengevaluasi kembali ML, apakah data yang dimasukkan sudah benar, apakah sudah sesuai dengan yang diajarkan. Proses ini menentukan keakuratan prediksi atau hasil dari ML yang dibuat.\n",
        "* Predict, dapat dikatakan proses semifinal sebelum proses ke tahap selanjutnya.\n",
        "* Deploy, merupakan proses akhir dalam membangun model ML, proses ini langsung menerapkan kepada masalah untuk melihat prediksi dari data yang ada.\n",
        "\n"
      ],
      "metadata": {
        "id": "9_jGTWWeaii8"
      }
    },
    {
      "cell_type": "markdown",
      "source": [
        "### **3. Apa perbedaan regression dengan clustering?**\n",
        "\n",
        "Regression adalah suatu teknik analisis untuk mengidentifikasi relasi atau hubungan diantara dua variabel atau lebih, regression bertujuan untuk menemukan suatu fungsi yang memodelkan data dengan meminimalkan error atau selisih antara nilai prediksi dengan nilai sebenarnya. Sedangkan clustering adalah sebuah kumpulan data atau objek yang memiliki kemiripan satu sama lain di dalam kumpulan atau kelompok tersebut, dan berbeda dengan objek kelompok lain."
      ],
      "metadata": {
        "id": "uGoHKmf0almJ"
      }
    },
    {
      "cell_type": "markdown",
      "source": [
        "### **4. Apa itu algoritma Artificial Neural Network dan untuk apa fungsinya?**\n",
        "\n",
        "Algoritma artificial neural network (ANN) merupakan algoritma yang bekerja seperti jaringan saraf otak manusia, dimana neuron saling terhubung satu dengan lainnya serta bekerja untuk memproses informasi. Fungsinya adalah menjadikan komputer memiliki kemampuan cognitif seperti otak manusia, memiliki kemampuan problem solving dan dapat melakukan proses pembelajaran."
      ],
      "metadata": {
        "id": "QpTR1Zfcaobx"
      }
    }
  ]
}