{
 "cells": [
  {
   "cell_type": "markdown",
   "id": "afa2ad98",
   "metadata": {},
   "source": [
    "# Tugas1_Percy39\n",
    "\n",
    "Oleh :\n",
    "Daulat Rais.\n",
    "Institut Teknologi Indonesia, Teknik Informatika"
   ]
  },
  {
   "cell_type": "code",
   "execution_count": 1,
   "id": "d30847a3",
   "metadata": {},
   "outputs": [
    {
     "name": "stdout",
     "output_type": "stream",
     "text": [
      "hello world\n"
     ]
    }
   ],
   "source": [
    "print(\"hello world\")"
   ]
  },
  {
   "cell_type": "markdown",
   "id": "335bd803",
   "metadata": {},
   "source": [
    "## Python Indentation\n",
    "mengarah pada spasi pada bagian awal baris kode. Indentation pada python sangat penting. Kesalahan pada indentation akan mengakibatkan error pada kode\n",
    "\n",
    "contoh :"
   ]
  },
  {
   "cell_type": "code",
   "execution_count": 1,
   "id": "51699f94",
   "metadata": {
    "scrolled": true
   },
   "outputs": [
    {
     "name": "stdout",
     "output_type": "stream",
     "text": [
      "5 lebih besar dari 2\n"
     ]
    }
   ],
   "source": [
    "if 5 > 2:\n",
    "    print(\"5 lebih besar dari 2\")"
   ]
  },
  {
   "cell_type": "markdown",
   "id": "7645835f",
   "metadata": {},
   "source": [
    "contoh indentation yang salah :"
   ]
  },
  {
   "cell_type": "code",
   "execution_count": 2,
   "id": "b78bb55b",
   "metadata": {},
   "outputs": [
    {
     "ename": "IndentationError",
     "evalue": "expected an indented block (Temp/ipykernel_3092/4271038266.py, line 2)",
     "output_type": "error",
     "traceback": [
      "\u001b[1;36m  File \u001b[1;32m\"C:\\Users\\bishie\\AppData\\Local\\Temp/ipykernel_3092/4271038266.py\"\u001b[1;36m, line \u001b[1;32m2\u001b[0m\n\u001b[1;33m    print(\"5 lebih besar dari 2\")\u001b[0m\n\u001b[1;37m    ^\u001b[0m\n\u001b[1;31mIndentationError\u001b[0m\u001b[1;31m:\u001b[0m expected an indented block\n"
     ]
    }
   ],
   "source": [
    "if 5 > 2:\n",
    "print(\"5 lebih besar dari 2\")"
   ]
  },
  {
   "cell_type": "markdown",
   "id": "c9f54626",
   "metadata": {},
   "source": [
    "## Python Comments\n",
    "- digunakan untuk menjelaskan baris kode\n",
    "- untuk membuat kode menjadi mudah dibaca\n",
    "- comments dapat mencegah kode dieksekusi saat melakukan testing\n",
    "\n",
    "comments (komentar) diawali dengan #"
   ]
  },
  {
   "cell_type": "code",
   "execution_count": 4,
   "id": "fee1f2d9",
   "metadata": {},
   "outputs": [],
   "source": [
    "# print(\"Hello World\")\n",
    "# kode diatas tidak akan menghasilkan output apa-apa"
   ]
  },
  {
   "cell_type": "markdown",
   "id": "c8d7049e",
   "metadata": {},
   "source": [
    "## Variables\n",
    "variable merupakan wadah untuk menyimpan nilai suatu data. Variable akan terbuat jika diberikan sebuah nilai. Dalam mendeklarasikan variable kita tidak perlu menyebutkan tipe data nya karena python sendiri akan otomatis mendeteksi tipe data dari variable tersebut. Kita juga dapat menentukan secara spesifik tipe data sebuah variable dengan cara casting"
   ]
  },
  {
   "cell_type": "code",
   "execution_count": 7,
   "id": "2367e98b",
   "metadata": {},
   "outputs": [
    {
     "name": "stdout",
     "output_type": "stream",
     "text": [
      "5\n",
      "John\n",
      "<class 'int'>\n",
      "<class 'str'>\n"
     ]
    }
   ],
   "source": [
    "x = 5\n",
    "y = \"John\"\n",
    "print(x)\n",
    "print(y)\n",
    "\n",
    "# type() berfungsi untuk mengambil tipe data variable\n",
    "print(type(x))\n",
    "print(type(y))"
   ]
  },
  {
   "cell_type": "code",
   "execution_count": 9,
   "id": "385042e8",
   "metadata": {},
   "outputs": [
    {
     "name": "stdout",
     "output_type": "stream",
     "text": [
      "<class 'str'>\n",
      "<class 'int'>\n"
     ]
    }
   ],
   "source": [
    "# casting\n",
    "x = str(3)\n",
    "y = int(3)\n",
    "print(type(x))\n",
    "print(type(y))"
   ]
  },
  {
   "cell_type": "markdown",
   "id": "b1f50d67",
   "metadata": {},
   "source": [
    "### Tipe Data String"
   ]
  },
  {
   "cell_type": "code",
   "execution_count": 1,
   "id": "747f3387",
   "metadata": {
    "scrolled": true
   },
   "outputs": [
    {
     "name": "stdout",
     "output_type": "stream",
     "text": [
      "Daulat Rais\n",
      "<class 'str'>\n"
     ]
    }
   ],
   "source": [
    "nama_saya = \"Daulat Rais\"\n",
    "\n",
    "# tampilkan nilai dari variable yang sudah dibuat\n",
    "print(nama_saya)\n",
    "\n",
    "# tampilkan tipe data dari variable yang sudah dibuat\n",
    "print(type(nama_saya))"
   ]
  },
  {
   "cell_type": "markdown",
   "id": "3197a42a",
   "metadata": {},
   "source": [
    "### Tipe Data Integer"
   ]
  },
  {
   "cell_type": "code",
   "execution_count": 3,
   "id": "ef611b6e",
   "metadata": {},
   "outputs": [
    {
     "name": "stdout",
     "output_type": "stream",
     "text": [
      "135\n",
      "<class 'int'>\n"
     ]
    }
   ],
   "source": [
    "jml_sks_diambil = 135\n",
    "\n",
    "# tampilkan nilai dari variable yang sudah dibuat\n",
    "print(jml_sks_diambil)\n",
    "\n",
    "# tampilkan tipe data dari variable yang sudah dibuat\n",
    "print(type(jml_sks_diambil))"
   ]
  },
  {
   "cell_type": "markdown",
   "id": "3581a779",
   "metadata": {},
   "source": [
    "### Tipe Data Float"
   ]
  },
  {
   "cell_type": "code",
   "execution_count": 4,
   "id": "c94f8df2",
   "metadata": {},
   "outputs": [
    {
     "name": "stdout",
     "output_type": "stream",
     "text": [
      "88.5\n",
      "<class 'float'>\n"
     ]
    }
   ],
   "source": [
    "nilai_matkul = 88.5\n",
    "\n",
    "# tampilkan nilai dari variable yang sudah dibuat\n",
    "print(nilai_matkul)\n",
    "\n",
    "# tampilkan tipe data dari variable yang sudah dibuat\n",
    "print(type(nilai_matkul))"
   ]
  },
  {
   "cell_type": "markdown",
   "id": "0f405ee5",
   "metadata": {},
   "source": [
    "### Tipe Data Complex"
   ]
  },
  {
   "cell_type": "code",
   "execution_count": 5,
   "id": "6a6431b1",
   "metadata": {},
   "outputs": [
    {
     "name": "stdout",
     "output_type": "stream",
     "text": [
      "(5+6j)\n",
      "<class 'complex'>\n"
     ]
    }
   ],
   "source": [
    "x = 5+6j\n",
    "\n",
    "# tampilkan nilai dari variable yang sudah dibuat\n",
    "print(x)\n",
    "\n",
    "# tampilkan tipe data dari variable yang sudah dibuat\n",
    "print(type(x))"
   ]
  },
  {
   "cell_type": "markdown",
   "id": "9989748d",
   "metadata": {},
   "source": [
    "### Variable Names\n",
    "- nama variable harus diawali dengan sebuah huruf atau underscore\n",
    "- nama variable tidak boleh diawali dengan sebuah angka\n",
    "- variable hanya boleh mengandung alpha-numeric karakter dan juga underscores\n",
    "- nama variable juga case-sensitive"
   ]
  },
  {
   "cell_type": "code",
   "execution_count": 10,
   "id": "f4a70040",
   "metadata": {},
   "outputs": [],
   "source": [
    "# Contoh nama variable yang diperbolehkan\n",
    "namasaya = \"Budi\"\n",
    "nama_saya = \"Budi\"\n",
    "_namasaya = \"Budi\"\n",
    "namasaya2 = \"Budi\"\n",
    "NAMASAYA = \"Budi\"\n",
    "namaSaya = \"Budi\""
   ]
  },
  {
   "cell_type": "code",
   "execution_count": 12,
   "id": "6cdb2872",
   "metadata": {},
   "outputs": [
    {
     "ename": "SyntaxError",
     "evalue": "invalid syntax (Temp/ipykernel_10072/1428063034.py, line 2)",
     "output_type": "error",
     "traceback": [
      "\u001b[1;36m  File \u001b[1;32m\"C:\\Users\\bishie\\AppData\\Local\\Temp/ipykernel_10072/1428063034.py\"\u001b[1;36m, line \u001b[1;32m2\u001b[0m\n\u001b[1;33m    1namasaya = \"Budi\"\u001b[0m\n\u001b[1;37m     ^\u001b[0m\n\u001b[1;31mSyntaxError\u001b[0m\u001b[1;31m:\u001b[0m invalid syntax\n"
     ]
    }
   ],
   "source": [
    "# Contoh nama variable yang tidak diperbolehkan\n",
    "1namasaya = \"Budi\"\n",
    "nama-saya = \"Budi\"\n",
    "nama saya = \"Budi\""
   ]
  },
  {
   "cell_type": "code",
   "execution_count": 13,
   "id": "f29e88d3",
   "metadata": {},
   "outputs": [
    {
     "name": "stdout",
     "output_type": "stream",
     "text": [
      "Orange\n",
      "Banana\n",
      "Cherry\n"
     ]
    }
   ],
   "source": [
    "# menetapkan variable dalam satu baris\n",
    "x, y, z = \"Orange\", \"Banana\", \"Cherry\"\n",
    "print(x)\n",
    "print(y)\n",
    "print(z)"
   ]
  },
  {
   "cell_type": "code",
   "execution_count": 8,
   "id": "5685b87c",
   "metadata": {},
   "outputs": [
    {
     "name": "stdout",
     "output_type": "stream",
     "text": [
      "llo\n",
      "Hello\n",
      "llo, World!\n",
      "orl\n"
     ]
    }
   ],
   "source": [
    "# SLICE\n",
    "b = \"Hello, World!\"\n",
    "\n",
    "# mengambil beberapa karakter dari posisi 2 sampai posisi 5 (5 tidak termasuk)\n",
    "print(b[2:5])\n",
    "# mengambil karakter dari awal sampai posisi 5 (5 tidak termasuk)\n",
    "print(b[:5])\n",
    "# mengambil karakter dari posisi awal sampai akhir\n",
    "print(b[2:])\n",
    "# negatif indexing. dari karakter \"o\" dari \"World\" (posisi -5) ke karakter \"d\" (posisi -2)\n",
    "print(b[-5:-2]) # negatif index dimulai dari 1 paling belakang"
   ]
  },
  {
   "cell_type": "code",
   "execution_count": 9,
   "id": "57c2949f",
   "metadata": {},
   "outputs": [
    {
     "name": "stdout",
     "output_type": "stream",
     "text": [
      "HELLO, WORLD!\n"
     ]
    }
   ],
   "source": [
    "# mengubah string dalam bentuk upper case\n",
    "a = \"Hello, World!\"\n",
    "print(a.upper())"
   ]
  },
  {
   "cell_type": "code",
   "execution_count": 11,
   "id": "f4c29e3d",
   "metadata": {},
   "outputs": [
    {
     "name": "stdout",
     "output_type": "stream",
     "text": [
      "hello, world!\n"
     ]
    }
   ],
   "source": [
    "# mengubah string dalam bentuk lower case\n",
    "a = \"Hello, World!\"\n",
    "print(a.lower())"
   ]
  },
  {
   "cell_type": "code",
   "execution_count": 12,
   "id": "38b827cc",
   "metadata": {},
   "outputs": [
    {
     "name": "stdout",
     "output_type": "stream",
     "text": [
      "Hello, World!\n"
     ]
    }
   ],
   "source": [
    "# menghilangkan spasi/ruang kosong pada bagian awal dan akhir string\n",
    "a = \" Hello, World! \"\n",
    "print(a.strip())"
   ]
  },
  {
   "cell_type": "code",
   "execution_count": 14,
   "id": "cf891900",
   "metadata": {},
   "outputs": [
    {
     "name": "stdout",
     "output_type": "stream",
     "text": [
      "HellJ, WJrld!\n"
     ]
    }
   ],
   "source": [
    "# mengganti string dengan string lain\n",
    "a = \"Hello, World!\"\n",
    "print(a.replace(\"o\", \"J\"))"
   ]
  },
  {
   "cell_type": "code",
   "execution_count": 18,
   "id": "4765a3de",
   "metadata": {},
   "outputs": [
    {
     "name": "stdout",
     "output_type": "stream",
     "text": [
      "['Hello', ' World!']\n"
     ]
    }
   ],
   "source": [
    "# membagi string menjadi beberapa bagian dan menjadikannya sebuah list dengan menggunakan 1 karakter atau lebih sebagai pemisah\n",
    "a = \"Hello, World!\"\n",
    "print(a.split(\",\")) # \",\" sebagai pemisah"
   ]
  },
  {
   "cell_type": "code",
   "execution_count": 22,
   "id": "9afa1a53",
   "metadata": {},
   "outputs": [
    {
     "name": "stdout",
     "output_type": "stream",
     "text": [
      "My name is John, and I am 36\n"
     ]
    }
   ],
   "source": [
    "# menggabungkan string dengan integer dengan menggunakan \"{}\" sebagai tempang penampung\n",
    "age = 36\n",
    "txt = \"My name is John, and I am {}\"\n",
    "print(txt.format(age))"
   ]
  },
  {
   "cell_type": "code",
   "execution_count": 23,
   "id": "67f7fdce",
   "metadata": {},
   "outputs": [
    {
     "name": "stdout",
     "output_type": "stream",
     "text": [
      "I want 3 pieces of item 567 for 49.95 dollars.\n"
     ]
    }
   ],
   "source": [
    "# format() dapat mengambil lebih dari satu argumen dan menempatkan di tempat penampung secara berurutan\n",
    "quantity = 3\n",
    "itemno = 567\n",
    "price = 49.95\n",
    "myorder = \"I want {} pieces of item {} for {} dollars.\"\n",
    "print(myorder.format(quantity, itemno, price))"
   ]
  },
  {
   "cell_type": "code",
   "execution_count": 25,
   "id": "6e64a54a",
   "metadata": {},
   "outputs": [
    {
     "name": "stdout",
     "output_type": "stream",
     "text": [
      "I want to pay 49.95 dollars for 3 pieces of item 567.\n"
     ]
    }
   ],
   "source": [
    "# dapat menggunakan angka index untuk menempatkan argumen di tempat penampung yang benar\n",
    "quantity = 3\n",
    "itemno = 567\n",
    "price = 49.95\n",
    "myorder = \"I want to pay {2} dollars for {0} pieces of item {1}.\"\n",
    "print(myorder.format(quantity, itemno, price))"
   ]
  },
  {
   "cell_type": "code",
   "execution_count": 28,
   "id": "980891f8",
   "metadata": {
    "scrolled": true
   },
   "outputs": [
    {
     "name": "stdout",
     "output_type": "stream",
     "text": [
      "False\n",
      "True\n",
      "True\n"
     ]
    }
   ],
   "source": [
    "# mengevaluasi sebuah nilai lalu mereturnnya dengan hasil True atau False menggunakan bool()\n",
    "a = 11 < 10\n",
    "print(bool(a))\n",
    "print(bool(\"Hello\"))\n",
    "print(bool(15))"
   ]
  },
  {
   "cell_type": "markdown",
   "id": "65ffb29e",
   "metadata": {},
   "source": [
    "## List\n",
    "\n",
    "Digunakan untuk menyimpan banyak item dalam satu variable. List dibuat menggunakan [ ]. List juga memungkinkan untuk dapat memiliki item dengan nilai yang sama"
   ]
  },
  {
   "cell_type": "code",
   "execution_count": 30,
   "id": "1eda0677",
   "metadata": {},
   "outputs": [
    {
     "name": "stdout",
     "output_type": "stream",
     "text": [
      "['apple', 'banana', 'cherry', 'apple']\n"
     ]
    }
   ],
   "source": [
    "thislist = [\"apple\", \"banana\", \"cherry\" , \"apple\"]\n",
    "print(thislist)"
   ]
  },
  {
   "cell_type": "code",
   "execution_count": 31,
   "id": "9af11fba",
   "metadata": {},
   "outputs": [
    {
     "name": "stdout",
     "output_type": "stream",
     "text": [
      "3\n"
     ]
    }
   ],
   "source": [
    "# len() digunakan untuk menentukan panjang item yang dimiliki oleh list \n",
    "thislist = [\"apple\", \"banana\", \"cherry\"]\n",
    "print(len(thislist)) "
   ]
  },
  {
   "cell_type": "code",
   "execution_count": 36,
   "id": "8031504c",
   "metadata": {},
   "outputs": [
    {
     "name": "stdout",
     "output_type": "stream",
     "text": [
      "['abc', 34, True, 40, 'male']\n"
     ]
    }
   ],
   "source": [
    "# list juga dapat memiliki banyak item dengan tipe data yang berbeda-beda\n",
    "list1 = [\"abc\", 34, True, 40, \"male\"]\n",
    "print(list1)"
   ]
  },
  {
   "cell_type": "markdown",
   "id": "6c582d38",
   "metadata": {},
   "source": [
    "### Mengakses Indeks List"
   ]
  },
  {
   "cell_type": "code",
   "execution_count": 37,
   "id": "7b15c086",
   "metadata": {},
   "outputs": [
    {
     "name": "stdout",
     "output_type": "stream",
     "text": [
      "banana\n",
      "cherry\n"
     ]
    }
   ],
   "source": [
    "# tiap item memiliki nilai index yang berbeda-beda\n",
    "thislist = [\"apple\", \"banana\", \"cherry\"]\n",
    "print(thislist[1])\n",
    "print(thislist[-1])"
   ]
  },
  {
   "cell_type": "code",
   "execution_count": 38,
   "id": "3be152dc",
   "metadata": {},
   "outputs": [
    {
     "name": "stdout",
     "output_type": "stream",
     "text": [
      "Yes, 'apple' is in the fruits list\n"
     ]
    }
   ],
   "source": [
    "thislist = [\"apple\", \"banana\", \"cherry\"]\n",
    "if \"apple\" in thislist: # in digunakan untuk memnentukan apakah item tertentu ada pada list yang ada\n",
    "  print(\"Yes, 'apple' is in the fruits list\")"
   ]
  },
  {
   "cell_type": "markdown",
   "id": "a19c9f10",
   "metadata": {},
   "source": [
    "### Mengubah Item di dalam List"
   ]
  },
  {
   "cell_type": "code",
   "execution_count": 2,
   "id": "efad988d",
   "metadata": {},
   "outputs": [
    {
     "name": "stdout",
     "output_type": "stream",
     "text": [
      "['apple', 'blackcurrant', 'cherry']\n"
     ]
    }
   ],
   "source": [
    "thislist = [\"apple\", \"banana\", \"cherry\"]\n",
    "thislist[1] = \"blackcurrant\" # index ke-1 yaitu \"banana\" akan diganti dengan \"blackcurrant\"\n",
    "\n",
    "print(thislist)"
   ]
  },
  {
   "cell_type": "code",
   "execution_count": 4,
   "id": "c088f7fa",
   "metadata": {},
   "outputs": [
    {
     "name": "stdout",
     "output_type": "stream",
     "text": [
      "['apple', 'blackcurrant', 'watermelon', 'cherry']\n"
     ]
    }
   ],
   "source": [
    "thislist = [\"apple\", \"banana\", \"cherry\"]\n",
    "thislist[1:2] = [\"blackcurrant\", \"watermelon\"] # 1:2 hanya akan mengganti \"apple\" dengan 2 item, sehingga \"cherry\" akan bergeser ke index selanjutnya\n",
    "\n",
    "print(thislist)"
   ]
  },
  {
   "cell_type": "code",
   "execution_count": 5,
   "id": "85cd6afd",
   "metadata": {},
   "outputs": [
    {
     "name": "stdout",
     "output_type": "stream",
     "text": [
      "['apple', 'watermelon']\n"
     ]
    }
   ],
   "source": [
    "thislist = [\"apple\", \"banana\", \"cherry\"]\n",
    "thislist[1:3] = [\"watermelon\"] # 1:3 berarti akan mengganti index 1-2 (3 tidak termasuk) dengan \"watermelon\"\n",
    "\n",
    "print(thislist)"
   ]
  },
  {
   "cell_type": "markdown",
   "id": "7e09904f",
   "metadata": {},
   "source": [
    "### Menambah Item ke dalam List"
   ]
  },
  {
   "cell_type": "code",
   "execution_count": 14,
   "id": "c0250631",
   "metadata": {},
   "outputs": [
    {
     "name": "stdout",
     "output_type": "stream",
     "text": [
      "['apple', 'banana', 'watermelon', 'cherry']\n"
     ]
    }
   ],
   "source": [
    "thislist = [\"apple\", \"banana\", \"cherry\"]\n",
    "thislist.insert(2, \"watermelon\") # fungsi insert() berfungsi untuk memasukkan item kedalam list pada index yang sudah ditentukan.\n",
    "# \"watermelon\" akan dimasukkan ke dalam index ke-2 sehingga \"cherry\" akan bergeser ke index selanjutnya\n",
    "\n",
    "print(thislist)"
   ]
  },
  {
   "cell_type": "code",
   "execution_count": 8,
   "id": "fa39d661",
   "metadata": {},
   "outputs": [
    {
     "name": "stdout",
     "output_type": "stream",
     "text": [
      "['apple', 'banana', 'cherry', 'orange']\n"
     ]
    }
   ],
   "source": [
    "thislist = [\"apple\", \"banana\", \"cherry\"]\n",
    "thislist.append(\"orange\") # append() berfungsi untuk menambah item ke index terakhir di dalam list\n",
    "\n",
    "print(thislist)"
   ]
  },
  {
   "cell_type": "code",
   "execution_count": 9,
   "id": "b8e023e2",
   "metadata": {},
   "outputs": [
    {
     "name": "stdout",
     "output_type": "stream",
     "text": [
      "['apple', 'banana', 'cherry', 'mango', 'pineapple', 'papaya']\n"
     ]
    }
   ],
   "source": [
    "thislist = [\"apple\", \"banana\", \"cherry\"]\n",
    "tropical = [\"mango\", \"pineapple\", \"papaya\"]\n",
    "thislist.extend(tropical) # element pada list thislist akan ditambah dengan element list tropical menggunakan fungsi extend()\n",
    "\n",
    "print(thislist)"
   ]
  },
  {
   "cell_type": "markdown",
   "id": "c1c6afd7",
   "metadata": {},
   "source": [
    "### Menghilangkan Item pada List"
   ]
  },
  {
   "cell_type": "code",
   "execution_count": 13,
   "id": "750986e0",
   "metadata": {},
   "outputs": [
    {
     "name": "stdout",
     "output_type": "stream",
     "text": [
      "['apple', 'cherry']\n"
     ]
    }
   ],
   "source": [
    "thislist = [\"apple\", \"banana\", \"cherry\"]\n",
    "thislist.remove(\"banana\") # remove() berfungi untuk menghilangkan item pada list\n",
    "\n",
    "print(thislist)"
   ]
  },
  {
   "cell_type": "code",
   "execution_count": 15,
   "id": "62361df6",
   "metadata": {},
   "outputs": [
    {
     "name": "stdout",
     "output_type": "stream",
     "text": [
      "['apple', 'cherry']\n"
     ]
    }
   ],
   "source": [
    "thislist = [\"apple\", \"banana\", \"cherry\"]\n",
    "thislist.pop(1) # pop() berfungsi untuk menghilangkan item namun menggunakan index yang telah ditentukan.\n",
    "# jika index tidak ditulis, maka fungsi pop() akan menghilangkan item dengan index terakhir\n",
    "\n",
    "print(thislist)"
   ]
  },
  {
   "cell_type": "code",
   "execution_count": 19,
   "id": "90889408",
   "metadata": {},
   "outputs": [
    {
     "name": "stdout",
     "output_type": "stream",
     "text": [
      "['banana', 'cherry']\n"
     ]
    }
   ],
   "source": [
    "thislist = [\"apple\", \"banana\", \"cherry\"]\n",
    "del thislist[0] # berfungsi sama seperti pop()\n",
    "\n",
    "print(thislist)"
   ]
  },
  {
   "cell_type": "code",
   "execution_count": 21,
   "id": "e6314cad",
   "metadata": {},
   "outputs": [],
   "source": [
    "thislist = [\"apple\", \"banana\", \"cherry\"]\n",
    "del thislist # keyword del bisa juga digunakan untuk menghapus list. dalam hal ini thislist tidak bisa ditampilkan karena list tersebut sudah dihapus oleh python"
   ]
  },
  {
   "cell_type": "code",
   "execution_count": 23,
   "id": "07a4fa71",
   "metadata": {},
   "outputs": [
    {
     "name": "stdout",
     "output_type": "stream",
     "text": [
      "[]\n"
     ]
    }
   ],
   "source": [
    "thislist = [\"apple\", \"banana\", \"cherry\"]\n",
    "thislist.clear() # clear() berfungsi untuk mengosongkan list\n",
    "\n",
    "print(thislist)"
   ]
  },
  {
   "cell_type": "markdown",
   "id": "8d2c3c1e",
   "metadata": {},
   "source": [
    "### Mengurutkan List"
   ]
  },
  {
   "cell_type": "code",
   "execution_count": 28,
   "id": "cb9cdaf4",
   "metadata": {},
   "outputs": [
    {
     "name": "stdout",
     "output_type": "stream",
     "text": [
      "['banana', 'kiwi', 'mango', 'orange', 'pineapple']\n"
     ]
    }
   ],
   "source": [
    "thislist = [\"orange\", \"mango\", \"kiwi\", \"pineapple\", \"banana\"]\n",
    "thislist.sort() # sort() berfungsi untuk mengurutkan element didalam list secara ascending/naik (hanya berlaku jika setiap elemen memiliki tipe data yang sama)\n",
    "print(thislist)"
   ]
  },
  {
   "cell_type": "code",
   "execution_count": 30,
   "id": "abda9ada",
   "metadata": {},
   "outputs": [
    {
     "name": "stdout",
     "output_type": "stream",
     "text": [
      "['pineapple', 'orange', 'mango', 'kiwi', 'banana']\n"
     ]
    }
   ],
   "source": [
    "thislist = [\"orange\", \"mango\", \"kiwi\", \"pineapple\", \"banana\"]\n",
    "thislist.sort(reverse = True) # sama seperti sebelumnya, namun reverse = true akan mengurutkan element secara descending/menurun\n",
    "\n",
    "print(thislist)"
   ]
  },
  {
   "cell_type": "markdown",
   "id": "6be3aad1",
   "metadata": {},
   "source": [
    "### Menyalin LIst"
   ]
  },
  {
   "cell_type": "code",
   "execution_count": 31,
   "id": "b1b56023",
   "metadata": {},
   "outputs": [
    {
     "name": "stdout",
     "output_type": "stream",
     "text": [
      "['apple', 'banana', 'cherry']\n"
     ]
    }
   ],
   "source": [
    "thislist = [\"apple\", \"banana\", \"cherry\"]\n",
    "mylist = thislist.copy() # copy() berfungsi untuk menyalin sebuah list\n",
    "\n",
    "print(mylist)"
   ]
  },
  {
   "cell_type": "markdown",
   "id": "dc9885db",
   "metadata": {},
   "source": [
    "### Join List"
   ]
  },
  {
   "cell_type": "code",
   "execution_count": 2,
   "id": "b16ec186",
   "metadata": {},
   "outputs": [
    {
     "name": "stdout",
     "output_type": "stream",
     "text": [
      "['a', 'b', 'c', 1, 2, 3]\n"
     ]
    }
   ],
   "source": [
    "list1 = [\"a\", \"b\", \"c\"]\n",
    "list2 = [1, 2, 3]\n",
    "\n",
    "list3 = list1 + list2\n",
    "print(list3)"
   ]
  },
  {
   "cell_type": "markdown",
   "id": "0edcd9e6",
   "metadata": {},
   "source": [
    "## Tuple\n",
    "Tuple tidak bisa dimodifikasi. Artinya setelah tuple dibuat, kita tidak bisa menambah atau menghapus item didalamnya. Beda seperti list, yang isinya bisa dimodifikasi kapan pun kita mau."
   ]
  },
  {
   "cell_type": "code",
   "execution_count": 3,
   "id": "aefc9038",
   "metadata": {},
   "outputs": [
    {
     "name": "stdout",
     "output_type": "stream",
     "text": [
      "('apple', 'banana', 'cherry', 'apple', 'cherry')\n"
     ]
    }
   ],
   "source": [
    "thistuple = (\"apple\", \"banana\", \"cherry\", \"apple\", \"cherry\")\n",
    "print(thistuple)"
   ]
  },
  {
   "cell_type": "code",
   "execution_count": 7,
   "id": "7c0eec42",
   "metadata": {},
   "outputs": [
    {
     "name": "stdout",
     "output_type": "stream",
     "text": [
      "<class 'tuple'>\n",
      "<class 'str'>\n"
     ]
    }
   ],
   "source": [
    "thistuple = (\"apple\",) # membuat tuple dengan satu item di dalamnya menggunakan koma (,)\n",
    "print(type(thistuple))\n",
    "\n",
    "# dibawah contoh BUKAN tuple\n",
    "thistuple = (\"apple\")\n",
    "print(type(thistuple))"
   ]
  },
  {
   "cell_type": "markdown",
   "id": "f37511c2",
   "metadata": {},
   "source": [
    "### Memperbarui isi tuple"
   ]
  },
  {
   "cell_type": "code",
   "execution_count": 10,
   "id": "f2564866",
   "metadata": {},
   "outputs": [
    {
     "name": "stdout",
     "output_type": "stream",
     "text": [
      "('apple', 'kiwi', 'cherry')\n"
     ]
    }
   ],
   "source": [
    "x = (\"apple\", \"banana\", \"cherry\")\n",
    "y = list(x) # tuple dikonversi menjadi list terlebih dahulu\n",
    "y[1] = \"kiwi\" # mengubah isi list\n",
    "x = tuple(y) # lalu dikonversikan kembali menjadi tuple\n",
    "\n",
    "print(x)"
   ]
  },
  {
   "cell_type": "markdown",
   "id": "afa73243",
   "metadata": {},
   "source": [
    "### Join Tuples"
   ]
  },
  {
   "cell_type": "code",
   "execution_count": 11,
   "id": "5d7b2f34",
   "metadata": {},
   "outputs": [
    {
     "name": "stdout",
     "output_type": "stream",
     "text": [
      "('a', 'b', 'c', 1, 2, 3)\n"
     ]
    }
   ],
   "source": [
    "tuple1 = (\"a\", \"b\" , \"c\")\n",
    "tuple2 = (1, 2, 3)\n",
    "\n",
    "tuple3 = tuple1 + tuple2 # menggabungkan tuple menggunakan operator +\n",
    "print(tuple3)"
   ]
  },
  {
   "cell_type": "markdown",
   "id": "b83bc0b1",
   "metadata": {},
   "source": [
    "## Set\n",
    "Set digunakan untuk menyimpan beberapa item pada satu variable.\n",
    "Set memiliki bentuk yang tidak berurutan dan tidak dapat diubah dan juga tidak dapat diindeks.\n",
    "Walaupun nilai yang ada di dalam set tidak dapat diubah, kita tetap dapat menghapus dan menambah item baru pada set."
   ]
  },
  {
   "cell_type": "code",
   "execution_count": 12,
   "id": "1eaff385",
   "metadata": {},
   "outputs": [
    {
     "name": "stdout",
     "output_type": "stream",
     "text": [
      "{'banana', 'apple', 'cherry'}\n"
     ]
    }
   ],
   "source": [
    "thisset = {\"apple\", \"banana\", \"cherry\"}\n",
    "print(thisset)"
   ]
  },
  {
   "cell_type": "code",
   "execution_count": 14,
   "id": "fbf8cf01",
   "metadata": {},
   "outputs": [
    {
     "name": "stdout",
     "output_type": "stream",
     "text": [
      "{'banana', 'apple', 'cherry'}\n"
     ]
    }
   ],
   "source": [
    "thisset = {\"apple\", \"banana\", \"cherry\", \"apple\"} # set tidak dapat memiliki item yang sama\n",
    "\n",
    "print(thisset) # jika terdapat file yang sama, hanya akan satu saja yang dapat ditampilkan. Sisanya akan diabaikan"
   ]
  },
  {
   "cell_type": "markdown",
   "id": "8872212d",
   "metadata": {},
   "source": [
    "## Dictionary"
   ]
  },
  {
   "cell_type": "markdown",
   "id": "74c1c07c",
   "metadata": {},
   "source": [
    "Dictionary digunakan untuk menyimpan nilai data dalam pasangan \"key:value\". Dictionary memiliki bentuk yang beruruta, dapat diubah isinya namun tidak memungkinkan untuk memiliki data yang duplikat."
   ]
  },
  {
   "cell_type": "code",
   "execution_count": 16,
   "id": "8b8e6ca0",
   "metadata": {},
   "outputs": [
    {
     "name": "stdout",
     "output_type": "stream",
     "text": [
      "{'brand': 'Ford', 'model': 'Mustang', 'year': 1964}\n"
     ]
    }
   ],
   "source": [
    "thisdict = {\n",
    "  \"brand\": \"Ford\", # brand disini sebagai key dan Ford sebagai value/nilainya. begitupun juga item yang lainnya\n",
    "  \"model\": \"Mustang\",\n",
    "  \"year\": 1964\n",
    "}\n",
    "print(thisdict)"
   ]
  },
  {
   "cell_type": "code",
   "execution_count": 18,
   "id": "8990ab04",
   "metadata": {},
   "outputs": [
    {
     "name": "stdout",
     "output_type": "stream",
     "text": [
      "Ford\n"
     ]
    }
   ],
   "source": [
    "thisdict = {\n",
    "  \"brand\": \"Ford\",\n",
    "  \"model\": \"Mustang\",\n",
    "  \"year\": 1964\n",
    "}\n",
    "print(thisdict[\"brand\"]) # menampilkan nilai dari kata kunci brand"
   ]
  },
  {
   "cell_type": "markdown",
   "id": "75f64ec4",
   "metadata": {},
   "source": [
    "### Mengubah Item pada Dictionary"
   ]
  },
  {
   "cell_type": "code",
   "execution_count": 20,
   "id": "4b3885b6",
   "metadata": {},
   "outputs": [
    {
     "name": "stdout",
     "output_type": "stream",
     "text": [
      "{'brand': 'Ford', 'model': 'Mustang', 'year': 2018}\n"
     ]
    }
   ],
   "source": [
    "thisdict = {\n",
    "  \"brand\": \"Ford\",\n",
    "  \"model\": \"Mustang\",\n",
    "  \"year\": 1964\n",
    "}\n",
    "thisdict[\"year\"] = 2018 # memberikan nilai baru untuk menggantikan nilai lama}\n",
    "\n",
    "print(thisdict)"
   ]
  },
  {
   "cell_type": "markdown",
   "id": "4c6313e0",
   "metadata": {},
   "source": [
    "### Menambah Item Baru pada Dictionary"
   ]
  },
  {
   "cell_type": "code",
   "execution_count": 21,
   "id": "93f0d317",
   "metadata": {},
   "outputs": [
    {
     "name": "stdout",
     "output_type": "stream",
     "text": [
      "{'brand': 'Ford', 'model': 'Mustang', 'year': 1964, 'color': 'red'}\n"
     ]
    }
   ],
   "source": [
    "thisdict = {\n",
    "  \"brand\": \"Ford\",\n",
    "  \"model\": \"Mustang\",\n",
    "  \"year\": 1964\n",
    "}\n",
    "\n",
    "thisdict[\"color\"] = \"red\" # menambahkan item yang sebelumnya tidak ada pada dictionary\n",
    "print(thisdict)"
   ]
  },
  {
   "cell_type": "code",
   "execution_count": 24,
   "id": "e4913594",
   "metadata": {},
   "outputs": [
    {
     "name": "stdout",
     "output_type": "stream",
     "text": [
      "{'brand': 'Ford', 'model': 'Mustang', 'year': 1964, 'color': 'red'}\n"
     ]
    }
   ],
   "source": [
    "thisdict = {\n",
    "  \"brand\": \"Ford\",\n",
    "  \"model\": \"Mustang\",\n",
    "  \"year\": 1964\n",
    "}\n",
    "thisdict.update({\"color\": \"red\"}) # menggunakan fungsi update() untuk menambahkan item baru\n",
    "print(thisdict)"
   ]
  },
  {
   "cell_type": "markdown",
   "id": "92a31841",
   "metadata": {},
   "source": [
    "### Menghapus Item pada Dictionary"
   ]
  },
  {
   "cell_type": "code",
   "execution_count": 26,
   "id": "7823ce97",
   "metadata": {},
   "outputs": [
    {
     "name": "stdout",
     "output_type": "stream",
     "text": [
      "{'brand': 'Ford', 'year': 1964}\n"
     ]
    }
   ],
   "source": [
    "thisdict = {\n",
    "  \"brand\": \"Ford\",\n",
    "  \"model\": \"Mustang\",\n",
    "  \"year\": 1964\n",
    "}\n",
    "\n",
    "thisdict.pop(\"model\") # menggunakan fungsi pop() untung menghilangkan key model\n",
    "print(thisdict)"
   ]
  },
  {
   "cell_type": "code",
   "execution_count": 28,
   "id": "65ea91c9",
   "metadata": {},
   "outputs": [
    {
     "name": "stdout",
     "output_type": "stream",
     "text": [
      "{'brand': 'Ford', 'model': 'Mustang'}\n"
     ]
    }
   ],
   "source": [
    "thisdict = {\n",
    "  \"brand\": \"Ford\",\n",
    "  \"model\": \"Mustang\",\n",
    "  \"year\": 1964\n",
    "}\n",
    "\n",
    "thisdict.popitem() # jika tidak memasukan nama key nya, maka python akan menghapus item terakhir pada dictionary\n",
    "print(thisdict)"
   ]
  },
  {
   "cell_type": "code",
   "execution_count": 29,
   "id": "b613b2aa",
   "metadata": {},
   "outputs": [],
   "source": [
    "thisdict = {\n",
    "  \"brand\": \"Ford\",\n",
    "  \"model\": \"Mustang\",\n",
    "  \"year\": 1964\n",
    "}\n",
    "del thisdict # menghapus dictionary secara keseluruhan"
   ]
  },
  {
   "cell_type": "code",
   "execution_count": 30,
   "id": "6a3c2a37",
   "metadata": {},
   "outputs": [
    {
     "name": "stdout",
     "output_type": "stream",
     "text": [
      "{}\n"
     ]
    }
   ],
   "source": [
    "thisdict = {\n",
    "  \"brand\": \"Ford\",\n",
    "  \"model\": \"Mustang\",\n",
    "  \"year\": 1964\n",
    "}\n",
    "\n",
    "thisdict.clear() # mengosongkan isi dari dictionary\n",
    "print(thisdict)"
   ]
  },
  {
   "cell_type": "code",
   "execution_count": null,
   "id": "6f78254f",
   "metadata": {},
   "outputs": [],
   "source": []
  }
 ],
 "metadata": {
  "kernelspec": {
   "display_name": "Python 3 (ipykernel)",
   "language": "python",
   "name": "python3"
  },
  "language_info": {
   "codemirror_mode": {
    "name": "ipython",
    "version": 3
   },
   "file_extension": ".py",
   "mimetype": "text/x-python",
   "name": "python",
   "nbconvert_exporter": "python",
   "pygments_lexer": "ipython3",
   "version": "3.9.7"
  }
 },
 "nbformat": 4,
 "nbformat_minor": 5
}
