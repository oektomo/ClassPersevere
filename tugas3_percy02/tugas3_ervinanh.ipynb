{
 "cells": [
  {
   "cell_type": "markdown",
   "id": "de90bd6e",
   "metadata": {},
   "source": [
    "## Mencari contoh konkrit dan penjelasan dari setiap bidang keilmuan AI"
   ]
  },
  {
   "cell_type": "markdown",
   "id": "7489b3ed",
   "metadata": {},
   "source": [
    "##### Data Science \n",
    "\n",
    "penerapan ilmu data science ke dalam salah satu teknologi yang dekat dengan keseharian kita salah satunya adalah E-commerce,data science memanfaatkan skala besar baik terstruktur dan tidak terstruktur. bisa kita ketahui saat ini orang orang bahkan saya sendiri lebih memilih berbelanja secara digital karena lebih efektif dan efisien. e-commerce memanfaatkan data science untuk membuat keputusan, sehingga orang yang menjual dapat menyesuaikan etalase produknya sesuai profil data pembeli dan juga menyesuaikan produk yang dijualnya secara real time, untuk pembeli beranda akan diisi dengan saran produk serupa tidak hanya membantu menemukan produk juga membantu menemukan produk dari miliaran produk yang tersedia\n",
    "\n",
    "\n"
   ]
  },
  {
   "cell_type": "markdown",
   "id": "e1e2fe3f",
   "metadata": {},
   "source": [
    "#### computer vision\n",
    "\n",
    "salah satu pemanfaatan computer vision dalam artificial intelligence sering kita jumpai yaitu CCTV. Teknologi CCTV adalah alat yang berfungsi untuk melihat,merekam dan memahami apa yang dilihat dan memberikan informasi dari hal yang telah direkamnya. saya ambil contoh pengembangan fitur Lisense Plate Recognition di kota kota besar seperti DKI Jakarta, yang berguna untuk mendeteksi plat nomor kendaraan palsu atau pajak kendaraan yang menunggak yang nantinya teknologi vision akan mendeteksi kendaraan kendaraan dan mengirimkan data kendaraan ke sistem lalu menghasilkan informasi. teknologi yang dkembangkan ini guna menyadarkan masyarakat akan peraturan yang harus dipatuhi. ada juga ScanQR, scanQR saat ini banyak digunakan. cara kerja Scan QR, Ketika Scan QR dideteksi oleh smartphone, maka kode barcode yang telah dipindai akan mengirimkan sebuah kode yang nantinya akan melaksanakan suatu perintah khusus. Bisa itu pembayaran, buka kunci, masuk dengan profil tertentu, dan lain-lain."
   ]
  },
  {
   "cell_type": "markdown",
   "id": "5bae85a2",
   "metadata": {},
   "source": [
    "#### NLP\n",
    "\n",
    "saya ambil salah satu aplikasi yang paling terkenal dan banyak digunakan adalah google translation, google translation memanfaatkan natural languange processing yang cara kerja nya jika diberikan suatu speech dari inputan user kemudian secara otomatis sistem itu akan menerjemahkan menjadi text. selain itu ada chatbot, teknologi NLP dalam chatbot berfungsi memahami percakapan yang dilakukan. NLP memahami setiap kalimat yang dikirimkan penggunanya kemudian mengenalinya sebagai sebuah perintah dengan mengambil makna dari kalimat tersebut. NLP berguna untuk mengelola\n"
   ]
  },
  {
   "cell_type": "code",
   "execution_count": null,
   "id": "38ed189d",
   "metadata": {},
   "outputs": [],
   "source": []
  }
 ],
 "metadata": {
  "kernelspec": {
   "display_name": "Python 3 (ipykernel)",
   "language": "python",
   "name": "python3"
  },
  "language_info": {
   "codemirror_mode": {
    "name": "ipython",
    "version": 3
   },
   "file_extension": ".py",
   "mimetype": "text/x-python",
   "name": "python",
   "nbconvert_exporter": "python",
   "pygments_lexer": "ipython3",
   "version": "3.9.7"
  }
 },
 "nbformat": 4,
 "nbformat_minor": 5
}
