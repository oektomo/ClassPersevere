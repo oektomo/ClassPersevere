{
 "cells": [
  {
   "cell_type": "markdown",
   "id": "e3062261",
   "metadata": {},
   "source": [
    "**Membahas contoh kasus :**\n",
    "\n",
    "**1. Uji beda 2 kelompok berhubungan**\n",
    "\n",
    "**2. Uji beda 2 kelompok independent**\n",
    "\n",
    "**3. Uji beda lebih dari 2 kelompok**\n",
    "\n",
    "**keduanya akan dilakukan secara parametrik dan nonparametrik**"
   ]
  },
  {
   "cell_type": "code",
   "execution_count": 1,
   "id": "f71d4344",
   "metadata": {},
   "outputs": [],
   "source": [
    "#Import all library needed\n",
    "\n",
    "import matplotlib.pyplot as plt\n",
    "import pandas as pd\n",
    "import seaborn as sns\n",
    "import numpy as np\n",
    "from scipy import stats"
   ]
  },
  {
   "cell_type": "markdown",
   "id": "6dc78070",
   "metadata": {},
   "source": [
    "**Memasukan  dataset dari file final_exam.csv**"
   ]
  },
  {
   "cell_type": "code",
   "execution_count": 2,
   "id": "352d0a89",
   "metadata": {},
   "outputs": [
    {
     "name": "stdout",
     "output_type": "stream",
     "text": [
      "   big_west  small_west  capital_city  big_east  small_east\n",
      "0        87          77            86        71          70\n",
      "1        75          83            90        82          76\n",
      "2        80          73            87        85          81\n",
      "3        75          82            85        89          85\n",
      "4        91          71            85        72          75\n",
      "5        89          87            96        79          75\n",
      "6        91          77            95        79          75\n",
      "7        87          84            89        85          72\n",
      "8        90          86            93        84          72\n",
      "9        94          93            91        86          75\n"
     ]
    }
   ],
   "source": [
    "dataset = pd.read_csv(\"final_exam.csv\")\n",
    "print(dataset.head(10))"
   ]
  },
  {
   "cell_type": "markdown",
   "id": "a0ebfbed",
   "metadata": {},
   "source": [
    "# Uji beda 2 kelompok berhubungan"
   ]
  },
  {
   "cell_type": "markdown",
   "id": "33e4bcf7",
   "metadata": {},
   "source": [
    "Diketahui nilai mahasiswa saat belajar offline dan online sebagai berikut (dalam skala 10)\n",
    "\n",
    "offline = [10, 9, 7, 8, 7, 8, 9, 9, 8, 7, 7, 7, 8, 8, 9, 8, 8, 8, 8, 8, 9]\n",
    "\n",
    "online = [8, 8, 7, 7, 6, 7, 7, 7, 7, 6, 6, 6, 6, 7, 8, 7, 8, 7, 8, 7, 8]"
   ]
  },
  {
   "cell_type": "code",
   "execution_count": 5,
   "id": "ab43f218",
   "metadata": {},
   "outputs": [],
   "source": [
    "#Data\n",
    "offline = np.array([10, 9, 7, 8, 7, 8, 9, 9, 8, 7, 7, 7, 8, 8, 9, 8, 8, 8, 8, 8, 9])\n",
    "online = np.array([8, 8, 7, 7, 6, 7, 7, 7, 7, 6, 6, 6, 6, 7, 8, 7, 8, 7, 8, 7, 8])"
   ]
  },
  {
   "cell_type": "markdown",
   "id": "f708c70f",
   "metadata": {},
   "source": [
    "# Uji Normalitas"
   ]
  },
  {
   "cell_type": "markdown",
   "id": "fb2ec8ef",
   "metadata": {},
   "source": [
    "Ho = data berdistribusi normal\n",
    "\n",
    "Ha = data tidak berdistribusi normal"
   ]
  },
  {
   "cell_type": "code",
   "execution_count": 7,
   "id": "75661bcf",
   "metadata": {},
   "outputs": [
    {
     "name": "stderr",
     "output_type": "stream",
     "text": [
      "C:\\Users\\Faidullah\\anaconda3\\lib\\site-packages\\seaborn\\distributions.py:2619: FutureWarning: `distplot` is a deprecated function and will be removed in a future version. Please adapt your code to use either `displot` (a figure-level function with similar flexibility) or `histplot` (an axes-level function for histograms).\n",
      "  warnings.warn(msg, FutureWarning)\n"
     ]
    },
    {
     "data": {
      "text/plain": [
       "<AxesSubplot:ylabel='Density'>"
      ]
     },
     "execution_count": 7,
     "metadata": {},
     "output_type": "execute_result"
    },
    {
     "data": {
      "image/png": "[encoded data removed]",
      "text/plain": [
       "<Figure size 432x288 with 1 Axes>"
      ]
     },
     "metadata": {
      "needs_background": "light"
     },
     "output_type": "display_data"
    }
   ],
   "source": [
    "#Dengan histogram\n",
    "sns.distplot(offline)"
   ]
  },
  {
   "cell_type": "code",
   "execution_count": 8,
   "id": "4e70eb9d",
   "metadata": {},
   "outputs": [
    {
     "name": "stderr",
     "output_type": "stream",
     "text": [
      "C:\\Users\\Faidullah\\anaconda3\\lib\\site-packages\\seaborn\\distributions.py:2619: FutureWarning: `distplot` is a deprecated function and will be removed in a future version. Please adapt your code to use either `displot` (a figure-level function with similar flexibility) or `histplot` (an axes-level function for histograms).\n",
      "  warnings.warn(msg, FutureWarning)\n"
     ]
    },
    {
     "data": {
      "text/plain": [
       "<AxesSubplot:ylabel='Density'>"
      ]
     },
     "execution_count": 8,
     "metadata": {},
     "output_type": "execute_result"
    },
    {
     "data": {
      "image/png": "[encoded data removed]",
      "text/plain": [
       "<Figure size 432x288 with 1 Axes>"
      ]
     },
     "metadata": {
      "needs_background": "light"
     },
     "output_type": "display_data"
    }
   ],
   "source": [
    "#Dengan histogram\n",
    "sns.distplot(online)"
   ]
  },
  {
   "cell_type": "markdown",
   "id": "cc4706a2",
   "metadata": {},
   "source": [
    "Berdasarkan histogram, data berbentuk seperti lonceng dengan rata-rata pas di tengah, sehingga bisa kita simpulkan data berdistribusi normal berdasarkan histogram, mari coba dengan uji kolmogorov smirnov"
   ]
  },
  {
   "cell_type": "code",
   "execution_count": 9,
   "id": "88b1a7fc",
   "metadata": {},
   "outputs": [
    {
     "name": "stdout",
     "output_type": "stream",
     "text": [
      "uji kolmogorov smirnov data offline =  KstestResult(statistic=0.26103162250727835, pvalue=0.09451220323774712)\n",
      "uji kolmogorov smirnov data online =  KstestResult(statistic=0.2405721397434657, pvalue=0.14867282009912253)\n"
     ]
    }
   ],
   "source": [
    "#Uji Kolmogorov-Smirnov\n",
    "z_score_offline = stats.zscore(offline)\n",
    "z_score_online = stats.zscore(online)\n",
    "print('uji kolmogorov smirnov data offline = ', stats.kstest(z_score_offline, \"norm\"))\n",
    "print('uji kolmogorov smirnov data online = ', stats.kstest(z_score_online, \"norm\"))"
   ]
  },
  {
   "cell_type": "markdown",
   "id": "d3d3e151",
   "metadata": {},
   "source": [
    "Karena kedua nilai p-value > 0.05, maka Ho diterima, data berdistribusi normal"
   ]
  },
  {
   "cell_type": "markdown",
   "id": "6c73dc25",
   "metadata": {},
   "source": [
    "# Paired Sample T-Test (Parametrik)"
   ]
  },
  {
   "cell_type": "markdown",
   "id": "046ae27e",
   "metadata": {},
   "source": [
    "Ho = Tidak ada perbedaan yang signifikan (keduanya sama)\n",
    "\n",
    "Ha = ada perbedaan yang signifikan (artinya metode pembelajaran offline/online mempengaruhi nilai siswa)"
   ]
  },
  {
   "cell_type": "code",
   "execution_count": 10,
   "id": "cd2b2adf",
   "metadata": {},
   "outputs": [
    {
     "name": "stdout",
     "output_type": "stream",
     "text": [
      "hasil uji t:  Ttest_relResult(statistic=8.142565312173659, pvalue=8.863159783400271e-08)\n"
     ]
    }
   ],
   "source": [
    "t_value = stats.ttest_rel(offline, online)\n",
    "print('hasil uji t: ', t_value)"
   ]
  },
  {
   "cell_type": "markdown",
   "id": "7ee43601",
   "metadata": {},
   "source": [
    "karena p-value = 5.9 x 10^(-7) < 0.05, maka Ho ditolak, terdapat perbedaan yang signifikan dari nilai mahasiswa, metode pembelajaran offline/online berpengaruh signifikan terhadap nilai siswa"
   ]
  },
  {
   "cell_type": "markdown",
   "id": "f0ba07cd",
   "metadata": {},
   "source": [
    "# Uji Wilcoxon (nonparametrik)"
   ]
  },
  {
   "cell_type": "markdown",
   "id": "03d7ddac",
   "metadata": {},
   "source": [
    "Misalkan datanya tidak berdistribusi normal, uji beda 2 kelompok berhubungan dapat dilakukan dengan uji wilcoxon. Caranya"
   ]
  },
  {
   "cell_type": "code",
   "execution_count": 13,
   "id": "810233c8",
   "metadata": {},
   "outputs": [
    {
     "data": {
      "text/plain": [
       "WilcoxonResult(statistic=0.0, pvalue=7.897245521335617e-05)"
      ]
     },
     "execution_count": 13,
     "metadata": {},
     "output_type": "execute_result"
    }
   ],
   "source": [
    "d = offline - online\n",
    "stats.wilcoxon(d)"
   ]
  },
  {
   "cell_type": "markdown",
   "id": "fde774fc",
   "metadata": {},
   "source": [
    "karena p-value = 7.897 x 10^(-5) < 0.05, maka Ho ditolak, terdapat perbedaan yang signifikan dari nilai mahasiswa, metode pembelajaran offline/online berpengaruh signifikan terhadap nilai siswa"
   ]
  },
  {
   "cell_type": "markdown",
   "id": "7eb57ffd",
   "metadata": {},
   "source": [
    "# Uji Beda 2 kelompok independent"
   ]
  },
  {
   "cell_type": "markdown",
   "id": "1fdeb5f9",
   "metadata": {},
   "source": [
    "Misalkan seorang CEO kafe ingin mengetahui apakah ada perbedaan yang signifikan antara jumlah pengunjung kafe di wilayah A dan B selama 2 minggu terakhir\n",
    "\n",
    "A = [27, 29, 27, 32, 34, 38, 39, 27, 30, 32, 34, 36, 38, 40]\n",
    "\n",
    "B = [29, 30, 29, 27, 30, 40, 39, 28, 30, 26, 27, 28, 39, 39]"
   ]
  },
  {
   "cell_type": "code",
   "execution_count": 14,
   "id": "f45670af",
   "metadata": {},
   "outputs": [],
   "source": [
    "A = np.array([27, 29, 27, 32, 34, 38, 39, 27, 30, 32, 34, 36, 38, 40])\n",
    "B = np.array([28, 30, 29, 35, 34, 37, 39, 28, 30, 32, 33, 35, 39, 39])"
   ]
  },
  {
   "cell_type": "markdown",
   "id": "a57eb40f",
   "metadata": {},
   "source": [
    "# Latihan 1"
   ]
  },
  {
   "cell_type": "markdown",
   "id": "376a26e4",
   "metadata": {},
   "source": [
    "Coba lihat lagi cara uji normalitas di atas, coba lakukan pada data A dan B"
   ]
  },
  {
   "cell_type": "markdown",
   "id": "f925040e",
   "metadata": {},
   "source": [
    "# Uji Normalitas"
   ]
  },
  {
   "cell_type": "markdown",
   "id": "b0ceecd4",
   "metadata": {},
   "source": [
    "Ho = data berdistribusi normal\n",
    "\n",
    "Ha = data tidak berdistribusi normal"
   ]
  },
  {
   "cell_type": "code",
   "execution_count": 17,
   "id": "957cd686",
   "metadata": {},
   "outputs": [
    {
     "name": "stderr",
     "output_type": "stream",
     "text": [
      "C:\\Users\\Faidullah\\anaconda3\\lib\\site-packages\\seaborn\\distributions.py:2619: FutureWarning: `distplot` is a deprecated function and will be removed in a future version. Please adapt your code to use either `displot` (a figure-level function with similar flexibility) or `histplot` (an axes-level function for histograms).\n",
      "  warnings.warn(msg, FutureWarning)\n"
     ]
    },
    {
     "data": {
      "text/plain": [
       "<AxesSubplot:ylabel='Density'>"
      ]
     },
     "execution_count": 17,
     "metadata": {},
     "output_type": "execute_result"
    },
    {
     "data": {
      "image/png": "[encoded data removed]",
      "text/plain": [
       "<Figure size 432x288 with 1 Axes>"
      ]
     },
     "metadata": {
      "needs_background": "light"
     },
     "output_type": "display_data"
    }
   ],
   "source": [
    "#Cek Normalitas A Dengan histogram\n",
    "#Type your code here\n",
    "sns.distplot(A)"
   ]
  },
  {
   "cell_type": "code",
   "execution_count": 18,
   "id": "826cdec5",
   "metadata": {},
   "outputs": [
    {
     "name": "stderr",
     "output_type": "stream",
     "text": [
      "C:\\Users\\Faidullah\\anaconda3\\lib\\site-packages\\seaborn\\distributions.py:2619: FutureWarning: `distplot` is a deprecated function and will be removed in a future version. Please adapt your code to use either `displot` (a figure-level function with similar flexibility) or `histplot` (an axes-level function for histograms).\n",
      "  warnings.warn(msg, FutureWarning)\n"
     ]
    },
    {
     "data": {
      "text/plain": [
       "<AxesSubplot:ylabel='Density'>"
      ]
     },
     "execution_count": 18,
     "metadata": {},
     "output_type": "execute_result"
    },
    {
     "data": {
      "image/png": "[encoded data removed]",
      "text/plain": [
       "<Figure size 432x288 with 1 Axes>"
      ]
     },
     "metadata": {
      "needs_background": "light"
     },
     "output_type": "display_data"
    }
   ],
   "source": [
    "#Cek Normalitas B Dengan histogram\n",
    "#Type your code here\n",
    "sns.distplot(B)"
   ]
  },
  {
   "cell_type": "markdown",
   "id": "10a25cf1",
   "metadata": {},
   "source": [
    "Dari data A dan B yang telah diuji dengan dibuat histogram menggunakan seaborn tidak ada yang berdistribusi normal."
   ]
  },
  {
   "cell_type": "code",
   "execution_count": 20,
   "id": "214c3b1f",
   "metadata": {},
   "outputs": [
    {
     "name": "stdout",
     "output_type": "stream",
     "text": [
      "uji kolmogorov smirnov data A =  KstestResult(statistic=0.15010032999139777, pvalue=0.8656406959340622)\n",
      "uji kolmogorov smirnov data A =  KstestResult(statistic=0.16609147661220497, pvalue=0.7771854894576767)\n"
     ]
    }
   ],
   "source": [
    "#Uji Kolmogorov-Smirnov\n",
    "z_score_A = stats.zscore(A)\n",
    "z_score_B = stats.zscore(B)\n",
    "print ('uji kolmogorov smirnov data A = ',stats.kstest(z_score_A, \"norm\"))\n",
    "print ('uji kolmogorov smirnov data A = ',stats.kstest(z_score_B, \"norm\"))"
   ]
  },
  {
   "cell_type": "markdown",
   "id": "61560f35",
   "metadata": {},
   "source": [
    "Hasil nilai p-value dari data A dan B > 0.05, sehingga kedua data adalah berdistribusi normal"
   ]
  },
  {
   "cell_type": "markdown",
   "id": "a536a978",
   "metadata": {},
   "source": [
    "# Independent Sample T-Test (Parametrik)"
   ]
  },
  {
   "cell_type": "markdown",
   "id": "83367bd6",
   "metadata": {},
   "source": [
    "Ho = Tidak ada perbedaan yang signifikan (keduanya sama)\n",
    "\n",
    "Ha = ada perbedaan yang signifikan (artinya lokasi kafe berpengaruh signifikan terhadap jumlah pengunjung)"
   ]
  },
  {
   "cell_type": "code",
   "execution_count": 22,
   "id": "ebdb9107",
   "metadata": {},
   "outputs": [
    {
     "name": "stdout",
     "output_type": "stream",
     "text": [
      "hasil uji t:  Ttest_indResult(statistic=-0.21626215417063352, pvalue=0.8304712072353047)\n"
     ]
    }
   ],
   "source": [
    "t_value = stats.ttest_ind(A, B)\n",
    "print('hasil uji t: ', t_value)"
   ]
  },
  {
   "cell_type": "markdown",
   "id": "685e3218",
   "metadata": {},
   "source": [
    "Nilai p-value = 0.83 > 0.05, artinya Ho diterima, tidak terdapat perbedaan yang signifikan antara jumlah pengunjung kafe wilayah A dan B, berarti lokasi kafe tidak berpengaruh signifikan terhadap jumlah pengunjung"
   ]
  },
  {
   "cell_type": "markdown",
   "id": "15ed0e70",
   "metadata": {},
   "source": [
    "# Uji Mann-Whitney"
   ]
  },
  {
   "cell_type": "markdown",
   "id": "6fdbb64e",
   "metadata": {},
   "source": [
    "Misalkan datanya tidak berdistribusi normal, uji beda 2 kelompok independent dapat dilakukan dengan uji Mann-whitney. Caranya"
   ]
  },
  {
   "cell_type": "code",
   "execution_count": 23,
   "id": "d4796785",
   "metadata": {},
   "outputs": [
    {
     "data": {
      "text/plain": [
       "MannwhitneyuResult(statistic=91.0, pvalue=0.7642583560538347)"
      ]
     },
     "execution_count": 23,
     "metadata": {},
     "output_type": "execute_result"
    }
   ],
   "source": [
    "stats.mannwhitneyu(A, B)"
   ]
  },
  {
   "cell_type": "markdown",
   "id": "4d63c176",
   "metadata": {},
   "source": [
    "# Latihan 2"
   ]
  },
  {
   "cell_type": "markdown",
   "id": "f243c149",
   "metadata": {},
   "source": [
    "Tulis kesimpulanmu disini apakah Ho diterima atau ditolak dan apa artinya"
   ]
  },
  {
   "cell_type": "markdown",
   "id": "65e8319c",
   "metadata": {},
   "source": [
    "Kesimpulan didapatkan dari pengujian menunjukan apabila p-value > 0.05 menyatakan data tidak berdistribusi normal atau Ho ditolak, artinya tidak ada pengaruh yang signifikan antara jumlah pengunjung kafe dengan tempat yang berbeda.\n",
    "dan sebaliknya apabila di tolak, artinya terdapat pengaruh yang signifikan antara jumlah pengunjung kafe dengan tempat yang berbeda.\n"
   ]
  },
  {
   "cell_type": "markdown",
   "id": "6e1394e1",
   "metadata": {},
   "source": [
    "# Uji Beda lebih dari 2 kelompok"
   ]
  },
  {
   "cell_type": "markdown",
   "id": "4760d8a6",
   "metadata": {},
   "source": [
    "Dalam statistik parametrik, nama metodenya adalah ANOVA. ANOVA memiliki 2 asumsi :\n",
    "\n",
    "1. Data Berdistribusi Normal\n",
    "2. Varians data homongen\n",
    "\n",
    "**Kasus**\n",
    "\n",
    "Misalkan saat ini kamu adalah menteri pendidikan yang ingin mengetahui apakah kualitas pendidikan di negara ini sudah merata atau belum. Daerah dibagi menjadi kota besar di wilayah berat, kota kecil di barat, ibukota, kota besar di wilayah timur, dan kota kecil di timur. Analisa ini dilakukan berdasarkan nilai ujian akhir SMA"
   ]
  },
  {
   "cell_type": "code",
   "execution_count": 27,
   "id": "06725cd8",
   "metadata": {},
   "outputs": [
    {
     "name": "stdout",
     "output_type": "stream",
     "text": [
      "    big_west  small_west  capital_city  big_east  small_east\n",
      "0         87          77            86        71          70\n",
      "1         75          83            90        82          76\n",
      "2         80          73            87        85          81\n",
      "3         75          82            85        89          85\n",
      "4         91          71            85        72          75\n",
      "5         89          87            96        79          75\n",
      "6         91          77            95        79          75\n",
      "7         87          84            89        85          72\n",
      "8         90          86            93        84          72\n",
      "9         94          93            91        86          75\n",
      "10        82          83            96        85          90\n",
      "(43, 5)\n"
     ]
    }
   ],
   "source": [
    "final_exam = pd.read_csv('final_exam.csv')\n",
    "print(final_exam.head(11))\n",
    "print(final_exam.shape)"
   ]
  },
  {
   "cell_type": "markdown",
   "id": "57a48820",
   "metadata": {},
   "source": [
    "# Uji Normalitas"
   ]
  },
  {
   "cell_type": "markdown",
   "id": "f33d7459",
   "metadata": {},
   "source": [
    "Ho = data berdistribusi normal\n",
    "\n",
    "Ha = data tidak berdistribusi normal"
   ]
  },
  {
   "cell_type": "code",
   "execution_count": 28,
   "id": "6653dade",
   "metadata": {},
   "outputs": [
    {
     "data": {
      "image/png": "[encoded data removed]",
      "text/plain": [
       "<Figure size 432x288 with 6 Axes>"
      ]
     },
     "metadata": {
      "needs_background": "light"
     },
     "output_type": "display_data"
    }
   ],
   "source": [
    "#Membuat histogram dari pandas dan matplotlib\n",
    "\n",
    "final_exam.hist()\n",
    "plt.show()"
   ]
  },
  {
   "cell_type": "markdown",
   "id": "07b11c7f",
   "metadata": {},
   "source": [
    "Terlihat beberapa datanya seperti tidak normal, mari kita coba uji Kolmogorov-Smirnov untuk mengeceknya"
   ]
  },
  {
   "cell_type": "code",
   "execution_count": 30,
   "id": "c5ddf0a3",
   "metadata": {},
   "outputs": [
    {
     "name": "stdout",
     "output_type": "stream",
     "text": [
      "normality for  big_west = KstestResult(statistic=0.1463623852887705, pvalue=0.28678269325815053)\n",
      "normality for  small_west = KstestResult(statistic=0.09305748870693209, pvalue=0.8171989638137918)\n",
      "normality for  capital_city = KstestResult(statistic=0.1723544820281414, pvalue=0.1379003575286657)\n",
      "normality for  small_east = KstestResult(statistic=0.11522951440351409, pvalue=0.5778423663395742)\n",
      "normality for  big_east = KstestResult(statistic=0.09709346617838455, pvalue=0.7763472906058266)\n"
     ]
    }
   ],
   "source": [
    "#Check normality using Kolmogorov-Smirnov Test\n",
    "area = ['big_west', 'small_west', 'capital_city', 'small_east', 'big_east']\n",
    "for a in area:\n",
    "  z_score = stats.zscore(final_exam[a])\n",
    "  normality = stats.kstest(z_score, 'norm', )\n",
    "  print('normality for ', a, '=', normality)"
   ]
  },
  {
   "cell_type": "markdown",
   "id": "2410ddb2",
   "metadata": {},
   "source": [
    "# Latihan 3"
   ]
  },
  {
   "cell_type": "markdown",
   "id": "b4a203c8",
   "metadata": {},
   "source": [
    "Coba simpulkan apakah artinya data berdistribusi normal?\n",
    "\n",
    "Dari hasil pengujian diatas dapat disimpulkan, bahwa hasil dari big_west, small_west, capital_city, small_east, big_east memiliki hasil p-value > 0.05 sehingga data tersebut dikatakan berdistribusi normal."
   ]
  },
  {
   "cell_type": "markdown",
   "id": "5ca70c5e",
   "metadata": {},
   "source": [
    "# Uji Homogenitas"
   ]
  },
  {
   "cell_type": "markdown",
   "id": "5ae66db9",
   "metadata": {},
   "source": [
    "Ho = varians semua kelompok cenderung sama (homogen)\n",
    "\n",
    "Ha = varians semua kelompok cenderung tidak sama (homogen)"
   ]
  },
  {
   "cell_type": "code",
   "execution_count": 32,
   "id": "849f5aeb",
   "metadata": {},
   "outputs": [
    {
     "data": {
      "text/plain": [
       "LeveneResult(statistic=0.5104303607286808, pvalue=0.728125042716542)"
      ]
     },
     "execution_count": 32,
     "metadata": {},
     "output_type": "execute_result"
    }
   ],
   "source": [
    "#Uji Homogenitas dengan Levene\n",
    "stats.levene(final_exam['big_west'], final_exam['small_west'], final_exam['capital_city']\n",
    "             , final_exam['small_east'], final_exam['big_east'])"
   ]
  },
  {
   "cell_type": "markdown",
   "id": "91acfaf0",
   "metadata": {},
   "source": [
    "Karena p-value > 0.05, maka Ho diterima sehingga asumsi homogenitas dari ANOVA sudah terpenuhi"
   ]
  },
  {
   "cell_type": "markdown",
   "id": "ec0f907e",
   "metadata": {},
   "source": [
    "# Uji ANOVA (parametrik)"
   ]
  },
  {
   "cell_type": "markdown",
   "id": "db297ec6",
   "metadata": {},
   "source": [
    "Ho = kualitas pendidikan merata (tidak ada perbedaan kualitas pendidikan yang signifikan antar wilayah)\n",
    "\n",
    "Ha = kualitas pendidikan tidak merata (ada perbedaan kualitas pendidikan yang signifikan antar wilayah)"
   ]
  },
  {
   "cell_type": "code",
   "execution_count": 34,
   "id": "7d499544",
   "metadata": {},
   "outputs": [
    {
     "data": {
      "text/plain": [
       "F_onewayResult(statistic=18.48895253915249, pvalue=4.945434101915241e-13)"
      ]
     },
     "execution_count": 34,
     "metadata": {},
     "output_type": "execute_result"
    }
   ],
   "source": [
    "stats.f_oneway(final_exam['big_west'], final_exam['small_west'], final_exam['capital_city']\n",
    "             , final_exam['small_east'], final_exam['big_east'])"
   ]
  },
  {
   "cell_type": "markdown",
   "id": "b0000060",
   "metadata": {},
   "source": [
    "Karena p-value < 0.05, maka Ho ditolak, ternyata kualitas pendidikan di negara ini belum merata. Untuk itu, kamu perlu menyelidiki wilayah dengan rata-rata terendah agar kualitas sarana pendidikan dan gurunya bisa ditingkatkan"
   ]
  },
  {
   "cell_type": "code",
   "execution_count": 35,
   "id": "a339cd8f",
   "metadata": {},
   "outputs": [
    {
     "data": {
      "text/html": [
       "<div>\n",
       "<style scoped>\n",
       "    .dataframe tbody tr th:only-of-type {\n",
       "        vertical-align: middle;\n",
       "    }\n",
       "\n",
       "    .dataframe tbody tr th {\n",
       "        vertical-align: top;\n",
       "    }\n",
       "\n",
       "    .dataframe thead th {\n",
       "        text-align: right;\n",
       "    }\n",
       "</style>\n",
       "<table border=\"1\" class=\"dataframe\">\n",
       "  <thead>\n",
       "    <tr style=\"text-align: right;\">\n",
       "      <th></th>\n",
       "      <th>big_west</th>\n",
       "      <th>small_west</th>\n",
       "      <th>capital_city</th>\n",
       "      <th>big_east</th>\n",
       "      <th>small_east</th>\n",
       "    </tr>\n",
       "  </thead>\n",
       "  <tbody>\n",
       "    <tr>\n",
       "      <th>count</th>\n",
       "      <td>43.000000</td>\n",
       "      <td>43.000000</td>\n",
       "      <td>43.000000</td>\n",
       "      <td>43.000000</td>\n",
       "      <td>43.000000</td>\n",
       "    </tr>\n",
       "    <tr>\n",
       "      <th>mean</th>\n",
       "      <td>85.325581</td>\n",
       "      <td>83.837209</td>\n",
       "      <td>88.232558</td>\n",
       "      <td>79.209302</td>\n",
       "      <td>78.627907</td>\n",
       "    </tr>\n",
       "    <tr>\n",
       "      <th>std</th>\n",
       "      <td>5.982995</td>\n",
       "      <td>7.006562</td>\n",
       "      <td>6.159921</td>\n",
       "      <td>5.667611</td>\n",
       "      <td>6.302015</td>\n",
       "    </tr>\n",
       "    <tr>\n",
       "      <th>min</th>\n",
       "      <td>70.000000</td>\n",
       "      <td>70.000000</td>\n",
       "      <td>70.000000</td>\n",
       "      <td>70.000000</td>\n",
       "      <td>63.000000</td>\n",
       "    </tr>\n",
       "    <tr>\n",
       "      <th>25%</th>\n",
       "      <td>82.000000</td>\n",
       "      <td>78.500000</td>\n",
       "      <td>85.000000</td>\n",
       "      <td>75.000000</td>\n",
       "      <td>75.000000</td>\n",
       "    </tr>\n",
       "    <tr>\n",
       "      <th>50%</th>\n",
       "      <td>87.000000</td>\n",
       "      <td>84.000000</td>\n",
       "      <td>90.000000</td>\n",
       "      <td>78.000000</td>\n",
       "      <td>80.000000</td>\n",
       "    </tr>\n",
       "    <tr>\n",
       "      <th>75%</th>\n",
       "      <td>90.000000</td>\n",
       "      <td>89.500000</td>\n",
       "      <td>93.000000</td>\n",
       "      <td>83.000000</td>\n",
       "      <td>83.000000</td>\n",
       "    </tr>\n",
       "    <tr>\n",
       "      <th>max</th>\n",
       "      <td>94.000000</td>\n",
       "      <td>95.000000</td>\n",
       "      <td>96.000000</td>\n",
       "      <td>89.000000</td>\n",
       "      <td>90.000000</td>\n",
       "    </tr>\n",
       "  </tbody>\n",
       "</table>\n",
       "</div>"
      ],
      "text/plain": [
       "        big_west  small_west  capital_city   big_east  small_east\n",
       "count  43.000000   43.000000     43.000000  43.000000   43.000000\n",
       "mean   85.325581   83.837209     88.232558  79.209302   78.627907\n",
       "std     5.982995    7.006562      6.159921   5.667611    6.302015\n",
       "min    70.000000   70.000000     70.000000  70.000000   63.000000\n",
       "25%    82.000000   78.500000     85.000000  75.000000   75.000000\n",
       "50%    87.000000   84.000000     90.000000  78.000000   80.000000\n",
       "75%    90.000000   89.500000     93.000000  83.000000   83.000000\n",
       "max    94.000000   95.000000     96.000000  89.000000   90.000000"
      ]
     },
     "execution_count": 35,
     "metadata": {},
     "output_type": "execute_result"
    }
   ],
   "source": [
    "final_exam.describe()"
   ]
  },
  {
   "cell_type": "markdown",
   "id": "5f240856",
   "metadata": {},
   "source": [
    "Ternyata nilai rata-rata di ibukota jauh diatas wilayah lain, sementara kota kecil di timur mendapat nilai rata-rata terkecil. Sebagai menteri pendidikan berarti kamu harus membuat program untuk membangun sarana pendidikan yang lebih baik dan mengirim guru-guru terbaik ke kota kecil di wilayah timur."
   ]
  },
  {
   "cell_type": "markdown",
   "id": "acb4d4e0",
   "metadata": {},
   "source": [
    "# Uji Kruskal-Wallis (nonparametrik)"
   ]
  },
  {
   "cell_type": "markdown",
   "id": "b912ca10",
   "metadata": {},
   "source": [
    "Jika datanya ternyata tidak berdistribusi normal atau tidak homogen, kamu bisa menggunakan uji Kruskal Wallis sebagai berikut"
   ]
  },
  {
   "cell_type": "code",
   "execution_count": 36,
   "id": "3d7861ec",
   "metadata": {},
   "outputs": [
    {
     "data": {
      "text/plain": [
       "KruskalResult(statistic=57.244594069662135, pvalue=1.0992920086269013e-11)"
      ]
     },
     "execution_count": 36,
     "metadata": {},
     "output_type": "execute_result"
    }
   ],
   "source": [
    "stats.kruskal(final_exam['big_west'], final_exam['small_west'], final_exam['capital_city']\n",
    "             , final_exam['small_east'], final_exam['big_east'])"
   ]
  },
  {
   "cell_type": "markdown",
   "id": "428e13d4",
   "metadata": {},
   "source": [
    "# Latihan 4"
   ]
  },
  {
   "cell_type": "markdown",
   "id": "4800efea",
   "metadata": {},
   "source": [
    "Coba bikin kesimpulan dari hasil p-value tersebut !\n",
    "\n",
    "Dari pengujian Kruskall-Wallis (nonparametrik) menghasilkan p-value < 0.05 sehingga Ho  ditolak yang mengartikan kualitas pendidikan di negara ini belom merata."
   ]
  },
  {
   "cell_type": "markdown",
   "id": "a34bacac",
   "metadata": {},
   "source": [
    "# Latihan tambahan"
   ]
  },
  {
   "cell_type": "markdown",
   "id": "e794c4d3",
   "metadata": {},
   "source": [
    "Misalkan kamu adalah data scientist di gojek. Kamu ingin mengetahui apakah kemacetan mempengaruhi tingkat kepuasan pelanggan. Jadi kamu ingin memebandingkan nilai \"bintang\" dari customer saat dia order di jam macet dan tidak macet. (#hint = data dari customer yang sama)\n",
    "\n",
    "macet = [2, 3, 5, 4, 5, 4, 4, 3, 4, 3, 4, 5, 4, 5, 4, 3, 4, 3, 3, 5, 4, 3, 4, 3, 4, 3, 4, 4, 5]\n",
    "\n",
    "tidak_macet = [2, 2, 4, 5, 4, 3, 3, 3, 3, 3, 3, 4, 4, 5, 4, 3, 3, 2, 3, 4, 4, 3, 3, 3, 4, 3, 4, 3, 4]\n",
    "\n",
    "1. Buat hipotesisnya\n",
    "2. Lakukan uji asumsi normalitasnya\n",
    "3. Jika datanya normal lakukan uji parametrik, jika tidak berdistribusi normal lakukan uji nonparametrik\n",
    "4. Apa kesimpulan uji hipotesisnya?"
   ]
  },
  {
   "cell_type": "markdown",
   "id": "3649358e",
   "metadata": {},
   "source": [
    "Jawab :\n",
    "\n",
    "**1. Buat Hipotesisnya**\n",
    "\n",
    "Data berasal dari customer yang sama dengan jumlah bintang yang berbeda pada jam macet dan tidak macet. Dari perbebedaan data terlihat order waktu macet memiliki pengaruh terhadap kepuasan customer."
   ]
  },
  {
   "cell_type": "code",
   "execution_count": 38,
   "id": "42e6c25c",
   "metadata": {},
   "outputs": [],
   "source": [
    "macet = np.array([2, 3, 5, 4, 5, 4, 4, 3, 4, 3, 4, 5, 4, 5, 4, 3, 4, 3, 3, 5, 4, 3, 4, 3, 4, 3, 4, 4, 5])\n",
    "tidak_macet = np.array([2, 2, 4, 5, 4, 3, 3, 3, 3, 3, 3, 4, 4, 5, 4, 3, 3, 2, 3, 4, 4, 3, 3, 3, 4, 3, 4, 3, 4])"
   ]
  },
  {
   "cell_type": "markdown",
   "id": "112ff9b5",
   "metadata": {},
   "source": [
    "**2.Lakukan uji asumsi normalitasnya**"
   ]
  },
  {
   "cell_type": "code",
   "execution_count": 39,
   "id": "1a6d1e56",
   "metadata": {},
   "outputs": [
    {
     "name": "stderr",
     "output_type": "stream",
     "text": [
      "C:\\Users\\Faidullah\\anaconda3\\lib\\site-packages\\seaborn\\distributions.py:2619: FutureWarning: `distplot` is a deprecated function and will be removed in a future version. Please adapt your code to use either `displot` (a figure-level function with similar flexibility) or `histplot` (an axes-level function for histograms).\n",
      "  warnings.warn(msg, FutureWarning)\n"
     ]
    },
    {
     "data": {
      "text/plain": [
       "<AxesSubplot:ylabel='Density'>"
      ]
     },
     "execution_count": 39,
     "metadata": {},
     "output_type": "execute_result"
    },
    {
     "data": {
      "image/png": "[encoded data removed]",
      "text/plain": [
       "<Figure size 432x288 with 1 Axes>"
      ]
     },
     "metadata": {
      "needs_background": "light"
     },
     "output_type": "display_data"
    }
   ],
   "source": [
    "sns.distplot(macet)"
   ]
  },
  {
   "cell_type": "code",
   "execution_count": 40,
   "id": "6a229610",
   "metadata": {},
   "outputs": [
    {
     "name": "stderr",
     "output_type": "stream",
     "text": [
      "C:\\Users\\Faidullah\\anaconda3\\lib\\site-packages\\seaborn\\distributions.py:2619: FutureWarning: `distplot` is a deprecated function and will be removed in a future version. Please adapt your code to use either `displot` (a figure-level function with similar flexibility) or `histplot` (an axes-level function for histograms).\n",
      "  warnings.warn(msg, FutureWarning)\n"
     ]
    },
    {
     "data": {
      "text/plain": [
       "<AxesSubplot:ylabel='Density'>"
      ]
     },
     "execution_count": 40,
     "metadata": {},
     "output_type": "execute_result"
    },
    {
     "data": {
      "image/png": "[encoded data removed]",
      "text/plain": [
       "<Figure size 432x288 with 1 Axes>"
      ]
     },
     "metadata": {
      "needs_background": "light"
     },
     "output_type": "display_data"
    }
   ],
   "source": [
    "sns.distplot(tidak_macet)"
   ]
  },
  {
   "cell_type": "markdown",
   "id": "36ffb5ab",
   "metadata": {},
   "source": [
    "melakukan uji dengan kolmogrov-smirnov untuk meyakikan hasil dari data histogram menunjukan terdistribusi normal atau tidak."
   ]
  },
  {
   "cell_type": "markdown",
   "id": "03b897c6",
   "metadata": {},
   "source": [
    "**Uji Kolmogorov-Smirnov**"
   ]
  },
  {
   "cell_type": "code",
   "execution_count": 42,
   "id": "a5bf4560",
   "metadata": {},
   "outputs": [
    {
     "name": "stdout",
     "output_type": "stream",
     "text": [
      "uji kolmogorov smirnov data macet =  KstestResult(statistic=0.2414618941043637, pvalue=0.05668522245349683)\n",
      "uji kolmogorov smirnov data tidak macet =  KstestResult(statistic=0.2769460572882385, pvalue=0.018550502658514323)\n"
     ]
    }
   ],
   "source": [
    "# mencari z_score \n",
    "z_score_macet = stats.zscore(macet)\n",
    "z_score_tidak_macet = stats.zscore(tidak_macet)\n",
    "print ('uji kolmogorov smirnov data macet = ',stats.kstest(z_score_macet, \"norm\"))\n",
    "print ('uji kolmogorov smirnov data tidak macet = ',stats.kstest(z_score_tidak_macet, \"norm\"))"
   ]
  },
  {
   "cell_type": "markdown",
   "id": "2c943a5d",
   "metadata": {},
   "source": [
    "dari hasil pengujian menunjukan bahwa data macet mengasilkan p-value > 0.05 sehingga dinyatakan terdistribusi normal.\n",
    "\n",
    "Untuk hasil dari data tidak macet menujukan bahwa data tidak macet menghasilkan p-value < 0.05 sehingga dinyatakan tidak terdistribusi normal."
   ]
  },
  {
   "cell_type": "markdown",
   "id": "423f5413",
   "metadata": {},
   "source": [
    "**3. Jika datanya normal lakukan uji parametrik, jika tidak berdistribusi normal lakukan uji nonparametrik**"
   ]
  },
  {
   "cell_type": "code",
   "execution_count": 44,
   "id": "4e865c62",
   "metadata": {},
   "outputs": [
    {
     "name": "stdout",
     "output_type": "stream",
     "text": [
      "hasil uji t:  Ttest_relResult(statistic=4.217756949399827, pvalue=0.00023376335151900594)\n"
     ]
    }
   ],
   "source": [
    "#Uji paired sample T-test (parametik)\n",
    "t_value = stats.ttest_rel(macet, tidak_macet)\n",
    "print('hasil uji t: ', t_value)"
   ]
  },
  {
   "cell_type": "markdown",
   "id": "58f6f9e9",
   "metadata": {},
   "source": [
    "Menunjukan bahwa p-value < 0.05 sehingga Ho ditolak dan mengartikan bahwa tidak ada pengaruh antara kepuasan customer dengan order saat macet."
   ]
  },
  {
   "cell_type": "code",
   "execution_count": 45,
   "id": "065e73b1",
   "metadata": {},
   "outputs": [
    {
     "data": {
      "text/plain": [
       "WilcoxonResult(statistic=8.0, pvalue=0.0007891129890156299)"
      ]
     },
     "execution_count": 45,
     "metadata": {},
     "output_type": "execute_result"
    }
   ],
   "source": [
    "#Uji Wilcoxon (nonparametik)\n",
    "d = macet - tidak_macet\n",
    "stats.wilcoxon(d)"
   ]
  },
  {
   "cell_type": "markdown",
   "id": "12e637c0",
   "metadata": {},
   "source": [
    "Menunjukan bahwa p-value < 0.05 sehingga Ho ditolak dan mengartikan bahwa tidak ada pengaruh antara kepuasan customer dengan order saat macet."
   ]
  },
  {
   "cell_type": "markdown",
   "id": "2695bac6",
   "metadata": {},
   "source": [
    "**4) Apa kesimpulan uji hipotesisnya?**\n",
    "\n",
    "Kesimpulan yang didapatkan dari hasil pengujian menunjukan hasil p-value < 0.05 sehingga tidak ada pengaruh dari kepuasan customer dengan waktu order saat macet atau tidak macet"
   ]
  },
  {
   "cell_type": "code",
   "execution_count": null,
   "id": "20918a1b",
   "metadata": {},
   "outputs": [],
   "source": []
  }
 ],
 "metadata": {
  "kernelspec": {
   "display_name": "Python 3 (ipykernel)",
   "language": "python",
   "name": "python3"
  },
  "language_info": {
   "codemirror_mode": {
    "name": "ipython",
    "version": 3
   },
   "file_extension": ".py",
   "mimetype": "text/x-python",
   "name": "python",
   "nbconvert_exporter": "python",
   "pygments_lexer": "ipython3",
   "version": "3.9.7"
  }
 },
 "nbformat": 4,
 "nbformat_minor": 5
}
