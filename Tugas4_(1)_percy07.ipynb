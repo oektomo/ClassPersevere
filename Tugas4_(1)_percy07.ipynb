{
 "cells": [
  {
   "cell_type": "markdown",
   "id": "2d0701e6",
   "metadata": {},
   "source": [
    "# The 4Ws of Problem Scoping \n",
    "\n",
    "Nama\t: Farah Safira Afiyah\n",
    "\n",
    "Kelas\t: Persevere\n",
    "\n",
    "Kasus\t: Cyberbullying"
   ]
  },
  {
   "cell_type": "markdown",
   "id": "c0b701ae",
   "metadata": {},
   "source": [
    "**WHO - Siapa yang memiliki masalah tersebut?**\n",
    "1) Siapa saja yang mengalami masalah tsb?\n",
    "Jawab : Pengguna sosial media, terutama pelaku cyberbullying dan korban cyberbullying.\n",
    "\n",
    "2) Siapa saja yang terlibat dalam masalah tsb?\n",
    "Jawab : Para pengguna sosial media, keluarga, dan lingkungan.\n",
    "\n",
    "3) Apa yang kamu ketahui tentang mereka?\n",
    "Jawab : Para pengguna sosial media yang melakukan cyberbullying kepada pengguna sosial media yang lain tanpa memperdulikan korban."
   ]
  },
  {
   "cell_type": "markdown",
   "id": "c47a4f8d",
   "metadata": {},
   "source": [
    "**WHAT - Apa permasalahannya sebenarnya?**\n",
    "1) Apa masalah utamanya?\n",
    "Jawab : Para pengguna sosial media yang tidak bijak dalam menggunakan sosial media sehingga mereka dengan beraninya melontarkan kata-kata tidak pantas kepada pengguna sosial media yang lain dan menyebabnya permasalahan psikologis.\n",
    "\n",
    "2) Apa faktor-faktor pendukung masalah tsb? (bisa tampilkan data/jurnal/info pendukung lainnya)\n",
    "Jawab : - faktor kepribadian dari pelaku dan korban cyberbu;;ying yang saling berkaitan sehingga memperkuat terjadinya bullying dalam teknologi komunikasi.  perilaku cyberbullying ini juga dipengaruhi oleh lingkungan sekitar. \n",
    "- Lingkungan keluarga dan sekolah merupakan hal yang krusial dalam pembentukan kepribadian seseorang. Pengalaman yang kurang bahagia, ketidakharmonisan keluarga, kekerasan, dan kurangnya perhatian pada masa kecil bisa menjadikan orang tersebut sebagai “Attention Seeker”, dimana orang tersebut melakukan hal-hal apapun agar dirinya diperhatikan. Situasi lingkungan yang kurang memberikan perhatian menjadikan pelaku tersebut memiliki pemikiran yang salah. Bahwa dengan melakukan bullying dapat membuatnya diperhatikan dan diakui. Namun, ia menggunakan media sosial dan internet untuk mem-bully orang lain karena tidak berani melakukannya secara langsung.\n",
    "- Teknologi yang menyediakan ruang untuk memberikan pendapat serta mengizinkan orang untuk menggunakan akun tak bernama. Sehingga, para pelaku dapat menyamarkan aksi mereka dan membuat rasa aman untuk tidak tertangkap di dunia nyata. Kecepatan hitungan detik informasi dipublikasikan, disebar, dan dibaca oleh orang juga menjadikan pemicu maraknya cyberbullying.\n",
    "- Seseorang bisa saja terpaksa mengeluarkan kata-kata buruk sebagai reaksi dari aksi. Namun, orang yang melihatnya langsung menghakimi orang tersebut sebagai pelaku cyberbullying yang sangat jahat, karena mereka hanya mengetahui reaksi tersebut tanpa mengetahui apa yang mengawalinya. Kebanyakan kasus dalam sosial media memang diawali dengan hanya sebatas membalas komentar impulsif dan emosional yang melecehkan seseorang atau diawali dengan seseorang yang memberikan pernyataan yang tidak dapat diterima oleh masyarakat."
   ]
  },
  {
   "cell_type": "markdown",
   "id": "80b29db8",
   "metadata": {},
   "source": [
    "**WHERE - Dimana/pada saat apa permasalahan ini muncul?**\n",
    "1) Dimana saja si calon “user” mengalami masalah ini?\n",
    "Jawab : Dapat terjadi di sosial media, platform chatting, platform bermain game, dan platform komunikasi lainnya.\n",
    "\n",
    "2) Pada kondisi seperti apa si calon “user” mengalami masalah ini?\n",
    "Jawab : Saat pelaku cyberbullying merasa dirinya diabaikan sehingga menyerang sebagai cara untuk menarik perhatian dan saat pelaku tidak dapat mengontrol emosinya sehingga sosial media dijadikannya sebagai tempat pelampiasan emosi."
   ]
  },
  {
   "cell_type": "markdown",
   "id": "b96a8bfb",
   "metadata": {},
   "source": [
    "**WHY - Mengapa kamu yakin masalah ini sangat penting dibahas?**\n",
    "1) Apa nilai utama dari permasalahan ini?\n",
    "Jawab : Cyberbullying terjadi karena tidak bijaknya pengguna dalam menggunakan sosial media sehingga terjadi cyberbullying yang dapat berdampak buruk kepada korbannya seperti masalah psikologis dan pelaku mendapatkan hukuman jika dilaporakan ke pihak berwajib.\n",
    "\n",
    "2) Bagaimana kamu bisa memperbaiki (sebagian atau seluruh) dari masalah tsb?\n",
    "Jawab : Ubah pikiran tentang bebasnya berkekspresi dan berpendapat tanpa memikirkan orang lain. Ketika menggunakan sosial media harus bijak seperti berpikir sebelum di share untuk menghindari terjadinya cyberbullying dan ketika anak dibawah umur yang menggunakan sosial media sangat dibutuhkan pengawasan orang tua."
   ]
  },
  {
   "cell_type": "markdown",
   "id": "867b8cee",
   "metadata": {},
   "source": [
    "**Ringkasan**\n",
    "\n",
    "**Subjek** : Pengguna media sosial atau pelaku dan korban cyberbullying.\n",
    "\n",
    "**Punya masalah berupa** : Tidak bijaknya pengguna sosial media karena tanpa berpikir panjang dalam berkomentar sehingga terjadinya cyberbullying yang menyebabkan masalah psikologis bagi korban cyberbullying.\n",
    "\n",
    "**Pada saat** : pengguna sosial media merasa dirinya diabaikan sehingga menyerang pengguna sosial media lainnya sebagai cara untuk menarik perhatian dan saat pelaku tidak dapat mengontrol emosinya sehingga sosial media dijadikannya sebagai tempat pelampiasan emosi.\n",
    "\n",
    "**Solusi idealnya** : Ubah pikiran tentang bebasnya berkekspresi dan berpendapat tanpa memikirkan orang lain. Ketika menggunakan sosial media harus bijak seperti berpikir sebelum di share untuk menghindari terjadinya cyberbullying dan ketika anak dibawah umur yang menggunakan sosial media sangat dibutuhkan pengawasan orang tua."
   ]
  },
  {
   "cell_type": "code",
   "execution_count": null,
   "id": "784dfaa2",
   "metadata": {},
   "outputs": [],
   "source": []
  }
 ],
 "metadata": {
  "kernelspec": {
   "display_name": "Python 3 (ipykernel)",
   "language": "python",
   "name": "python3"
  },
  "language_info": {
   "codemirror_mode": {
    "name": "ipython",
    "version": 3
   },
   "file_extension": ".py",
   "mimetype": "text/x-python",
   "name": "python",
   "nbconvert_exporter": "python",
   "pygments_lexer": "ipython3",
   "version": "3.9.7"
  }
 },
 "nbformat": 4,
 "nbformat_minor": 5
}
