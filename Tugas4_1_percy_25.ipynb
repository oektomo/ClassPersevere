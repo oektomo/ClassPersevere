{
  "nbformat": 4,
  "nbformat_minor": 0,
  "metadata": {
    "colab": {
      "name": "Tugas4_1_percy 25.ipynb",
      "provenance": []
    },
    "kernelspec": {
      "name": "python3",
      "display_name": "Python 3"
    },
    "language_info": {
      "name": "python"
    }
  },
  "cells": [
    {
      "cell_type": "markdown",
      "source": [
        "Sebelum lanjut, untuk pengguna google colab harap lakukan save a copy in drive dulu ya. Di latihan ini kita akan bahas contoh kasus :     \n",
        "\n",
        "1. Uji beda 2 kelompok berhubungan\n",
        "2. Uji beda 2 kelompok independent\n",
        "3. Uji beda lebih dari 2 kelompok\n",
        "\n",
        "keduanya akan dilakukan secara parametrik dan nonparametrik\n",
        "\n",
        "\n"
      ],
      "metadata": {
        "id": "HCqCywDMy1TF"
      }
    },
    {
      "cell_type": "code",
      "source": [
        "#Import all library needed\n",
        "\n",
        "import matplotlib.pyplot as plt\n",
        "import pandas as pd\n",
        "import seaborn as sns\n",
        "import numpy as np\n",
        "from scipy import stats"
      ],
      "metadata": {
        "id": "28eWamUA03hf"
      },
      "execution_count": 15,
      "outputs": []
    },
    {
      "cell_type": "markdown",
      "source": [
        "# Uji beda 2 kelompok berhubungan\n",
        "\n",
        "Diketahui nilai mahasiswa saat belajar offline dan online sebagai berikut (dalam skala 10)\n",
        "\n",
        "offline = [10, 9, 7, 8, 7, 8, 9, 9, 8, 7, 7, 7, 8, 8, 9, 8, 8, 8, 8, 8, 9]\n",
        "\n",
        "online = [8, 8, 7, 7, 6, 7, 7, 7, 7, 6, 6, 6, 6, 7, 8, 7, 8, 7, 8, 7, 8]"
      ],
      "metadata": {
        "id": "mDCme7rLzBfA"
      }
    },
    {
      "cell_type": "code",
      "execution_count": 16,
      "metadata": {
        "id": "UeVSiRwUyxDN"
      },
      "outputs": [],
      "source": [
        "#Data\n",
        "offline = np.array([10, 9, 7, 8, 7, 8, 9, 9, 8, 7, 7, 7, 8, 8, 9, 8, 8, 8, 8, 8, 9])\n",
        "online = np.array([8, 8, 7, 7, 6, 7, 7, 7, 7, 6, 6, 6, 6, 7, 8, 7, 8, 7, 8, 7, 8])"
      ]
    },
    {
      "cell_type": "markdown",
      "source": [
        "## Uji Normalitas\n",
        "Ho = data berdistribusi normal\n",
        "\n",
        "Ha = data tidak berdistribusi normal"
      ],
      "metadata": {
        "id": "IR34knja1Gw-"
      }
    },
    {
      "cell_type": "code",
      "source": [
        "#Dengan histogram\n",
        "sns.distplot(offline)"
      ],
      "metadata": {
        "colab": {
          "base_uri": "https://localhost:8080/",
          "height": 337
        },
        "id": "PgbdEI1DBEic",
        "outputId": "2a40c84c-16f1-499d-dc01-37cb28cd1321"
      },
      "execution_count": 17,
      "outputs": [
        {
          "output_type": "stream",
          "name": "stderr",
          "text": [
            "/usr/local/lib/python3.7/dist-packages/seaborn/distributions.py:2619: FutureWarning: `distplot` is a deprecated function and will be removed in a future version. Please adapt your code to use either `displot` (a figure-level function with similar flexibility) or `histplot` (an axes-level function for histograms).\n",
            "  warnings.warn(msg, FutureWarning)\n"
          ]
        },
        {
          "output_type": "execute_result",
          "data": {
            "text/plain": [
              "<matplotlib.axes._subplots.AxesSubplot at 0x7f6c081425d0>"
            ]
          },
          "metadata": {},
          "execution_count": 17
        },
        {
          "output_type": "display_data",
          "data": {
            "text/plain": [
              "<Figure size 432x288 with 1 Axes>"
            ],
            "image/png": "[encoded data removed]"
          },
          "metadata": {
            "needs_background": "light"
          }
        }
      ]
    },
    {
      "cell_type": "code",
      "source": [
        "#Dengan histogram\n",
        "sns.distplot(online)"
      ],
      "metadata": {
        "colab": {
          "base_uri": "https://localhost:8080/",
          "height": 337
        },
        "id": "p_z6yzJlBR1i",
        "outputId": "386d3c5c-ecb2-4000-c545-5954cdd77033"
      },
      "execution_count": 18,
      "outputs": [
        {
          "output_type": "stream",
          "name": "stderr",
          "text": [
            "/usr/local/lib/python3.7/dist-packages/seaborn/distributions.py:2619: FutureWarning: `distplot` is a deprecated function and will be removed in a future version. Please adapt your code to use either `displot` (a figure-level function with similar flexibility) or `histplot` (an axes-level function for histograms).\n",
            "  warnings.warn(msg, FutureWarning)\n"
          ]
        },
        {
          "output_type": "execute_result",
          "data": {
            "text/plain": [
              "<matplotlib.axes._subplots.AxesSubplot at 0x7f6c07fcda10>"
            ]
          },
          "metadata": {},
          "execution_count": 18
        },
        {
          "output_type": "display_data",
          "data": {
            "text/plain": [
              "<Figure size 432x288 with 1 Axes>"
            ],
            "image/png": "[encoded data removed]"
          },
          "metadata": {
            "needs_background": "light"
          }
        }
      ]
    },
    {
      "cell_type": "markdown",
      "source": [
        "Berdasarkan histogram, data berbentuk seperti lonceng dengan rata-rata pas di tengah, sehingga bisa kita simpulkan data berdistribusi normal berdasarkan histogram, mari coba dengan uji kolmogorov smirnov"
      ],
      "metadata": {
        "id": "A_Iv_GykB6eT"
      }
    },
    {
      "cell_type": "code",
      "source": [
        "#Uji Kolmogorov-Smirnov\n",
        "z_score_offline = stats.zscore(offline)\n",
        "z_score_online = stats.zscore(online)\n",
        "print('uji kolmogorov smirnov data offline = ', stats.kstest(z_score_offline, \"norm\"))\n",
        "print('uji kolmogorov smirnov data online = ', stats.kstest(z_score_online, \"norm\"))"
      ],
      "metadata": {
        "colab": {
          "base_uri": "https://localhost:8080/"
        },
        "id": "C27n7gwt1LPC",
        "outputId": "fb731f4c-5384-4d2b-96f7-9238c063d64f"
      },
      "execution_count": 19,
      "outputs": [
        {
          "output_type": "stream",
          "name": "stdout",
          "text": [
            "uji kolmogorov smirnov data offline =  KstestResult(statistic=0.26103162250727835, pvalue=0.09451762212928216)\n",
            "uji kolmogorov smirnov data online =  KstestResult(statistic=0.2405721397434657, pvalue=0.14871291095568448)\n"
          ]
        }
      ]
    },
    {
      "cell_type": "markdown",
      "source": [
        "Karena kedua nilai p-value > 0.05, maka Ho diterima, data berdistribusi normal"
      ],
      "metadata": {
        "id": "DOqWrjGD26nd"
      }
    },
    {
      "cell_type": "markdown",
      "source": [
        "## Paired Sample T-Test (Parametrik)"
      ],
      "metadata": {
        "id": "sx48qnJK3Rbv"
      }
    },
    {
      "cell_type": "markdown",
      "source": [
        "Ho = Tidak ada perbedaan yang signifikan (keduanya sama)\n",
        "\n",
        "Ha = ada perbedaan yang signifikan (artinya metode pembelajaran offline/online mempengaruhi nilai siswa)"
      ],
      "metadata": {
        "id": "nYXo8Ejw3vst"
      }
    },
    {
      "cell_type": "code",
      "source": [
        "t_value = stats.ttest_rel(offline, online)\n",
        "print('hasil uji t: ', t_value)"
      ],
      "metadata": {
        "colab": {
          "base_uri": "https://localhost:8080/"
        },
        "id": "Dwx1qelT2Cea",
        "outputId": "a98ba468-5d6a-44b1-c38f-ab146efc6b8f"
      },
      "execution_count": 20,
      "outputs": [
        {
          "output_type": "stream",
          "name": "stdout",
          "text": [
            "hasil uji t:  Ttest_relResult(statistic=8.142565312173659, pvalue=8.863159783400271e-08)\n"
          ]
        }
      ]
    },
    {
      "cell_type": "markdown",
      "source": [
        "karena p-value = 5.9 x 10^(-7) < 0.05, maka Ho ditolak, terdapat perbedaan yang signifikan dari nilai mahasiswa, metode pembelajaran offline/online berpengaruh signifikan terhadap nilai siswa"
      ],
      "metadata": {
        "id": "u9hbIb6z3mPE"
      }
    },
    {
      "cell_type": "markdown",
      "source": [
        "## Uji Wilcoxon (nonparametrik)\n",
        "\n",
        "Misalkan datanya tidak berdistribusi normal, uji beda 2 kelompok berhubungan dapat dilakukan dengan uji wilcoxon. Caranya"
      ],
      "metadata": {
        "id": "cA1pIyI3rk5x"
      }
    },
    {
      "cell_type": "code",
      "source": [
        "d = offline - online\n",
        "stats.wilcoxon(d)"
      ],
      "metadata": {
        "colab": {
          "base_uri": "https://localhost:8080/"
        },
        "id": "SYlqqcv8rkZ4",
        "outputId": "0ac5fe9f-3602-4d7c-e611-32fd9b64e78d"
      },
      "execution_count": 21,
      "outputs": [
        {
          "output_type": "execute_result",
          "data": {
            "text/plain": [
              "WilcoxonResult(statistic=0.0, pvalue=7.897245521335617e-05)"
            ]
          },
          "metadata": {},
          "execution_count": 21
        }
      ]
    },
    {
      "cell_type": "markdown",
      "source": [
        "karena p-value = 7.897 x 10^(-5) < 0.05, maka Ho ditolak, terdapat perbedaan yang signifikan dari nilai mahasiswa, metode pembelajaran offline/online berpengaruh signifikan terhadap nilai siswa"
      ],
      "metadata": {
        "id": "AFlex04usPOC"
      }
    },
    {
      "cell_type": "markdown",
      "source": [
        "# Uji Beda 2 kelompok independent\n",
        "\n",
        "Misalkan seorang CEO kafe ingin mengetahui apakah ada perbedaan yang signifikan antara jumlah pengunjung kafe di wilayah A dan B selama 2 minggu terakhir\n",
        "\n",
        "A = [27, 29, 27, 32, 34, 38, 39, 27, 30, 32, 34, 36, 38, 40]\n",
        "\n",
        "B = [29, 30, 29, 27, 30, 40, 39, 28, 30, 26, 27, 28, 39, 39]"
      ],
      "metadata": {
        "id": "RpSRjEeB4pgf"
      }
    },
    {
      "cell_type": "code",
      "source": [
        "A = np.array([27, 29, 27, 32, 34, 38, 39, 27, 30, 32, 34, 36, 38, 40])\n",
        "B = np.array([28, 30, 29, 35, 34, 37, 39, 28, 30, 32, 33, 35, 39, 39])"
      ],
      "metadata": {
        "id": "qvrjYCi2CSiE"
      },
      "execution_count": 22,
      "outputs": []
    },
    {
      "cell_type": "markdown",
      "source": [
        "## Latihan 1\n",
        "Coba lihat lagi cara uji normalitas di atas, coba lakukan pada data A dan B"
      ],
      "metadata": {
        "id": "kwO4jXsMEW6l"
      }
    },
    {
      "cell_type": "markdown",
      "source": [
        "## Uji Normalitas\n",
        "Ho = data berdistribusi normal\n",
        "\n",
        "Ha = data tidak berdistribusi normal"
      ],
      "metadata": {
        "id": "zzKz0ETAA74J"
      }
    },
    {
      "cell_type": "code",
      "source": [
        "#Cek Normalitas A Dengan histogram\n",
        "sns.distplot(A)"
      ],
      "metadata": {
        "id": "lpCnk3_XCMld",
        "colab": {
          "base_uri": "https://localhost:8080/",
          "height": 339
        },
        "outputId": "d6dee378-8ce8-4bb7-e585-e3d649f83ce3"
      },
      "execution_count": 23,
      "outputs": [
        {
          "output_type": "stream",
          "name": "stderr",
          "text": [
            "/usr/local/lib/python3.7/dist-packages/seaborn/distributions.py:2619: FutureWarning: `distplot` is a deprecated function and will be removed in a future version. Please adapt your code to use either `displot` (a figure-level function with similar flexibility) or `histplot` (an axes-level function for histograms).\n",
            "  warnings.warn(msg, FutureWarning)\n"
          ]
        },
        {
          "output_type": "execute_result",
          "data": {
            "text/plain": [
              "<matplotlib.axes._subplots.AxesSubplot at 0x7f6c07fa4510>"
            ]
          },
          "metadata": {},
          "execution_count": 23
        },
        {
          "output_type": "display_data",
          "data": {
            "text/plain": [
              "<Figure size 432x288 with 1 Axes>"
            ],
            "image/png": "[encoded data removed]"
          },
          "metadata": {
            "needs_background": "light"
          }
        }
      ]
    },
    {
      "cell_type": "code",
      "source": [
        "#Cek Normalitas B Dengan histogram\n",
        "sns.distplot(B)"
      ],
      "metadata": {
        "id": "qgXpG1rw3kPy",
        "colab": {
          "base_uri": "https://localhost:8080/",
          "height": 337
        },
        "outputId": "783838ea-2543-4822-a967-721b698b0de6"
      },
      "execution_count": 24,
      "outputs": [
        {
          "output_type": "stream",
          "name": "stderr",
          "text": [
            "/usr/local/lib/python3.7/dist-packages/seaborn/distributions.py:2619: FutureWarning: `distplot` is a deprecated function and will be removed in a future version. Please adapt your code to use either `displot` (a figure-level function with similar flexibility) or `histplot` (an axes-level function for histograms).\n",
            "  warnings.warn(msg, FutureWarning)\n"
          ]
        },
        {
          "output_type": "execute_result",
          "data": {
            "text/plain": [
              "<matplotlib.axes._subplots.AxesSubplot at 0x7f6c07f2c310>"
            ]
          },
          "metadata": {},
          "execution_count": 24
        },
        {
          "output_type": "display_data",
          "data": {
            "text/plain": [
              "<Figure size 432x288 with 1 Axes>"
            ],
            "image/png": "[encoded data removed]"
          },
          "metadata": {
            "needs_background": "light"
          }
        }
      ]
    },
    {
      "cell_type": "code",
      "source": [
        "#Uji Kolmogorov-Smirnov\n",
        "z_score_A = stats.zscore(A)\n",
        "z_score_B = stats.zscore(B)\n",
        "print('uji kolmogorov smirnov data A = ', stats.kstest(z_score_A, \"norm\"))\n",
        "print('uji kolmogorov smirnov data B = ', stats.kstest(z_score_B, \"norm\"))"
      ],
      "metadata": {
        "id": "DtSYWoPbEO-L",
        "colab": {
          "base_uri": "https://localhost:8080/"
        },
        "outputId": "5d6f4cb1-dba7-4344-90a8-ccf56ea358cd"
      },
      "execution_count": 25,
      "outputs": [
        {
          "output_type": "stream",
          "name": "stdout",
          "text": [
            "uji kolmogorov smirnov data A =  KstestResult(statistic=0.15010032999139777, pvalue=0.9106696943287013)\n",
            "uji kolmogorov smirnov data B =  KstestResult(statistic=0.16609147661220497, pvalue=0.8346609194732189)\n"
          ]
        }
      ]
    },
    {
      "cell_type": "markdown",
      "source": [
        "Apakah keduanya berdistribusi normal? bagaimana kamu mengetahuinya? ya, gambar histogram seperti lonceng dan kedua p-value>0.05"
      ],
      "metadata": {
        "id": "A5we2KvpA7pX"
      }
    },
    {
      "cell_type": "markdown",
      "source": [
        "## Independent Sample T-Test (Parametrik)\n",
        "Ho = Tidak ada perbedaan yang signifikan (keduanya sama)\n",
        "\n",
        "Ha = ada perbedaan yang signifikan (artinya lokasi kafe berpengaruh signifikan terhadap jumlah pengunjung)"
      ],
      "metadata": {
        "id": "bOOsod3VE4Na"
      }
    },
    {
      "cell_type": "code",
      "source": [
        "t_value = stats.ttest_ind(A, B)\n",
        "print('hasil uji t: ', t_value)"
      ],
      "metadata": {
        "colab": {
          "base_uri": "https://localhost:8080/"
        },
        "id": "-3e4aA7qI_1W",
        "outputId": "b2d91364-8bd0-4af3-a23b-bc809f4a4bfe"
      },
      "execution_count": 26,
      "outputs": [
        {
          "output_type": "stream",
          "name": "stdout",
          "text": [
            "hasil uji t:  Ttest_indResult(statistic=-0.21626215417063352, pvalue=0.8304712072353047)\n"
          ]
        }
      ]
    },
    {
      "cell_type": "markdown",
      "source": [
        "Nilai p-value = 0.83 > 0.05, artinya Ho diterima, tidak terdapat perbedaan yang signifikan antara jumlah pengunjung kafe wilayah A dan B, berarti lokasi kafe tidak berpengaruh signifikan terhadap jumlah pengunjung"
      ],
      "metadata": {
        "id": "1ArraBntuw24"
      }
    },
    {
      "cell_type": "markdown",
      "source": [
        "## Uji Mann-Whitney\n",
        "Misalkan datanya tidak berdistribusi normal, uji beda 2 kelompok independent dapat dilakukan dengan uji Mann-whitney. Caranya"
      ],
      "metadata": {
        "id": "OfRcnxcxsqRR"
      }
    },
    {
      "cell_type": "code",
      "source": [
        "stats.mannwhitneyu(A, B)"
      ],
      "metadata": {
        "colab": {
          "base_uri": "https://localhost:8080/"
        },
        "id": "FjuxsjDaspqZ",
        "outputId": "af87b9fe-2fd9-4688-948a-fc8f4c1b1a6f"
      },
      "execution_count": 27,
      "outputs": [
        {
          "output_type": "execute_result",
          "data": {
            "text/plain": [
              "MannwhitneyuResult(statistic=91.0, pvalue=0.38212917802691737)"
            ]
          },
          "metadata": {},
          "execution_count": 27
        }
      ]
    },
    {
      "cell_type": "markdown",
      "source": [
        "## Latihan 2\n",
        "Nilai p-value = 0.38 > 0.05, artinya Ho diterima, tidak terdapat perbedaan yang signifikan antara jumlah pengunjung kafe wilayah A dan B, berarti lokasi kafe tidak berpengaruh signifikan terhadap jumlah pengunjung"
      ],
      "metadata": {
        "id": "i4fiWQaruswm"
      }
    },
    {
      "cell_type": "markdown",
      "source": [
        "# Uji Beda lebih dari 2 kelompok\n",
        "\n",
        "Dalam statistik parametrik, nama metodenya adalah ANOVA. ANOVA memiliki 2 asumsi :    \n",
        "1. Data Berdistribusi Normal\n",
        "2. Varians data homongen\n",
        "\n",
        "**Kasus**\n",
        "\n",
        "Misalkan saat ini kamu adalah menteri pendidikan yang ingin mengetahui apakah kualitas pendidikan di negara ini sudah merata atau belum. Daerah dibagi menjadi kota besar di wilayah berat, kota kecil di barat, ibukota, kota besar di wilayah timur, dan kota kecil di timur. Analisa ini dilakukan berdasarkan nilai ujian akhir SMA"
      ],
      "metadata": {
        "id": "ih4kHW-sX4zZ"
      }
    },
    {
      "cell_type": "code",
      "source": [
        "final_exam = pd.read_csv('final_exam.csv')\n",
        "final_exam"
      ],
      "metadata": {
        "colab": {
          "base_uri": "https://localhost:8080/",
          "height": 328
        },
        "id": "pbpSB4THJUD-",
        "outputId": "50f759e3-bb17-4692-d0cb-5718b0ef9ba6"
      },
      "execution_count": 28,
      "outputs": [
        {
          "output_type": "error",
          "ename": "FileNotFoundError",
          "evalue": "ignored",
          "traceback": [
            "\u001b[0;31m---------------------------------------------------------------------------\u001b[0m",
            "\u001b[0;31mFileNotFoundError\u001b[0m                         Traceback (most recent call last)",
            "\u001b[0;32m<ipython-input-28-549262e81f78>\u001b[0m in \u001b[0;36m<module>\u001b[0;34m()\u001b[0m\n\u001b[0;32m----> 1\u001b[0;31m \u001b[0mfinal_exam\u001b[0m \u001b[0;34m=\u001b[0m \u001b[0mpd\u001b[0m\u001b[0;34m.\u001b[0m\u001b[0mread_csv\u001b[0m\u001b[0;34m(\u001b[0m\u001b[0;34m'final_exam.csv'\u001b[0m\u001b[0;34m)\u001b[0m\u001b[0;34m\u001b[0m\u001b[0;34m\u001b[0m\u001b[0m\n\u001b[0m\u001b[1;32m      2\u001b[0m \u001b[0mfinal_exam\u001b[0m\u001b[0;34m\u001b[0m\u001b[0;34m\u001b[0m\u001b[0m\n",
            "\u001b[0;32m/usr/local/lib/python3.7/dist-packages/pandas/util/_decorators.py\u001b[0m in \u001b[0;36mwrapper\u001b[0;34m(*args, **kwargs)\u001b[0m\n\u001b[1;32m    309\u001b[0m                     \u001b[0mstacklevel\u001b[0m\u001b[0;34m=\u001b[0m\u001b[0mstacklevel\u001b[0m\u001b[0;34m,\u001b[0m\u001b[0;34m\u001b[0m\u001b[0;34m\u001b[0m\u001b[0m\n\u001b[1;32m    310\u001b[0m                 )\n\u001b[0;32m--> 311\u001b[0;31m             \u001b[0;32mreturn\u001b[0m \u001b[0mfunc\u001b[0m\u001b[0;34m(\u001b[0m\u001b[0;34m*\u001b[0m\u001b[0margs\u001b[0m\u001b[0;34m,\u001b[0m \u001b[0;34m**\u001b[0m\u001b[0mkwargs\u001b[0m\u001b[0;34m)\u001b[0m\u001b[0;34m\u001b[0m\u001b[0;34m\u001b[0m\u001b[0m\n\u001b[0m\u001b[1;32m    312\u001b[0m \u001b[0;34m\u001b[0m\u001b[0m\n\u001b[1;32m    313\u001b[0m         \u001b[0;32mreturn\u001b[0m \u001b[0mwrapper\u001b[0m\u001b[0;34m\u001b[0m\u001b[0;34m\u001b[0m\u001b[0m\n",
            "\u001b[0;32m/usr/local/lib/python3.7/dist-packages/pandas/io/parsers/readers.py\u001b[0m in \u001b[0;36mread_csv\u001b[0;34m(filepath_or_buffer, sep, delimiter, header, names, index_col, usecols, squeeze, prefix, mangle_dupe_cols, dtype, engine, converters, true_values, false_values, skipinitialspace, skiprows, skipfooter, nrows, na_values, keep_default_na, na_filter, verbose, skip_blank_lines, parse_dates, infer_datetime_format, keep_date_col, date_parser, dayfirst, cache_dates, iterator, chunksize, compression, thousands, decimal, lineterminator, quotechar, quoting, doublequote, escapechar, comment, encoding, encoding_errors, dialect, error_bad_lines, warn_bad_lines, on_bad_lines, delim_whitespace, low_memory, memory_map, float_precision, storage_options)\u001b[0m\n\u001b[1;32m    584\u001b[0m     \u001b[0mkwds\u001b[0m\u001b[0;34m.\u001b[0m\u001b[0mupdate\u001b[0m\u001b[0;34m(\u001b[0m\u001b[0mkwds_defaults\u001b[0m\u001b[0;34m)\u001b[0m\u001b[0;34m\u001b[0m\u001b[0;34m\u001b[0m\u001b[0m\n\u001b[1;32m    585\u001b[0m \u001b[0;34m\u001b[0m\u001b[0m\n\u001b[0;32m--> 586\u001b[0;31m     \u001b[0;32mreturn\u001b[0m \u001b[0m_read\u001b[0m\u001b[0;34m(\u001b[0m\u001b[0mfilepath_or_buffer\u001b[0m\u001b[0;34m,\u001b[0m \u001b[0mkwds\u001b[0m\u001b[0;34m)\u001b[0m\u001b[0;34m\u001b[0m\u001b[0;34m\u001b[0m\u001b[0m\n\u001b[0m\u001b[1;32m    587\u001b[0m \u001b[0;34m\u001b[0m\u001b[0m\n\u001b[1;32m    588\u001b[0m \u001b[0;34m\u001b[0m\u001b[0m\n",
            "\u001b[0;32m/usr/local/lib/python3.7/dist-packages/pandas/io/parsers/readers.py\u001b[0m in \u001b[0;36m_read\u001b[0;34m(filepath_or_buffer, kwds)\u001b[0m\n\u001b[1;32m    480\u001b[0m \u001b[0;34m\u001b[0m\u001b[0m\n\u001b[1;32m    481\u001b[0m     \u001b[0;31m# Create the parser.\u001b[0m\u001b[0;34m\u001b[0m\u001b[0;34m\u001b[0m\u001b[0;34m\u001b[0m\u001b[0m\n\u001b[0;32m--> 482\u001b[0;31m     \u001b[0mparser\u001b[0m \u001b[0;34m=\u001b[0m \u001b[0mTextFileReader\u001b[0m\u001b[0;34m(\u001b[0m\u001b[0mfilepath_or_buffer\u001b[0m\u001b[0;34m,\u001b[0m \u001b[0;34m**\u001b[0m\u001b[0mkwds\u001b[0m\u001b[0;34m)\u001b[0m\u001b[0;34m\u001b[0m\u001b[0;34m\u001b[0m\u001b[0m\n\u001b[0m\u001b[1;32m    483\u001b[0m \u001b[0;34m\u001b[0m\u001b[0m\n\u001b[1;32m    484\u001b[0m     \u001b[0;32mif\u001b[0m \u001b[0mchunksize\u001b[0m \u001b[0;32mor\u001b[0m \u001b[0miterator\u001b[0m\u001b[0;34m:\u001b[0m\u001b[0;34m\u001b[0m\u001b[0;34m\u001b[0m\u001b[0m\n",
            "\u001b[0;32m/usr/local/lib/python3.7/dist-packages/pandas/io/parsers/readers.py\u001b[0m in \u001b[0;36m__init__\u001b[0;34m(self, f, engine, **kwds)\u001b[0m\n\u001b[1;32m    809\u001b[0m             \u001b[0mself\u001b[0m\u001b[0;34m.\u001b[0m\u001b[0moptions\u001b[0m\u001b[0;34m[\u001b[0m\u001b[0;34m\"has_index_names\"\u001b[0m\u001b[0;34m]\u001b[0m \u001b[0;34m=\u001b[0m \u001b[0mkwds\u001b[0m\u001b[0;34m[\u001b[0m\u001b[0;34m\"has_index_names\"\u001b[0m\u001b[0;34m]\u001b[0m\u001b[0;34m\u001b[0m\u001b[0;34m\u001b[0m\u001b[0m\n\u001b[1;32m    810\u001b[0m \u001b[0;34m\u001b[0m\u001b[0m\n\u001b[0;32m--> 811\u001b[0;31m         \u001b[0mself\u001b[0m\u001b[0;34m.\u001b[0m\u001b[0m_engine\u001b[0m \u001b[0;34m=\u001b[0m \u001b[0mself\u001b[0m\u001b[0;34m.\u001b[0m\u001b[0m_make_engine\u001b[0m\u001b[0;34m(\u001b[0m\u001b[0mself\u001b[0m\u001b[0;34m.\u001b[0m\u001b[0mengine\u001b[0m\u001b[0;34m)\u001b[0m\u001b[0;34m\u001b[0m\u001b[0;34m\u001b[0m\u001b[0m\n\u001b[0m\u001b[1;32m    812\u001b[0m \u001b[0;34m\u001b[0m\u001b[0m\n\u001b[1;32m    813\u001b[0m     \u001b[0;32mdef\u001b[0m \u001b[0mclose\u001b[0m\u001b[0;34m(\u001b[0m\u001b[0mself\u001b[0m\u001b[0;34m)\u001b[0m\u001b[0;34m:\u001b[0m\u001b[0;34m\u001b[0m\u001b[0;34m\u001b[0m\u001b[0m\n",
            "\u001b[0;32m/usr/local/lib/python3.7/dist-packages/pandas/io/parsers/readers.py\u001b[0m in \u001b[0;36m_make_engine\u001b[0;34m(self, engine)\u001b[0m\n\u001b[1;32m   1038\u001b[0m             )\n\u001b[1;32m   1039\u001b[0m         \u001b[0;31m# error: Too many arguments for \"ParserBase\"\u001b[0m\u001b[0;34m\u001b[0m\u001b[0;34m\u001b[0m\u001b[0;34m\u001b[0m\u001b[0m\n\u001b[0;32m-> 1040\u001b[0;31m         \u001b[0;32mreturn\u001b[0m \u001b[0mmapping\u001b[0m\u001b[0;34m[\u001b[0m\u001b[0mengine\u001b[0m\u001b[0;34m]\u001b[0m\u001b[0;34m(\u001b[0m\u001b[0mself\u001b[0m\u001b[0;34m.\u001b[0m\u001b[0mf\u001b[0m\u001b[0;34m,\u001b[0m \u001b[0;34m**\u001b[0m\u001b[0mself\u001b[0m\u001b[0;34m.\u001b[0m\u001b[0moptions\u001b[0m\u001b[0;34m)\u001b[0m  \u001b[0;31m# type: ignore[call-arg]\u001b[0m\u001b[0;34m\u001b[0m\u001b[0;34m\u001b[0m\u001b[0m\n\u001b[0m\u001b[1;32m   1041\u001b[0m \u001b[0;34m\u001b[0m\u001b[0m\n\u001b[1;32m   1042\u001b[0m     \u001b[0;32mdef\u001b[0m \u001b[0m_failover_to_python\u001b[0m\u001b[0;34m(\u001b[0m\u001b[0mself\u001b[0m\u001b[0;34m)\u001b[0m\u001b[0;34m:\u001b[0m\u001b[0;34m\u001b[0m\u001b[0;34m\u001b[0m\u001b[0m\n",
            "\u001b[0;32m/usr/local/lib/python3.7/dist-packages/pandas/io/parsers/c_parser_wrapper.py\u001b[0m in \u001b[0;36m__init__\u001b[0;34m(self, src, **kwds)\u001b[0m\n\u001b[1;32m     49\u001b[0m \u001b[0;34m\u001b[0m\u001b[0m\n\u001b[1;32m     50\u001b[0m         \u001b[0;31m# open handles\u001b[0m\u001b[0;34m\u001b[0m\u001b[0;34m\u001b[0m\u001b[0;34m\u001b[0m\u001b[0m\n\u001b[0;32m---> 51\u001b[0;31m         \u001b[0mself\u001b[0m\u001b[0;34m.\u001b[0m\u001b[0m_open_handles\u001b[0m\u001b[0;34m(\u001b[0m\u001b[0msrc\u001b[0m\u001b[0;34m,\u001b[0m \u001b[0mkwds\u001b[0m\u001b[0;34m)\u001b[0m\u001b[0;34m\u001b[0m\u001b[0;34m\u001b[0m\u001b[0m\n\u001b[0m\u001b[1;32m     52\u001b[0m         \u001b[0;32massert\u001b[0m \u001b[0mself\u001b[0m\u001b[0;34m.\u001b[0m\u001b[0mhandles\u001b[0m \u001b[0;32mis\u001b[0m \u001b[0;32mnot\u001b[0m \u001b[0;32mNone\u001b[0m\u001b[0;34m\u001b[0m\u001b[0;34m\u001b[0m\u001b[0m\n\u001b[1;32m     53\u001b[0m \u001b[0;34m\u001b[0m\u001b[0m\n",
            "\u001b[0;32m/usr/local/lib/python3.7/dist-packages/pandas/io/parsers/base_parser.py\u001b[0m in \u001b[0;36m_open_handles\u001b[0;34m(self, src, kwds)\u001b[0m\n\u001b[1;32m    227\u001b[0m             \u001b[0mmemory_map\u001b[0m\u001b[0;34m=\u001b[0m\u001b[0mkwds\u001b[0m\u001b[0;34m.\u001b[0m\u001b[0mget\u001b[0m\u001b[0;34m(\u001b[0m\u001b[0;34m\"memory_map\"\u001b[0m\u001b[0;34m,\u001b[0m \u001b[0;32mFalse\u001b[0m\u001b[0;34m)\u001b[0m\u001b[0;34m,\u001b[0m\u001b[0;34m\u001b[0m\u001b[0;34m\u001b[0m\u001b[0m\n\u001b[1;32m    228\u001b[0m             \u001b[0mstorage_options\u001b[0m\u001b[0;34m=\u001b[0m\u001b[0mkwds\u001b[0m\u001b[0;34m.\u001b[0m\u001b[0mget\u001b[0m\u001b[0;34m(\u001b[0m\u001b[0;34m\"storage_options\"\u001b[0m\u001b[0;34m,\u001b[0m \u001b[0;32mNone\u001b[0m\u001b[0;34m)\u001b[0m\u001b[0;34m,\u001b[0m\u001b[0;34m\u001b[0m\u001b[0;34m\u001b[0m\u001b[0m\n\u001b[0;32m--> 229\u001b[0;31m             \u001b[0merrors\u001b[0m\u001b[0;34m=\u001b[0m\u001b[0mkwds\u001b[0m\u001b[0;34m.\u001b[0m\u001b[0mget\u001b[0m\u001b[0;34m(\u001b[0m\u001b[0;34m\"encoding_errors\"\u001b[0m\u001b[0;34m,\u001b[0m \u001b[0;34m\"strict\"\u001b[0m\u001b[0;34m)\u001b[0m\u001b[0;34m,\u001b[0m\u001b[0;34m\u001b[0m\u001b[0;34m\u001b[0m\u001b[0m\n\u001b[0m\u001b[1;32m    230\u001b[0m         )\n\u001b[1;32m    231\u001b[0m \u001b[0;34m\u001b[0m\u001b[0m\n",
            "\u001b[0;32m/usr/local/lib/python3.7/dist-packages/pandas/io/common.py\u001b[0m in \u001b[0;36mget_handle\u001b[0;34m(path_or_buf, mode, encoding, compression, memory_map, is_text, errors, storage_options)\u001b[0m\n\u001b[1;32m    705\u001b[0m                 \u001b[0mencoding\u001b[0m\u001b[0;34m=\u001b[0m\u001b[0mioargs\u001b[0m\u001b[0;34m.\u001b[0m\u001b[0mencoding\u001b[0m\u001b[0;34m,\u001b[0m\u001b[0;34m\u001b[0m\u001b[0;34m\u001b[0m\u001b[0m\n\u001b[1;32m    706\u001b[0m                 \u001b[0merrors\u001b[0m\u001b[0;34m=\u001b[0m\u001b[0merrors\u001b[0m\u001b[0;34m,\u001b[0m\u001b[0;34m\u001b[0m\u001b[0;34m\u001b[0m\u001b[0m\n\u001b[0;32m--> 707\u001b[0;31m                 \u001b[0mnewline\u001b[0m\u001b[0;34m=\u001b[0m\u001b[0;34m\"\"\u001b[0m\u001b[0;34m,\u001b[0m\u001b[0;34m\u001b[0m\u001b[0;34m\u001b[0m\u001b[0m\n\u001b[0m\u001b[1;32m    708\u001b[0m             )\n\u001b[1;32m    709\u001b[0m         \u001b[0;32melse\u001b[0m\u001b[0;34m:\u001b[0m\u001b[0;34m\u001b[0m\u001b[0;34m\u001b[0m\u001b[0m\n",
            "\u001b[0;31mFileNotFoundError\u001b[0m: [Errno 2] No such file or directory: 'final_exam.csv'"
          ]
        }
      ]
    },
    {
      "cell_type": "markdown",
      "source": [
        "## Uji Normalitas\n",
        "Ho = data berdistribusi normal\n",
        "\n",
        "Ha = data tidak berdistribusi normal"
      ],
      "metadata": {
        "id": "I_WEb_SJfZwb"
      }
    },
    {
      "cell_type": "code",
      "source": [
        "#Membuat histogram dari pandas dan matplotlib\n",
        "\n",
        "final_exam.hist()\n",
        "plt.show()"
      ],
      "metadata": {
        "id": "Q4KjSkJYeCoP"
      },
      "execution_count": null,
      "outputs": []
    },
    {
      "cell_type": "markdown",
      "source": [
        "Terlihat beberapa datanya seperti tidak normal, mari kita coba uji Kolmogorov-Smirnov untuk mengeceknya"
      ],
      "metadata": {
        "id": "1FdZQ7Effp19"
      }
    },
    {
      "cell_type": "code",
      "source": [
        "#Check normality using Kolmogorov-Smirnov Test\n",
        "area = ['big_west', 'small_west', 'capital_city', 'small_east', 'big_east']\n",
        "for a in area:\n",
        "  z_score = stats.zscore(final_exam[a])\n",
        "  normality = stats.kstest(z_score, 'norm', )\n",
        "  print('normality for ', a, '=', normality)"
      ],
      "metadata": {
        "id": "VHO09uBrfnLe"
      },
      "execution_count": null,
      "outputs": []
    },
    {
      "cell_type": "markdown",
      "source": [
        "## Latihan 3\n",
        "Coba simpulkan apakah artinya data berdistribusi normal? Jawaban : Ya, karena semua p-value > 0.05. Kalo 1 aja ga normal, berarti asumsinya tidak terpenuhi"
      ],
      "metadata": {
        "id": "k7MknpYpgGWL"
      }
    },
    {
      "cell_type": "markdown",
      "source": [
        "## Uji Homogenitas\n",
        "\n",
        "Ho = varians semua kelompok cenderung sama (homogen)\n",
        "\n",
        "Ha = varians semua kelompok cenderung tidak sama (homogen)"
      ],
      "metadata": {
        "id": "QTDzfPlGhO76"
      }
    },
    {
      "cell_type": "code",
      "source": [
        "#Uji Homogenitas dengan Levene\n",
        "stats.levene(final_exam['big_west'], final_exam['small_west'], final_exam['capital_city']\n",
        "             , final_exam['small_east'], final_exam['big_east'])"
      ],
      "metadata": {
        "id": "qNaCKklFhOf0"
      },
      "execution_count": null,
      "outputs": []
    },
    {
      "cell_type": "markdown",
      "source": [
        "Karena p-value > 0.05, maka Ho diterima sehingga asumsi homogenitas dari ANOVA sudah terpenuhi"
      ],
      "metadata": {
        "id": "ATP-4g3jhqzL"
      }
    },
    {
      "cell_type": "markdown",
      "source": [
        "## Uji ANOVA (parametrik)\n",
        "\n",
        "Ho = kualitas pendidikan merata (tidak ada perbedaan kualitas pendidikan yang signifikan antar wilayah)\n",
        "\n",
        "Ha = kualitas pendidikan tidak merata (ada perbedaan kualitas pendidikan yang signifikan antar wilayah)"
      ],
      "metadata": {
        "id": "8Yw0lGoGh2ll"
      }
    },
    {
      "cell_type": "code",
      "source": [
        "stats.f_oneway(final_exam['big_west'], final_exam['small_west'], final_exam['capital_city']\n",
        "             , final_exam['small_east'], final_exam['big_east'])"
      ],
      "metadata": {
        "id": "YrjIGdzlgE5S"
      },
      "execution_count": null,
      "outputs": []
    },
    {
      "cell_type": "markdown",
      "source": [
        "Karena p-value < 0.05, maka Ho ditolak, ternyata kualitas pendidikan di negara ini belum merata. Untuk itu, kamu perlu menyelidiki wilayah dengan rata-rata terendah agar kualitas sarana pendidikan dan gurunya bisa ditingkatkan"
      ],
      "metadata": {
        "id": "frzDHvb_iFWc"
      }
    },
    {
      "cell_type": "code",
      "source": [
        "final_exam.describe()"
      ],
      "metadata": {
        "id": "AktZ5K6yodKK"
      },
      "execution_count": null,
      "outputs": []
    },
    {
      "cell_type": "markdown",
      "source": [
        "Ternyata nilai rata-rata di ibukota jauh diatas wilayah lain, sementara kota kecil di timur mendapat nilai rata-rata terkecil. Sebagai menteri pendidikan berarti kamu harus membuat program untuk membangun sarana pendidikan yang lebih baik dan mengirim guru-guru terbaik ke kota kecil di wilayah timur."
      ],
      "metadata": {
        "id": "_Pffj3lMotqN"
      }
    },
    {
      "cell_type": "markdown",
      "source": [
        "## Uji Kruskal-Wallis (nonparametrik)\n",
        "Jika datanya ternyata tidak berdistribusi normal atau tidak homogen, kamu bisa menggunakan uji Kruskal Wallis sebagai berikut"
      ],
      "metadata": {
        "id": "38aB85JvtnIR"
      }
    },
    {
      "cell_type": "code",
      "source": [
        "stats.kruskal(final_exam['big_west'], final_exam['small_west'], final_exam['capital_city']\n",
        "             , final_exam['small_east'], final_exam['big_east'])"
      ],
      "metadata": {
        "id": "zhvKmM8yotBZ"
      },
      "execution_count": null,
      "outputs": []
    },
    {
      "cell_type": "markdown",
      "source": [
        "## Latihan 4\n",
        "\n",
        "Coba bikin kesimpulan dari hasil p-value tersebut. Jawaban : Ho ditolak karena p-value < 0.05, jadi sama dengan hasil ANOVA"
      ],
      "metadata": {
        "id": "WQWX-KrVuPMv"
      }
    },
    {
      "cell_type": "markdown",
      "source": [
        "# Latihan tambahan\n",
        "\n",
        "Misalkan kamu adalah data scientist di gojek. Kamu ingin mengetahui apakah kemacetan mempengaruhi tingkat kepuasan pelanggan. Jadi kamu ingin memebandingkan nilai \"bintang\" dari customer saat dia order di jam macet dan tidak macet.\n",
        "(#hint = data dari customer yang sama)\n",
        "\n",
        "macet = [2, 3, 5, 4, 5, 4, 4, 3, 4, 3, 4, 5, 4, 5, 4, 3, 4, 3, 3, 5, 4, 3, 4, 3, 4, 3, 4, 4, 5]\n",
        "\n",
        "tidak_macet = [2, 2, 4, 5, 4, 3, 3, 3, 3, 3, 3, 4, 4, 5, 4, 3, 3, 2, 3, 4, 4, 3, 3, 3, 4, 3, 4, 3, 4]\n",
        "\n",
        "1. Buat hipotesisnya\n",
        "2. Lakukan uji asumsi normalitasnya\n",
        "3. Jika datanya normal lakukan uji parametrik, jika tidak berdistribusi normal lakukan uji nonparametrik\n",
        "4. Apa kesimpulan uji hipotesisnya?"
      ],
      "metadata": {
        "id": "vh1TEh8UvT_i"
      }
    },
    {
      "cell_type": "markdown",
      "source": [
        "## Jawaban\n",
        "\n",
        "Ho = tidak ada perbedaan yang signifikan antara kepuasan pelanggan saat macet dan tidak macet\n",
        "\n",
        "Ha = ada perbedaan yang signifikan antara kepuasan pelanggan saat macet dan tidak macet (macet mempengaruhi kepuasan pelanggan)"
      ],
      "metadata": {
        "id": "YDJaQmRizfH6"
      }
    },
    {
      "cell_type": "code",
      "source": [
        "macet = np.array([2, 3, 5, 4, 5, 4, 4, 3, 4, 3, 4, 5, 4, 5, 4, 3, 4, 3, 3, 5, 4, 3, 4, 3, 4, 3, 4, 4, 5]) \n",
        "\n",
        "tidak_macet = np.array([2, 2, 4, 5, 4, 3, 3, 3, 3, 3, 3, 4, 4, 5, 4, 3, 3, 2, 3, 4, 4, 3, 3, 3, 4, 3, 4, 3, 4])"
      ],
      "metadata": {
        "id": "F6my9aKQiktS"
      },
      "execution_count": null,
      "outputs": []
    },
    {
      "cell_type": "code",
      "source": [
        "#Uji normalitas dengan histogram\n",
        "sns.distplot(macet)"
      ],
      "metadata": {
        "id": "cBZ6Mpziz89V"
      },
      "execution_count": null,
      "outputs": []
    },
    {
      "cell_type": "code",
      "source": [
        "#Uji normalitas dengan histogram\n",
        "sns.distplot(tidak_macet)"
      ],
      "metadata": {
        "id": "KODZEygv0H-2"
      },
      "execution_count": null,
      "outputs": []
    },
    {
      "cell_type": "markdown",
      "source": [
        "Berdasarkan histogram kurang meyakinkan karena rata-ratanya kurang ke tengah, sekarang kita lihat uji kolmogorov-smirnovnya"
      ],
      "metadata": {
        "id": "smCOv5Xc0bIf"
      }
    },
    {
      "cell_type": "code",
      "source": [
        "z_score_macet = stats.zscore(macet)\n",
        "z_score_tidak = stats.zscore(tidak_macet)\n",
        "print('uji kolmogorov smirnov data macet = ', stats.kstest(z_score_macet, \"norm\"))\n",
        "print('uji kolmogorov smirnov data tidak_macet = ', stats.kstest(z_score_tidak, \"norm\"))"
      ],
      "metadata": {
        "id": "KIYW6Tcn0Yfl"
      },
      "execution_count": null,
      "outputs": []
    },
    {
      "cell_type": "markdown",
      "source": [
        "Karena ada hasil yang p-value < 0.05, maka data tidak berdistribusi normal, sehingga kita menggunakan statistik nonparametrik saja. Karena ini data sampel berhubungan, maka kita menggunakan uji wilcoxon"
      ],
      "metadata": {
        "id": "YFqLQYjC1KLk"
      }
    },
    {
      "cell_type": "code",
      "source": [
        "d = tidak_macet - macet\n",
        "stats.wilcoxon(d)"
      ],
      "metadata": {
        "id": "K9_Nc0pb1FZg"
      },
      "execution_count": null,
      "outputs": []
    },
    {
      "cell_type": "markdown",
      "source": [
        "Nilai p-value < 0.05, sehingga Ho ditolak, ternyata terdapat perbedaan yang signifikan dari kepuasan pelanggan saat macet dan tidak macet, artinya macet mempengaruhi kepuasan pelanggan"
      ],
      "metadata": {
        "id": "vLIbjcaw1xJC"
      }
    },
    {
      "cell_type": "code",
      "source": [
        ""
      ],
      "metadata": {
        "id": "W-rK8Gfu1vn-"
      },
      "execution_count": null,
      "outputs": []
    }
  ]
}