{
  "nbformat": 4,
  "nbformat_minor": 0,
  "metadata": {
    "colab": {
      "name": "Tugas5_Percy30.ipynb",
      "provenance": []
    },
    "kernelspec": {
      "name": "python3",
      "display_name": "Python 3"
    },
    "language_info": {
      "name": "python"
    }
  },
  "cells": [
    {
      "cell_type": "markdown",
      "source": [
        "SESI PAGI\n",
        "Python OOP\n",
        "1. Apa itu OOP dan cobalah buat 2 implementasi konsep OOP menggunakan python!\n",
        "2. Sebutkan dan jelaskan 2 jenis modules yang ada di Python!\n",
        "3. Hitunglah berapa hasil dari √175 + 4√7 + (1/3) + ³log 81 menggunakan module math!\n",
        "4. Apa itu custom exception handling dan berikan 1 contoh implementasinya!\n",
        "Artificial Intelligence\n",
        "1. Apa perbedaan dari structured dan unstructured data dan sebutkan 3 sumber data!\n",
        "2. Jelaskan perbedaan AI, Machine Learning dan Deep Learning!\n",
        "3. Apa perbedaan Machine Learning dengan Tradisional software?\n",
        "4. Sebutkan 3 contoh aplikasi Machine Learning di sektor smart city dan agriculture!\n",
        "Maths for AI\n",
        "1. Mengapa ilmu matematika penting ketika mempelajari AI?\n",
        "2. Jelaskan perbedaan vektor dan skalar!\n",
        "3. Apa perbedaan dari Jarak Euclidean dan Manhattan?\n",
        "4. Apa kegunaan matriks dalam ilmu matematika ketika menerapkan AI?\n",
        "Machine Learning\n",
        "1. Jelaskan perbedaan supervised dan unsupervised learning dan sebutkan 2 contohnya!\n",
        "2. Sebutkan setiap tahap yang ada di Machine Learning life cycle dan jelaskan!\n",
        "3. Apa perbedaan regression dengan clustering?\n",
        "4. Apa itu algoritma Artificial Neural Network dan untuk apa fungsinya? "
      ],
      "metadata": {
        "id": "Ty-Dh8Add8N_"
      }
    },
    {
      "cell_type": "markdown",
      "source": [
        "1. Object Oriented Programming atau Pemrograman Berbasis Objek adalah paradigma pemrograman yang berorientasikan kepada objek yang merupakan suatu metode dalam pembuatan program, dengan tujuan untuk menyelesaikan kompleksnya berbagai masalah program yang terus meningkat"
      ],
      "metadata": {
        "id": "vRR8TJ0BeA82"
      }
    },
    {
      "cell_type": "markdown",
      "source": [
        "2. 1. Built-in module\n",
        "  Built-in module adalah modul bawaan pada Python. \n",
        "  Contohnya seperti statistics, os, math, dll.\n",
        "   2. Custom module  \n",
        "  Custom module atau modul buatan adalah file berekstensi (.py) yang dapat diimpor pada program python lain"
      ],
      "metadata": {
        "id": "tPcq95H8eJIr"
      }
    },
    {
      "cell_type": "code",
      "source": [
        "import math"
      ],
      "metadata": {
        "id": "GkUlp9fDeVaj"
      },
      "execution_count": 1,
      "outputs": []
    },
    {
      "cell_type": "markdown",
      "source": [
        "4. Exception adalah error yang terjadi pada suatu program walaupun penulisan syntax telah benar. Dengan kata lain exception error adalah kesalahan yang terjadi bukan dikarenakan kesalahan penulisan syntax. Misalnya adalah pembagian suatu bilangan dengan bilangan nol akan menghasilkan exception error pada python. Exception handling memungkinkan python untuk mengastasi error yang terjadi diakibatkan exception error\n"
      ],
      "metadata": {
        "id": "9t_O9sGYepGz"
      }
    },
    {
      "cell_type": "markdown",
      "source": [
        "5. Structured data adalah data yang dapat dimasukan/berbentuk layaknya tabel. Contohnya adalah csv, sql, dll.. \n",
        "Unstructured data adalah data yang tidak terstruktur dalam tabel. Contohnya adalah gambar dan video. \n",
        "3 contoh sumber data ialah berasal dari transaksi bisnis, sensor yang merekam, dan broadcasting"
      ],
      "metadata": {
        "id": "kyUMy9AQesgb"
      }
    },
    {
      "cell_type": "markdown",
      "source": [
        "6. AI adalah sekumpulan algoritma yang digunakan untuk membangun suatu program.  \n",
        "ML adalah algoritma yang menggunakan data dalam proses pembuatannya.  \n",
        "Deep Learning adalah program otomatisasi yang menerapkan AI dan ML dalam prosesnya"
      ],
      "metadata": {
        "id": "vR44qoWXe5Kc"
      }
    },
    {
      "cell_type": "markdown",
      "source": [
        "7. ML menggunakan data untuk melatih algoritma yang digunakan dalam program untuk memecahkan suatu masalah.\n",
        " Sedangkan traditional software menggunakan logika dari programmer dalam memecahkan suatu masalah"
      ],
      "metadata": {
        "id": "5wlc8lqwfAAs"
      }
    },
    {
      "cell_type": "markdown",
      "source": [
        "8.  Smart city: Menampilkan data kemacetan pada suatu area, Pendeteksi wajah kriminal melalui CCTV, Pendeteksi kebakaran pada suatu wilayah  \n",
        "     Agriculture: Mencatat pertumbuhan tanaman dan memberikan rekomendasi pupuk pada tanaman, Memprediksi kualitas tanah untuk digunakan sebagai wilayah cocok tanam, Memprediksi curah hujan pada suatu wilayah agar dapat menentukan jenis tanaman yang akan ditanam."
      ],
      "metadata": {
        "id": "dzKpucOEfSZc"
      }
    },
    {
      "cell_type": "markdown",
      "source": [
        "9. Untuk mengolah data yang akan diimplementasikan pada AI dibutuhkan keahlian dalam ilmu matematika"
      ],
      "metadata": {
        "id": "0KcTZ1OLfWj1"
      }
    },
    {
      "cell_type": "markdown",
      "source": [
        "10. Nilai vektor memiliki arah sedangkan nilai skalar tidak."
      ],
      "metadata": {
        "id": "m4cSgzs-fZNM"
      }
    },
    {
      "cell_type": "markdown",
      "source": [
        "11. Jarak Manhattan memiliki perhitungan sudut sebagai salah satu faktor dalam perhitungannya, sedangkan jarak euclidean tidak."
      ],
      "metadata": {
        "id": "I9C6twEIfeGs"
      }
    },
    {
      "cell_type": "markdown",
      "source": [
        "12. Matriks memiiki banyak kegunaan dalam penerapan AI. Misalnya sebagai pemetaan gambar, pemetaan lokasi, dsb."
      ],
      "metadata": {
        "id": "TCt2wFiifgxQ"
      }
    },
    {
      "cell_type": "markdown",
      "source": [
        "13. Supervised learning memiliki jawaban pasti yang diberikan kepada data agar mesin tau jawabannya secara pasti. Contohnya adalah mendeteksi buah pisang melalui bentuknya atau mendeteksi perbedaan buah apel merah dan hijau melalui warnanya.\n",
        " Unsupervised learning adalah proses pembelajaran mesin yang tidak diberikan jawaban secara pasti. Contohnya mesin diberikan data beberapa hewan, lalu mesin dapat mengklasifikasikan sendiri melalui bentuk atau warnanya walaupun tidak mengetahui nama dari objek tersebut, atau mengklasifikasikan tanaman melalui bentuk batang atau daunnya"
      ],
      "metadata": {
        "id": "n06Vo6Gffqj3"
      }
    },
    {
      "cell_type": "markdown",
      "source": [
        "14.  1. Tentukan Tujuan  \n",
        "    Pada fase ini, kita harus menentukan tujuan dan manfaat apa yang diberikan pada pembuatan projek ML.  \n",
        "    2. Kumpulkan Data  \n",
        "    Pada fase ini data yang digunakan \n",
        "    3. Siapkan Data  \n",
        "    Pada fase ini data yang telah dikumpulkan disaring, dibersihkan, dan diolah agar data yang diproses oleh mesin > dapat optimal. \n",
        "  4. Pilih Algoritma  \n",
        "     Pada fase ini algoritma yang digunakan oleh mesin akan ditentukan, tergantung berdasarkan mesin yang diinginkan belajar melalui supervised atau unsupervised learning.  \n",
        "  5. Latih Model  \n",
        "   Pada fase ini mesin akan mulai untuk mempelajari algoritma melalui data yang telah disiapkan. \n",
        "    6. Tes Model  \n",
        "    Pada fase ini hasil dari pembelajaran mesin akan dilakukan testing keakuratannya dengan tujuan yang diinginkan.  \n",
        "   7. Integrasikan Model  \n",
        "     Pada fase ini apabila mesin telah siap diterapkan setelah melalui tes model, maka model telah siap diimplementasikan pada real-life case"
      ],
      "metadata": {
        "id": "eW6GdgQ5fu7n"
      }
    },
    {
      "cell_type": "markdown",
      "source": [
        "15. Regression atau regresi adalah algoritma yang memetakan masukan ke keluaran berkelanjutan. Regression terdapat pada supervised learning.\n",
        "    Clustering adalah algortima yang mempelajari hubungan antara fitur individu. Clustering terdapat pada unsupervised learning"
      ],
      "metadata": {
        "id": "slOtZyOogFCA"
      }
    },
    {
      "cell_type": "markdown",
      "source": [
        "16. Artificial Neural Network (ANN) adalah teknologi AI yang meniru dan terinspirasi dari cara kerja neuron pada otak manusia. Fungsinya adalah mempermudah mesin untuk mempelajari model non-linear dan hubungan yang kompleks"
      ],
      "metadata": {
        "id": "tQWVxx6QgKXR"
      }
    }
  ]
}