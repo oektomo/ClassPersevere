{
 "cells": [
  {
   "cell_type": "markdown",
   "id": "445652c7",
   "metadata": {},
   "source": [
    "# Fadhila Tsani Noor Aisya (percy 27)"
   ]
  },
  {
   "cell_type": "markdown",
   "id": "8592643f",
   "metadata": {},
   "source": [
    "# Soal : \n",
    "\n",
    "Python OOP \n",
    "1. Apa itu OOP dan cobalah buat 2 implementasi konsep OOP menggunakan python! \n",
    "2. Sebutkan dan jelaskan 2 jenis modules yang ada di Python! \n",
    "3. Hitunglah berapa hasil dari √175 + 4√7 + (1/3) + ³log 81 menggunakan module math! \n",
    "4. Apa itu custom exception handling dan berikan 1 contoh implementasinya!\n",
    "\n",
    "Artificial Intelligence \n",
    "1. Apa perbedaan dari structured dan unstructured data dan sebutkan 3 sumber data! \n",
    "2. Jelaskan perbedaan AI, Machine Learning dan Deep Learning! \n",
    "3. Apa perbedaan Machine Learning dengan Tradisional software? \n",
    "4. Sebutkan 3 contoh aplikasi Machine Learning di sektor smart city dan agriculture!\n",
    "\n",
    "Maths for AI \n",
    "1. Mengapa ilmu matematika penting ketika mempelajari AI? \n",
    "2. Jelaskan perbedaan vektor dan skalar! \n",
    "3. Apa perbedaan dari Jarak Euclidean dan Manhattan? \n",
    "4. Apa kegunaan matriks dalam ilmu matematika ketika menerapkan AI?\n",
    "\n",
    "Machine Learning \n",
    "1. Jelaskan perbedaan supervised dan unsupervised learning dan sebutkan 2 contohnya! \n",
    "2. Sebutkan setiap tahap yang ada di Machine Learning life cycle dan jelaskan! \n",
    "3. Apa perbedaan regression dengan clustering? \n",
    "4. Apa itu algoritma Artificial Neural Network dan untuk apa fungsinya?"
   ]
  },
  {
   "cell_type": "markdown",
   "id": "09b795d3",
   "metadata": {},
   "source": [
    "# Jawab : "
   ]
  },
  {
   "cell_type": "markdown",
   "id": "49070d2e",
   "metadata": {},
   "source": [
    "## Python OOP"
   ]
  },
  {
   "cell_type": "markdown",
   "id": "f2b6035c",
   "metadata": {},
   "source": [
    "1. Object oriented programming (OOP) atau Pemrograman berbasis objek adalah paradigma pemrograman yang menyediakan sarana untuk menyusun program sehingga properti dan perilaku digabungkan ke dalam objek individual"
   ]
  },
  {
   "cell_type": "code",
   "execution_count": 2,
   "id": "9c79c45d",
   "metadata": {},
   "outputs": [
    {
     "name": "stdout",
     "output_type": "stream",
     "text": [
      "Nama : Sarah\n",
      "Gaji : 1000000\n",
      "Nama : Budi\n",
      "Gaji : 2000000\n",
      "Total karyawan : 2\n"
     ]
    }
   ],
   "source": [
    "# a. implementasi konsep OOP menggunakan python :\n",
    "class Karyawan:\n",
    "    '''Dasar kelas untuk semua karyawan'''\n",
    "    jumlah_karyawan = 0\n",
    "\n",
    "    def __init__(self, nama, gaji):\n",
    "        self.nama = nama\n",
    "        self.gaji = gaji\n",
    "        Karyawan.jumlah_karyawan += 1\n",
    "\n",
    "    def tampilkan_jumlah(self):\n",
    "        print(\"Total karyawan:\", Karyawan.jumlah_karyawan)\n",
    "\n",
    "    def tampilkan_profil(self):\n",
    "        print(\"Nama :\", self.nama)\n",
    "        print(\"Gaji :\", self.gaji)\n",
    "\n",
    "# Membuat objek pertama dari kelas Karyawan\n",
    "karyawan1 = Karyawan(\"Sarah\", 1000000)\n",
    "# Membuat objek kedua dari kelas Karyawan\n",
    "karyawan2 = Karyawan(\"Budi\", 2000000)\n",
    "\n",
    "karyawan1.tampilkan_profil()\n",
    "karyawan2.tampilkan_profil()\n",
    "print(\"Total karyawan :\", Karyawan.jumlah_karyawan)"
   ]
  },
  {
   "cell_type": "code",
   "execution_count": 3,
   "id": "1db1702b",
   "metadata": {},
   "outputs": [
    {
     "name": "stdout",
     "output_type": "stream",
     "text": [
      "Sport\n",
      "Offroad\n",
      "Melaju dengan kecepatan :  200\n",
      "Melaju dengan kecepatan :  150\n"
     ]
    }
   ],
   "source": [
    "# b. implementasi konsep OOP menggunakan python :\n",
    "class Mobil:\n",
    "\n",
    "    def __init__(self, tipe, roda, kecepatan) :\n",
    "        self.tipe = tipe\n",
    "        self.roda = roda\n",
    "        self.kecepatan = kecepatan\n",
    "\n",
    "    def doMelaju(self):\n",
    "        print(\"Melaju dengan kecepatan : \", self.kecepatan)\n",
    "    \n",
    "    def doKlakson(self):\n",
    "        print(\"klakson\")\n",
    "\n",
    "    def doBelok(self, arah):\n",
    "        print(\"Belok arah \", arah)\n",
    "\n",
    "mobilFerari = Mobil(\"Sport\", 4, 200)\n",
    "mobilJeep = Mobil(\"Offroad\", 6, 150)\n",
    "\n",
    "# akses attribute tipe dari mobilFerari\n",
    "print(mobilFerari.tipe) \n",
    "\n",
    "# akses attribute tipe dari mobilOffroad\n",
    "print(mobilJeep.tipe) \n",
    "\n",
    "# memanggil method domelaju di mobilFerari\n",
    "mobilFerari.doMelaju()\n",
    "\n",
    "# memanggil method domelaju di mobilOffroad\n",
    "mobilJeep.doMelaju()"
   ]
  },
  {
   "cell_type": "markdown",
   "id": "fa8faf83",
   "metadata": {},
   "source": [
    "2. 2 jenis modules yang ada di Python :\n",
    "- Tqdm : modul Python yang berguna untuk menampilkan progress bar dengan perulangan yang sederhana.\n",
    "- Joblib : modul Python yang berguna untuk menyediakan fungsionalitas pemrograman paralel. Ada tiga bagian penting dalam modul ini yaitu Caching, Paralellisation dan Persistence (untuk menyimpan dan memuat data).\n",
    "- TinyDB : modul Python yang berguna untuk menyediakan backend database yang berbasis NoSQL. Layaknya MongoDB, TinyDB juga memberikan kemudahan API untuk mengatur manajemen databasenya."
   ]
  },
  {
   "cell_type": "markdown",
   "id": "4ec7c1df",
   "metadata": {},
   "source": [
    "3. Hasil dari √175 + 4√7 + (1/3) + ³log 81 menggunakan module math :"
   ]
  },
  {
   "cell_type": "code",
   "execution_count": 4,
   "id": "92c246b3",
   "metadata": {},
   "outputs": [
    {
     "name": "stdout",
     "output_type": "stream",
     "text": [
      "28.145095132914648\n"
     ]
    }
   ],
   "source": [
    "import math as m\n",
    "\n",
    "a = m.sqrt(175) + (4*m.sqrt(7)) + (1/3) + m.log(81,3)\n",
    "print(a)"
   ]
  },
  {
   "cell_type": "markdown",
   "id": "52f50170",
   "metadata": {},
   "source": [
    "4. Exception Handling merupakan mekanisme yang paling diperlukan dalam menangani error yang terjadi pada saat runtime (program berjalan) atau yang lebih dikenal dengan sebutan runtime error. Ketika kesalahan terjadi, atau exception seperti yang biasa disebut, Python biasanya akan berhenti dan menghasilkan pesan kesalahan. Exception ini dapat ditangani menggunakan pernyataan try. Karena blok try menghasilkan kesalahan, blok except akan dieksekusi."
   ]
  },
  {
   "cell_type": "code",
   "execution_count": 5,
   "id": "abd3a020",
   "metadata": {},
   "outputs": [
    {
     "name": "stdout",
     "output_type": "stream",
     "text": [
      "division by zero\n",
      "1\n"
     ]
    }
   ],
   "source": [
    "# contoh implementasi exception handling :\n",
    "x = 0\n",
    "try:\n",
    "    x = 1 / 0\n",
    "except Exception as e:\n",
    "    print (e)\n",
    "    print (x + 1)"
   ]
  },
  {
   "cell_type": "markdown",
   "id": "7b5611e2",
   "metadata": {},
   "source": [
    "## Artificial Intelligence "
   ]
  },
  {
   "cell_type": "markdown",
   "id": "b10ae49f",
   "metadata": {},
   "source": [
    "1. Perbedaan dari structured dan unstructured data :\n",
    "- Data terstruktur adalah data yang berada dalam satu tempat baik berbentuk sebuah file termasuk data yang berada dalam database ataupun spreadsheet. Data terstruktur adalah yang membuat model data. Contohnya adalah data CRM, Industry Research Data dan lain sebagainya.Data terstruktur biasanya dijalankan untuk mengakses database yang disebut dengan Structured Query Languange atau yang lebih dikenal dengan SQL.\n",
    "- Jenis data structured (data tradisional) dapat diproses, disimpan, dan diambil dalam format tetap. Jenis data ini disimpan dalam bentuk tabel, baris dan kolom yang normalnya disimpan dalam excel atau spreadsheet, dimana informasi pada data sangat terorganisir dan dapat dengan mudah diakses dari database dengan algoritma mesin pencari sederhana.\n",
    "- Sedangkan Data tidak terstruktur adalah data yang tidak mudah diklasifikasi dan dimasukan kedalam sebuah kotak dengan rapi. Contohnya adalah foto, gambar grafis, streaming instrument data, webpages, pdf, PowerPointpresentations, konten blog dan lain sebagainya.\n",
    "- Jenis data unstructured adalah data dengan bentuk yang tidak dikenal, harus disimpan dengan format khusus karena tidak memiliki struktur yang spesifik seperti jenis data structured. Raw data dari jenis data ini hanya dapat menghasilkan nilai setelah diproses dan dianalisa. Menyimpan data jenis ini pun memiliki kerumitan seperti memerlukan penggunaan sistem penyimpanan yang memadai, seperti database NoSQL (MongoDB dan CouchDB).\n",
    "\n",
    "3 sumber data : \n",
    "- Structured data : Business data, Excel, Csv, data sensor, data penjualan pada suatu perusahaan, data karyawan dalam database perusahaan dengan detail yang terstruktur seperti detail data diri karyawan, posisi pekejaan, gaji, dan lainnya ditampilkan secara terorganisir.\n",
    "- Unstructured data : Text, Image, video dan Speech, bisa juga dalam bentuk keluhan pelanggan, kontrak, ataupun email internal."
   ]
  },
  {
   "cell_type": "markdown",
   "id": "a3416d52",
   "metadata": {},
   "source": [
    "2. Perbedaan AI, Machine Learning dan Deep Learning :\n",
    "- AI : Teknik apapun yang memungkinkan komputer meniru kecerdasan manusia. \n",
    "- Kecerdasan Buatan: kumpulan algoritme yang digunakan untuk membangun \n",
    "- Machine Learning : Bagian dari AI yang memungkinkan mesin untuk mengerjakan tugas dengan lebih baik, dengan pengalaman\n",
    "- Pembelajaran Mesin: algoritme yang menggunakan Data untuk membangun\n",
    "- Deep Learning : Bagian dari ML yang memungkinkan software melatih dirinya sendiri untuk melakukan tugas dengan data dalam jumlah besar.\n",
    "- Pembelajaran Mendalam: rekayasa fitur otomatis"
   ]
  },
  {
   "cell_type": "markdown",
   "id": "a1418325",
   "metadata": {},
   "source": [
    "3. Perbedaan Traditional Programming dan Machine Learning Approach : \n",
    "- Traditional Programming : ada penjelas/ detail, biasanya pake logika seperti if else, datanya dimasukkan ke dalam alur aturan dan menghasilkan jawaban\n",
    "- Traditional Approach : Experiment -> Data + Role -> Process -> Answer\n",
    "- Machine Learning Approach : memasukkan data dan jawaban untuk mengetahui aturannya seperti apa, dan ambil kesimpulan \n",
    "- Machine Learning Approach : Experiment -> Data + Answer -> Process -> Role "
   ]
  },
  {
   "cell_type": "markdown",
   "id": "a2d101a3",
   "metadata": {},
   "source": [
    "4. 3 contoh aplikasi Machine Learning di sektor smart city dan agriculture :\n",
    "\n",
    "Smart City :\n",
    "- mCity adalah sebuah aplikasi City Directory yang bisa diakses melalui smartphone. Melalui aplikasi ini, wisatawan yang berkunjung ke kota-kota yang sudah didukung oleh mCity bisa lebih dimudahkan. Di dalamnya tersedia informasi lengkap tentang kuliner, objek-objek wisata, hingga informasi hotel.\n",
    "- CLM (Corona Likelihood Metric) Machine Learning untuk Uji Risiko Gejala Korona. CLM adalah pemanfaatan teknologi machine learning untuk menghitung risiko terjangkit virus korona. Melalui cara ini, CLM dapat mengolah jawaban yang diberikan pengguna, kemudian memberikan hasil tes beserta rekomendasi tindakan medis yang paling sesuai, termasuk rekomendasi untuk tes swab/PCR (Polymerase Chain Reaction) jika sesuai kriteria. Alat uji risiko ini ada dalam aplikasi JAKI (Jakarta Kini), sebagai fitur terbaru bernama JakCLM.\n",
    "- Qlue adalah aplikasi ini mendukung fitur yang memudahkan masyarakat untuk melayangkan komplain, kerusakan fasilitas, dan sebagainya. Melalui aplikasi ini juga, setiap pengguna bisa mengunggah foto tentang masalah yang terjadi di lingkungan tempat tinggalnya.\n",
    "\n",
    "Agriculture :\n",
    "- Smart farming memanfaatkan teknologi seperti big data, machine learning, dan Internet of Things (IoT) demi meningkatkan kualitas maupun kuantitas produksi dalam industri agrikultur. Hal seperti ini seharusnya bisa dimanfaatkan oleh tech startup di tanah air yang kebanyakan hanya menjadi penyalur barang dan jasa dengan ‘menggelar lapak’ di dunia digital.\n",
    "- Pemanfaatan data geospasial untuk klasifikasi jenis tanaman pangan menggunakan algoritma machine learning yaitu algoritma klasifikasi Random Forest sebagai upaya optimalisasi produksi lahan pertanian berdasarkan faktor lingkungan di setiap daerah. Upaya ini diharapkan dapat membantu menjaga ketahanan pangan baik di masa pandemi dan pasca pandemi.\n",
    "- Perusahaan robotika FJ Dynamics menerapkan AI untuk mentransformasikan pertanian tradisional dengan kekuatan data. Contoh penerapan AI di sektor pertanian ini dilakukan FJ Dynamics dengan mengembangkan berbagai mesin pintar atau smart machine untuk meningkatkan produksi dan keberlanjutan (sustainability) dengan mengurangi risiko dan menekan keharusan petani melakukan aktivitas fisik. Pemanfaatan data telah membantu petani untuk memutuskan kapan harus mulai menanam, kapan bisa panen, jenis tanaman apa yang akan ditanam, berapa banyak pupuk dan bahan kimia lainnya yang perlu digunakan, serta seberapa sering mengairi ladang."
   ]
  },
  {
   "cell_type": "markdown",
   "id": "7c1b6344",
   "metadata": {},
   "source": [
    "## Maths for AI "
   ]
  },
  {
   "cell_type": "markdown",
   "id": "57864af1",
   "metadata": {},
   "source": [
    "1. Ilmu matematika penting ketika mempelajari AI karena :\n",
    "- Sebagian besar pembaca menulis makalah penelitian mereka menggunakan persamaan, rumus, teknik, hasil, dll., dan bagaimana subjek yang diperlukan terlibat untuk menyelesaikan tugas dalam perspektif matematika murni. Anda harus memahami Matematika untuk memahami Notasi, Mata Pelajaran, dan teknik terapan.\n",
    "- Dalam beberapa Proyek AI Kompleks seperti SDC, Robotika, NLP, anda perlu menentukan kerangka kerja sendiri berdasarkan kerangka kerja yang sudah ada seperti PyTorch, Tensorflow, Keras, dll., Untuk mengembangkan proyek yang kompleks, Anda harus jeli dalam cara kerja internal Algoritma AI.\n",
    "- Terkadang anda harus menyempurnakan algoritme dengan mengubah nilai parameter, jika Anda tidak tertarik pada perspektif algoritme dan memahami kerja internal matematika, Anda tidak akan mencapai penyetelan yang tepat.\n",
    "- Dengan adanya ilmu matematika, dapat memodelkan AI untuk melaksanakan tugas-tugas tertentu, dan juga komunikasi dengan menggunakan mesin komputer pun  membutuhkan matematika."
   ]
  },
  {
   "cell_type": "markdown",
   "id": "98e01978",
   "metadata": {},
   "source": [
    "2. Perbedaan vektor dan skalar :\n",
    "- Vektor adalah besaran yang memiliki nilai dan arah. \n",
    "- Skalar adalah konstanta atau besaran yang memiliki nilai."
   ]
  },
  {
   "cell_type": "markdown",
   "id": "04b8c94c",
   "metadata": {},
   "source": [
    "3. Perbedaan dari Jarak Euclidean dan Manhattan :\n",
    "- Euclidean distance adalah metode mengukur jarak yang bersifat ordinary (garis lurus) antar dua titik di euclidean space. Jarak Euclidean antara titik p dan q adalah panjang segmen garis yang menghubungkan antara p ke q. Jarak Euclidean menghitung akar dari kuadrat perbedaan masing-masing dimensi dari dua titik.\n",
    "- Manhattan distance dikenal juga sebagai city block distance, rectilinear distance, atau taxicab metric yang didefinisikan sebagai jumlah dari panjang proyeksi dari segmen garis antar titik-titik ke sumbu koordinat. Jika dianalogikan pada sebuah papan catur, maka jarak antar kotak bidak catur adalah hasil pengukuran dengan metode manhattan distance."
   ]
  },
  {
   "cell_type": "markdown",
   "id": "5ea9eb7a",
   "metadata": {},
   "source": [
    "4. Kegunaan matriks dalam ilmu matematika ketika menerapkan AI : \n",
    "- Dalam matematika, matriks adalah susunan bilangan, simbol, atau ekspresi yang disusun dalam baris dan kolom sehingga membentuk suatu bangun persegi. Matriks adalah susunan angka atau objek matematika lainnya yang disusun dalam bentuk baris dan kolom, dimana operasi seperti penjumlahan dan perkalian dapat didefinisikan. \n",
    "- Kegunaan matrik dalam ilmu matematika dapat digunakan untuk komputasi data pada AI, berupa data gambar ataupun data numerik. Di dalam AI menggunakan matriks, karena matriks dapat lebih cepat dalam mengoperasikan matematika pada komputer."
   ]
  },
  {
   "cell_type": "markdown",
   "id": "e6dc64f5",
   "metadata": {},
   "source": [
    "## Machine Learning"
   ]
  },
  {
   "cell_type": "markdown",
   "id": "ce32ac4c",
   "metadata": {},
   "source": [
    "1. Perbedaan supervised dan unsupervised learning dan contohnya :\n",
    "\n",
    "Supervised Learning : \n",
    "  - Digunakan untuk menemukan pola dalam data masukan yang diberi label memungkinkan kita menghasilkan data keluaran yang benar secara efektif. \n",
    "   - Data training telah diberi label\n",
    "   - Algoritma memprediksi output dari input, contoh algoritma : klasifikasi (memetakan masukan ke label keluaran) dan regresi (memetakan masukan ke keluaran berkelanjutan)\n",
    "   - Supervised learning akan membantu Anda untuk mengumpulkan atau memproduksi output data dari pengalaman yang sudah pernah terjadi.\n",
    "   - Pada model supervised learning, Anda akan mendapatkan variabel data input dan output. Ini karena supervised learning memungkinkan Anda untuk mengumpulkan atau memproduksi output data yang didapat dari pengalaman sebelumnya. \n",
    "   - Pada supervised learning, algoritma komputer melakukan pembelajaran secara offline sebelum menghadapi data. Artinya, komputer “dibekali” sejumlah materi tertentu agar nanti dapat mengenali data dengan mudah.\n",
    "\n",
    "Contoh supervised learning :\n",
    "  - Medical Imaging\n",
    "  - Object recognition\n",
    "  - Predictive analysis\n",
    "  - Aplikasi pengenalan wajah dan lebih khusus lagi Jaringan Syaraf Tiruan (JST). Convolutional Neural Networks (CNN) adalah jenis JST yang digunakan untuk mengidentifikasi wajah orang. \n",
    "\n",
    "Unsupervised Learning : \n",
    "  - Digunakan untuk mempelajari struktur karakteristik data kita tanpa menggunakan label yang disediakan secara eksplisit.\n",
    "  - Data training tidak berlabel \n",
    "  - Algoritma mempelajari struktur karakteristik dari data masukan, contoh algoritma : Clustering (mempelajari hubungan antara fitur individu) dan Dimensional Reduction (metode untuk mengurangi fitur)\n",
    "  - unsupervised learning lebih sering digunakan untuk menemukan seluruh pola yang tidak dikenal dalam data.\n",
    "  - Pada unsupervised learning hanya akan mendapatkan data input. unsupervised learning tidak dirancang untuk “belajar” dari pengalaman sebelumnya sehingga tidak menghasilkan output data.\n",
    "  - Pada unsupervised learning, algoritma komputer mempelajari data secara real-time. Itu artinya, ketika komputer berhadapan dengan data, pada saat itu juga, komputer belajar mengenali data.\n",
    "\n",
    "Contoh unsupervised learning :\n",
    "  - Mesin Rekomendasi\n",
    "  - Segmentasi pasar/ konsumen\n",
    "  - Deteksi anomali"
   ]
  },
  {
   "cell_type": "markdown",
   "id": "f3bffa9e",
   "metadata": {},
   "source": [
    "2. Tahapan pada Machine Learning life cycle : \n",
    "- Tentukan tujuan\n",
    "- Kumpulkan data\n",
    "- Siapkan data\n",
    "- Pilih algoritma\n",
    "- Latih model\n",
    "- Tes model\n",
    "- Integrasikan model"
   ]
  },
  {
   "cell_type": "markdown",
   "id": "128a8f72",
   "metadata": {},
   "source": [
    "3. Perbedaan regression dengan clustering :\n",
    "- Regresi adalah suatu teknik analisis untuk mengidentifikasi relasi atau hubungan diantara dua variabel atau lebih. Regresi bertujuan untuk menemukan suatu fungsi yang memodelkan data dengan meminimalkan error atau selisih antara nilai prediksi dengan nilai sebenarnya. Regresi termasuk ke dalam supervised learning yang digunakan untuk memprediksi nilai kontinu.\n",
    "- Algoritma regresi, seperti Decision Tree Regression, Lasso Regression, Polynomial Regression, Linear Regression, Ridge Regression dan masih banyak lagi.\n",
    "- Clustering atau klasterisasi termasuk unsupervised learning. Clustering dilakukan jika kita ingin menemukan klaster dari sebuah dataset. Klaster adalah sebuah kumpulan data atau objek yang memiliki kemiripan satu sama lain di dalam kumpulan atau kelompok tersebut, dan berbeda dengan objek di kelompok lain. Klasterisasi juga sebuah cara untuk melakukan analisis data. Clustering ini kerap digunakan untuk mengelompokkan data-data yang memiliki kemiripan menjadi satu wilayah yang sama. Sedangkan data dengan karakteristik berbeda akan ditambahkan ke dalam wilayah lainnya.\n",
    "- Algoritma Clustering, diantaranya partition-based clustering, density-0based clustering dan hierarchical clustering."
   ]
  },
  {
   "cell_type": "markdown",
   "id": "688a80fe",
   "metadata": {},
   "source": [
    "4. Algoritma Artificial Neural Network adalah teknologi AI yang meniru dan terinspirasi dari cara kerja neuron pada otak manusia. Artificial Neural Network (ANN) atau Jaringan Syaraf Tiruan (JST) adalah paradigma pemrosesan informasi yang terinspirasi dari cara kerja sistem saraf (otak) manusia dalam memproses informasi. ANN (Artificial Neural Network) atau Jaringan Saraf Tiruan adalah upaya untuk mensimulasikan jaringan neuron yang membentuk otak manusia sehingga komputer akan dapat mempelajari berbagai hal dan membuat keputusan dengan cara yang mirip manusia. ANN (Artificial Neural Network) dibuat dengan memprogram komputer biasa untuk berperilaku seolah-olah mereka sel-sel otak yang saling berhubungan.\n",
    "- Fungsi Algoritma Artificial Neural Network : mengklasifikasikan informasi, memprediksi hasil dan data cluster. Ketika jaringan memproses dan belajar dari data, mereka dapat mengklasifikasikan set data yang diberikan ke dalam kelas yang telah ditentukan, itu dapat dilatih untuk memprediksi output yang diharapkan dari input yang diberikan dan dapat mengidentifikasi fitur khusus data untuk kemudian mengklasifikasikan data dengan khusus itu fitur. "
   ]
  },
  {
   "cell_type": "code",
   "execution_count": null,
   "id": "f18fff7f",
   "metadata": {},
   "outputs": [],
   "source": []
  }
 ],
 "metadata": {
  "kernelspec": {
   "display_name": "Python 3",
   "language": "python",
   "name": "python3"
  },
  "language_info": {
   "codemirror_mode": {
    "name": "ipython",
    "version": 3
   },
   "file_extension": ".py",
   "mimetype": "text/x-python",
   "name": "python",
   "nbconvert_exporter": "python",
   "pygments_lexer": "ipython3",
   "version": "3.8.8"
  }
 },
 "nbformat": 4,
 "nbformat_minor": 5
}
