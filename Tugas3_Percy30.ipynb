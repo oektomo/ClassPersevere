{
 "cells": [
  {
   "cell_type": "markdown",
   "id": "576f6294",
   "metadata": {},
   "source": [
    "Data Science\n",
    "\n",
    "1. Asisten Virtual\n",
    "Asisten virtual merupakan salah satu contoh Data Science yang sangat akrab dalam kehidupan kita, misalnya Siri di Iphone, Google Now di Android, dan masih banyak lagi. Dengan adanya asisten virtual ini, dapat membantu untuk memasang alarm, mencari sesuatu di google, menanyakan cuaca, dan hal hal lainnya yang tidak pernah terpikirkan bisa dilakukan oleh robot. Tentunya hal ini akan sangat mempermudah kita, apalagi ketika kita harus melakukan banyak pekerjaan secara bersamaan.\n",
    "\n",
    "2. Chatbot Kesehatan\n",
    "Contoh selanjutnya dari penerapan Data Science adalah chatbot kesehatan. Di Inggris, ada sebuah chatbot kesehatan yang bernama Babylon Health yang dapat digunakan untuk mendiagnosa penyakit. Tidak hanya dapat memberikan jawaban dalam bentuk chat, namun chatbot ini juga bisa berinteraksi dengan suara karena telah dilengkapi dengan fitur speech recognition. Ini tentunya akan sangat mempermudah kita karena hasil diagnosa yang diberikan dapat memberikan gambaran tentang penyakit yang kita miliki meskipun kita tetap harus mengunjungi dokter untuk lebih jelasnya.\n",
    "\n",
    "3. Filter Pesan Spam\n",
    "Kamu pasti pernah melihat email yang dikategorikan sebagai pesan spam secara otomatis, tapi pernahkah kamu bertanya siapa yang melakukan hal tersebut? Ternyata itu merupakan salah satu contoh dari pengaplikasian Data Science. Algoritma Decision Tree merupakan cikal bakal dari algoritma yang digunakan untuk spam filtering, dimana mesin akan menentukan apakah pesan tersebut termasuk sebagai pesan spam atau bukan.\n",
    "\n",
    "Computer Vision\n",
    "\n",
    "a. Sains dan ruang angkasa\n",
    "Teknik rekonstruksi dan filtering membuang \"noise'1 dan mengembahkan\n",
    "bagian yang hilang dari citra satelit dan pesawat luar angkasa,\n",
    "11\n",
    "\n",
    "b. Film-film\n",
    "Pada dunia perfilman, teknik pengolahan citra digunakan untuk mengubah\n",
    "suatu citra menjadi citra Iain, membuang objek tertentu dari frame, dan membuat\n",
    "frame baru dengan mengkomposisikan bagian-bagian dari frame yang lain.\n",
    "c. Pengkomposisian Citra\n",
    "\n",
    "Pengkomposisian citra atau image composition juga digunakan pada film\n",
    "\"Forrest Gump\". Pemain utanmanya telah ditambahkan pada segmen pada beberapa\n",
    "film dokumentasi sejarah, yang didalamnya banyak memunculkan presiden Amerika\n",
    "\n",
    "Natural Languaga Processing\n",
    "\n",
    "1. Chatbots\n",
    "\n",
    "Dalam dunia bisnis, layanan dan pengalaman pelanggan merupakan hal penting yang perlu diprioritaskan. Ketika perusahaan memproduksi banyak produk atau memberikan sebuah  layanan, belum tentu pelanggan merasa puas dengan hasil yang diterima. Tentunya, perusahaan harus menyediakan sarana tempat pengaduan, seperti Chatbot. Chatbots memungkinkan perusahaan mendapatkan tujuan pengalaman pelanggan yang lancar.\n",
    "\n",
    "Chatbot bertujuan untuk membantu perusahaan untuk berinteraksi dengan pelanggan. Banyak perusahaan menggunakan chatbot pada aplikasi atau web mereka,  guna menangani keluhan atau menjawab pertanyaan dasar pelanggan selama 24 jam setiap harinya.\n",
    "\n",
    "2. Speech Recognition\n",
    "\n",
    "Teknologi speech recognition memungkinkan komputer untuk mengubah suara ke format yang dapat dibaca oleh mesin. Speech recognition banyak ditemukan di kehidupan sehari-hari seperti asisten virtual (Siri, Alexa), menerjemahkan ucapan, dan lain sebagainya.\n",
    "\n",
    "3. Search engine\n",
    "\n",
    "NLP memiliki peran dalam mesin pencarian Google, Yahoo, dan lain sebagainya. Pada saat mencari sesuatu di google search engine, maka secara otomatis search engine akan menampilkan beberapa kalimat yang relevan sesuai dengan apa yang dicari."
   ]
  }
 ],
 "metadata": {
  "kernelspec": {
   "display_name": "Python 3 (ipykernel)",
   "language": "python",
   "name": "python3"
  },
  "language_info": {
   "codemirror_mode": {
    "name": "ipython",
    "version": 3
   },
   "file_extension": ".py",
   "mimetype": "text/x-python",
   "name": "python",
   "nbconvert_exporter": "python",
   "pygments_lexer": "ipython3",
   "version": "3.10.2"
  }
 },
 "nbformat": 4,
 "nbformat_minor": 5
}
