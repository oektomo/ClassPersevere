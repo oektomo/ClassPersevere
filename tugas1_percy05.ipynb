{
  "cells": [
    {
      "metadata": {
        "id": "bd1a44sDlBlu"
      },
      "cell_type": "markdown",
      "source": [
        "**Python Introduction**"
      ]
    },
    {
      "cell_type": "markdown",
      "source": [
        ""
      ],
      "metadata": {
        "id": "wu3Ejt9YaGRy"
      }
    },
    {
      "metadata": {
        "colab": {
          "base_uri": "https://localhost:8080/"
        },
        "id": "RblU5BoriCsI",
        "outputId": "97a8deb9-a204-4cdd-feb0-0e2bd148f895",
        "trusted": false
      },
      "cell_type": "code",
      "source": [
        "print(\"Hello, World\")"
      ],
      "execution_count": null,
      "outputs": [
        {
          "name": "stdout",
          "output_type": "stream",
          "text": "Hello, World\n"
        }
      ]
    },
    {
      "metadata": {
        "id": "g-7WAYCmlGFx"
      },
      "cell_type": "markdown",
      "source": [
        "**Python Syntax**"
      ]
    },
    {
      "metadata": {
        "colab": {
          "base_uri": "https://localhost:8080/"
        },
        "id": "hu2eBPCRj_0o",
        "outputId": "183fc556-69a4-42dc-8cec-718acc0017eb",
        "trusted": false
      },
      "cell_type": "code",
      "source": [
        "if (5>2):\n",
        "  print(\"lima lebih besar dari dua\")"
      ],
      "execution_count": null,
      "outputs": [
        {
          "name": "stdout",
          "output_type": "stream",
          "text": "lima lebih besar dari dua\n"
        }
      ]
    },
    {
      "metadata": {
        "colab": {
          "base_uri": "https://localhost:8080/"
        },
        "id": "ik0VhCMMkQ7u",
        "outputId": "1ce7b097-da91-461c-e387-3f7597279fc2",
        "trusted": false
      },
      "cell_type": "code",
      "source": [
        "x = 5\n",
        "y = \"Hello, World\"\n",
        "# print x dan y\n",
        "print(x , y)"
      ],
      "execution_count": null,
      "outputs": [
        {
          "name": "stdout",
          "output_type": "stream",
          "text": "5 Hello, World\n"
        }
      ]
    },
    {
      "metadata": {
        "id": "37hMEY27lL3e"
      },
      "cell_type": "markdown",
      "source": [
        "**Python Comment**"
      ]
    },
    {
      "metadata": {
        "colab": {
          "base_uri": "https://localhost:8080/"
        },
        "id": "6fvJ8C5Dkt6f",
        "outputId": "718a5005-b7a4-48c1-81f6-b80bd639836d",
        "trusted": false
      },
      "cell_type": "code",
      "source": [
        "# this is comment\n",
        "print(\"hello world\") # this is comment too"
      ],
      "execution_count": null,
      "outputs": [
        {
          "name": "stdout",
          "output_type": "stream",
          "text": "hello world\n"
        }
      ]
    },
    {
      "metadata": {
        "id": "_LVQ8b0alYjW"
      },
      "cell_type": "markdown",
      "source": [
        "**Python Variabel**"
      ]
    },
    {
      "metadata": {
        "colab": {
          "base_uri": "https://localhost:8080/"
        },
        "id": "UmQwgbsrk7xm",
        "outputId": "7b547e99-6000-433f-f635-9fbad6dc7811",
        "trusted": false
      },
      "cell_type": "code",
      "source": [
        "# mengoverwrite variabel\n",
        "x = 4       # x is of type integer\n",
        "x = \"Sally\" # x is now of type string\n",
        "print(x)"
      ],
      "execution_count": null,
      "outputs": [
        {
          "name": "stdout",
          "output_type": "stream",
          "text": "Sally\n"
        }
      ]
    },
    {
      "metadata": {
        "id": "HXJspaGqlzOU",
        "trusted": false
      },
      "cell_type": "code",
      "source": [
        "# casting\n",
        "x = str(3)    # x will be '3' string\n",
        "y = int(3)    # y will be 3 integer\n",
        "z = float(3)  # z will be 3.0 desimal"
      ],
      "execution_count": null,
      "outputs": []
    },
    {
      "metadata": {
        "colab": {
          "base_uri": "https://localhost:8080/"
        },
        "id": "xTAFGrQVl_Du",
        "outputId": "3b14005b-8707-42e5-cc1c-cc42e6eaa6d3",
        "trusted": false
      },
      "cell_type": "code",
      "source": [
        "# melihat tipe data pada python\n",
        "x = 5\n",
        "y = \"John\"\n",
        "print(type(x))\n",
        "print(type(y))"
      ],
      "execution_count": null,
      "outputs": [
        {
          "name": "stdout",
          "output_type": "stream",
          "text": "<class 'int'>\n<class 'str'>\n"
        }
      ]
    },
    {
      "metadata": {
        "id": "j63tD4BDmGLG",
        "trusted": false
      },
      "cell_type": "code",
      "source": [
        "# penggunaan double quotes dan single quotes pada string \n",
        "x = \"John\"\n",
        "# is the same as\n",
        "x = 'John'"
      ],
      "execution_count": null,
      "outputs": []
    },
    {
      "metadata": {
        "colab": {
          "base_uri": "https://localhost:8080/"
        },
        "id": "HHylM3Kgmd7u",
        "outputId": "c6b81811-2fb7-4386-cfd4-4970f35aa0a7",
        "trusted": false
      },
      "cell_type": "code",
      "source": [
        "# case sensitive, jadi huruf kecil dan kapital memliki perbedaan di python\n",
        "a = 4\n",
        "A = \"Sally\"\n",
        "print(a)"
      ],
      "execution_count": null,
      "outputs": [
        {
          "name": "stdout",
          "output_type": "stream",
          "text": "4\n"
        }
      ]
    },
    {
      "metadata": {
        "colab": {
          "base_uri": "https://localhost:8080/"
        },
        "id": "5d1WoWBdmtzH",
        "outputId": "2c95ce25-a1f9-4a62-dd51-26a5483e49dd",
        "trusted": false
      },
      "cell_type": "code",
      "source": [
        "# legal variabel name pada python\n",
        "myvar = \"John\"\n",
        "my_var = \"John\"\n",
        "_my_var = \"John\"\n",
        "myVar = \"John\"\n",
        "MYVAR = \"John\"\n",
        "myvar2 = \"John\"\n",
        "\n",
        "\n",
        "print(myvar)\n",
        "print(my_var)\n",
        "print(_my_var)\n",
        "print(myVar)\n",
        "print(MYVAR)\n",
        "print(myvar2)"
      ],
      "execution_count": null,
      "outputs": [
        {
          "name": "stdout",
          "output_type": "stream",
          "text": "John\nJohn\nJohn\nJohn\nJohn\nJohn\n"
        }
      ]
    },
    {
      "metadata": {
        "colab": {
          "base_uri": "https://localhost:8080/"
        },
        "id": "qSRFN_CTnK8v",
        "outputId": "ede53bfc-17ce-4629-aa12-5d85799c2b26",
        "trusted": false
      },
      "cell_type": "code",
      "source": [
        "# memdefinisikan banyak variabel dengan 1 line\n",
        "x, y, z = \"Orange\", \"Banana\", \"Cherry\"\n",
        "\n",
        "print(x)\n",
        "print(y)\n",
        "print(z)\n"
      ],
      "execution_count": null,
      "outputs": [
        {
          "name": "stdout",
          "output_type": "stream",
          "text": "Orange\nBanana\nCherry\n"
        }
      ]
    },
    {
      "metadata": {
        "colab": {
          "base_uri": "https://localhost:8080/"
        },
        "id": "tZElZLFGndW2",
        "outputId": "86a08f6e-e7c6-4d94-c381-320dd217919d",
        "trusted": false
      },
      "cell_type": "code",
      "source": [
        "# satu value dengan banyak variabel\n",
        "x = y = z = \"Orange\"\n",
        "\n",
        "print(x)\n",
        "print(y)\n",
        "print(z)\n"
      ],
      "execution_count": null,
      "outputs": [
        {
          "name": "stdout",
          "output_type": "stream",
          "text": "Orange\nOrange\nOrange\n"
        }
      ]
    },
    {
      "metadata": {
        "colab": {
          "base_uri": "https://localhost:8080/"
        },
        "id": "KVyyxyQknkZ2",
        "outputId": "89e140ee-32ee-4a1f-d68f-df24889226b3",
        "trusted": false
      },
      "cell_type": "code",
      "source": [
        "# unpacking a collection, jika kita punya list(array). maka kita dapat mengassign satu persatu \n",
        "# elemen dalam masing2 variabel dengan syarat jumlah variabel nya sama dengan jumlah elemen pada array\n",
        "fruits = [\"apple\", \"banana\", \"cherry\"]\n",
        "x, y, z = fruits\n",
        "\n",
        "print(x)\n",
        "print(y)\n",
        "print(z)"
      ],
      "execution_count": null,
      "outputs": [
        {
          "name": "stdout",
          "output_type": "stream",
          "text": "apple\nbanana\ncherry\n"
        }
      ]
    },
    {
      "metadata": {
        "colab": {
          "base_uri": "https://localhost:8080/"
        },
        "id": "vJyRq4QyoLsW",
        "outputId": "8d0418c8-0aa5-4cef-af2e-1c1d3efb8b14",
        "trusted": false
      },
      "cell_type": "code",
      "source": [
        "# mengkombinasikan variabel dengan teks / variabel lain \n",
        "# saat menprint pada terminal\n",
        "x = \"halo\"\n",
        "y = \" kakak\"\n",
        "a = 5 ; b = 10\n",
        "\n",
        "print(x + y , a + b)"
      ],
      "execution_count": null,
      "outputs": [
        {
          "name": "stdout",
          "output_type": "stream",
          "text": "halo kakak 15\n"
        }
      ]
    },
    {
      "metadata": {
        "colab": {
          "base_uri": "https://localhost:8080/"
        },
        "id": "QMgpv3EKpCrn",
        "outputId": "bc4828c1-85ce-4370-c388-0a8bfed4c9d5",
        "trusted": false
      },
      "cell_type": "code",
      "source": [
        "# Contoh Variabel Global (x) yang bisa digunakna untuk semua fungsi\n",
        "x = \"awesome\"\n",
        "\n",
        "def myfunc():\n",
        "  print(\"Python is \" + x)\n",
        "\n",
        "myfunc()"
      ],
      "execution_count": null,
      "outputs": [
        {
          "name": "stdout",
          "output_type": "stream",
          "text": "Python is awesome\n"
        }
      ]
    },
    {
      "metadata": {
        "colab": {
          "base_uri": "https://localhost:8080/"
        },
        "id": "uWaii7lEpOVO",
        "outputId": "6c8f93d8-0dd3-413a-fa69-e9c64bd95c73",
        "trusted": false
      },
      "cell_type": "code",
      "source": [
        "# pada fungsi adalah variabel lokal scope dan pada x = awesome adalah global variabel\n",
        "x = \"awesome\"\n",
        "\n",
        "def myfunc():\n",
        "  x = \"fantastic\"\n",
        "  print(\"Python is \" + x)\n",
        "\n",
        "myfunc()\n",
        "\n",
        "print(\"Python is \" + x)"
      ],
      "execution_count": null,
      "outputs": [
        {
          "name": "stdout",
          "output_type": "stream",
          "text": "Python is fantastic\nPython is awesome\n"
        }
      ]
    },
    {
      "metadata": {
        "colab": {
          "base_uri": "https://localhost:8080/"
        },
        "id": "0-LXDckxpcVd",
        "outputId": "ca127178-7623-4ce4-9c3e-f36d95e1800b",
        "trusted": false
      },
      "cell_type": "code",
      "source": [
        "# pada python kita dapat membuat variabel lokal menjadi variabel global\n",
        "# dan merubah variabel global dari variabel scope\n",
        "x = \"awesome\"\n",
        "def myfunc():\n",
        "  global x\n",
        "  x = \"fantastic\"\n",
        "\n",
        "myfunc()\n",
        "\n",
        "print(\"Python is \" + x)"
      ],
      "execution_count": null,
      "outputs": [
        {
          "name": "stdout",
          "output_type": "stream",
          "text": "Python is fantastic\n"
        }
      ]
    },
    {
      "metadata": {
        "id": "rxNy9RIyqo4V"
      },
      "cell_type": "markdown",
      "source": [
        "**Python Data Type**"
      ]
    },
    {
      "metadata": {
        "colab": {
          "base_uri": "https://localhost:8080/"
        },
        "id": "hjoo8yg5qLQQ",
        "outputId": "59b505fb-adae-461a-fece-83638f7a6416",
        "trusted": false
      },
      "cell_type": "code",
      "source": [
        "# melihat tipe data python\n",
        "a = 5\n",
        "b = \"wonderfull\"\n",
        "c = 3.32\n",
        "d = [5,2,'who']\n",
        "e = (1,2,3)\n",
        "f = {1,2,3}\n",
        "g = {'a':[1,2,3],\n",
        "     'b':['soap','tootbrush']}\n",
        "h = True\n",
        "i = 1j\n",
        "print(type(a))\n",
        "print(type(b))\n",
        "print(type(c))\n",
        "print(type(d))\n",
        "print(type(e))\n",
        "print(type(f))\n",
        "print(type(g))\n",
        "print(type(h))\n",
        "print(type(i))"
      ],
      "execution_count": null,
      "outputs": [
        {
          "name": "stdout",
          "output_type": "stream",
          "text": "<class 'int'>\n<class 'str'>\n<class 'float'>\n<class 'list'>\n<class 'tuple'>\n<class 'set'>\n<class 'dict'>\n<class 'bool'>\n<class 'complex'>\n"
        }
      ]
    },
    {
      "metadata": {
        "id": "2iGuFFHPsNdX"
      },
      "cell_type": "markdown",
      "source": [
        "**Python Number**"
      ]
    },
    {
      "metadata": {
        "colab": {
          "base_uri": "https://localhost:8080/"
        },
        "id": "2xu9FW5VsIeT",
        "outputId": "38464feb-0102-4d08-db7b-fb69f509b54d",
        "trusted": false
      },
      "cell_type": "code",
      "source": [
        "# konversi satuan pada python\n",
        "x = 1    # int\n",
        "y = 2.8  # float\n",
        "z = 1j   # complex\n",
        "\n",
        "#convert from int to float:\n",
        "a = float(x)\n",
        "\n",
        "#convert from float to int:\n",
        "b = int(y)\n",
        "\n",
        "#convert from int to complex:\n",
        "c = complex(x)\n",
        "\n",
        "print(a)\n",
        "print(b)\n",
        "print(c)\n",
        "\n",
        "print(type(a))\n",
        "print(type(b))\n",
        "print(type(c))"
      ],
      "execution_count": null,
      "outputs": [
        {
          "name": "stdout",
          "output_type": "stream",
          "text": "1.0\n2\n(1+0j)\n<class 'float'>\n<class 'int'>\n<class 'complex'>\n"
        }
      ]
    },
    {
      "metadata": {
        "colab": {
          "base_uri": "https://localhost:8080/"
        },
        "id": "Y27Z_llpuYSj",
        "outputId": "c0d76d70-2c12-43b9-fba2-f3bcac19ccf5",
        "trusted": false
      },
      "cell_type": "code",
      "source": [
        "# generate random number pada python\n",
        "import random\n",
        "\n",
        "print(random.randrange(1, 10))"
      ],
      "execution_count": null,
      "outputs": [
        {
          "name": "stdout",
          "output_type": "stream",
          "text": "8\n"
        }
      ]
    },
    {
      "metadata": {
        "id": "X4V6vROQuYnG"
      },
      "cell_type": "markdown",
      "source": [
        "**Python Casting**"
      ]
    },
    {
      "metadata": {
        "colab": {
          "base_uri": "https://localhost:8080/"
        },
        "id": "BeXQDUzQuvbm",
        "outputId": "9455c923-1d63-4ce2-d506-42938a45f4fc",
        "trusted": false
      },
      "cell_type": "code",
      "source": [
        "# mengkonversi teks menjadi angka dan sebaliknya\n",
        "a1 = 5\n",
        "b1 = '10'\n",
        "\n",
        "print(a1)\n",
        "print(b1)\n",
        "\n",
        "a2 = str(a1)\n",
        "b2 = int(b1)\n",
        "\n",
        "print(type(a2))\n",
        "print(type(b2))\n"
      ],
      "execution_count": null,
      "outputs": [
        {
          "name": "stdout",
          "output_type": "stream",
          "text": "5\n10\n<class 'str'>\n<class 'int'>\n"
        }
      ]
    },
    {
      "metadata": {
        "id": "kp83pS_HvHxl"
      },
      "cell_type": "markdown",
      "source": [
        "**Python String**"
      ]
    },
    {
      "metadata": {
        "colab": {
          "base_uri": "https://localhost:8080/"
        },
        "id": "Uzz809kBuvnc",
        "outputId": "79952444-7fa7-4f7b-fb90-41d207479373",
        "trusted": false
      },
      "cell_type": "code",
      "source": [
        "# format multilateral string\n",
        "a = (f\"\"\"Lorem ipsum dolor sit amet,\n",
        "consectetur adipiscing elit,\n",
        "sed do eiusmod tempor incididunt\n",
        "ut labore et dolore magna aliqua.\n",
        "\"\"\")\n",
        "print(a)"
      ],
      "execution_count": null,
      "outputs": [
        {
          "name": "stdout",
          "output_type": "stream",
          "text": "Lorem ipsum dolor sit amet,\nconsectetur adipiscing elit,\nsed do eiusmod tempor incididunt\nut labore et dolore magna aliqua.\n\n"
        }
      ]
    },
    {
      "metadata": {
        "colab": {
          "base_uri": "https://localhost:8080/"
        },
        "id": "O4PPUzeiwbaG",
        "outputId": "0e22f916-fec8-4585-b366-f0952eadfe74",
        "trusted": false
      },
      "cell_type": "code",
      "source": [
        "# array in string\n",
        "a = \"banana\"\n",
        "print(a[2],\"\\n\")\n",
        "\n",
        "for i in a:\n",
        "  print(i)\n",
        "print(\"\\n\")\n",
        "\n",
        "# panjang string\n",
        "a = \"helllo, world\"\n",
        "print(len(a))\n",
        "\n",
        "# checking word in string\n",
        "a = \"pisang di rumah nenek\"\n",
        "if \"makan\" in a:\n",
        "  print(f\"\"\" ada 'makan' di variabel a  \"\"\")\n",
        "else:\n",
        "  print(f\"\"\" tidak ada 'makan' didalam variabel a \"\"\")\n"
      ],
      "execution_count": null,
      "outputs": [
        {
          "name": "stdout",
          "output_type": "stream",
          "text": "n \n\nb\na\nn\na\nn\na\n\n\n13\n tidak ada 'makan' didalam variabel a \n"
        }
      ]
    },
    {
      "metadata": {
        "colab": {
          "base_uri": "https://localhost:8080/"
        },
        "id": "QLtVFtUcyC4V",
        "outputId": "5ab79d34-5895-49dd-b6ff-4fef73aab934",
        "trusted": false
      },
      "cell_type": "code",
      "source": [
        "# slicing string dan indexing dengan negatif\n",
        "b = \"Hello, World!\"\n",
        "\n",
        "a = b[:5]\n",
        "c = b[-6:-1]\n",
        "\n",
        "print(a)\n",
        "print(c)"
      ],
      "execution_count": null,
      "outputs": [
        {
          "name": "stdout",
          "output_type": "stream",
          "text": "Hello\nWorld\n"
        }
      ]
    },
    {
      "metadata": {
        "colab": {
          "base_uri": "https://localhost:8080/"
        },
        "id": "1I1YsmGsy9QG",
        "outputId": "994d457d-3816-4632-e66d-62b9f7fd1926",
        "trusted": false
      },
      "cell_type": "code",
      "source": [
        "# modify string\n",
        "a = \"Hello, World!\"\n",
        "print(a.upper())\n",
        "\n",
        "a = \"Hello, World!\"\n",
        "print(a.lower())\n",
        "\n",
        "# strip() akan menghilangkan spasi pada awal kalimat dan akhir kalimat\n",
        "a = \" Hello, World! \"\n",
        "print(a.strip()) # returns \"Hello, World!\"\n",
        "\n",
        "a = \"Hello, World!\"\n",
        "print(a.replace(\"Hello\", \"Oyasumi\"))\n",
        "\n",
        "# split() merubah string menjadi list\n",
        "a = \"Hello, World!\"\n",
        "print(a.split(\",\")) # returns ['Hello', ' World!']"
      ],
      "execution_count": null,
      "outputs": [
        {
          "name": "stdout",
          "output_type": "stream",
          "text": "HELLO, WORLD!\nhello, world!\nHello, World!\nOyasumi, World!\n['Hello', ' World!']\n"
        }
      ]
    },
    {
      "metadata": {
        "colab": {
          "base_uri": "https://localhost:8080/"
        },
        "id": "_mDE9GsbzmH0",
        "outputId": "3a4e8159-fcdc-4529-d802-44e09a0db6fd",
        "trusted": false
      },
      "cell_type": "code",
      "source": [
        "# format string\n",
        "a = 5\n",
        "b = \"senilai\"\n",
        "print(f\"\"\"variabel a {b} {a}\"\"\")"
      ],
      "execution_count": null,
      "outputs": [
        {
          "name": "stdout",
          "output_type": "stream",
          "text": "variabel a senilai 5\n"
        }
      ]
    },
    {
      "metadata": {
        "colab": {
          "base_uri": "https://localhost:8080/"
        },
        "id": "tRUD-Sd7z7rr",
        "outputId": "d266ee15-b0b8-4ecf-9585-3d81ee6cbfd8",
        "trusted": false
      },
      "cell_type": "code",
      "source": [
        "# escape quotes\n",
        "a = \"they are called themselves a \\\"guardian\\\" which is means they are soldier of lunatia kingdom\"\n",
        "print(a)"
      ],
      "execution_count": null,
      "outputs": [
        {
          "name": "stdout",
          "output_type": "stream",
          "text": "they are called themselves a \"guardian\" which is means they are soldier of lunatia kingdom\n"
        }
      ]
    },
    {
      "metadata": {
        "id": "LFUHtyWJ0458"
      },
      "cell_type": "markdown",
      "source": [
        "**Python Bool**"
      ]
    },
    {
      "metadata": {
        "colab": {
          "base_uri": "https://localhost:8080/"
        },
        "id": "1FpwZ_FQ0i17",
        "outputId": "f212c660-f989-4d2c-ee4c-c6098dc95b7a",
        "trusted": false
      },
      "cell_type": "code",
      "source": [
        "a= bool(\"abc\")\n",
        "b= bool(123)\n",
        "c= bool([\"apple\", \"cherry\", \"banana\"])\n",
        "d= bool({})\n",
        "e= bool([])\n",
        "\n",
        "print(a)\n",
        "print(b)\n",
        "print(c)\n",
        "print(d)\n",
        "print(e)"
      ],
      "execution_count": null,
      "outputs": [
        {
          "name": "stdout",
          "output_type": "stream",
          "text": "True\nTrue\nTrue\nFalse\nFalse\n"
        }
      ]
    },
    {
      "metadata": {
        "colab": {
          "base_uri": "https://localhost:8080/"
        },
        "id": "24KfOneV1Yxa",
        "outputId": "7bcec94e-003d-40ce-d9c2-1cb416bb5b1d",
        "trusted": false
      },
      "cell_type": "code",
      "source": [
        "#  class yang akan mereturn bool akan bernilai false jika mengembalikan nilai 0\n",
        "class myclass():\n",
        "  def __len__(self):\n",
        "    return 0\n",
        "\n",
        "myobj = myclass()\n",
        "print(bool(myobj))"
      ],
      "execution_count": null,
      "outputs": [
        {
          "name": "stdout",
          "output_type": "stream",
          "text": "False\n"
        }
      ]
    },
    {
      "metadata": {
        "colab": {
          "base_uri": "https://localhost:8080/"
        },
        "id": "lUFirW691c8C",
        "outputId": "76d55573-a713-4715-bd62-e8e444dd34c5",
        "trusted": false
      },
      "cell_type": "code",
      "source": [
        "# fungsi yang mengambalikan nilai bool dan pada percabangan \n",
        "def kebenaran():\n",
        "  return True\n",
        "\n",
        "if kebenaran() == True:\n",
        "  print(\"Kebenaran tak akan kalah\")\n",
        "else:\n",
        "  print(\"Akan tiba waktunya Kebenaran akan menang\")\n",
        "\n",
        "kebenaran()"
      ],
      "execution_count": null,
      "outputs": [
        {
          "name": "stdout",
          "output_type": "stream",
          "text": "Kebenaran tak akan kalah\n"
        },
        {
          "data": {
            "text/plain": "True"
          },
          "execution_count": 152,
          "metadata": {},
          "output_type": "execute_result"
        }
      ]
    },
    {
      "metadata": {
        "id": "fJLiOAqf2tYi"
      },
      "cell_type": "markdown",
      "source": [
        "**Python Operator**"
      ]
    },
    {
      "metadata": {
        "colab": {
          "base_uri": "https://localhost:8080/"
        },
        "id": "xb-CHWKF2vmR",
        "outputId": "61756d1f-f4ac-4d4e-b3d9-880752cdfbbf",
        "trusted": false
      },
      "cell_type": "code",
      "source": [
        "a = 7%2\n",
        "b = 2**3\n",
        "c = 5/2\n",
        "d = 5//2\n",
        "e = 10\n",
        "e*= 5\n",
        "\n",
        "print(a)\n",
        "print(b)\n",
        "print(c)\n",
        "print(d)\n",
        "print(e)"
      ],
      "execution_count": null,
      "outputs": [
        {
          "name": "stdout",
          "output_type": "stream",
          "text": "1\n8\n2.5\n2\n50\n"
        }
      ]
    },
    {
      "metadata": {
        "id": "tqVxFVUa3mlD"
      },
      "cell_type": "markdown",
      "source": [
        "**Python List**"
      ]
    },
    {
      "metadata": {
        "colab": {
          "base_uri": "https://localhost:8080/"
        },
        "id": "X4J3qWo83ozZ",
        "outputId": "a3b8521b-76ce-4320-ad75-ff68f6c0caf3",
        "trusted": false
      },
      "cell_type": "code",
      "source": [
        "a = ['javascript','python','c++','php','c','hmtl','CSS']\n",
        "d = [5,3,6,2,25,6]\n",
        "\n",
        "# indexing\n",
        "b = a[1]\n",
        "print(b,\"\\n\")\n",
        "\n",
        "# slicing\n",
        "c = a[:3]\n",
        "print(c,\"\\n\")\n",
        "\n",
        "# panjang list\n",
        "print(len(a),\"\\n\")\n",
        "\n",
        "# sort list\n",
        "e = d.sort()\n",
        "print(d)"
      ],
      "execution_count": null,
      "outputs": [
        {
          "name": "stdout",
          "output_type": "stream",
          "text": "python \n\n['javascript', 'python', 'c++'] \n\n7 \n\n[2, 3, 5, 6, 6, 25]\n"
        }
      ]
    },
    {
      "metadata": {
        "id": "vOOxGWzJ5Gu7"
      },
      "cell_type": "markdown",
      "source": [
        "**Python Tuple**"
      ]
    },
    {
      "metadata": {
        "colab": {
          "base_uri": "https://localhost:8080/"
        },
        "id": "Nb7zd7xM5mp7",
        "outputId": "b4b174e7-5de1-486f-89e0-c8d9d45b8507",
        "trusted": false
      },
      "cell_type": "code",
      "source": [
        "thistuple = (\"apple\", \"banana\", \"cherry\", \"orange\", \"kiwi\", \"melon\", \"mango\")\n",
        "print(thistuple[2:5],\"\\n\")\n",
        "\n",
        "# join a tuple\n",
        "tuple2 = (1, 2, 3)\n",
        "print(thistuple + tuple2,\"\\n\")\n",
        "\n",
        "# perkalian tuple\n",
        "print(tuple2*2,\"\\n\")\n",
        "\n",
        "# mencari jumlah elemen pada tuple\n",
        "print(thistuple.count(\"orange\"))"
      ],
      "execution_count": null,
      "outputs": [
        {
          "name": "stdout",
          "output_type": "stream",
          "text": "('cherry', 'orange', 'kiwi') \n\n('apple', 'banana', 'cherry', 'orange', 'kiwi', 'melon', 'mango', 1, 2, 3) \n\n(1, 2, 3, 1, 2, 3) \n\n1\n"
        }
      ]
    },
    {
      "metadata": {
        "id": "N93gwlog6p3a"
      },
      "cell_type": "markdown",
      "source": [
        "**Python Set**"
      ]
    },
    {
      "metadata": {
        "colab": {
          "base_uri": "https://localhost:8080/"
        },
        "id": "LRf6eOuX6pQS",
        "outputId": "e0dbcce6-d858-4a86-ffb9-198e9e9e8ead",
        "trusted": false
      },
      "cell_type": "code",
      "source": [
        "myset = {\"apple\", \"banana\", \"cherry\"}\n",
        "\n",
        "# menggunakan constructor/konversi ke sets dan menghitung panjang elemen sets\n",
        "set_baru = set([\"avanza\",\"toyota\",\"suzuki\"])\n",
        "print(f\"\"\"tipe data adalah {type(set_baru)} dengan panjang {len(set_baru)} \\n\"\"\")\n",
        "\n",
        "# looping set dan cek elemen\n",
        "for i in set_baru:\n",
        "  print(i)\n",
        "\n",
        "if \"avanza\" in set_baru:\n",
        "  print(\"\\nBenar\\n\")\n",
        "else:\n",
        "  print(\"\\nSalah\\n\")\n",
        "\n",
        "# menambah dan mengurangi elemen sets\n",
        "myset.add(\"monas\")\n",
        "print(myset,\"\\n\")\n",
        "myset.remove(\"apple\")\n",
        "print(myset,\"\\n\")\n",
        "\n",
        "# method union() -> menggabungkan elemen ; update() -> menambahkan elemen\n",
        "set1 = {\"a\", \"b\" , \"c\"}\n",
        "set2 = {1, 2, 3}\n",
        "\n",
        "set3 = set1.union(set2)\n",
        "print(set3)\n",
        "\n",
        "sett1 = {\"a\", \"b\" , \"c\"}\n",
        "sett2 = {1, 2, 3}\n",
        "\n",
        "sett1.update(sett2)\n",
        "print(sett1)"
      ],
      "execution_count": null,
      "outputs": [
        {
          "name": "stdout",
          "output_type": "stream",
          "text": "tipe data adalah <class 'set'> dengan panjang 3 \n\nsuzuki\ntoyota\navanza\n\nBenar\n\n{'monas', 'apple', 'banana', 'cherry'} \n\n{'monas', 'banana', 'cherry'} \n\n{1, 2, 3, 'a', 'b', 'c'}\n{1, 2, 3, 'a', 'b', 'c'}\n"
        }
      ]
    },
    {
      "metadata": {
        "id": "gE3k3ZUB9X9o"
      },
      "cell_type": "markdown",
      "source": [
        "**Python Dictionary**"
      ]
    },
    {
      "metadata": {
        "colab": {
          "base_uri": "https://localhost:8080/"
        },
        "id": "AJ_zK8fC9atv",
        "outputId": "6c80e9fe-0a12-4e54-ad24-776916350e97",
        "trusted": false
      },
      "cell_type": "code",
      "source": [
        "# mengakses key pada dictionary\n",
        "thisdict = {\n",
        "  \"brand\": [\"Ford\",\"toyota\"],\n",
        "  \"model\": [\"Mustang\",\"avanza\"],\n",
        "  \"year\": [1964,2010]\n",
        "}\n",
        "x = thisdict[\"model\"]\n",
        "print(x,\"\\n\")\n",
        "\n",
        "# method melihat semua keys() ; values()\n",
        "print(thisdict.keys())\n",
        "print(thisdict.values(),\"\\n\")\n",
        "\n",
        "# menambahkan key dan value baru ke variabel dictionary\n",
        "thisdict['owner'] = [\"and\",\"budi\"]\n",
        "print(thisdict)\n",
        "\n"
      ],
      "execution_count": null,
      "outputs": [
        {
          "name": "stdout",
          "output_type": "stream",
          "text": "['Mustang', 'avanza'] \n\ndict_keys(['brand', 'model', 'year'])\ndict_values([['Ford', 'toyota'], ['Mustang', 'avanza'], [1964, 2010]]) \n\n{'brand': ['Ford', 'toyota'], 'model': ['Mustang', 'avanza'], 'year': [1964, 2010], 'owner': ['and', 'budi']}\n"
        }
      ]
    },
    {
      "metadata": {
        "colab": {
          "base_uri": "https://localhost:8080/"
        },
        "id": "Ueyu1wbI_L1P",
        "outputId": "fd41ebac-a84c-4b13-f848-fc8236d52b94",
        "trusted": false
      },
      "cell_type": "code",
      "source": [
        "# method items() akan mengembalikan setiap item didictionary sebagai tuple didalam list\n",
        "car = {\n",
        "\"brand\": \"Ford\",\n",
        "\"model\": \"Mustang\",\n",
        "\"year\": 1964\n",
        "}\n",
        "\n",
        "x = car.items()\n",
        "\n",
        "print(x) #before the change\n",
        "\n",
        "car[\"year\"] = 2020\n",
        "\n",
        "print(x) #after the change"
      ],
      "execution_count": null,
      "outputs": [
        {
          "name": "stdout",
          "output_type": "stream",
          "text": "dict_items([('brand', 'Ford'), ('model', 'Mustang'), ('year', 1964)])\ndict_items([('brand', 'Ford'), ('model', 'Mustang'), ('year', 2020)])\n"
        }
      ]
    },
    {
      "metadata": {
        "colab": {
          "base_uri": "https://localhost:8080/"
        },
        "id": "qp64ORJW_eTZ",
        "outputId": "430b0f58-e4a5-4c07-dd91-7db564640eac",
        "trusted": false
      },
      "cell_type": "code",
      "source": [
        "# mengecek apakah key ada di dictionary\n",
        "thisdict = {\n",
        "  \"brand\": \"Ford\",\n",
        "  \"model\": \"Mustang\",\n",
        "  \"year\": 1964\n",
        "}\n",
        "if \"model\" in thisdict:\n",
        "  print(\"Yes, 'model' is one of the keys in the thisdict dictionary\")"
      ],
      "execution_count": null,
      "outputs": [
        {
          "name": "stdout",
          "output_type": "stream",
          "text": "Yes, 'model' is one of the keys in the thisdict dictionary\n"
        }
      ]
    },
    {
      "metadata": {
        "colab": {
          "base_uri": "https://localhost:8080/"
        },
        "id": "vAy4-Xob_kKR",
        "outputId": "cb34b0ae-5051-406c-890f-c682497d835b",
        "trusted": false
      },
      "cell_type": "code",
      "source": [
        "# merubah nilai dict , tidak harus sama banyaknya value seperti value sebelumnya\n",
        "thisdict = {\n",
        "  \"brand\": [\"Ford\",\"toyota\"],\n",
        "  \"model\": [\"Mustang\",\"avanza\"],\n",
        "  \"year\": [1964,2010]\n",
        "}\n",
        "\n",
        "thisdict['year'] = 2000\n",
        "print(thisdict)"
      ],
      "execution_count": null,
      "outputs": [
        {
          "name": "stdout",
          "output_type": "stream",
          "text": "{'brand': ['Ford', 'toyota'], 'model': ['Mustang', 'avanza'], 'year': 2000}\n"
        }
      ]
    },
    {
      "metadata": {
        "colab": {
          "base_uri": "https://localhost:8080/"
        },
        "id": "iAFXxdCoAWBJ",
        "outputId": "10e31acf-fbb3-496e-a7f4-4b597fe1d807",
        "trusted": false
      },
      "cell_type": "code",
      "source": [
        "# deleting dictionary dan clear\n",
        "thisdict = {\n",
        "  \"brand\": [\"Ford\",\"toyota\"],\n",
        "  \"model\": [\"Mustang\",\"avanza\"],\n",
        "  \"year\": [1964,2010]\n",
        "}\n",
        "\n",
        "thisdict.pop(\"brand\")\n",
        "print(thisdict)\n",
        "\n",
        "thisdict.clear()\n",
        "print(thisdict)"
      ],
      "execution_count": null,
      "outputs": [
        {
          "name": "stdout",
          "output_type": "stream",
          "text": "{'model': ['Mustang', 'avanza'], 'year': [1964, 2010]}\n{}\n"
        }
      ]
    },
    {
      "metadata": {
        "colab": {
          "base_uri": "https://localhost:8080/"
        },
        "id": "LXKXEYDcA7-4",
        "outputId": "ad887a2f-15cb-4722-a2e6-fedabab17f3a",
        "trusted": false
      },
      "cell_type": "code",
      "source": [
        "# looping \n",
        "thisdict = {\n",
        "  \"brand\": [\"Ford\",\"toyota\"],\n",
        "  \"model\": [\"Mustang\",\"avanza\"],\n",
        "  \"year\": [1964,2010]\n",
        "}\n",
        "for x in thisdict.values():\n",
        "  print(x)"
      ],
      "execution_count": null,
      "outputs": [
        {
          "name": "stdout",
          "output_type": "stream",
          "text": "['Ford', 'toyota']\n['Mustang', 'avanza']\n[1964, 2010]\n"
        }
      ]
    },
    {
      "metadata": {
        "colab": {
          "base_uri": "https://localhost:8080/"
        },
        "id": "Y7kAvqF4BAow",
        "outputId": "e5c4911f-edb1-46fd-ece8-f7e1098fb3d0",
        "trusted": false
      },
      "cell_type": "code",
      "source": [
        "# nested dictionary\n",
        "myfamily = {\n",
        "  \"child1\" : {\n",
        "    \"name\" : \"Emil\",\n",
        "    \"year\" : 2004\n",
        "  },\n",
        "  \"child2\" : {\n",
        "    \"name\" : \"Tobias\",\n",
        "    \"year\" : 2007\n",
        "  },\n",
        "  \"child3\" : {\n",
        "    \"name\" : \"Linus\",\n",
        "    \"year\" : 2011\n",
        "  }\n",
        "}\n",
        "\n",
        "print(myfamily)"
      ],
      "execution_count": null,
      "outputs": [
        {
          "name": "stdout",
          "output_type": "stream",
          "text": "{'child1': {'name': 'Emil', 'year': 2004}, 'child2': {'name': 'Tobias', 'year': 2007}, 'child3': {'name': 'Linus', 'year': 2011}}\n"
        }
      ]
    }
  ],
  "metadata": {
    "colab": {
      "collapsed_sections": [],
      "name": "tugas1_percy05.ipynb",
      "provenance": []
    },
    "kernelspec": {
      "name": "python3",
      "display_name": "Python 3",
      "language": "python"
    },
    "language_info": {
      "name": "python",
      "version": "3.6.15",
      "mimetype": "text/x-python",
      "codemirror_mode": {
        "name": "ipython",
        "version": 3
      },
      "pygments_lexer": "ipython3",
      "nbconvert_exporter": "python",
      "file_extension": ".py"
    }
  },
  "nbformat": 4,
  "nbformat_minor": 0
}