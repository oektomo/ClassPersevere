{
 "cells": [
  {
   "cell_type": "markdown",
   "metadata": {},
   "source": [
    "Python OOP \n",
    "1. Apa itu OOP dan cobalah buat 2 implementasi konsep OOP menggunakan python! \n",
    "2. Sebutkan dan jelaskan 2 jenis modules yang ada di Python! \n",
    "3. Hitunglah berapa hasil dari √175 + 4√7 + (1/3) + ³log 81 menggunakan module math! \n",
    "4. Apa itu custom exception handling dan berikan 1 contoh implementasinya"
   ]
  },
  {
   "cell_type": "markdown",
   "metadata": {},
   "source": [
    "Jawaban No.1 :\n",
    "OOP atau kependekan dari (object oriented progamming) adalah pemrogramman yang beorientasi pada objek.programmer dalam hal ini berfokus pada objek dari program yang akan dimanipulasi.pendekatan OOP ini bertujuan untuk mengatasi kerumitan dalam membuat pembuatan program."
   ]
  },
  {
   "cell_type": "code",
   "execution_count": 23,
   "metadata": {},
   "outputs": [
    {
     "name": "stdout",
     "output_type": "stream",
     "text": [
      "keliling =  140\n",
      "luas =  1200\n"
     ]
    }
   ],
   "source": [
    "# Implementasi konsep OOP (persegi panjang)\n",
    "class PersegiPanjang:\n",
    "  def __init__(self,panjang,lebar):\n",
    "    self.panjang = panjang\n",
    "    self.lebar = lebar\n",
    "  \n",
    "  def keliling(self):\n",
    "    return 2 * (self.panjang + self.lebar)\n",
    "\n",
    "  def luas(self):\n",
    "    return self.panjang * self.lebar\n",
    "\n",
    "pp = PersegiPanjang(30,40)\n",
    "keliling_pp = pp.keliling()\n",
    "luas_pp = pp.luas()\n",
    "print ('keliling = ',keliling_pp)\n",
    "print('luas = ',luas_pp)"
   ]
  },
  {
   "cell_type": "code",
   "execution_count": 24,
   "metadata": {},
   "outputs": [
    {
     "name": "stdout",
     "output_type": "stream",
     "text": [
      "luas segitiga1: 100.0\n",
      "luas segitiga2: 250.0\n"
     ]
    }
   ],
   "source": [
    "# Implementasi konsep OOP (Segitiga)\n",
    "class Segitiga:\n",
    "  def __init__(self, alas, tinggi):\n",
    "    self.alas = alas\n",
    "    self.tinggi = tinggi\n",
    "\n",
    "  def get_luas(self):\n",
    "    return 0.5 * self.alas * self.tinggi\n",
    "\n",
    "segitiga1 = Segitiga(10, 20)\n",
    "segitiga2 = Segitiga(10, 50)\n",
    "\n",
    "print('luas segitiga1:', segitiga1.get_luas())\n",
    "print('luas segitiga2:', segitiga2.get_luas()) "
   ]
  },
  {
   "cell_type": "markdown",
   "metadata": {},
   "source": [
    "Jawaban No.2 :\n",
    "\n",
    "Modul Class : Merupakan sebuah prototipe dari sebuah object yang nantinya dibuat.sifat class mirip dengan variabel kompleks yang memiliki atribut nya sendiri.\n",
    "\n",
    "modul Numpy : sebuah library yang membvantu untuk melakukan opeasi array dan matriks.\n",
    "\n"
   ]
  },
  {
   "cell_type": "code",
   "execution_count": 26,
   "metadata": {},
   "outputs": [
    {
     "data": {
      "text/plain": [
       "3.0"
      ]
     },
     "execution_count": 26,
     "metadata": {},
     "output_type": "execute_result"
    }
   ],
   "source": [
    "#Jawaban No.3\n",
    "import math\n",
    "math.sqrt(9)"
   ]
  },
  {
   "cell_type": "markdown",
   "metadata": {},
   "source": [
    "Jawaban No.4\n",
    "\n",
    "Exception Handling merupakan mekanisme yang diperlukan untuk mengangani error yang terjadi pada saat program berjalan (runtime error)"
   ]
  },
  {
   "cell_type": "code",
   "execution_count": 30,
   "metadata": {},
   "outputs": [
    {
     "name": "stdout",
     "output_type": "stream",
     "text": [
      "Berapakah ukuran baju anda? \n",
      "90\n",
      "Terima kasih atas infonya, ukuran baju anda adalah 90\n",
      "kami akan mencari ukuran yang anda inginkan\n"
     ]
    }
   ],
   "source": [
    "#Implementasi Jawaban N0.4\n",
    "\n",
    "ukuran_baju = input('Berapakah ukuran baju anda? \\n')\n",
    "\n",
    "try:\n",
    "    ukuran_baju = int(ukuran_baju)\n",
    "    print('Terima kasih atas infonya, ukuran baju anda adalah',ukuran_baju)\n",
    "    print('kami akan mencari ukuran yang anda inginkan')\n",
    "\n",
    "except:\n",
    "    print('Ukuran baju yang anda masukkan tidak valid')"
   ]
  },
  {
   "cell_type": "markdown",
   "metadata": {},
   "source": [
    "============================================================================="
   ]
  },
  {
   "cell_type": "markdown",
   "metadata": {},
   "source": [
    "Artificial Intelligence \n",
    "1. Apa perbedaan dari structured dan unstructured data dan sebutkan 3 sumber data! \n",
    "2. Jelaskan perbedaan AI, Machine Learning dan Deep Learning! \n",
    "3. Apa perbedaan Machine Learning dengan Tradisional software? \n",
    "4. Sebutkan 3 contoh aplikasi Machine Learning di sektor smart city dan agriculture! "
   ]
  },
  {
   "cell_type": "markdown",
   "metadata": {},
   "source": [
    "Jawaban No.1\n",
    "\n",
    "Structured data : Struktur data adalah data yang element nya terdapat alamat untuk mendapatkan analisis yang sempurna.data terstruktur sendiri sudah di urutkan kedalam repositori dengan nama lain database.\n",
    "\n",
    "Contoh data terstruktur : Relational data\n",
    "\n",
    "Unstructured data : data ini sama sekali belum diurutkan menjadi bentuk terperinci dan belum dimasukkan kedalam database.untuk data belum terstruktur terdapat platform alternatif untuk disimpan dan dikelola.\n",
    "\n",
    "contoh data tidak terstruktur : Word, PDF, text\n",
    "\n",
    "3 Sumber data\n",
    "\n",
    "Data Internal : data yang didapat dari suatu organsisasi atau dari lingkungan peneliti \n",
    "Data Eksternal : data yang didapat dari luar lingkup pekerjaan "
   ]
  },
  {
   "cell_type": "markdown",
   "metadata": {},
   "source": [
    "Jawaban no.2\n",
    "\n",
    "Artifical intelegence : teknologi masa kini sedang dikembangkan dengan tujuan membawa kepintaran manusia kedalam mesin.\n",
    "\n",
    "Machine learning : metode pembelajaran AI dengan memanfaatkan data untuk membuat prediksi layaknya manusia.\n",
    "\n",
    "Deep Learning : deep learning meruapakan salah satu algoritma yang digunakan machine learning dalam artificial intelegence.deep learning memanfaatkan variabel kompleks dalam analisisnya,dengan tujuan akhir mesin dapat memahahami suatu pola atau kebisaan yang timbul dari suatu kejadian.\n",
    "\n",
    "jika dijadikan perbedaan secara garis besar :\n",
    "\n",
    "Artificial integent merupakan bagian besar dari suatu teknologi yang sedang dikembangkan kemudian machine learning adalah suatu cabang didalam AI yang dikembangkan untuk memanfaatkan data dan membuat prediksi.dan didalamnya lagi terdapat deep learning yang mempunyai fungsi untuk memahami pola dari suatu kejadian."
   ]
  },
  {
   "cell_type": "markdown",
   "metadata": {},
   "source": [
    "Jawaban no.3 \n",
    "\n",
    "Perbedaan besar antara machine learning dan Tradisional programming adalah machine learning dapat mengolah programmnya sendiri asalkan dari kita sendiri dapat memberikan suatu data untuk diolah machine learning.dengan kata lain kita yang dari latar bukan IT dapat membuat suatu software dengan bantuan machine learning\n",
    "\n",
    "sedangkan tradisional programming,kita perlu mengetahui cara kerja suatu program serta mengolah data tersebut melalui program yang kita buat untuk dijadikan suatu produk (software)."
   ]
  },
  {
   "cell_type": "markdown",
   "metadata": {},
   "source": [
    "Jawaban no.4\n",
    "\n",
    "Agriculture : Smart farming yang dapat memprediksi hasil panen, manajemen resiko serta opersional management\n",
    "\n",
    "smart city : City intelegence lab (CIL) di wina,Austria yang berfungsi untuk mengembangkan green infrastructure,Keamanan kota serta layanan kesehatan.\n",
    "\n",
    "jaki super app : salah satu aplikasi asisten virtual dari pemprov jakarta yang bertujuan untuk meningkatkan kuliatas pendudukan,serta beberapa fitur yang berguna untuk warga seperti pusat pelaporan keluhan, mengecek harga pangan dan mengecek pajak daerah."
   ]
  },
  {
   "cell_type": "markdown",
   "metadata": {},
   "source": [
    "============================================================================="
   ]
  },
  {
   "cell_type": "markdown",
   "metadata": {},
   "source": [
    "Maths for AI \n",
    "1. Mengapa ilmu matematika penting ketika mempelajari AI? \n",
    "2. Jelaskan perbedaan vektor dan skalar! \n",
    "3. Apa perbedaan dari Jarak Euclidean dan Manhattan? \n",
    "4. Apa kegunaan matriks dalam ilmu matematika ketika menerapkan AI? "
   ]
  },
  {
   "cell_type": "markdown",
   "metadata": {},
   "source": [
    "Jawaban no.1\n",
    "karena setiap keilmuan AI terdapat matematika didalamnya,sebagai contoh didalam machine learning kita memerlukan ilmu matematika seperti aljabar linear,statistik dan probabilitas untuk membuat suatu program AI yang dapat memprediksi masalah yang spesifik."
   ]
  },
  {
   "cell_type": "markdown",
   "metadata": {},
   "source": [
    "Jawaban no.2\n",
    "- vektor merupakan satuan yang terdapat arah serta tujuan akhirnya\n",
    "\n",
    "contoh ; kecepatan. percepatan, gaya dan momentum\n",
    "\n",
    "- skalar merupakan satuan yang tidak memiliki arah.\n",
    "\n",
    "contoh : massa, volume, massa jenis dan suhu"
   ]
  },
  {
   "cell_type": "markdown",
   "metadata": {},
   "source": [
    "Jawaban no.3\n",
    "\n",
    "Jarak euclidean : merupakan metrik antara dua titik yang satu dengan lainnya dapat diukur dengan menggunakan penggaris,pada perhitungan jarak euclidian digunakan formula pythagoras.dengan menggunakanan formula sebagai jarak,ruang eucldian menjadi *ruang metrik*.\n",
    "\n",
    "Manhattan distance : merupakan bentuk geometri di mana fungsi jarak biasa digantikan oleh metrik batu di mana jarak antara dua titik menggunakan *cartesian koordinat*. "
   ]
  },
  {
   "cell_type": "markdown",
   "metadata": {},
   "source": [
    "Jawaban no.4\n",
    "\n",
    "Matriks merupakan salah satu cabang dalam aljabar linear,digunakan untuk pembelajaran bahasa mesin dan materi lanjutan tensor."
   ]
  },
  {
   "cell_type": "markdown",
   "metadata": {},
   "source": [
    "============================================================================="
   ]
  },
  {
   "cell_type": "markdown",
   "metadata": {},
   "source": [
    "Machine Learning \n",
    "1. Jelaskan perbedaan supervised dan unsupervised learning dan sebutkan 2 contohnya! \n",
    "2. Sebutkan setiap tahap yang ada di Machine Learning life cycle dan jelaskan! \n",
    "3. Apa perbedaan regression dengan clustering? \n",
    "4. Apa itu algoritma Artificial Neural Network dan untuk apa fungsinya?"
   ]
  },
  {
   "cell_type": "markdown",
   "metadata": {},
   "source": [
    "Jawaban no.1 \n",
    "\n",
    "supervised Learning = machine learning yang mempelajari data dengan label atau target dengan hasil akhir berdasarkan data yang tersedia.\n",
    "\n",
    "Contoh : Logistic regression,Linear regression,random forest,XGboost,K-NN,SVM\n",
    "\n",
    "Unsupervised Learning = machine learning yang mempelajari pola data tanpa adanya target data.\n",
    "\n",
    "Contoh : K-means,DBSCAN,PCA,SVD"
   ]
  },
  {
   "cell_type": "markdown",
   "metadata": {},
   "source": [
    "Jawaban no.2\n",
    "\n",
    "- Gathering data\n",
    "  mengumpulkan data serta masalah dari lingkungan untuk dijadikan topik\n",
    " \n",
    "- Data preparation\n",
    "  menyiapkan data untuk dijadikan penelitian lebih lanjut\n",
    "\n",
    "- Data wrangling\n",
    "  membuat mapping data menjadi satu data mentah yang akan diolah kedalam  format lain dengan tujuan meningkatkan kualitas analitiknya\n",
    "- Analyse Data\n",
    "  memproses data seperti mentranformasi data,dan modeling data untuk mendapatkan informasi serta kesimpulan informasi untuk dijadikan keputusan tindakan\n",
    "- Train Model\n",
    "  memberikan data yang sudah diolah di tahap analyze data kepada prototipe machine learning untuk dipelajari.\n",
    "- Test Model\n",
    "  setelah di train AI akan masuk tahap test model (beta) untuk mengetahui apakah AI sudah sesuai Prosedur dan tujuan akhir yang ingin dicapai..jika belum maka cycle ini akan kembali mundur ke analyse data dan akan di test ulang.\n",
    "- Deployment\n",
    "  jika sudah sesuai maka AI akan dilakukan deployment ke publik yang akhirnya dapat dipakai khyalayak orang banyak"
   ]
  },
  {
   "cell_type": "markdown",
   "metadata": {},
   "source": [
    "Jawaban no.3\n",
    "\n",
    "Regresi : merupakan teknik analisis untuk mengidentifikasi relasi atau hubungan diantara dua variabel atau lebih.regresi sendiri bertujuan untuk menemukan suatu fingsi yang memodelkan data dengan meminimalkan error atau selisih antara nilai prediksi dengan nilai yang sebenarnya.\n",
    "\n",
    "Clustering : merupakan termasuk unsupervised learning.clustering dilakukan jika user ingin menemukan klaster dari dataset.\n",
    "\n",
    "klaster adalah sebuah kumpulan data atau objek yang memiliki kemiripan satu sama lain dalam kelompok tersebut.\n",
    "\n",
    "klastering umumnya digunakan untuk segmentasi."
   ]
  },
  {
   "cell_type": "markdown",
   "metadata": {},
   "source": [
    "Jawaban no.4\n",
    "\n",
    "Artificial neural network atau jaringan syaraf tiruan merupakan jaringan dari sekelompok unit pemroses kecil yang dimodelkan berdasarkan tingkah laku manusia\n",
    "\n",
    "ANN ini digunakan untuk aplikasi identifikasi noise, estimasi wavelet, analisa kecepatan, analisa gelombang geser, auto tracking reflector,prediksi hidrokarbon dan lain lain."
   ]
  },
  {
   "cell_type": "markdown",
   "metadata": {},
   "source": [
    "============================================================================="
   ]
  }
 ],
 "metadata": {
  "kernelspec": {
   "display_name": "Python 3",
   "language": "python",
   "name": "python3"
  },
  "language_info": {
   "codemirror_mode": {
    "name": "ipython",
    "version": 3
   },
   "file_extension": ".py",
   "mimetype": "text/x-python",
   "name": "python",
   "nbconvert_exporter": "python",
   "pygments_lexer": "ipython3",
   "version": "3.8.5"
  }
 },
 "nbformat": 4,
 "nbformat_minor": 4
}
