{
 "cells": [
  {
   "cell_type": "markdown",
   "metadata": {},
   "source": [
    "\n",
    "Nama\t\t: Fairuz Fernanda Hermawan\t\n",
    "Kelas\t\t: Persevere\n",
    "Kasus\t\t: Pengeras suara masjid"
   ]
  },
  {
   "cell_type": "markdown",
   "metadata": {},
   "source": [
    "WHO - Siapa yang memiliki masalah tersebut?\n",
    "1. Siapa saja yang mengalami masalah tsb?\n",
    "    Jawabah : Keluarga di rumah saya + tetangga sekitar masjid\n",
    "\n",
    "2. Siapa saja yang terlibat dalam masalah tsb?\n",
    "     Jawaban : Pengurus masjid, keluarga Saya\n",
    "\n",
    "3. Apa yang kamu ketahui tentang mereka?_\n",
    "\n",
    "Keluarga= orang terdekat yang saya kenal di rumah\n",
    "Pengurus masjid = DKM masjid,orang yang bertugas menjadi muadzin seta kebersihan masjid.\n",
    "Tetangga = masyarakat yang berada di dekat masjid\n"
   ]
  },
  {
   "cell_type": "markdown",
   "metadata": {},
   "source": [
    "WHAT - Apa permasalahannya sebenarnya?\n",
    "1. Apa masalah utamanya?\n",
    "Pengeras suara terkadang mengeluarkan noise yang membuat telinga berdenging karena terlalu keras.\n",
    "\n",
    "2. Apa faktor-faktor pendukung masalah tsb? (bisa tampilkan data/jurnal/info pendukung lainnya)\n",
    "\n",
    "Dalam Surat Kementrian agama SE no.5 tahun 2022 pada bagian C ketentuan,sub bagian pemasangan masangan pengeras suara dijelaskan bahwa pengaturan volume Suara speaker maksimal hanya sampai 100 dB (desibel).\n"
   ]
  },
  {
   "cell_type": "markdown",
   "metadata": {},
   "source": [
    "WHERE - Dimana/pada saat apa permasalahan ini muncul?\n",
    "1. Dimana saja si calon “user” mengalami masalah ini?\n",
    " kalo ini ditujukan untuk yang mengalami masalah saya merasa ini terjadi di lingkungan rumah saya beserta di beberapa rumah tetangga yang berdekatan dengan masjid\n"
   ]
  },
  {
   "cell_type": "markdown",
   "metadata": {},
   "source": [
    "2. Pada kondisi seperti apa si calon “user” mengalami masalah ini?\n",
    "    Terkadang pada saat pengeras suara luar dinyalakan,dan jika penyetelan sound system di dalam masjid kurang benar sehingga mengeluarkan noise yang mengganggu\n"
   ]
  },
  {
   "cell_type": "markdown",
   "metadata": {},
   "source": [
    "WHY - Mengapa kamu yakin masalah ini sangat penting dibahas?\n",
    "1.\tApa nilai utama dari permasalahan ini?\n",
    "Pengaturan sound system perlu dibenahi agar noise tidak keluar serta mengganggu warga disekitar masjid.\n",
    "Pengaturan volume suara jika dibiarkan keras maka akan menggangu pendengaran warga dalam jangka panjang.\n",
    "2. Bagaimana kamu bisa memperbaiki (sebagian atau seluruh) dari masalah tsb?\n",
    "Memberi tahu dewan masjid agar mengatur sound system serta mengecek suara yang keluar agar tidak menimbulkan noise.\n",
    "Menyarankan dewan masjid agar mengatur volume dengan batas yang wajar agar tidak mengganggu pendengaran warga dalam jangka panjang.\n"
   ]
  }
 ],
 "metadata": {
  "kernelspec": {
   "display_name": "Python 3",
   "language": "python",
   "name": "python3"
  },
  "language_info": {
   "codemirror_mode": {
    "name": "ipython",
    "version": 3
   },
   "file_extension": ".py",
   "mimetype": "text/x-python",
   "name": "python",
   "nbconvert_exporter": "python",
   "pygments_lexer": "ipython3",
   "version": "3.8.5"
  }
 },
 "nbformat": 4,
 "nbformat_minor": 4
}
