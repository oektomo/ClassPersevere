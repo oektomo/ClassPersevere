{
 "cells": [
  {
   "cell_type": "markdown",
   "id": "21989e62",
   "metadata": {},
   "source": [
    "# Python OOP\n",
    "\n",
    "##  1. Apa itu OOP dan cobalah buat 2 implementasi konsep OOP menggunakan python! \n",
    "\n",
    "Pemrograman berorientasi objek merupakan paradigma pemrograman berdasarkan konsep \"objek\", \n",
    "yang dapat berisi data, dalam bentuk field atau dikenal juga sebagai atribut; serta kode, dalam bentuk fungsi/prosedur atau dikenal juga sebagai method."
   ]
  },
  {
   "cell_type": "markdown",
   "id": "54802688",
   "metadata": {},
   "source": [
    "##### implementasi konsep OOP\n",
    "1.  Pembuatan Kelas Sederhana"
   ]
  },
  {
   "cell_type": "code",
   "execution_count": 11,
   "id": "e63e0f50",
   "metadata": {},
   "outputs": [
    {
     "name": "stdout",
     "output_type": "stream",
     "text": [
      "Nama : Sarah\n",
      "Gaji : 1000000\n",
      "Nama : Budi\n",
      "Gaji : 2000000\n",
      "Total karyawan : 2\n"
     ]
    }
   ],
   "source": [
    "class Karyawan:\n",
    "    '''Dasar kelas untuk semua karyawan'''\n",
    "    jumlah_karyawan = 0\n",
    "\n",
    "    def __init__(self, nama, gaji):\n",
    "        self.nama = nama\n",
    "        self.gaji = gaji\n",
    "        Karyawan.jumlah_karyawan += 1\n",
    "\n",
    "    def tampilkan_jumlah(self):\n",
    "        print(\"Total karyawan:\", Karyawan.jumlah_karyawan)\n",
    "\n",
    "    def tampilkan_profil(self):\n",
    "        print(\"Nama :\", self.nama)\n",
    "        print(\"Gaji :\", self.gaji)\n",
    "\n",
    "#Membuat objek pertama dari kelas Karyawan\n",
    "karyawan1 = Karyawan(\"Sarah\", 1000000)\n",
    "#Membuat objek kedua dari kelas Karyawan\n",
    "karyawan2 = Karyawan(\"Budi\", 2000000)\n",
    "\n",
    "karyawan1.tampilkan_profil()\n",
    "karyawan2.tampilkan_profil()\n",
    "print(\"Total karyawan :\", Karyawan.jumlah_karyawan)"
   ]
  },
  {
   "cell_type": "markdown",
   "id": "5997308b",
   "metadata": {},
   "source": [
    "2.  Pemograman Encapsulation"
   ]
  },
  {
   "cell_type": "code",
   "execution_count": 15,
   "id": "981996ec",
   "metadata": {},
   "outputs": [
    {
     "name": "stdout",
     "output_type": "stream",
     "text": [
      "1\n",
      "3\n"
     ]
    }
   ],
   "source": [
    "#Contoh Pemograman Encapsulation\n",
    "class Software():\n",
    "    #Instance attribute\n",
    "    def __init__(self):\n",
    "        self.__version = 1\n",
    "     \n",
    "    # Instance method\n",
    "    def getVersion(self):\n",
    "        print(self.__version)\n",
    " \n",
    "    def setVersion(self, version):\n",
    "        self.__version = version\n",
    " \n",
    "# instanstiate objek Software\n",
    "obj = Software()\n",
    "obj.getVersion()\n",
    "obj.setVersion(3)\n",
    "obj.getVersion()"
   ]
  },
  {
   "cell_type": "markdown",
   "id": "942e5c07",
   "metadata": {},
   "source": [
    "## 2. Sebutkan dan jelaskan 2 jenis modules yang ada di Python! \n",
    "\n",
    "### 1. Joblib\n",
    "Joblib merupakan modul Python yang berguna untuk menyediakan fungsionalitas pemrograman paralel. Ada tiga bagian penting dalam modul ini yaitu Caching, Paralellisation dan Persistence (untuk menyimpan dan memuat data).\n",
    "\n",
    "Fungsionalitas Caching berguna untuk memudahkan untuk mengingat fungsi dengan dekorator yang sederhana. Hasil cache ini berguna untuk pemanggilan fungsi yang menggunakan parameter yang sama sehingga bisa mengefektifkan waktu yang dibutuhkan. Sedangkan fungsionalitas Persistence berguna untuk menautkan pengingatan fungsi yang akan menyimpan hasil cache ke dalam file. Jika diatur dengan compressed=True, output file yang akan dihasilkan akan lebih kecil dari pengaturan default.\n",
    "### TinyDB\n",
    "TinyDB merupakan modul Python yang berguna untuk menyediakan backend database yang berbasis NoSQL. Layaknya MongoDB, TinyDB juga memberikan kemudahan API untuk mengatur manajemen databasenya.\n",
    "\n",
    "## 3. Hitunglah berapa hasil dari √175 + 4√7 + (1/3) + ³log 81 menggunakan module math!\n"
   ]
  },
  {
   "cell_type": "code",
   "execution_count": 42,
   "id": "9cc03348",
   "metadata": {},
   "outputs": [
    {
     "name": "stdout",
     "output_type": "stream",
     "text": [
      "berarti A1 adalah 13.228756555322953\n",
      "berarti A2 adalah 10.583005244258363\n",
      "berarti A3 adalah 1.0\n",
      "berarti A4 adalah 1.3376291891386096\n",
      "jadi hasil nya  adalah 26.149390988719926\n"
     ]
    }
   ],
   "source": [
    "import math\n",
    "A1 = math.sqrt (175)\n",
    "A2 = 4*math.sqrt(7)\n",
    "A3 = math.pow(1 , 3)\n",
    "A4 = math.log (3.81)\n",
    "print(\"berarti A1 adalah\" ,A1)\n",
    "print(\"berarti A2 adalah\" ,A2)\n",
    "print(\"berarti A3 adalah\" ,A3)\n",
    "print(\"berarti A4 adalah\" ,A4)\n",
    "\n",
    "Hasil = A1 + A2 + A3 + A4\n",
    "\n",
    "print  (\"jadi hasil nya  adalah\" ,Hasil)"
   ]
  },
  {
   "cell_type": "markdown",
   "id": "c9b536e8",
   "metadata": {},
   "source": [
    "\n",
    "## 4. Apa itu custom exception handling dan berikan 1 contoh implementasinya!\n",
    "Python Exception handling adalah suatu mekanisme penanganan flow normal program karena terjadi exception dengan melanjutkan flow ke code block lainnya."
   ]
  },
  {
   "cell_type": "code",
   "execution_count": 43,
   "id": "8b713112",
   "metadata": {},
   "outputs": [],
   "source": [
    "#contoh implementasi pada exception handling \n",
    "import sys\n",
    "def convert(s):\n",
    "    '''convert to integer'''\n",
    "    try:\n",
    "        return int(s)\n",
    "    except (ValueError, TypeError) as e:\n",
    "        print(\"Konversi error : {}\".format(str(e)), file=sys.stderr)\n",
    "        raise"
   ]
  },
  {
   "cell_type": "markdown",
   "id": "c5b8a833",
   "metadata": {},
   "source": [
    "# Artificial Intelligence \n",
    "\n",
    "##  1. Apa perbedaan dari structured dan unstructured data dan sebutkan 3 sumber data!  \n",
    "\n",
    "Data terstruktur direpresentasikan dalam skema yang jelas sehingga mudah untuk dianalisa maupun diintegrasikan\n",
    "dengan data terstruktur lainnya. Sedangkan data tidak terstruktur direpresentasikan dalam berbagai bentuk sehingga\n",
    "sangat sulit untuk dianalisis maupun diintegrasikan dengan sumber data lain.\n",
    "\n",
    "Sumber data\n",
    "Data terstruktur Yaitu angka, string dan tanggal\n",
    "Data Tidak Terstruktur Yaitu image, audio, dan video\n",
    "\n",
    "## 2. Jelaskan perbedaan AI, Machine Learning dan Deep Learning! \n",
    "\n",
    "AI, teknologi masa kini yang konsepnya “membawa kepintaran manusia ke dalam mesin.”\n",
    "ML, metode pembelajaran AI yang memanfaatkan data untuk membuat prediksi layaknya manusia.\n",
    "DL, memanfaatkan berbagai variable kompleks dalam analisisnya, sehingga mesin bisa memahami suatu pola atau kebiasaan yang timbul dari suatu kejadian.\n",
    "\n",
    "## 3. Apa perbedaan Machine Learning dengan Tradisional software?\n",
    "\n",
    "Meskipun keduanya sama sama menggunakan mesin komputer, namun keduanya berbeda. Jika sebelum ada Machine Learning, program yang dijalankan diharapkan dapat menghasilkan sebuah output berdasarkan data yang ada. Caranya, programmer akan memasukkan data dan programnya ke dalam komputer pada proses input, lalu komputer akan memprosesnya hingga didapatkan hasil berbentuk output. Sedangkan pada Machine Learning, data dan output merupakan hal yang telah ada dan dijadikan sebagai inputan ke dalam komputer, hasilnya adalah program yang dapat berjalan sendiri secara otomatis tanpa bantuan manusia untuk menghasilkan output baru.\n",
    "\n",
    "## 4. Sebutkan 3 contoh aplikasi Machine Learning di sektor smart city dan agriculture!\n",
    "\n",
    "- MCity\n",
    "- Qlue\n",
    "- Lapor!"
   ]
  },
  {
   "cell_type": "markdown",
   "id": "922c5beb",
   "metadata": {},
   "source": [
    "## Maths for AI\n",
    "\n",
    "## 1. Mengapa ilmu matematika penting ketika mempelajari AI?\n",
    "\n",
    "Karena Sebagian besar pembaca menulis makalah penelitian mereka menggunakan persamaan, rumus, teknik, hasil, dll., dan bagaimana subjek yang diperlukan terlibat untuk menyelesaikan tugas dalam perspektif matematika murni.\n",
    "\n",
    "## 2. Jelaskan perbedaan vektor dan skalar!\n",
    "\n",
    "Vektor Merupakan besaran yang merepresentasikan dengan nilai dan arah, sedangkan skalar Merupakan besaran yang merepresentasikan nilai saja.\n",
    "\n",
    "## 3. Apa perbedaan dari Jarak Euclidean dan Manhattan?\n",
    "Metode jarak Manhattan lebih tepat untuk diukur jarak suku kata dan fonetik\n",
    "bahkan jika dilihat pengukuran rata-rata jarak Manhattan dan Euclidean nilai jaraknya hampir sama. Namun, saat jaraknya dari suku kata dan panjang fonetik jauh, Euclidean pengukuran mengambil titik tengah dari akumulasi semua parameter.\n",
    "\n",
    "## 4. Apa kegunaan matriks dalam ilmu matematika ketika menerapkan AI?\n",
    "penggunaan matrik biasanya terjadi pada data tabel. contohnya : pembuatan sebuah jurnal , pembuatan rapot . nah teori matrik biasanya digunakan untuk menjulah kolom-kolom pada tabel tersebut maupun mengurangi, mengalikan, dan membagi nilai pada kolom tersebut.\n"
   ]
  },
  {
   "cell_type": "markdown",
   "id": "a759a906",
   "metadata": {},
   "source": [
    "# Machine Learning\n",
    "\n",
    "## 1. Jelaskan perbedaan supervised dan unsupervised learning dan sebutkan 2 contohnya!\n",
    "Supervised Learning adalah Machine Learning model yang mempelajari data dengan label atau target dimana evaluasi model tersebut akan berdasarkan target ini.\n",
    "Contohnya:\n",
    "- Memprediksi Kondisi Cuaca di lokasi tertentu\n",
    "- mengklasifikasikan suatu Benda\n",
    "\n",
    "Sedangkan Unsupervised Learning adalah Machine Learning Model yang mempelajari pola data tanpa adanya target data.\n",
    "Contohnya :\n",
    "- Segmentasi Pelanggan\n",
    "- mengurangi Kompleksitas suatu Masalah\n",
    "\n",
    "## 2. Sebutkan setiap tahap yang ada di Machine Learning life cycle dan jelaskan!\n",
    "\n",
    "tahapan LifeCycle Machine Learning:\n",
    "\n",
    "1. Gathering Data, Menentukan tujuan pada program yang akan di buat\n",
    "2. Data preparation, mengumpulkan data data  asset\n",
    "3. Data wrangling, menyiapkan data data asset \n",
    "4. Analyse Data,  memilih program Algoritma yang dipakai\n",
    "5. Train Model, Melatih model Program \n",
    "6. Test Model, Mengecek &  Mengetes Model\n",
    "7. Deployment, Integrasikan Model atau menyelesaikan modeldan siap pakai\n",
    "\n",
    "## 3. Apa perbedaan regression dengan clustering?\n",
    "Regresi bertujuan untuk menemukan suatu fungsi yang memodelkan data dengan meminimalkan error atau selisih antara nilai prediksi dengan nilai sebenarnya. Sementara Klaster merupakan sebuah kumpulan data atau objek yang memiliki kemiripan satu sama lain di dalam kumpulan atau kelompok tersebut, dan berbeda dengan objek di kelompok lain.\n",
    "\n",
    "## 4. Apa itu algoritma Artificial Neural Network dan untuk apa fungsinya?\n",
    "Algoritma Artificial Neural Network (ANN) merupakan model penalaran yang didasarkan pada otak manusia. ANN terdiri dari sejumlah prosesor sangat sederhana dan saling berhubungan yang disebut neuron.\n",
    "\n",
    "Fungsi dari Neural Network diantaranya adalah:\n",
    "\n",
    "1. Pengklasifikasian pola\n",
    "2. Memetakan pola yang didapat dari input ke dalam pola baru pada output\n",
    "3. Penyimpan pola yang akan dipanggil kembali"
   ]
  },
  {
   "cell_type": "code",
   "execution_count": null,
   "id": "2e5c5ad7",
   "metadata": {},
   "outputs": [],
   "source": []
  }
 ],
 "metadata": {
  "kernelspec": {
   "display_name": "Python 3 (ipykernel)",
   "language": "python",
   "name": "python3"
  },
  "language_info": {
   "codemirror_mode": {
    "name": "ipython",
    "version": 3
   },
   "file_extension": ".py",
   "mimetype": "text/x-python",
   "name": "python",
   "nbconvert_exporter": "python",
   "pygments_lexer": "ipython3",
   "version": "3.9.7"
  }
 },
 "nbformat": 4,
 "nbformat_minor": 5
}
