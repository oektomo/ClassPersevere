{
 "cells": [
  {
   "cell_type": "markdown",
   "id": "341db465",
   "metadata": {},
   "source": [
    "## Python Data Types"
   ]
  },
  {
   "cell_type": "code",
   "execution_count": 1,
   "id": "2e4831bd",
   "metadata": {},
   "outputs": [
    {
     "name": "stdout",
     "output_type": "stream",
     "text": [
      "<class 'int'>\n"
     ]
    }
   ],
   "source": [
    "x = 21\n",
    "print (type(x))"
   ]
  },
  {
   "cell_type": "code",
   "execution_count": 2,
   "id": "ca40ede1",
   "metadata": {},
   "outputs": [
    {
     "name": "stdout",
     "output_type": "stream",
     "text": [
      "Hello, Ilham Fauzi\n",
      "<class 'str'>\n"
     ]
    }
   ],
   "source": [
    "x = \"Hello, Ilham Fauzi\" #atau x = str\"Hello, Ilham Fauzi\"\n",
    "#display x sama dengan bawah\n",
    "print(x)\n",
    "\n",
    "#display tipe data sama dengan bawah\n",
    "print(type(x))"
   ]
  },
  {
   "cell_type": "code",
   "execution_count": 3,
   "id": "16dfbbaf",
   "metadata": {},
   "outputs": [
    {
     "name": "stdout",
     "output_type": "stream",
     "text": [
      "21\n",
      "<class 'int'>\n"
     ]
    }
   ],
   "source": [
    "x = 21 #atau x = int(21)\n",
    "print(x)\n",
    "print(type(x))"
   ]
  },
  {
   "cell_type": "code",
   "execution_count": 5,
   "id": "0c42e0be",
   "metadata": {},
   "outputs": [
    {
     "name": "stdout",
     "output_type": "stream",
     "text": [
      "17.03\n",
      "<class 'float'>\n"
     ]
    }
   ],
   "source": [
    "x = 17.03 #atau x = float(17.03)\n",
    "print(x)\n",
    "print(type(x))"
   ]
  },
  {
   "cell_type": "code",
   "execution_count": 6,
   "id": "e7635258",
   "metadata": {},
   "outputs": [
    {
     "name": "stdout",
     "output_type": "stream",
     "text": [
      "8j\n",
      "<class 'complex'>\n"
     ]
    }
   ],
   "source": [
    "x = 8j #atau x = complex(8j)\n",
    "print(x)\n",
    "print(type(x))"
   ]
  },
  {
   "cell_type": "code",
   "execution_count": 8,
   "id": "5b925d8e",
   "metadata": {},
   "outputs": [
    {
     "name": "stdout",
     "output_type": "stream",
     "text": [
      "['Nasi goreng', 'Jamur crispy', 'Cimol']\n",
      "<class 'list'>\n"
     ]
    }
   ],
   "source": [
    "x = [\"Nasi goreng\", \"Jamur crispy\", \"Cimol\"] #atau x = list((\"Nasi goreng\", \"Jamur crispy\", \"Cimol\"))\n",
    "print(x)\n",
    "print(type(x))"
   ]
  },
  {
   "cell_type": "code",
   "execution_count": 9,
   "id": "aacffe9d",
   "metadata": {},
   "outputs": [
    {
     "name": "stdout",
     "output_type": "stream",
     "text": [
      "('Nasi goreng', 'Jamur crispy', 'Cimol')\n",
      "<class 'tuple'>\n"
     ]
    }
   ],
   "source": [
    "x = (\"Nasi goreng\", \"Jamur crispy\", \"Cimol\") #atau x = tuple((\"Nasi goreng\", \"Jamur crispy\", \"Cimol\"))\n",
    "print(x)\n",
    "print(type(x))"
   ]
  },
  {
   "cell_type": "code",
   "execution_count": 10,
   "id": "9b9ef577",
   "metadata": {},
   "outputs": [
    {
     "name": "stdout",
     "output_type": "stream",
     "text": [
      "range(0, 8)\n",
      "<class 'range'>\n"
     ]
    }
   ],
   "source": [
    "x = range(8)\n",
    "print(x)\n",
    "print(type(x))"
   ]
  },
  {
   "cell_type": "code",
   "execution_count": 11,
   "id": "cb47f653",
   "metadata": {},
   "outputs": [
    {
     "name": "stdout",
     "output_type": "stream",
     "text": [
      "{'Name': 'Ilham Fauzi', 'Age': 21}\n",
      "<class 'dict'>\n"
     ]
    }
   ],
   "source": [
    "x = {\"Name\" : \"Ilham Fauzi\", \"Age\" : 21} #atau x : dict(\"Name\" : \"Ilham Fauzi\", \"Age\" : 21)\n",
    "print(x)\n",
    "print(type(x))"
   ]
  },
  {
   "cell_type": "code",
   "execution_count": 12,
   "id": "3d67f906",
   "metadata": {},
   "outputs": [
    {
     "name": "stdout",
     "output_type": "stream",
     "text": [
      "{'Nasi Goreng', 'Cimol', 'Jamur Crispy'}\n",
      "<class 'set'>\n"
     ]
    }
   ],
   "source": [
    "x = {\"Nasi Goreng\", \"Jamur Crispy\", \"Cimol\"} #atau x = set((\"Nasi Goreng\", \"Jamur Crispy\", \"Cimol\"))\n",
    "print(x)\n",
    "print(type(x))"
   ]
  },
  {
   "cell_type": "code",
   "execution_count": 13,
   "id": "2549f903",
   "metadata": {},
   "outputs": [
    {
     "name": "stdout",
     "output_type": "stream",
     "text": [
      "frozenset({'Nasi Goreng', 'Cimol', 'Jamur Crispy'})\n",
      "<class 'frozenset'>\n"
     ]
    }
   ],
   "source": [
    "x = frozenset({\"Nasi Goreng\", \"Jamur Crispy\", \"Cimol\"}) #atau x = frozenset((\"Nasi Goreng\", \"Jamur Crispy\", \"Cimol\"))\n",
    "print(x)\n",
    "print(type(x))"
   ]
  },
  {
   "cell_type": "code",
   "execution_count": 14,
   "id": "b4c6fd5f",
   "metadata": {},
   "outputs": [
    {
     "name": "stdout",
     "output_type": "stream",
     "text": [
      "False\n",
      "<class 'bool'>\n"
     ]
    }
   ],
   "source": [
    "x = False #atau x = bool(0)\n",
    "print(x)\n",
    "print(type(x))"
   ]
  },
  {
   "cell_type": "code",
   "execution_count": 16,
   "id": "c63765a7",
   "metadata": {},
   "outputs": [
    {
     "name": "stdout",
     "output_type": "stream",
     "text": [
      "b'Hi'\n",
      "<class 'bytes'>\n"
     ]
    }
   ],
   "source": [
    "x = b\"Hi\" #atau x = bytes(5)\n",
    "print(x)\n",
    "print(type(x))"
   ]
  },
  {
   "cell_type": "code",
   "execution_count": 17,
   "id": "7c908ae1",
   "metadata": {},
   "outputs": [
    {
     "name": "stdout",
     "output_type": "stream",
     "text": [
      "bytearray(b'\\x00\\x00\\x00\\x00\\x00\\x00\\x00')\n",
      "<class 'bytearray'>\n"
     ]
    }
   ],
   "source": [
    "x = bytearray(7)\n",
    "print(x)\n",
    "print(type(x))"
   ]
  },
  {
   "cell_type": "code",
   "execution_count": 18,
   "id": "15ae35d2",
   "metadata": {},
   "outputs": [
    {
     "name": "stdout",
     "output_type": "stream",
     "text": [
      "<memory at 0x00000171EC50FDC0>\n",
      "<class 'memoryview'>\n"
     ]
    }
   ],
   "source": [
    "x = memoryview(bytes(3))\n",
    "print(x)\n",
    "print(type(x))"
   ]
  },
  {
   "cell_type": "markdown",
   "id": "2a223819",
   "metadata": {},
   "source": [
    "## Python Numbers\n",
    "ada 3 jenis type number\n",
    "1. int\n",
    "2. float\n",
    "3. complex"
   ]
  },
  {
   "cell_type": "code",
   "execution_count": 19,
   "id": "b6f80acd",
   "metadata": {},
   "outputs": [
    {
     "name": "stdout",
     "output_type": "stream",
     "text": [
      "<class 'int'>\n",
      "<class 'float'>\n",
      "<class 'complex'>\n"
     ]
    }
   ],
   "source": [
    "x = 21\n",
    "y = 2.1\n",
    "z = 5j\n",
    "\n",
    "print(type(x))\n",
    "print(type(y))\n",
    "print(type(z))"
   ]
  },
  {
   "cell_type": "markdown",
   "id": "2c6871ef",
   "metadata": {},
   "source": [
    "#### Interger(int)"
   ]
  },
  {
   "cell_type": "code",
   "execution_count": 20,
   "id": "1b7f6d1c",
   "metadata": {},
   "outputs": [
    {
     "name": "stdout",
     "output_type": "stream",
     "text": [
      "<class 'int'>\n",
      "<class 'int'>\n",
      "<class 'int'>\n"
     ]
    }
   ],
   "source": [
    "x = 17\n",
    "y = 210318\n",
    "z = -121\n",
    "\n",
    "print(type(x))\n",
    "print(type(y))\n",
    "print(type(z))"
   ]
  },
  {
   "cell_type": "markdown",
   "id": "680778f8",
   "metadata": {},
   "source": [
    "#### Float"
   ]
  },
  {
   "cell_type": "code",
   "execution_count": 23,
   "id": "2f61efab",
   "metadata": {},
   "outputs": [
    {
     "name": "stdout",
     "output_type": "stream",
     "text": [
      "<class 'float'>\n",
      "<class 'float'>\n",
      "<class 'float'>\n"
     ]
    }
   ],
   "source": [
    "x = 25.0e3\n",
    "y = 3.14\n",
    "z = -77.13E322224\n",
    "\n",
    "print(type(x))\n",
    "print(type(y))\n",
    "print(type(z))"
   ]
  },
  {
   "cell_type": "markdown",
   "id": "c3e0a55d",
   "metadata": {},
   "source": [
    "#### Complex"
   ]
  },
  {
   "cell_type": "code",
   "execution_count": 24,
   "id": "894dabc0",
   "metadata": {},
   "outputs": [
    {
     "name": "stdout",
     "output_type": "stream",
     "text": [
      "<class 'complex'>\n",
      "<class 'complex'>\n",
      "<class 'complex'>\n"
     ]
    }
   ],
   "source": [
    "x = 3j\n",
    "y = 17+4j\n",
    "z = -2j\n",
    "\n",
    "print(type(x))\n",
    "print(type(y))\n",
    "print(type(z))\n"
   ]
  },
  {
   "cell_type": "markdown",
   "id": "36af6058",
   "metadata": {},
   "source": [
    "#### Konversi dan Random Number"
   ]
  },
  {
   "cell_type": "code",
   "execution_count": 25,
   "id": "e3b46c4a",
   "metadata": {},
   "outputs": [
    {
     "name": "stdout",
     "output_type": "stream",
     "text": [
      "21.0\n",
      "3\n",
      "(21+0j)\n",
      "<class 'float'>\n",
      "<class 'int'>\n",
      "<class 'complex'>\n"
     ]
    }
   ],
   "source": [
    "x = 21    \n",
    "y = 3.14  \n",
    "z = 3\n",
    "\n",
    "#konversi int ke float:\n",
    "a = float(x)\n",
    "\n",
    "#konversi float ke int:\n",
    "b = int(y)\n",
    "\n",
    "#konversi int ke complex:\n",
    "c = complex(x)\n",
    "\n",
    "print(a)\n",
    "print(b)\n",
    "print(c)\n",
    "\n",
    "print(type(a))\n",
    "print(type(b))\n",
    "print(type(c))"
   ]
  },
  {
   "cell_type": "code",
   "execution_count": 28,
   "id": "dd2fc6d9",
   "metadata": {},
   "outputs": [
    {
     "name": "stdout",
     "output_type": "stream",
     "text": [
      "3\n"
     ]
    }
   ],
   "source": [
    "import random\n",
    "\n",
    "print(random.randrange(0, 9))"
   ]
  },
  {
   "cell_type": "markdown",
   "id": "b59fedc0",
   "metadata": {},
   "source": [
    "## Python Casting\n",
    "terdiri dari :\n",
    "1. int\n",
    "2. float\n",
    "3. string"
   ]
  },
  {
   "cell_type": "code",
   "execution_count": 29,
   "id": "a0899065",
   "metadata": {},
   "outputs": [
    {
     "name": "stdout",
     "output_type": "stream",
     "text": [
      "21\n",
      "3\n",
      "7\n"
     ]
    }
   ],
   "source": [
    "x = int(21)\n",
    "y = int(3.14)\n",
    "z = int(\"7\")\n",
    "\n",
    "print(x)\n",
    "print(y)\n",
    "print(z)"
   ]
  },
  {
   "cell_type": "code",
   "execution_count": 30,
   "id": "7dc4110e",
   "metadata": {},
   "outputs": [
    {
     "name": "stdout",
     "output_type": "stream",
     "text": [
      "8.0\n",
      "4.0\n",
      "2.0\n"
     ]
    }
   ],
   "source": [
    "x = float(8)\n",
    "y = float(\"4.0\")\n",
    "z = float(\"2\")\n",
    "\n",
    "print(x)\n",
    "print(y)\n",
    "print(z)\n"
   ]
  },
  {
   "cell_type": "code",
   "execution_count": 32,
   "id": "b8d6c311",
   "metadata": {},
   "outputs": [
    {
     "name": "stdout",
     "output_type": "stream",
     "text": [
      "25\n",
      "2\n",
      "abogoboga21\n"
     ]
    }
   ],
   "source": [
    "x = str(\"25\")\n",
    "y = str(2)\n",
    "z = str(\"abogoboga21\")\n",
    "\n",
    "print(x)\n",
    "print(y)\n",
    "print(z)"
   ]
  },
  {
   "cell_type": "markdown",
   "id": "e64661d6",
   "metadata": {},
   "source": [
    "## Python Strings"
   ]
  },
  {
   "cell_type": "code",
   "execution_count": 33,
   "id": "432335b4",
   "metadata": {},
   "outputs": [
    {
     "name": "stdout",
     "output_type": "stream",
     "text": [
      "Hello, Ilham\n",
      "Hello, Fauzi\n"
     ]
    }
   ],
   "source": [
    "#dengan tanda kutip ganda\n",
    "print(\"Hello, Ilham\") \n",
    "\n",
    "#dengan tanda kutip tunggal\n",
    "print('Hello, Fauzi')"
   ]
  },
  {
   "cell_type": "code",
   "execution_count": 35,
   "id": "a474b18d",
   "metadata": {},
   "outputs": [
    {
     "name": "stdout",
     "output_type": "stream",
     "text": [
      "Hello, Ilham Fauzi\n"
     ]
    }
   ],
   "source": [
    "a = 'Hello, Ilham '\n",
    "b = \"Fauzi\"\n",
    "c = a + b\n",
    "\n",
    "print(c)"
   ]
  },
  {
   "cell_type": "markdown",
   "id": "f193b73f",
   "metadata": {},
   "source": [
    "#### String Multiline\n",
    "Anda dapat menetapkan string multiline ke variabel dengan menggunakan tiga tanda kutip ganda dan tanda kutip tunggal"
   ]
  },
  {
   "cell_type": "code",
   "execution_count": 36,
   "id": "0b3be5f4",
   "metadata": {},
   "outputs": [
    {
     "name": "stdout",
     "output_type": "stream",
     "text": [
      "Pemerintah mengadakan program MSIB batch 2, kemudian saya mengikuti program studi independen di Orbit Future Academy\n"
     ]
    }
   ],
   "source": [
    "a = \"\"\"Pemerintah mengadakan program MSIB batch 2, kemudian saya mengikuti program studi independen di Orbit Future Academy\"\"\"\n",
    "\n",
    "print(a)"
   ]
  },
  {
   "cell_type": "code",
   "execution_count": 37,
   "id": "78927d11",
   "metadata": {},
   "outputs": [
    {
     "name": "stdout",
     "output_type": "stream",
     "text": [
      "Pemerintah mengadakan program MSIB batch 2, kemudian saya mengikuti program studi independen di Orbit Future Academy\n"
     ]
    }
   ],
   "source": [
    "x = '''Pemerintah mengadakan program MSIB batch 2, kemudian saya mengikuti program studi independen di Orbit Future Academy'''\n",
    "\n",
    "print(x)"
   ]
  },
  {
   "cell_type": "markdown",
   "id": "2028065e",
   "metadata": {},
   "source": [
    "#### String adalah Array\n",
    "Dapatkan karakter di posisi 1 (ingat bahwa karakter pertama memiliki posisi 0):"
   ]
  },
  {
   "cell_type": "code",
   "execution_count": 40,
   "id": "e89c8ad9",
   "metadata": {},
   "outputs": [
    {
     "name": "stdout",
     "output_type": "stream",
     "text": [
      "z\n"
     ]
    }
   ],
   "source": [
    "x = 'Hello, Fauzi'\n",
    "\n",
    "print(x[10])"
   ]
  },
  {
   "cell_type": "markdown",
   "id": "cadf8f6f",
   "metadata": {},
   "source": [
    "#### Looping Melalui String\n",
    "Karena string adalah array, kita dapat mengulang karakter dalam string, dengan for."
   ]
  },
  {
   "cell_type": "code",
   "execution_count": 41,
   "id": "567a5254",
   "metadata": {},
   "outputs": [
    {
     "name": "stdout",
     "output_type": "stream",
     "text": [
      "O\n",
      "r\n",
      "b\n",
      "i\n",
      "t\n"
     ]
    }
   ],
   "source": [
    "for x in \"Orbit\":\n",
    "    print(x)"
   ]
  },
  {
   "cell_type": "markdown",
   "id": "c1835a8b",
   "metadata": {},
   "source": [
    "#### Panjang String"
   ]
  },
  {
   "cell_type": "code",
   "execution_count": 44,
   "id": "59058c59",
   "metadata": {},
   "outputs": [
    {
     "name": "stdout",
     "output_type": "stream",
     "text": [
      "18\n"
     ]
    }
   ],
   "source": [
    "x = 'Hello, Ilham Fauzi'\n",
    "print(len(x))"
   ]
  },
  {
   "cell_type": "markdown",
   "id": "5570779e",
   "metadata": {},
   "source": [
    "#### Cek String"
   ]
  },
  {
   "cell_type": "code",
   "execution_count": 46,
   "id": "421674c6",
   "metadata": {},
   "outputs": [
    {
     "name": "stdout",
     "output_type": "stream",
     "text": [
      "True\n"
     ]
    }
   ],
   "source": [
    "txt = 'Python adalah bahasa pemrograman open-source'\n",
    "print('Python' in txt)"
   ]
  },
  {
   "cell_type": "code",
   "execution_count": 48,
   "id": "64b927fa",
   "metadata": {},
   "outputs": [
    {
     "name": "stdout",
     "output_type": "stream",
     "text": [
      "Bahasa mudah di mengerti yaitu 'Python'\n"
     ]
    }
   ],
   "source": [
    "txt = 'Python adalah bahasa pemrograman open-source'\n",
    "if 'Python' in txt:\n",
    "    print(\"Bahasa mudah di mengerti yaitu 'Python'\")"
   ]
  },
  {
   "cell_type": "markdown",
   "id": "4998c7f7",
   "metadata": {},
   "source": [
    "#### Check if NOT in String\n"
   ]
  },
  {
   "cell_type": "code",
   "execution_count": 49,
   "id": "291f4083",
   "metadata": {},
   "outputs": [
    {
     "name": "stdout",
     "output_type": "stream",
     "text": [
      "False\n"
     ]
    }
   ],
   "source": [
    "txt = 'Python adalah bahasa pemrograman open-source'\n",
    "print('Mahal' in txt)"
   ]
  },
  {
   "cell_type": "code",
   "execution_count": 52,
   "id": "799b9893",
   "metadata": {},
   "outputs": [
    {
     "name": "stdout",
     "output_type": "stream",
     "text": [
      "Bahasa mudah di mengerti yaitu 'Mahal'\n"
     ]
    }
   ],
   "source": [
    "txt = 'Python adalah bahasa pemrograman open-source'\n",
    "if 'Mahal' not in txt:\n",
    "    print(\"Bahasa mudah di mengerti yaitu 'Mahal'\")"
   ]
  },
  {
   "cell_type": "markdown",
   "id": "a642e1a2",
   "metadata": {},
   "source": [
    "### Slicing String"
   ]
  },
  {
   "cell_type": "code",
   "execution_count": 55,
   "id": "1bb0b8c6",
   "metadata": {},
   "outputs": [
    {
     "name": "stdout",
     "output_type": "stream",
     "text": [
      " Fauzi\n"
     ]
    }
   ],
   "source": [
    "a = 'Hello, Ilham Fauzi'\n",
    "print(a[12:18])"
   ]
  },
  {
   "cell_type": "markdown",
   "id": "f6758a68",
   "metadata": {},
   "source": [
    "#### Slice From the Start"
   ]
  },
  {
   "cell_type": "code",
   "execution_count": 56,
   "id": "f16c1049",
   "metadata": {},
   "outputs": [
    {
     "name": "stdout",
     "output_type": "stream",
     "text": [
      "Hello, Ilham\n"
     ]
    }
   ],
   "source": [
    "a = 'Hello, Ilham Fauzi'\n",
    "print(a[:12])"
   ]
  },
  {
   "cell_type": "markdown",
   "id": "0ae708ae",
   "metadata": {},
   "source": [
    "#### Slice To the End"
   ]
  },
  {
   "cell_type": "code",
   "execution_count": 57,
   "id": "ff8459d3",
   "metadata": {},
   "outputs": [
    {
     "name": "stdout",
     "output_type": "stream",
     "text": [
      "Ilham Fauzi\n"
     ]
    }
   ],
   "source": [
    "a = 'Hello, Ilham Fauzi'\n",
    "print(a[7:])"
   ]
  },
  {
   "cell_type": "markdown",
   "id": "04b158a3",
   "metadata": {},
   "source": [
    "#### Negative Indexing"
   ]
  },
  {
   "cell_type": "code",
   "execution_count": 59,
   "id": "a9e27e7a",
   "metadata": {},
   "outputs": [
    {
     "name": "stdout",
     "output_type": "stream",
     "text": [
      "Hello\n"
     ]
    }
   ],
   "source": [
    "a = 'Hello, Ilham Fauzi'\n",
    "print(a[-18:-13])"
   ]
  },
  {
   "cell_type": "markdown",
   "id": "cf522ebd",
   "metadata": {},
   "source": [
    "### Modify Strings"
   ]
  },
  {
   "cell_type": "code",
   "execution_count": 60,
   "id": "70a545e6",
   "metadata": {},
   "outputs": [
    {
     "name": "stdout",
     "output_type": "stream",
     "text": [
      "HELLO, ILHAM FAUZI\n"
     ]
    }
   ],
   "source": [
    "a = 'Hello, Ilham Fauzi'\n",
    "print(a.upper())"
   ]
  },
  {
   "cell_type": "code",
   "execution_count": 61,
   "id": "3a0754b2",
   "metadata": {},
   "outputs": [
    {
     "name": "stdout",
     "output_type": "stream",
     "text": [
      "hello, ilham fauzi\n"
     ]
    }
   ],
   "source": [
    "a = 'Hello, Ilham Fauzi'\n",
    "print(a.lower())"
   ]
  },
  {
   "cell_type": "markdown",
   "id": "01c0dd5d",
   "metadata": {},
   "source": [
    "#### Remove Whitespace\n"
   ]
  },
  {
   "cell_type": "code",
   "execution_count": 62,
   "id": "fe494eeb",
   "metadata": {},
   "outputs": [
    {
     "name": "stdout",
     "output_type": "stream",
     "text": [
      "Hello, Ilham Fauzi\n"
     ]
    }
   ],
   "source": [
    "a = ' Hello, Ilham Fauzi '\n",
    "print(a.strip()) # returns 'Hello, Ilham Fauzi'"
   ]
  },
  {
   "cell_type": "markdown",
   "id": "7eb73c37",
   "metadata": {},
   "source": [
    "#### Replace String"
   ]
  },
  {
   "cell_type": "code",
   "execution_count": 66,
   "id": "10ced2fd",
   "metadata": {},
   "outputs": [
    {
     "name": "stdout",
     "output_type": "stream",
     "text": [
      "Jello, Ilham Fauzi\n"
     ]
    }
   ],
   "source": [
    "a = 'Hello, Ilham Fauzi'\n",
    "print(a.replace('H', 'J'))"
   ]
  },
  {
   "cell_type": "markdown",
   "id": "4f9ef084",
   "metadata": {},
   "source": [
    "#### Split String"
   ]
  },
  {
   "cell_type": "code",
   "execution_count": 67,
   "id": "005c23d9",
   "metadata": {},
   "outputs": [
    {
     "name": "stdout",
     "output_type": "stream",
     "text": [
      "['Hello', ' Ilham Fauzi']\n"
     ]
    }
   ],
   "source": [
    "a = 'Hello, Ilham Fauzi'\n",
    "print(a.split(\",\"))"
   ]
  },
  {
   "cell_type": "markdown",
   "id": "3f791951",
   "metadata": {},
   "source": [
    "### String Concatenation"
   ]
  },
  {
   "cell_type": "code",
   "execution_count": 71,
   "id": "d674292b",
   "metadata": {},
   "outputs": [
    {
     "name": "stdout",
     "output_type": "stream",
     "text": [
      "Ilham Fauzi\n"
     ]
    }
   ],
   "source": [
    "x = 'Fauzi'\n",
    "y = 'Ilham '\n",
    "z = y + x\n",
    "\n",
    "print (z)"
   ]
  },
  {
   "cell_type": "code",
   "execution_count": 73,
   "id": "ad4bc8b4",
   "metadata": {},
   "outputs": [
    {
     "name": "stdout",
     "output_type": "stream",
     "text": [
      "Ilham Fauzi\n"
     ]
    }
   ],
   "source": [
    "a = \"Ilham\"\n",
    "b = \"Fauzi\"\n",
    "c = a + \" \" + b\n",
    "print(c)"
   ]
  },
  {
   "cell_type": "markdown",
   "id": "7a8489e9",
   "metadata": {},
   "source": [
    "### String Format"
   ]
  },
  {
   "cell_type": "code",
   "execution_count": 76,
   "id": "500fbf7b",
   "metadata": {},
   "outputs": [
    {
     "ename": "TypeError",
     "evalue": "can only concatenate str (not \"int\") to str",
     "output_type": "error",
     "traceback": [
      "\u001b[1;31m---------------------------------------------------------------------------\u001b[0m",
      "\u001b[1;31mTypeError\u001b[0m                                 Traceback (most recent call last)",
      "Input \u001b[1;32mIn [76]\u001b[0m, in \u001b[0;36m<module>\u001b[1;34m\u001b[0m\n\u001b[0;32m      1\u001b[0m age \u001b[38;5;241m=\u001b[39m \u001b[38;5;241m20\u001b[39m\n\u001b[1;32m----> 2\u001b[0m txt \u001b[38;5;241m=\u001b[39m \u001b[38;5;124;43m\"\u001b[39;49m\u001b[38;5;124;43mMy name is Fauzi, I am \u001b[39;49m\u001b[38;5;124;43m\"\u001b[39;49m\u001b[43m \u001b[49m\u001b[38;5;241;43m+\u001b[39;49m\u001b[43m \u001b[49m\u001b[43mage\u001b[49m\n\u001b[0;32m      3\u001b[0m \u001b[38;5;28mprint\u001b[39m(txt)\n",
      "\u001b[1;31mTypeError\u001b[0m: can only concatenate str (not \"int\") to str"
     ]
    }
   ],
   "source": [
    "age = 20\n",
    "txt = \"My name is Fauzi, I am \" + age\n",
    "print(txt)"
   ]
  },
  {
   "cell_type": "code",
   "execution_count": 77,
   "id": "13ee5602",
   "metadata": {},
   "outputs": [
    {
     "name": "stdout",
     "output_type": "stream",
     "text": [
      "My name is Fauzi, and I am 20\n"
     ]
    }
   ],
   "source": [
    "age = 20\n",
    "txt = \"My name is Fauzi, and I am {}\"\n",
    "print(txt.format(age))"
   ]
  },
  {
   "cell_type": "code",
   "execution_count": 80,
   "id": "1c18eaa3",
   "metadata": {},
   "outputs": [
    {
     "name": "stdout",
     "output_type": "stream",
     "text": [
      "I want 5 pieces of item 500 for 49.95 dollars.\n"
     ]
    }
   ],
   "source": [
    "quantity = 5\n",
    "itemno = 500\n",
    "price = 49.95\n",
    "myorder = \"I want {} pieces of item {} for {} dollars.\"\n",
    "print(myorder.format(quantity, itemno, price))"
   ]
  },
  {
   "cell_type": "code",
   "execution_count": 81,
   "id": "38bae8b8",
   "metadata": {},
   "outputs": [
    {
     "name": "stdout",
     "output_type": "stream",
     "text": [
      "I want to pay 49.95 dollars for 5 pieces of item 400.\n"
     ]
    }
   ],
   "source": [
    "quantity = 5\n",
    "itemno = 400\n",
    "price = 49.95\n",
    "myorder = \"I want to pay {2} dollars for {0} pieces of item {1}.\"\n",
    "print(myorder.format(quantity, itemno, price))"
   ]
  },
  {
   "cell_type": "code",
   "execution_count": 84,
   "id": "d357ac0c",
   "metadata": {},
   "outputs": [
    {
     "name": "stdout",
     "output_type": "stream",
     "text": [
      "Kami adalah \"Persevere\" dari OFA.\n"
     ]
    }
   ],
   "source": [
    "txt = \"Kami adalah \\\"Persevere\\\" dari OFA.\"\n",
    "print(txt)"
   ]
  },
  {
   "cell_type": "markdown",
   "id": "f637edd4",
   "metadata": {},
   "source": [
    "## Python Booleans"
   ]
  },
  {
   "cell_type": "code",
   "execution_count": 85,
   "id": "99ab172f",
   "metadata": {},
   "outputs": [
    {
     "name": "stdout",
     "output_type": "stream",
     "text": [
      "True\n",
      "False\n",
      "False\n"
     ]
    }
   ],
   "source": [
    "print(21 > 20)\n",
    "print(21 == 20)\n",
    "print(21 < 20)"
   ]
  },
  {
   "cell_type": "code",
   "execution_count": 87,
   "id": "d330b138",
   "metadata": {},
   "outputs": [
    {
     "name": "stdout",
     "output_type": "stream",
     "text": [
      "b lebih besar dari a\n"
     ]
    }
   ],
   "source": [
    "a = 21\n",
    "b = 200\n",
    "\n",
    "if b > a:\n",
    "  print(\"b lebih besar dari a\")\n",
    "else:\n",
    "  print(\"b tidak lebih besar dari a\")"
   ]
  },
  {
   "cell_type": "markdown",
   "id": "d7fac219",
   "metadata": {},
   "source": [
    "### Evaluasi Nilai dan Variabel"
   ]
  },
  {
   "cell_type": "code",
   "execution_count": 89,
   "id": "262c32ae",
   "metadata": {},
   "outputs": [
    {
     "name": "stdout",
     "output_type": "stream",
     "text": [
      "True\n",
      "True\n"
     ]
    }
   ],
   "source": [
    "print(bool(\"Fauzi\"))\n",
    "print(bool(17))"
   ]
  },
  {
   "cell_type": "code",
   "execution_count": 90,
   "id": "0e029ade",
   "metadata": {},
   "outputs": [
    {
     "name": "stdout",
     "output_type": "stream",
     "text": [
      "True\n",
      "True\n"
     ]
    }
   ],
   "source": [
    "x = \"Fauzi\"\n",
    "y = 21\n",
    "\n",
    "print(bool(x))\n",
    "print(bool(y))"
   ]
  },
  {
   "cell_type": "markdown",
   "id": "c8d7fef9",
   "metadata": {},
   "source": [
    "### Kebanyakan Nilai Benar"
   ]
  },
  {
   "cell_type": "code",
   "execution_count": 92,
   "id": "195fb63a",
   "metadata": {},
   "outputs": [
    {
     "name": "stdout",
     "output_type": "stream",
     "text": [
      "True\n",
      "True\n",
      "True\n"
     ]
    }
   ],
   "source": [
    "bool(\"xyz\")\n",
    "bool(123)\n",
    "bool([\"Nasi Goreng\", \"Jamur Crispy\", \"Cimol\"])\n",
    "\n",
    "print(bool(\"xyz\"))\n",
    "print(bool(123))\n",
    "print(bool([\"Nasi Goreng\", \"Jamur Crispy\", \"Cimol\"]))"
   ]
  },
  {
   "cell_type": "markdown",
   "id": "031edb00",
   "metadata": {},
   "source": [
    "### Beberapa Nilai Salah"
   ]
  },
  {
   "cell_type": "code",
   "execution_count": 93,
   "id": "3c3d642e",
   "metadata": {},
   "outputs": [
    {
     "name": "stdout",
     "output_type": "stream",
     "text": [
      "False\n",
      "False\n",
      "False\n",
      "False\n",
      "False\n",
      "False\n",
      "False\n"
     ]
    }
   ],
   "source": [
    "bool(False)\n",
    "bool(None)\n",
    "bool(0)\n",
    "bool(\"\")\n",
    "bool(())\n",
    "bool([])\n",
    "bool({})\n",
    "\n",
    "print(bool(False))\n",
    "print(bool(None))\n",
    "print(bool(0))\n",
    "print(bool(\"\"))\n",
    "print(bool(()))\n",
    "print(bool([]))\n",
    "print(bool({}))"
   ]
  },
  {
   "cell_type": "code",
   "execution_count": 94,
   "id": "e9791946",
   "metadata": {},
   "outputs": [
    {
     "name": "stdout",
     "output_type": "stream",
     "text": [
      "False\n"
     ]
    }
   ],
   "source": [
    "class myclass():\n",
    "  def __len__(self):\n",
    "    return 0\n",
    "\n",
    "myobj = myclass()\n",
    "print(bool(myobj))\n",
    "\n"
   ]
  },
  {
   "cell_type": "markdown",
   "id": "fbb34f28",
   "metadata": {},
   "source": [
    "### Fungsi dapat Mengembalikan Boolean"
   ]
  },
  {
   "cell_type": "code",
   "execution_count": 97,
   "id": "90ae19f4",
   "metadata": {},
   "outputs": [
    {
     "name": "stdout",
     "output_type": "stream",
     "text": [
      "True\n"
     ]
    }
   ],
   "source": [
    "def myFunction() :\n",
    "  return True\n",
    "\n",
    "print(myFunction())"
   ]
  },
  {
   "cell_type": "code",
   "execution_count": 100,
   "id": "b3ab3379",
   "metadata": {},
   "outputs": [
    {
     "name": "stdout",
     "output_type": "stream",
     "text": [
      "Iya\n"
     ]
    }
   ],
   "source": [
    "def myFunction() :\n",
    "  return True\n",
    "\n",
    "if myFunction():\n",
    "  print(\"Iya\")\n",
    "else:\n",
    "  print(\"Tidak\")"
   ]
  },
  {
   "cell_type": "code",
   "execution_count": 101,
   "id": "649c92dc",
   "metadata": {},
   "outputs": [
    {
     "name": "stdout",
     "output_type": "stream",
     "text": [
      "True\n"
     ]
    }
   ],
   "source": [
    "x = 200\n",
    "print(isinstance(x, int))"
   ]
  }
 ],
 "metadata": {
  "kernelspec": {
   "display_name": "Python 3 (ipykernel)",
   "language": "python",
   "name": "python3"
  },
  "language_info": {
   "codemirror_mode": {
    "name": "ipython",
    "version": 3
   },
   "file_extension": ".py",
   "mimetype": "text/x-python",
   "name": "python",
   "nbconvert_exporter": "python",
   "pygments_lexer": "ipython3",
   "version": "3.10.2"
  }
 },
 "nbformat": 4,
 "nbformat_minor": 5
}
