{
 "cells": [
  {
   "cell_type": "markdown",
   "id": "00a535b7",
   "metadata": {},
   "source": [
    "## inisialisasi direktori git"
   ]
  },
  {
   "cell_type": "markdown",
   "id": "992d36e2",
   "metadata": {},
   "source": [
    "$ git init\n",
    "$ "
   ]
  },
  {
   "cell_type": "markdown",
   "id": "19b9c796",
   "metadata": {},
   "source": [
    "## Bikin Token untuk push ke akun github\n",
    "https://docs.github.com/en/authentication/keeping-your-account-and-data-secure/creating-a-personal-access-token"
   ]
  },
  {
   "cell_type": "code",
   "execution_count": null,
   "id": "6ad5ac19",
   "metadata": {},
   "outputs": [],
   "source": [
    "git init\n",
    "  138  git add Tutorial\\ Git\\ dan\\ GitHub.ipynb\n",
    "  139  git status\n",
    "  140  git commit -m \"commit pertama\"\n",
    "  141  git config user.email \"email@kamu.com\"\n",
    "  142  git config user.name \"nama kamu\"\n",
    "  143  git commit -m \"commit pertama\"\n",
    "  144  git log\n",
    "  145  git commit -h\n",
    "  146  git remote origin git@github.com:oektomo/ClassPersevere.git\n",
    "  147  git remote add origin git@github.com:oektomo/ClassPersevere.git\n",
    "  148  git push\n",
    "  149  git push --set-upstream origin master\n",
    "  150  git remote add origin https://github.com/oektomo/ClassPersevere.git\n",
    "  151  git remote rm origin\n",
    "  152  git remote add origin https://github.com/oektomo/ClassPersevere.git\n",
    "  153  git push --set-upstream origin master\n",
    "  154  git status\n",
    "  155  git add .gitignore\n",
    "  156  git add Readme.md\n",
    "  157  git commit -m \"menambah Readme dan .gitignore\"\n",
    "  158  git push\n",
    "  159  git commit -am\n",
    "  160  git commit -am \"update workflow pembuatan tugas di readme.md\"\n",
    "  161  git push\n",
    "  162  git commit -am \"tambah nama tugas1 di readme.md\"\n",
    "  163  git push\n",
    "  164  git branch \"minggu2\"\n",
    "  165  git branch\n",
    "  166  git checkout minggu2\n",
    "  167  git branch\n",
    "  168  cp ../contoh\\ Notebook.ipynb .\n",
    "  169  ls\n",
    "  170  git status\n",
    "  171  git add contoh\\ Notebook.ipynb\n",
    "  172  git commit -m \"menambah file minggu 2 hari 1\"\n",
    "  173  git push\n",
    "  174  git push --set-upstream origin minggu2\n",
    "  175  git local\n",
    "  176  git log\n",
    "  177  cd notebook/persevere/\n",
    "  178  ls\n",
    "  179  git status\n",
    "  180  git commit -am \"perbaiki workflow pembuatan dan pengumpulan tugas, tambah format nama tugas\"\n",
    "  181  git push\n",
    "  182  git merge minggu2 master\n",
    "  183  it pushgit log\n",
    "  184  git log\n",
    "  185  git merge master minggu2\n",
    "  186  git log\n",
    "  187  git merge minggu2\n",
    "  188  git log\n",
    "  189  git checkout minggu2\n",
    "  190  git merge master\n",
    "  191  git log\n",
    "  192  git checkout master\n",
    "  193  git merge master\n",
    "  194  git merge minggu2\n",
    "  195  git push\n",
    "  196  history"
   ]
  }
 ],
 "metadata": {
  "kernelspec": {
   "display_name": "Python 3 (ipykernel)",
   "language": "python",
   "name": "python3"
  },
  "language_info": {
   "codemirror_mode": {
    "name": "ipython",
    "version": 3
   },
   "file_extension": ".py",
   "mimetype": "text/x-python",
   "name": "python",
   "nbconvert_exporter": "python",
   "pygments_lexer": "ipython3",
   "version": "3.8.10"
  }
 },
 "nbformat": 4,
 "nbformat_minor": 5
}
