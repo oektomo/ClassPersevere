{
  "nbformat": 4,
  "nbformat_minor": 0,
  "metadata": {
    "colab": {
      "name": "Tugas1_percy40",
      "provenance": [],
      "collapsed_sections": []
    },
    "kernelspec": {
      "name": "python3",
      "display_name": "Python 3"
    },
    "language_info": {
      "name": "python"
    }
  },
  "cells": [
    {
      "cell_type": "code",
      "execution_count": null,
      "metadata": {
        "colab": {
          "base_uri": "https://localhost:8080/"
        },
        "id": "_7JeV6PTQvRf",
        "outputId": "f8786d8c-bcce-4d9b-ec0a-a094a675a987"
      },
      "outputs": [
        {
          "output_type": "stream",
          "name": "stdout",
          "text": [
            "Hello, World\n"
          ]
        }
      ],
      "source": [
        "print(\"Hello, World\")"
      ]
    },
    {
      "cell_type": "code",
      "source": [
        "if (5>2):\n",
        "  print(\"lima lebih besar dari dua\")"
      ],
      "metadata": {
        "colab": {
          "base_uri": "https://localhost:8080/"
        },
        "id": "Ma9VfEzc-8Qf",
        "outputId": "b4e86586-448b-4efb-c305-217915a9a14d"
      },
      "execution_count": null,
      "outputs": [
        {
          "output_type": "stream",
          "name": "stdout",
          "text": [
            "lima lebih besar dari dua\n"
          ]
        }
      ]
    },
    {
      "cell_type": "code",
      "source": [
        "x = 5\n",
        "y = \"Hello, World\"\n",
        "# print x dan y\n",
        "print(x , y)"
      ],
      "metadata": {
        "colab": {
          "base_uri": "https://localhost:8080/"
        },
        "id": "dNrktJYL_EG_",
        "outputId": "dd62a913-8b1a-48ff-f85b-bf1eeb848e39"
      },
      "execution_count": null,
      "outputs": [
        {
          "output_type": "stream",
          "name": "stdout",
          "text": [
            "5 Hello, World\n"
          ]
        }
      ]
    },
    {
      "cell_type": "code",
      "source": [
        "# this is comment\n",
        "print(\"hello world\") # this is comment too"
      ],
      "metadata": {
        "colab": {
          "base_uri": "https://localhost:8080/"
        },
        "id": "MVGDUMEE_Jt0",
        "outputId": "9a5323b2-0604-4d5a-f4e0-6c6f4d1c2b0c"
      },
      "execution_count": null,
      "outputs": [
        {
          "output_type": "stream",
          "name": "stdout",
          "text": [
            "hello world\n"
          ]
        }
      ]
    },
    {
      "cell_type": "code",
      "source": [
        "# mengoverwrite variabel\n",
        "x = 4 # x is of type integer\n",
        "x = \"Sally\" # x is now of type string\n",
        "print(x)"
      ],
      "metadata": {
        "colab": {
          "base_uri": "https://localhost:8080/"
        },
        "id": "Abjtu1b__PyZ",
        "outputId": "4ce69b95-a620-4152-d3d9-dac9c7fc2403"
      },
      "execution_count": null,
      "outputs": [
        {
          "output_type": "stream",
          "name": "stdout",
          "text": [
            "Sally\n"
          ]
        }
      ]
    },
    {
      "cell_type": "code",
      "source": [
        " #casting\n",
        "x = str(3) # x will be '3' string\n",
        "y = int(3) # y will be 3 integer\n",
        "z = float(3) # z will be 3.0 desimal"
      ],
      "metadata": {
        "id": "XcXqpBdq_X_8"
      },
      "execution_count": null,
      "outputs": []
    },
    {
      "cell_type": "code",
      "source": [
        "# melihat tipe data pada python\n",
        "x = 5\n",
        "y = \"John\"\n",
        "print(type(x))\n",
        "print(type(y))"
      ],
      "metadata": {
        "colab": {
          "base_uri": "https://localhost:8080/"
        },
        "id": "RKx-QeUv_oM8",
        "outputId": "9b4bfca5-3018-42e1-c211-d1bbb2df603b"
      },
      "execution_count": null,
      "outputs": [
        {
          "output_type": "stream",
          "name": "stdout",
          "text": [
            "<class 'int'>\n",
            "<class 'str'>\n"
          ]
        }
      ]
    },
    {
      "cell_type": "code",
      "source": [
        " #penggunaan double quotes dan single quotes pada string\n",
        "x = \"John\"\n",
        "# is the same as\n",
        "x = 'John'"
      ],
      "metadata": {
        "id": "oY9BKKJn_z1G"
      },
      "execution_count": null,
      "outputs": []
    },
    {
      "cell_type": "code",
      "source": [
        "# case sensitive, jadi huruf kecil dan kapital memliki perbedaan di python\n",
        "a = 4\n",
        "A = \"Sally\"\n",
        "print(a)"
      ],
      "metadata": {
        "colab": {
          "base_uri": "https://localhost:8080/"
        },
        "id": "wpDZ1Gdq__sN",
        "outputId": "56975d06-df44-4e48-bb5d-1b408d846dc4"
      },
      "execution_count": null,
      "outputs": [
        {
          "output_type": "stream",
          "name": "stdout",
          "text": [
            "4\n"
          ]
        }
      ]
    },
    {
      "cell_type": "code",
      "source": [
        "# legal variabel name pada python\n",
        "myvar = \"John\"\n",
        "my_var = \"John\"\n",
        "_my_var = \"John\"\n",
        "myVar = \"John\"\n",
        "MYVAR = \"John\"\n",
        "myvar2 = \"John\"\n",
        "print(myvar)\n",
        "print(my_var)\n",
        "print(_my_var)\n",
        "print(myVar)\n",
        "print(MYVAR)\n",
        "print(myvar2)"
      ],
      "metadata": {
        "colab": {
          "base_uri": "https://localhost:8080/"
        },
        "id": "sKDlxaNGAM8p",
        "outputId": "2b2db95c-20cd-40f5-d5c6-785ab108326b"
      },
      "execution_count": null,
      "outputs": [
        {
          "output_type": "stream",
          "name": "stdout",
          "text": [
            "John\n",
            "John\n",
            "John\n",
            "John\n",
            "John\n",
            "John\n"
          ]
        }
      ]
    },
    {
      "cell_type": "code",
      "source": [
        "# memdefinisikan banyak variabel dengan 1 line\n",
        "x, y, z = \"Orange\", \"Banana\", \"Cherry\"\n",
        "print(x)\n",
        "print(y)\n",
        "print(z)"
      ],
      "metadata": {
        "colab": {
          "base_uri": "https://localhost:8080/"
        },
        "id": "_7MgpGxEAaLt",
        "outputId": "0bf3a136-d0d0-4a7a-f65e-d3e9fdec7a30"
      },
      "execution_count": null,
      "outputs": [
        {
          "output_type": "stream",
          "name": "stdout",
          "text": [
            "Orange\n",
            "Banana\n",
            "Cherry\n"
          ]
        }
      ]
    },
    {
      "cell_type": "code",
      "source": [
        "# satu value dengan banyak variabel\n",
        "x = y = z = \"Orange\"\n",
        "print(x)\n",
        "print(y)\n",
        "print(z)"
      ],
      "metadata": {
        "colab": {
          "base_uri": "https://localhost:8080/"
        },
        "id": "h_8qw56TAl7r",
        "outputId": "929cda84-71e7-4325-c437-477d7015496c"
      },
      "execution_count": null,
      "outputs": [
        {
          "output_type": "stream",
          "name": "stdout",
          "text": [
            "Orange\n",
            "Orange\n",
            "Orange\n"
          ]
        }
      ]
    },
    {
      "cell_type": "code",
      "source": [
        "# unpacking a collection, jika kita punya list(array). maka kita dapat mengassign sa\n",
        "# elemen dalam masing2 variabel dengan syarat jumlah variabel nya sama dengan jumlah\n",
        "fruits = [\"apple\", \"banana\", \"cherry\"]\n",
        "x, y, z = fruits\n",
        "print(x)\n",
        "print(y)\n",
        "print(z)"
      ],
      "metadata": {
        "colab": {
          "base_uri": "https://localhost:8080/"
        },
        "id": "b2-E-uGuAsKp",
        "outputId": "83eb1735-1f80-40da-a19e-cf7748c82246"
      },
      "execution_count": null,
      "outputs": [
        {
          "output_type": "stream",
          "name": "stdout",
          "text": [
            "apple\n",
            "banana\n",
            "cherry\n"
          ]
        }
      ]
    },
    {
      "cell_type": "code",
      "source": [
        "# mengkombinasikan variabel dengan teks / variabel lain\n",
        "# saat menprint pada terminal\n",
        "x = \"halo\"\n",
        "y = \" kakak\"\n",
        "a = 5 ; b = 10\n",
        "print(x + y , a + b)"
      ],
      "metadata": {
        "colab": {
          "base_uri": "https://localhost:8080/"
        },
        "id": "QIEeyuFFBfIx",
        "outputId": "1575451e-6b53-4da4-a12c-b0dd9c980068"
      },
      "execution_count": null,
      "outputs": [
        {
          "output_type": "stream",
          "name": "stdout",
          "text": [
            "halo kakak 15\n"
          ]
        }
      ]
    },
    {
      "cell_type": "code",
      "source": [
        "# Contoh Variabel Global (x) yang bisa digunakna untuk semua fungsi\n",
        "x = \"awesome\"\n",
        "\n",
        "def myfunc():\n",
        "  print(\"Python is \" + x)\n",
        "\n",
        "myfunc()"
      ],
      "metadata": {
        "colab": {
          "base_uri": "https://localhost:8080/"
        },
        "id": "NbtiIuhPBoO1",
        "outputId": "28202e5c-0b8e-4da5-e973-98e0350bc69c"
      },
      "execution_count": null,
      "outputs": [
        {
          "output_type": "stream",
          "name": "stdout",
          "text": [
            "Python is awesome\n"
          ]
        }
      ]
    },
    {
      "cell_type": "code",
      "source": [
        "# pada fungsi adalah variabel lokal scope dan pada x = awesome adalah global variabe\n",
        "x = \"awesome\"\n",
        "\n",
        "def myfunc():\n",
        "  x = \"fantastic\"\n",
        "  print(\"Python is \" + x)\n",
        "\n",
        "myfunc()\n",
        "\n",
        "print(\"Python is \" + x)"
      ],
      "metadata": {
        "colab": {
          "base_uri": "https://localhost:8080/"
        },
        "id": "d522pnddB3N_",
        "outputId": "3595e66b-2f2a-41ee-c9de-e744ed329ce2"
      },
      "execution_count": null,
      "outputs": [
        {
          "output_type": "stream",
          "name": "stdout",
          "text": [
            "Python is fantastic\n",
            "Python is awesome\n"
          ]
        }
      ]
    },
    {
      "cell_type": "code",
      "source": [
        "# pada python kita dapat membuat variabel lokal menjadi variabel global\n",
        "# dan merubah variabel global dari variabel scope\n",
        "x = \"awesome\"\n",
        "def myfunc():\n",
        "  global x\n",
        "  x = \"fantastic\"\n",
        "myfunc()\n",
        "\n",
        "print(\"Python is \" + x)"
      ],
      "metadata": {
        "colab": {
          "base_uri": "https://localhost:8080/"
        },
        "id": "1j_5J6amCUXp",
        "outputId": "db55ff71-aa23-458b-ef15-6361c08a5e38"
      },
      "execution_count": null,
      "outputs": [
        {
          "output_type": "stream",
          "name": "stdout",
          "text": [
            "Python is fantastic\n"
          ]
        }
      ]
    },
    {
      "cell_type": "code",
      "source": [
        "# melihat tipe data python\n",
        "a = 5\n",
        "b = \"wonderfull\"\n",
        "c = 3.32\n",
        "d = [5,2,'who']\n",
        "e = (1,2,3)\n",
        "f = {1,2,3}\n",
        "g = {'a':[1,2,3],\n",
        "     'b':['soap','tootbrush']}\n",
        "h = True\n",
        "i = 1j\n",
        "print(type(a))\n",
        "print(type(b))\n",
        "print(type(c))\n",
        "print(type(d))\n",
        "print(type(e))\n",
        "print(type(f))\n",
        "print(type(g))\n",
        "print(type(h))\n",
        "print(type(i))"
      ],
      "metadata": {
        "colab": {
          "base_uri": "https://localhost:8080/"
        },
        "id": "qQCU6oRlCvKt",
        "outputId": "e91c4745-711f-48d0-9a8c-1a2b6f838ce3"
      },
      "execution_count": null,
      "outputs": [
        {
          "output_type": "stream",
          "name": "stdout",
          "text": [
            "<class 'int'>\n",
            "<class 'str'>\n",
            "<class 'float'>\n",
            "<class 'list'>\n",
            "<class 'tuple'>\n",
            "<class 'set'>\n",
            "<class 'dict'>\n",
            "<class 'bool'>\n",
            "<class 'complex'>\n"
          ]
        }
      ]
    },
    {
      "cell_type": "code",
      "source": [
        "# konversi satuan pada python\n",
        "x = 1    # int\n",
        "y = 2.8  # float\n",
        "z = 1j   # complex\n",
        "\n",
        "#convert from int to float:\n",
        "a = float(x)\n",
        "\n",
        "#convert from float to int:\n",
        "b = int(y)\n",
        "\n",
        "#convert from int to complex:\n",
        "c = complex(x)\n",
        "\n",
        "print(a)\n",
        "print(b)\n",
        "print(c)\n",
        "\n",
        "print(type(a))\n",
        "print(type(b))\n",
        "print(type(c))"
      ],
      "metadata": {
        "colab": {
          "base_uri": "https://localhost:8080/"
        },
        "id": "FpHpzCCbDWJa",
        "outputId": "aec57e4f-ba38-4dee-f516-64b64a4015a6"
      },
      "execution_count": null,
      "outputs": [
        {
          "output_type": "stream",
          "name": "stdout",
          "text": [
            "1.0\n",
            "2\n",
            "(1+0j)\n",
            "<class 'float'>\n",
            "<class 'int'>\n",
            "<class 'complex'>\n"
          ]
        }
      ]
    },
    {
      "cell_type": "code",
      "source": [
        "# generate random number pada python\n",
        "import random\n",
        "\n",
        "print(random.randrange(1, 10))"
      ],
      "metadata": {
        "colab": {
          "base_uri": "https://localhost:8080/"
        },
        "id": "SMbYiVJvDvOi",
        "outputId": "5e6816b6-da6d-4b7a-b5a7-b1fa0a881544"
      },
      "execution_count": null,
      "outputs": [
        {
          "output_type": "stream",
          "name": "stdout",
          "text": [
            "1\n"
          ]
        }
      ]
    },
    {
      "cell_type": "code",
      "source": [
        "# mengkonversi teks menjadi angka dan sebaliknya\n",
        "a1 = 5\n",
        "b1 = '10'\n",
        "\n",
        "print(a1)\n",
        "print(b1)\n",
        "\n",
        "a2 = str(a1)\n",
        "b2 = int(b1)\n",
        "\n",
        "print(type(a2))\n",
        "print(type(b2))"
      ],
      "metadata": {
        "colab": {
          "base_uri": "https://localhost:8080/"
        },
        "id": "Ub0IIQhID6Uo",
        "outputId": "df373682-8017-4bbc-b780-c28249f554da"
      },
      "execution_count": null,
      "outputs": [
        {
          "output_type": "stream",
          "name": "stdout",
          "text": [
            "5\n",
            "10\n",
            "<class 'str'>\n",
            "<class 'int'>\n"
          ]
        }
      ]
    },
    {
      "cell_type": "code",
      "source": [
        "# format multilateral string\n",
        "a = (f\"\"\"Lorem ipsum dolor sit amet,\n",
        "consectetur adipiscing elit,\n",
        "sed do eiusmod tempor incididunt\n",
        "ut labore et dolore magna aliqua.\n",
        "\"\"\")\n",
        "print(a)"
      ],
      "metadata": {
        "colab": {
          "base_uri": "https://localhost:8080/"
        },
        "id": "YpCN8EjIEPAY",
        "outputId": "799e2a64-217e-411d-cb43-1fce5541f8a6"
      },
      "execution_count": null,
      "outputs": [
        {
          "output_type": "stream",
          "name": "stdout",
          "text": [
            "Lorem ipsum dolor sit amet,\n",
            "consectetur adipiscing elit,\n",
            "sed do eiusmod tempor incididunt\n",
            "ut labore et dolore magna aliqua.\n",
            "\n"
          ]
        }
      ]
    },
    {
      "cell_type": "code",
      "source": [
        "# array in string\n",
        "a = \"banana\"\n",
        "print(a[2],\"\\n\")\n",
        "\n",
        "for i in a:\n",
        "  print(i)\n",
        "print(\"\\n\")\n",
        "\n",
        "# panjang string\n",
        "a = \"helllo, world\"\n",
        "print(len(a))\n",
        "\n",
        "# checking word in string\n",
        "a = \"pisang di rumah nenek\"\n",
        "if \"makan\" in a:\n",
        "  print(f\"\"\" ada 'makan' di variabel a \"\"\")\n",
        "else:\n",
        "  print(f\"\"\" tidak ada 'makan' didalam variabel a \"\"\")"
      ],
      "metadata": {
        "colab": {
          "base_uri": "https://localhost:8080/"
        },
        "id": "7D8Yo1bEEbQM",
        "outputId": "c156a751-e192-44b4-e64a-bfc8ed256bfa"
      },
      "execution_count": null,
      "outputs": [
        {
          "output_type": "stream",
          "name": "stdout",
          "text": [
            "n \n",
            "\n",
            "b\n",
            "a\n",
            "n\n",
            "a\n",
            "n\n",
            "a\n",
            "\n",
            "\n",
            "13\n",
            " tidak ada 'makan' didalam variabel a \n"
          ]
        }
      ]
    },
    {
      "cell_type": "code",
      "source": [
        "# slicing string dan indexing dengan negatif\n",
        "b = \"Hello, World!\"\n",
        "\n",
        "a = b[:5]\n",
        "c = b[-6:-1]\n",
        "\n",
        "print(a)\n",
        "print(c)"
      ],
      "metadata": {
        "colab": {
          "base_uri": "https://localhost:8080/"
        },
        "id": "o3hEPrifFiGM",
        "outputId": "22d9b6e1-d6c5-4924-a8c3-7cacf87bf0bb"
      },
      "execution_count": null,
      "outputs": [
        {
          "output_type": "stream",
          "name": "stdout",
          "text": [
            "Hello\n",
            "World\n"
          ]
        }
      ]
    },
    {
      "cell_type": "code",
      "source": [
        "# modify string\n",
        "a = \"Hello, World!\"\n",
        "print(a.upper())\n",
        "\n",
        "a = \"Hello, World!\"\n",
        "print(a.lower())\n",
        "\n",
        "# strip() akan menghilangkan spasi pada awal kalimat dan akhir kalimat\n",
        "a = \" Hello, World! \"\n",
        "print(a.strip()) # returns \"Hello, World!\"\n",
        "\n",
        "a = \"Hello, World!\"\n",
        "print(a.replace(\"Hello\", \"Oyasumi\"))\n",
        "\n",
        "# split() merubah string menjadi list\n",
        "a = \"Hello, World!\"\n",
        "print(a.split(\",\")) # returns ['Hello', ' World!']"
      ],
      "metadata": {
        "colab": {
          "base_uri": "https://localhost:8080/"
        },
        "id": "I7ejfzwDFwOH",
        "outputId": "39034ca0-1897-4075-b0cc-b575063c8d0b"
      },
      "execution_count": null,
      "outputs": [
        {
          "output_type": "stream",
          "name": "stdout",
          "text": [
            "HELLO, WORLD!\n",
            "hello, world!\n",
            "Hello, World!\n",
            "Oyasumi, World!\n",
            "['Hello', ' World!']\n"
          ]
        }
      ]
    },
    {
      "cell_type": "code",
      "source": [
        "# format string\n",
        "a = 5\n",
        "b = \"senilai\"\n",
        "print(f\"\"\"variabel a {b} {a}\"\"\")"
      ],
      "metadata": {
        "colab": {
          "base_uri": "https://localhost:8080/"
        },
        "id": "zlFIZwg-GYrq",
        "outputId": "1e6f0ece-96db-452d-c052-f6abf8ce2e2f"
      },
      "execution_count": null,
      "outputs": [
        {
          "output_type": "stream",
          "name": "stdout",
          "text": [
            "variabel a senilai 5\n"
          ]
        }
      ]
    },
    {
      "cell_type": "code",
      "source": [
        "# escape quotes\n",
        "a = \"they are called themselves a \\\"guardian\\\" which is means they are soldier of lunatia kingdom\"\n",
        "print(a)"
      ],
      "metadata": {
        "colab": {
          "base_uri": "https://localhost:8080/"
        },
        "id": "3-6NklGtGkFV",
        "outputId": "1f972a47-3282-467e-acf8-d9a8d2a30f71"
      },
      "execution_count": null,
      "outputs": [
        {
          "output_type": "stream",
          "name": "stdout",
          "text": [
            "they are called themselves a \"guardian\" which is means they are soldier of lunatia kingdom\n"
          ]
        }
      ]
    },
    {
      "cell_type": "code",
      "source": [
        "a= bool(\"abc\")\n",
        "b= bool(123)\n",
        "c= bool([\"apple\", \"cherry\", \"banana\"])\n",
        "d= bool({})\n",
        "e= bool([])\n",
        "\n",
        "print(a)\n",
        "print(b)\n",
        "print(c)\n",
        "print(d)\n",
        "print(e)"
      ],
      "metadata": {
        "colab": {
          "base_uri": "https://localhost:8080/"
        },
        "id": "A7T4JlqhHd4G",
        "outputId": "9a2695b3-f801-4370-84f3-f3aa0e43f0e0"
      },
      "execution_count": null,
      "outputs": [
        {
          "output_type": "stream",
          "name": "stdout",
          "text": [
            "True\n",
            "True\n",
            "True\n",
            "False\n",
            "False\n"
          ]
        }
      ]
    },
    {
      "cell_type": "code",
      "source": [
        "# class yang akan mereturn bool akan bernilai false jika mengembalikan nilai 0\n",
        "class myclass():\n",
        "  def _len_(self):\n",
        "    return 0\n",
        "    \n",
        "myobj = myclass()\n",
        "print(bool(myobj))"
      ],
      "metadata": {
        "colab": {
          "base_uri": "https://localhost:8080/"
        },
        "id": "nveJ6YaMHnv-",
        "outputId": "e1646e87-aefb-447b-90dc-8c13da3b5a71"
      },
      "execution_count": null,
      "outputs": [
        {
          "output_type": "stream",
          "name": "stdout",
          "text": [
            "True\n"
          ]
        }
      ]
    },
    {
      "cell_type": "code",
      "source": [
        "# fungsi yang mengambalikan nilai bool dan pada percabangan\n",
        "def kebenaran():\n",
        "  return True\n",
        "\n",
        "if kebenaran() == True:\n",
        "  print(\"Kebenaran tak akan kalah\")\n",
        "else:\n",
        "  print(\"Akan tiba waktunya Kebenaran akan menang\")\n",
        "kebenaran()"
      ],
      "metadata": {
        "colab": {
          "base_uri": "https://localhost:8080/"
        },
        "id": "wR9ZnEQjH2sg",
        "outputId": "137d3ac1-f38e-41c3-f4e3-52346234d758"
      },
      "execution_count": null,
      "outputs": [
        {
          "output_type": "stream",
          "name": "stdout",
          "text": [
            "Kebenaran tak akan kalah\n"
          ]
        },
        {
          "output_type": "execute_result",
          "data": {
            "text/plain": [
              "True"
            ]
          },
          "metadata": {},
          "execution_count": 1
        }
      ]
    },
    {
      "cell_type": "code",
      "source": [
        "a = 7%2\n",
        "b = 2**3\n",
        "c = 5/2\n",
        "d = 5//2\n",
        "e = 10\n",
        "e*= 5\n",
        "\n",
        "print(a)\n",
        "print(b)\n",
        "print(c)\n",
        "print(d)\n",
        "print(e)"
      ],
      "metadata": {
        "colab": {
          "base_uri": "https://localhost:8080/"
        },
        "id": "8z2iEW5aIQiY",
        "outputId": "03966249-4f6e-4c06-c4f3-89868f560146"
      },
      "execution_count": null,
      "outputs": [
        {
          "output_type": "stream",
          "name": "stdout",
          "text": [
            "1\n",
            "8\n",
            "2.5\n",
            "2\n",
            "50\n"
          ]
        }
      ]
    },
    {
      "cell_type": "code",
      "source": [
        "a = ['javascript','python','c++','php','c','hmtl','CSS']\n",
        "d = [5,3,6,2,25,6]\n",
        "\n",
        "# indexing\n",
        "b = a[1]\n",
        "print(b,\"\\n\")\n",
        "\n",
        "# slicing\n",
        "c = a[:3]\n",
        "print(c,\"\\n\")\n",
        "\n",
        "# panjang list\n",
        "print(len(a),\"\\n\")\n",
        "\n",
        "# sort list\n",
        "e = d.sort()\n",
        "print(d)"
      ],
      "metadata": {
        "colab": {
          "base_uri": "https://localhost:8080/"
        },
        "id": "FnJrmUlOIZD5",
        "outputId": "1b59e1d0-ba46-4737-f5ad-19a47465d49e"
      },
      "execution_count": null,
      "outputs": [
        {
          "output_type": "stream",
          "name": "stdout",
          "text": [
            "python \n",
            "\n",
            "['javascript', 'python', 'c++'] \n",
            "\n",
            "7 \n",
            "\n",
            "[2, 3, 5, 6, 6, 25]\n"
          ]
        }
      ]
    },
    {
      "cell_type": "code",
      "source": [
        "thistuple = (\"apple\", \"banana\", \"cherry\", \"orange\", \"kiwi\", \"melon\", \"mango\")\n",
        "print(thistuple[2:5],\"\\n\")\n",
        "\n",
        "# join a tuple\n",
        "tuple2 = (1, 2, 3)\n",
        "print(thistuple + tuple2,\"\\n\")\n",
        "\n",
        "# perkalian tuple\n",
        "print(tuple2*2,\"\\n\")\n",
        "\n",
        "# mencari jumlah elemen pada tuple\n",
        "print(thistuple.count(\"orange\"))"
      ],
      "metadata": {
        "colab": {
          "base_uri": "https://localhost:8080/"
        },
        "id": "OuP5eubcIvEX",
        "outputId": "427bc0c3-df6c-4063-e44f-2a7bf6a1236c"
      },
      "execution_count": null,
      "outputs": [
        {
          "output_type": "stream",
          "name": "stdout",
          "text": [
            "('cherry', 'orange', 'kiwi') \n",
            "\n",
            "('apple', 'banana', 'cherry', 'orange', 'kiwi', 'melon', 'mango', 1, 2, 3) \n",
            "\n",
            "(1, 2, 3, 1, 2, 3) \n",
            "\n",
            "1\n"
          ]
        }
      ]
    },
    {
      "cell_type": "code",
      "source": [
        "myset = {\"apple\", \"banana\", \"cherry\"}\n",
        "\n",
        "# menggunakan constructor/konversi ke sets dan menghitung panjang elemen sets\n",
        "set_baru = set([\"avanza\",\"toyota\",\"suzuki\"])\n",
        "print(f\"\"\"tipe data adalah {type(set_baru)} dengan panjang {len(set_baru)} \\n\"\"\")\n",
        "\n",
        "# looping set dan cek elemen\n",
        "for i in set_baru:\n",
        "  print(i)\n",
        "if \"avanza\" in set_baru:\n",
        "  print(\"\\nBenar\\n\")\n",
        "else:\n",
        "  print(\"\\nSalah\\n\")\n",
        "\n",
        "# menambah dan mengurangi elemen sets\n",
        "myset.add(\"monas\")\n",
        "print(myset,\"\\n\")\n",
        "myset.remove(\"apple\")\n",
        "print(myset,\"\\n\")\n",
        "\n",
        "# method union() -> menggabungkan elemen ; update() -> menambahkan elemen\n",
        "set1 = {\"a\", \"b\" , \"c\"}\n",
        "set2 = {1, 2, 3}\n",
        "\n",
        "set3 = set1.union(set2)\n",
        "print(set3)\n",
        "\n",
        "sett1 = {\"a\", \"b\" , \"c\"}\n",
        "sett2 = {1, 2, 3}\n",
        "\n",
        "sett1.update(sett2)\n",
        "print(sett1)"
      ],
      "metadata": {
        "colab": {
          "base_uri": "https://localhost:8080/"
        },
        "id": "TEA7q8IuI2dH",
        "outputId": "e0d46b4f-fa26-4b31-9827-cef7008fe345"
      },
      "execution_count": null,
      "outputs": [
        {
          "output_type": "stream",
          "name": "stdout",
          "text": [
            "tipe data adalah <class 'set'> dengan panjang 3 \n",
            "\n",
            "toyota\n",
            "avanza\n",
            "suzuki\n",
            "\n",
            "Benar\n",
            "\n",
            "{'monas', 'banana', 'apple', 'cherry'} \n",
            "\n",
            "{'monas', 'banana', 'cherry'} \n",
            "\n",
            "{1, 'c', 'a', 2, 3, 'b'}\n",
            "{1, 'c', 'a', 2, 3, 'b'}\n"
          ]
        }
      ]
    },
    {
      "cell_type": "code",
      "source": [
        "# mengakses key pada dictionary\n",
        "thisdict = {\n",
        "  \"brand\": [\"Ford\",\"toyota\"],\n",
        "  \"model\": [\"Mustang\",\"avanza\"],\n",
        "  \"year\": [1964,2010]\n",
        "}\n",
        "x = thisdict[\"model\"]\n",
        "print(x,\"\\n\")\n",
        "\n",
        "# method melihat semua keys() ; values()\n",
        "print(thisdict.keys())\n",
        "print(thisdict.values(),\"\\n\")\n",
        "\n",
        "# menambahkan key dan value baru ke variabel dictionary\n",
        "thisdict['owner'] = [\"and\",\"budi\"]\n",
        "print(thisdict)"
      ],
      "metadata": {
        "colab": {
          "base_uri": "https://localhost:8080/"
        },
        "id": "e_CfoHCRJfi6",
        "outputId": "6c15193a-4dda-4f03-bf82-47d9dcd59116"
      },
      "execution_count": null,
      "outputs": [
        {
          "output_type": "stream",
          "name": "stdout",
          "text": [
            "['Mustang', 'avanza'] \n",
            "\n",
            "dict_keys(['brand', 'model', 'year'])\n",
            "dict_values([['Ford', 'toyota'], ['Mustang', 'avanza'], [1964, 2010]]) \n",
            "\n",
            "{'brand': ['Ford', 'toyota'], 'model': ['Mustang', 'avanza'], 'year': [1964, 2010], 'owner': ['and', 'budi']}\n"
          ]
        }
      ]
    },
    {
      "cell_type": "code",
      "source": [
        "# method items() akan mengembalikan setiap item didictionary sebagai tuple didalam l\n",
        "car = {\n",
        "\"brand\": \"Ford\",\n",
        "\"model\": \"Mustang\",\n",
        "\"year\": 1964\n",
        "}\n",
        "\n",
        "x = car.items()\n",
        "\n",
        "print(x) #before the change\n",
        "\n",
        "car[\"year\"] = 2020\n",
        "\n",
        "print(x) #after the change"
      ],
      "metadata": {
        "colab": {
          "base_uri": "https://localhost:8080/"
        },
        "id": "LKJRymRHJ24X",
        "outputId": "05c8c5ad-ca43-4074-a158-edd3a64f5353"
      },
      "execution_count": null,
      "outputs": [
        {
          "output_type": "stream",
          "name": "stdout",
          "text": [
            "dict_items([('brand', 'Ford'), ('model', 'Mustang'), ('year', 1964)])\n",
            "dict_items([('brand', 'Ford'), ('model', 'Mustang'), ('year', 2020)])\n"
          ]
        }
      ]
    },
    {
      "cell_type": "code",
      "source": [
        "# merubah nilai dict , tidak harus sama banyaknya value seperti value sebelumnya\n",
        "thisdict = {\n",
        "  \"brand\": [\"Ford\",\"toyota\"],\n",
        "  \"model\": [\"Mustang\",\"avanza\"],\n",
        "  \"year\": [1964,2010]\n",
        "}\n",
        "\n",
        "thisdict['year'] = 2000\n",
        "print(thisdict)"
      ],
      "metadata": {
        "colab": {
          "base_uri": "https://localhost:8080/"
        },
        "id": "M508xPuRLJpc",
        "outputId": "834a4a7d-df98-47e3-91ca-dfb182839fc7"
      },
      "execution_count": null,
      "outputs": [
        {
          "output_type": "stream",
          "name": "stdout",
          "text": [
            "{'brand': ['Ford', 'toyota'], 'model': ['Mustang', 'avanza'], 'year': 2000}\n"
          ]
        }
      ]
    },
    {
      "cell_type": "code",
      "source": [
        "# deleting dictionary dan clear\n",
        "thisdict = {\n",
        "\"brand\": [\"Ford\",\"toyota\"],\n",
        "\"model\": [\"Mustang\",\"avanza\"],\n",
        "\"year\": [1964,2010]\n",
        "}\n",
        "\n",
        "thisdict.pop(\"brand\")\n",
        "print(thisdict)\n",
        "\n",
        "thisdict.clear()\n",
        "print(thisdict)"
      ],
      "metadata": {
        "colab": {
          "base_uri": "https://localhost:8080/"
        },
        "id": "4MyGWJVgLou4",
        "outputId": "500368f0-d3e3-4cd8-fa6b-79221560ea27"
      },
      "execution_count": null,
      "outputs": [
        {
          "output_type": "stream",
          "name": "stdout",
          "text": [
            "{'model': ['Mustang', 'avanza'], 'year': [1964, 2010]}\n",
            "{}\n"
          ]
        }
      ]
    },
    {
      "cell_type": "code",
      "source": [
        "# nested dictionary\n",
        "myfamily = {\n",
        "  \"child1\" : {\n",
        "    \"name\" : \"Emil\",\n",
        "    \"year\" : 2004\n",
        "  },\n",
        "  \"child2\" : {\n",
        "    \"name\" : \"Tobias\",\n",
        "    \"year\" : 2007\n",
        "  },\n",
        "  \"child3\" : {\n",
        "    \"name\" : \"Linus\",\n",
        "    \"year\" : 2011\n",
        "  }\n",
        "}\n",
        "print(myfamily)"
      ],
      "metadata": {
        "id": "ClXT6uTCL9RR",
        "colab": {
          "base_uri": "https://localhost:8080/"
        },
        "outputId": "bb9f81cf-e583-4506-8cad-affc9661bd80"
      },
      "execution_count": 12,
      "outputs": [
        {
          "output_type": "stream",
          "name": "stdout",
          "text": [
            "{'child1': {'name': 'Emil', 'year': 2004}, 'child2': {'name': 'Tobias', 'year': 2007}, 'child3': {'name': 'Linus', 'year': 2011}}\n"
          ]
        }
      ]
    }
  ]
}