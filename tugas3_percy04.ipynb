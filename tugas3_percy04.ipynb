{
 "cells": [
  {
   "cell_type": "markdown",
   "id": "b7491000",
   "metadata": {},
   "source": [
    "# Data Science"
   ]
  },
  {
   "cell_type": "markdown",
   "id": "8743ec26",
   "metadata": {},
   "source": [
    "## 1. Netflix"
   ]
  },
  {
   "cell_type": "markdown",
   "id": "5ed48161",
   "metadata": {},
   "source": [
    "Netflix adalah salah satu aplikasi yang menerapkan ilmu data science karena di aplikasi tersebut, sistem akan berusaha menampilkan dan merekomendasikan film yang kemungkinan kita sukai. Sistem akan menyimpan berbagai data kita seperti film apa saja yang kita tonton, keyword yang kita ketikkan di kolom pencarian dan lainnya. Nantinya data tersebut akan diolah sehingga menampilkan pola tertentu yang bisa digunakan untuk menentukan kira-kira film mana yang cocok untuk kita. "
   ]
  },
  {
   "cell_type": "markdown",
   "id": "f6e53190",
   "metadata": {},
   "source": [
    "## 2. Shopee"
   ]
  },
  {
   "cell_type": "markdown",
   "id": "857a6688",
   "metadata": {},
   "source": [
    "Sama halnya dengan netflix, shopee juga menggunakan data dari akun kita untuk merekomendasikan produk yang kemungkinan sedang kita butuhkan."
   ]
  },
  {
   "cell_type": "markdown",
   "id": "9853adc4",
   "metadata": {},
   "source": [
    "# Computer Vision"
   ]
  },
  {
   "cell_type": "markdown",
   "id": "b8c3d2f3",
   "metadata": {},
   "source": [
    "## 1. Aplikasi Edit Foto seperti Adobe PhotoShop"
   ]
  },
  {
   "cell_type": "markdown",
   "id": "e26937cd",
   "metadata": {},
   "source": [
    "Aplikasi PhotoShop merupakan salah satu aplikasi penerapan dari computer vision karena di aplikasi ini kita bisa meningkatkan kualitas citra menggunakan berbagai fitur seperti menghilangkan noise, meningkatkan kecerahan gambar sampai menajamkan gambar."
   ]
  },
  {
   "cell_type": "markdown",
   "id": "14b9d403",
   "metadata": {},
   "source": [
    "## 2. Kamera "
   ]
  },
  {
   "cell_type": "markdown",
   "id": "22141392",
   "metadata": {},
   "source": [
    "kamera juga salah satu dari penerapan coputer vision karena pada umumnya kamera dapat mendeteksi wajah."
   ]
  },
  {
   "cell_type": "markdown",
   "id": "f893db84",
   "metadata": {},
   "source": [
    "# Natural Language Processing"
   ]
  },
  {
   "cell_type": "markdown",
   "id": "731618a9",
   "metadata": {},
   "source": [
    "## 1. Google Assistant"
   ]
  },
  {
   "cell_type": "markdown",
   "id": "409eba98",
   "metadata": {},
   "source": [
    "Ketika kita ingin menggunakan aplikasi google, kita bisa mengucapkan \"OK Google\" kemudian aplikasi akan berjalan. \"OK Google\" ini dapat menghubungkan interaksi antara manusia dan mesin menggunakan bahasa natural."
   ]
  },
  {
   "cell_type": "markdown",
   "id": "ad0e9a32",
   "metadata": {},
   "source": [
    "## 2. Microsoft Word"
   ]
  },
  {
   "cell_type": "markdown",
   "id": "90ff7d09",
   "metadata": {},
   "source": [
    "Ketika kita mengetikkan sesuatu di microsoft word, sistem akan secara otomatis memeriksa kata yang kita tuliskan apakah sudah sesuai atau belum dengan tata bahasa."
   ]
  },
  {
   "cell_type": "code",
   "execution_count": null,
   "id": "c93c1e3d",
   "metadata": {},
   "outputs": [],
   "source": []
  }
 ],
 "metadata": {
  "kernelspec": {
   "display_name": "Python 3",
   "language": "python",
   "name": "python3"
  },
  "language_info": {
   "codemirror_mode": {
    "name": "ipython",
    "version": 3
   },
   "file_extension": ".py",
   "mimetype": "text/x-python",
   "name": "python",
   "nbconvert_exporter": "python",
   "pygments_lexer": "ipython3",
   "version": "3.8.8"
  }
 },
 "nbformat": 4,
 "nbformat_minor": 5
}
