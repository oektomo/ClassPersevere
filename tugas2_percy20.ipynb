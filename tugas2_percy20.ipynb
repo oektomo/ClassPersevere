{
 "cells": [
  {
   "cell_type": "markdown",
   "id": "cbcf08c7",
   "metadata": {},
   "source": [
    "# Python Operators"
   ]
  },
  {
   "cell_type": "markdown",
   "id": "bb578dab",
   "metadata": {},
   "source": [
    "## Python Arithmetic Operators"
   ]
  },
  {
   "cell_type": "markdown",
   "id": "1de69533",
   "metadata": {},
   "source": [
    "### Addition"
   ]
  },
  {
   "cell_type": "code",
   "execution_count": 1,
   "id": "de205e8c",
   "metadata": {},
   "outputs": [
    {
     "name": "stdout",
     "output_type": "stream",
     "text": [
      "8\n"
     ]
    }
   ],
   "source": [
    "x= 3\n",
    "y= 5\n",
    "\n",
    "print(x+y)"
   ]
  },
  {
   "cell_type": "markdown",
   "id": "5de9d008",
   "metadata": {},
   "source": [
    "### Substraction"
   ]
  },
  {
   "cell_type": "code",
   "execution_count": 2,
   "id": "bc03456f",
   "metadata": {},
   "outputs": [
    {
     "name": "stdout",
     "output_type": "stream",
     "text": [
      "-2\n"
     ]
    }
   ],
   "source": [
    "x= 3\n",
    "y= 5\n",
    "\n",
    "print(x-y)"
   ]
  },
  {
   "cell_type": "markdown",
   "id": "60785546",
   "metadata": {},
   "source": [
    "### Multiplication"
   ]
  },
  {
   "cell_type": "code",
   "execution_count": 4,
   "id": "d3b4aa1b",
   "metadata": {},
   "outputs": [
    {
     "name": "stdout",
     "output_type": "stream",
     "text": [
      "15\n"
     ]
    }
   ],
   "source": [
    "x= 3\n",
    "y= 5\n",
    "\n",
    "print(x*y)"
   ]
  },
  {
   "cell_type": "markdown",
   "id": "32be3210",
   "metadata": {},
   "source": [
    "### Division"
   ]
  },
  {
   "cell_type": "code",
   "execution_count": 5,
   "id": "239cec70",
   "metadata": {},
   "outputs": [
    {
     "name": "stdout",
     "output_type": "stream",
     "text": [
      "0.6\n"
     ]
    }
   ],
   "source": [
    "x= 3\n",
    "y= 5\n",
    "\n",
    "print(x/y)"
   ]
  },
  {
   "cell_type": "markdown",
   "id": "e9cf8f12",
   "metadata": {},
   "source": [
    "### Modulus"
   ]
  },
  {
   "cell_type": "code",
   "execution_count": 9,
   "id": "5119dcdb",
   "metadata": {},
   "outputs": [
    {
     "name": "stdout",
     "output_type": "stream",
     "text": [
      "0\n"
     ]
    }
   ],
   "source": [
    "x= 5\n",
    "y= 5\n",
    "\n",
    "print(x%y)"
   ]
  },
  {
   "cell_type": "markdown",
   "id": "f58892e2",
   "metadata": {},
   "source": [
    "### Exponentiation"
   ]
  },
  {
   "cell_type": "code",
   "execution_count": 12,
   "id": "851ffd5d",
   "metadata": {},
   "outputs": [
    {
     "name": "stdout",
     "output_type": "stream",
     "text": [
      "25\n"
     ]
    }
   ],
   "source": [
    "x= 5\n",
    "y= 2\n",
    "\n",
    "print(x**y) #(== 5^2)"
   ]
  },
  {
   "cell_type": "markdown",
   "id": "93deead1",
   "metadata": {},
   "source": [
    "### Floor Division"
   ]
  },
  {
   "cell_type": "code",
   "execution_count": 14,
   "id": "db4aba33",
   "metadata": {},
   "outputs": [
    {
     "name": "stdout",
     "output_type": "stream",
     "text": [
      "0\n"
     ]
    }
   ],
   "source": [
    "x= 3\n",
    "y= 5\n",
    "\n",
    "print(x//y) #Pembulatan ke angka bulat terdekat"
   ]
  },
  {
   "cell_type": "markdown",
   "id": "08a62bce",
   "metadata": {},
   "source": [
    "## Python Assignment Operators"
   ]
  },
  {
   "cell_type": "markdown",
   "id": "d7fde9dc",
   "metadata": {},
   "source": [
    "### (=)"
   ]
  },
  {
   "cell_type": "code",
   "execution_count": 15,
   "id": "f7ddc27e",
   "metadata": {},
   "outputs": [
    {
     "name": "stdout",
     "output_type": "stream",
     "text": [
      "5\n",
      "6\n"
     ]
    }
   ],
   "source": [
    "x= 5\n",
    "print(x)\n",
    "x= 6\n",
    "print(x)\n",
    "#Beware of overwritting"
   ]
  },
  {
   "cell_type": "markdown",
   "id": "ca6ee83f",
   "metadata": {},
   "source": [
    "### Plus Equals (+=)"
   ]
  },
  {
   "cell_type": "code",
   "execution_count": 16,
   "id": "78b3d2a0",
   "metadata": {},
   "outputs": [
    {
     "name": "stdout",
     "output_type": "stream",
     "text": [
      "8\n"
     ]
    }
   ],
   "source": [
    "x=5\n",
    "x+=3\n",
    "print(x) #Equal to x= x+3"
   ]
  },
  {
   "cell_type": "markdown",
   "id": "afa36415",
   "metadata": {},
   "source": [
    "### Minus Equals (-=)"
   ]
  },
  {
   "cell_type": "code",
   "execution_count": 18,
   "id": "4f6be640",
   "metadata": {},
   "outputs": [
    {
     "name": "stdout",
     "output_type": "stream",
     "text": [
      "2\n"
     ]
    }
   ],
   "source": [
    "x=5\n",
    "x-=3\n",
    "print(x) #Equal to x= x-3"
   ]
  },
  {
   "cell_type": "markdown",
   "id": "9c295e95",
   "metadata": {},
   "source": [
    "### *="
   ]
  },
  {
   "cell_type": "code",
   "execution_count": 19,
   "id": "f2bb9597",
   "metadata": {},
   "outputs": [
    {
     "name": "stdout",
     "output_type": "stream",
     "text": [
      "10\n"
     ]
    }
   ],
   "source": [
    "x= 5\n",
    "x*= 2\n",
    "print(x) #Equal to x= x*2"
   ]
  },
  {
   "cell_type": "markdown",
   "id": "396826d8",
   "metadata": {},
   "source": [
    "### /="
   ]
  },
  {
   "cell_type": "code",
   "execution_count": 20,
   "id": "cc51c5c1",
   "metadata": {},
   "outputs": [
    {
     "name": "stdout",
     "output_type": "stream",
     "text": [
      "3.0\n"
     ]
    }
   ],
   "source": [
    "x= 6\n",
    "x/= 2\n",
    "print(x) #Equal to x= x/2"
   ]
  },
  {
   "cell_type": "markdown",
   "id": "d0f903d7",
   "metadata": {},
   "source": [
    "### %="
   ]
  },
  {
   "cell_type": "code",
   "execution_count": 21,
   "id": "0c962339",
   "metadata": {},
   "outputs": [
    {
     "name": "stdout",
     "output_type": "stream",
     "text": [
      "0\n"
     ]
    }
   ],
   "source": [
    "x= 6\n",
    "x%= 6\n",
    "print(x) #Equal to x= x%2"
   ]
  },
  {
   "cell_type": "markdown",
   "id": "449dd672",
   "metadata": {},
   "source": [
    "### //="
   ]
  },
  {
   "cell_type": "code",
   "execution_count": 23,
   "id": "9eba7ab2",
   "metadata": {},
   "outputs": [
    {
     "name": "stdout",
     "output_type": "stream",
     "text": [
      "2\n"
     ]
    }
   ],
   "source": [
    "x= 5\n",
    "x//= 2\n",
    "print(x) #Equal to x= x//2"
   ]
  },
  {
   "cell_type": "markdown",
   "id": "189e6f75",
   "metadata": {},
   "source": [
    "### **="
   ]
  },
  {
   "cell_type": "code",
   "execution_count": 24,
   "id": "ede33830",
   "metadata": {},
   "outputs": [
    {
     "name": "stdout",
     "output_type": "stream",
     "text": [
      "25\n"
     ]
    }
   ],
   "source": [
    "x= 5\n",
    "x**= 2\n",
    "print(x) #Equal to x= x^2"
   ]
  },
  {
   "cell_type": "markdown",
   "id": "44db6ae1",
   "metadata": {},
   "source": [
    "### &="
   ]
  },
  {
   "cell_type": "code",
   "execution_count": 26,
   "id": "b61013ce",
   "metadata": {},
   "outputs": [
    {
     "name": "stdout",
     "output_type": "stream",
     "text": [
      "4\n"
     ]
    }
   ],
   "source": [
    "#Conducts 'AND' operation on an binary form of the numbers\n",
    "x= 7\n",
    "x&=4\n",
    "print(x)\n",
    "'''\n",
    "0111\n",
    "0100\n",
    "------ &\n",
    "0100 = 4\n",
    "'''"
   ]
  },
  {
   "cell_type": "markdown",
   "id": "fcce28dd",
   "metadata": {},
   "source": [
    "### |="
   ]
  },
  {
   "cell_type": "code",
   "execution_count": 28,
   "id": "0df42a85",
   "metadata": {},
   "outputs": [
    {
     "name": "stdout",
     "output_type": "stream",
     "text": [
      "3\n"
     ]
    },
    {
     "data": {
      "text/plain": [
       "'\\n0011\\n0010\\n----- (OR)\\n0011 = 3\\n'"
      ]
     },
     "execution_count": 28,
     "metadata": {},
     "output_type": "execute_result"
    }
   ],
   "source": [
    "#Conducts 'OR' operation on an binary form of the numbers\n",
    "x=3\n",
    "x|=2\n",
    "print(x)\n",
    "'''\n",
    "0011\n",
    "0010\n",
    "----- (OR)\n",
    "0011 = 3\n",
    "'''"
   ]
  },
  {
   "cell_type": "markdown",
   "id": "7ed148fc",
   "metadata": {},
   "source": [
    "### ^="
   ]
  },
  {
   "cell_type": "code",
   "execution_count": 29,
   "id": "8a519769",
   "metadata": {},
   "outputs": [
    {
     "name": "stdout",
     "output_type": "stream",
     "text": [
      "5\n"
     ]
    }
   ],
   "source": [
    "#Conducts 'XOR' or 'Exclusive Or' operation on an binary form of the numbers\n",
    "x= 7\n",
    "x^=2\n",
    "print(x)\n",
    "'''\n",
    "0111\n",
    "0010\n",
    "----- (OR)\n",
    "0101 = 5\n",
    "'''"
   ]
  },
  {
   "cell_type": "markdown",
   "id": "61fd6302",
   "metadata": {},
   "source": [
    "### >>="
   ]
  },
  {
   "cell_type": "code",
   "execution_count": 30,
   "id": "18dc5dc7",
   "metadata": {},
   "outputs": [
    {
     "name": "stdout",
     "output_type": "stream",
     "text": [
      "1\n"
     ]
    }
   ],
   "source": [
    "x= 7\n",
    "x>>=2\n",
    "print(x)\n",
    "'''\n",
    "Shift x's bits to the right by 2\n",
    "0111 ->0001 == 1\n",
    "'''"
   ]
  },
  {
   "cell_type": "markdown",
   "id": "250bdbd5",
   "metadata": {},
   "source": [
    "### <<="
   ]
  },
  {
   "cell_type": "code",
   "execution_count": 32,
   "id": "245887b1",
   "metadata": {},
   "outputs": [
    {
     "name": "stdout",
     "output_type": "stream",
     "text": [
      "4\n"
     ]
    },
    {
     "data": {
      "text/plain": [
       "\"\\nShift x's bits to the left by 2\\n0111 -> 1100\\n\""
      ]
     },
     "execution_count": 32,
     "metadata": {},
     "output_type": "execute_result"
    }
   ],
   "source": [
    "x= 1\n",
    "x<<=2\n",
    "print(x)\n",
    "'''\n",
    "Shift x's bits to the left by 2\n",
    "0001 -> 0100 == 4\n",
    "'''"
   ]
  },
  {
   "cell_type": "markdown",
   "id": "21ae2913",
   "metadata": {},
   "source": [
    "## Python Comparison Operators"
   ]
  },
  {
   "cell_type": "markdown",
   "id": "05ad0174",
   "metadata": {},
   "source": [
    "### Equal"
   ]
  },
  {
   "cell_type": "code",
   "execution_count": 33,
   "id": "3dde4f5e",
   "metadata": {},
   "outputs": [
    {
     "name": "stdout",
     "output_type": "stream",
     "text": [
      "False True\n"
     ]
    }
   ],
   "source": [
    "x= 1\n",
    "y= 2\n",
    "z= 2\n",
    "print(x==y, y==z)\n",
    "#x==y is false because x is not equal to y"
   ]
  },
  {
   "cell_type": "markdown",
   "id": "1db31375",
   "metadata": {},
   "source": [
    "### != Inequality"
   ]
  },
  {
   "cell_type": "code",
   "execution_count": 34,
   "id": "25051154",
   "metadata": {},
   "outputs": [
    {
     "name": "stdout",
     "output_type": "stream",
     "text": [
      "True False\n"
     ]
    }
   ],
   "source": [
    "x= 1\n",
    "y= 2\n",
    "z= 2\n",
    "print(x!=y, y!=z)\n",
    "#x!=y is true because x is not equal to y"
   ]
  },
  {
   "cell_type": "markdown",
   "id": "3d2e1a5c",
   "metadata": {},
   "source": [
    "### > (Larger than)"
   ]
  },
  {
   "cell_type": "code",
   "execution_count": 36,
   "id": "f50f21bf",
   "metadata": {},
   "outputs": [
    {
     "name": "stdout",
     "output_type": "stream",
     "text": [
      "False False True\n"
     ]
    }
   ],
   "source": [
    "x= 1\n",
    "y= 2\n",
    "z= 2\n",
    "print(x>y, y>z, y>x)\n",
    "#x>y is false because x is not larger to y. y>x is true because y is larger than \n",
    "#x"
   ]
  },
  {
   "cell_type": "markdown",
   "id": "04f06980",
   "metadata": {},
   "source": [
    "### < (Less than)"
   ]
  },
  {
   "cell_type": "code",
   "execution_count": 38,
   "id": "3c07a0be",
   "metadata": {},
   "outputs": [
    {
     "name": "stdout",
     "output_type": "stream",
     "text": [
      "True False\n"
     ]
    }
   ],
   "source": [
    "x= 1\n",
    "y= 2\n",
    "z= 2\n",
    "print(x<y, y<z)\n",
    "#x<y is true because x is less than y"
   ]
  },
  {
   "cell_type": "markdown",
   "id": "8953c30a",
   "metadata": {},
   "source": [
    "### >= (Larger than / equal to)"
   ]
  },
  {
   "cell_type": "code",
   "execution_count": 39,
   "id": "b4ea9233",
   "metadata": {},
   "outputs": [
    {
     "name": "stdout",
     "output_type": "stream",
     "text": [
      "False True\n"
     ]
    }
   ],
   "source": [
    "x= 1\n",
    "y= 2\n",
    "z= 2\n",
    "print(x>=y, y>=z)\n",
    "#y>=z is true because y is equal to z but not less than z"
   ]
  },
  {
   "cell_type": "markdown",
   "id": "ad964178",
   "metadata": {},
   "source": [
    "### <= (Smaller than / equal to)"
   ]
  },
  {
   "cell_type": "code",
   "execution_count": 40,
   "id": "e95ed652",
   "metadata": {},
   "outputs": [
    {
     "name": "stdout",
     "output_type": "stream",
     "text": [
      "True True\n"
     ]
    }
   ],
   "source": [
    "x= 1\n",
    "y= 2\n",
    "z= 2\n",
    "print(x<=y, y<=z)\n",
    "#x<=y is true because x is less than y. z<=y because z is equal to y but \n",
    "#not more than y"
   ]
  },
  {
   "cell_type": "markdown",
   "id": "6cefe763",
   "metadata": {},
   "source": [
    "## Python Logical Operators"
   ]
  },
  {
   "cell_type": "markdown",
   "id": "21b8500e",
   "metadata": {},
   "source": [
    "### and"
   ]
  },
  {
   "cell_type": "code",
   "execution_count": 44,
   "id": "35e140a3",
   "metadata": {},
   "outputs": [
    {
     "name": "stdout",
     "output_type": "stream",
     "text": [
      "True\n",
      "False\n"
     ]
    }
   ],
   "source": [
    "#Returns true if both statements are true\n",
    "x= 3\n",
    "print(x>2 and x<5)\n",
    "\n",
    "print(x<2 and x<5)"
   ]
  },
  {
   "cell_type": "markdown",
   "id": "45f0e501",
   "metadata": {},
   "source": [
    "### or"
   ]
  },
  {
   "cell_type": "code",
   "execution_count": 46,
   "id": "c7acb72e",
   "metadata": {},
   "outputs": [
    {
     "name": "stdout",
     "output_type": "stream",
     "text": [
      "True\n"
     ]
    }
   ],
   "source": [
    "#Returns true if either statement is true\n",
    "x= 4\n",
    "print(x>5 or x<6)"
   ]
  },
  {
   "cell_type": "markdown",
   "id": "416b8d94",
   "metadata": {},
   "source": [
    "### not"
   ]
  },
  {
   "cell_type": "code",
   "execution_count": 47,
   "id": "14fc853c",
   "metadata": {},
   "outputs": [
    {
     "name": "stdout",
     "output_type": "stream",
     "text": [
      "False\n"
     ]
    }
   ],
   "source": [
    "#Reverses the results of statements\n",
    "x=7\n",
    "print(not(x>3 or x<10))"
   ]
  },
  {
   "cell_type": "markdown",
   "id": "5c157e7c",
   "metadata": {},
   "source": [
    "## Python Identity Operators"
   ]
  },
  {
   "cell_type": "markdown",
   "id": "1385c306",
   "metadata": {},
   "source": [
    "### Is"
   ]
  },
  {
   "cell_type": "code",
   "execution_count": 51,
   "id": "b508442a",
   "metadata": {},
   "outputs": [
    {
     "name": "stdout",
     "output_type": "stream",
     "text": [
      "False\n"
     ]
    }
   ],
   "source": [
    "x=[\"a\",\"b\",\"c\"]\n",
    "y=[\"a\",\"b\",\"c\"]\n",
    "z=x\n",
    "print(x is y) #False due to not the same object despite same contents\n",
    "print(x is z) #true due to the same objects"
   ]
  },
  {
   "cell_type": "markdown",
   "id": "1ce253b5",
   "metadata": {},
   "source": [
    "### Is not"
   ]
  },
  {
   "cell_type": "code",
   "execution_count": 52,
   "id": "fa797b15",
   "metadata": {},
   "outputs": [
    {
     "name": "stdout",
     "output_type": "stream",
     "text": [
      "True\n",
      "False\n"
     ]
    }
   ],
   "source": [
    "x=[\"a\",\"b\",\"c\"]\n",
    "y=[\"a\",\"b\",\"c\"]\n",
    "z=x\n",
    "print(x is not y) #True due to not the same object despite same contents\n",
    "print(x is not z) #False due to the same objects"
   ]
  },
  {
   "cell_type": "markdown",
   "id": "9f2cf1be",
   "metadata": {},
   "source": [
    "## Python Membership Operators"
   ]
  },
  {
   "cell_type": "markdown",
   "id": "5c6eea05",
   "metadata": {},
   "source": [
    "### In"
   ]
  },
  {
   "cell_type": "code",
   "execution_count": 55,
   "id": "75d0a98b",
   "metadata": {},
   "outputs": [
    {
     "name": "stdout",
     "output_type": "stream",
     "text": [
      "True\n",
      "False\n"
     ]
    }
   ],
   "source": [
    "x= [\"a\", \"b\"]\n",
    "print ('a' in x)\n",
    "#True due to a value 'a' in the list 'x'\n",
    "\n",
    "print ('c' in x) #False due to value 'c' not in the list 'x'"
   ]
  },
  {
   "cell_type": "code",
   "execution_count": 57,
   "id": "0522ca6a",
   "metadata": {},
   "outputs": [
    {
     "name": "stdout",
     "output_type": "stream",
     "text": [
      "False\n",
      "True\n"
     ]
    }
   ],
   "source": [
    "x= [\"a\", \"b\"]\n",
    "print ('a' not in x)\n",
    "#False due to a value 'a' in the list\n",
    "\n",
    "print ('c' not in x)\n",
    "#True due to value 'c' not in the list 'x'"
   ]
  },
  {
   "cell_type": "code",
   "execution_count": null,
   "id": "1491b4b7",
   "metadata": {},
   "outputs": [],
   "source": []
  }
 ],
 "metadata": {
  "kernelspec": {
   "display_name": "Python 3 (ipykernel)",
   "language": "python",
   "name": "python3"
  },
  "language_info": {
   "codemirror_mode": {
    "name": "ipython",
    "version": 3
   },
   "file_extension": ".py",
   "mimetype": "text/x-python",
   "name": "python",
   "nbconvert_exporter": "python",
   "pygments_lexer": "ipython3",
   "version": "3.10.2"
  }
 },
 "nbformat": 4,
 "nbformat_minor": 5
}
