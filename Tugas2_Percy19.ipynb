{
  "nbformat": 4,
  "nbformat_minor": 0,
  "metadata": {
    "colab": {
      "name": "Untitled2.ipynb",
      "provenance": [],
      "authorship_tag": "ABX9TyPKrbvxov3DwLmdRpiFnCJg",
      "include_colab_link": true
    },
    "kernelspec": {
      "name": "python3",
      "display_name": "Python 3"
    },
    "language_info": {
      "name": "python"
    }
  },
  "cells": [
    {
      "cell_type": "markdown",
      "metadata": {
        "id": "view-in-github",
        "colab_type": "text"
      },
      "source": [
        "<a href=\"https://colab.research.google.com/github/ahlandapu/ClassPersevere/blob/percy19/Tugas2_Percy19.ipynb\" target=\"_parent\"><img src=\"https://colab.research.google.com/assets/colab-badge.svg\" alt=\"Open In Colab\"/></a>"
      ]
    },
    {
      "cell_type": "markdown",
      "source": [
        "**Ahlanda Putra**\n",
        "\n",
        "---\n",
        "\n",
        "\n",
        "*Python Arithmetic Operators* *teks yang dimiringkan*"
      ],
      "metadata": {
        "id": "VNqGcdC2L31P"
      }
    },
    {
      "cell_type": "code",
      "execution_count": 1,
      "metadata": {
        "colab": {
          "base_uri": "https://localhost:8080/"
        },
        "id": "yGffIlw2LvT8",
        "outputId": "33a2c9bb-5bf3-4fae-bc58-4d20f60fc495"
      },
      "outputs": [
        {
          "output_type": "stream",
          "name": "stdout",
          "text": [
            "hasil dari penjumlahan a dan b adalah 13 \n",
            "hasil dari penjumlahan a dan b adalah 7 \n",
            "hasil dari penjumlahan a dan b adalah 30 \n",
            "hasil dari penjumlahan a dan b adalah 3.3333333333333335 \n",
            "hasil dari penjumlahan a dan b adalah 1 \n",
            "hasil dari penjumlahan a dan b adalah 1000 \n",
            "hasil dari penjumlahan a dan b adalah 3\n"
          ]
        }
      ],
      "source": [
        "# variabel\n",
        "a = 10\n",
        "b = 3\n",
        "# Penjumalah:\n",
        "penjumlahan = a + b\n",
        "# Pengurangan:\n",
        "pengurangan = a - b\n",
        "# Perkalian:\n",
        "perkalian = a*b\n",
        "# Pembagian (hasil float):\n",
        "pembagian = a/b\n",
        "# Modulus:\n",
        "modulus = a%b\n",
        "# Pangkat:\n",
        "pangkat = a**b\n",
        "# pembagian pembualatan kebawah (floor):\n",
        "floor = a//b\n",
        "\n",
        "print(f\"hasil dari penjumlahan a dan b adalah {penjumlahan} \")\n",
        "print(f\"hasil dari penjumlahan a dan b adalah {pengurangan} \")\n",
        "print(f\"hasil dari penjumlahan a dan b adalah {perkalian} \")\n",
        "print(f\"hasil dari penjumlahan a dan b adalah {pembagian} \")\n",
        "print(f\"hasil dari penjumlahan a dan b adalah {modulus} \")\n",
        "print(f\"hasil dari penjumlahan a dan b adalah {pangkat} \")\n",
        "print(f\"hasil dari penjumlahan a dan b adalah {floor}\")"
      ]
    },
    {
      "cell_type": "markdown",
      "source": [
        "*Python Assignment Operators*"
      ],
      "metadata": {
        "id": "HwjVexFDMK8a"
      }
    },
    {
      "cell_type": "code",
      "source": [
        "a = 1000\n",
        "# penjumlahan\n",
        "if a != 100:\n",
        "  a+=40.5\n",
        "  print(f\" this is the result {a} \\n\")\n",
        "# pengurangan\n",
        "if a != 100:\n",
        "  a-=40.5\n",
        "  print(f\" this is the result {a} \\n\")\n",
        "# perkalian\n",
        "if a != 100:\n",
        "  a*=4\n",
        "  print(f\" this is the result {a} \\n\")\n",
        "# pembagian\n",
        "if a != 100:\n",
        "  a/=5\n",
        "  print(f\" this is the result {a} \\n\")\n",
        "# modulus\n",
        "if a != 100:\n",
        "  a%=300\n",
        "  print(f\" this is the result {a} \\n\")\n",
        "# floor\n",
        "if a != 100:\n",
        "  a//=8\n",
        "  print(f\" this is the result {a} \\n\")\n",
        "# pangkat\n",
        "if a != 100:\n",
        "  a**=2\n",
        "  print(f\" this is the result {a} \\n\")\n",
        "\n",
        "# binary assign :\n",
        "x = 5\n",
        "x &= 3\n",
        "print(f\"x = {x} \\n\")\n",
        "x = 5\n",
        "x |= 3\n",
        "print(f\"x = {x} \\n\")\n",
        "x = 5\n",
        "x ^= 3\n",
        "print(f\"x = {x} \\n\")\n",
        "x = 5\n",
        "x >>= 3\n",
        "print(f\"x = {x} \\n\")\n",
        "x = 5\n",
        "x <<= 3\n",
        "print(f\"x = {x} \\n\")"
      ],
      "metadata": {
        "colab": {
          "base_uri": "https://localhost:8080/"
        },
        "id": "piSm6tgfMCGn",
        "outputId": "ad142d12-b26d-417a-ea38-7c36a021cc85"
      },
      "execution_count": 2,
      "outputs": [
        {
          "output_type": "stream",
          "name": "stdout",
          "text": [
            " this is the result 1040.5 \n",
            "\n",
            " this is the result 1000.0 \n",
            "\n",
            " this is the result 4000.0 \n",
            "\n",
            " this is the result 800.0 \n",
            "\n",
            " this is the result 200.0 \n",
            "\n",
            " this is the result 25.0 \n",
            "\n",
            " this is the result 625.0 \n",
            "\n",
            "x = 1 \n",
            "\n",
            "x = 7 \n",
            "\n",
            "x = 6 \n",
            "\n",
            "x = 0 \n",
            "\n",
            "x = 40 \n",
            "\n"
          ]
        }
      ]
    },
    {
      "cell_type": "markdown",
      "source": [
        "*Python Comparison Operators* hasil dari bool, True Dan False"
      ],
      "metadata": {
        "id": "ZzEk_SvfMVgO"
      }
    },
    {
      "cell_type": "code",
      "source": [
        "if 5 == 7:\n",
        "  print(f\"5 sama dengan 7\\n\")\n",
        "else:\n",
        "  print(\"5 tidak sama dengan 7\\n\")\n",
        "# tidak sama dengan !=\n",
        "if 10 != 10:\n",
        "  print(f\"10 tidak sama dengan 10\\n\")\n",
        "else:\n",
        "  print(\"10 sama dengan 10\\n\")\n",
        "# lebih dari >\n",
        "if 10 > 5:\n",
        "  print(f\"10 lebih dari 5\\n\")\n",
        "else:\n",
        "  print(\"10 kurang dari 5\\n\")\n",
        "# kurang dari <\n",
        "if 3 < 5:\n",
        "  print(f\"3 kurang dari 5\\n\")\n",
        "else:\n",
        "  print(\"3 lebih dari 5\\n\")\n",
        "# lebih dari sama dengan >=\n",
        "if 2 >= 2:\n",
        "  print(f\"2 lebih dari sama dengan 2\\n\")\n",
        "else:\n",
        "  print(\"noob\\n\")\n",
        "# lebih dari >\n",
        "if 5 <= 5:\n",
        "  print(f\"5 kurang dari sama dengan 5\\n\")\n",
        "else:\n",
        "  print(\"hmmm\\n\")"
      ],
      "metadata": {
        "colab": {
          "base_uri": "https://localhost:8080/"
        },
        "id": "oB0ufFz6MVDE",
        "outputId": "90506794-6a6b-411d-cdc2-468ceb94b8eb"
      },
      "execution_count": 3,
      "outputs": [
        {
          "output_type": "stream",
          "name": "stdout",
          "text": [
            "5 tidak sama dengan 7\n",
            "\n",
            "10 sama dengan 10\n",
            "\n",
            "10 lebih dari 5\n",
            "\n",
            "3 kurang dari 5\n",
            "\n",
            "2 lebih dari sama dengan 2\n",
            "\n",
            "5 kurang dari sama dengan 5\n",
            "\n"
          ]
        }
      ]
    },
    {
      "cell_type": "code",
      "source": [
        "x = 5\n",
        "y = 10\n",
        "z = 15\n",
        "\n",
        "# and logic\n",
        "print(x < 25 and x >= 5)\n",
        "# or logic\n",
        "print(y == 10 or y > 100)\n",
        "# not/complemen logic\n",
        "print(not(z > 10 and z < 20))"
      ],
      "metadata": {
        "colab": {
          "base_uri": "https://localhost:8080/"
        },
        "id": "LcUegD9UMfGl",
        "outputId": "3193b146-ebec-4cee-b586-ccf2c4e8ba52"
      },
      "execution_count": 4,
      "outputs": [
        {
          "output_type": "stream",
          "name": "stdout",
          "text": [
            "True\n",
            "True\n",
            "False\n"
          ]
        }
      ]
    },
    {
      "cell_type": "code",
      "source": [
        "a = ['andi','kyuzao','reiner']\n",
        "b = ['blackparade','slipknot','BMTH']\n",
        "c = ['andi','kyuzao','reiner']\n",
        "d = a\n",
        "\n",
        "# is logic  \n",
        "print(a is b)\n",
        "print(a is c) # false, despite a dan c value sama , tapi a & c beda beda alokasi memori\n",
        "print(a is d,\"\\n\") # true karna a dan d berbagi memori dan value yg sama\n",
        "# is not logic\n",
        "print(a is not c)\n",
        "print(a is not d)"
      ],
      "metadata": {
        "colab": {
          "base_uri": "https://localhost:8080/"
        },
        "id": "mgMYM7huMjUx",
        "outputId": "14901dbb-1e0f-44c2-e004-3fb709e033a7"
      },
      "execution_count": 5,
      "outputs": [
        {
          "output_type": "stream",
          "name": "stdout",
          "text": [
            "False\n",
            "False\n",
            "True \n",
            "\n",
            "True\n",
            "False\n"
          ]
        }
      ]
    },
    {
      "cell_type": "markdown",
      "source": [
        "*Python Membership Operators*"
      ],
      "metadata": {
        "id": "dkozhFCCMnGQ"
      }
    },
    {
      "cell_type": "code",
      "source": [
        "band = ['slipknot','bmth','sim','avenged','eve']\n",
        "a = 'eve'\n",
        "b = 'slipknot'\n",
        "band_favorit = []\n",
        "\n",
        "# in\n",
        "print(f\"mencari {a} didalam {band} \")\n",
        "for x in band:\n",
        "  if a in x:\n",
        "    print(f\"--> ditemukan {x} \\n\")\n",
        "\n",
        "# not in\n",
        "print(f\"menghilangkan elemen {b} didalam {band} \")\n",
        "for x in band:\n",
        "  if b not in x:\n",
        "    band_favorit.append(x)\n",
        "    \n",
        "print(f\"band favorit adalah {band_favorit} \")"
      ],
      "metadata": {
        "colab": {
          "base_uri": "https://localhost:8080/"
        },
        "id": "9ZDe7N_RMpdl",
        "outputId": "7ba3f29d-294a-4c93-8461-47369424ed4a"
      },
      "execution_count": 6,
      "outputs": [
        {
          "output_type": "stream",
          "name": "stdout",
          "text": [
            "mencari eve didalam ['slipknot', 'bmth', 'sim', 'avenged', 'eve'] \n",
            "--> ditemukan eve \n",
            "\n",
            "menghilangkan elemen slipknot didalam ['slipknot', 'bmth', 'sim', 'avenged', 'eve'] \n",
            "band favorit adalah ['bmth', 'sim', 'avenged', 'eve'] \n"
          ]
        }
      ]
    },
    {
      "cell_type": "code",
      "source": [
        "# Loop (While)\n",
        "x = 1\n",
        "while True:\n",
        "  if x == 5:\n",
        "    x+=1\n",
        "    continue\n",
        "  print(f\"nilai x adalah {x} \")\n",
        "  x+=1\n",
        "  if x == 7:\n",
        "    print(f\"nilai x adalah {x}\")\n",
        "    break\n",
        "\n",
        "# alur kerja yaitu x = 1, terjadi loop while (true)\n",
        "# pada loop terjadi perintah print nilai x dan increment x sebesar 1\n",
        "# ketika masuk kondisi x ==  5, maka tambah nilai x dan masuk lagi ke kondisi while (continue)\n",
        "# saat x == 7, print nilai x dan perulangan selesai (break)"
      ],
      "metadata": {
        "colab": {
          "base_uri": "https://localhost:8080/"
        },
        "id": "WqMIo1soMwpA",
        "outputId": "f451c9d5-798a-4ee4-a9b9-5074ec98466f"
      },
      "execution_count": 7,
      "outputs": [
        {
          "output_type": "stream",
          "name": "stdout",
          "text": [
            "nilai x adalah 1 \n",
            "nilai x adalah 2 \n",
            "nilai x adalah 3 \n",
            "nilai x adalah 4 \n",
            "nilai x adalah 6 \n",
            "nilai x adalah 7\n"
          ]
        }
      ]
    },
    {
      "cell_type": "code",
      "source": [
        "for x in range(1,11):\n",
        "  if x%2 == 0:\n",
        "    print(f\"{x} --> genap \")\n",
        "  elif x%2 != 0:\n",
        "    print(f\"{x} --> ganjil \")\n",
        "\n",
        "# alur kerja yaitu, x adalah looping 1 sampai 10\n",
        "# jika x dimodulus 2 == 0, maka print x adalah genap\n",
        "# dan jika x dimodulus 2 tidak sama dengan 0, maka print x adalah ganjil"
      ],
      "metadata": {
        "colab": {
          "base_uri": "https://localhost:8080/"
        },
        "id": "GsSZhh9uM0Tv",
        "outputId": "b8fac931-c428-4d45-fd5a-3f181a4d2e0d"
      },
      "execution_count": 8,
      "outputs": [
        {
          "output_type": "stream",
          "name": "stdout",
          "text": [
            "1 --> ganjil \n",
            "2 --> genap \n",
            "3 --> ganjil \n",
            "4 --> genap \n",
            "5 --> ganjil \n",
            "6 --> genap \n",
            "7 --> ganjil \n",
            "8 --> genap \n",
            "9 --> ganjil \n",
            "10 --> genap \n"
          ]
        }
      ]
    }
  ]
}