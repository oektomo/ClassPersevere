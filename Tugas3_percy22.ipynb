{
 "cells": [
  {
   "cell_type": "markdown",
   "metadata": {},
   "source": [
    "## Contoh Konkret 3 Bidang Keilmuan dalam AI"
   ]
  },
  {
   "cell_type": "markdown",
   "metadata": {},
   "source": [
    "# 1.  Data Science"
   ]
  },
  {
   "cell_type": "markdown",
   "metadata": {},
   "source": [
    "### - Speech Recognition (Pengenalan Suara)\n"
   ]
  },
  {
   "cell_type": "markdown",
   "metadata": {},
   "source": [
    " Beberapa contoh terbaik dari produk pengenalan suara adalah Google Voice, Siri, Cortana dll. Menggunakan fitur pengenalan suara, bahkan jika Anda tidak dalam posisi untuk mengetik pesan, hidup Anda tidak akan berhenti. Cukup ucapkan pesannya dan itu akan diubah menjadi teks. Namun, terkadang, Anda akan menyadari, pengenalan suara tidak bekerja secara akurat"
   ]
  },
  {
   "cell_type": "markdown",
   "metadata": {},
   "source": [
    "### - Internet Search (Pencarian Internet)"
   ]
  },
  {
   "cell_type": "markdown",
   "metadata": {},
   "source": [
    "ada banyak search engine lain selain google seperti Yahoo, Bing, Ask, AOL dan lain sebagainya.\n",
    "semua mesin telusuri ini termasuk google menggunakan algoritma Ilmu Data untuk memberikan hasil terbaik untuk query penelusuran dalam sepersekian detik, dan fakta google memproses lebih dari 20 petabyte data setiap hari jika tidak ada ilmu data Google tidak akan menjadi seperti yang kita kenal sekarang ini"
   ]
  },
  {
   "cell_type": "markdown",
   "metadata": {},
   "source": [
    "### - Genetics & Genomics"
   ]
  },
  {
   "cell_type": "markdown",
   "metadata": {},
   "source": [
    "Aplikasi Ilmu Data juga memungkinkan personalisasi perawatan tingkat lanjut melalui penelitian di bidang genetika dan genomik. Tujuannya adalah untuk memahami dampak DNA pada kesehatan kita dan menemukan hubungan biologis individu antara genetika, penyakit, dan respons obat. Teknik ilmu data memungkinkan integrasi berbagai jenis data dengan data genomik dalam penelitian penyakit, yang memberikan pemahaman yang lebih dalam tentang masalah genetik dalam reaksi terhadap obat dan penyakit tertentu."
   ]
  },
  {
   "cell_type": "markdown",
   "metadata": {},
   "source": [
    "# 2. Computer Vision"
   ]
  },
  {
   "cell_type": "markdown",
   "metadata": {},
   "source": [
    "#### Aplikasi Computer Vision di Bidang Pertanian\n",
    "### - Enhancing agricultural crop yield prediction (Meningkatkan prediksi hasil panen pertanian)\n"
   ]
  },
  {
   "cell_type": "markdown",
   "metadata": {},
   "source": [
    "Bidang prediksi hasil panen pertanian memiliki tantangan yang adil selama beberapa tahun terakhir.Visi RSIP menggunakan visi komputer dan pembelajaran mendalam untuk melakukan prediksi hasil pertanian. \n",
    "Estimasi hasil musiman sebelum panen membutuhkan banyak informasi seperti perpaduan informasi sensorik dan citra satelit, kondisi tanah, kelembaban, cuaca musiman, tingkat nitrogen, dan informasi hasil historis. Perangkat lunak ini menggunakan sensor stasioner dan gambar drone di udara untuk pencitraan multi-spektral atau gambar satelit. Alat algoritma dapat membuat prediksi hasil tersedia di aplikasi smartphone."
   ]
  },
  {
   "cell_type": "markdown",
   "metadata": {},
   "source": [
    "#### Aplikasi Computer Vision di Industri Otomotif\n",
    "### - Tesla Autopilot"
   ]
  },
  {
   "cell_type": "markdown",
   "metadata": {},
   "source": [
    "Autopilot mobil Teslafitur keselamatan dan kenyamanan canggih membantu pengemudi dengan tugas mengemudi yang rumit. Autopilot memungkinkan pengemudi untuk mengarahkan mobil, mempercepat dan mengerem secara otomatis di dalam jalurnya. Fitur navigasi menyarankan perubahan jalur yang optimal, dan di akhir tujuan, dapat secara otomatis mencari tempat parkir dan memarkir sendiri."
   ]
  },
  {
   "cell_type": "markdown",
   "metadata": {},
   "source": [
    "#### Aplikasi Computer Vision dalam Kedokteran & Perawatan Kesehatan\n",
    "### - Detecting tumors using X-rays (Mendeteksi tumor menggunakan sinar-X )"
   ]
  },
  {
   "cell_type": "markdown",
   "metadata": {},
   "source": [
    "Aplikasi computer vision di bidang kesehatan bermanfaat dalam mendiagnosis berbagai penyakit. Visi komputer memajukan pencitraan medis untuk membantu profesional kesehatan dalam membuat keputusan yang lebih tepat tentang kesehatan pasien.\n",
    "Mata Batin Microsoft perangkat lunak membaca gambar 2D dan mengubahnya menjadi 3D. Perangkat lunak ini mampu mendeteksi tumor dan kelainan lain pada sinar-X. Dengan cara yang sama, ada aplikasi visi komputer dalam pencitraan medis, skrining kanker, dan diagnostik.\n"
   ]
  },
  {
   "cell_type": "markdown",
   "metadata": {},
   "source": [
    "# 3. Natural Language Processing "
   ]
  },
  {
   "cell_type": "markdown",
   "metadata": {},
   "source": [
    "### - Smart assistants (Asisten Cerdas)\n"
   ]
  },
  {
   "cell_type": "markdown",
   "metadata": {},
   "source": [
    "NLP yang paling terkenal, asisten pintar seperti Siri, Alexa, dan Cortana semakin terintegrasi ke dalam kehidupan kita. Menggunakan NLP, mereka memecah bahasa menjadi bagian-bagian ucapan, batang kata, dan fitur linguistik lainnya. Kemudian pemahaman bahasa alami (NLU), yang memungkinkan mesin untuk memahami bahasa, dan generasi bahasa alami (NLG), bagian yang memberi mesin kemampuan untuk \"berbicara\", melakukan sisanya. Idealnya, ini memberi Anda respons yang Anda inginkan."
   ]
  },
  {
   "cell_type": "markdown",
   "metadata": {},
   "source": [
    "### - Text Analytics (Analisis Teks)"
   ]
  },
  {
   "cell_type": "markdown",
   "metadata": {},
   "source": [
    "Banyak perusahaan memiliki lebih banyak data daripada yang mereka tahu apa yang harus dilakukan, sehingga sulit untuk mendapatkan wawasan yang berarti. Akibatnya, banyak bisnis sekarang melihat ke NLP dan analitik teks untuk membantu mereka mengubah data tidak terstruktur menjadi wawasan. Fitur NLP inti seperti ekstraksi entitas bernama memberi pengguna kekuatan untuk mengidentifikasi elemen kunci seperti nama, tanggal, nilai mata uang, dan bahkan nomor telepon.\n",
    "\n",
    "Kemudian, entitas dikategorikan menurut klasifikasi yang telah ditentukan sebelumnya sehingga informasi penting ini dapat dengan cepat dan mudah ditemukan dalam dokumen dari semua ukuran dan format, termasuk file, spreadsheet, halaman web, dan teks sosial. Industri seperti asuransi bahkan menggunakan analisis teks NLP untuk menginformasikan pengambilan keputusan tentang klaim dan manajemen risiko ."
   ]
  },
  {
   "cell_type": "markdown",
   "metadata": {},
   "source": [
    "### - Language Translation(Terjemahan Bahasa)"
   ]
  },
  {
   "cell_type": "markdown",
   "metadata": {},
   "source": [
    "Selama bertahun-tahun, mencoba menerjemahkan kalimat dari satu bahasa ke bahasa lain secara konsisten akan menghasilkan hasil yang membingungkan dan/atau salah secara ofensif. Ini sangat umum sehingga banyak yang mempertanyakan apakah mungkin untuk menerjemahkan teks secara akurat.\n",
    "\n",
    "Sekarang, berkat AI dan NLP, algoritme dapat dilatih pada teks dari berbagai bahasa, sehingga memungkinkan untuk menghasilkan makna yang setara dalam bahasa lain. Teknologi ini bahkan meluas ke bahasa non-Romantis seperti Rusia dan Cina yang secara tradisional lebih sulit untuk diterjemahkan karena struktur alfabet yang berbeda dan penggunaan karakter daripada huruf, masing-masing."
   ]
  },
  {
   "cell_type": "code",
   "execution_count": null,
   "metadata": {},
   "outputs": [],
   "source": []
  }
 ],
 "metadata": {
  "kernelspec": {
   "display_name": "Python 3",
   "language": "python",
   "name": "python3"
  },
  "language_info": {
   "codemirror_mode": {
    "name": "ipython",
    "version": 3
   },
   "file_extension": ".py",
   "mimetype": "text/x-python",
   "name": "python",
   "nbconvert_exporter": "python",
   "pygments_lexer": "ipython3",
   "version": "3.8.5"
  }
 },
 "nbformat": 4,
 "nbformat_minor": 4
}
