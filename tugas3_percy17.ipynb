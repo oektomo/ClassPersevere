{
 "cells": [
  {
   "cell_type": "markdown",
   "id": "5178d4ee",
   "metadata": {},
   "source": [
    "# Tugas 3 Aplikasi AI\n",
    "Dari 3 bidang keilmuan dalam AI berikut:\n",
    "- Data Science\n",
    "- Computer Vision\n",
    "- Natural Language Processing\n",
    "\n",
    "Tuliskan contoh konkret dari aplikasi tiap bidang (minimal 2 buah setiap bidang) dan jelaskan secara singkat apa yang dilakukan dalam contoh yang kamu berikan."
   ]
  },
  {
   "cell_type": "markdown",
   "id": "01703fdd",
   "metadata": {},
   "source": [
    "**Data Science**\n",
    "\n",
    "- Produk recomendation pada marketplace seperti tokopedia, shopee, dkk.\n",
    "- Prediksi harga rumah di suatu daerah."
   ]
  },
  {
   "cell_type": "markdown",
   "id": "4ae02c52",
   "metadata": {},
   "source": [
    "**Computer Vision**\n",
    "\n",
    "- Self drive car, yang mungkin cukup terkenal diterapkan pada mobil keluaran tesla.\n",
    "- Pendeteksi pelanggaran/tilang elektronik di jalan tol menggunakan kamera ETLE."
   ]
  },
  {
   "cell_type": "markdown",
   "id": "34ea5c7f",
   "metadata": {},
   "source": [
    "**Natural Language Processing**\n",
    "\n",
    "- Speech to text yang diterapkan pada aplikasi seperti siri, cortana, dan google asisstant.\n",
    "- Text to speech yang diterapkan pada aplikasi Google Text-to-Speech."
   ]
  }
 ],
 "metadata": {
  "kernelspec": {
   "display_name": "Python 3 (ipykernel)",
   "language": "python",
   "name": "python3"
  },
  "language_info": {
   "codemirror_mode": {
    "name": "ipython",
    "version": 3
   },
   "file_extension": ".py",
   "mimetype": "text/x-python",
   "name": "python",
   "nbconvert_exporter": "python",
   "pygments_lexer": "ipython3",
   "version": "3.8.6"
  }
 },
 "nbformat": 4,
 "nbformat_minor": 5
}
