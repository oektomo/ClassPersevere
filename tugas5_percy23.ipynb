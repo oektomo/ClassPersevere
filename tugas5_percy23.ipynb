{
 "cells": [
  {
   "cell_type": "markdown",
   "metadata": {},
   "source": [
    "# Tugas 5 Quiz"
   ]
  },
  {
   "cell_type": "markdown",
   "metadata": {},
   "source": [
    "## Python OOP"
   ]
  },
  {
   "cell_type": "markdown",
   "metadata": {},
   "source": [
    "> **Apa itu OOP dan cobalah buat 2 implementasi konsep OOP menggunakan python!**  \n",
    "> Object Oriented Programming atau Pemrograman Berbasis Objek adalah paradigma pemrograman yang berorientasikan kepada objek yang merupakan suatu metode dalam pembuatan program, dengan tujuan untuk menyelesaikan kompleksnya berbagai masalah program yang terus meningkat."
   ]
  },
  {
   "cell_type": "markdown",
   "metadata": {},
   "source": [
    "**Contoh implementasi konsep OOP pada Python**"
   ]
  },
  {
   "cell_type": "code",
   "execution_count": 1,
   "metadata": {},
   "outputs": [],
   "source": [
    "class car:\n",
    "    \n",
    "    # attributes\n",
    "        year = 2016     # car model's year\n",
    "        mpg =  20       # mileage\n",
    "        speed = 100     # current speed\n",
    "        \n",
    "    # methods\n",
    "        def accelerate(self):\n",
    "            return car.speed + 20\n",
    "\n",
    "        def brake(self):\n",
    "            return car.speed - 50"
   ]
  },
  {
   "cell_type": "code",
   "execution_count": 4,
   "metadata": {},
   "outputs": [
    {
     "name": "stdout",
     "output_type": "stream",
     "text": [
      "120\n",
      "50\n",
      "2016\n",
      "20\n",
      "100\n"
     ]
    }
   ],
   "source": [
    "car1=car()\n",
    "\n",
    "print(car1.accelerate())\n",
    "print(car1.brake())\n",
    "print(car1.year)\n",
    "print(car1.mpg)\n",
    "print(car1.speed)"
   ]
  },
  {
   "cell_type": "code",
   "execution_count": 5,
   "metadata": {},
   "outputs": [],
   "source": [
    "# Creates class Company\n",
    "class Company:\n",
    "    \n",
    "    # attributes\n",
    "    name = \"XYZ Bank\"\n",
    "    turnover = 5000\n",
    "    revenue = 1000\n",
    "    no_of_employees = 100\n",
    "    \n",
    "    # method\n",
    "    def productivity(self):\n",
    "        return Company.revenue/Company.no_of_employees"
   ]
  },
  {
   "cell_type": "code",
   "execution_count": 6,
   "metadata": {},
   "outputs": [
    {
     "name": "stdout",
     "output_type": "stream",
     "text": [
      "XYZ Bank\n",
      "5000\n",
      "100\n",
      "10.0\n"
     ]
    }
   ],
   "source": [
    "print(Company.name)\n",
    "print(Company.turnover)\n",
    "print(Company.no_of_employees)\n",
    "print(Company().productivity())"
   ]
  },
  {
   "cell_type": "markdown",
   "metadata": {},
   "source": [
    "> **Sebutkan dan jelaskan 2 jenis modules yang ada di Python!**  \n",
    "> 1. Built-in module  \n",
    "> Built-in module adalah modul bawaan pada Python. Contohnya seperti statistics, os, math, dll..\n",
    "> 2. Custom module  \n",
    "> Custom module atau modul buatan adalah file berekstensi (.py) yang dapat diimpor pada program python lain."
   ]
  },
  {
   "cell_type": "markdown",
   "metadata": {},
   "source": [
    "> **Hitunglah berapa hasil dari √175 + 4√7 + (1/3) + ³log 81 menggunakan module math!**"
   ]
  },
  {
   "cell_type": "code",
   "execution_count": 8,
   "metadata": {},
   "outputs": [],
   "source": [
    "import math"
   ]
  },
  {
   "cell_type": "code",
   "execution_count": 14,
   "metadata": {},
   "outputs": [
    {
     "name": "stdout",
     "output_type": "stream",
     "text": [
      "27.811761799581316\n"
     ]
    }
   ],
   "source": [
    "a = math.sqrt(175)\n",
    "b = 4*math.sqrt(7)\n",
    "c = math.log(81, 3)\n",
    "\n",
    "print(a+b+c)"
   ]
  },
  {
   "cell_type": "markdown",
   "metadata": {},
   "source": [
    "> **Apa itu custom exception handling dan berikan 1 contoh implementasinya!**  \n",
    "> Exception adalah error yang terjadi pada suatu program walaupun penulisan syntax telah benar. Dengan kata lain exception error adalah kesalahan yang terjadi bukan dikarenakan kesalahan penulisan syntax. Misalnya adalah pembagian suatu bilangan dengan bilangan nol akan menghasilkan exception error pada python. Exception handling memungkinkan python untuk mengastasi error yang terjadi diakibatkan exception error"
   ]
  },
  {
   "cell_type": "code",
   "execution_count": 15,
   "metadata": {},
   "outputs": [
    {
     "name": "stdout",
     "output_type": "stream",
     "text": [
      "masukkan angka selain 0\n"
     ]
    }
   ],
   "source": [
    "try:\n",
    "    a = int(input('masukkan nilai a '))\n",
    "    b = int(input('masukkan nilai b '))\n",
    "    print('hasil a/b adalah',a/b)\n",
    "except ZeroDivisionError:\n",
    "    print('masukkan angka selain 0')"
   ]
  },
  {
   "cell_type": "markdown",
   "metadata": {},
   "source": [
    "## Artificial Intelligence"
   ]
  },
  {
   "cell_type": "markdown",
   "metadata": {},
   "source": [
    "> **Apa perbedaan dari structured dan unstructured data dan sebutkan 3 sumber data!**  \n",
    "> Structured data adalah data yang dapat dimasukan/berbentuk layaknya tabel. Contohnya adalah csv, sql, dll..  \n",
    "> Unstructured data adalah data yang tidak terstruktur dalam tabel. Contohnya adalah gambar dan video.  \n",
    "> 3 contoh sumber data ialah berasal dari transaksi bisnis, sensor yang merekam, dan broadcasting."
   ]
  },
  {
   "cell_type": "markdown",
   "metadata": {},
   "source": [
    "> **Jelaskan perbedaan AI, Machine Learning dan Deep Learning!**  \n",
    "> AI adalah sekumpulan algoritma yang digunakan untuk membangun suatu program.  \n",
    "> ML adalah algoritma yang menggunakan data dalam proses pembuatannya.  \n",
    "> Deep Learning adalah program otomatisasi yang menerapkan AI dan ML dalam prosesnya."
   ]
  },
  {
   "cell_type": "markdown",
   "metadata": {},
   "source": [
    "> **Apa perbedaan Machine Learning dengan Tradisional software?**  \n",
    "> ML menggunakan data untuk melatih algoritma yang digunakan dalam program untuk memecahkan suatu masalah.  \n",
    "> Sedangkan traditional software menggunakan logika dari programmer dalam memecahkan suatu masalah."
   ]
  },
  {
   "cell_type": "markdown",
   "metadata": {},
   "source": [
    "> **Sebutkan 3 contoh aplikasi Machine Learning di sektor smart city dan agriculture!**  \n",
    "> Smart city: Menampilkan data kemacetan pada suatu area, Pendeteksi wajah kriminal melalui CCTV, Pendeteksi kebakaran pada suatu wilayah  \n",
    "> Agriculture: Mencatat pertumbuhan tanaman dan memberikan rekomendasi pupuk pada tanaman, Memprediksi kualitas tanah untuk digunakan sebagai wilayah cocok tanam, Memprediksi curah hujan pada suatu wilayah agar dapat menentukan jenis tanaman yang akan ditanam."
   ]
  },
  {
   "cell_type": "markdown",
   "metadata": {},
   "source": [
    "## Maths for AI"
   ]
  },
  {
   "cell_type": "markdown",
   "metadata": {},
   "source": [
    "> **Mengapa ilmu matematika penting ketika mempelajari AI?**  \n",
    "> Untuk mengolah data yang akan diimplementasikan pada AI dibutuhkan keahlian dalam ilmu matematika"
   ]
  },
  {
   "cell_type": "markdown",
   "metadata": {},
   "source": [
    "> **Jelaskan perbedaan vektor dan skalar!**  \n",
    "> Nilai vektor memiliki arah sedangkan nilai skalar tidak."
   ]
  },
  {
   "cell_type": "markdown",
   "metadata": {},
   "source": [
    "> **Apa perbedaan dari Jarak Euclidean dan Manhattan?**  \n",
    "> Jarak Manhattan memiliki perhitungan sudut sebagai salah satu faktor dalam perhitungannya, sedangkan jarak euclidean tidak."
   ]
  },
  {
   "cell_type": "markdown",
   "metadata": {},
   "source": [
    "> **Apa kegunaan matriks dalam ilmu matematika ketika menerapkan AI?**  \n",
    "> Matriks memiiki banyak kegunaan dalam penerapan AI. Misalnya sebagai pemetaan gambar, pemetaan lokasi, dsb.."
   ]
  },
  {
   "cell_type": "markdown",
   "metadata": {},
   "source": [
    "## Machine Learning"
   ]
  },
  {
   "cell_type": "markdown",
   "metadata": {},
   "source": [
    "> **Jelaskan perbedaan supervised dan unsupervised learning dan sebutkan 2 contohnya!**  \n",
    "> Supervised learning memiliki jawaban pasti yang diberikan kepada data agar mesin tau jawabannya secara pasti. Contohnya adalah mendeteksi buah pisang melalui bentuknya atau mendeteksi perbedaan buah apel merah dan hijau melalui warnanya.  \n",
    "> Unsupervised learning adalah proses pembelajaran mesin yang tidak diberikan jawaban secara pasti. Contohnya mesin diberikan data beberapa hewan, lalu mesin dapat mengklasifikasikan sendiri melalui bentuk atau warnanya walaupun tidak mengetahui nama dari objek tersebut, atau mengklasifikasikan tanaman melalui bentuk batang atau daunnya."
   ]
  },
  {
   "cell_type": "markdown",
   "metadata": {},
   "source": [
    "> **Sebutkan setiap tahap yang ada di Machine Learning life cycle dan jelaskan!**  \n",
    "> 1. Tentukan Tujuan  \n",
    "> Pada fase ini, kita harus menentukan tujuan dan manfaat apa yang diberikan pada pembuatan projek ML.  \n",
    "> 2. Kumpulkan Data  \n",
    "> Pada fase ini data yang digunakan dan mendukung projek akan dikumpulkan.  \n",
    "> 3. Siapkan Data  \n",
    "> Pada fase ini data yang telah dikumpulkan disaring, dibersihkan, dan diolah agar data yang diproses oleh mesin > dapat optimal.  \n",
    "> 4. Pilih Algoritma  \n",
    "> Pada fase ini algoritma yang digunakan oleh mesin akan ditentukan, tergantung berdasarkan mesin yang diinginkan belajar melalui supervised atau unsupervised learning.  \n",
    "> 5. Latih Model  \n",
    "> Pada fase ini mesin akan mulai untuk mempelajari algoritma melalui data yang telah disiapkan.  \n",
    "> 6. Tes Model  \n",
    "> Pada fase ini hasil dari pembelajaran mesin akan dilakukan testing keakuratannya dengan tujuan yang diinginkan.  \n",
    "> 7. Integrasikan Model  \n",
    "> Pada fase ini apabila mesin telah siap diterapkan setelah melalui tes model, maka model telah siap diimplementasikan pada real-life case."
   ]
  },
  {
   "cell_type": "markdown",
   "metadata": {},
   "source": [
    "> **Apa perbedaan regression dengan clustering?**  \n",
    "> Regression atau regresi adalah algoritma yang memetakan masukan ke keluaran berkelanjutan. Regression terdapat pada supervised learning.\n",
    "> Clustering adalah algortima yang mempelajari hubungan antara fitur individu. Clustering terdapat pada unsupervised learning."
   ]
  },
  {
   "cell_type": "markdown",
   "metadata": {},
   "source": [
    "> **Apa itu algoritma Artificial Neural Network dan untuk apa fungsinya?**  \n",
    "> Artificial Neural Network (ANN) adalah teknologi AI yang meniru dan terinspirasi dari cara kerja neuron pada otak manusia. Fungsinya adalah mempermudah mesin untuk mempelajari model non-linear dan hubungan yang kompleks."
   ]
  }
 ],
 "metadata": {
  "interpreter": {
   "hash": "7e7d61437b92331be8fea7eec8624469927d77578dffce77aeec4b34776a1d79"
  },
  "kernelspec": {
   "display_name": "Python 3.10.0 64-bit",
   "language": "python",
   "name": "python3"
  },
  "language_info": {
   "codemirror_mode": {
    "name": "ipython",
    "version": 3
   },
   "file_extension": ".py",
   "mimetype": "text/x-python",
   "name": "python",
   "nbconvert_exporter": "python",
   "pygments_lexer": "ipython3",
   "version": "3.10.0"
  },
  "orig_nbformat": 4
 },
 "nbformat": 4,
 "nbformat_minor": 2
}
