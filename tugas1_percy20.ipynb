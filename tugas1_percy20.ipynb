{
 "cells": [
  {
   "cell_type": "markdown",
   "id": "f6c00131",
   "metadata": {},
   "source": [
    "# Python Data Types"
   ]
  },
  {
   "cell_type": "markdown",
   "id": "8aef82d2",
   "metadata": {},
   "source": [
    "## String"
   ]
  },
  {
   "cell_type": "code",
   "execution_count": 3,
   "id": "2bf30af3",
   "metadata": {},
   "outputs": [
    {
     "name": "stdout",
     "output_type": "stream",
     "text": [
      "Hello World Test  <class 'str'>  <class 'str'>\n"
     ]
    }
   ],
   "source": [
    "x= 'Hello World'\n",
    "y= 'Test'\n",
    "\n",
    "print(x,y,'', type(x),'', type(y))"
   ]
  },
  {
   "cell_type": "markdown",
   "id": "de2b6ef4",
   "metadata": {},
   "source": [
    "## Integer"
   ]
  },
  {
   "cell_type": "code",
   "execution_count": 5,
   "id": "a144bed8",
   "metadata": {},
   "outputs": [
    {
     "name": "stdout",
     "output_type": "stream",
     "text": [
      "7  <class 'int'>\n",
      "12\n"
     ]
    }
   ],
   "source": [
    "x= 7\n",
    "print(x, '', type(x))\n",
    "y=5\n",
    "print(x+y)"
   ]
  },
  {
   "cell_type": "markdown",
   "id": "86f3efe9",
   "metadata": {},
   "source": [
    "## Float"
   ]
  },
  {
   "cell_type": "code",
   "execution_count": 8,
   "id": "a15c027c",
   "metadata": {},
   "outputs": [
    {
     "name": "stdout",
     "output_type": "stream",
     "text": [
      "1.5  <class 'float'>\n",
      "3.8\n"
     ]
    }
   ],
   "source": [
    "x= 1.5\n",
    "print(x, '', type(x))\n",
    "y,z=2,0.3\n",
    "print(x+y+z)\n",
    "#Float bisa dioperasikan dengan int"
   ]
  },
  {
   "cell_type": "markdown",
   "id": "6f1e6422",
   "metadata": {},
   "source": [
    "## Complex"
   ]
  },
  {
   "cell_type": "code",
   "execution_count": 12,
   "id": "74d120f4",
   "metadata": {},
   "outputs": [
    {
     "name": "stdout",
     "output_type": "stream",
     "text": [
      "(3+8j)  <class 'complex'>\n"
     ]
    }
   ],
   "source": [
    "x= 3+8j\n",
    "print(x, '', type(x))"
   ]
  },
  {
   "cell_type": "markdown",
   "id": "bcb767f8",
   "metadata": {},
   "source": [
    "## List"
   ]
  },
  {
   "cell_type": "code",
   "execution_count": 19,
   "id": "ce42ccd1",
   "metadata": {},
   "outputs": [
    {
     "name": "stdout",
     "output_type": "stream",
     "text": [
      "['a', 'b', 'c']  <class 'list'>\n",
      "b\n",
      "a\n",
      "b\n",
      "c\n"
     ]
    }
   ],
   "source": [
    "x= ['a','b','c']\n",
    "print(x, '', type(x))\n",
    "\n",
    "print(x[1])\n",
    "\n",
    "for x in x:\n",
    "    print(x)\n",
    "    \n"
   ]
  },
  {
   "cell_type": "markdown",
   "id": "e45fa29e",
   "metadata": {},
   "source": [
    "## Tuple"
   ]
  },
  {
   "cell_type": "code",
   "execution_count": 21,
   "id": "bbecb341",
   "metadata": {},
   "outputs": [
    {
     "name": "stdout",
     "output_type": "stream",
     "text": [
      "('a', 'b', 'c')  <class 'tuple'>\n",
      "a\n",
      "b\n",
      "c\n",
      "x\n",
      "y\n"
     ]
    }
   ],
   "source": [
    "x= ('a','b','c')\n",
    "print(x, '', type(x))\n",
    "\n",
    "y= ('x','y')\n",
    "\n",
    "z= x+y # Joining Tuples\n",
    "\n",
    "for x in z:\n",
    "    print(x)"
   ]
  },
  {
   "cell_type": "markdown",
   "id": "dcdd8917",
   "metadata": {},
   "source": [
    "## Range"
   ]
  },
  {
   "cell_type": "markdown",
   "id": "0149a5ac",
   "metadata": {},
   "source": [
    "x= range(3)\n",
    "\n",
    "print(x, '', type(x))"
   ]
  },
  {
   "cell_type": "markdown",
   "id": "282e5660",
   "metadata": {},
   "source": [
    "## Dictionary"
   ]
  },
  {
   "cell_type": "code",
   "execution_count": 27,
   "id": "51e8bef5",
   "metadata": {},
   "outputs": [
    {
     "name": "stdout",
     "output_type": "stream",
     "text": [
      "{'a': 'z', 'b': 'y', 'c': 'x'}  <class 'dict'>\n",
      "z\n",
      "zy\n",
      "zyx\n"
     ]
    }
   ],
   "source": [
    "x= {'a':'z',\n",
    "    'b':'y',\n",
    "    'c':'x'}\n",
    "\n",
    "word='abc'\n",
    "\n",
    "print(x, '', type(x))\n",
    "\n",
    "result=''\n",
    "for i in word:\n",
    "    i=x[i]\n",
    "    result+=i\n",
    "    print(result)\n",
    "\n",
    "#Switching words 'abc' accoarding to variables assigned to the letters in the \n",
    "#dictionary\n",
    "    \n"
   ]
  },
  {
   "cell_type": "markdown",
   "id": "2c08d450",
   "metadata": {},
   "source": [
    "## Sets"
   ]
  },
  {
   "cell_type": "code",
   "execution_count": 29,
   "id": "d98fa941",
   "metadata": {},
   "outputs": [
    {
     "name": "stdout",
     "output_type": "stream",
     "text": [
      "{'c', 'b', 'a'}  <class 'set'>\n"
     ]
    }
   ],
   "source": [
    "x= {'a','b','c'}\n",
    "\n",
    "print(x, '', type(x))\n",
    "#Printing index of the set will result in error due to its unordered nature"
   ]
  },
  {
   "cell_type": "code",
   "execution_count": 31,
   "id": "0ae814de",
   "metadata": {},
   "outputs": [
    {
     "name": "stdout",
     "output_type": "stream",
     "text": [
      "frozenset({'c', 'b', 'a'})  <class 'frozenset'>\n"
     ]
    },
    {
     "ename": "TypeError",
     "evalue": "'frozenset' object does not support item assignment",
     "output_type": "error",
     "traceback": [
      "\u001b[1;31m---------------------------------------------------------------------------\u001b[0m",
      "\u001b[1;31mTypeError\u001b[0m                                 Traceback (most recent call last)",
      "Input \u001b[1;32mIn [31]\u001b[0m, in \u001b[0;36m<cell line: 6>\u001b[1;34m()\u001b[0m\n\u001b[0;32m      2\u001b[0m \u001b[38;5;28mprint\u001b[39m(x, \u001b[38;5;124m'\u001b[39m\u001b[38;5;124m'\u001b[39m, \u001b[38;5;28mtype\u001b[39m(x))\n\u001b[0;32m      4\u001b[0m \u001b[38;5;66;03m#Frozen Set does not allow change made to it items\u001b[39;00m\n\u001b[1;32m----> 6\u001b[0m x[\u001b[38;5;241m0\u001b[39m]\u001b[38;5;241m=\u001b[39m \u001b[38;5;124m'\u001b[39m\u001b[38;5;124mx\u001b[39m\u001b[38;5;124m'\u001b[39m\n",
      "\u001b[1;31mTypeError\u001b[0m: 'frozenset' object does not support item assignment"
     ]
    }
   ],
   "source": [
    "x= frozenset({'a','b','c'})\n",
    "print(x, '', type(x))\n",
    "\n",
    "#Frozen Set does not allow change made to it items\n",
    "\n",
    "x[0]= 'x'"
   ]
  },
  {
   "cell_type": "markdown",
   "id": "8f0799e7",
   "metadata": {},
   "source": [
    "## Boolean"
   ]
  },
  {
   "cell_type": "code",
   "execution_count": 36,
   "id": "e93900e0",
   "metadata": {},
   "outputs": [
    {
     "name": "stdout",
     "output_type": "stream",
     "text": [
      "num856\n",
      "Your input is larger\n",
      "a=  856 j=  0.9913889631568685\n"
     ]
    }
   ],
   "source": [
    "import random\n",
    "\n",
    "k= input('num')\n",
    "\n",
    "a= int(k)\n",
    "j= random.random()\n",
    "if(a>j):\n",
    "    print('Your input is larger')\n",
    "    \n",
    "else:\n",
    "    print('Eh smaller')\n",
    "    \n",
    "print('a= ',a, 'j= ', j)"
   ]
  },
  {
   "cell_type": "markdown",
   "id": "3f3347c8",
   "metadata": {},
   "source": [
    "## Bytes"
   ]
  },
  {
   "cell_type": "code",
   "execution_count": 40,
   "id": "aa600361",
   "metadata": {},
   "outputs": [
    {
     "name": "stdout",
     "output_type": "stream",
     "text": [
      "b'Hello World'  <class 'bytes'>\n"
     ]
    },
    {
     "ename": "TypeError",
     "evalue": "'bytes' object does not support item assignment",
     "output_type": "error",
     "traceback": [
      "\u001b[1;31m---------------------------------------------------------------------------\u001b[0m",
      "\u001b[1;31mTypeError\u001b[0m                                 Traceback (most recent call last)",
      "Input \u001b[1;32mIn [40]\u001b[0m, in \u001b[0;36m<cell line: 4>\u001b[1;34m()\u001b[0m\n\u001b[0;32m      2\u001b[0m y\u001b[38;5;241m=\u001b[39m \u001b[38;5;124mb\u001b[39m\u001b[38;5;124m'\u001b[39m\u001b[38;5;124mtest\u001b[39m\u001b[38;5;124m'\u001b[39m\n\u001b[0;32m      3\u001b[0m \u001b[38;5;28mprint\u001b[39m(x, \u001b[38;5;124m'\u001b[39m\u001b[38;5;124m'\u001b[39m, \u001b[38;5;28mtype\u001b[39m(x))\n\u001b[1;32m----> 4\u001b[0m x[\u001b[38;5;241m3\u001b[39m]\u001b[38;5;241m=\u001b[39ma\n",
      "\u001b[1;31mTypeError\u001b[0m: 'bytes' object does not support item assignment"
     ]
    }
   ],
   "source": [
    "x= b'Hello World'\n",
    "y= b'test'\n",
    "print(x, '', type(x))\n",
    "x[3]=a\n",
    "\n",
    "\n",
    "#Bytes can't be modified"
   ]
  },
  {
   "cell_type": "markdown",
   "id": "1425c8ad",
   "metadata": {},
   "source": [
    "## Bytearray"
   ]
  },
  {
   "cell_type": "code",
   "execution_count": 42,
   "id": "af6a2477",
   "metadata": {},
   "outputs": [
    {
     "name": "stdout",
     "output_type": "stream",
     "text": [
      "bytearray(b'\\x00\\x00\\x00\\x00\\x00\\x00\\x00\\x00\\x00\\x00')  <class 'bytearray'>\n"
     ]
    }
   ],
   "source": [
    "x= bytearray(10)\n",
    "print(x, '', type(x))"
   ]
  },
  {
   "cell_type": "code",
   "execution_count": 45,
   "id": "8e77d7f0",
   "metadata": {},
   "outputs": [
    {
     "name": "stdout",
     "output_type": "stream",
     "text": [
      "<memory at 0x000002BF4BE1C640>  <class 'memoryview'>\n",
      "116\n"
     ]
    }
   ],
   "source": [
    "x= memoryview(b'test')\n",
    "print(x, '', type(x))\n",
    "print (x[0])"
   ]
  },
  {
   "cell_type": "code",
   "execution_count": null,
   "id": "e15797e2",
   "metadata": {},
   "outputs": [],
   "source": []
  }
 ],
 "metadata": {
  "kernelspec": {
   "display_name": "Python 3 (ipykernel)",
   "language": "python",
   "name": "python3"
  },
  "language_info": {
   "codemirror_mode": {
    "name": "ipython",
    "version": 3
   },
   "file_extension": ".py",
   "mimetype": "text/x-python",
   "name": "python",
   "nbconvert_exporter": "python",
   "pygments_lexer": "ipython3",
   "version": "3.10.2"
  }
 },
 "nbformat": 4,
 "nbformat_minor": 5
}
