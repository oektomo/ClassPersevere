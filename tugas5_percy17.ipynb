{
 "cells": [
  {
   "cell_type": "markdown",
   "id": "65359463",
   "metadata": {},
   "source": [
    "# Python OOP \n",
    "**1. Apa itu OOP dan cobalah buat 2 implementasi konsep OOP menggunakan python!** \n"
   ]
  },
  {
   "cell_type": "markdown",
   "id": "7fc0f749",
   "metadata": {},
   "source": [
    "OOP atau Object Oriented Programming merupakan paradigma pemograman berdasarkan sebuah \"Objek\"."
   ]
  },
  {
   "cell_type": "markdown",
   "id": "5c4385da",
   "metadata": {},
   "source": [
    "Implementasi Konsep OOP"
   ]
  },
  {
   "cell_type": "code",
   "execution_count": 2,
   "id": "ed1beb64",
   "metadata": {},
   "outputs": [
    {
     "name": "stdout",
     "output_type": "stream",
     "text": [
      "nama: cemong, usia: 1, warna: kuning coklat muda, jenis: anggora\n",
      "meeeoonnggg... \n"
     ]
    }
   ],
   "source": [
    "#Encapsulation\n",
    "class Kucing:\n",
    "  def __init__(self, input_nama, input_usia, input_warna, input_jenis):\n",
    "    self.nama = input_nama\n",
    "    self.usia = input_usia\n",
    "    self.warna = input_warna\n",
    "    self.jenis = input_jenis\n",
    "  \n",
    "  def meong(self):\n",
    "    print(\"meeeoonnggg... \")\n",
    "\n",
    "  def info(self):\n",
    "    print(f\"nama: {self.nama}, usia: {self.usia}, warna: {self.warna}, jenis: {self.jenis}\")\n",
    "\n",
    "\n",
    "kucing1 = Kucing(\"cemong\", 1, \"kuning coklat muda\", \"anggora\")\n",
    "\n",
    "kucing1.info()\n",
    "kucing1.meong()"
   ]
  },
  {
   "cell_type": "code",
   "execution_count": 3,
   "id": "53f510ee",
   "metadata": {},
   "outputs": [
    {
     "name": "stdout",
     "output_type": "stream",
     "text": [
      "Nama: Anton, Usia: 21\n",
      "Gaji: 10000\n"
     ]
    }
   ],
   "source": [
    "#Inheritence\n",
    "class Pekerja:\n",
    "    def __init__(self, nama, usia):\n",
    "        self.nama = nama\n",
    "        self.usia = usia\n",
    "    \n",
    "    def info(self):\n",
    "        print(f\"Nama: {self.nama}, Usia: {self.usia}\")\n",
    "        \n",
    "class front_end(Pekerja):\n",
    "    def __init__(self, nama, usia, gaji):\n",
    "        super().__init__(nama, usia)\n",
    "        self.gaji = gaji\n",
    "        \n",
    "    def info_gaji(self):\n",
    "        print(f\"Gaji: {self.gaji}\")\n",
    "        \n",
    "fe1 = front_end(\"Anton\", 21, 10000)\n",
    "\n",
    "fe1.info()\n",
    "fe1.info_gaji()"
   ]
  },
  {
   "cell_type": "markdown",
   "id": "7a8609a0",
   "metadata": {},
   "source": [
    "**2. Sebutkan dan jelaskan 2 jenis modules yang ada di Python!**\n"
   ]
  },
  {
   "cell_type": "markdown",
   "id": "51011d36",
   "metadata": {},
   "source": [
    "- Pandas : modul untuk manipulasi dan analisis data.\n",
    "- Math : sebuah modul yang digunakan untuk menyelesaikan tugas matematika."
   ]
  },
  {
   "cell_type": "markdown",
   "id": "93eb0e84",
   "metadata": {},
   "source": [
    "**3. Hitunglah berapa hasil dari √175 + 4√7 + (1/3) + ³log 81 menggunakan module math!**\n",
    "\n"
   ]
  },
  {
   "cell_type": "code",
   "execution_count": 4,
   "id": "ef4513f6",
   "metadata": {},
   "outputs": [
    {
     "name": "stdout",
     "output_type": "stream",
     "text": [
      "28.145095132914648\n"
     ]
    }
   ],
   "source": [
    "import math\n",
    "print(math.sqrt(175)+(4*math.sqrt(7))+(1/3)+math.log(81,3))"
   ]
  },
  {
   "cell_type": "markdown",
   "id": "85027a59",
   "metadata": {},
   "source": [
    "**4. Apa itu custom exception handling dan berikan 1 contoh implementasinya!**\n"
   ]
  },
  {
   "cell_type": "markdown",
   "id": "d0a367bf",
   "metadata": {},
   "source": [
    "Custom exception adalah sebuah cara untuk melakukan/membuat sebuah pengecualian khusus yang sesuai dengan tujuan yang kita inginkan"
   ]
  },
  {
   "cell_type": "code",
   "execution_count": 5,
   "id": "2d5474fe",
   "metadata": {},
   "outputs": [
    {
     "ename": "DemoException",
     "evalue": "Exception Triggered! Something went wrong.",
     "output_type": "error",
     "traceback": [
      "\u001b[1;31m---------------------------------------------------------------------------\u001b[0m",
      "\u001b[1;31mDemoException\u001b[0m                             Traceback (most recent call last)",
      "Input \u001b[1;32mIn [5]\u001b[0m, in \u001b[0;36m<module>\u001b[1;34m\u001b[0m\n\u001b[0;32m      3\u001b[0m         \u001b[38;5;28msuper\u001b[39m()\u001b[38;5;241m.\u001b[39m\u001b[38;5;21m__init__\u001b[39m(message)\n\u001b[0;32m      5\u001b[0m message \u001b[38;5;241m=\u001b[39m \u001b[38;5;124m\"\u001b[39m\u001b[38;5;124mException Triggered! Something went wrong.\u001b[39m\u001b[38;5;124m\"\u001b[39m\n\u001b[1;32m----> 6\u001b[0m \u001b[38;5;28;01mraise\u001b[39;00m DemoException(message)\n",
      "\u001b[1;31mDemoException\u001b[0m: Exception Triggered! Something went wrong."
     ]
    }
   ],
   "source": [
    "class DemoException(Exception):\n",
    "    def __init__(self, message):\n",
    "        super().__init__(message)\n",
    "        \n",
    "message = \"Exception Triggered! Something went wrong.\"\n",
    "raise DemoException(message)"
   ]
  },
  {
   "cell_type": "markdown",
   "id": "957e09e2",
   "metadata": {},
   "source": [
    "# Artificial Intelligence"
   ]
  },
  {
   "cell_type": "markdown",
   "id": "a39195bd",
   "metadata": {},
   "source": [
    "**1. Apa perbedaan dari structured dan unstructured data dan sebutkan 3 sumber data!**"
   ]
  },
  {
   "cell_type": "markdown",
   "id": "06ebdcb4",
   "metadata": {},
   "source": [
    "- Data terstruktur/Structured data sebuah data yang performatan, angka, dan tata letaknya berda dalam tempat yang tetap dalam sebuah file atau lebih mudah dipahami dalam bahasa mesin. Sedangkan data tidak terstruktur/Unstructured data merupakan data kualitatif yang sulit diolah atau dianalisis dengan alat dan metode konvensional.\n",
    "\n",
    "\n",
    "- Sumber data :\n",
    "    - MGD atau data yang dihasilkan mesin\n",
    "    - PGD atau data yang dihasilkan dari manusia\n",
    "    - OGD atau data yang dihasilkan dari sebuah organiasi"
   ]
  },
  {
   "cell_type": "markdown",
   "id": "a2113df1",
   "metadata": {},
   "source": [
    "**2. Jelaskan perbedaan AI, Machine Learning dan Deep Learning!**"
   ]
  },
  {
   "cell_type": "markdown",
   "id": "dad37124",
   "metadata": {},
   "source": [
    "Dari cabang aplikasi sudah dapat dibedakan bahwa Machine Learning bagian dari AI, dan Deep Learning merupakan cabang dari Deep Learning. Dan untuk segi penggunaan deep learning biasanya digunakan pada data yang lebih banyak dan hasilnya tidak cukup bagus jika datanya sedikit."
   ]
  },
  {
   "cell_type": "markdown",
   "id": "a4e55863",
   "metadata": {},
   "source": [
    "**3. Apa perbedaan Machine Learning dengan Tradisional software?**"
   ]
  },
  {
   "cell_type": "markdown",
   "id": "866313be",
   "metadata": {},
   "source": [
    "Untuk machine learning dibuat dengan input yang diberikan yaitu data dan output yang akan menghasilkan sebuah program, sedangkan untuk traditional software dibuat  dengan input yang diberikan berupa data dan program yang nantinya akan menghasilkan sebuah output."
   ]
  },
  {
   "cell_type": "markdown",
   "id": "c6ca859d",
   "metadata": {},
   "source": [
    "**4. Sebutkan 3 contoh aplikasi Machine Learning di sektor smart city dan agriculture!**"
   ]
  },
  {
   "cell_type": "markdown",
   "id": "9fd710f5",
   "metadata": {},
   "source": [
    "Smart City :\n",
    "- Media Social Mapping : Deteksi keluhan warga dari postingan sosmed\n",
    "- Tilang online : Deteksi pelanggaran dengan cctv\n",
    "- Self Drive Car : Automasi kendaraan, mobil tanpa pengemudi\n",
    "\n",
    "Agriculture :\n",
    "- E-fishery : Pemberian pakan ikan otomatis\n",
    "- Rice Transplanter : Penanaman padi secara autonom yang dilakukan di china\n",
    "- Traktor autonom : Traktor membajak kebuk dengan mandiri"
   ]
  },
  {
   "cell_type": "markdown",
   "id": "2eefaf8d",
   "metadata": {},
   "source": [
    "# Maths for AI"
   ]
  },
  {
   "cell_type": "markdown",
   "id": "e40031d0",
   "metadata": {},
   "source": [
    "**1. Mengapa ilmu matematika penting ketika mempelajari AI?**"
   ]
  },
  {
   "cell_type": "markdown",
   "id": "aa6b5b89",
   "metadata": {},
   "source": [
    "Karena untuk machine learning algoritmanya sendiri berdasarkan ilmu matematika, sehingga untuk perkembangan AI pembelajaran ilmu matematika cukup penting."
   ]
  },
  {
   "cell_type": "markdown",
   "id": "056520cb",
   "metadata": {},
   "source": [
    "**2. Jelaskan perbedaan vektor dan skalar!**"
   ]
  },
  {
   "cell_type": "markdown",
   "id": "a367f3dc",
   "metadata": {},
   "source": [
    "Vektor adalah besaran yang merepresentasikan dengan nilai dan arah, sedangkan skalar adalah besaran yang merepresentasikan nilai saja."
   ]
  },
  {
   "cell_type": "markdown",
   "id": "8a463979",
   "metadata": {},
   "source": [
    "**3. Apa perbedaan dari Jarak Euclidean dan Manhattan?**"
   ]
  },
  {
   "cell_type": "markdown",
   "id": "9bc4d9e7",
   "metadata": {},
   "source": [
    "- Eucledian : metode perhitungan jarak yang paling sering digunakan untuk menghitung kesamaan dua buah vektor.\n",
    "\n",
    "- Manhattan : metode perhitungan jumlah jarak dari semua attribute."
   ]
  },
  {
   "cell_type": "markdown",
   "id": "3fb72fbd",
   "metadata": {},
   "source": [
    "**4. Apa kegunaan matriks dalam ilmu matematika ketika menerapkan AI?**"
   ]
  },
  {
   "cell_type": "markdown",
   "id": "58444446",
   "metadata": {},
   "source": [
    "Matriks merupakan elemen dasar dari aljabar linier. Matriks digunakan di seluruh bidan pembelajaran AI terkhusus Machine Learning dalam deskripsi algoritma dan proses seperti variabel data input(x) saat melatih sebuah algoritma."
   ]
  },
  {
   "cell_type": "markdown",
   "id": "2c56fda7",
   "metadata": {},
   "source": [
    "# Machine Learning \n"
   ]
  },
  {
   "cell_type": "markdown",
   "id": "3f0ab786",
   "metadata": {},
   "source": [
    "**1. Jelaskan perbedaan supervised dan unsupervised learning dan sebutkan 2 contohnya!**"
   ]
  },
  {
   "cell_type": "markdown",
   "id": "4466f010",
   "metadata": {},
   "source": [
    "- Supervised sebuah model yang mempelajari sebuah data dengan label, sebaliknya dengan unsupervised learning mempelajari sebuah data tanpa adanya sebuah label/target data.\n",
    "\n",
    "\n",
    "- Contoh, \n",
    "    - Supervised : Linear Regeression, Random Forest\n",
    "    - Unsupervised : Clustering, Autoencoder"
   ]
  },
  {
   "cell_type": "markdown",
   "id": "118de2cb",
   "metadata": {},
   "source": [
    "**2. Sebutkan setiap tahap yang ada di Machine Learning life cycle dan jelaskan!**"
   ]
  },
  {
   "cell_type": "markdown",
   "id": "c282083a",
   "metadata": {},
   "source": [
    "- Problem Scoping : Memahami/menentukan sebuah masalah \n",
    "- Data Acquistion : Proses mengumpulkan data yang akurat dan terpecaya\n",
    "- Data Exploration : Melakukan eksplorasi dari data yang sudah didapatkan\n",
    "- Modelling : Membuat/menentukan model yang akan digunakan untuk menyelesaikan masalah yang sudah ditentukan\n",
    "- Evaluation : Melakukan evaluasi dari beberapa step yang sudah dilakukan sebelumnya, untuk menghindari atau mengurangi kesalahan\n",
    "- Deployment : Mengembangkan aplikasi atau mengimplementasikan hal yang sudah dilakukan untuk menyelesaikan masalah tersebut"
   ]
  },
  {
   "cell_type": "markdown",
   "id": "af89d0ca",
   "metadata": {},
   "source": [
    "**3. Apa perbedaan regression dengan clustering?**"
   ]
  },
  {
   "cell_type": "markdown",
   "id": "17238245",
   "metadata": {},
   "source": [
    "Regression adalah suatu teknik analisis untuk mengidentifikasi relasi atau hubungan diantara dua variabel atau lebih, sedangkan clustering mengumpulkan suatu data atau objek yang memiliki kemiripan satu sama lain dalam satu kumpulan/kelompok."
   ]
  },
  {
   "cell_type": "markdown",
   "id": "019155f3",
   "metadata": {},
   "source": [
    "**4. Apa itu algoritma Artificial Neural Network dan untuk apa fungsinya?**"
   ]
  },
  {
   "cell_type": "markdown",
   "id": "375306ae",
   "metadata": {},
   "source": [
    "Jaringan Saraf Tiruan atau Artificial Neural Network(ANN) merupakan sebuah model yang didasarkan seperti syaraf pada otak manusia. ANN sendiri berfungsi menjadikan komputer memiliki kemampuan cognitif seperti otak manusia yaitu kemampuan problem solving dan dapat melakukan proses pembelajaran.\n",
    "\n"
   ]
  }
 ],
 "metadata": {
  "kernelspec": {
   "display_name": "Python 3 (ipykernel)",
   "language": "python",
   "name": "python3"
  },
  "language_info": {
   "codemirror_mode": {
    "name": "ipython",
    "version": 3
   },
   "file_extension": ".py",
   "mimetype": "text/x-python",
   "name": "python",
   "nbconvert_exporter": "python",
   "pygments_lexer": "ipython3",
   "version": "3.8.6"
  }
 },
 "nbformat": 4,
 "nbformat_minor": 5
}
