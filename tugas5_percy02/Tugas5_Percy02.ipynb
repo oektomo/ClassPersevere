{
 "cells": [
  {
   "cell_type": "markdown",
   "id": "5c2700c7",
   "metadata": {},
   "source": [
    "### Python OOP\n",
    "\n",
    "1.\tApa itu OOP dan cobalah buat 2 implementasi konsep OOP menggunakan python!\n",
    "\n",
    "    Jawab:\n",
    "\n",
    "    OOP paradigma pemrograman yang menyediakan sarana untuk menyusun program yang menyediakan sarana untuk menyusun program sehingga property dan perilaku digabungkan ke dalam objek individual. berikut contoh implementasinya\n",
    "\n"
   ]
  },
  {
   "cell_type": "code",
   "execution_count": 1,
   "id": "f3c1690a",
   "metadata": {},
   "outputs": [
    {
     "name": "stdout",
     "output_type": "stream",
     "text": [
      "Hallo nama saya Ervina\n"
     ]
    }
   ],
   "source": [
    "class Person:\n",
    "    \n",
    " def __init__(self, nama, umur):\n",
    "    self.nama = nama\n",
    "    self.umur = umur\n",
    "   \n",
    " def myfunc(self):\n",
    "    print( \"Hallo nama saya \" + self.nama )\n",
    "\n",
    "p1 = Person(\"Ervina\", 17 )\n",
    "p1.myfunc()"
   ]
  },
  {
   "cell_type": "code",
   "execution_count": 2,
   "id": "d74a986b",
   "metadata": {},
   "outputs": [
    {
     "name": "stdout",
     "output_type": "stream",
     "text": [
      "luas segitiga1 35.0\n",
      "luas segitiga2 50.0\n"
     ]
    }
   ],
   "source": [
    "class Segitiga:\n",
    "  def __init__(self, alas, tinggi):\n",
    "    self.alas = alas \n",
    "    self.tinggi = tinggi\n",
    "    \n",
    "  def get_luas(self):\n",
    "    return 0.5 * self.alas * self.tinggi\n",
    "    \n",
    "segitiga1 = Segitiga (7, 10)\n",
    "segitiga2 = Segitiga (10, 10)\n",
    "\n",
    "print('luas segitiga1', segitiga1.get_luas())\n",
    "print('luas segitiga2', segitiga2.get_luas())"
   ]
  },
  {
   "cell_type": "markdown",
   "id": "10745fb5",
   "metadata": {},
   "source": [
    "2.\tSebutkan dan jelaskan 2 jenis modules yang ada di Python!\n",
    "    \n",
    "    Jawab :\n",
    "    Modul custom dan built\n",
    "    \n",
    "    Modul custom adalah modul yang membuat sendiri dan digunakan ketika spiliting code\n",
    "    \n",
    "    Built in modul adalah modul bawaan python itu sendiri.\n"
   ]
  },
  {
   "cell_type": "markdown",
   "id": "e29a00de",
   "metadata": {},
   "source": [
    "3.\tHitunglah berapa hasil dari √175 + 4√7 + (1/3) + ³log 81 menggunakan module math!\n",
    "    \n",
    "    Jawab:\n"
   ]
  },
  {
   "cell_type": "code",
   "execution_count": 8,
   "id": "671a7084",
   "metadata": {},
   "outputs": [
    {
     "name": "stdout",
     "output_type": "stream",
     "text": [
      "berarti A1 adalah 13.228756555322953\n",
      "berarti A2 adalah 10.583005244258363\n",
      "berarti A3 adalah 1.0\n",
      "berarti A4 adalah 1.3376291891386096\n",
      "jadi, hasil nya 26.149390988719926\n"
     ]
    }
   ],
   "source": [
    "import math\n",
    "A1 = math.sqrt (175)\n",
    "A2 = 4*math.sqrt(7)\n",
    "A3 = math.pow(1 , 3)\n",
    "A4 = math.log (3.81)\n",
    "print(\"berarti A1 adalah\" ,A1)\n",
    "print(\"berarti A2 adalah\" ,A2)\n",
    "print(\"berarti A3 adalah\" ,A3)\n",
    "print(\"berarti A4 adalah\" ,A4)\n",
    "\n",
    "Hasil = A1 + A2 + A3 + A4\n",
    "\n",
    "print  (\"jadi, hasil nya\" ,Hasil)"
   ]
  },
  {
   "cell_type": "markdown",
   "id": "853a6129",
   "metadata": {},
   "source": [
    "4.\tApa itu custom exception handling dan berikan 1 contoh implementasinya!\n",
    "    \n",
    "    Jawab :\n",
    "    \n",
    "    Kesalahan kesalahan yang terjadi pada saat program berjalan/runtime. berikut implementasinya\n"
   ]
  },
  {
   "cell_type": "code",
   "execution_count": 6,
   "id": "69ac689b",
   "metadata": {},
   "outputs": [
    {
     "name": "stdout",
     "output_type": "stream",
     "text": [
      "-7\n",
      "error harus memasukkan nilai positif\n"
     ]
    }
   ],
   "source": [
    "def fungsi(bilangan):\n",
    "    if bilangan < 0:\n",
    "        raise ValueError(\"Harus Positif\")\n",
    "    return bilangan + 1\n",
    "\n",
    "def main():\n",
    "    x = int(input())\n",
    "    try:\n",
    "        hasil = fungsi(x)\n",
    "        print (hasil)\n",
    "    except: \n",
    "        print(\"error harus memasukkan nilai positif\")\n",
    "        \n",
    "main()"
   ]
  },
  {
   "cell_type": "markdown",
   "id": "9b8736bf",
   "metadata": {},
   "source": [
    "output error karena menginput nilai negatif. penanganannya adalah mengunnakan try dan except"
   ]
  },
  {
   "cell_type": "markdown",
   "id": "e4d8937e",
   "metadata": {},
   "source": [
    "### Artificial Intelligence\n",
    "\n",
    "1.\tApa perbedaan dari structured dan unstructured data dan sebutkan 3 sumber data!\n",
    "    \n",
    "    Jawab:\n",
    "    Struktured data adalah data yang berada di satu tempat berbentuk sebuah file termasuk data dalam database maupun spreadsheet. Contohnya Database,excel,csv\n",
    "        Unstruktured data yaitu data yang tidak mudah di klasifikasi dan dirapikan contohnya images,text PDF PPT, speech dan lainnya.\n",
    "    3 sumber data \n",
    "    -Sensor\n",
    "    -Survei\n",
    "    -registrasi\n",
    "    \n",
    "\n",
    "2.\tJelaskan perbedaan AI, Machine Learning dan Deep Learning!\n",
    "    \n",
    "    Jawab :\n",
    "    \n",
    "    AI adalah kecerdasan yang dapat diwujudkan kedalam suatu mesin yaitu komputer, sehingga komputer itu dapat melakukan tugas untuk membantu pekerjaan manusia. \n",
    "Machine learning adalah bagian dari AI, yang mengacu pada sistem AI yang dapat belajar sendiri berdasarkan algoritma. Nah, dengan machine learning  komputer yang tadinya hanya mengikuti perintah saja menjadi belajar dan pintar. \n",
    "Deeplearning juga merupakan subbidang dari mesin learning tetapi lebih spesifik yaitu mesin diterapkan ke data yang sangat besar dengan memiliki algoritma yang lebih  baik  yang sebuah algoritma nya dari struktur otak manusia gunanya untuk memecahkan masalah.\n",
    "\n",
    "\n",
    "3.\tApa perbedaan Machine Learning dengan Tradisional software?\n",
    "\n",
    "    Jawab : \n",
    "    \n",
    "    Machine learning prosesnya otomatis ketika memasukan kode yang sama maka mesinnya yang akan mengubah parameter.\n",
    "Tradisional software semua aturan sudah terdefinisi secara baku ,programnya dibuat secara manual menggunakan data input berjalan di komputer menghasilkan output.\n",
    "\n",
    "\n",
    "4.\tSebutkan 3 contoh aplikasi Machine Learning di sektor smart city dan agriculture!\n",
    "    \n",
    "    Jawab :\n",
    "    \n",
    "    Smartcity\n",
    "    1.\tJogjaBike : untuk para wisatawan\n",
    "    2.\tMedia Social mapping : Deteksi Keluhan warga dari postingan sosmed\n",
    "    3.\tJaki Super-App : aplikasi pelaporan masalah, harga pangan dan permasalahan lain di Jakarta\n",
    "    \n",
    "    Agriculture\n",
    "    1.\tiTani\n",
    "    2.\tKATAM\n",
    "    3.\t Petani\n",
    "\n",
    "\n"
   ]
  },
  {
   "cell_type": "markdown",
   "id": "58fd8ded",
   "metadata": {},
   "source": [
    "### Maths for AI\n",
    "\n",
    "1.\tMengapa ilmu matematika penting ketika mempelajari AI?\n",
    "    \n",
    "    Jawab : \n",
    "    \n",
    "    Matematika adalah sarana untuk mengimplementasikan bagaimana tujuan itu dapat dicapai, membantu melakukan vektorisasi kode.\n",
    "\n",
    "2.\tJelaskan perbedaan vektor dan skalar!\n",
    "    \n",
    "    Jawab :\n",
    "    \n",
    "    Vektor : Besaran yang memiliki nilai & arah. Dalam ilmu data vector itu kumpulan nilai dari variable tertentu.\n",
    "    \n",
    "    Skalar : besaran/konstanta yang memiliki nilai vector berdimensi dan dapat dioperasikan.\n",
    "    \n",
    "3.\tApa perbedaan dari Jarak Euclidean dan Manhattan?\n",
    "    \n",
    "    Jawab : \n",
    "    \n",
    "    Eauclidean : mengukur 2 buah objek berdasarkan jarak garis lurus/euclideannya\n",
    "    \n",
    "    Mainhattan : mengukur jarak secara tegak lurus.\n",
    "    \n",
    "4.\t Apa kegunaan matriks dalam ilmu matematika ketika menerapkan AI?\n",
    "     \n",
    "     Jawab :\n",
    "     \n",
    "    Matriks untuk menangani data dalam jumlah besar, sehingga lebih mudah untuk menerapkan operasi skalar spt perkalian dan pembagian skalar, dan juga operasi antar vektor melalui berbagai operasi matriks dengan kecepatan dan kemudahan yang tinggi.\n",
    "\n"
   ]
  },
  {
   "cell_type": "markdown",
   "id": "1d06e240",
   "metadata": {},
   "source": [
    "### Machine Learning \n",
    "\n",
    "1.\tJelaskan perbedaan supervised dan unsupervised learning dan sebutkan 2 contohnya!\n",
    "    \n",
    "    Jawab :\n",
    "    \n",
    "    Supervised adalah pembelajaran yang diawasi, mempelajari data dengan label\n",
    "    Contohnya Regresi Linier, K-NN, SVM\n",
    "\n",
    "    Unsupervised pembelajaran tanpa pengawasan , mempelajari pola data tanpa adanya target\n",
    "    Contohnya K-means\n"
   ]
  },
  {
   "cell_type": "markdown",
   "id": "e2cd843a",
   "metadata": {},
   "source": [
    "2.\tSebutkan setiap tahap yang ada di Machine Learning life cycle dan jelaskan! \n",
    "\n",
    "    Jawab :\n",
    "\n",
    "    1.\tGathering Data, Menentukan tujuan pada program yang akan di buat\n",
    "    \n",
    "    2.\tData preparation, mengumpulkan data data asset\n",
    "    \n",
    "    3.\tData wrangling, menyiapkan data data asset\n",
    "    \n",
    "    4.\tAnalyse Data, memilih program Algoritma yang dipakai\n",
    "    \n",
    "    5.\tTrain Model, Melatih model Program\n",
    "    \n",
    "    6.\tTest Model, Mengecek & Mengetes Model\n",
    "    \n",
    "    7.\tDeployment, Integrasikan Model atau menyelesaikan modeldan siap pakai\n"
   ]
  },
  {
   "cell_type": "markdown",
   "id": "cb9877ae",
   "metadata": {},
   "source": [
    "3.\tApa perbedaan regression dengan clustering?\n",
    "\n",
    "    Jawab : \n",
    "\n",
    "    Regression : untuk menemukan suatu fungsi yang memodelkan data dengan meminimalkan error\n",
    "    Sedangkan clustering adalah pengelompokkan data secara otomatis menjadi beberapa kelompok \n",
    "\n"
   ]
  },
  {
   "cell_type": "markdown",
   "id": "fc90cf4d",
   "metadata": {},
   "source": [
    "4.\tApa itu algoritma Artificial Neural Network dan untuk apa fungsinya?\n",
    "\n",
    "    Jawab : \n",
    "\n",
    "    ANN adalah set algoritma yang bekerja seperti jaringan syaraf tiruan. Gunanya untuk memecahkan masalah atau mengkonversi input menjadi output.\n",
    "\n"
   ]
  },
  {
   "cell_type": "code",
   "execution_count": null,
   "id": "388ca0dc",
   "metadata": {},
   "outputs": [],
   "source": []
  }
 ],
 "metadata": {
  "kernelspec": {
   "display_name": "Python 3 (ipykernel)",
   "language": "python",
   "name": "python3"
  },
  "language_info": {
   "codemirror_mode": {
    "name": "ipython",
    "version": 3
   },
   "file_extension": ".py",
   "mimetype": "text/x-python",
   "name": "python",
   "nbconvert_exporter": "python",
   "pygments_lexer": "ipython3",
   "version": "3.9.7"
  }
 },
 "nbformat": 4,
 "nbformat_minor": 5
}
