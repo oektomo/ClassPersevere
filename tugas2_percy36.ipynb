{
  "nbformat": 4,
  "nbformat_minor": 0,
  "metadata": {
    "colab": {
      "name": "tugas2_percy36.ipynb",
      "provenance": [],
      "collapsed_sections": [],
      "authorship_tag": "ABX9TyP3CG/fPqzSlNjAn9G6hD/v",
      "include_colab_link": true
    },
    "kernelspec": {
      "name": "python3",
      "display_name": "Python 3"
    },
    "language_info": {
      "name": "python"
    }
  },
  "cells": [
    {
      "cell_type": "markdown",
      "metadata": {
        "id": "view-in-github",
        "colab_type": "text"
      },
      "source": [
        "<a href=\"https://colab.research.google.com/github/TaysTyas/ClassPersevere/blob/percy36/tugas2_percy36.ipynb\" target=\"_parent\"><img src=\"https://colab.research.google.com/assets/colab-badge.svg\" alt=\"Open In Colab\"/></a>"
      ]
    },
    {
      "cell_type": "markdown",
      "source": [
        ""
      ],
      "metadata": {
        "id": "3H3GSEDZBbPr"
      }
    },
    {
      "cell_type": "markdown",
      "source": [
        "##Python Operator\n",
        "Operator pada python dibagi menjadi beberapa bagian, yaitu:\n",
        "<ol>\n",
        "  <li>Arithmetic operators ( +, -, *, /, %, //, **)</li>\n",
        "  <li>Assignment operators (=, +=, -=, *=, /=, %=, //=, **=, &=, |=, <<=, >>=, ^=)</li>\n",
        "  <li>Comparison operators (==, !=, <, >, <=, >=)</li>\n",
        "  <li>Logical operators (and, or, not)</li>\n",
        "  <li>Identity operators (is, is not)</li>\n",
        "  <li>Membership operators (in, not in)</li>\n",
        "  <li>Bitwise operators (&, |, >>, <<, ^, ~)</li>\n",
        "</ol> \n",
        "\n"
      ],
      "metadata": {
        "id": "4V3F7NL7Wen3"
      }
    },
    {
      "cell_type": "code",
      "source": [
        "#contoh Aeithmatic operators\n",
        "bilangan1 = 10\n",
        "bilangan2 = 5\n",
        "print(\"Hasil Penjumlahan = \", (bilangan1 + bilangan2))\n",
        "print(\"Hasil Pengurangan = \", (bilangan1 - bilangan2))\n",
        "print(\"Hasil Perkalian = \", (bilangan1 * bilangan2))\n",
        "print(\"Hasil Pembagian = \", (bilangan1 / bilangan2))\n",
        "print(\"Hasil Modulus(sisa bagi) = \", (bilangan1 % bilangan2))\n",
        "print(\"Hasil Perpangkatan = \", (bilangan1 ** bilangan2))\n",
        "print(\"Hasil Pembulatan = \", (bilangan1 // bilangan2))\n",
        "\n",
        "#operator '+' bisa juga digunakan untuk menggabungkan string\n",
        "string1 = \"Nama\"\n",
        "string2 = \"saya\"\n",
        "print(\"\\nHasil penggabungan string adalah \\\"\" + string1 +\" \" + string2 + \" \" + \"Tyas\\\"\")"
      ],
      "metadata": {
        "colab": {
          "base_uri": "https://localhost:8080/"
        },
        "id": "nZux6PaaXtOt",
        "outputId": "3860f8fe-bfce-4ecd-bb85-dfdcd41c26a1"
      },
      "execution_count": null,
      "outputs": [
        {
          "output_type": "stream",
          "name": "stdout",
          "text": [
            "Hasil Penjumlahan =  15\n",
            "Hasil Pengurangan =  5\n",
            "Hasil Perkalian =  50\n",
            "Hasil Pembagian =  2.0\n",
            "Hasil Modulus(sisa bagi) =  0\n",
            "Hasil Perpangkatan =  100000\n",
            "Hasil Pembulatan =  2\n",
            "\n",
            "Hasil penggabungan string adalah \"Nama saya Tyas\"\n"
          ]
        }
      ]
    },
    {
      "cell_type": "code",
      "source": [
        "#contoh Assignment operator\n",
        "bilangan1 = 10\n",
        "bilangan2 = 5\n",
        "bilangan2 += bilangan1 #maksudnya adalah bilangan2 = bilangan2 + bilangan 1 = 5 + 10 = 15\n",
        "print(bilangan2)"
      ],
      "metadata": {
        "colab": {
          "base_uri": "https://localhost:8080/"
        },
        "id": "q2aJH8cd7_ZG",
        "outputId": "836e2e76-4c6a-4fbb-83f1-9556d79fa903"
      },
      "execution_count": null,
      "outputs": [
        {
          "output_type": "stream",
          "name": "stdout",
          "text": [
            "15\n"
          ]
        }
      ]
    },
    {
      "cell_type": "code",
      "source": [
        "#contoh Logical operator\n",
        "bilangan1 = int(input(\"Input bilangan pertama : \"))\n",
        "bilangan2 = int(input(\"Input bilangan kedua   : \"))\n",
        "if (bilangan1%2 == 0) and (bilangan2%2==1) :\n",
        "  print(bilangan1 % bilangan2)\n",
        "elif (not(bilangan2 > 0 and  bilangan1 > 0)):\n",
        "  print(\"Kedua bilangan bernilai negatif.\")\n",
        "elif bilangan2 !=0 or bilangan2 < 0:\n",
        "  print(\"Dapat dilakukan pembagian\")\n",
        "else:\n",
        "  print(\"Hai\")\n"
      ],
      "metadata": {
        "colab": {
          "base_uri": "https://localhost:8080/"
        },
        "id": "CUhducE_8qfn",
        "outputId": "20527a1e-2646-48b0-89e8-c59fde193c5b"
      },
      "execution_count": null,
      "outputs": [
        {
          "output_type": "stream",
          "name": "stdout",
          "text": [
            "Input bilangan pertama : 10\n",
            "Input bilangan kedua   : 5\n",
            "0\n"
          ]
        }
      ]
    },
    {
      "cell_type": "code",
      "source": [
        "#Contoh Identity Operators\n",
        "x = [\"apple\", \"banana\"]\n",
        "y = [\"apple\", \"banana\"]\n",
        "z = x\n",
        "print(x is y)\n",
        "print(x == y) # returns False because x is not the same object as y, even if they have the same content\n",
        "print(x is not x)\n",
        "print(x != y)"
      ],
      "metadata": {
        "colab": {
          "base_uri": "https://localhost:8080/"
        },
        "id": "NPVRjSCY_IIu",
        "outputId": "e0f07732-3302-4e6e-c2ea-628acad0064c"
      },
      "execution_count": null,
      "outputs": [
        {
          "output_type": "stream",
          "name": "stdout",
          "text": [
            "False\n",
            "True\n",
            "False\n",
            "False\n"
          ]
        }
      ]
    },
    {
      "cell_type": "code",
      "source": [
        "#contoh Membership operator\n",
        "x = [\"apple\", \"banana\"]\n",
        "print (\"apple\" in x)\n",
        "print(\"pineapple\" not in x)"
      ],
      "metadata": {
        "colab": {
          "base_uri": "https://localhost:8080/"
        },
        "id": "rtQtPxx_BCEw",
        "outputId": "68c6b5d5-0c4a-4fcd-abb6-e32610f9d0a3"
      },
      "execution_count": null,
      "outputs": [
        {
          "output_type": "stream",
          "name": "stdout",
          "text": [
            "True\n",
            "True\n"
          ]
        }
      ]
    },
    {
      "cell_type": "markdown",
      "source": [
        "##Python Percabangan (If... Else)\n",
        "Percabangan dalam python menggunakan syntax if, elif, dan else. Pada saat menggunakan syntax if ataupun elif biasanya akan diikuti dengan sebuah statement yang bernilai true ataupun false. Biasanya, statement berisi logical condition dari mathematics seperti:\n",
        "<ul>\n",
        " <li>Equals: a == b</li>\n",
        " <li>Not Equals: a != b</li>\n",
        " <li>Less than: a < b</li>\n",
        " <li>Less than or equal to: a <= b</li>\n",
        " <li>Greater than: a > b</li>\n",
        " <li>Greater than or equal to: a >= b</li>\n",
        "</ul>\n",
        "<p>Stelah baris syntax if dan statement, baris berikutnya akan diberikan indentation(spasi) diawal baris minimal 1 untuk menghindari error."
      ],
      "metadata": {
        "id": "fRczRqmDBQWB"
      }
    },
    {
      "cell_type": "code",
      "source": [
        "#contoh if\n",
        "a = 33\n",
        "b = 200\n",
        "if b > a:\n",
        "  print(\"b is greater than a\")"
      ],
      "metadata": {
        "colab": {
          "base_uri": "https://localhost:8080/"
        },
        "id": "qxsIUGqMCmvi",
        "outputId": "f2bff03b-6b1e-4369-ffaa-06c5acf94e5e"
      },
      "execution_count": null,
      "outputs": [
        {
          "output_type": "stream",
          "name": "stdout",
          "text": [
            "b is greater than a\n"
          ]
        }
      ]
    },
    {
      "cell_type": "code",
      "source": [
        "#error jika tidak menggunakan indentation\n",
        "a = 33\n",
        "b = 200\n",
        "if b > a:\n",
        "print(\"b is greater than a\") # you will get an error"
      ],
      "metadata": {
        "colab": {
          "base_uri": "https://localhost:8080/",
          "height": 135
        },
        "id": "8pU2Yeq3DCdn",
        "outputId": "79028d09-c845-4c3d-e29a-0cf91009e64a"
      },
      "execution_count": null,
      "outputs": [
        {
          "output_type": "error",
          "ename": "IndentationError",
          "evalue": "ignored",
          "traceback": [
            "\u001b[0;36m  File \u001b[0;32m\"<ipython-input-15-4276c1871af7>\"\u001b[0;36m, line \u001b[0;32m4\u001b[0m\n\u001b[0;31m    print(\"b is greater than a\") # you will get an error\u001b[0m\n\u001b[0m        ^\u001b[0m\n\u001b[0;31mIndentationError\u001b[0m\u001b[0;31m:\u001b[0m expected an indented block\n"
          ]
        }
      ]
    },
    {
      "cell_type": "code",
      "source": [
        "#contoh elif\n",
        "a = 33\n",
        "b = 33\n",
        "if b > a:\n",
        "  print(\"b is greater than a\")\n",
        "elif a == b:\n",
        "  print(\"a and b are equal\")"
      ],
      "metadata": {
        "colab": {
          "base_uri": "https://localhost:8080/"
        },
        "id": "BB2a26aEDMcL",
        "outputId": "ccee76a2-cb45-4c25-b44a-1793373fcdad"
      },
      "execution_count": null,
      "outputs": [
        {
          "output_type": "stream",
          "name": "stdout",
          "text": [
            "a and b are equal\n"
          ]
        }
      ]
    },
    {
      "cell_type": "code",
      "source": [
        "#contoh else\n",
        "a = 200\n",
        "b = 33\n",
        "if b > a:\n",
        "  print(\"b is greater than a\")\n",
        "elif a == b:\n",
        "  print(\"a and b are equal\")\n",
        "else:\n",
        "  print(\"a is greater than b\")"
      ],
      "metadata": {
        "colab": {
          "base_uri": "https://localhost:8080/"
        },
        "id": "JvVMQFi1DTBU",
        "outputId": "5acaeab7-2134-48e9-df4a-4189a858255d"
      },
      "execution_count": null,
      "outputs": [
        {
          "output_type": "stream",
          "name": "stdout",
          "text": [
            "a is greater than b\n"
          ]
        }
      ]
    },
    {
      "cell_type": "code",
      "source": [
        "a = 200\n",
        "b = 33\n",
        "if b > a:\n",
        "  print(\"b is greater than a\")\n",
        "else:\n",
        "  print(\"b is not greater than a\")"
      ],
      "metadata": {
        "colab": {
          "base_uri": "https://localhost:8080/"
        },
        "id": "xUfzZC7_DdV2",
        "outputId": "c0f74efc-47fb-41b2-9d19-7050179212ad"
      },
      "execution_count": null,
      "outputs": [
        {
          "output_type": "stream",
          "name": "stdout",
          "text": [
            "b is not greater than a\n"
          ]
        }
      ]
    },
    {
      "cell_type": "code",
      "source": [
        "#short hand if( if dalam 1 baris)\n",
        "a = 22901\n",
        "b = 330\n",
        "if a > b: print(\"a is greater than b\")\n",
        "\n",
        "#short hand if..else(if..else dalam 1 baris)\n",
        "a = 2\n",
        "b = 330\n",
        "print(\"A\") if a > b else print(\"B\")\n",
        "\n",
        "#short hand multiple else:\n",
        "a = 330\n",
        "b = 330\n",
        "print(\"A\") if a > b else print(\"=\") if a == b else print(\"B\")"
      ],
      "metadata": {
        "colab": {
          "base_uri": "https://localhost:8080/"
        },
        "id": "t8uMTLR6DjpE",
        "outputId": "7b2f88b7-c692-4a5d-c271-728dddd300d2"
      },
      "execution_count": null,
      "outputs": [
        {
          "output_type": "stream",
          "name": "stdout",
          "text": [
            "a is greater than b\n",
            "B\n",
            "=\n"
          ]
        }
      ]
    },
    {
      "cell_type": "code",
      "source": [
        "#percabangan dengan statement menggunakan logical operator\n",
        "a = 200\n",
        "b = 33\n",
        "c = 500\n",
        "if a > b and c > a:\n",
        "  print(\"Both conditions are True\")\n",
        "if a > b or a > c:\n",
        "  print(\"At least one of the conditions is True\")\n"
      ],
      "metadata": {
        "colab": {
          "base_uri": "https://localhost:8080/"
        },
        "id": "HECvsGawEOoK",
        "outputId": "c10fb376-0f1b-4ba6-ffb9-969620a71cef"
      },
      "execution_count": null,
      "outputs": [
        {
          "output_type": "stream",
          "name": "stdout",
          "text": [
            "Both conditions are True\n",
            "At least one of the conditions is True\n"
          ]
        }
      ]
    },
    {
      "cell_type": "code",
      "source": [
        "#nested if(if bersarang)\n",
        "x = 41\n",
        "\n",
        "if x > 10:\n",
        "  print(\"Above ten,\")\n",
        "  if x > 20:\n",
        "    print(\"and also above 20!\")\n",
        "  else:\n",
        "    print(\"but not above 20.\")\n",
        "\n",
        "#pass jika statement tidak memiliki content dan ingin menghindari error\n",
        "a = 33\n",
        "b = 200\n",
        "\n",
        "if b > a:\n",
        "  pass"
      ],
      "metadata": {
        "colab": {
          "base_uri": "https://localhost:8080/"
        },
        "id": "hPW9CFsdF0uo",
        "outputId": "334b4fd0-ddab-49a3-9907-f5a5d93ea43d"
      },
      "execution_count": null,
      "outputs": [
        {
          "output_type": "stream",
          "name": "stdout",
          "text": [
            "Above ten,\n",
            "and also above 20!\n"
          ]
        }
      ]
    },
    {
      "cell_type": "markdown",
      "source": [
        "##Python While Loops\n",
        "Python memiliki 2 primitive loops yaitu for loop dan while loop. While loop adalah perulangan yang dapat terus mengeksekusi statementnya selama kondisi perulangannya true. Semua problem yang bisa diselesaikan menggunakan perulangan for pasti bisa diselesaikan menggunakan perulangan while. tetapi, masalah yang bisa diselesaikan menggunakan perulangan while, belum tentu bisa diselesaikan menggunakan perulangan For."
      ],
      "metadata": {
        "id": "UDXEqvipBSyP"
      }
    },
    {
      "cell_type": "code",
      "source": [
        "#perulangan akan terus berjalan(statement akan terus dieksekusi) jika i < 6(kondisi true)\n",
        "i = 1\n",
        "while i < 6:\n",
        "  print(i)\n",
        "  i += 1"
      ],
      "metadata": {
        "colab": {
          "base_uri": "https://localhost:8080/"
        },
        "id": "Aellx6kIG5UP",
        "outputId": "4fd34b10-be63-468b-a6d9-f23b5a8ce156"
      },
      "execution_count": null,
      "outputs": [
        {
          "output_type": "stream",
          "name": "stdout",
          "text": [
            "1\n",
            "2\n",
            "3\n",
            "4\n",
            "5\n"
          ]
        }
      ]
    },
    {
      "cell_type": "code",
      "source": [
        "#contoh break(dapat menghentikan loop walaupun kondisi bernilai true)\n",
        "i = 1\n",
        "while i < 6:\n",
        "  print(i)\n",
        "  if i == 3:\n",
        "    break\n",
        "  i += 1"
      ],
      "metadata": {
        "colab": {
          "base_uri": "https://localhost:8080/"
        },
        "id": "jMtGLjlaHLug",
        "outputId": "728752f1-0f3d-4d26-eb75-c74df52863d6"
      },
      "execution_count": null,
      "outputs": [
        {
          "output_type": "stream",
          "name": "stdout",
          "text": [
            "1\n",
            "2\n",
            "3\n"
          ]
        }
      ]
    },
    {
      "cell_type": "code",
      "source": [
        "#contoh continue(statement akan dilewati dan berlanjut ke iterasi selanjutnya)\n",
        "i = 0\n",
        "while i < 6:\n",
        "  i += 1\n",
        "  if i == 3:\n",
        "    continue\n",
        "  print(i)"
      ],
      "metadata": {
        "colab": {
          "base_uri": "https://localhost:8080/"
        },
        "id": "8RgP8JOJIAqc",
        "outputId": "336276d8-779b-46ba-82f6-3f999f08561d"
      },
      "execution_count": null,
      "outputs": [
        {
          "output_type": "stream",
          "name": "stdout",
          "text": [
            "1\n",
            "2\n",
            "4\n",
            "5\n",
            "6\n"
          ]
        }
      ]
    },
    {
      "cell_type": "code",
      "source": [
        "#contoh else(dieksekusi saat kondisi while loop false)\n",
        "i = 1\n",
        "while i < 6:\n",
        "  print(i)\n",
        "  i += 1\n",
        "else:\n",
        "  print(\"i is no longer less than 6\")"
      ],
      "metadata": {
        "colab": {
          "base_uri": "https://localhost:8080/"
        },
        "id": "AnzxUfZZIRqd",
        "outputId": "78e6063f-1ac1-4480-efbf-c2fa3c6acba9"
      },
      "execution_count": null,
      "outputs": [
        {
          "output_type": "stream",
          "name": "stdout",
          "text": [
            "1\n",
            "2\n",
            "3\n",
            "4\n",
            "5\n",
            "i is no longer less than 6\n"
          ]
        }
      ]
    },
    {
      "cell_type": "markdown",
      "source": [
        "##Python For Loops\n",
        "For loop pada python menggunakan iterasi  over a sequence (that is either a list, a tuple, a dictionary, a set, or a string). Pada perulangan for biasanya jumlah perulangannya sudah diketahui (jika menggunakan range bisa menggunakan1 statement(jumlah perulangan misalnya for x in range(5)), dua statement(start, stop) ataupun 3 statement(start, stop, step)).\n"
      ],
      "metadata": {
        "id": "cuEPkldeIhuO"
      }
    },
    {
      "cell_type": "code",
      "source": [
        "#contoh for loop\n",
        "fruits = [\"apple\", \"banana\", \"cherry\"]\n",
        "for x in fruits:\n",
        "  print(x)\n",
        "print()\n",
        "#loop through a string\n",
        "for x in \"banana\":\n",
        "  print(x)\n",
        "print()\n",
        "#break statement(perulangan akan berhenti walaupun semua iterasi belum selesai/berhenti secara paksa)\n",
        "fruits = [\"apple\", \"banana\", \"cherry\"]\n",
        "for x in fruits:\n",
        "  print(x)\n",
        "  if x == \"banana\":\n",
        "    break\n",
        "print()\n",
        "fruits = [\"apple\", \"banana\", \"cherry\"]\n",
        "for x in fruits:\n",
        "  if x == \"banana\":\n",
        "    break\n",
        "  print(x)\n",
        "print()\n",
        "#continue statement(mengabaikan/menstop iterasi lalu lanjut ke iterasi selanjutnya)\n",
        "fruits = [\"apple\", \"banana\", \"cherry\"]\n",
        "for x in fruits:\n",
        "  if x == \"banana\":\n",
        "    continue\n",
        "  print(x)\n"
      ],
      "metadata": {
        "colab": {
          "base_uri": "https://localhost:8080/"
        },
        "id": "p6s5LPF5WRvf",
        "outputId": "d33609df-fa37-401b-9223-664bb9279f16"
      },
      "execution_count": 3,
      "outputs": [
        {
          "output_type": "stream",
          "name": "stdout",
          "text": [
            "apple\n",
            "banana\n",
            "cherry\n",
            "\n",
            "b\n",
            "a\n",
            "n\n",
            "a\n",
            "n\n",
            "a\n",
            "\n",
            "apple\n",
            "banana\n",
            "\n",
            "apple\n",
            "\n",
            "apple\n",
            "cherry\n"
          ]
        }
      ]
    },
    {
      "cell_type": "code",
      "source": [
        "#range function(secara default mengembalikan urutan nilai dimulai dari 0 dengan inkremen 1 denagn akhir nilai yang spesifik)\n",
        "for x in range(6): # 0 1 2 3 4 5 ---> dari 0 sampai 6-1\n",
        "  print(x)\n",
        "print()\n",
        "\n",
        "for x in range(2, 6):# 2 3 4 5 ---> dari 2 sampai 6-1\n",
        "  print(x)\n",
        "print()\n",
        "\n",
        "for x in range(2, 30, 3): # 2 5 8... 29 --> dari 2 smpai 30-1 dengan kelipata/inkremen 3\n",
        "  print(x)\n",
        "print()\n",
        "\n",
        "#else in loop(dieksekusi jika perulangan telah selesai/semua iterasi telah dijalankan ataupun jika peruangan berhenti paksa karena perintah break)\n",
        "for x in range(6):\n",
        "  print(x)\n",
        "else:\n",
        "  print(\"Finally finished!\")\n",
        "print()\n",
        "\n",
        "for x in range(6):\n",
        "  if x == 3: break\n",
        "  print(x)\n",
        "else:\n",
        "  print(\"Finally finished!\")\n",
        "print()\n",
        "\n",
        "#nested loop(loop didalam loop )\n",
        "adj = [\"red\", \"big\", \"tasty\"]\n",
        "fruits = [\"apple\", \"banana\", \"cherry\"]\n",
        "\n",
        "for x in adj:\n",
        "  for y in fruits:\n",
        "    print(x, y)\n",
        "\n",
        "#pass (for loops tidak bisa kosong jadi untuk menghindari error dapat menggunakan pass)\n",
        "for x in [0, 1, 2]:\n",
        "  pass\n"
      ],
      "metadata": {
        "colab": {
          "base_uri": "https://localhost:8080/"
        },
        "id": "600wSxkaXmt7",
        "outputId": "9f1e73fb-9fef-4484-a142-4694d49ef64d"
      },
      "execution_count": 8,
      "outputs": [
        {
          "output_type": "stream",
          "name": "stdout",
          "text": [
            "0\n",
            "1\n",
            "2\n",
            "3\n",
            "4\n",
            "5\n",
            "\n",
            "2\n",
            "3\n",
            "4\n",
            "5\n",
            "\n",
            "2\n",
            "5\n",
            "8\n",
            "11\n",
            "14\n",
            "17\n",
            "20\n",
            "23\n",
            "26\n",
            "29\n",
            "\n",
            "0\n",
            "1\n",
            "2\n",
            "3\n",
            "4\n",
            "5\n",
            "Finally finished!\n",
            "\n",
            "0\n",
            "1\n",
            "2\n",
            "\n",
            "red apple\n",
            "red banana\n",
            "red cherry\n",
            "big apple\n",
            "big banana\n",
            "big cherry\n",
            "tasty apple\n",
            "tasty banana\n",
            "tasty cherry\n"
          ]
        }
      ]
    },
    {
      "cell_type": "markdown",
      "source": [
        "##Python Function\n",
        "Fungsi pada python dibuat menggunakan keyword 'def'. Fungsi pada python juga bisa mengandung satu atau lebih argumen/parameter."
      ],
      "metadata": {
        "id": "wCS3G2WUaM5V"
      }
    },
    {
      "cell_type": "code",
      "source": [
        "#creating function\n",
        "def my_function():\n",
        "  print(\"Hello from a function\")\n",
        "\n",
        "#memanggil function\n",
        "my_function()"
      ],
      "metadata": {
        "colab": {
          "base_uri": "https://localhost:8080/"
        },
        "id": "f5q4MIB1aV7W",
        "outputId": "07d6ac6e-8434-4362-dbee-688de8e6fd6a"
      },
      "execution_count": 9,
      "outputs": [
        {
          "output_type": "stream",
          "name": "stdout",
          "text": [
            "Hello from a function\n"
          ]
        }
      ]
    },
    {
      "cell_type": "code",
      "source": [
        "#contoh argument/parameter\n",
        "def my_function(fname):\n",
        "  print(fname + \" Refsnes\")\n",
        "\n",
        "my_function(\"Emil\")\n",
        "my_function(\"Tobias\")\n",
        "my_function(\"Linus\")"
      ],
      "metadata": {
        "colab": {
          "base_uri": "https://localhost:8080/"
        },
        "id": "Dn1kSE_Eaz4W",
        "outputId": "67e9855f-bcd3-425f-de77-36cdf8cd9aa9"
      },
      "execution_count": 10,
      "outputs": [
        {
          "output_type": "stream",
          "name": "stdout",
          "text": [
            "Emil Refsnes\n",
            "Tobias Refsnes\n",
            "Linus Refsnes\n"
          ]
        }
      ]
    },
    {
      "cell_type": "code",
      "source": [
        "#2 argumen/parameter\n",
        "def my_function(fname, lname):\n",
        "  print(fname + \" \" + lname)\n",
        "\n",
        "my_function(\"Emil\", \"Refsnes\")"
      ],
      "metadata": {
        "colab": {
          "base_uri": "https://localhost:8080/"
        },
        "id": "-Y3754ftbdzC",
        "outputId": "328365d1-6bd9-46c2-d7f6-62724ae0a70e"
      },
      "execution_count": 11,
      "outputs": [
        {
          "output_type": "stream",
          "name": "stdout",
          "text": [
            "Emil Refsnes\n"
          ]
        }
      ]
    },
    {
      "cell_type": "code",
      "source": [
        "#contoh error karena jumlah argumen pada fungsi dan ssaat memanggil berbeda\n",
        "def my_function(fname, lname):\n",
        "  print(fname + \" \" + lname)\n",
        "\n",
        "my_function(\"Emil\")"
      ],
      "metadata": {
        "id": "xvip0_Ztbmww"
      },
      "execution_count": null,
      "outputs": []
    },
    {
      "cell_type": "code",
      "source": [
        "#Arbitrary Keyword Arguments, **kwargs (digunakan jika tidak mengetahui berapa banyak parameter pada saat melakukan pemanggilan fungsi yang akan membuat parameter menjadi seperti dictionary)\n",
        "def my_function(**kid):\n",
        "  print(\"His last name is \" + kid[\"lname\"])\n",
        "\n",
        "my_function(fname = \"Tobias\", lname = \"Refsnes\")\n"
      ],
      "metadata": {
        "colab": {
          "base_uri": "https://localhost:8080/"
        },
        "id": "TPE4ER0cbxHN",
        "outputId": "084acf21-64ff-4d18-d103-4c102981370f"
      },
      "execution_count": 12,
      "outputs": [
        {
          "output_type": "stream",
          "name": "stdout",
          "text": [
            "His last name is Refsnes\n"
          ]
        }
      ]
    },
    {
      "cell_type": "code",
      "source": [
        "#default parameter(fungsi dapat dipanggil tanpa menggunakan parameter karna sudah ada nilai default)\n",
        "def my_function(country = \"Norway\"):\n",
        "  print(\"I am from \" + country)\n",
        "\n",
        "my_function(\"Sweden\")\n",
        "my_function(\"India\")\n",
        "my_function()\n",
        "my_function(\"Brazil\")"
      ],
      "metadata": {
        "colab": {
          "base_uri": "https://localhost:8080/"
        },
        "id": "ua9ECdYBcsO1",
        "outputId": "346912fa-acca-44dd-c693-e9826c4a51dc"
      },
      "execution_count": 13,
      "outputs": [
        {
          "output_type": "stream",
          "name": "stdout",
          "text": [
            "I am from Sweden\n",
            "I am from India\n",
            "I am from Norway\n",
            "I am from Brazil\n"
          ]
        }
      ]
    },
    {
      "cell_type": "code",
      "source": [
        "#passing list(bisa string, number, dict, etc) menjadi argumen/parameter\n",
        "def my_function(food):\n",
        "  for x in food:\n",
        "    print(x)\n",
        "\n",
        "fruits = [\"apple\", \"banana\", \"cherry\"]\n",
        "\n",
        "my_function(fruits)"
      ],
      "metadata": {
        "colab": {
          "base_uri": "https://localhost:8080/"
        },
        "id": "Ww5UAtfxdAYa",
        "outputId": "0b723c51-595b-4f9d-d44a-2c95252cdc2d"
      },
      "execution_count": 14,
      "outputs": [
        {
          "output_type": "stream",
          "name": "stdout",
          "text": [
            "apple\n",
            "banana\n",
            "cherry\n"
          ]
        }
      ]
    },
    {
      "cell_type": "code",
      "source": [
        "#return value(fungsi yang mengembalikan nilai)\n",
        "def my_function(x):\n",
        "  return 5 * x\n",
        "\n",
        "print(my_function(3))\n",
        "print(my_function(5))\n",
        "print(my_function(9))"
      ],
      "metadata": {
        "colab": {
          "base_uri": "https://localhost:8080/"
        },
        "id": "PVGgH-JwdPPC",
        "outputId": "302dbfff-e793-44bc-f21d-e79cd3fe2476"
      },
      "execution_count": 15,
      "outputs": [
        {
          "output_type": "stream",
          "name": "stdout",
          "text": [
            "15\n",
            "25\n",
            "45\n"
          ]
        }
      ]
    },
    {
      "cell_type": "code",
      "source": [
        "#pass statement(untuk menghindari error karena fungsi tidak boleh kosong)\n",
        "def myfunction():\n",
        "  pass"
      ],
      "metadata": {
        "id": "lyXCzc1GdZj0"
      },
      "execution_count": 16,
      "outputs": []
    },
    {
      "cell_type": "code",
      "source": [
        "#rekursif(fungsi yang memanggil dirinya sendiri)\n",
        "def tri_recursion(k):\n",
        "  if(k > 0):\n",
        "    result = k + tri_recursion(k - 1)\n",
        "    print(result)\n",
        "  else:\n",
        "    result = 0\n",
        "  return result\n",
        "\n",
        "print(\"\\n\\nRecursion Example Results\")\n",
        "tri_recursion(6)"
      ],
      "metadata": {
        "colab": {
          "base_uri": "https://localhost:8080/"
        },
        "id": "igBLbLT3dirD",
        "outputId": "fcaf63f5-4032-4795-ce62-c1fa4aa29e13"
      },
      "execution_count": 17,
      "outputs": [
        {
          "output_type": "stream",
          "name": "stdout",
          "text": [
            "\n",
            "\n",
            "Recursion Example Results\n",
            "1\n",
            "3\n",
            "6\n",
            "10\n",
            "15\n",
            "21\n"
          ]
        },
        {
          "output_type": "execute_result",
          "data": {
            "text/plain": [
              "21"
            ]
          },
          "metadata": {},
          "execution_count": 17
        }
      ]
    }
  ]
}