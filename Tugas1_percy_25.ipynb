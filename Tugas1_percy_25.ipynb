{
  "nbformat": 4,
  "nbformat_minor": 0,
  "metadata": {
    "colab": {
      "name": "Tugas1_percy 25.ipynb",
      "provenance": [],
      "collapsed_sections": []
    },
    "kernelspec": {
      "name": "python3",
      "display_name": "Python 3"
    },
    "language_info": {
      "name": "python"
    }
  },
  "cells": [
    {
      "cell_type": "markdown",
      "source": [
        "**Python Home**"
      ],
      "metadata": {
        "id": "bd1a44sDlBlu"
      }
    },
    {
      "cell_type": "code",
      "execution_count": 1,
      "metadata": {
        "colab": {
          "base_uri": "https://localhost:8080/"
        },
        "id": "RblU5BoriCsI",
        "outputId": "104222d3-3baa-4ae1-81ef-d085609b635c"
      },
      "outputs": [
        {
          "output_type": "stream",
          "name": "stdout",
          "text": [
            "Hello, World\n"
          ]
        }
      ],
      "source": [
        "print(\"Hello, World\")"
      ]
    },
    {
      "cell_type": "markdown",
      "source": [
        "**Python Syntax**"
      ],
      "metadata": {
        "id": "g-7WAYCmlGFx"
      }
    },
    {
      "cell_type": "code",
      "source": [
        "if (5>2):\n",
        "  print(\"lima lebih besar dari dua\")"
      ],
      "metadata": {
        "colab": {
          "base_uri": "https://localhost:8080/"
        },
        "id": "hu2eBPCRj_0o",
        "outputId": "ae0bf360-b405-4772-dbe3-2c472b6c1960"
      },
      "execution_count": 2,
      "outputs": [
        {
          "output_type": "stream",
          "name": "stdout",
          "text": [
            "lima lebih besar dari dua\n"
          ]
        }
      ]
    },
    {
      "cell_type": "code",
      "source": [
        "x = 5\n",
        "y = \"Hello, World\"\n",
        "# print x dan y\n",
        "print(x , y)"
      ],
      "metadata": {
        "colab": {
          "base_uri": "https://localhost:8080/"
        },
        "id": "ik0VhCMMkQ7u",
        "outputId": "b9d0987e-729b-415d-8533-0eef101cc653"
      },
      "execution_count": 3,
      "outputs": [
        {
          "output_type": "stream",
          "name": "stdout",
          "text": [
            "5 Hello, World\n"
          ]
        }
      ]
    },
    {
      "cell_type": "markdown",
      "source": [
        "**Python Comment**"
      ],
      "metadata": {
        "id": "37hMEY27lL3e"
      }
    },
    {
      "cell_type": "code",
      "source": [
        "# this is comment\n",
        "print(\"hello world\") # this is comment too"
      ],
      "metadata": {
        "colab": {
          "base_uri": "https://localhost:8080/"
        },
        "id": "6fvJ8C5Dkt6f",
        "outputId": "03599a38-3fdc-4409-92a4-5672de85a6fb"
      },
      "execution_count": 4,
      "outputs": [
        {
          "output_type": "stream",
          "name": "stdout",
          "text": [
            "hello world\n"
          ]
        }
      ]
    },
    {
      "cell_type": "markdown",
      "source": [
        "**Python Variabel**"
      ],
      "metadata": {
        "id": "_LVQ8b0alYjW"
      }
    },
    {
      "cell_type": "code",
      "source": [
        "# mengoverwrite variabel\n",
        "x = 4       # x is of type integer\n",
        "x = \"Sally\" # x is now of type string\n",
        "print(x)"
      ],
      "metadata": {
        "colab": {
          "base_uri": "https://localhost:8080/"
        },
        "id": "UmQwgbsrk7xm",
        "outputId": "07937444-c0d4-4e46-d5ef-05086cebaf6f"
      },
      "execution_count": 5,
      "outputs": [
        {
          "output_type": "stream",
          "name": "stdout",
          "text": [
            "Sally\n"
          ]
        }
      ]
    },
    {
      "cell_type": "code",
      "source": [
        "# casting\n",
        "x = str(3)    # x will be '3' string\n",
        "y = int(3)    # y will be 3 integer\n",
        "z = float(3)  # z will be 3.0 desimal"
      ],
      "metadata": {
        "id": "HXJspaGqlzOU"
      },
      "execution_count": 6,
      "outputs": []
    },
    {
      "cell_type": "code",
      "source": [
        "# melihat tipe data pada python\n",
        "x = 5\n",
        "y = \"John\"\n",
        "print(type(x))\n",
        "print(type(y))"
      ],
      "metadata": {
        "colab": {
          "base_uri": "https://localhost:8080/"
        },
        "id": "xTAFGrQVl_Du",
        "outputId": "3c93d09d-1d1c-431f-c7c8-432af05e9d5e"
      },
      "execution_count": 7,
      "outputs": [
        {
          "output_type": "stream",
          "name": "stdout",
          "text": [
            "<class 'int'>\n",
            "<class 'str'>\n"
          ]
        }
      ]
    },
    {
      "cell_type": "code",
      "source": [
        "# penggunaan double quotes dan single quotes pada string \n",
        "x = \"John\"\n",
        "# is the same as\n",
        "x = 'John'"
      ],
      "metadata": {
        "id": "j63tD4BDmGLG"
      },
      "execution_count": 8,
      "outputs": []
    },
    {
      "cell_type": "code",
      "source": [
        "# case sensitive, jadi huruf kecil dan kapital memliki perbedaan di python\n",
        "a = 4\n",
        "A = \"Sally\"\n",
        "print(a)"
      ],
      "metadata": {
        "colab": {
          "base_uri": "https://localhost:8080/"
        },
        "id": "HHylM3Kgmd7u",
        "outputId": "27cf53c7-38db-4540-da8f-934dd5d4de67"
      },
      "execution_count": 9,
      "outputs": [
        {
          "output_type": "stream",
          "name": "stdout",
          "text": [
            "4\n"
          ]
        }
      ]
    },
    {
      "cell_type": "code",
      "source": [
        "# legal variabel name pada python\n",
        "myvar = \"John\"\n",
        "my_var = \"John\"\n",
        "_my_var = \"John\"\n",
        "myVar = \"John\"\n",
        "MYVAR = \"John\"\n",
        "myvar2 = \"John\"\n",
        "\n",
        "\n",
        "print(myvar)\n",
        "print(my_var)\n",
        "print(_my_var)\n",
        "print(myVar)\n",
        "print(MYVAR)\n",
        "print(myvar2)"
      ],
      "metadata": {
        "colab": {
          "base_uri": "https://localhost:8080/"
        },
        "id": "5d1WoWBdmtzH",
        "outputId": "e95fd4a9-86c5-4492-df61-57bcb891c0ab"
      },
      "execution_count": 10,
      "outputs": [
        {
          "output_type": "stream",
          "name": "stdout",
          "text": [
            "John\n",
            "John\n",
            "John\n",
            "John\n",
            "John\n",
            "John\n"
          ]
        }
      ]
    },
    {
      "cell_type": "code",
      "source": [
        "# memdefinisikan banyak variabel dengan 1 line\n",
        "x, y, z = \"Orange\", \"Banana\", \"Cherry\"\n",
        "\n",
        "print(x)\n",
        "print(y)\n",
        "print(z)\n"
      ],
      "metadata": {
        "colab": {
          "base_uri": "https://localhost:8080/"
        },
        "id": "qSRFN_CTnK8v",
        "outputId": "a87f2ebc-8dad-4b62-c0f6-e99bc5c37699"
      },
      "execution_count": 11,
      "outputs": [
        {
          "output_type": "stream",
          "name": "stdout",
          "text": [
            "Orange\n",
            "Banana\n",
            "Cherry\n"
          ]
        }
      ]
    },
    {
      "cell_type": "code",
      "source": [
        "# satu value dengan banyak variabel\n",
        "x = y = z = \"Orange\"\n",
        "\n",
        "print(x)\n",
        "print(y)\n",
        "print(z)\n"
      ],
      "metadata": {
        "colab": {
          "base_uri": "https://localhost:8080/"
        },
        "id": "tZElZLFGndW2",
        "outputId": "df108053-fec4-427a-8cfe-879ab99de0b6"
      },
      "execution_count": 12,
      "outputs": [
        {
          "output_type": "stream",
          "name": "stdout",
          "text": [
            "Orange\n",
            "Orange\n",
            "Orange\n"
          ]
        }
      ]
    },
    {
      "cell_type": "code",
      "source": [
        "# unpacking a collection, jika kita punya list(array). maka kita dapat mengassign satu persatu \n",
        "# elemen dalam masing2 variabel dengan syarat jumlah variabel nya sama dengan jumlah elemen pada array\n",
        "fruits = [\"apple\", \"banana\", \"cherry\"]\n",
        "x, y, z = fruits\n",
        "\n",
        "print(x)\n",
        "print(y)\n",
        "print(z)"
      ],
      "metadata": {
        "colab": {
          "base_uri": "https://localhost:8080/"
        },
        "id": "KVyyxyQknkZ2",
        "outputId": "39856285-a08d-4155-e103-87c990bf8100"
      },
      "execution_count": 13,
      "outputs": [
        {
          "output_type": "stream",
          "name": "stdout",
          "text": [
            "apple\n",
            "banana\n",
            "cherry\n"
          ]
        }
      ]
    },
    {
      "cell_type": "code",
      "source": [
        "# mengkombinasikan variabel dengan teks / variabel lain \n",
        "# saat menprint pada terminal\n",
        "x = \"halo\"\n",
        "y = \" kakak\"\n",
        "a = 5 ; b = 10\n",
        "\n",
        "print(x + y , a + b)"
      ],
      "metadata": {
        "colab": {
          "base_uri": "https://localhost:8080/"
        },
        "id": "vJyRq4QyoLsW",
        "outputId": "f0cd08e3-4a19-4538-c174-1e02816b1158"
      },
      "execution_count": 14,
      "outputs": [
        {
          "output_type": "stream",
          "name": "stdout",
          "text": [
            "halo kakak 15\n"
          ]
        }
      ]
    },
    {
      "cell_type": "code",
      "source": [
        "# Contoh Variabel Global (x) yang bisa digunakna untuk semua fungsi\n",
        "x = \"awesome\"\n",
        "\n",
        "def myfunc():\n",
        "  print(\"Python is \" + x)\n",
        "\n",
        "myfunc()"
      ],
      "metadata": {
        "colab": {
          "base_uri": "https://localhost:8080/"
        },
        "id": "QMgpv3EKpCrn",
        "outputId": "b5dd1386-f389-4e8e-cd52-31177c0b4d05"
      },
      "execution_count": 15,
      "outputs": [
        {
          "output_type": "stream",
          "name": "stdout",
          "text": [
            "Python is awesome\n"
          ]
        }
      ]
    },
    {
      "cell_type": "code",
      "source": [
        "# pada fungsi adalah variabel lokal scope dan pada x = awesome adalah global variabel\n",
        "x = \"awesome\"\n",
        "\n",
        "def myfunc():\n",
        "  x = \"fantastic\"\n",
        "  print(\"Python is \" + x)\n",
        "\n",
        "myfunc()\n",
        "\n",
        "print(\"Python is \" + x)"
      ],
      "metadata": {
        "colab": {
          "base_uri": "https://localhost:8080/"
        },
        "id": "uWaii7lEpOVO",
        "outputId": "fdff678f-19e7-45b1-c77b-f93b851aa6ee"
      },
      "execution_count": 16,
      "outputs": [
        {
          "output_type": "stream",
          "name": "stdout",
          "text": [
            "Python is fantastic\n",
            "Python is awesome\n"
          ]
        }
      ]
    },
    {
      "cell_type": "code",
      "source": [
        "# pada python kita dapat membuat variabel lokal menjadi variabel global\n",
        "# dan merubah variabel global dari variabel scope\n",
        "x = \"awesome\"\n",
        "def myfunc():\n",
        "  global x\n",
        "  x = \"fantastic\"\n",
        "\n",
        "myfunc()\n",
        "\n",
        "print(\"Python is \" + x)"
      ],
      "metadata": {
        "colab": {
          "base_uri": "https://localhost:8080/"
        },
        "id": "0-LXDckxpcVd",
        "outputId": "c6ca01dd-db72-4fe9-bdc3-9913e940f3df"
      },
      "execution_count": 17,
      "outputs": [
        {
          "output_type": "stream",
          "name": "stdout",
          "text": [
            "Python is fantastic\n"
          ]
        }
      ]
    },
    {
      "cell_type": "markdown",
      "source": [
        "**Python Data Type**"
      ],
      "metadata": {
        "id": "rxNy9RIyqo4V"
      }
    },
    {
      "cell_type": "code",
      "source": [
        "# melihat tipe data python\n",
        "a = 5\n",
        "b = \"wonderfull\"\n",
        "c = 3.32\n",
        "d = [5,2,'who']\n",
        "e = (1,2,3)\n",
        "f = {1,2,3}\n",
        "g = {'a':[1,2,3],\n",
        "     'b':['soap','tootbrush']}\n",
        "h = True\n",
        "i = 1j\n",
        "print(type(a))\n",
        "print(type(b))\n",
        "print(type(c))\n",
        "print(type(d))\n",
        "print(type(e))\n",
        "print(type(f))\n",
        "print(type(g))\n",
        "print(type(h))\n",
        "print(type(i))"
      ],
      "metadata": {
        "colab": {
          "base_uri": "https://localhost:8080/"
        },
        "id": "hjoo8yg5qLQQ",
        "outputId": "5bf12df0-39ed-49a8-d876-932fa5b0be57"
      },
      "execution_count": 18,
      "outputs": [
        {
          "output_type": "stream",
          "name": "stdout",
          "text": [
            "<class 'int'>\n",
            "<class 'str'>\n",
            "<class 'float'>\n",
            "<class 'list'>\n",
            "<class 'tuple'>\n",
            "<class 'set'>\n",
            "<class 'dict'>\n",
            "<class 'bool'>\n",
            "<class 'complex'>\n"
          ]
        }
      ]
    },
    {
      "cell_type": "markdown",
      "source": [
        "**Python Number**"
      ],
      "metadata": {
        "id": "2iGuFFHPsNdX"
      }
    },
    {
      "cell_type": "code",
      "source": [
        "# konversi satuan pada python\n",
        "x = 1    # int\n",
        "y = 2.8  # float\n",
        "z = 1j   # complex\n",
        "\n",
        "#convert from int to float:\n",
        "a = float(x)\n",
        "\n",
        "#convert from float to int:\n",
        "b = int(y)\n",
        "\n",
        "#convert from int to complex:\n",
        "c = complex(x)\n",
        "\n",
        "print(a)\n",
        "print(b)\n",
        "print(c)\n",
        "\n",
        "print(type(a))\n",
        "print(type(b))\n",
        "print(type(c))"
      ],
      "metadata": {
        "colab": {
          "base_uri": "https://localhost:8080/"
        },
        "id": "2xu9FW5VsIeT",
        "outputId": "3d2ec3b5-780e-402c-e00e-1211c3673c8b"
      },
      "execution_count": 19,
      "outputs": [
        {
          "output_type": "stream",
          "name": "stdout",
          "text": [
            "1.0\n",
            "2\n",
            "(1+0j)\n",
            "<class 'float'>\n",
            "<class 'int'>\n",
            "<class 'complex'>\n"
          ]
        }
      ]
    },
    {
      "cell_type": "code",
      "source": [
        "# generate random number pada python\n",
        "import random\n",
        "\n",
        "print(random.randrange(1, 10))"
      ],
      "metadata": {
        "colab": {
          "base_uri": "https://localhost:8080/"
        },
        "id": "Y27Z_llpuYSj",
        "outputId": "6d1ea91b-cee5-4a11-9798-be19460e583d"
      },
      "execution_count": 20,
      "outputs": [
        {
          "output_type": "stream",
          "name": "stdout",
          "text": [
            "8\n"
          ]
        }
      ]
    },
    {
      "cell_type": "markdown",
      "source": [
        "**Python Casting**"
      ],
      "metadata": {
        "id": "X4V6vROQuYnG"
      }
    },
    {
      "cell_type": "code",
      "source": [
        "# mengkonversi teks menjadi angka dan sebaliknya\n",
        "a1 = 5\n",
        "b1 = '10'\n",
        "\n",
        "print(a1)\n",
        "print(b1)\n",
        "\n",
        "a2 = str(a1)\n",
        "b2 = int(b1)\n",
        "\n",
        "print(type(a2))\n",
        "print(type(b2))\n"
      ],
      "metadata": {
        "colab": {
          "base_uri": "https://localhost:8080/"
        },
        "id": "BeXQDUzQuvbm",
        "outputId": "7a1a8862-a068-4fa3-cc92-e0595577912f"
      },
      "execution_count": 21,
      "outputs": [
        {
          "output_type": "stream",
          "name": "stdout",
          "text": [
            "5\n",
            "10\n",
            "<class 'str'>\n",
            "<class 'int'>\n"
          ]
        }
      ]
    },
    {
      "cell_type": "markdown",
      "source": [
        "**Python String**"
      ],
      "metadata": {
        "id": "kp83pS_HvHxl"
      }
    },
    {
      "cell_type": "code",
      "source": [
        "# format multilateral string\n",
        "a = (f\"\"\"Lorem ipsum dolor sit amet,\n",
        "consectetur adipiscing elit,\n",
        "sed do eiusmod tempor incididunt\n",
        "ut labore et dolore magna aliqua.\n",
        "\"\"\")\n",
        "print(a)"
      ],
      "metadata": {
        "colab": {
          "base_uri": "https://localhost:8080/"
        },
        "id": "Uzz809kBuvnc",
        "outputId": "a06ab1ef-eeca-4255-fb1d-f23914898dab"
      },
      "execution_count": 22,
      "outputs": [
        {
          "output_type": "stream",
          "name": "stdout",
          "text": [
            "Lorem ipsum dolor sit amet,\n",
            "consectetur adipiscing elit,\n",
            "sed do eiusmod tempor incididunt\n",
            "ut labore et dolore magna aliqua.\n",
            "\n"
          ]
        }
      ]
    },
    {
      "cell_type": "code",
      "source": [
        "# array in string\n",
        "a = \"banana\"\n",
        "print(a[2],\"\\n\")\n",
        "\n",
        "for i in a:\n",
        "  print(i)\n",
        "print(\"\\n\")\n",
        "\n",
        "# panjang string\n",
        "a = \"helllo, world\"\n",
        "print(len(a))\n",
        "\n",
        "# checking word in string\n",
        "a = \"pisang di rumah nenek\"\n",
        "if \"makan\" in a:\n",
        "  print(f\"\"\" ada 'makan' di variabel a  \"\"\")\n",
        "else:\n",
        "  print(f\"\"\" tidak ada 'makan' didalam variabel a \"\"\")\n"
      ],
      "metadata": {
        "colab": {
          "base_uri": "https://localhost:8080/"
        },
        "id": "O4PPUzeiwbaG",
        "outputId": "cbece91c-3f54-4747-b39a-09171a5d7788"
      },
      "execution_count": 23,
      "outputs": [
        {
          "output_type": "stream",
          "name": "stdout",
          "text": [
            "n \n",
            "\n",
            "b\n",
            "a\n",
            "n\n",
            "a\n",
            "n\n",
            "a\n",
            "\n",
            "\n",
            "13\n",
            " tidak ada 'makan' didalam variabel a \n"
          ]
        }
      ]
    },
    {
      "cell_type": "code",
      "source": [
        "# slicing string dan indexing dengan negatif\n",
        "b = \"Hello, World!\"\n",
        "\n",
        "a = b[:5]\n",
        "c = b[-6:-1]\n",
        "\n",
        "print(a)\n",
        "print(c)"
      ],
      "metadata": {
        "colab": {
          "base_uri": "https://localhost:8080/"
        },
        "id": "QLtVFtUcyC4V",
        "outputId": "098fe665-5543-4e91-85ae-55ef850071d5"
      },
      "execution_count": 24,
      "outputs": [
        {
          "output_type": "stream",
          "name": "stdout",
          "text": [
            "Hello\n",
            "World\n"
          ]
        }
      ]
    },
    {
      "cell_type": "code",
      "source": [
        "# modify string\n",
        "a = \"Hello, World!\"\n",
        "print(a.upper())\n",
        "\n",
        "a = \"Hello, World!\"\n",
        "print(a.lower())\n",
        "\n",
        "# strip() akan menghilangkan spasi pada awal kalimat dan akhir kalimat\n",
        "a = \" Hello, World! \"\n",
        "print(a.strip()) # returns \"Hello, World!\"\n",
        "\n",
        "a = \"Hello, World!\"\n",
        "print(a.replace(\"Hello\", \"Oyasumi\"))\n",
        "\n",
        "# split() merubah string menjadi list\n",
        "a = \"Hello, World!\"\n",
        "print(a.split(\",\")) # returns ['Hello', ' World!']"
      ],
      "metadata": {
        "colab": {
          "base_uri": "https://localhost:8080/"
        },
        "id": "1I1YsmGsy9QG",
        "outputId": "5e827529-c53d-46b0-bacf-58c044f58a89"
      },
      "execution_count": 25,
      "outputs": [
        {
          "output_type": "stream",
          "name": "stdout",
          "text": [
            "HELLO, WORLD!\n",
            "hello, world!\n",
            "Hello, World!\n",
            "Oyasumi, World!\n",
            "['Hello', ' World!']\n"
          ]
        }
      ]
    },
    {
      "cell_type": "code",
      "source": [
        "# format string\n",
        "a = 5\n",
        "b = \"senilai\"\n",
        "print(f\"\"\"variabel a {b} {a}\"\"\")"
      ],
      "metadata": {
        "colab": {
          "base_uri": "https://localhost:8080/"
        },
        "id": "_mDE9GsbzmH0",
        "outputId": "a9764114-d588-4dfd-8974-15f737f3964a"
      },
      "execution_count": 26,
      "outputs": [
        {
          "output_type": "stream",
          "name": "stdout",
          "text": [
            "variabel a senilai 5\n"
          ]
        }
      ]
    },
    {
      "cell_type": "code",
      "source": [
        "# escape quotes\n",
        "a = \"they are called themselves a \\\"guardian\\\" which is means they are soldier of lunatia kingdom\"\n",
        "print(a)"
      ],
      "metadata": {
        "colab": {
          "base_uri": "https://localhost:8080/"
        },
        "id": "tRUD-Sd7z7rr",
        "outputId": "46cb1fab-ee27-41ba-ef8b-21d23e22f3df"
      },
      "execution_count": 27,
      "outputs": [
        {
          "output_type": "stream",
          "name": "stdout",
          "text": [
            "they are called themselves a \"guardian\" which is means they are soldier of lunatia kingdom\n"
          ]
        }
      ]
    },
    {
      "cell_type": "markdown",
      "source": [
        "**Python Bool**"
      ],
      "metadata": {
        "id": "LFUHtyWJ0458"
      }
    },
    {
      "cell_type": "code",
      "source": [
        "a= bool(\"abc\")\n",
        "b= bool(123)\n",
        "c= bool([\"apple\", \"cherry\", \"banana\"])\n",
        "d= bool({})\n",
        "e= bool([])\n",
        "\n",
        "print(a)\n",
        "print(b)\n",
        "print(c)\n",
        "print(d)\n",
        "print(e)"
      ],
      "metadata": {
        "colab": {
          "base_uri": "https://localhost:8080/"
        },
        "id": "1FpwZ_FQ0i17",
        "outputId": "5a0735bd-d7eb-4f01-f6d8-f30a770d66ec"
      },
      "execution_count": 28,
      "outputs": [
        {
          "output_type": "stream",
          "name": "stdout",
          "text": [
            "True\n",
            "True\n",
            "True\n",
            "False\n",
            "False\n"
          ]
        }
      ]
    },
    {
      "cell_type": "code",
      "source": [
        "#  class yang akan mereturn bool akan bernilai false jika mengembalikan nilai 0\n",
        "class myclass():\n",
        "  def __len__(self):\n",
        "    return 0\n",
        "\n",
        "myobj = myclass()\n",
        "print(bool(myobj))"
      ],
      "metadata": {
        "colab": {
          "base_uri": "https://localhost:8080/"
        },
        "id": "24KfOneV1Yxa",
        "outputId": "c3a2ec7b-b72b-4f0a-c61c-1cdf17c0155a"
      },
      "execution_count": 29,
      "outputs": [
        {
          "output_type": "stream",
          "name": "stdout",
          "text": [
            "False\n"
          ]
        }
      ]
    },
    {
      "cell_type": "code",
      "source": [
        "# fungsi yang mengambalikan nilai bool dan pada percabangan \n",
        "def kebenaran():\n",
        "  return True\n",
        "\n",
        "if kebenaran() == True:\n",
        "  print(\"Kebenaran tak akan kalah\")\n",
        "else:\n",
        "  print(\"Akan tiba waktunya Kebenaran akan menang\")\n",
        "\n",
        "kebenaran()"
      ],
      "metadata": {
        "colab": {
          "base_uri": "https://localhost:8080/"
        },
        "id": "lUFirW691c8C",
        "outputId": "1b2728c6-b194-413e-d317-ff523b24e6e9"
      },
      "execution_count": 30,
      "outputs": [
        {
          "output_type": "stream",
          "name": "stdout",
          "text": [
            "Kebenaran tak akan kalah\n"
          ]
        },
        {
          "output_type": "execute_result",
          "data": {
            "text/plain": [
              "True"
            ]
          },
          "metadata": {},
          "execution_count": 30
        }
      ]
    },
    {
      "cell_type": "markdown",
      "source": [
        "**Python Operator**"
      ],
      "metadata": {
        "id": "fJLiOAqf2tYi"
      }
    },
    {
      "cell_type": "code",
      "source": [
        "a = 7%2\n",
        "b = 2**3\n",
        "c = 5/2\n",
        "d = 5//2\n",
        "e = 10\n",
        "e*= 5\n",
        "\n",
        "print(a)\n",
        "print(b)\n",
        "print(c)\n",
        "print(d)\n",
        "print(e)"
      ],
      "metadata": {
        "colab": {
          "base_uri": "https://localhost:8080/"
        },
        "id": "xb-CHWKF2vmR",
        "outputId": "86e7060b-118c-4a8d-a21f-c3252941beaf"
      },
      "execution_count": 31,
      "outputs": [
        {
          "output_type": "stream",
          "name": "stdout",
          "text": [
            "1\n",
            "8\n",
            "2.5\n",
            "2\n",
            "50\n"
          ]
        }
      ]
    },
    {
      "cell_type": "markdown",
      "source": [
        "**Python List**"
      ],
      "metadata": {
        "id": "tqVxFVUa3mlD"
      }
    },
    {
      "cell_type": "code",
      "source": [
        "a = ['javascript','python','c++','php','c','hmtl','CSS']\n",
        "d = [5,3,6,2,25,6]\n",
        "\n",
        "# indexing\n",
        "b = a[1]\n",
        "print(b,\"\\n\")\n",
        "\n",
        "# slicing\n",
        "c = a[:3]\n",
        "print(c,\"\\n\")\n",
        "\n",
        "# panjang list\n",
        "print(len(a),\"\\n\")\n",
        "\n",
        "# sort list\n",
        "e = d.sort()\n",
        "print(d)"
      ],
      "metadata": {
        "colab": {
          "base_uri": "https://localhost:8080/"
        },
        "id": "X4J3qWo83ozZ",
        "outputId": "88681773-f0b3-4bc6-8d41-394945396d72"
      },
      "execution_count": 32,
      "outputs": [
        {
          "output_type": "stream",
          "name": "stdout",
          "text": [
            "python \n",
            "\n",
            "['javascript', 'python', 'c++'] \n",
            "\n",
            "7 \n",
            "\n",
            "[2, 3, 5, 6, 6, 25]\n"
          ]
        }
      ]
    },
    {
      "cell_type": "markdown",
      "source": [
        "**Python Tuple**"
      ],
      "metadata": {
        "id": "vOOxGWzJ5Gu7"
      }
    },
    {
      "cell_type": "code",
      "source": [
        "thistuple = (\"apple\", \"banana\", \"cherry\", \"orange\", \"kiwi\", \"melon\", \"mango\")\n",
        "print(thistuple[2:5],\"\\n\")\n",
        "\n",
        "# join a tuple\n",
        "tuple2 = (1, 2, 3)\n",
        "print(thistuple + tuple2,\"\\n\")\n",
        "\n",
        "# perkalian tuple\n",
        "print(tuple2*2,\"\\n\")\n",
        "\n",
        "# mencari jumlah elemen pada tuple\n",
        "print(thistuple.count(\"orange\"))"
      ],
      "metadata": {
        "colab": {
          "base_uri": "https://localhost:8080/"
        },
        "id": "Nb7zd7xM5mp7",
        "outputId": "e8848392-ed36-44b9-fcd9-843157dd299d"
      },
      "execution_count": 33,
      "outputs": [
        {
          "output_type": "stream",
          "name": "stdout",
          "text": [
            "('cherry', 'orange', 'kiwi') \n",
            "\n",
            "('apple', 'banana', 'cherry', 'orange', 'kiwi', 'melon', 'mango', 1, 2, 3) \n",
            "\n",
            "(1, 2, 3, 1, 2, 3) \n",
            "\n",
            "1\n"
          ]
        }
      ]
    },
    {
      "cell_type": "markdown",
      "source": [
        "**Python Set**"
      ],
      "metadata": {
        "id": "N93gwlog6p3a"
      }
    },
    {
      "cell_type": "code",
      "source": [
        "myset = {\"apple\", \"banana\", \"cherry\"}\n",
        "\n",
        "# menggunakan constructor/konversi ke sets dan menghitung panjang elemen sets\n",
        "set_baru = set([\"avanza\",\"toyota\",\"suzuki\"])\n",
        "print(f\"\"\"tipe data adalah {type(set_baru)} dengan panjang {len(set_baru)} \\n\"\"\")\n",
        "\n",
        "# looping set dan cek elemen\n",
        "for i in set_baru:\n",
        "  print(i)\n",
        "\n",
        "if \"avanza\" in set_baru:\n",
        "  print(\"\\nBenar\\n\")\n",
        "else:\n",
        "  print(\"\\nSalah\\n\")\n",
        "\n",
        "# menambah dan mengurangi elemen sets\n",
        "myset.add(\"monas\")\n",
        "print(myset,\"\\n\")\n",
        "myset.remove(\"apple\")\n",
        "print(myset,\"\\n\")\n",
        "\n",
        "# method union() -> menggabungkan elemen ; update() -> menambahkan elemen\n",
        "set1 = {\"a\", \"b\" , \"c\"}\n",
        "set2 = {1, 2, 3}\n",
        "\n",
        "set3 = set1.union(set2)\n",
        "print(set3)\n",
        "\n",
        "sett1 = {\"a\", \"b\" , \"c\"}\n",
        "sett2 = {1, 2, 3}\n",
        "\n",
        "sett1.update(sett2)\n",
        "print(sett1)"
      ],
      "metadata": {
        "colab": {
          "base_uri": "https://localhost:8080/"
        },
        "id": "LRf6eOuX6pQS",
        "outputId": "1d368ec8-daff-4491-e709-2ee17f2caedf"
      },
      "execution_count": 34,
      "outputs": [
        {
          "output_type": "stream",
          "name": "stdout",
          "text": [
            "tipe data adalah <class 'set'> dengan panjang 3 \n",
            "\n",
            "toyota\n",
            "avanza\n",
            "suzuki\n",
            "\n",
            "Benar\n",
            "\n",
            "{'monas', 'cherry', 'apple', 'banana'} \n",
            "\n",
            "{'monas', 'cherry', 'banana'} \n",
            "\n",
            "{'a', 1, 2, 3, 'c', 'b'}\n",
            "{'a', 1, 2, 3, 'c', 'b'}\n"
          ]
        }
      ]
    },
    {
      "cell_type": "markdown",
      "source": [
        "**Python Dictionary**"
      ],
      "metadata": {
        "id": "gE3k3ZUB9X9o"
      }
    },
    {
      "cell_type": "code",
      "source": [
        "# mengakses key pada dictionary\n",
        "thisdict = {\n",
        "  \"brand\": [\"Ford\",\"toyota\"],\n",
        "  \"model\": [\"Mustang\",\"avanza\"],\n",
        "  \"year\": [1964,2010]\n",
        "}\n",
        "x = thisdict[\"model\"]\n",
        "print(x,\"\\n\")\n",
        "\n",
        "# method melihat semua keys() ; values()\n",
        "print(thisdict.keys())\n",
        "print(thisdict.values(),\"\\n\")\n",
        "\n",
        "# menambahkan key dan value baru ke variabel dictionary\n",
        "thisdict['owner'] = [\"and\",\"budi\"]\n",
        "print(thisdict)\n",
        "\n"
      ],
      "metadata": {
        "colab": {
          "base_uri": "https://localhost:8080/"
        },
        "id": "AJ_zK8fC9atv",
        "outputId": "062db2eb-6bfa-414b-ff4b-2fb3ebb0b07a"
      },
      "execution_count": 35,
      "outputs": [
        {
          "output_type": "stream",
          "name": "stdout",
          "text": [
            "['Mustang', 'avanza'] \n",
            "\n",
            "dict_keys(['brand', 'model', 'year'])\n",
            "dict_values([['Ford', 'toyota'], ['Mustang', 'avanza'], [1964, 2010]]) \n",
            "\n",
            "{'brand': ['Ford', 'toyota'], 'model': ['Mustang', 'avanza'], 'year': [1964, 2010], 'owner': ['and', 'budi']}\n"
          ]
        }
      ]
    },
    {
      "cell_type": "code",
      "source": [
        "# method items() akan mengembalikan setiap item didictionary sebagai tuple didalam list\n",
        "car = {\n",
        "\"brand\": \"Ford\",\n",
        "\"model\": \"Mustang\",\n",
        "\"year\": 1964\n",
        "}\n",
        "\n",
        "x = car.items()\n",
        "\n",
        "print(x) #before the change\n",
        "\n",
        "car[\"year\"] = 2020\n",
        "\n",
        "print(x) #after the change"
      ],
      "metadata": {
        "colab": {
          "base_uri": "https://localhost:8080/"
        },
        "id": "Ueyu1wbI_L1P",
        "outputId": "4933d29c-0e23-495e-901b-03bfdb1bfa7d"
      },
      "execution_count": 36,
      "outputs": [
        {
          "output_type": "stream",
          "name": "stdout",
          "text": [
            "dict_items([('brand', 'Ford'), ('model', 'Mustang'), ('year', 1964)])\n",
            "dict_items([('brand', 'Ford'), ('model', 'Mustang'), ('year', 2020)])\n"
          ]
        }
      ]
    },
    {
      "cell_type": "code",
      "source": [
        "# mengecek apakah key ada di dictionary\n",
        "thisdict = {\n",
        "  \"brand\": \"Ford\",\n",
        "  \"model\": \"Mustang\",\n",
        "  \"year\": 1964\n",
        "}\n",
        "if \"model\" in thisdict:\n",
        "  print(\"Yes, 'model' is one of the keys in the thisdict dictionary\")"
      ],
      "metadata": {
        "colab": {
          "base_uri": "https://localhost:8080/"
        },
        "id": "qp64ORJW_eTZ",
        "outputId": "7cb91992-379a-4117-d581-de1b88126e6a"
      },
      "execution_count": 37,
      "outputs": [
        {
          "output_type": "stream",
          "name": "stdout",
          "text": [
            "Yes, 'model' is one of the keys in the thisdict dictionary\n"
          ]
        }
      ]
    },
    {
      "cell_type": "code",
      "source": [
        "# merubah nilai dict , tidak harus sama banyaknya value seperti value sebelumnya\n",
        "thisdict = {\n",
        "  \"brand\": [\"Ford\",\"toyota\"],\n",
        "  \"model\": [\"Mustang\",\"avanza\"],\n",
        "  \"year\": [1964,2010]\n",
        "}\n",
        "\n",
        "thisdict['year'] = 2000\n",
        "print(thisdict)"
      ],
      "metadata": {
        "colab": {
          "base_uri": "https://localhost:8080/"
        },
        "id": "vAy4-Xob_kKR",
        "outputId": "56ded148-1ebf-43fd-8a8f-0837cc20cb98"
      },
      "execution_count": 38,
      "outputs": [
        {
          "output_type": "stream",
          "name": "stdout",
          "text": [
            "{'brand': ['Ford', 'toyota'], 'model': ['Mustang', 'avanza'], 'year': 2000}\n"
          ]
        }
      ]
    },
    {
      "cell_type": "code",
      "source": [
        "# deleting dictionary dan clear\n",
        "thisdict = {\n",
        "  \"brand\": [\"Ford\",\"toyota\"],\n",
        "  \"model\": [\"Mustang\",\"avanza\"],\n",
        "  \"year\": [1964,2010]\n",
        "}\n",
        "\n",
        "thisdict.pop(\"brand\")\n",
        "print(thisdict)\n",
        "\n",
        "thisdict.clear()\n",
        "print(thisdict)"
      ],
      "metadata": {
        "colab": {
          "base_uri": "https://localhost:8080/"
        },
        "id": "iAFXxdCoAWBJ",
        "outputId": "7705a783-ff52-482c-83a0-cbbd1f289e0a"
      },
      "execution_count": 39,
      "outputs": [
        {
          "output_type": "stream",
          "name": "stdout",
          "text": [
            "{'model': ['Mustang', 'avanza'], 'year': [1964, 2010]}\n",
            "{}\n"
          ]
        }
      ]
    },
    {
      "cell_type": "code",
      "source": [
        "# looping \n",
        "thisdict = {\n",
        "  \"brand\": [\"Ford\",\"toyota\"],\n",
        "  \"model\": [\"Mustang\",\"avanza\"],\n",
        "  \"year\": [1964,2010]\n",
        "}\n",
        "for x in thisdict.values():\n",
        "  print(x)"
      ],
      "metadata": {
        "colab": {
          "base_uri": "https://localhost:8080/"
        },
        "id": "LXKXEYDcA7-4",
        "outputId": "ac3ae301-8e67-444c-df85-795c20b0005f"
      },
      "execution_count": 40,
      "outputs": [
        {
          "output_type": "stream",
          "name": "stdout",
          "text": [
            "['Ford', 'toyota']\n",
            "['Mustang', 'avanza']\n",
            "[1964, 2010]\n"
          ]
        }
      ]
    },
    {
      "cell_type": "code",
      "source": [
        "# nested dictionary\n",
        "myfamily = {\n",
        "  \"child1\" : {\n",
        "    \"name\" : \"Emil\",\n",
        "    \"year\" : 2004\n",
        "  },\n",
        "  \"child2\" : {\n",
        "    \"name\" : \"Tobias\",\n",
        "    \"year\" : 2007\n",
        "  },\n",
        "  \"child3\" : {\n",
        "    \"name\" : \"Linus\",\n",
        "    \"year\" : 2011\n",
        "  }\n",
        "}\n",
        "\n",
        "print(myfamily)"
      ],
      "metadata": {
        "colab": {
          "base_uri": "https://localhost:8080/"
        },
        "id": "Y7kAvqF4BAow",
        "outputId": "21224471-988b-4001-904e-af116eebec7c"
      },
      "execution_count": 41,
      "outputs": [
        {
          "output_type": "stream",
          "name": "stdout",
          "text": [
            "{'child1': {'name': 'Emil', 'year': 2004}, 'child2': {'name': 'Tobias', 'year': 2007}, 'child3': {'name': 'Linus', 'year': 2011}}\n"
          ]
        }
      ]
    }
  ]
}