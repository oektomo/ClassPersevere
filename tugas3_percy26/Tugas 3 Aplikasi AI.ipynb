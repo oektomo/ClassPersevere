{
 "cells": [
  {
   "cell_type": "markdown",
   "id": "ec43209c",
   "metadata": {},
   "source": [
    "# Tugas 3 - Aplikasi AI\n",
    "\n",
    "- Data Science\n",
    "- Computer Vision\n",
    "- Natural Language Processing\n",
    "\n",
    "Tuliskan contoh konkret dari aplikasi tiap bidang (minimal 2 buah setiap bidang) dan jelaskan secara singkat apa yang dilakukan dalam contoh yang kamu berikan."
   ]
  },
  {
   "cell_type": "markdown",
   "id": "7573bea6",
   "metadata": {},
   "source": [
    "## Jawabannya :"
   ]
  },
  {
   "cell_type": "markdown",
   "id": "41224816",
   "metadata": {},
   "source": [
    "### 1. Data Science\n",
    "Apa itu Data Science? --> ilmu yang sedang naik daun saat ini yang dibangun berdasarkan disiplin ilmu matematika, statistik, dan komputer.\n",
    "#### Contoh :\n",
    "Bagaimana sih Contoh penerapan data science sekarang?\n",
    "\n",
    "Salah satunya, Contoh penerapan data science di bidang kesehatan yang paling relevan \n",
    "dengan kondisi sekarang ini adalah untuk mengetahui perkembangan Covid-19 di Indonesia.\n",
    "\n",
    "Selain itu, data science pun ikut menghubungkan berbagai bidang pekerjaan dengan tujuan \n",
    "melakukan proses perhitungan yang bertujuan untuk menerjemahkan data untuk pengambilan.\n",
    "\n",
    "Jadi, apa saja contoh dari penerapan ilmu data science di bidang atau dunia perindustrian? \n",
    "Berikut uraian lengkapnya:\n",
    "##### a. E-Commerce\n",
    "Saat ini di Indonesia sendiri, E-Commerce sudah semakin marak bermunculan dan tidak sedikit orang-orang yang memilih berbelanja secara online melalui situs sejenis ini.\n",
    "\n",
    "Jika kita masih merasa asing dengan nama E-Commerce, situs seperti ini biasanya dikenal juga dengan marketplace.\n",
    "\n",
    "Penjual online yang terdapat pada E-Commerce biasanya akan secara otomatis menyesuaikan etalasenya berdasarkan profil data pembeli. Dengan mengubah tata letak halaman dan menyesuaikan produk yang dijualnya secara otomatis dan real-time.\n",
    "\n",
    "Selain itu, beberapa toko online atau online shop juga akan menyesuaikan harga berdasarkan profil penghasilan konsumen atau bisa juga disebut dengan harga yang dipersonalisasi.\n",
    "\n",
    "Teknologi seperti inilah yang termasuk dalam salah satu aplikasi penerapan ilmu data science.\n",
    "##### b. Fraud Detection\n",
    "Fraud Detection atau mendeteksi penipuan adalah bagian terpenting dari segala industri keuangan, sehingga data science dan Artificial Intelligence (AI) adalah kedua ilmu yang sering digunakan untuk melakukan proses ini.\n",
    "\n",
    "Sebab, kerusakan dan gangguan sekecil apapun itu dapat menyebabkan kerugian finansial bagi suatu perusahaan tertentu.\n",
    "\n",
    "Dengan melakukan analisis prediksi real-time, hal ini akan membantu dalam peningkatan deteksi penipuan dan juga keamanan cyber.\n",
    "\n",
    "Selain itu, dengan bantuan dari sebuah data science, suatu perusahaan dapat menyediakan layanan keuangan yang lebih efektif, sehingga teknologi ini dipercaya dapat membantu untuk mengidentifikasi potensi transaksi penipuan yang dilakukan di setiap aktivitas.\n",
    "\n",
    "Fungsi data science lainnya dalam bidang fraud detection adalah dapat membantu untuk memblokir sesi atau akun jika terdeteksi terdapat aktivitas keuangan yang tidak normal.\n",
    "##### c. Dynamic Pricing\n",
    "Penetapan harga dinamis pada umumnya digunakan oleh suatu perusahaan dengan menggunakan data untuk mensegmentasikan pelanggan atau konsumen secara akurat.\n",
    "\n",
    "Sehingga setiap kelompok pelanggan atau konsumen ke depannya akan dapat ditawari produk dengan harga yang berbeda. Penawaran seperti ini didasari pada informasi yang dihasilkan oleh data science dari berbagai faktor lainnya.\n",
    "\n",
    "Penggunaan algoritma dynamic pricing pada suatu perusahaan biasanya memperhitungkan dari berbagai macam kategori, misalnya saja seperti lead time, review properti, dan fasilitas yang telah disediakan."
   ]
  },
  {
   "cell_type": "markdown",
   "id": "acfb30ff",
   "metadata": {},
   "source": [
    "### 2. Computer Vision\n",
    "Apa itu Computer Vision --> bidang ilmu komputer yang berfokus pada pembuatan sistem digital yang dapat memproses, menganalisis, dan memahami data visual (gambar atau video) dengan cara yang sama seperti yang dilakukan manusia.\n",
    "#### Contoh :\n",
    "Apa sih contoh yang digunakan oleh computer vision saat ini? \n",
    "Adapun contoh computer vision dalam kehidupan sehari hari adalah sebagai berikut ini.\n",
    "#### a. Penggunaan bidang pada Matematika\n",
    "Sudah jelas bahwa computer vision mempunyai hubungan yang erat dengan bidang matematika. Terutama dalam hal statistik, geometri dan optimasi. Beberapa hal dalam matematika tersebut sangat erat kaitannya dengan komputer. Hal tersebut berhubungan dengan kecepatan dalam memproses data supaya tidak memakan waktu yang terlalu lama.\n",
    "#### b. Penggunaan dalam bidang kecerdasan buatan\n",
    "Penerapan Computer Vision dalam bidang kecedasan buatan mungkin sudah sangat sering kita temui di lingkungan kita misalnya adanya robot, scan foto, absen sidik jari, dan lain-lain. Diharapkan dengan adanya kecerdasan buatan tersebut akan lebih banyak membantu memudahkan manusia dalam kesehariannya.\n",
    "#### c. Penggunaan dalam bidang Industri\n",
    "Sekarang ini di dalam bidang industri sangat merasakan manfaat dari perkembangan komputer. Misalnya penggunaan mesin dalam proses pembuatan barang-barang industri seperti motor, mobil dan barang-barang yang lain. Tidak hanya itu saja, penggunaan computer vision juga bisa membuat komputer mampu menyortir suatu barang.\n",
    "#### d. Penggunaan dalam bidang kendaraan\n",
    "Saat ini penggunaan dari computer vision pada kendaraan sudah mulai banyak digunakan. Sebagai contoh ketika melakukan parkir. Saat ini mobil-mobil buatan terbaru telah terpasang alat sensor yang sangat membantu pada saat parkir. Dengan adanya sensor tersebut, pada saat memundurkan mobil kamu bisa mengetahui apakah ada benda keras ataukah tidak. Apabila mobil mendekati benda keras, maka alaram akan berbunyi.\n",
    "\n",
    "Begitu pula dengan pesawat terbang, karena saat ini beberapa pesawat terbang yang ada di dunia telah menggunakan sistem auto pilot. Jadi, pesawat bisa bergerak di udara tanpa pilotnya sendiri yang ikut mengendalikan pesawat. Tidak hanya itu saja, sistem navigasi yang dipakai untuk pesawat terbang juga menggunakan sistem computer vision.\n",
    "#### e. Penggunaan dalam bidang medis\n",
    "Penggunaan computer vision dalam bidang medis diantaranya yaitu penggunaan dalam perangkat medis x-ray, gambar tomografi dan gambar ultrasonik. Dengan keberadaan perangkat-perangkat tersebut, maka dapat membantu dokter dalam mengetahui adanya penyakit yang terdapat dalam tubuh manusia tanpa perlu melakukan pembedahan."
   ]
  },
  {
   "cell_type": "markdown",
   "id": "830f67e5",
   "metadata": {},
   "source": [
    "### 3. Natural Language Processing\n",
    "Apa itu NLP --> Praktik memberi instruksi pada komputer untuk memproses bahasa manusia pada umumnya.\n",
    "#### Contoh : \n",
    "Seperti apa contoh-contoh Natural Language Processing (NLP) yang ada dalam kehidupan sehari-hari?\n",
    "#### 1. Chatbots\n",
    "Dalam dunia bisnis, layanan dan pengalaman pelanggan merupakan hal penting yang perlu diprioritaskan. Ketika perusahaan memproduksi banyak produk atau memberikan sebuah  layanan, belum tentu pelanggan merasa puas dengan hasil yang diterima. Tentunya, perusahaan harus menyediakan sarana tempat pengaduan, seperti Chatbot. Chatbots memungkinkan perusahaan mendapatkan tujuan pengalaman pelanggan yang lancar.\n",
    "\n",
    "Chatbot bertujuan untuk membantu perusahaan untuk berinteraksi dengan pelanggan. Banyak perusahaan menggunakan chatbot pada aplikasi atau web mereka,  guna menangani keluhan atau menjawab pertanyaan dasar pelanggan selama 24 jam setiap harinya.\n",
    "#### 2. Speech Recognition\n",
    "Teknologi speech recognition memungkinkan komputer untuk mengubah suara ke format yang dapat dibaca oleh mesin. Speech recognition banyak ditemukan di kehidupan sehari-hari seperti asisten virtual (Siri, Alexa), menerjemahkan ucapan, dan lain sebagainya.\n",
    "#### 3. Search engine\n",
    "NLP memiliki peran dalam mesin pencarian Google, Yahoo, dan lain sebagainya. Pada saat mencari sesuatu di google search engine, maka secara otomatis search engine akan menampilkan beberapa kalimat yang relevan sesuai dengan apa yang dicari.\n",
    "#### 4. Text Extraction\n",
    "Ekstraksi teks sering kali disebut sebagai ekstraksi kata kunci. Dengan ekstraksi teks informasi tertentu dalam teks seperti perusahaan, nama, tempat, dan lainnya dapat dideteksi secara otomatis. Teknologi ini juga menyaring tiket dukungan yang masuk dan mengidentifikasi data tertentu tanpa membuka dan membaca setiap tiket.\n",
    "#### 5. Recruitment\n",
    "Dalam memilih karyawan yang tepat untuk sebuah perusahaan, HR perlu melakukan peninjauan ribuan resume untuk sebuah posisi. Dengan menggunakan bahasa alami, perekrut dapat menyaring kandidat secara otomatis. Teknologi ini dapat mengekstraksi informasi seperti keterampilan, nama, lokasi, dan pendidikan.\n",
    "#### 6. Proofreading\n",
    "Fitur proofreading terdapat dalam Microsoft Word atau Google Docs. Fitur ini sangat bermanfaat, terutama bagi seseorang yang berprofesi sebagai penulis. Dalam pekerjaannya, penulis harus mengecek ulang secara manual untuk memastikan tidak ada typo pada tulisan yang sudah dibuat. Dengan teknologi ini, komputer dapat langsung membaca dan memberitahu ketika terdapat kesalahan yang harus dibetulkan, dengan memberi garis merah di bawah tulisan tersebut."
   ]
  },
  {
   "cell_type": "code",
   "execution_count": null,
   "id": "c06225bf",
   "metadata": {},
   "outputs": [],
   "source": []
  }
 ],
 "metadata": {
  "kernelspec": {
   "display_name": "Python 3",
   "language": "python",
   "name": "python3"
  },
  "language_info": {
   "codemirror_mode": {
    "name": "ipython",
    "version": 3
   },
   "file_extension": ".py",
   "mimetype": "text/x-python",
   "name": "python",
   "nbconvert_exporter": "python",
   "pygments_lexer": "ipython3",
   "version": "3.8.8"
  }
 },
 "nbformat": 4,
 "nbformat_minor": 5
}
