{
  "nbformat": 4,
  "nbformat_minor": 0,
  "metadata": {
    "colab": {
      "name": "Customer Churn using KNN.ipynb",
      "provenance": [],
      "collapsed_sections": []
    },
    "kernelspec": {
      "name": "python3",
      "display_name": "Python 3"
    },
    "language_info": {
      "name": "python"
    },
    "accelerator": "GPU"
  },
  "cells": [
    {
      "cell_type": "markdown",
      "source": [
        "**STUDI KASUS**\n",
        "\n",
        "Terdapat dataset konsumen dengan **2 kategori churn**, yaitu **pelanggan aktif (0) dan pelanggan yang sudah berhenti (1)**"
      ],
      "metadata": {
        "id": "UCHKtVh746F8"
      }
    },
    {
      "cell_type": "markdown",
      "source": [
        "\n",
        "\n",
        "---\n",
        "\n"
      ],
      "metadata": {
        "id": "lbkV50qp5uxR"
      }
    },
    {
      "cell_type": "markdown",
      "source": [
        "**KLASIFIKASI KONSUMEN**\n",
        "\n",
        "**Memanggil Library**"
      ],
      "metadata": {
        "id": "Fiz4uWp35woD"
      }
    },
    {
      "cell_type": "code",
      "execution_count": null,
      "metadata": {
        "id": "OMqtsfYEUF_a"
      },
      "outputs": [],
      "source": [
        "# import libraries\n",
        "import pandas as pd\n",
        "#import itertools\n",
        "import numpy as np\n",
        "import matplotlib.pyplot as plt\n",
        "from sklearn import preprocessing\n",
        "from scipy import stats\n",
        "from sklearn.neighbors import KNeighborsClassifier\n",
        "from sklearn import metrics\n",
        "\n",
        "%matplotlib inline"
      ]
    },
    {
      "cell_type": "markdown",
      "source": [
        "**Load Dataset**\n",
        "\n",
        "sumber dataset : http://buku.dioskurn.com/buku1/ch9"
      ],
      "metadata": {
        "id": "2jwuJ9ho-8d5"
      }
    },
    {
      "cell_type": "code",
      "source": [
        "#uri = 'http://buku.dioskurn.com/buku1/ch9/churnprediction_ch9.csv'\n",
        "uri = 'https://raw.githubusercontent.com/oektomo/ClassPersevere/minggu4/dataset/churnprediction_ch9.csv'\n",
        "df = pd.read_csv(uri, index_col=['customer_id'])\n",
        "df"
      ],
      "metadata": {
        "colab": {
          "base_uri": "https://localhost:8080/",
          "height": 455
        },
        "id": "JEcHI2Njw75K",
        "outputId": "9ff2c7a1-b728-4a84-fb4f-20c940b8835c"
      },
      "execution_count": null,
      "outputs": [
        {
          "output_type": "execute_result",
          "data": {
            "text/plain": [
              "                                  product  reload_1  reload_2    video  \\\n",
              "customer_id                                                              \n",
              "285fae8412c4720a0c79d95f98434422  Kartu A  27734.30  24381.32  22000.0   \n",
              "f45bce87ca6bf100f222fcc0db06b624  Kartu A  26433.00  26515.50      0.0   \n",
              "09b54557b1e2a10d998e3473a9ccd2a0  Kartu A  93212.17  67101.83      0.0   \n",
              "11f252f48be36f93dd429f2ec86cb2f5  Kartu A    183.33   1087.17      0.0   \n",
              "a8df29ae9195eea348d2f74c967b978d  Kartu A  95296.67  76246.50      0.0   \n",
              "...                                   ...       ...       ...      ...   \n",
              "9e8b318d96caa9c0c4a50e8e59f5026c  Kartu B   1634.33  12085.33      0.0   \n",
              "a310627191bdbded3905ac73e77fe319  Kartu B  30000.33  45170.67      0.0   \n",
              "b6f11059e5c1df69b8c16d5c39af23dc  Kartu B   3333.33  13338.67      0.0   \n",
              "88709f1defd232243f729912be696f87  Kartu B  25000.00  33333.33      0.0   \n",
              "2c5bc32bc9a9c393d393bfc11c409b0d  Kartu C      0.00  11084.00      0.0   \n",
              "\n",
              "                                    music     games    chat_1    chat_2  \\\n",
              "customer_id                                                               \n",
              "285fae8412c4720a0c79d95f98434422  33009.9  25669.97    1716.0    2145.0   \n",
              "f45bce87ca6bf100f222fcc0db06b624      0.0      0.00       0.0   15444.0   \n",
              "09b54557b1e2a10d998e3473a9ccd2a0      0.0      0.00   86795.5   94649.5   \n",
              "11f252f48be36f93dd429f2ec86cb2f5      0.0      0.00       0.0       0.0   \n",
              "a8df29ae9195eea348d2f74c967b978d      0.0  11000.00  118800.0  104940.0   \n",
              "...                                   ...       ...       ...       ...   \n",
              "9e8b318d96caa9c0c4a50e8e59f5026c      0.0      0.00       0.0       0.0   \n",
              "a310627191bdbded3905ac73e77fe319      0.0      0.00       0.0   20001.0   \n",
              "b6f11059e5c1df69b8c16d5c39af23dc      0.0    872.00       0.0       0.0   \n",
              "88709f1defd232243f729912be696f87      0.0  23497.33       0.0       0.0   \n",
              "2c5bc32bc9a9c393d393bfc11c409b0d      0.0      0.00       0.0       0.0   \n",
              "\n",
              "                                  socmed_1  socmed_2  internet  days_active  \\\n",
              "customer_id                                                                   \n",
              "285fae8412c4720a0c79d95f98434422       0.0     792.0   11000.0           15   \n",
              "f45bce87ca6bf100f222fcc0db06b624       0.0       0.0   74151.0           13   \n",
              "09b54557b1e2a10d998e3473a9ccd2a0     330.0    1485.0   27467.0           15   \n",
              "11f252f48be36f93dd429f2ec86cb2f5       0.0       0.0       0.0            2   \n",
              "a8df29ae9195eea348d2f74c967b978d       0.0       0.0   63855.0           15   \n",
              "...                                    ...       ...       ...          ...   \n",
              "9e8b318d96caa9c0c4a50e8e59f5026c       0.0       0.0       0.0            1   \n",
              "a310627191bdbded3905ac73e77fe319       0.0       0.0       0.0            1   \n",
              "b6f11059e5c1df69b8c16d5c39af23dc       0.0       0.0       0.0            1   \n",
              "88709f1defd232243f729912be696f87       0.0       0.0       0.0           15   \n",
              "2c5bc32bc9a9c393d393bfc11c409b0d       0.0       0.0       0.0            1   \n",
              "\n",
              "                                  tenure  churn  \n",
              "customer_id                                      \n",
              "285fae8412c4720a0c79d95f98434422     776      0  \n",
              "f45bce87ca6bf100f222fcc0db06b624     352      0  \n",
              "09b54557b1e2a10d998e3473a9ccd2a0    1987      0  \n",
              "11f252f48be36f93dd429f2ec86cb2f5     285      0  \n",
              "a8df29ae9195eea348d2f74c967b978d    1081      0  \n",
              "...                                  ...    ...  \n",
              "9e8b318d96caa9c0c4a50e8e59f5026c     490      1  \n",
              "a310627191bdbded3905ac73e77fe319    3120      1  \n",
              "b6f11059e5c1df69b8c16d5c39af23dc     483      1  \n",
              "88709f1defd232243f729912be696f87     786      1  \n",
              "2c5bc32bc9a9c393d393bfc11c409b0d     222      1  \n",
              "\n",
              "[10000 rows x 14 columns]"
            ],
            "text/html": [
              "\n",
              "  <div id=\"df-05bc51db-616e-4171-871f-0d2ab3364ec3\">\n",
              "    <div class=\"colab-df-container\">\n",
              "      <div>\n",
              "<style scoped>\n",
              "    .dataframe tbody tr th:only-of-type {\n",
              "        vertical-align: middle;\n",
              "    }\n",
              "\n",
              "    .dataframe tbody tr th {\n",
              "        vertical-align: top;\n",
              "    }\n",
              "\n",
              "    .dataframe thead th {\n",
              "        text-align: right;\n",
              "    }\n",
              "</style>\n",
              "<table border=\"1\" class=\"dataframe\">\n",
              "  <thead>\n",
              "    <tr style=\"text-align: right;\">\n",
              "      <th></th>\n",
              "      <th>product</th>\n",
              "      <th>reload_1</th>\n",
              "      <th>reload_2</th>\n",
              "      <th>video</th>\n",
              "      <th>music</th>\n",
              "      <th>games</th>\n",
              "      <th>chat_1</th>\n",
              "      <th>chat_2</th>\n",
              "      <th>socmed_1</th>\n",
              "      <th>socmed_2</th>\n",
              "      <th>internet</th>\n",
              "      <th>days_active</th>\n",
              "      <th>tenure</th>\n",
              "      <th>churn</th>\n",
              "    </tr>\n",
              "    <tr>\n",
              "      <th>customer_id</th>\n",
              "      <th></th>\n",
              "      <th></th>\n",
              "      <th></th>\n",
              "      <th></th>\n",
              "      <th></th>\n",
              "      <th></th>\n",
              "      <th></th>\n",
              "      <th></th>\n",
              "      <th></th>\n",
              "      <th></th>\n",
              "      <th></th>\n",
              "      <th></th>\n",
              "      <th></th>\n",
              "      <th></th>\n",
              "    </tr>\n",
              "  </thead>\n",
              "  <tbody>\n",
              "    <tr>\n",
              "      <th>285fae8412c4720a0c79d95f98434422</th>\n",
              "      <td>Kartu A</td>\n",
              "      <td>27734.30</td>\n",
              "      <td>24381.32</td>\n",
              "      <td>22000.0</td>\n",
              "      <td>33009.9</td>\n",
              "      <td>25669.97</td>\n",
              "      <td>1716.0</td>\n",
              "      <td>2145.0</td>\n",
              "      <td>0.0</td>\n",
              "      <td>792.0</td>\n",
              "      <td>11000.0</td>\n",
              "      <td>15</td>\n",
              "      <td>776</td>\n",
              "      <td>0</td>\n",
              "    </tr>\n",
              "    <tr>\n",
              "      <th>f45bce87ca6bf100f222fcc0db06b624</th>\n",
              "      <td>Kartu A</td>\n",
              "      <td>26433.00</td>\n",
              "      <td>26515.50</td>\n",
              "      <td>0.0</td>\n",
              "      <td>0.0</td>\n",
              "      <td>0.00</td>\n",
              "      <td>0.0</td>\n",
              "      <td>15444.0</td>\n",
              "      <td>0.0</td>\n",
              "      <td>0.0</td>\n",
              "      <td>74151.0</td>\n",
              "      <td>13</td>\n",
              "      <td>352</td>\n",
              "      <td>0</td>\n",
              "    </tr>\n",
              "    <tr>\n",
              "      <th>09b54557b1e2a10d998e3473a9ccd2a0</th>\n",
              "      <td>Kartu A</td>\n",
              "      <td>93212.17</td>\n",
              "      <td>67101.83</td>\n",
              "      <td>0.0</td>\n",
              "      <td>0.0</td>\n",
              "      <td>0.00</td>\n",
              "      <td>86795.5</td>\n",
              "      <td>94649.5</td>\n",
              "      <td>330.0</td>\n",
              "      <td>1485.0</td>\n",
              "      <td>27467.0</td>\n",
              "      <td>15</td>\n",
              "      <td>1987</td>\n",
              "      <td>0</td>\n",
              "    </tr>\n",
              "    <tr>\n",
              "      <th>11f252f48be36f93dd429f2ec86cb2f5</th>\n",
              "      <td>Kartu A</td>\n",
              "      <td>183.33</td>\n",
              "      <td>1087.17</td>\n",
              "      <td>0.0</td>\n",
              "      <td>0.0</td>\n",
              "      <td>0.00</td>\n",
              "      <td>0.0</td>\n",
              "      <td>0.0</td>\n",
              "      <td>0.0</td>\n",
              "      <td>0.0</td>\n",
              "      <td>0.0</td>\n",
              "      <td>2</td>\n",
              "      <td>285</td>\n",
              "      <td>0</td>\n",
              "    </tr>\n",
              "    <tr>\n",
              "      <th>a8df29ae9195eea348d2f74c967b978d</th>\n",
              "      <td>Kartu A</td>\n",
              "      <td>95296.67</td>\n",
              "      <td>76246.50</td>\n",
              "      <td>0.0</td>\n",
              "      <td>0.0</td>\n",
              "      <td>11000.00</td>\n",
              "      <td>118800.0</td>\n",
              "      <td>104940.0</td>\n",
              "      <td>0.0</td>\n",
              "      <td>0.0</td>\n",
              "      <td>63855.0</td>\n",
              "      <td>15</td>\n",
              "      <td>1081</td>\n",
              "      <td>0</td>\n",
              "    </tr>\n",
              "    <tr>\n",
              "      <th>...</th>\n",
              "      <td>...</td>\n",
              "      <td>...</td>\n",
              "      <td>...</td>\n",
              "      <td>...</td>\n",
              "      <td>...</td>\n",
              "      <td>...</td>\n",
              "      <td>...</td>\n",
              "      <td>...</td>\n",
              "      <td>...</td>\n",
              "      <td>...</td>\n",
              "      <td>...</td>\n",
              "      <td>...</td>\n",
              "      <td>...</td>\n",
              "      <td>...</td>\n",
              "    </tr>\n",
              "    <tr>\n",
              "      <th>9e8b318d96caa9c0c4a50e8e59f5026c</th>\n",
              "      <td>Kartu B</td>\n",
              "      <td>1634.33</td>\n",
              "      <td>12085.33</td>\n",
              "      <td>0.0</td>\n",
              "      <td>0.0</td>\n",
              "      <td>0.00</td>\n",
              "      <td>0.0</td>\n",
              "      <td>0.0</td>\n",
              "      <td>0.0</td>\n",
              "      <td>0.0</td>\n",
              "      <td>0.0</td>\n",
              "      <td>1</td>\n",
              "      <td>490</td>\n",
              "      <td>1</td>\n",
              "    </tr>\n",
              "    <tr>\n",
              "      <th>a310627191bdbded3905ac73e77fe319</th>\n",
              "      <td>Kartu B</td>\n",
              "      <td>30000.33</td>\n",
              "      <td>45170.67</td>\n",
              "      <td>0.0</td>\n",
              "      <td>0.0</td>\n",
              "      <td>0.00</td>\n",
              "      <td>0.0</td>\n",
              "      <td>20001.0</td>\n",
              "      <td>0.0</td>\n",
              "      <td>0.0</td>\n",
              "      <td>0.0</td>\n",
              "      <td>1</td>\n",
              "      <td>3120</td>\n",
              "      <td>1</td>\n",
              "    </tr>\n",
              "    <tr>\n",
              "      <th>b6f11059e5c1df69b8c16d5c39af23dc</th>\n",
              "      <td>Kartu B</td>\n",
              "      <td>3333.33</td>\n",
              "      <td>13338.67</td>\n",
              "      <td>0.0</td>\n",
              "      <td>0.0</td>\n",
              "      <td>872.00</td>\n",
              "      <td>0.0</td>\n",
              "      <td>0.0</td>\n",
              "      <td>0.0</td>\n",
              "      <td>0.0</td>\n",
              "      <td>0.0</td>\n",
              "      <td>1</td>\n",
              "      <td>483</td>\n",
              "      <td>1</td>\n",
              "    </tr>\n",
              "    <tr>\n",
              "      <th>88709f1defd232243f729912be696f87</th>\n",
              "      <td>Kartu B</td>\n",
              "      <td>25000.00</td>\n",
              "      <td>33333.33</td>\n",
              "      <td>0.0</td>\n",
              "      <td>0.0</td>\n",
              "      <td>23497.33</td>\n",
              "      <td>0.0</td>\n",
              "      <td>0.0</td>\n",
              "      <td>0.0</td>\n",
              "      <td>0.0</td>\n",
              "      <td>0.0</td>\n",
              "      <td>15</td>\n",
              "      <td>786</td>\n",
              "      <td>1</td>\n",
              "    </tr>\n",
              "    <tr>\n",
              "      <th>2c5bc32bc9a9c393d393bfc11c409b0d</th>\n",
              "      <td>Kartu C</td>\n",
              "      <td>0.00</td>\n",
              "      <td>11084.00</td>\n",
              "      <td>0.0</td>\n",
              "      <td>0.0</td>\n",
              "      <td>0.00</td>\n",
              "      <td>0.0</td>\n",
              "      <td>0.0</td>\n",
              "      <td>0.0</td>\n",
              "      <td>0.0</td>\n",
              "      <td>0.0</td>\n",
              "      <td>1</td>\n",
              "      <td>222</td>\n",
              "      <td>1</td>\n",
              "    </tr>\n",
              "  </tbody>\n",
              "</table>\n",
              "<p>10000 rows × 14 columns</p>\n",
              "</div>\n",
              "      <button class=\"colab-df-convert\" onclick=\"convertToInteractive('df-05bc51db-616e-4171-871f-0d2ab3364ec3')\"\n",
              "              title=\"Convert this dataframe to an interactive table.\"\n",
              "              style=\"display:none;\">\n",
              "        \n",
              "  <svg xmlns=\"http://www.w3.org/2000/svg\" height=\"24px\"viewBox=\"0 0 24 24\"\n",
              "       width=\"24px\">\n",
              "    <path d=\"M0 0h24v24H0V0z\" fill=\"none\"/>\n",
              "    <path d=\"M18.56 5.44l.94 2.06.94-2.06 2.06-.94-2.06-.94-.94-2.06-.94 2.06-2.06.94zm-11 1L8.5 8.5l.94-2.06 2.06-.94-2.06-.94L8.5 2.5l-.94 2.06-2.06.94zm10 10l.94 2.06.94-2.06 2.06-.94-2.06-.94-.94-2.06-.94 2.06-2.06.94z\"/><path d=\"M17.41 7.96l-1.37-1.37c-.4-.4-.92-.59-1.43-.59-.52 0-1.04.2-1.43.59L10.3 9.45l-7.72 7.72c-.78.78-.78 2.05 0 2.83L4 21.41c.39.39.9.59 1.41.59.51 0 1.02-.2 1.41-.59l7.78-7.78 2.81-2.81c.8-.78.8-2.07 0-2.86zM5.41 20L4 18.59l7.72-7.72 1.47 1.35L5.41 20z\"/>\n",
              "  </svg>\n",
              "      </button>\n",
              "      \n",
              "  <style>\n",
              "    .colab-df-container {\n",
              "      display:flex;\n",
              "      flex-wrap:wrap;\n",
              "      gap: 12px;\n",
              "    }\n",
              "\n",
              "    .colab-df-convert {\n",
              "      background-color: #E8F0FE;\n",
              "      border: none;\n",
              "      border-radius: 50%;\n",
              "      cursor: pointer;\n",
              "      display: none;\n",
              "      fill: #1967D2;\n",
              "      height: 32px;\n",
              "      padding: 0 0 0 0;\n",
              "      width: 32px;\n",
              "    }\n",
              "\n",
              "    .colab-df-convert:hover {\n",
              "      background-color: #E2EBFA;\n",
              "      box-shadow: 0px 1px 2px rgba(60, 64, 67, 0.3), 0px 1px 3px 1px rgba(60, 64, 67, 0.15);\n",
              "      fill: #174EA6;\n",
              "    }\n",
              "\n",
              "    [theme=dark] .colab-df-convert {\n",
              "      background-color: #3B4455;\n",
              "      fill: #D2E3FC;\n",
              "    }\n",
              "\n",
              "    [theme=dark] .colab-df-convert:hover {\n",
              "      background-color: #434B5C;\n",
              "      box-shadow: 0px 1px 3px 1px rgba(0, 0, 0, 0.15);\n",
              "      filter: drop-shadow(0px 1px 2px rgba(0, 0, 0, 0.3));\n",
              "      fill: #FFFFFF;\n",
              "    }\n",
              "  </style>\n",
              "\n",
              "      <script>\n",
              "        const buttonEl =\n",
              "          document.querySelector('#df-05bc51db-616e-4171-871f-0d2ab3364ec3 button.colab-df-convert');\n",
              "        buttonEl.style.display =\n",
              "          google.colab.kernel.accessAllowed ? 'block' : 'none';\n",
              "\n",
              "        async function convertToInteractive(key) {\n",
              "          const element = document.querySelector('#df-05bc51db-616e-4171-871f-0d2ab3364ec3');\n",
              "          const dataTable =\n",
              "            await google.colab.kernel.invokeFunction('convertToInteractive',\n",
              "                                                     [key], {});\n",
              "          if (!dataTable) return;\n",
              "\n",
              "          const docLinkHtml = 'Like what you see? Visit the ' +\n",
              "            '<a target=\"_blank\" href=https://colab.research.google.com/notebooks/data_table.ipynb>data table notebook</a>'\n",
              "            + ' to learn more about interactive tables.';\n",
              "          element.innerHTML = '';\n",
              "          dataTable['output_type'] = 'display_data';\n",
              "          await google.colab.output.renderOutput(dataTable, element);\n",
              "          const docLink = document.createElement('div');\n",
              "          docLink.innerHTML = docLinkHtml;\n",
              "          element.appendChild(docLink);\n",
              "        }\n",
              "      </script>\n",
              "    </div>\n",
              "  </div>\n",
              "  "
            ]
          },
          "metadata": {},
          "execution_count": 234
        }
      ]
    },
    {
      "cell_type": "code",
      "source": [
        "# Pada product, nilai atribut Kartu A didefinisikan sebagai 0, Kartu B didefinisikan sebagai 1, dan Kartu C didefinisikan sebagai 2\n",
        "df['product'] = df['product'].map({'Kartu A': 0,'Kartu B': 1, 'Kartu C':2})\n",
        "df['product'].value_counts()\n",
        "df"
      ],
      "metadata": {
        "colab": {
          "base_uri": "https://localhost:8080/",
          "height": 455
        },
        "id": "-6yAssmvxJ1k",
        "outputId": "5cd05824-1137-488e-9f24-71dbbc290b4b"
      },
      "execution_count": null,
      "outputs": [
        {
          "output_type": "execute_result",
          "data": {
            "text/plain": [
              "                                  product  reload_1  reload_2    video  \\\n",
              "customer_id                                                              \n",
              "285fae8412c4720a0c79d95f98434422        0  27734.30  24381.32  22000.0   \n",
              "f45bce87ca6bf100f222fcc0db06b624        0  26433.00  26515.50      0.0   \n",
              "09b54557b1e2a10d998e3473a9ccd2a0        0  93212.17  67101.83      0.0   \n",
              "11f252f48be36f93dd429f2ec86cb2f5        0    183.33   1087.17      0.0   \n",
              "a8df29ae9195eea348d2f74c967b978d        0  95296.67  76246.50      0.0   \n",
              "...                                   ...       ...       ...      ...   \n",
              "9e8b318d96caa9c0c4a50e8e59f5026c        1   1634.33  12085.33      0.0   \n",
              "a310627191bdbded3905ac73e77fe319        1  30000.33  45170.67      0.0   \n",
              "b6f11059e5c1df69b8c16d5c39af23dc        1   3333.33  13338.67      0.0   \n",
              "88709f1defd232243f729912be696f87        1  25000.00  33333.33      0.0   \n",
              "2c5bc32bc9a9c393d393bfc11c409b0d        2      0.00  11084.00      0.0   \n",
              "\n",
              "                                    music     games    chat_1    chat_2  \\\n",
              "customer_id                                                               \n",
              "285fae8412c4720a0c79d95f98434422  33009.9  25669.97    1716.0    2145.0   \n",
              "f45bce87ca6bf100f222fcc0db06b624      0.0      0.00       0.0   15444.0   \n",
              "09b54557b1e2a10d998e3473a9ccd2a0      0.0      0.00   86795.5   94649.5   \n",
              "11f252f48be36f93dd429f2ec86cb2f5      0.0      0.00       0.0       0.0   \n",
              "a8df29ae9195eea348d2f74c967b978d      0.0  11000.00  118800.0  104940.0   \n",
              "...                                   ...       ...       ...       ...   \n",
              "9e8b318d96caa9c0c4a50e8e59f5026c      0.0      0.00       0.0       0.0   \n",
              "a310627191bdbded3905ac73e77fe319      0.0      0.00       0.0   20001.0   \n",
              "b6f11059e5c1df69b8c16d5c39af23dc      0.0    872.00       0.0       0.0   \n",
              "88709f1defd232243f729912be696f87      0.0  23497.33       0.0       0.0   \n",
              "2c5bc32bc9a9c393d393bfc11c409b0d      0.0      0.00       0.0       0.0   \n",
              "\n",
              "                                  socmed_1  socmed_2  internet  days_active  \\\n",
              "customer_id                                                                   \n",
              "285fae8412c4720a0c79d95f98434422       0.0     792.0   11000.0           15   \n",
              "f45bce87ca6bf100f222fcc0db06b624       0.0       0.0   74151.0           13   \n",
              "09b54557b1e2a10d998e3473a9ccd2a0     330.0    1485.0   27467.0           15   \n",
              "11f252f48be36f93dd429f2ec86cb2f5       0.0       0.0       0.0            2   \n",
              "a8df29ae9195eea348d2f74c967b978d       0.0       0.0   63855.0           15   \n",
              "...                                    ...       ...       ...          ...   \n",
              "9e8b318d96caa9c0c4a50e8e59f5026c       0.0       0.0       0.0            1   \n",
              "a310627191bdbded3905ac73e77fe319       0.0       0.0       0.0            1   \n",
              "b6f11059e5c1df69b8c16d5c39af23dc       0.0       0.0       0.0            1   \n",
              "88709f1defd232243f729912be696f87       0.0       0.0       0.0           15   \n",
              "2c5bc32bc9a9c393d393bfc11c409b0d       0.0       0.0       0.0            1   \n",
              "\n",
              "                                  tenure  churn  \n",
              "customer_id                                      \n",
              "285fae8412c4720a0c79d95f98434422     776      0  \n",
              "f45bce87ca6bf100f222fcc0db06b624     352      0  \n",
              "09b54557b1e2a10d998e3473a9ccd2a0    1987      0  \n",
              "11f252f48be36f93dd429f2ec86cb2f5     285      0  \n",
              "a8df29ae9195eea348d2f74c967b978d    1081      0  \n",
              "...                                  ...    ...  \n",
              "9e8b318d96caa9c0c4a50e8e59f5026c     490      1  \n",
              "a310627191bdbded3905ac73e77fe319    3120      1  \n",
              "b6f11059e5c1df69b8c16d5c39af23dc     483      1  \n",
              "88709f1defd232243f729912be696f87     786      1  \n",
              "2c5bc32bc9a9c393d393bfc11c409b0d     222      1  \n",
              "\n",
              "[10000 rows x 14 columns]"
            ],
            "text/html": [
              "\n",
              "  <div id=\"df-264c1c48-1452-4729-b78b-77a323b185a3\">\n",
              "    <div class=\"colab-df-container\">\n",
              "      <div>\n",
              "<style scoped>\n",
              "    .dataframe tbody tr th:only-of-type {\n",
              "        vertical-align: middle;\n",
              "    }\n",
              "\n",
              "    .dataframe tbody tr th {\n",
              "        vertical-align: top;\n",
              "    }\n",
              "\n",
              "    .dataframe thead th {\n",
              "        text-align: right;\n",
              "    }\n",
              "</style>\n",
              "<table border=\"1\" class=\"dataframe\">\n",
              "  <thead>\n",
              "    <tr style=\"text-align: right;\">\n",
              "      <th></th>\n",
              "      <th>product</th>\n",
              "      <th>reload_1</th>\n",
              "      <th>reload_2</th>\n",
              "      <th>video</th>\n",
              "      <th>music</th>\n",
              "      <th>games</th>\n",
              "      <th>chat_1</th>\n",
              "      <th>chat_2</th>\n",
              "      <th>socmed_1</th>\n",
              "      <th>socmed_2</th>\n",
              "      <th>internet</th>\n",
              "      <th>days_active</th>\n",
              "      <th>tenure</th>\n",
              "      <th>churn</th>\n",
              "    </tr>\n",
              "    <tr>\n",
              "      <th>customer_id</th>\n",
              "      <th></th>\n",
              "      <th></th>\n",
              "      <th></th>\n",
              "      <th></th>\n",
              "      <th></th>\n",
              "      <th></th>\n",
              "      <th></th>\n",
              "      <th></th>\n",
              "      <th></th>\n",
              "      <th></th>\n",
              "      <th></th>\n",
              "      <th></th>\n",
              "      <th></th>\n",
              "      <th></th>\n",
              "    </tr>\n",
              "  </thead>\n",
              "  <tbody>\n",
              "    <tr>\n",
              "      <th>285fae8412c4720a0c79d95f98434422</th>\n",
              "      <td>0</td>\n",
              "      <td>27734.30</td>\n",
              "      <td>24381.32</td>\n",
              "      <td>22000.0</td>\n",
              "      <td>33009.9</td>\n",
              "      <td>25669.97</td>\n",
              "      <td>1716.0</td>\n",
              "      <td>2145.0</td>\n",
              "      <td>0.0</td>\n",
              "      <td>792.0</td>\n",
              "      <td>11000.0</td>\n",
              "      <td>15</td>\n",
              "      <td>776</td>\n",
              "      <td>0</td>\n",
              "    </tr>\n",
              "    <tr>\n",
              "      <th>f45bce87ca6bf100f222fcc0db06b624</th>\n",
              "      <td>0</td>\n",
              "      <td>26433.00</td>\n",
              "      <td>26515.50</td>\n",
              "      <td>0.0</td>\n",
              "      <td>0.0</td>\n",
              "      <td>0.00</td>\n",
              "      <td>0.0</td>\n",
              "      <td>15444.0</td>\n",
              "      <td>0.0</td>\n",
              "      <td>0.0</td>\n",
              "      <td>74151.0</td>\n",
              "      <td>13</td>\n",
              "      <td>352</td>\n",
              "      <td>0</td>\n",
              "    </tr>\n",
              "    <tr>\n",
              "      <th>09b54557b1e2a10d998e3473a9ccd2a0</th>\n",
              "      <td>0</td>\n",
              "      <td>93212.17</td>\n",
              "      <td>67101.83</td>\n",
              "      <td>0.0</td>\n",
              "      <td>0.0</td>\n",
              "      <td>0.00</td>\n",
              "      <td>86795.5</td>\n",
              "      <td>94649.5</td>\n",
              "      <td>330.0</td>\n",
              "      <td>1485.0</td>\n",
              "      <td>27467.0</td>\n",
              "      <td>15</td>\n",
              "      <td>1987</td>\n",
              "      <td>0</td>\n",
              "    </tr>\n",
              "    <tr>\n",
              "      <th>11f252f48be36f93dd429f2ec86cb2f5</th>\n",
              "      <td>0</td>\n",
              "      <td>183.33</td>\n",
              "      <td>1087.17</td>\n",
              "      <td>0.0</td>\n",
              "      <td>0.0</td>\n",
              "      <td>0.00</td>\n",
              "      <td>0.0</td>\n",
              "      <td>0.0</td>\n",
              "      <td>0.0</td>\n",
              "      <td>0.0</td>\n",
              "      <td>0.0</td>\n",
              "      <td>2</td>\n",
              "      <td>285</td>\n",
              "      <td>0</td>\n",
              "    </tr>\n",
              "    <tr>\n",
              "      <th>a8df29ae9195eea348d2f74c967b978d</th>\n",
              "      <td>0</td>\n",
              "      <td>95296.67</td>\n",
              "      <td>76246.50</td>\n",
              "      <td>0.0</td>\n",
              "      <td>0.0</td>\n",
              "      <td>11000.00</td>\n",
              "      <td>118800.0</td>\n",
              "      <td>104940.0</td>\n",
              "      <td>0.0</td>\n",
              "      <td>0.0</td>\n",
              "      <td>63855.0</td>\n",
              "      <td>15</td>\n",
              "      <td>1081</td>\n",
              "      <td>0</td>\n",
              "    </tr>\n",
              "    <tr>\n",
              "      <th>...</th>\n",
              "      <td>...</td>\n",
              "      <td>...</td>\n",
              "      <td>...</td>\n",
              "      <td>...</td>\n",
              "      <td>...</td>\n",
              "      <td>...</td>\n",
              "      <td>...</td>\n",
              "      <td>...</td>\n",
              "      <td>...</td>\n",
              "      <td>...</td>\n",
              "      <td>...</td>\n",
              "      <td>...</td>\n",
              "      <td>...</td>\n",
              "      <td>...</td>\n",
              "    </tr>\n",
              "    <tr>\n",
              "      <th>9e8b318d96caa9c0c4a50e8e59f5026c</th>\n",
              "      <td>1</td>\n",
              "      <td>1634.33</td>\n",
              "      <td>12085.33</td>\n",
              "      <td>0.0</td>\n",
              "      <td>0.0</td>\n",
              "      <td>0.00</td>\n",
              "      <td>0.0</td>\n",
              "      <td>0.0</td>\n",
              "      <td>0.0</td>\n",
              "      <td>0.0</td>\n",
              "      <td>0.0</td>\n",
              "      <td>1</td>\n",
              "      <td>490</td>\n",
              "      <td>1</td>\n",
              "    </tr>\n",
              "    <tr>\n",
              "      <th>a310627191bdbded3905ac73e77fe319</th>\n",
              "      <td>1</td>\n",
              "      <td>30000.33</td>\n",
              "      <td>45170.67</td>\n",
              "      <td>0.0</td>\n",
              "      <td>0.0</td>\n",
              "      <td>0.00</td>\n",
              "      <td>0.0</td>\n",
              "      <td>20001.0</td>\n",
              "      <td>0.0</td>\n",
              "      <td>0.0</td>\n",
              "      <td>0.0</td>\n",
              "      <td>1</td>\n",
              "      <td>3120</td>\n",
              "      <td>1</td>\n",
              "    </tr>\n",
              "    <tr>\n",
              "      <th>b6f11059e5c1df69b8c16d5c39af23dc</th>\n",
              "      <td>1</td>\n",
              "      <td>3333.33</td>\n",
              "      <td>13338.67</td>\n",
              "      <td>0.0</td>\n",
              "      <td>0.0</td>\n",
              "      <td>872.00</td>\n",
              "      <td>0.0</td>\n",
              "      <td>0.0</td>\n",
              "      <td>0.0</td>\n",
              "      <td>0.0</td>\n",
              "      <td>0.0</td>\n",
              "      <td>1</td>\n",
              "      <td>483</td>\n",
              "      <td>1</td>\n",
              "    </tr>\n",
              "    <tr>\n",
              "      <th>88709f1defd232243f729912be696f87</th>\n",
              "      <td>1</td>\n",
              "      <td>25000.00</td>\n",
              "      <td>33333.33</td>\n",
              "      <td>0.0</td>\n",
              "      <td>0.0</td>\n",
              "      <td>23497.33</td>\n",
              "      <td>0.0</td>\n",
              "      <td>0.0</td>\n",
              "      <td>0.0</td>\n",
              "      <td>0.0</td>\n",
              "      <td>0.0</td>\n",
              "      <td>15</td>\n",
              "      <td>786</td>\n",
              "      <td>1</td>\n",
              "    </tr>\n",
              "    <tr>\n",
              "      <th>2c5bc32bc9a9c393d393bfc11c409b0d</th>\n",
              "      <td>2</td>\n",
              "      <td>0.00</td>\n",
              "      <td>11084.00</td>\n",
              "      <td>0.0</td>\n",
              "      <td>0.0</td>\n",
              "      <td>0.00</td>\n",
              "      <td>0.0</td>\n",
              "      <td>0.0</td>\n",
              "      <td>0.0</td>\n",
              "      <td>0.0</td>\n",
              "      <td>0.0</td>\n",
              "      <td>1</td>\n",
              "      <td>222</td>\n",
              "      <td>1</td>\n",
              "    </tr>\n",
              "  </tbody>\n",
              "</table>\n",
              "<p>10000 rows × 14 columns</p>\n",
              "</div>\n",
              "      <button class=\"colab-df-convert\" onclick=\"convertToInteractive('df-264c1c48-1452-4729-b78b-77a323b185a3')\"\n",
              "              title=\"Convert this dataframe to an interactive table.\"\n",
              "              style=\"display:none;\">\n",
              "        \n",
              "  <svg xmlns=\"http://www.w3.org/2000/svg\" height=\"24px\"viewBox=\"0 0 24 24\"\n",
              "       width=\"24px\">\n",
              "    <path d=\"M0 0h24v24H0V0z\" fill=\"none\"/>\n",
              "    <path d=\"M18.56 5.44l.94 2.06.94-2.06 2.06-.94-2.06-.94-.94-2.06-.94 2.06-2.06.94zm-11 1L8.5 8.5l.94-2.06 2.06-.94-2.06-.94L8.5 2.5l-.94 2.06-2.06.94zm10 10l.94 2.06.94-2.06 2.06-.94-2.06-.94-.94-2.06-.94 2.06-2.06.94z\"/><path d=\"M17.41 7.96l-1.37-1.37c-.4-.4-.92-.59-1.43-.59-.52 0-1.04.2-1.43.59L10.3 9.45l-7.72 7.72c-.78.78-.78 2.05 0 2.83L4 21.41c.39.39.9.59 1.41.59.51 0 1.02-.2 1.41-.59l7.78-7.78 2.81-2.81c.8-.78.8-2.07 0-2.86zM5.41 20L4 18.59l7.72-7.72 1.47 1.35L5.41 20z\"/>\n",
              "  </svg>\n",
              "      </button>\n",
              "      \n",
              "  <style>\n",
              "    .colab-df-container {\n",
              "      display:flex;\n",
              "      flex-wrap:wrap;\n",
              "      gap: 12px;\n",
              "    }\n",
              "\n",
              "    .colab-df-convert {\n",
              "      background-color: #E8F0FE;\n",
              "      border: none;\n",
              "      border-radius: 50%;\n",
              "      cursor: pointer;\n",
              "      display: none;\n",
              "      fill: #1967D2;\n",
              "      height: 32px;\n",
              "      padding: 0 0 0 0;\n",
              "      width: 32px;\n",
              "    }\n",
              "\n",
              "    .colab-df-convert:hover {\n",
              "      background-color: #E2EBFA;\n",
              "      box-shadow: 0px 1px 2px rgba(60, 64, 67, 0.3), 0px 1px 3px 1px rgba(60, 64, 67, 0.15);\n",
              "      fill: #174EA6;\n",
              "    }\n",
              "\n",
              "    [theme=dark] .colab-df-convert {\n",
              "      background-color: #3B4455;\n",
              "      fill: #D2E3FC;\n",
              "    }\n",
              "\n",
              "    [theme=dark] .colab-df-convert:hover {\n",
              "      background-color: #434B5C;\n",
              "      box-shadow: 0px 1px 3px 1px rgba(0, 0, 0, 0.15);\n",
              "      filter: drop-shadow(0px 1px 2px rgba(0, 0, 0, 0.3));\n",
              "      fill: #FFFFFF;\n",
              "    }\n",
              "  </style>\n",
              "\n",
              "      <script>\n",
              "        const buttonEl =\n",
              "          document.querySelector('#df-264c1c48-1452-4729-b78b-77a323b185a3 button.colab-df-convert');\n",
              "        buttonEl.style.display =\n",
              "          google.colab.kernel.accessAllowed ? 'block' : 'none';\n",
              "\n",
              "        async function convertToInteractive(key) {\n",
              "          const element = document.querySelector('#df-264c1c48-1452-4729-b78b-77a323b185a3');\n",
              "          const dataTable =\n",
              "            await google.colab.kernel.invokeFunction('convertToInteractive',\n",
              "                                                     [key], {});\n",
              "          if (!dataTable) return;\n",
              "\n",
              "          const docLinkHtml = 'Like what you see? Visit the ' +\n",
              "            '<a target=\"_blank\" href=https://colab.research.google.com/notebooks/data_table.ipynb>data table notebook</a>'\n",
              "            + ' to learn more about interactive tables.';\n",
              "          element.innerHTML = '';\n",
              "          dataTable['output_type'] = 'display_data';\n",
              "          await google.colab.output.renderOutput(dataTable, element);\n",
              "          const docLink = document.createElement('div');\n",
              "          docLink.innerHTML = docLinkHtml;\n",
              "          element.appendChild(docLink);\n",
              "        }\n",
              "      </script>\n",
              "    </div>\n",
              "  </div>\n",
              "  "
            ]
          },
          "metadata": {},
          "execution_count": 235
        }
      ]
    },
    {
      "cell_type": "markdown",
      "source": [
        "**Feature set**\n",
        "\n",
        "Selanjutnya, kita format dataset, yaitu bentuk feature sets (kumpulan atribut), kita bentuk variabel X dan Y\n",
        "Untuk menggunakan library scikit-learn library, kita harus convert format data frame-nya Panda, ke array Numpy :"
      ],
      "metadata": {
        "id": "lkRvH6WiEXOY"
      }
    },
    {
      "cell_type": "code",
      "source": [
        "df.keys()"
      ],
      "metadata": {
        "colab": {
          "base_uri": "https://localhost:8080/"
        },
        "id": "UNobyIwPxO-7",
        "outputId": "9552fc5f-03f2-4c5a-e7fd-6da11f0b65dc"
      },
      "execution_count": null,
      "outputs": [
        {
          "output_type": "execute_result",
          "data": {
            "text/plain": [
              "Index(['product', 'reload_1', 'reload_2', 'video', 'music', 'games', 'chat_1',\n",
              "       'chat_2', 'socmed_1', 'socmed_2', 'internet', 'days_active', 'tenure',\n",
              "       'churn'],\n",
              "      dtype='object')"
            ]
          },
          "metadata": {},
          "execution_count": 236
        }
      ]
    },
    {
      "cell_type": "code",
      "source": [
        "# atribut predictor\n",
        "X = df[['product', 'reload_1', 'reload_2', 'video', 'music', 'games', 'chat_1',\n",
        "       'chat_2', 'socmed_1', 'socmed_2', 'internet', 'days_active', 'tenure']]"
      ],
      "metadata": {
        "id": "XDD89kW-QT0E"
      },
      "execution_count": null,
      "outputs": []
    },
    {
      "cell_type": "code",
      "source": [
        "# atribut target\n",
        "Y = df['churn'].values"
      ],
      "metadata": {
        "id": "-Xqpy5EFkyNw"
      },
      "execution_count": null,
      "outputs": []
    },
    {
      "cell_type": "markdown",
      "source": [
        "**Normalisasi Data**\n",
        "\n",
        "K-NN merupakan metode yang didasarkan pada tingkat kedekatan antar-atribut. Oleh karena itu, sangat disarankan untuk melakukan normalisasi data agar perhitungan jarak menjadi lebih valid."
      ],
      "metadata": {
        "id": "2XN6lgsvpXyG"
      }
    },
    {
      "cell_type": "markdown",
      "source": [
        "**Tugas 06?\n",
        "Coba buat histogram untuk setiap feature.\n",
        "Lalu hitung range (jangkauan) dari setiap feature, sebelum normalisasi dan sesudah normalisasi. Berikan kesimpulan mu apa peran normalisasi dalam preprocessing data.**"
      ],
      "metadata": {
        "id": "apCD8Tv5wMwB"
      }
    },
    {
      "cell_type": "code",
      "source": [
        "#Buat Histogram dari setiap feature\n",
        "X.head()\n",
        "for i in X.columns:\n",
        "    plt.figure()\n",
        "    plt.title(f'{i}')\n",
        "    plt.hist(df[i])"
      ],
      "metadata": {
        "colab": {
          "base_uri": "https://localhost:8080/",
          "height": 1000
        },
        "id": "MzHFsqq0wgHI",
        "outputId": "dca7d6d2-5859-49a4-cca5-1fb520bf60de"
      },
      "execution_count": null,
      "outputs": [
        {
          "output_type": "display_data",
          "data": {
            "text/plain": [
              "<Figure size 432x288 with 1 Axes>"
            ],
            "image/png": "[encoded data removed]"
          },
          "metadata": {
            "needs_background": "light"
          }
        },
        {
          "output_type": "display_data",
          "data": {
            "text/plain": [
              "<Figure size 432x288 with 1 Axes>"
            ],
            "image/png": "[encoded data removed]"
          },
          "metadata": {
            "needs_background": "light"
          }
        },
        {
          "output_type": "display_data",
          "data": {
            "text/plain": [
              "<Figure size 432x288 with 1 Axes>"
            ],
            "image/png": "[encoded data removed]"
          },
          "metadata": {
            "needs_background": "light"
          }
        },
        {
          "output_type": "display_data",
          "data": {
            "text/plain": [
              "<Figure size 432x288 with 1 Axes>"
            ],
            "image/png": "[encoded data removed]"
          },
          "metadata": {
            "needs_background": "light"
          }
        },
        {
          "output_type": "display_data",
          "data": {
            "text/plain": [
              "<Figure size 432x288 with 1 Axes>"
            ],
            "image/png": "[encoded data removed]"
          },
          "metadata": {
            "needs_background": "light"
          }
        },
        {
          "output_type": "display_data",
          "data": {
            "text/plain": [
              "<Figure size 432x288 with 1 Axes>"
            ],
            "image/png": "[encoded data removed]"
          },
          "metadata": {
            "needs_background": "light"
          }
        },
        {
          "output_type": "display_data",
          "data": {
            "text/plain": [
              "<Figure size 432x288 with 1 Axes>"
            ],
            "image/png": "[encoded data removed]"
          },
          "metadata": {
            "needs_background": "light"
          }
        },
        {
          "output_type": "display_data",
          "data": {
            "text/plain": [
              "<Figure size 432x288 with 1 Axes>"
            ],
            "image/png": "[encoded data removed]"
          },
          "metadata": {
            "needs_background": "light"
          }
        },
        {
          "output_type": "display_data",
          "data": {
            "text/plain": [
              "<Figure size 432x288 with 1 Axes>"
            ],
            "image/png": "[encoded data removed]"
          },
          "metadata": {
            "needs_background": "light"
          }
        },
        {
          "output_type": "display_data",
          "data": {
            "text/plain": [
              "<Figure size 432x288 with 1 Axes>"
            ],
            "image/png": "[encoded data removed]"
          },
          "metadata": {
            "needs_background": "light"
          }
        },
        {
          "output_type": "display_data",
          "data": {
            "text/plain": [
              "<Figure size 432x288 with 1 Axes>"
            ],
            "image/png": "[encoded data removed]"
          },
          "metadata": {
            "needs_background": "light"
          }
        },
        {
          "output_type": "display_data",
          "data": {
            "text/plain": [
              "<Figure size 432x288 with 1 Axes>"
            ],
            "image/png": "[encoded data removed]"
          },
          "metadata": {
            "needs_background": "light"
          }
        },
        {
          "output_type": "display_data",
          "data": {
            "text/plain": [
              "<Figure size 432x288 with 1 Axes>"
            ],
            "image/png": "[encoded data removed]"
          },
          "metadata": {
            "needs_background": "light"
          }
        }
      ]
    },
    {
      "cell_type": "code",
      "source": [
        "#Fungsi Perhitungan Range(Jangkauan)\n",
        "def minmax(val_list):\n",
        "    min_val = min(val_list)\n",
        "    max_val = max(val_list)\n",
        "\n",
        "    return (min_val, max_val)"
      ],
      "metadata": {
        "id": "tXsiTrKLk5Lh"
      },
      "execution_count": null,
      "outputs": []
    },
    {
      "cell_type": "code",
      "source": [
        "X.head()"
      ],
      "metadata": {
        "colab": {
          "base_uri": "https://localhost:8080/",
          "height": 238
        },
        "id": "SFaGILwtC5wT",
        "outputId": "6c2e6bbf-7690-4acb-bb8c-0a4c7cf36b87"
      },
      "execution_count": null,
      "outputs": [
        {
          "output_type": "execute_result",
          "data": {
            "text/plain": [
              "                                  product  reload_1  reload_2    video  \\\n",
              "customer_id                                                              \n",
              "285fae8412c4720a0c79d95f98434422        0  27734.30  24381.32  22000.0   \n",
              "f45bce87ca6bf100f222fcc0db06b624        0  26433.00  26515.50      0.0   \n",
              "09b54557b1e2a10d998e3473a9ccd2a0        0  93212.17  67101.83      0.0   \n",
              "11f252f48be36f93dd429f2ec86cb2f5        0    183.33   1087.17      0.0   \n",
              "a8df29ae9195eea348d2f74c967b978d        0  95296.67  76246.50      0.0   \n",
              "\n",
              "                                    music     games    chat_1    chat_2  \\\n",
              "customer_id                                                               \n",
              "285fae8412c4720a0c79d95f98434422  33009.9  25669.97    1716.0    2145.0   \n",
              "f45bce87ca6bf100f222fcc0db06b624      0.0      0.00       0.0   15444.0   \n",
              "09b54557b1e2a10d998e3473a9ccd2a0      0.0      0.00   86795.5   94649.5   \n",
              "11f252f48be36f93dd429f2ec86cb2f5      0.0      0.00       0.0       0.0   \n",
              "a8df29ae9195eea348d2f74c967b978d      0.0  11000.00  118800.0  104940.0   \n",
              "\n",
              "                                  socmed_1  socmed_2  internet  days_active  \\\n",
              "customer_id                                                                   \n",
              "285fae8412c4720a0c79d95f98434422       0.0     792.0   11000.0           15   \n",
              "f45bce87ca6bf100f222fcc0db06b624       0.0       0.0   74151.0           13   \n",
              "09b54557b1e2a10d998e3473a9ccd2a0     330.0    1485.0   27467.0           15   \n",
              "11f252f48be36f93dd429f2ec86cb2f5       0.0       0.0       0.0            2   \n",
              "a8df29ae9195eea348d2f74c967b978d       0.0       0.0   63855.0           15   \n",
              "\n",
              "                                  tenure  \n",
              "customer_id                               \n",
              "285fae8412c4720a0c79d95f98434422     776  \n",
              "f45bce87ca6bf100f222fcc0db06b624     352  \n",
              "09b54557b1e2a10d998e3473a9ccd2a0    1987  \n",
              "11f252f48be36f93dd429f2ec86cb2f5     285  \n",
              "a8df29ae9195eea348d2f74c967b978d    1081  "
            ],
            "text/html": [
              "\n",
              "  <div id=\"df-3e67ff48-3891-4fa7-8b8a-ef9f1707a766\">\n",
              "    <div class=\"colab-df-container\">\n",
              "      <div>\n",
              "<style scoped>\n",
              "    .dataframe tbody tr th:only-of-type {\n",
              "        vertical-align: middle;\n",
              "    }\n",
              "\n",
              "    .dataframe tbody tr th {\n",
              "        vertical-align: top;\n",
              "    }\n",
              "\n",
              "    .dataframe thead th {\n",
              "        text-align: right;\n",
              "    }\n",
              "</style>\n",
              "<table border=\"1\" class=\"dataframe\">\n",
              "  <thead>\n",
              "    <tr style=\"text-align: right;\">\n",
              "      <th></th>\n",
              "      <th>product</th>\n",
              "      <th>reload_1</th>\n",
              "      <th>reload_2</th>\n",
              "      <th>video</th>\n",
              "      <th>music</th>\n",
              "      <th>games</th>\n",
              "      <th>chat_1</th>\n",
              "      <th>chat_2</th>\n",
              "      <th>socmed_1</th>\n",
              "      <th>socmed_2</th>\n",
              "      <th>internet</th>\n",
              "      <th>days_active</th>\n",
              "      <th>tenure</th>\n",
              "    </tr>\n",
              "    <tr>\n",
              "      <th>customer_id</th>\n",
              "      <th></th>\n",
              "      <th></th>\n",
              "      <th></th>\n",
              "      <th></th>\n",
              "      <th></th>\n",
              "      <th></th>\n",
              "      <th></th>\n",
              "      <th></th>\n",
              "      <th></th>\n",
              "      <th></th>\n",
              "      <th></th>\n",
              "      <th></th>\n",
              "      <th></th>\n",
              "    </tr>\n",
              "  </thead>\n",
              "  <tbody>\n",
              "    <tr>\n",
              "      <th>285fae8412c4720a0c79d95f98434422</th>\n",
              "      <td>0</td>\n",
              "      <td>27734.30</td>\n",
              "      <td>24381.32</td>\n",
              "      <td>22000.0</td>\n",
              "      <td>33009.9</td>\n",
              "      <td>25669.97</td>\n",
              "      <td>1716.0</td>\n",
              "      <td>2145.0</td>\n",
              "      <td>0.0</td>\n",
              "      <td>792.0</td>\n",
              "      <td>11000.0</td>\n",
              "      <td>15</td>\n",
              "      <td>776</td>\n",
              "    </tr>\n",
              "    <tr>\n",
              "      <th>f45bce87ca6bf100f222fcc0db06b624</th>\n",
              "      <td>0</td>\n",
              "      <td>26433.00</td>\n",
              "      <td>26515.50</td>\n",
              "      <td>0.0</td>\n",
              "      <td>0.0</td>\n",
              "      <td>0.00</td>\n",
              "      <td>0.0</td>\n",
              "      <td>15444.0</td>\n",
              "      <td>0.0</td>\n",
              "      <td>0.0</td>\n",
              "      <td>74151.0</td>\n",
              "      <td>13</td>\n",
              "      <td>352</td>\n",
              "    </tr>\n",
              "    <tr>\n",
              "      <th>09b54557b1e2a10d998e3473a9ccd2a0</th>\n",
              "      <td>0</td>\n",
              "      <td>93212.17</td>\n",
              "      <td>67101.83</td>\n",
              "      <td>0.0</td>\n",
              "      <td>0.0</td>\n",
              "      <td>0.00</td>\n",
              "      <td>86795.5</td>\n",
              "      <td>94649.5</td>\n",
              "      <td>330.0</td>\n",
              "      <td>1485.0</td>\n",
              "      <td>27467.0</td>\n",
              "      <td>15</td>\n",
              "      <td>1987</td>\n",
              "    </tr>\n",
              "    <tr>\n",
              "      <th>11f252f48be36f93dd429f2ec86cb2f5</th>\n",
              "      <td>0</td>\n",
              "      <td>183.33</td>\n",
              "      <td>1087.17</td>\n",
              "      <td>0.0</td>\n",
              "      <td>0.0</td>\n",
              "      <td>0.00</td>\n",
              "      <td>0.0</td>\n",
              "      <td>0.0</td>\n",
              "      <td>0.0</td>\n",
              "      <td>0.0</td>\n",
              "      <td>0.0</td>\n",
              "      <td>2</td>\n",
              "      <td>285</td>\n",
              "    </tr>\n",
              "    <tr>\n",
              "      <th>a8df29ae9195eea348d2f74c967b978d</th>\n",
              "      <td>0</td>\n",
              "      <td>95296.67</td>\n",
              "      <td>76246.50</td>\n",
              "      <td>0.0</td>\n",
              "      <td>0.0</td>\n",
              "      <td>11000.00</td>\n",
              "      <td>118800.0</td>\n",
              "      <td>104940.0</td>\n",
              "      <td>0.0</td>\n",
              "      <td>0.0</td>\n",
              "      <td>63855.0</td>\n",
              "      <td>15</td>\n",
              "      <td>1081</td>\n",
              "    </tr>\n",
              "  </tbody>\n",
              "</table>\n",
              "</div>\n",
              "      <button class=\"colab-df-convert\" onclick=\"convertToInteractive('df-3e67ff48-3891-4fa7-8b8a-ef9f1707a766')\"\n",
              "              title=\"Convert this dataframe to an interactive table.\"\n",
              "              style=\"display:none;\">\n",
              "        \n",
              "  <svg xmlns=\"http://www.w3.org/2000/svg\" height=\"24px\"viewBox=\"0 0 24 24\"\n",
              "       width=\"24px\">\n",
              "    <path d=\"M0 0h24v24H0V0z\" fill=\"none\"/>\n",
              "    <path d=\"M18.56 5.44l.94 2.06.94-2.06 2.06-.94-2.06-.94-.94-2.06-.94 2.06-2.06.94zm-11 1L8.5 8.5l.94-2.06 2.06-.94-2.06-.94L8.5 2.5l-.94 2.06-2.06.94zm10 10l.94 2.06.94-2.06 2.06-.94-2.06-.94-.94-2.06-.94 2.06-2.06.94z\"/><path d=\"M17.41 7.96l-1.37-1.37c-.4-.4-.92-.59-1.43-.59-.52 0-1.04.2-1.43.59L10.3 9.45l-7.72 7.72c-.78.78-.78 2.05 0 2.83L4 21.41c.39.39.9.59 1.41.59.51 0 1.02-.2 1.41-.59l7.78-7.78 2.81-2.81c.8-.78.8-2.07 0-2.86zM5.41 20L4 18.59l7.72-7.72 1.47 1.35L5.41 20z\"/>\n",
              "  </svg>\n",
              "      </button>\n",
              "      \n",
              "  <style>\n",
              "    .colab-df-container {\n",
              "      display:flex;\n",
              "      flex-wrap:wrap;\n",
              "      gap: 12px;\n",
              "    }\n",
              "\n",
              "    .colab-df-convert {\n",
              "      background-color: #E8F0FE;\n",
              "      border: none;\n",
              "      border-radius: 50%;\n",
              "      cursor: pointer;\n",
              "      display: none;\n",
              "      fill: #1967D2;\n",
              "      height: 32px;\n",
              "      padding: 0 0 0 0;\n",
              "      width: 32px;\n",
              "    }\n",
              "\n",
              "    .colab-df-convert:hover {\n",
              "      background-color: #E2EBFA;\n",
              "      box-shadow: 0px 1px 2px rgba(60, 64, 67, 0.3), 0px 1px 3px 1px rgba(60, 64, 67, 0.15);\n",
              "      fill: #174EA6;\n",
              "    }\n",
              "\n",
              "    [theme=dark] .colab-df-convert {\n",
              "      background-color: #3B4455;\n",
              "      fill: #D2E3FC;\n",
              "    }\n",
              "\n",
              "    [theme=dark] .colab-df-convert:hover {\n",
              "      background-color: #434B5C;\n",
              "      box-shadow: 0px 1px 3px 1px rgba(0, 0, 0, 0.15);\n",
              "      filter: drop-shadow(0px 1px 2px rgba(0, 0, 0, 0.3));\n",
              "      fill: #FFFFFF;\n",
              "    }\n",
              "  </style>\n",
              "\n",
              "      <script>\n",
              "        const buttonEl =\n",
              "          document.querySelector('#df-3e67ff48-3891-4fa7-8b8a-ef9f1707a766 button.colab-df-convert');\n",
              "        buttonEl.style.display =\n",
              "          google.colab.kernel.accessAllowed ? 'block' : 'none';\n",
              "\n",
              "        async function convertToInteractive(key) {\n",
              "          const element = document.querySelector('#df-3e67ff48-3891-4fa7-8b8a-ef9f1707a766');\n",
              "          const dataTable =\n",
              "            await google.colab.kernel.invokeFunction('convertToInteractive',\n",
              "                                                     [key], {});\n",
              "          if (!dataTable) return;\n",
              "\n",
              "          const docLinkHtml = 'Like what you see? Visit the ' +\n",
              "            '<a target=\"_blank\" href=https://colab.research.google.com/notebooks/data_table.ipynb>data table notebook</a>'\n",
              "            + ' to learn more about interactive tables.';\n",
              "          element.innerHTML = '';\n",
              "          dataTable['output_type'] = 'display_data';\n",
              "          await google.colab.output.renderOutput(dataTable, element);\n",
              "          const docLink = document.createElement('div');\n",
              "          docLink.innerHTML = docLinkHtml;\n",
              "          element.appendChild(docLink);\n",
              "        }\n",
              "      </script>\n",
              "    </div>\n",
              "  </div>\n",
              "  "
            ]
          },
          "metadata": {},
          "execution_count": 241
        }
      ]
    },
    {
      "cell_type": "code",
      "source": [
        "#Menghitung Jangkauan Dari Setiap Fitur(Sebelum di normalisasi)\n",
        "for i in X.columns:\n",
        "    print(f'{i} :', minmax(df[i]))"
      ],
      "metadata": {
        "colab": {
          "base_uri": "https://localhost:8080/"
        },
        "id": "7WFtCOUP2DLN",
        "outputId": "683bef41-bf21-4363-9ae9-b4d40317d890"
      },
      "execution_count": null,
      "outputs": [
        {
          "output_type": "stream",
          "name": "stdout",
          "text": [
            "product : (0, 2)\n",
            "reload_1 : (0.0, 24380882.53)\n",
            "reload_2 : (0.0, 12457273.95)\n",
            "video : (0.0, 693999.6)\n",
            "music : (0.0, 768998.2)\n",
            "games : (0.0, 674665.63)\n",
            "chat_1 : (0.0, 3899875.1)\n",
            "chat_2 : (0.0, 4565244.2)\n",
            "socmed_1 : (0.0, 301620.0)\n",
            "socmed_2 : (0.0, 294525.0)\n",
            "internet : (0.0, 5799988.7)\n",
            "days_active : (0, 15)\n",
            "tenure : (181, 8938)\n"
          ]
        }
      ]
    },
    {
      "cell_type": "code",
      "source": [
        "#Normalisasi Dengan Min-Max\n",
        "X_normal = X.apply(lambda x: (x - np.mean(x)) / (np.max(x) - np.min(x)))"
      ],
      "metadata": {
        "id": "XznKq3OHCTcT"
      },
      "execution_count": null,
      "outputs": []
    },
    {
      "cell_type": "code",
      "source": [
        "X_normal.head()"
      ],
      "metadata": {
        "colab": {
          "base_uri": "https://localhost:8080/",
          "height": 238
        },
        "id": "McNw2QtSC8zV",
        "outputId": "f894701b-6591-40a9-a856-c97695607446"
      },
      "execution_count": null,
      "outputs": [
        {
          "output_type": "execute_result",
          "data": {
            "text/plain": [
              "                                  product  reload_1  reload_2     video  \\\n",
              "customer_id                                                               \n",
              "285fae8412c4720a0c79d95f98434422 -0.83875 -0.000925 -0.002134  0.023687   \n",
              "f45bce87ca6bf100f222fcc0db06b624 -0.83875 -0.000978 -0.001963 -0.008013   \n",
              "09b54557b1e2a10d998e3473a9ccd2a0 -0.83875  0.001761  0.001295 -0.008013   \n",
              "11f252f48be36f93dd429f2ec86cb2f5 -0.83875 -0.002055 -0.004004 -0.008013   \n",
              "a8df29ae9195eea348d2f74c967b978d -0.83875  0.001846  0.002029 -0.008013   \n",
              "\n",
              "                                     music     games    chat_1    chat_2  \\\n",
              "customer_id                                                                \n",
              "285fae8412c4720a0c79d95f98434422  0.035151  0.028556 -0.005436 -0.004389   \n",
              "f45bce87ca6bf100f222fcc0db06b624 -0.007775 -0.009492 -0.005876 -0.001476   \n",
              "09b54557b1e2a10d998e3473a9ccd2a0 -0.007775 -0.009492  0.016380  0.015873   \n",
              "11f252f48be36f93dd429f2ec86cb2f5 -0.007775 -0.009492 -0.005876 -0.004859   \n",
              "a8df29ae9195eea348d2f74c967b978d -0.007775  0.006812  0.024587  0.018127   \n",
              "\n",
              "                                  socmed_1  socmed_2  internet  days_active  \\\n",
              "customer_id                                                                   \n",
              "285fae8412c4720a0c79d95f98434422 -0.001240  0.001367 -0.002196     0.473380   \n",
              "f45bce87ca6bf100f222fcc0db06b624 -0.001240 -0.001322  0.008692     0.340047   \n",
              "09b54557b1e2a10d998e3473a9ccd2a0 -0.000146  0.003720  0.000643     0.473380   \n",
              "11f252f48be36f93dd429f2ec86cb2f5 -0.001240 -0.001322 -0.004093    -0.393287   \n",
              "a8df29ae9195eea348d2f74c967b978d -0.001240 -0.001322  0.006917     0.473380   \n",
              "\n",
              "                                    tenure  \n",
              "customer_id                                 \n",
              "285fae8412c4720a0c79d95f98434422 -0.080762  \n",
              "f45bce87ca6bf100f222fcc0db06b624 -0.129180  \n",
              "09b54557b1e2a10d998e3473a9ccd2a0  0.057527  \n",
              "11f252f48be36f93dd429f2ec86cb2f5 -0.136831  \n",
              "a8df29ae9195eea348d2f74c967b978d -0.045933  "
            ],
            "text/html": [
              "\n",
              "  <div id=\"df-c49d8eea-6d79-4288-91d2-adb0fb8be3e9\">\n",
              "    <div class=\"colab-df-container\">\n",
              "      <div>\n",
              "<style scoped>\n",
              "    .dataframe tbody tr th:only-of-type {\n",
              "        vertical-align: middle;\n",
              "    }\n",
              "\n",
              "    .dataframe tbody tr th {\n",
              "        vertical-align: top;\n",
              "    }\n",
              "\n",
              "    .dataframe thead th {\n",
              "        text-align: right;\n",
              "    }\n",
              "</style>\n",
              "<table border=\"1\" class=\"dataframe\">\n",
              "  <thead>\n",
              "    <tr style=\"text-align: right;\">\n",
              "      <th></th>\n",
              "      <th>product</th>\n",
              "      <th>reload_1</th>\n",
              "      <th>reload_2</th>\n",
              "      <th>video</th>\n",
              "      <th>music</th>\n",
              "      <th>games</th>\n",
              "      <th>chat_1</th>\n",
              "      <th>chat_2</th>\n",
              "      <th>socmed_1</th>\n",
              "      <th>socmed_2</th>\n",
              "      <th>internet</th>\n",
              "      <th>days_active</th>\n",
              "      <th>tenure</th>\n",
              "    </tr>\n",
              "    <tr>\n",
              "      <th>customer_id</th>\n",
              "      <th></th>\n",
              "      <th></th>\n",
              "      <th></th>\n",
              "      <th></th>\n",
              "      <th></th>\n",
              "      <th></th>\n",
              "      <th></th>\n",
              "      <th></th>\n",
              "      <th></th>\n",
              "      <th></th>\n",
              "      <th></th>\n",
              "      <th></th>\n",
              "      <th></th>\n",
              "    </tr>\n",
              "  </thead>\n",
              "  <tbody>\n",
              "    <tr>\n",
              "      <th>285fae8412c4720a0c79d95f98434422</th>\n",
              "      <td>-0.83875</td>\n",
              "      <td>-0.000925</td>\n",
              "      <td>-0.002134</td>\n",
              "      <td>0.023687</td>\n",
              "      <td>0.035151</td>\n",
              "      <td>0.028556</td>\n",
              "      <td>-0.005436</td>\n",
              "      <td>-0.004389</td>\n",
              "      <td>-0.001240</td>\n",
              "      <td>0.001367</td>\n",
              "      <td>-0.002196</td>\n",
              "      <td>0.473380</td>\n",
              "      <td>-0.080762</td>\n",
              "    </tr>\n",
              "    <tr>\n",
              "      <th>f45bce87ca6bf100f222fcc0db06b624</th>\n",
              "      <td>-0.83875</td>\n",
              "      <td>-0.000978</td>\n",
              "      <td>-0.001963</td>\n",
              "      <td>-0.008013</td>\n",
              "      <td>-0.007775</td>\n",
              "      <td>-0.009492</td>\n",
              "      <td>-0.005876</td>\n",
              "      <td>-0.001476</td>\n",
              "      <td>-0.001240</td>\n",
              "      <td>-0.001322</td>\n",
              "      <td>0.008692</td>\n",
              "      <td>0.340047</td>\n",
              "      <td>-0.129180</td>\n",
              "    </tr>\n",
              "    <tr>\n",
              "      <th>09b54557b1e2a10d998e3473a9ccd2a0</th>\n",
              "      <td>-0.83875</td>\n",
              "      <td>0.001761</td>\n",
              "      <td>0.001295</td>\n",
              "      <td>-0.008013</td>\n",
              "      <td>-0.007775</td>\n",
              "      <td>-0.009492</td>\n",
              "      <td>0.016380</td>\n",
              "      <td>0.015873</td>\n",
              "      <td>-0.000146</td>\n",
              "      <td>0.003720</td>\n",
              "      <td>0.000643</td>\n",
              "      <td>0.473380</td>\n",
              "      <td>0.057527</td>\n",
              "    </tr>\n",
              "    <tr>\n",
              "      <th>11f252f48be36f93dd429f2ec86cb2f5</th>\n",
              "      <td>-0.83875</td>\n",
              "      <td>-0.002055</td>\n",
              "      <td>-0.004004</td>\n",
              "      <td>-0.008013</td>\n",
              "      <td>-0.007775</td>\n",
              "      <td>-0.009492</td>\n",
              "      <td>-0.005876</td>\n",
              "      <td>-0.004859</td>\n",
              "      <td>-0.001240</td>\n",
              "      <td>-0.001322</td>\n",
              "      <td>-0.004093</td>\n",
              "      <td>-0.393287</td>\n",
              "      <td>-0.136831</td>\n",
              "    </tr>\n",
              "    <tr>\n",
              "      <th>a8df29ae9195eea348d2f74c967b978d</th>\n",
              "      <td>-0.83875</td>\n",
              "      <td>0.001846</td>\n",
              "      <td>0.002029</td>\n",
              "      <td>-0.008013</td>\n",
              "      <td>-0.007775</td>\n",
              "      <td>0.006812</td>\n",
              "      <td>0.024587</td>\n",
              "      <td>0.018127</td>\n",
              "      <td>-0.001240</td>\n",
              "      <td>-0.001322</td>\n",
              "      <td>0.006917</td>\n",
              "      <td>0.473380</td>\n",
              "      <td>-0.045933</td>\n",
              "    </tr>\n",
              "  </tbody>\n",
              "</table>\n",
              "</div>\n",
              "      <button class=\"colab-df-convert\" onclick=\"convertToInteractive('df-c49d8eea-6d79-4288-91d2-adb0fb8be3e9')\"\n",
              "              title=\"Convert this dataframe to an interactive table.\"\n",
              "              style=\"display:none;\">\n",
              "        \n",
              "  <svg xmlns=\"http://www.w3.org/2000/svg\" height=\"24px\"viewBox=\"0 0 24 24\"\n",
              "       width=\"24px\">\n",
              "    <path d=\"M0 0h24v24H0V0z\" fill=\"none\"/>\n",
              "    <path d=\"M18.56 5.44l.94 2.06.94-2.06 2.06-.94-2.06-.94-.94-2.06-.94 2.06-2.06.94zm-11 1L8.5 8.5l.94-2.06 2.06-.94-2.06-.94L8.5 2.5l-.94 2.06-2.06.94zm10 10l.94 2.06.94-2.06 2.06-.94-2.06-.94-.94-2.06-.94 2.06-2.06.94z\"/><path d=\"M17.41 7.96l-1.37-1.37c-.4-.4-.92-.59-1.43-.59-.52 0-1.04.2-1.43.59L10.3 9.45l-7.72 7.72c-.78.78-.78 2.05 0 2.83L4 21.41c.39.39.9.59 1.41.59.51 0 1.02-.2 1.41-.59l7.78-7.78 2.81-2.81c.8-.78.8-2.07 0-2.86zM5.41 20L4 18.59l7.72-7.72 1.47 1.35L5.41 20z\"/>\n",
              "  </svg>\n",
              "      </button>\n",
              "      \n",
              "  <style>\n",
              "    .colab-df-container {\n",
              "      display:flex;\n",
              "      flex-wrap:wrap;\n",
              "      gap: 12px;\n",
              "    }\n",
              "\n",
              "    .colab-df-convert {\n",
              "      background-color: #E8F0FE;\n",
              "      border: none;\n",
              "      border-radius: 50%;\n",
              "      cursor: pointer;\n",
              "      display: none;\n",
              "      fill: #1967D2;\n",
              "      height: 32px;\n",
              "      padding: 0 0 0 0;\n",
              "      width: 32px;\n",
              "    }\n",
              "\n",
              "    .colab-df-convert:hover {\n",
              "      background-color: #E2EBFA;\n",
              "      box-shadow: 0px 1px 2px rgba(60, 64, 67, 0.3), 0px 1px 3px 1px rgba(60, 64, 67, 0.15);\n",
              "      fill: #174EA6;\n",
              "    }\n",
              "\n",
              "    [theme=dark] .colab-df-convert {\n",
              "      background-color: #3B4455;\n",
              "      fill: #D2E3FC;\n",
              "    }\n",
              "\n",
              "    [theme=dark] .colab-df-convert:hover {\n",
              "      background-color: #434B5C;\n",
              "      box-shadow: 0px 1px 3px 1px rgba(0, 0, 0, 0.15);\n",
              "      filter: drop-shadow(0px 1px 2px rgba(0, 0, 0, 0.3));\n",
              "      fill: #FFFFFF;\n",
              "    }\n",
              "  </style>\n",
              "\n",
              "      <script>\n",
              "        const buttonEl =\n",
              "          document.querySelector('#df-c49d8eea-6d79-4288-91d2-adb0fb8be3e9 button.colab-df-convert');\n",
              "        buttonEl.style.display =\n",
              "          google.colab.kernel.accessAllowed ? 'block' : 'none';\n",
              "\n",
              "        async function convertToInteractive(key) {\n",
              "          const element = document.querySelector('#df-c49d8eea-6d79-4288-91d2-adb0fb8be3e9');\n",
              "          const dataTable =\n",
              "            await google.colab.kernel.invokeFunction('convertToInteractive',\n",
              "                                                     [key], {});\n",
              "          if (!dataTable) return;\n",
              "\n",
              "          const docLinkHtml = 'Like what you see? Visit the ' +\n",
              "            '<a target=\"_blank\" href=https://colab.research.google.com/notebooks/data_table.ipynb>data table notebook</a>'\n",
              "            + ' to learn more about interactive tables.';\n",
              "          element.innerHTML = '';\n",
              "          dataTable['output_type'] = 'display_data';\n",
              "          await google.colab.output.renderOutput(dataTable, element);\n",
              "          const docLink = document.createElement('div');\n",
              "          docLink.innerHTML = docLinkHtml;\n",
              "          element.appendChild(docLink);\n",
              "        }\n",
              "      </script>\n",
              "    </div>\n",
              "  </div>\n",
              "  "
            ]
          },
          "metadata": {},
          "execution_count": 244
        }
      ]
    },
    {
      "cell_type": "code",
      "source": [
        "#Menghitung Jangkauan Dari Setiap Fitur(Sesudah di normalisasi)\n",
        "for i in X_normal.columns:\n",
        "    print(f'{i} :', minmax(X_normal[i]))"
      ],
      "metadata": {
        "colab": {
          "base_uri": "https://localhost:8080/"
        },
        "id": "GDxtvq2RCvMi",
        "outputId": "4d28c7cb-c25b-4715-bafd-fadf284452fd"
      },
      "execution_count": null,
      "outputs": [
        {
          "output_type": "stream",
          "name": "stdout",
          "text": [
            "product : (-0.83875, 0.16125)\n",
            "reload_1 : (-0.0020622925849025932, 0.9979377074150975)\n",
            "reload_2 : (-0.004091343691209424, 0.9959086563087906)\n",
            "video : (-0.008012834286936183, 0.9919871657130638)\n",
            "music : (-0.007775071485212823, 0.9922249285147872)\n",
            "games : (-0.009492469368863504, 0.9905075306311365)\n",
            "chat_1 : (-0.0058755860022286326, 0.9941244139977714)\n",
            "chat_2 : (-0.004859323971322282, 0.9951406760286777)\n",
            "socmed_1 : (-0.001240160566275446, 0.9987598394337246)\n",
            "socmed_2 : (-0.0013216522875816995, 0.9986783477124183)\n",
            "internet : (-0.004092614367162472, 0.9959073856328375)\n",
            "days_active : (-0.52662, 0.47337999999999997)\n",
            "tenure : (-0.14870751398880896, 0.851292486011191)\n"
          ]
        }
      ]
    },
    {
      "cell_type": "markdown",
      "source": [
        "**Kesimpulan : Dengan dilakukannya normalisasi, data yang mempunyai rentang atau jangkauan yang jauh dapat dihindari, atau menghilangkan dan mengurangi redudansi data.**"
      ],
      "metadata": {
        "id": "vZx1HtnFEW-C"
      }
    },
    {
      "cell_type": "code",
      "source": [
        "X = preprocessing.StandardScaler().fit(X).transform(X.astype(int))"
      ],
      "metadata": {
        "id": "MPIPQXJTzTCl"
      },
      "execution_count": null,
      "outputs": []
    },
    {
      "cell_type": "markdown",
      "source": [
        "**Pembagian Data Training dan Testing**\n",
        "\n",
        "Untuk menghasilkan model yang baik, perlu dilakukan pengujian yang baik. Aturan umum yang berlaku adalah data training dan testing harus dipisahkan terlebih dahulu. Dengan kata lain tidak boleh menggunakan data yang sama untuk training dan testing. Kali ini kita membagi dataset dengan komposisi **sebesar 80% data training dan 20% data testing.**"
      ],
      "metadata": {
        "id": "d7l552xsphzR"
      }
    },
    {
      "cell_type": "code",
      "source": [
        "from sklearn.model_selection import train_test_split\n",
        "\n",
        "X_train, X_test, Y_train, Y_test = train_test_split( X, Y, test_size=0.2, random_state=4)\n",
        "print ('Train set:', X_train.shape,  Y_train.shape)\n",
        "print ('Test set:', X_test.shape,  Y_test.shape)"
      ],
      "metadata": {
        "id": "eQnEIE6evbKo",
        "colab": {
          "base_uri": "https://localhost:8080/"
        },
        "outputId": "9fc49741-3d42-42a0-ac8f-f8da9c8d5b4d"
      },
      "execution_count": null,
      "outputs": [
        {
          "output_type": "stream",
          "name": "stdout",
          "text": [
            "Train set: (8000, 13) (8000,)\n",
            "Test set: (2000, 13) (2000,)\n"
          ]
        }
      ]
    },
    {
      "cell_type": "markdown",
      "source": [
        "**Klasifikasi K-nearest neighbor (K-NN)**"
      ],
      "metadata": {
        "id": "z9YZHZoVpu6a"
      }
    },
    {
      "cell_type": "markdown",
      "source": [
        "**Training**\n",
        "\n",
        "Pertama, tentukan nilai k. Kita akan coba dengan nikai k=7:"
      ],
      "metadata": {
        "id": "SGCFH3-dp8gr"
      }
    },
    {
      "cell_type": "code",
      "source": [
        "k = 7\n",
        "#Train Model and Predict  \n",
        "knn = KNeighborsClassifier(n_neighbors = k).fit(X_train,Y_train)\n",
        "knn"
      ],
      "metadata": {
        "id": "xx3_AaZWvnDt",
        "colab": {
          "base_uri": "https://localhost:8080/"
        },
        "outputId": "87e0104f-378d-466d-eb04-0cfe698174e6"
      },
      "execution_count": null,
      "outputs": [
        {
          "output_type": "execute_result",
          "data": {
            "text/plain": [
              "KNeighborsClassifier(n_neighbors=7)"
            ]
          },
          "metadata": {},
          "execution_count": 248
        }
      ]
    },
    {
      "cell_type": "markdown",
      "source": [
        "**Predicting**\n",
        "\n",
        "Kita sudah dapat menggunakan **model** yang terbentuk **untuk memprediksikan data**"
      ],
      "metadata": {
        "id": "CcxEYEtYqBTc"
      }
    },
    {
      "cell_type": "code",
      "source": [
        "yhat = knn.predict(X_test)\n",
        "print(yhat)"
      ],
      "metadata": {
        "id": "vN8irEBJvnAI",
        "colab": {
          "base_uri": "https://localhost:8080/"
        },
        "outputId": "57a391f9-67e3-4d0b-f89b-b980f100f126"
      },
      "execution_count": null,
      "outputs": [
        {
          "output_type": "stream",
          "name": "stdout",
          "text": [
            "[0 1 0 ... 1 0 0]\n"
          ]
        }
      ]
    },
    {
      "cell_type": "markdown",
      "source": [
        "**Perhitungan Akurasi**\n",
        "\n",
        "Pada klasifikasi, **nilai akurasi klasifikasi** secara sederhana dapat dihitung dengan memperbandingkan kelas **hasil prediksi algoritma** dengan kelas sebenarnya / actual class."
      ],
      "metadata": {
        "id": "XTBtZfjLqLb5"
      }
    },
    {
      "cell_type": "code",
      "source": [
        "from sklearn import metrics\n",
        "print(\"Train set Accuracy: \", metrics.accuracy_score(Y_train, knn.predict(X_train)))\n",
        "print(\"Test set Accuracy: \", metrics.accuracy_score(Y_test, yhat))"
      ],
      "metadata": {
        "id": "WYLUYWqivm3U",
        "colab": {
          "base_uri": "https://localhost:8080/"
        },
        "outputId": "726c5f37-e329-48d2-ce5f-5d19e55a540f"
      },
      "execution_count": null,
      "outputs": [
        {
          "output_type": "stream",
          "name": "stdout",
          "text": [
            "Train set Accuracy:  0.93475\n",
            "Test set Accuracy:  0.918\n"
          ]
        }
      ]
    },
    {
      "cell_type": "markdown",
      "source": [
        "**MENCARI NILAI TERBAIK**\n",
        "\n",
        "Performa dari model** K-NN sangat bergantung dengan nilai K**. Lalu bagaimana memilih nilai K yang terbaik? Jawabnya, kita harus lakukan pengujian.\n",
        "\n",
        "Kode berikut ini bertujuan untuk melakukan pengujian nilai k dari **k=1 s.d k=10.**"
      ],
      "metadata": {
        "id": "8bpolskTqcqP"
      }
    },
    {
      "cell_type": "code",
      "source": [
        "Ks = 11\n",
        "mean_acc = np.zeros((Ks-1))\n",
        "std_acc = np.zeros((Ks-1))\n",
        "ConfustionMx = [];\n",
        "for n in range(1,Ks):\n",
        "    \n",
        "    #Train Model and Predict  \n",
        "    neigh = KNeighborsClassifier(n_neighbors = n).fit(X_train,Y_train)\n",
        "    yhat=neigh.predict(X_test)\n",
        "    mean_acc[n-1] = metrics.accuracy_score(Y_test, yhat)\n",
        "\n",
        "    \n",
        "    std_acc[n-1]=np.std(yhat==Y_test)/np.sqrt(yhat.shape[0])\n",
        "\n",
        "mean_acc"
      ],
      "metadata": {
        "id": "75YCLt2BysWx",
        "colab": {
          "base_uri": "https://localhost:8080/"
        },
        "outputId": "f7aacd61-0596-4ee2-d00e-1514022e6836"
      },
      "execution_count": null,
      "outputs": [
        {
          "output_type": "execute_result",
          "data": {
            "text/plain": [
              "array([0.914 , 0.922 , 0.926 , 0.9265, 0.9215, 0.9215, 0.918 , 0.9185,\n",
              "       0.914 , 0.9115])"
            ]
          },
          "metadata": {},
          "execution_count": 251
        }
      ]
    },
    {
      "cell_type": "markdown",
      "source": [
        "**Lalu kita juga bisa menampilkan grafik / plot-nya untuk mempermudah pembacaan data maka dilakukan visualisasikan**"
      ],
      "metadata": {
        "id": "3qxfxb8_qrpX"
      }
    },
    {
      "cell_type": "code",
      "source": [
        "plt.plot(range(1,Ks),mean_acc,'g')\n",
        "plt.fill_between(range(1,Ks),mean_acc - 1 * std_acc,mean_acc + 1 * std_acc, alpha=0.10)\n",
        "plt.legend(('Accuracy ', '+/- 3xstd'))\n",
        "plt.ylabel('Accuracy ')\n",
        "plt.xlabel('Number of Nabors (K)')\n",
        "plt.tight_layout()\n",
        "plt.show()"
      ],
      "metadata": {
        "id": "mmJKsPCqy2mM",
        "colab": {
          "base_uri": "https://localhost:8080/",
          "height": 297
        },
        "outputId": "0fa76a32-f3e4-4d7c-c149-66b2f06c118c"
      },
      "execution_count": null,
      "outputs": [
        {
          "output_type": "display_data",
          "data": {
            "text/plain": [
              "<Figure size 432x288 with 1 Axes>"
            ],
            "image/png": "[encoded data removed]"
          },
          "metadata": {
            "needs_background": "light"
          }
        }
      ]
    },
    {
      "cell_type": "code",
      "source": [
        "print( \"The best accuracy was with\", mean_acc.max(), \"with k=\", mean_acc.argmax()+1)"
      ],
      "metadata": {
        "id": "QGxYganSy7SR",
        "colab": {
          "base_uri": "https://localhost:8080/"
        },
        "outputId": "c27ada18-1b83-4044-cd37-0e58db60f0c4"
      },
      "execution_count": null,
      "outputs": [
        {
          "output_type": "stream",
          "name": "stdout",
          "text": [
            "The best accuracy was with 0.9265 with k= 4\n"
          ]
        }
      ]
    },
    {
      "cell_type": "markdown",
      "source": [
        "# Tugas\n",
        "Lakukan pemodelan KNN dengan k terbaik yang sudah terpilih, lakukan prediksi dan hitung akurasinya"
      ],
      "metadata": {
        "id": "fxL-n0Ih3FTr"
      }
    },
    {
      "cell_type": "code",
      "source": [
        "k = 4\n",
        "#Train Model and Predict  \n",
        "knn = KNeighborsClassifier(n_neighbors = k).fit(X_train,Y_train)"
      ],
      "metadata": {
        "id": "8qOlylu1xuw8"
      },
      "execution_count": null,
      "outputs": []
    },
    {
      "cell_type": "code",
      "source": [
        "#Prediksi Data\n",
        "yhat = knn.predict(X_test)\n",
        "print(yhat)"
      ],
      "metadata": {
        "colab": {
          "base_uri": "https://localhost:8080/"
        },
        "id": "gMi2qR0FFsAP",
        "outputId": "7026aeed-dffa-438f-e877-aac673166684"
      },
      "execution_count": null,
      "outputs": [
        {
          "output_type": "stream",
          "name": "stdout",
          "text": [
            "[0 1 0 ... 1 0 0]\n"
          ]
        }
      ]
    },
    {
      "cell_type": "code",
      "source": [
        "#Hitung Akurasi\n",
        "from sklearn import metrics\n",
        "print(\"Train set Accuracy: \", metrics.accuracy_score(Y_train, knn.predict(X_train)))\n",
        "print(\"Test set Accuracy: \", metrics.accuracy_score(Y_test, yhat))"
      ],
      "metadata": {
        "colab": {
          "base_uri": "https://localhost:8080/"
        },
        "id": "x8OJRoQtFaMK",
        "outputId": "d27a0463-fbe2-46f5-e95b-8192500271f7"
      },
      "execution_count": null,
      "outputs": [
        {
          "output_type": "stream",
          "name": "stdout",
          "text": [
            "Train set Accuracy:  0.942375\n",
            "Test set Accuracy:  0.9265\n"
          ]
        }
      ]
    }
  ]
}