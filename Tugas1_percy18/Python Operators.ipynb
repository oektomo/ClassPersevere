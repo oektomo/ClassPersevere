{
 "cells": [
  {
   "cell_type": "code",
   "execution_count": 1,
   "id": "fed6a4f0",
   "metadata": {},
   "outputs": [
    {
     "name": "stdout",
     "output_type": "stream",
     "text": [
      "15\n"
     ]
    }
   ],
   "source": [
    "#kita akan belajar Python Operators\n",
    "print(10 + 5)\n",
    "#Pada contoh ini, kita menggunakan operator + untuk menjumlahkan dua nilai"
   ]
  },
  {
   "cell_type": "code",
   "execution_count": 3,
   "id": "48899836",
   "metadata": {},
   "outputs": [],
   "source": [
    "#kita akan belajar Python Operators pada bagian Python Arithmetic Operators\n",
    "#Operator aritmatika digunakan dengan nilai numerik untuk melakukan operasi matematika umum\n",
    "\n",
    "#+\tAddition\tx + y\n",
    "#-\tSubtraction\tx - y\n",
    "#*\tMultiplication\tx * y\n",
    "#/\tDivision\tx / y\n",
    "#%\tModulus\tx % y\n",
    "#**\tExponentiation\tx ** y\n",
    "#//\tFloor division\tx // y"
   ]
  },
  {
   "cell_type": "code",
   "execution_count": 4,
   "id": "493cbff6",
   "metadata": {},
   "outputs": [],
   "source": [
    "#kita akan belajar Python Operators pada bagian Python Assignment Operators\n",
    "#Operator penugasan digunakan untuk menetapkan nilai ke variabel\n",
    "\n",
    "#=\tx = 5\tx = 5\n",
    "#+=\tx += 3\tx = x + 3\n",
    "#-=\tx -= 3\tx = x - 3\n",
    "#*=\tx *= 3\tx = x * 3\n",
    "#/=\tx /= 3\tx = x / 3\n",
    "#%=\tx %= 3\tx = x % 3\n",
    "#//=\tx //= 3\tx = x // 3\n",
    "#**=\tx **= 3\tx = x ** 3\n",
    "#&=\tx &= 3\tx = x & 3\n",
    "#|=\tx |= 3\tx = x | 3\n",
    "#^=\tx ^= 3\tx = x ^ 3\n",
    "#>>=\tx >>= 3\tx = x >> 3\n",
    "#<<=\tx <<= 3\tx = x << 3"
   ]
  },
  {
   "cell_type": "code",
   "execution_count": 5,
   "id": "0f0590c3",
   "metadata": {},
   "outputs": [],
   "source": [
    "#kita akan belajar Python Operators pada bagian Python Comparison Operators\n",
    "#Operator perbandingan digunakan untuk membandingkan dua nilai\n",
    "\n",
    "#==\tEqual\tx == y\n",
    "#!=\tNot equal\tx != y\n",
    "#>\tGreater than\tx > y\n",
    "#<\tLess than\tx < y\n",
    "#>=\tGreater than or equal to\tx >= y\n",
    "#<=\tLess than or equal to\tx <= y"
   ]
  },
  {
   "cell_type": "code",
   "execution_count": 6,
   "id": "4c70ead5",
   "metadata": {},
   "outputs": [],
   "source": [
    "#kita akan belajar Python Operators pada bagian Python Logical Operators\n",
    "#Operator logika digunakan untuk menggabungkan pernyataan kondisional\n",
    "\n",
    "#and \tReturns True if both statements are true\tx < 5 and  x < 10\n",
    "#or\tReturns True if one of the statements is true\tx < 5 or x < 4\n",
    "#not\tReverse the result, returns False if the result is true\tnot(x < 5 and x < 10)"
   ]
  },
  {
   "cell_type": "code",
   "execution_count": 7,
   "id": "ee647520",
   "metadata": {},
   "outputs": [],
   "source": [
    "#kita akan belajar Python Operators pada bagian Python Identity Operators\n",
    "#Operator identitas digunakan untuk membandingkan objek, bukan jika mereka sama, tetapi jika mereka sebenarnya adalah objek yang sama, dengan lokasi memori yang sama\n",
    "\n",
    "#is \tReturns True if both variables are the same object\tx is y\n",
    "#is not\tReturns True if both variables are not the same object\tx is not y"
   ]
  },
  {
   "cell_type": "code",
   "execution_count": 8,
   "id": "68fe6de6",
   "metadata": {},
   "outputs": [],
   "source": [
    "#kita akan belajar Python Operators pada bagian Python Membership Operators\n",
    "#Operator keanggotaan digunakan untuk menguji apakah urutan disajikan dalam suatu objek\n",
    "\n",
    "#in \tReturns True if a sequence with the specified value is present in the object\tx in y\n",
    "#not in\tReturns True if a sequence with the specified value is not present in the object\tx not in y"
   ]
  },
  {
   "cell_type": "code",
   "execution_count": null,
   "id": "372c019b",
   "metadata": {},
   "outputs": [],
   "source": [
    "#kita akan belajar Python Operators pada bagian Python Bitwise Operators\n",
    "#Operator bitwise digunakan untuk membandingkan angka (biner)\n",
    "\n",
    "#& \tAND\tSets each bit to 1 if both bits are 1\n",
    "#|\tOR\tSets each bit to 1 if one of two bits is 1\n",
    "# ^\tXOR\tSets each bit to 1 if only one of two bits is 1\n",
    "#~ \tNOT\tInverts all the bits\n",
    "#<<\tZero fill left shift\tShift left by pushing zeros in from the right and let the leftmost bits fall off\n",
    "#>>\tSigned right shift\tShift right by pushing copies of the leftmost bit in from the left, and let the rightmost bits fall off"
   ]
  }
 ],
 "metadata": {
  "kernelspec": {
   "display_name": "Python 3",
   "language": "python",
   "name": "python3"
  },
  "language_info": {
   "codemirror_mode": {
    "name": "ipython",
    "version": 3
   },
   "file_extension": ".py",
   "mimetype": "text/x-python",
   "name": "python",
   "nbconvert_exporter": "python",
   "pygments_lexer": "ipython3",
   "version": "3.8.8"
  }
 },
 "nbformat": 4,
 "nbformat_minor": 5
}
