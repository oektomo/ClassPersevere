{
 "cells": [
  {
   "cell_type": "code",
   "execution_count": 1,
   "id": "1bf3cabd",
   "metadata": {},
   "outputs": [
    {
     "data": {
      "text/plain": [
       "'Python Strings'"
      ]
     },
     "execution_count": 1,
     "metadata": {},
     "output_type": "execute_result"
    }
   ],
   "source": [
    "\"\"\"Python Strings\"\"\""
   ]
  },
  {
   "cell_type": "code",
   "execution_count": 3,
   "id": "281faace",
   "metadata": {},
   "outputs": [
    {
     "name": "stdout",
     "output_type": "stream",
     "text": [
      "Hello\n",
      "Hello\n"
     ]
    }
   ],
   "source": [
    "#kita akan belajar python strings di bagian String\n",
    "print(\"Hello\")\n",
    "print('Hello')\n",
    "#String dalam python dikelilingi oleh tanda kutip tunggal, atau tanda kutip ganda.\n",
    "#'Hello' sama dengan \"Hello\"."
   ]
  },
  {
   "cell_type": "code",
   "execution_count": 4,
   "id": "7fbb7f29",
   "metadata": {},
   "outputs": [
    {
     "name": "stdout",
     "output_type": "stream",
     "text": [
      "Hello\n"
     ]
    }
   ],
   "source": [
    "#kita akan belajar python strings di bagian Assign String to a Variable\n",
    "a = \"Hello\"\n",
    "print(a)\n",
    "#Menetapkan string ke variabel dilakukan dengan nama variabel dan diikuti dengan tanda sama di string"
   ]
  },
  {
   "cell_type": "code",
   "execution_count": 6,
   "id": "af2c744a",
   "metadata": {},
   "outputs": [
    {
     "name": "stdout",
     "output_type": "stream",
     "text": [
      "Lorem ipsum dolor sit amet,\n",
      "consectetur adipiscing elit,\n",
      "sed do eiusmod tempor incididunt\n",
      "ut labore et dolore magna aliqua.\n",
      "Lorem ipsum dolor sit amet,\n",
      "consectetur adipiscing elit,\n",
      "sed do eiusmod tempor incididunt\n",
      "ut labore et dolore magna aliqua.\n"
     ]
    }
   ],
   "source": [
    "#kita akan belajar python strings di bagian Multiline Strings\n",
    "a = \"\"\"Lorem ipsum dolor sit amet,\n",
    "consectetur adipiscing elit,\n",
    "sed do eiusmod tempor incididunt\n",
    "ut labore et dolore magna aliqua.\"\"\"\n",
    "print(a)\n",
    "#kita dapat menggunakan tiga tanda kutip ganda Atau tiga kutipan tunggal\n",
    "b = '''Lorem ipsum dolor sit amet,\n",
    "consectetur adipiscing elit,\n",
    "sed do eiusmod tempor incididunt\n",
    "ut labore et dolore magna aliqua.'''\n",
    "print(b)"
   ]
  },
  {
   "cell_type": "code",
   "execution_count": 7,
   "id": "2b85b5fb",
   "metadata": {},
   "outputs": [
    {
     "name": "stdout",
     "output_type": "stream",
     "text": [
      "e\n"
     ]
    }
   ],
   "source": [
    "#kita akan belajar python strings di bagian Strings are Arrays\n",
    "a = \"Hello, World!\"\n",
    "print(a[1])\n",
    "#mendapatkan karakter di posisi 1 (ingat karakter pertama memiliki posisi 0)"
   ]
  },
  {
   "cell_type": "code",
   "execution_count": 8,
   "id": "470fee38",
   "metadata": {},
   "outputs": [
    {
     "name": "stdout",
     "output_type": "stream",
     "text": [
      "b\n",
      "a\n",
      "n\n",
      "a\n",
      "n\n",
      "a\n"
     ]
    }
   ],
   "source": [
    "#kita akan belajar python strings di bagian Looping Through a String\n",
    "for x in \"banana\":\n",
    "  print(x)\n",
    "#kita dapat mengulang karakter dalam string, dengan for loop"
   ]
  },
  {
   "cell_type": "code",
   "execution_count": 9,
   "id": "52f0d357",
   "metadata": {},
   "outputs": [
    {
     "name": "stdout",
     "output_type": "stream",
     "text": [
      "13\n"
     ]
    }
   ],
   "source": [
    "#kita akan belajar python strings di bagian String Length\n",
    "a = \"Hello, World!\"\n",
    "print(len(a))\n",
    "#Fungsi len() mengembalikan panjang string"
   ]
  },
  {
   "cell_type": "code",
   "execution_count": 11,
   "id": "deac75c6",
   "metadata": {},
   "outputs": [
    {
     "name": "stdout",
     "output_type": "stream",
     "text": [
      "True\n",
      "Yes, 'free' is present.\n"
     ]
    }
   ],
   "source": [
    "#kita akan belajar python strings di bagian Check String\n",
    "txt = \"The best things in life are free!\"\n",
    "print(\"free\" in txt)\n",
    "#Untuk memeriksa sebuah karakter apakah ada frase atau karakter tertentu dalam sebuah string.\n",
    "#jika kita menggunakan pernyataan if\n",
    "txt = \"The best things in life are free!\"\n",
    "if \"free\" in txt:\n",
    "  print(\"Yes, 'free' is present.\")"
   ]
  },
  {
   "cell_type": "code",
   "execution_count": 13,
   "id": "8517bce1",
   "metadata": {},
   "outputs": [
    {
     "name": "stdout",
     "output_type": "stream",
     "text": [
      "True\n",
      "No, 'expensive' is NOT present.\n"
     ]
    }
   ],
   "source": [
    "#kita akan belajar python strings di bagian Check if NOT\n",
    "txt = \"The best things in life are free!\"\n",
    "print(\"expensive\" not in txt)\n",
    "#Untuk memeriksa sebuah karakter apakah tidak ada frase atau karakter tertentu dalam sebuah string.\n",
    "#jika kita menggunakan pernyataan if\n",
    "txt = \"The best things in life are free!\"\n",
    "if \"expensive\" not in txt:\n",
    "  print(\"No, 'expensive' is NOT present.\")"
   ]
  },
  {
   "cell_type": "code",
   "execution_count": 14,
   "id": "8f6bbf4e",
   "metadata": {},
   "outputs": [
    {
     "data": {
      "text/plain": [
       "'Slicing Strings'"
      ]
     },
     "execution_count": 14,
     "metadata": {},
     "output_type": "execute_result"
    }
   ],
   "source": [
    "\"\"\"Slicing Strings\"\"\""
   ]
  },
  {
   "cell_type": "code",
   "execution_count": 15,
   "id": "9b080400",
   "metadata": {},
   "outputs": [
    {
     "name": "stdout",
     "output_type": "stream",
     "text": [
      "llo\n"
     ]
    }
   ],
   "source": [
    "#kita akan belajar Slicing String di bagian Slicing\n",
    "b = \"Hello, World!\"\n",
    "print(b[2:5])\n",
    "#Mengambil karakter dari posisi 2 ke posisi 5 (tidak termasuk)\n",
    "#Karakter pertama memiliki indeks 0"
   ]
  },
  {
   "cell_type": "code",
   "execution_count": 16,
   "id": "47131329",
   "metadata": {},
   "outputs": [
    {
     "name": "stdout",
     "output_type": "stream",
     "text": [
      "Hello\n"
     ]
    }
   ],
   "source": [
    "#kita akan belajar Slicing String di bagian Slice From the Start\n",
    "b = \"Hello, World!\"\n",
    "print(b[:5])\n",
    "#Mengambil karakter dari awal hingga posisi 5 (tidak termasuk)"
   ]
  },
  {
   "cell_type": "code",
   "execution_count": 17,
   "id": "2ef02984",
   "metadata": {},
   "outputs": [
    {
     "name": "stdout",
     "output_type": "stream",
     "text": [
      "llo, World!\n"
     ]
    }
   ],
   "source": [
    "#kita akan belajar Slicing String di bagian Slice To the End\n",
    "b = \"Hello, World!\"\n",
    "print(b[2:])\n",
    "#Mengambil karakter dari posisi 2, dan sampai akhir"
   ]
  },
  {
   "cell_type": "code",
   "execution_count": 19,
   "id": "968cb289",
   "metadata": {},
   "outputs": [
    {
     "name": "stdout",
     "output_type": "stream",
     "text": [
      "orl\n"
     ]
    }
   ],
   "source": [
    "#kita akan belajar Slicing String di bagian Negative Indexing\n",
    "b = \"Hello, World!\"\n",
    "print(b[-5:-2])\n",
    "#Memngambil indeks negatif untuk memulai slicing dari akhir string"
   ]
  },
  {
   "cell_type": "code",
   "execution_count": 20,
   "id": "754d9922",
   "metadata": {},
   "outputs": [
    {
     "data": {
      "text/plain": [
       "'Modify Strings'"
      ]
     },
     "execution_count": 20,
     "metadata": {},
     "output_type": "execute_result"
    }
   ],
   "source": [
    "\"\"\"Modify Strings\"\"\""
   ]
  },
  {
   "cell_type": "code",
   "execution_count": 21,
   "id": "8a2ddaa8",
   "metadata": {},
   "outputs": [
    {
     "name": "stdout",
     "output_type": "stream",
     "text": [
      "HELLO, WORLD!\n"
     ]
    }
   ],
   "source": [
    "#kita akan belajar Modify String di bagian Upper Case\n",
    "a = \"Hello, World!\"\n",
    "print(a.upper())\n",
    "#Metode upper() mengembalikan string dalam huruf besar"
   ]
  },
  {
   "cell_type": "code",
   "execution_count": 22,
   "id": "9d1438e2",
   "metadata": {},
   "outputs": [
    {
     "name": "stdout",
     "output_type": "stream",
     "text": [
      "hello, world!\n"
     ]
    }
   ],
   "source": [
    "#kita akan belajar Modify String di bagian Lower Case\n",
    "a = \"Hello, World!\"\n",
    "print(a.lower())\n",
    "#Metode upper() mengembalikan string dalam huruf kecil"
   ]
  },
  {
   "cell_type": "code",
   "execution_count": 23,
   "id": "d57a5afe",
   "metadata": {},
   "outputs": [
    {
     "name": "stdout",
     "output_type": "stream",
     "text": [
      "Hello, World!\n"
     ]
    }
   ],
   "source": [
    "#kita akan belajar Modify String di bagian Remove Whitespace\n",
    "a = \" Hello, World! \"\n",
    "print(a.strip()) # returns \"Hello, World!\"\n",
    "#Metode strip() menghapus spasi apa pun, mau dari awal maupun akhir"
   ]
  },
  {
   "cell_type": "code",
   "execution_count": 24,
   "id": "c7e47e4c",
   "metadata": {},
   "outputs": [
    {
     "name": "stdout",
     "output_type": "stream",
     "text": [
      "Jello, World!\n"
     ]
    }
   ],
   "source": [
    "#kita akan belajar Modify String di bagian Replace String\n",
    "a = \"Hello, World!\"\n",
    "print(a.replace(\"H\", \"J\"))\n",
    "#Metode replace() menggantikan string dengan string lain"
   ]
  },
  {
   "cell_type": "code",
   "execution_count": 25,
   "id": "b4c8f171",
   "metadata": {},
   "outputs": [
    {
     "name": "stdout",
     "output_type": "stream",
     "text": [
      "['Hello', ' World!']\n"
     ]
    }
   ],
   "source": [
    "#kita akan belajar Modify String di bagian Split String\n",
    "a = \"Hello, World!\"\n",
    "print(a.split(\",\")) # returns ['Hello', ' World!']\n",
    "#Metode split() membagi string menjadi substring jika menemukan contoh pemisah"
   ]
  },
  {
   "cell_type": "code",
   "execution_count": 26,
   "id": "1f24b7f7",
   "metadata": {},
   "outputs": [
    {
     "data": {
      "text/plain": [
       "'String Concatenation'"
      ]
     },
     "execution_count": 26,
     "metadata": {},
     "output_type": "execute_result"
    }
   ],
   "source": [
    "\"\"\"String Concatenation\"\"\""
   ]
  },
  {
   "cell_type": "code",
   "execution_count": 28,
   "id": "6af1b5b7",
   "metadata": {},
   "outputs": [
    {
     "name": "stdout",
     "output_type": "stream",
     "text": [
      "HelloWorld\n",
      "Hello World\n"
     ]
    }
   ],
   "source": [
    "#kita akan belajar String Concatenation\n",
    "#Untuk menggabungkan dua string kita dapat menggunakan operator dengan +.\n",
    "a = \"Hello\"\n",
    "b = \"World\"\n",
    "c = a + b\n",
    "print(c)\n",
    "#Gabungkan variabel a dengan variabel b menjadi variabel c\n",
    "#contoh lain String Concatenation\n",
    "a = \"Hello\"\n",
    "b = \"World\"\n",
    "c = a + \" \" + b\n",
    "print(c)\n",
    "#Untuk menambahkan spasi di antara keduanya, tambahkan \" \""
   ]
  },
  {
   "cell_type": "code",
   "execution_count": 29,
   "id": "6bd579ec",
   "metadata": {},
   "outputs": [
    {
     "data": {
      "text/plain": [
       "'Format - Strings'"
      ]
     },
     "execution_count": 29,
     "metadata": {},
     "output_type": "execute_result"
    }
   ],
   "source": [
    "\"\"\"Format - Strings\"\"\""
   ]
  },
  {
   "cell_type": "code",
   "execution_count": 30,
   "id": "c1011148",
   "metadata": {},
   "outputs": [
    {
     "ename": "TypeError",
     "evalue": "can only concatenate str (not \"int\") to str",
     "output_type": "error",
     "traceback": [
      "\u001b[1;31m---------------------------------------------------------------------------\u001b[0m",
      "\u001b[1;31mTypeError\u001b[0m                                 Traceback (most recent call last)",
      "\u001b[1;32m<ipython-input-30-d14680960deb>\u001b[0m in \u001b[0;36m<module>\u001b[1;34m\u001b[0m\n\u001b[0;32m      1\u001b[0m \u001b[1;31m#kita akan belajar Format - Strings di bagian String Format\u001b[0m\u001b[1;33m\u001b[0m\u001b[1;33m\u001b[0m\u001b[1;33m\u001b[0m\u001b[0m\n\u001b[0;32m      2\u001b[0m \u001b[0mage\u001b[0m \u001b[1;33m=\u001b[0m \u001b[1;36m36\u001b[0m\u001b[1;33m\u001b[0m\u001b[1;33m\u001b[0m\u001b[0m\n\u001b[1;32m----> 3\u001b[1;33m \u001b[0mtxt\u001b[0m \u001b[1;33m=\u001b[0m \u001b[1;34m\"My name is John, I am \"\u001b[0m \u001b[1;33m+\u001b[0m \u001b[0mage\u001b[0m\u001b[1;33m\u001b[0m\u001b[1;33m\u001b[0m\u001b[0m\n\u001b[0m\u001b[0;32m      4\u001b[0m \u001b[0mprint\u001b[0m\u001b[1;33m(\u001b[0m\u001b[0mtxt\u001b[0m\u001b[1;33m)\u001b[0m\u001b[1;33m\u001b[0m\u001b[1;33m\u001b[0m\u001b[0m\n",
      "\u001b[1;31mTypeError\u001b[0m: can only concatenate str (not \"int\") to str"
     ]
    }
   ],
   "source": [
    "#kita akan belajar Format - Strings di bagian String Format\n",
    "age = 36\n",
    "txt = \"My name is John, I am \" + age\n",
    "print(txt)\n",
    "#Seperti yang kita pelajari di bab Variabel Python, kita tidak dapat menggabungkan string dan angka seperti ini"
   ]
  },
  {
   "cell_type": "code",
   "execution_count": 33,
   "id": "f8255659",
   "metadata": {},
   "outputs": [
    {
     "name": "stdout",
     "output_type": "stream",
     "text": [
      "My name is John, and I am 36\n",
      "I want 3 pieces of item 567 for 49.95 dollars.\n",
      "I want to pay 49.95 dollars for 3 pieces of item 567.\n"
     ]
    }
   ],
   "source": [
    "#contoh yang benar\n",
    "age = 36\n",
    "txt = \"My name is John, and I am {}\"\n",
    "print(txt.format(age))\n",
    "#Gunakan metode format() untuk memasukkan angka ke dalam string\n",
    "#contoh lain\n",
    "quantity = 3\n",
    "itemno = 567\n",
    "price = 49.95\n",
    "myorder = \"I want {} pieces of item {} for {} dollars.\"\n",
    "print(myorder.format(quantity, itemno, price))\n",
    "#Metode format() mengambil argumen dalam jumlah tak terbatas, dan ditempatkan ke masing-masing placeholder\n",
    "#contoh lainnya\n",
    "quantity = 3\n",
    "itemno = 567\n",
    "price = 49.95\n",
    "myorder = \"I want to pay {2} dollars for {0} pieces of item {1}.\"\n",
    "print(myorder.format(quantity, itemno, price))\n",
    "#kita dapat menggunakan nomor indeks {0} untuk memastikan argumen ditempatkan di tempat penampung yang benar"
   ]
  },
  {
   "cell_type": "code",
   "execution_count": 34,
   "id": "4e9b3318",
   "metadata": {},
   "outputs": [
    {
     "data": {
      "text/plain": [
       "'Escape Characters'"
      ]
     },
     "execution_count": 34,
     "metadata": {},
     "output_type": "execute_result"
    }
   ],
   "source": [
    "\"\"\"Escape Characters\"\"\""
   ]
  },
  {
   "cell_type": "code",
   "execution_count": 35,
   "id": "3cb68348",
   "metadata": {},
   "outputs": [
    {
     "ename": "SyntaxError",
     "evalue": "invalid syntax (<ipython-input-35-cb7dc6e20f1a>, line 2)",
     "output_type": "error",
     "traceback": [
      "\u001b[1;36m  File \u001b[1;32m\"<ipython-input-35-cb7dc6e20f1a>\"\u001b[1;36m, line \u001b[1;32m2\u001b[0m\n\u001b[1;33m    txt = \"We are the so-called \"Vikings\" from the north.\"\u001b[0m\n\u001b[1;37m                                 ^\u001b[0m\n\u001b[1;31mSyntaxError\u001b[0m\u001b[1;31m:\u001b[0m invalid syntax\n"
     ]
    }
   ],
   "source": [
    "#kita akan belajar Escape Characters\n",
    "txt = \"We are the so-called \"Vikings\" from the north.\"\n",
    "#Untuk menyisipkan karakter yang ilegal dalam string, gunakan karakter escape seperti \\."
   ]
  },
  {
   "cell_type": "code",
   "execution_count": 36,
   "id": "6b3ffbca",
   "metadata": {},
   "outputs": [],
   "source": [
    "#cara memperbaikinya dengan menggunakan tanda \\\n",
    "txt = \"We are the so-called \\\"Vikings\\\" from the north.\""
   ]
  },
  {
   "cell_type": "code",
   "execution_count": 38,
   "id": "cc721052",
   "metadata": {},
   "outputs": [],
   "source": [
    "#masih di dalam Escape Characters\n",
    "\n",
    "#Ada beberapa Karakter Escape lain yang digunakan dalam Python yaitu :\n",
    "#\\'\tSingle Quote\n",
    "#\\\\\tBackslash\n",
    "#\\n\tNew Line\n",
    "#\\r\tCarriage Return\n",
    "#\\t\tTab\n",
    "#\\b\tBackspace\n",
    "#\\f\tForm Feed\n",
    "#\\ooo\tOctal value\n",
    "#\\xhh\tHex value"
   ]
  },
  {
   "cell_type": "code",
   "execution_count": 1,
   "id": "19f36f16",
   "metadata": {},
   "outputs": [
    {
     "data": {
      "text/plain": [
       "'String Methods'"
      ]
     },
     "execution_count": 1,
     "metadata": {},
     "output_type": "execute_result"
    }
   ],
   "source": [
    "\"\"\"String Methods\"\"\""
   ]
  },
  {
   "cell_type": "code",
   "execution_count": 4,
   "id": "8d227aa4",
   "metadata": {},
   "outputs": [],
   "source": [
    "#kita akan belajar String Methods\n",
    "#Semua metode string mengembalikan nilai baru. Mereka tidak mengubah string asli.\n",
    "#capitalize()\tConverts the first character to upper case\n",
    "#casefold()\tConverts string into lower case\n",
    "#center()\tReturns a centered string\n",
    "#count()\tReturns the number of times a specified value occurs in a string\n",
    "#encode()\tReturns an encoded version of the string\n",
    "#endswith()\tReturns true if the string ends with the specified value\n",
    "#expandtabs()\tSets the tab size of the string\n",
    "#find()\tSearches the string for a specified value and returns the position of where it was found\n",
    "#format()\tFormats specified values in a string\n",
    "#format_map()\tFormats specified values in a string\n",
    "#index()\tSearches the string for a specified value and returns the position of where it was found\n",
    "#isalnum()\tReturns True if all characters in the string are alphanumeric\n",
    "#isalpha()\tReturns True if all characters in the string are in the alphabet\n",
    "#isdecimal()\tReturns True if all characters in the string are decimals\n",
    "#isdigit()\tReturns True if all characters in the string are digits\n",
    "#isidentifier()\tReturns True if the string is an identifier\n",
    "#islower()\tReturns True if all characters in the string are lower case\n",
    "#isnumeric()\tReturns True if all characters in the string are numeric\n",
    "#isprintable()\tReturns True if all characters in the string are printable\n",
    "#isspace()\tReturns True if all characters in the string are whitespaces\n",
    "#istitle()\tReturns True if the string follows the rules of a title\n",
    "#isupper()\tReturns True if all characters in the string are upper case\n",
    "#join()\tJoins the elements of an iterable to the end of the string\n",
    "#ljust()\tReturns a left justified version of the string\n",
    "#lower()\tConverts a string into lower case\n",
    "#lstrip()\tReturns a left trim version of the string\n",
    "#maketrans()\tReturns a translation table to be used in translations\n",
    "#partition()\tReturns a tuple where the string is parted into three parts\n",
    "#replace()\tReturns a string where a specified value is replaced with a specified value\n",
    "#rfind()\tSearches the string for a specified value and returns the last position of where it was found\n",
    "#rindex()\tSearches the string for a specified value and returns the last position of where it was found\n",
    "#rjust()\tReturns a right justified version of the string\n",
    "#rpartition()\tReturns a tuple where the string is parted into three parts\n",
    "#rsplit()\tSplits the string at the specified separator, and returns a list\n",
    "#rstrip()\tReturns a right trim version of the string\n",
    "#split()\tSplits the string at the specified separator, and returns a list\n",
    "#splitlines()\tSplits the string at line breaks and returns a list\n",
    "#startswith()\tReturns true if the string starts with the specified value\n",
    "#strip()\tReturns a trimmed version of the string\n",
    "#swapcase()\tSwaps cases, lower case becomes upper case and vice versa\n",
    "#title()\tConverts the first character of each word to upper case\n",
    "#translate()\tReturns a translated string\n",
    "#upper()\tConverts a string into upper case\n",
    "#zfill()\tFills the string with a specified number of 0 values at the beginning"
   ]
  },
  {
   "cell_type": "code",
   "execution_count": null,
   "id": "9685e533",
   "metadata": {},
   "outputs": [],
   "source": []
  }
 ],
 "metadata": {
  "kernelspec": {
   "display_name": "Python 3",
   "language": "python",
   "name": "python3"
  },
  "language_info": {
   "codemirror_mode": {
    "name": "ipython",
    "version": 3
   },
   "file_extension": ".py",
   "mimetype": "text/x-python",
   "name": "python",
   "nbconvert_exporter": "python",
   "pygments_lexer": "ipython3",
   "version": "3.8.8"
  }
 },
 "nbformat": 4,
 "nbformat_minor": 5
}
