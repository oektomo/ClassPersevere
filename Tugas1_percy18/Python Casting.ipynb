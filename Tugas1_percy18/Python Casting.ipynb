{
 "cells": [
  {
   "cell_type": "code",
   "execution_count": 2,
   "id": "478a075e",
   "metadata": {},
   "outputs": [],
   "source": [
    "#kita akan belajar  yang namanya python casting\n",
    "#Casting di python dilakukan dengan menggunakan fungsi konstruktor, sebagai berikut :\n",
    "#int() - membangun bilangan bulat dari literal bilangan bulat, literal float (menghapus semua desimal), atau literal string (string mewakili bilangan bulat)\n",
    "#float() - membuat bilangan float dari literal integer, literal float, atau literal string (string mewakili float atau integer)\n",
    "#str() - membangun string dari berbagai tipe data, termasuk string, literal integer dan literal float"
   ]
  },
  {
   "cell_type": "code",
   "execution_count": 3,
   "id": "205e209b",
   "metadata": {},
   "outputs": [],
   "source": [
    "#contoh dari casting int\n",
    "\n",
    "x = int(1)   # x will be 1\n",
    "y = int(2.8) # y will be 2\n",
    "z = int(\"3\") # z will be 3"
   ]
  },
  {
   "cell_type": "code",
   "execution_count": 4,
   "id": "648637d6",
   "metadata": {},
   "outputs": [],
   "source": [
    "#contoh dari casting float\n",
    "\n",
    "x = float(1)     # x will be 1.0\n",
    "y = float(2.8)   # y will be 2.8\n",
    "z = float(\"3\")   # z will be 3.0\n",
    "w = float(\"4.2\") # w will be 4.2"
   ]
  },
  {
   "cell_type": "code",
   "execution_count": 5,
   "id": "b8dbd493",
   "metadata": {},
   "outputs": [],
   "source": [
    "#contoh dari casting str\n",
    "\n",
    "x = str(\"s1\") # x will be 's1'\n",
    "y = str(2)    # y will be '2'\n",
    "z = str(3.0)  # z will be '3.0'"
   ]
  },
  {
   "cell_type": "code",
   "execution_count": null,
   "id": "19ba9dee",
   "metadata": {},
   "outputs": [],
   "source": []
  }
 ],
 "metadata": {
  "kernelspec": {
   "display_name": "Python 3",
   "language": "python",
   "name": "python3"
  },
  "language_info": {
   "codemirror_mode": {
    "name": "ipython",
    "version": 3
   },
   "file_extension": ".py",
   "mimetype": "text/x-python",
   "name": "python",
   "nbconvert_exporter": "python",
   "pygments_lexer": "ipython3",
   "version": "3.8.8"
  }
 },
 "nbformat": 4,
 "nbformat_minor": 5
}
