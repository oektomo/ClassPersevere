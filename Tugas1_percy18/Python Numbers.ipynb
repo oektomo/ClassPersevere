{
 "cells": [
  {
   "cell_type": "code",
   "execution_count": 2,
   "id": "ff46401d",
   "metadata": {},
   "outputs": [
    {
     "name": "stdout",
     "output_type": "stream",
     "text": [
      "<class 'int'>\n",
      "<class 'float'>\n",
      "<class 'complex'>\n"
     ]
    }
   ],
   "source": [
    "#kita akan belajar Python Numbers\n",
    "\"\"\"\n",
    "ada beberapa tipe nomer di Python :\n",
    "int\n",
    "float\n",
    "complex\n",
    "\"\"\"\n",
    "\n",
    "x = 1    # int\n",
    "y = 2.8  # float\n",
    "z = 1j   # complex\n",
    "\n",
    "#Untuk memverifikasi jenis objek apa pun dengan Python, gunakan fungsi type()\n",
    "print(type(x))\n",
    "print(type(y))\n",
    "print(type(z))"
   ]
  },
  {
   "cell_type": "code",
   "execution_count": 5,
   "id": "7a6219a5",
   "metadata": {},
   "outputs": [
    {
     "name": "stdout",
     "output_type": "stream",
     "text": [
      "<class 'int'>\n",
      "<class 'int'>\n",
      "<class 'int'>\n"
     ]
    }
   ],
   "source": [
    "#jenis contoh tipe nomer int\n",
    "x = 1\n",
    "y = 35656222554887711\n",
    "z = -3255522\n",
    "\n",
    "print(type(x))\n",
    "print(type(y))\n",
    "print(type(z))\n",
    "#int(bilangan bulat) adalah bilangan positif atau negatif, tanpa desimal, dengan panjang tak terbatas."
   ]
  },
  {
   "cell_type": "code",
   "execution_count": 6,
   "id": "50ee6d74",
   "metadata": {},
   "outputs": [
    {
     "name": "stdout",
     "output_type": "stream",
     "text": [
      "<class 'float'>\n",
      "<class 'float'>\n",
      "<class 'float'>\n"
     ]
    }
   ],
   "source": [
    "#jenis contoh tipe nomer float\n",
    "x = 1.10\n",
    "y = 1.0\n",
    "z = -35.59\n",
    "\n",
    "print(type(x))\n",
    "print(type(y))\n",
    "print(type(z))\n",
    "#Float(angka titik mengambang) adalah angka positif atau negatif, yang mengandung satu atau lebih desimal."
   ]
  },
  {
   "cell_type": "code",
   "execution_count": 7,
   "id": "6f5ca683",
   "metadata": {},
   "outputs": [
    {
     "name": "stdout",
     "output_type": "stream",
     "text": [
      "<class 'float'>\n",
      "<class 'float'>\n",
      "<class 'float'>\n"
     ]
    }
   ],
   "source": [
    "#contoh lain dari tipe nomer float\n",
    "x = 35e3\n",
    "y = 12E4\n",
    "z = -87.7e100\n",
    "\n",
    "print(type(x))\n",
    "print(type(y))\n",
    "print(type(z))\n",
    "\n",
    "#Float juga bisa berupa angka ilmiah dengan \"e\" untuk menunjukkan kekuatan 10."
   ]
  },
  {
   "cell_type": "code",
   "execution_count": 9,
   "id": "c6c8aa09",
   "metadata": {},
   "outputs": [
    {
     "name": "stdout",
     "output_type": "stream",
     "text": [
      "<class 'complex'>\n",
      "<class 'complex'>\n",
      "<class 'complex'>\n"
     ]
    }
   ],
   "source": [
    "#jenis contoh tipe nomer complex\n",
    "x = 3+5j\n",
    "y = 5j\n",
    "z = -5j\n",
    "\n",
    "print(type(x))\n",
    "print(type(y))\n",
    "print(type(z))\n",
    "\n",
    "#Bilangan kompleks ditulis dengan \"j\" sebagai bilangan imajinasi"
   ]
  },
  {
   "cell_type": "code",
   "execution_count": 10,
   "id": "0df4de69",
   "metadata": {},
   "outputs": [
    {
     "name": "stdout",
     "output_type": "stream",
     "text": [
      "1.0\n",
      "2\n",
      "(1+0j)\n",
      "<class 'float'>\n",
      "<class 'int'>\n",
      "<class 'complex'>\n"
     ]
    }
   ],
   "source": [
    "#kita akan mencoba Type Conversion\n",
    "#apa itu Type Conversion --> Mengonversi dari satu jenis ke jenis lainnya dengan metode int(), float(), dan complex()\n",
    "x = 1    # int\n",
    "y = 2.8  # float\n",
    "z = 1j   # complex\n",
    "\n",
    "#convert from int to float:\n",
    "a = float(x)\n",
    "\n",
    "#convert from float to int:\n",
    "b = int(y)\n",
    "\n",
    "#convert from int to complex:\n",
    "c = complex(x)\n",
    "\n",
    "print(a)\n",
    "print(b)\n",
    "print(c)\n",
    "\n",
    "print(type(a))\n",
    "print(type(b))\n",
    "print(type(c))\n",
    "\n",
    "#kita tidak dapat mengubah bilangan kompleks menjadi jenis bilangan lain."
   ]
  },
  {
   "cell_type": "code",
   "execution_count": 12,
   "id": "a683c4be",
   "metadata": {},
   "outputs": [
    {
     "name": "stdout",
     "output_type": "stream",
     "text": [
      "9\n"
     ]
    }
   ],
   "source": [
    "#kita akan belajar Random Number\n",
    "import random\n",
    "\n",
    "print(random.randrange(1, 10))\n",
    "#nilai angka secara acak, dan tampilkan nomor acak antara 1 dan 9"
   ]
  },
  {
   "cell_type": "code",
   "execution_count": null,
   "id": "669e9b1b",
   "metadata": {},
   "outputs": [],
   "source": []
  }
 ],
 "metadata": {
  "kernelspec": {
   "display_name": "Python 3",
   "language": "python",
   "name": "python3"
  },
  "language_info": {
   "codemirror_mode": {
    "name": "ipython",
    "version": 3
   },
   "file_extension": ".py",
   "mimetype": "text/x-python",
   "name": "python",
   "nbconvert_exporter": "python",
   "pygments_lexer": "ipython3",
   "version": "3.8.8"
  }
 },
 "nbformat": 4,
 "nbformat_minor": 5
}
