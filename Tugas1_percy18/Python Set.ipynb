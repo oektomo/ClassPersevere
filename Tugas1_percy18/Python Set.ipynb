{
 "cells": [
  {
   "cell_type": "markdown",
   "id": "4a9e6893",
   "metadata": {},
   "source": [
    "# Python Sets"
   ]
  },
  {
   "cell_type": "markdown",
   "id": "af1a58de",
   "metadata": {},
   "source": [
    "### Set"
   ]
  },
  {
   "cell_type": "code",
   "execution_count": 1,
   "id": "93c4fb80",
   "metadata": {},
   "outputs": [],
   "source": [
    "#Set digunakan untuk menyimpan beberapa item dalam satu variabel.\n",
    "\n",
    "thisset = {\"apple\", \"banana\", \"cherry\"}\n",
    "print(thisset)"
   ]
  },
  {
   "cell_type": "markdown",
   "id": "e44e0b3d",
   "metadata": {},
   "source": [
    "### Duplicates Not Allowed"
   ]
  },
  {
   "cell_type": "code",
   "execution_count": 3,
   "id": "9c0d934d",
   "metadata": {},
   "outputs": [
    {
     "name": "stdout",
     "output_type": "stream",
     "text": [
      "{'banana', 'apple', 'cherry'}\n"
     ]
    }
   ],
   "source": [
    "#Set tidak boleh memiliki dua item dengan nilai yang sama.\n",
    "\n",
    "thisset = {\"apple\", \"banana\", \"cherry\", \"apple\"}\n",
    "print(thisset)"
   ]
  },
  {
   "cell_type": "markdown",
   "id": "ab6108ed",
   "metadata": {},
   "source": [
    "### Get the Length of a Set"
   ]
  },
  {
   "cell_type": "code",
   "execution_count": 4,
   "id": "7d7f6264",
   "metadata": {},
   "outputs": [],
   "source": [
    "#Untuk menentukan berapa banyak item yang dimiliki satu set, gunakan len() fungsi.\n",
    "\n",
    "thisset = {\"apple\", \"banana\", \"cherry\"}\n",
    "print(len(thisset))"
   ]
  },
  {
   "cell_type": "markdown",
   "id": "02556e7c",
   "metadata": {},
   "source": [
    "### Set Items - Data Types"
   ]
  },
  {
   "cell_type": "code",
   "execution_count": 5,
   "id": "8f1404a1",
   "metadata": {},
   "outputs": [
    {
     "name": "stdout",
     "output_type": "stream",
     "text": [
      "{'banana', 'apple', 'cherry'}\n",
      "{1, 3, 5, 7, 9}\n",
      "{False, True}\n"
     ]
    }
   ],
   "source": [
    "#Item yang disetel dapat berupa tipe data apa pun:\n",
    "\n",
    "set1 = {\"apple\", \"banana\", \"cherry\"}\n",
    "set2 = {1, 5, 7, 9, 3}\n",
    "set3 = {True, False, False}\n",
    "\n",
    "print(set1)\n",
    "print(set2)\n",
    "print(set3)"
   ]
  },
  {
   "cell_type": "markdown",
   "id": "de39684f",
   "metadata": {},
   "source": [
    "### type()"
   ]
  },
  {
   "cell_type": "code",
   "execution_count": 6,
   "id": "d305fde3",
   "metadata": {},
   "outputs": [
    {
     "name": "stdout",
     "output_type": "stream",
     "text": [
      "<class 'set'>\n"
     ]
    }
   ],
   "source": [
    "#Dari perspektif Python, set didefinisikan sebagai objek dengan tipe data 'set':\n",
    "\n",
    "myset = {\"apple\", \"banana\", \"cherry\"}\n",
    "print(type(myset))"
   ]
  },
  {
   "cell_type": "markdown",
   "id": "7434d5ee",
   "metadata": {},
   "source": [
    "### set() Constructor"
   ]
  },
  {
   "cell_type": "code",
   "execution_count": 8,
   "id": "1ec7fc07",
   "metadata": {},
   "outputs": [
    {
     "name": "stdout",
     "output_type": "stream",
     "text": [
      "{'banana', 'apple', 'cherry'}\n"
     ]
    }
   ],
   "source": [
    "#Dimungkinkan juga untuk menggunakan konstruktor set() untuk membuat set\n",
    "\n",
    "thisset = set((\"apple\", \"banana\", \"cherry\")) # note the double round-brackets\n",
    "print(thisset)"
   ]
  },
  {
   "cell_type": "markdown",
   "id": "81871289",
   "metadata": {},
   "source": [
    "# Access Set Items"
   ]
  },
  {
   "cell_type": "markdown",
   "id": "99da4bb0",
   "metadata": {},
   "source": [
    "### Access Items"
   ]
  },
  {
   "cell_type": "code",
   "execution_count": 9,
   "id": "a2e2bc79",
   "metadata": {},
   "outputs": [],
   "source": [
    "#Kita tidak dapat mengakses item dalam kumpulan dengan mengacu pada indeks atau kunci.\n",
    "#Tetapi kita dapat mengulang item yang disetel menggunakan (for) loop, \n",
    "#atau menanyakan apakah nilai yang ditentukan ada dalam set, dengan menggunakan (in) kata kunci.\n",
    "\n",
    "thisset = {\"apple\", \"banana\", \"cherry\"}\n",
    "\n",
    "for x in thisset:\n",
    "  print(x)"
   ]
  },
  {
   "cell_type": "markdown",
   "id": "936cf993",
   "metadata": {},
   "source": [
    "# Add Set Items"
   ]
  },
  {
   "cell_type": "markdown",
   "id": "caf0ffb5",
   "metadata": {},
   "source": [
    "### Add Items"
   ]
  },
  {
   "cell_type": "code",
   "execution_count": 11,
   "id": "da55c419",
   "metadata": {},
   "outputs": [
    {
     "name": "stdout",
     "output_type": "stream",
     "text": [
      "{'banana', 'orange', 'apple', 'cherry'}\n"
     ]
    }
   ],
   "source": [
    "#Untuk menambahkan satu item ke set, gunakan add() metode.\n",
    "\n",
    "thisset = {\"apple\", \"banana\", \"cherry\"}\n",
    "thisset.add(\"orange\")\n",
    "print(thisset)"
   ]
  },
  {
   "cell_type": "markdown",
   "id": "245bc8cc",
   "metadata": {},
   "source": [
    "### Add Sets"
   ]
  },
  {
   "cell_type": "code",
   "execution_count": 13,
   "id": "e419a094",
   "metadata": {},
   "outputs": [
    {
     "name": "stdout",
     "output_type": "stream",
     "text": [
      "{'banana', 'pineapple', 'papaya', 'apple', 'mango', 'cherry'}\n"
     ]
    }
   ],
   "source": [
    "#Untuk menambahkan item dari set lain ke set saat ini, gunakan update() metode.\n",
    "\n",
    "thisset = {\"apple\", \"banana\", \"cherry\"}\n",
    "tropical = {\"pineapple\", \"mango\", \"papaya\"}\n",
    "\n",
    "thisset.update(tropical)\n",
    "\n",
    "print(thisset)"
   ]
  },
  {
   "cell_type": "markdown",
   "id": "e9dfa3dd",
   "metadata": {},
   "source": [
    "### Add Any Iterable"
   ]
  },
  {
   "cell_type": "code",
   "execution_count": 15,
   "id": "6035f6f8",
   "metadata": {},
   "outputs": [
    {
     "name": "stdout",
     "output_type": "stream",
     "text": [
      "{'banana', 'orange', 'kiwi', 'apple', 'cherry'}\n"
     ]
    }
   ],
   "source": [
    "#Objek dalam update()metode tidak harus berupa kumpulan, dapat berupa objek yang dapat diubah (tupel, daftar, kamus, dll.).\n",
    "\n",
    "thisset = {\"apple\", \"banana\", \"cherry\"}\n",
    "mylist = [\"kiwi\", \"orange\"]\n",
    "\n",
    "thisset.update(mylist)\n",
    "\n",
    "print(thisset)"
   ]
  },
  {
   "cell_type": "markdown",
   "id": "1227135c",
   "metadata": {},
   "source": [
    "# Python - Remove Set Items"
   ]
  },
  {
   "cell_type": "markdown",
   "id": "c5e7b856",
   "metadata": {},
   "source": [
    "### Remove Item"
   ]
  },
  {
   "cell_type": "code",
   "execution_count": 17,
   "id": "ca500c5f",
   "metadata": {},
   "outputs": [
    {
     "name": "stdout",
     "output_type": "stream",
     "text": [
      "{'apple', 'cherry'}\n"
     ]
    }
   ],
   "source": [
    "#Untuk menghapus item dalam kumpulan, gunakan remove(), atau discard()metode.\n",
    "\n",
    "#Hapus \"pisang\" dengan menggunakan remove() metode:\n",
    "thisset = {\"apple\", \"banana\", \"cherry\"}\n",
    "\n",
    "thisset.remove(\"banana\")\n",
    "\n",
    "print(thisset)"
   ]
  },
  {
   "cell_type": "code",
   "execution_count": 18,
   "id": "fda7976c",
   "metadata": {},
   "outputs": [
    {
     "name": "stdout",
     "output_type": "stream",
     "text": [
      "{'apple', 'cherry'}\n"
     ]
    }
   ],
   "source": [
    "#Hapus \"pisang\" dengan menggunakan discard() metode:\n",
    "\n",
    "thisset = {\"apple\", \"banana\", \"cherry\"}\n",
    "\n",
    "thisset.discard(\"banana\")\n",
    "\n",
    "print(thisset)"
   ]
  },
  {
   "cell_type": "code",
   "execution_count": 19,
   "id": "cbf54292",
   "metadata": {},
   "outputs": [
    {
     "name": "stdout",
     "output_type": "stream",
     "text": [
      "banana\n",
      "{'apple', 'cherry'}\n"
     ]
    }
   ],
   "source": [
    "#Hapus item terakhir dengan menggunakan pop() metode:\n",
    "\n",
    "thisset = {\"apple\", \"banana\", \"cherry\"}\n",
    "\n",
    "x = thisset.pop()\n",
    "\n",
    "print(x)\n",
    "\n",
    "print(thisset)"
   ]
  },
  {
   "cell_type": "code",
   "execution_count": 20,
   "id": "0f26d1e8",
   "metadata": {},
   "outputs": [
    {
     "name": "stdout",
     "output_type": "stream",
     "text": [
      "set()\n"
     ]
    }
   ],
   "source": [
    "#Metode clear() mengosongkan set:\n",
    "\n",
    "thisset = {\"apple\", \"banana\", \"cherry\"}\n",
    "\n",
    "thisset.clear()\n",
    "\n",
    "print(thisset)"
   ]
  },
  {
   "cell_type": "code",
   "execution_count": 22,
   "id": "89d938c9",
   "metadata": {},
   "outputs": [
    {
     "ename": "NameError",
     "evalue": "name 'thisset' is not defined",
     "output_type": "error",
     "traceback": [
      "\u001b[1;31m---------------------------------------------------------------------------\u001b[0m",
      "\u001b[1;31mNameError\u001b[0m                                 Traceback (most recent call last)",
      "\u001b[1;32m~\\AppData\\Local\\Temp/ipykernel_5596/2935007715.py\u001b[0m in \u001b[0;36m<module>\u001b[1;34m\u001b[0m\n\u001b[0;32m      5\u001b[0m \u001b[1;32mdel\u001b[0m \u001b[0mthisset\u001b[0m\u001b[1;33m\u001b[0m\u001b[1;33m\u001b[0m\u001b[0m\n\u001b[0;32m      6\u001b[0m \u001b[1;33m\u001b[0m\u001b[0m\n\u001b[1;32m----> 7\u001b[1;33m \u001b[0mprint\u001b[0m\u001b[1;33m(\u001b[0m\u001b[0mthisset\u001b[0m\u001b[1;33m)\u001b[0m\u001b[1;33m\u001b[0m\u001b[1;33m\u001b[0m\u001b[0m\n\u001b[0m",
      "\u001b[1;31mNameError\u001b[0m: name 'thisset' is not defined"
     ]
    }
   ],
   "source": [
    "#Kata (del) kunci akan menghapus set sepenuhnya:\n",
    "\n",
    "thisset = {\"apple\", \"banana\", \"cherry\"}\n",
    "\n",
    "del thisset\n",
    "\n",
    "print(thisset"
   ]
  },
  {
   "cell_type": "markdown",
   "id": "aa49127d",
   "metadata": {},
   "source": [
    "# Loop Items"
   ]
  },
  {
   "cell_type": "code",
   "execution_count": 23,
   "id": "f30c8b64",
   "metadata": {},
   "outputs": [
    {
     "name": "stdout",
     "output_type": "stream",
     "text": [
      "banana\n",
      "apple\n",
      "cherry\n"
     ]
    }
   ],
   "source": [
    "#kita dapat mengulang item yang disetel dengan menggunakan for loop:\n",
    "\n",
    "thisset = {\"apple\", \"banana\", \"cherry\"}\n",
    "\n",
    "for x in thisset:\n",
    "  print(x)"
   ]
  },
  {
   "cell_type": "markdown",
   "id": "e1645ec8",
   "metadata": {},
   "source": [
    "# Python - Join Sets"
   ]
  },
  {
   "cell_type": "markdown",
   "id": "bef6f796",
   "metadata": {},
   "source": [
    "### Join Two Sets"
   ]
  },
  {
   "cell_type": "code",
   "execution_count": 25,
   "id": "0c981baf",
   "metadata": {},
   "outputs": [
    {
     "name": "stdout",
     "output_type": "stream",
     "text": [
      "{1, 2, 3, 'b', 'c', 'a'}\n"
     ]
    }
   ],
   "source": [
    "#Kita dapat menggunakan union() metode yang mengembalikan set baru yang berisi semua item dari kedua set, \n",
    "#atau update()metode yang menyisipkan semua item dari satu set ke set lainnya:\n",
    "\n",
    "set1 = {\"a\", \"b\" , \"c\"}\n",
    "set2 = {1, 2, 3}\n",
    "\n",
    "set3 = set1.union(set2)\n",
    "print(set3)"
   ]
  },
  {
   "cell_type": "markdown",
   "id": "ab2955dc",
   "metadata": {},
   "source": [
    "### Keep ONLY the Duplicates"
   ]
  },
  {
   "cell_type": "code",
   "execution_count": 27,
   "id": "b323fade",
   "metadata": {},
   "outputs": [
    {
     "name": "stdout",
     "output_type": "stream",
     "text": [
      "{'apple'}\n"
     ]
    }
   ],
   "source": [
    "#Metode intersection_update()ini hanya akan menyimpan item yang ada di kedua set.\n",
    "#Simpan item yang ada di kedua set x, dan set y:\n",
    "\n",
    "x = {\"apple\", \"banana\", \"cherry\"}\n",
    "y = {\"google\", \"microsoft\", \"apple\"}\n",
    "\n",
    "x.intersection_update(y)\n",
    "\n",
    "print(x)"
   ]
  },
  {
   "cell_type": "markdown",
   "id": "44376ca7",
   "metadata": {},
   "source": [
    "### Keep All, But NOT the Duplicates"
   ]
  },
  {
   "cell_type": "code",
   "execution_count": 29,
   "id": "d92dcbab",
   "metadata": {},
   "outputs": [
    {
     "name": "stdout",
     "output_type": "stream",
     "text": [
      "{'banana', 'google', 'microsoft', 'cherry'}\n"
     ]
    }
   ],
   "source": [
    "#Metode symmetric_difference_update()ini hanya akan menyimpan elemen yang TIDAK ada di kedua set.\n",
    "#Simpan item yang tidak ada di kedua set:\n",
    "\n",
    "x = {\"apple\", \"banana\", \"cherry\"}\n",
    "y = {\"google\", \"microsoft\", \"apple\"}\n",
    "x.symmetric_difference_update(y)\n",
    "print(x)"
   ]
  },
  {
   "cell_type": "markdown",
   "id": "f660b1e6",
   "metadata": {},
   "source": [
    "# Python - Set Methods"
   ]
  },
  {
   "cell_type": "code",
   "execution_count": null,
   "id": "2c406226",
   "metadata": {},
   "outputs": [],
   "source": [
    "#add()\tAdds an element to the set\n",
    "\n",
    "#clear()\tRemoves all the elements from the set\n",
    "\n",
    "#copy()\tReturns a copy of the set\n",
    "\n",
    "#difference()\tReturns a set containing the difference between two or more sets\n",
    "\n",
    "#difference_update()\tRemoves the items in this set that are also included in another, specified set\n",
    "\n",
    "#discard()\tRemove the specified item\n",
    "\n",
    "#intersection()\tReturns a set, that is the intersection of two other sets\n",
    "\n",
    "#intersection_update()\tRemoves the items in this set that are not present in other, specified set(s)\n",
    "\n",
    "#isdisjoint()\tReturns whether two sets have a intersection or not\n",
    "\n",
    "#issubset()\tReturns whether another set contains this set or not\n",
    "\n",
    "#issuperset()\tReturns whether this set contains another set or not\n",
    "\n",
    "#pop()\tRemoves an element from the set\n",
    "\n",
    "#remove()\tRemoves the specified element\n",
    "\n",
    "#symmetric_difference()\tReturns a set with the symmetric differences of two sets\n",
    "\n",
    "#symmetric_difference_update()\tinserts the symmetric differences from this set and another\n",
    "\n",
    "#union()\tReturn a set containing the union of sets\n",
    "\n",
    "#update()\tUpdate the set with the union of this set and others"
   ]
  }
 ],
 "metadata": {
  "kernelspec": {
   "display_name": "Python 3 (ipykernel)",
   "language": "python",
   "name": "python3"
  },
  "language_info": {
   "codemirror_mode": {
    "name": "ipython",
    "version": 3
   },
   "file_extension": ".py",
   "mimetype": "text/x-python",
   "name": "python",
   "nbconvert_exporter": "python",
   "pygments_lexer": "ipython3",
   "version": "3.9.7"
  }
 },
 "nbformat": 4,
 "nbformat_minor": 5
}
