{
 "cells": [
  {
   "cell_type": "code",
   "execution_count": 1,
   "id": "36f34d6f",
   "metadata": {},
   "outputs": [
    {
     "name": "stdout",
     "output_type": "stream",
     "text": [
      "Hello, World!\n"
     ]
    }
   ],
   "source": [
    "#Learning by Example (contoh)\n",
    "print(\"Hello, World!\")"
   ]
  },
  {
   "cell_type": "code",
   "execution_count": 2,
   "id": "74b02954",
   "metadata": {},
   "outputs": [],
   "source": [
    "#ini adalah Halaman Home dan Intro dari W3Schools\n",
    "#Kita belajar Apa itu Python?, Apa yang Python lakukan?, dan Kenapa Python?"
   ]
  },
  {
   "cell_type": "code",
   "execution_count": 9,
   "id": "76c18422",
   "metadata": {},
   "outputs": [],
   "source": [
    "#Python Getting Started\n",
    "#Installasi Python serta Versi yang digunakan, Python QuickStart, dan Menggunakan Python di cmd(Command Line)\n",
    "#Jika tidak bisa menggunakan python di PC/Laptop melalui cmd, kita bisa menggunakan py sebagai pengganti python\n",
    "#kita bisa ketik di cmd --> py helloworld.py\n",
    "#Maka hasil yang dikeluarkan adalah Hello, World!\n",
    "#Jika kita ingin exit dari cmd bisa ketik --> exit()"
   ]
  },
  {
   "cell_type": "code",
   "execution_count": null,
   "id": "e5cac8b8",
   "metadata": {},
   "outputs": [],
   "source": []
  }
 ],
 "metadata": {
  "kernelspec": {
   "display_name": "Python 3",
   "language": "python",
   "name": "python3"
  },
  "language_info": {
   "codemirror_mode": {
    "name": "ipython",
    "version": 3
   },
   "file_extension": ".py",
   "mimetype": "text/x-python",
   "name": "python",
   "nbconvert_exporter": "python",
   "pygments_lexer": "ipython3",
   "version": "3.8.8"
  }
 },
 "nbformat": 4,
 "nbformat_minor": 5
}
