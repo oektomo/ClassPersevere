{
 "cells": [
  {
   "cell_type": "code",
   "execution_count": 1,
   "id": "90d2fe35",
   "metadata": {},
   "outputs": [],
   "source": [
    "#disini kita akan belajar Python Data Types, ada beberapa tipe data yang akan kita sebutkan :\n",
    "\n",
    "#Text Type:\tstr\n",
    "#Numeric Types:\tint, float, complex\n",
    "#Sequence Types:\tlist, tuple, range\n",
    "#Mapping Type:\tdict\n",
    "#Set Types:\tset, frozenset\n",
    "#Boolean Type:\tbool\n",
    "#Binary Types:\tbytes, bytearray, memoryview"
   ]
  },
  {
   "cell_type": "code",
   "execution_count": 2,
   "id": "0ac275ef",
   "metadata": {},
   "outputs": [
    {
     "name": "stdout",
     "output_type": "stream",
     "text": [
      "<class 'int'>\n"
     ]
    }
   ],
   "source": [
    "#kita akan belajar tipe data yang akan kita pelajari yaitu Getting the Data Type \n",
    "x = 5\n",
    "print(type(x))\n",
    "#disini perintah akan mengambil sebuah class tipe data"
   ]
  },
  {
   "cell_type": "code",
   "execution_count": 6,
   "id": "cb7509cd",
   "metadata": {},
   "outputs": [
    {
     "name": "stdout",
     "output_type": "stream",
     "text": [
      "<class 'list'>\n"
     ]
    }
   ],
   "source": [
    "#kita akan belajar tipe data yang akan kita pelajari yaitu Setting the Data Type \n",
    "\"\"\"\n",
    "Contoh :\n",
    "x = \"Hello World\"\tstr\n",
    "x = 20\tint\n",
    "x = 20.5\tfloat\n",
    "x = 1j\tcomplex\n",
    "x = [\"apple\", \"banana\", \"cherry\"]\tlist\n",
    "x = (\"apple\", \"banana\", \"cherry\")\ttuple\n",
    "x = range(6)\trange\n",
    "x = {\"name\" : \"John\", \"age\" : 36}\tdict\n",
    "x = {\"apple\", \"banana\", \"cherry\"}\tset\n",
    "x = frozenset({\"apple\", \"banana\", \"cherry\"})\tfrozenset\n",
    "x = True\tbool\n",
    "x = b\"Hello\"\tbytes\n",
    "x = bytearray(5)\tbytearray\n",
    "x = memoryview(bytes(5))\tmemoryview\n",
    "\"\"\"\n",
    "#kita boleh mencoba nya jika kita ingin memakai Tipe Data itu\n",
    "#sebagai contoh :\n",
    "x = [\"apple\", \"banana\", \"cherry\"]\n",
    "print(type(x))\n",
    "#perintah tersebut akan memanggil class nya masing-masing"
   ]
  },
  {
   "cell_type": "code",
   "execution_count": 7,
   "id": "f89f1efd",
   "metadata": {},
   "outputs": [
    {
     "name": "stdout",
     "output_type": "stream",
     "text": [
      "<class 'list'>\n"
     ]
    }
   ],
   "source": [
    "#kita akan belajar tipe data yang akan kita pelajari yaitu Setting the Specific Data Type\n",
    "\"\"\"\n",
    "contoh :\n",
    "x = str(\"Hello World\")\tstr\n",
    "x = int(20)\tint\n",
    "x = float(20.5)\tfloat\n",
    "x = complex(1j)\tcomplex\n",
    "x = list((\"apple\", \"banana\", \"cherry\"))\tlist\n",
    "x = tuple((\"apple\", \"banana\", \"cherry\"))\ttuple\n",
    "x = range(6)\trange\n",
    "x = dict(name=\"John\", age=36)\tdict\n",
    "x = set((\"apple\", \"banana\", \"cherry\"))\tset\n",
    "x = frozenset((\"apple\", \"banana\", \"cherry\"))\tfrozenset\n",
    "x = bool(5)\tbool\n",
    "x = bytes(5)\tbytes\n",
    "x = bytearray(5)\tbytearray\n",
    "x = memoryview(bytes(5))\tmemoryview\n",
    "\"\"\"\n",
    "#kita boleh mencoba nya jika kita ingin memakai Tipe Data itu\n",
    "#sebagai contoh :\n",
    "x = list((\"apple\", \"banana\", \"cherry\"))\n",
    "print(type(x))\n",
    "#perintah tersebut akan memanggil class nya masing-masing"
   ]
  },
  {
   "cell_type": "code",
   "execution_count": null,
   "id": "44c79723",
   "metadata": {},
   "outputs": [],
   "source": []
  }
 ],
 "metadata": {
  "kernelspec": {
   "display_name": "Python 3",
   "language": "python",
   "name": "python3"
  },
  "language_info": {
   "codemirror_mode": {
    "name": "ipython",
    "version": 3
   },
   "file_extension": ".py",
   "mimetype": "text/x-python",
   "name": "python",
   "nbconvert_exporter": "python",
   "pygments_lexer": "ipython3",
   "version": "3.8.8"
  }
 },
 "nbformat": 4,
 "nbformat_minor": 5
}
