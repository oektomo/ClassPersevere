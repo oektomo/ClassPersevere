{
 "cells": [
  {
   "cell_type": "code",
   "execution_count": 2,
   "id": "951156ad",
   "metadata": {},
   "outputs": [
    {
     "name": "stdout",
     "output_type": "stream",
     "text": [
      "Hello, World!\n"
     ]
    }
   ],
   "source": [
    "#Untuk menjalankan sintaks python, kita bisa menggunakan cmd (Command Line)\n",
    "print(\"Hello, World!\")\n",
    "#Jika sudah begini, kita panggil data tersebut dengan mengetik di cmd -->py namafile.py"
   ]
  },
  {
   "cell_type": "code",
   "execution_count": 3,
   "id": "bb5b4171",
   "metadata": {},
   "outputs": [
    {
     "name": "stdout",
     "output_type": "stream",
     "text": [
      "Five is greater than two!\n"
     ]
    }
   ],
   "source": [
    "#Disini kita belajar Identifikasi Python pada sintaks yang dipelajari hari ini\n",
    "if 5 > 2:\n",
    "  print(\"Five is greater than two!\")\n",
    "#karena dijupyter tidak terjadi error, maka itu di cmd akan ada perintah error sintaks"
   ]
  },
  {
   "cell_type": "code",
   "execution_count": 4,
   "id": "d53aebb8",
   "metadata": {},
   "outputs": [
    {
     "name": "stdout",
     "output_type": "stream",
     "text": [
      "Five is greater than two!\n",
      "Five is greater than two!\n"
     ]
    }
   ],
   "source": [
    "if 5 > 2:\n",
    " print(\"Five is greater than two!\") \n",
    "if 5 > 2:\n",
    "        print(\"Five is greater than two!\") \n",
    "#Identifikasi python disini pun tidak terjadi masalah error sintaks maka itu di cmd akan ada perintah error sintaks        "
   ]
  },
  {
   "cell_type": "code",
   "execution_count": 6,
   "id": "ef1a7e4f",
   "metadata": {},
   "outputs": [
    {
     "ename": "IndentationError",
     "evalue": "unexpected indent (<ipython-input-6-80529cc1ab9c>, line 3)",
     "output_type": "error",
     "traceback": [
      "\u001b[1;36m  File \u001b[1;32m\"<ipython-input-6-80529cc1ab9c>\"\u001b[1;36m, line \u001b[1;32m3\u001b[0m\n\u001b[1;33m    print(\"Five is greater than two!\")\u001b[0m\n\u001b[1;37m    ^\u001b[0m\n\u001b[1;31mIndentationError\u001b[0m\u001b[1;31m:\u001b[0m unexpected indent\n"
     ]
    }
   ],
   "source": [
    "if 5 > 2:\n",
    " print(\"Five is greater than two!\")\n",
    "        print(\"Five is greater than two!\")\n",
    "#identifikasi python disini terjadi sintaks error maka itu di cmd tidak akan terjadi error sintaks    "
   ]
  },
  {
   "cell_type": "code",
   "execution_count": 8,
   "id": "af523cf2",
   "metadata": {},
   "outputs": [],
   "source": [
    "#kita akan belajar variabel python\n",
    "x = 5\n",
    "y = \"Hello, World!\"\n",
    "#disini tidak memiliki perintah untuk mendeklarasi variabel"
   ]
  },
  {
   "cell_type": "code",
   "execution_count": 2,
   "id": "552d4a10",
   "metadata": {},
   "outputs": [
    {
     "name": "stdout",
     "output_type": "stream",
     "text": [
      "Hello, World!\n"
     ]
    }
   ],
   "source": [
    "#This is a comment.\n",
    "print(\"Hello, World!\")\n",
    "#untuk tanda pagar kita bisa memberi komentar"
   ]
  },
  {
   "cell_type": "code",
   "execution_count": null,
   "id": "c7928f29",
   "metadata": {},
   "outputs": [],
   "source": []
  }
 ],
 "metadata": {
  "kernelspec": {
   "display_name": "Python 3",
   "language": "python",
   "name": "python3"
  },
  "language_info": {
   "codemirror_mode": {
    "name": "ipython",
    "version": 3
   },
   "file_extension": ".py",
   "mimetype": "text/x-python",
   "name": "python",
   "nbconvert_exporter": "python",
   "pygments_lexer": "ipython3",
   "version": "3.8.8"
  }
 },
 "nbformat": 4,
 "nbformat_minor": 5
}
